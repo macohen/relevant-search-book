{
 "cells": [
  {
   "cell_type": "code",
   "execution_count": 61,
   "id": "edbb8cf1",
   "metadata": {},
   "outputs": [],
   "source": [
    "import requests\n",
    "import json\n",
    "\n",
    "\n",
    "# Optional, enable client-side caching for TMDB\n",
    "# Requires: https://httpcache.readthedocs.org/en/latest/\n",
    "#from httpcache import CachingHTTPAdapter\n",
    "#tmdb_api.mount('https://', CachingHTTPAdapter())\n",
    "#tmdb_api.mount('http://', CachingHTTPAdapter())\n",
    "\n",
    "# Some utilities for flattening the explain into something a bit more\n",
    "# readable. Pass Explain JSON, get something readable (ironically this is what Solr's default output is :-p)\n",
    "def flatten(l):\n",
    "    [item for sublist in l for item in sublist]\n",
    "\n",
    "def simplerExplain(explainJson, depth=0):\n",
    "    result = \" \" * (depth * 2) + \"%s, %s\\n\" % (explainJson['value'], explainJson['description'])\n",
    "    #print json.dumps(explainJson, indent=True)\n",
    "    if 'details' in explainJson:\n",
    "        for detail in explainJson['details']:\n",
    "            result += simplerExplain(detail, depth=depth+1)\n",
    "    return result"
   ]
  },
  {
   "cell_type": "code",
   "execution_count": 62,
   "id": "7cfc3c21",
   "metadata": {},
   "outputs": [],
   "source": [
    "from opensearchpy import OpenSearch\n",
    "import json\n",
    "\n",
    "\n",
    "\n",
    "# Optional, enable client-side caching for TMDB\n",
    "# Requires: https://httpcache.readthedocs.org/en/latest/\n",
    "#from httpcache import CachingHTTPAdapter\n",
    "#tmdb_api.mount('https://', CachingHTTPAdapter())\n",
    "#tmdb_api.mount('http://', CachingHTTPAdapter())\n",
    "\n",
    "# Some utilities for flattening the explain into something a bit more\n",
    "# readable. Pass Explain JSON, get something readable (ironically this is what Solr's default output is :-p)\n",
    "def flatten(l):\n",
    "    [item for sublist in l for item in sublist]\n",
    "\n",
    "def simplerExplain(explainJson, depth=0):\n",
    "    result = \" \" * (depth * 2) + \"%s, %s\\n\" % (explainJson['value'], explainJson['description'])\n",
    "    #print json.dumps(explainJson, indent=True)\n",
    "    if 'details' in explainJson:\n",
    "        for detail in explainJson['details']:\n",
    "            result += simplerExplain(detail, depth=depth+1)\n",
    "    return result"
   ]
  },
  {
   "cell_type": "code",
   "execution_count": 63,
   "id": "1ac5105b",
   "metadata": {},
   "outputs": [
    {
     "name": "stdout",
     "output_type": "stream",
     "text": [
      "Requirement already satisfied: opensearch-dsl in /Library/Frameworks/Python.framework/Versions/3.10/lib/python3.10/site-packages (2.0.1)\n",
      "Requirement already satisfied: opensearch-py>=2.0.0 in /Library/Frameworks/Python.framework/Versions/3.10/lib/python3.10/site-packages (from opensearch-dsl) (2.0.0)\n",
      "Requirement already satisfied: six in /Library/Frameworks/Python.framework/Versions/3.10/lib/python3.10/site-packages (from opensearch-dsl) (1.16.0)\n",
      "Requirement already satisfied: python-dateutil in /Library/Frameworks/Python.framework/Versions/3.10/lib/python3.10/site-packages (from opensearch-dsl) (2.8.2)\n",
      "Requirement already satisfied: certifi in /Library/Frameworks/Python.framework/Versions/3.10/lib/python3.10/site-packages (from opensearch-py>=2.0.0->opensearch-dsl) (2022.6.15)\n",
      "Requirement already satisfied: requests<3.0.0,>=2.4.0 in /Library/Frameworks/Python.framework/Versions/3.10/lib/python3.10/site-packages (from opensearch-py>=2.0.0->opensearch-dsl) (2.28.0)\n",
      "Requirement already satisfied: urllib3<2,>=1.21.1 in /Library/Frameworks/Python.framework/Versions/3.10/lib/python3.10/site-packages (from opensearch-py>=2.0.0->opensearch-dsl) (1.26.9)\n",
      "Requirement already satisfied: idna<4,>=2.5 in /Library/Frameworks/Python.framework/Versions/3.10/lib/python3.10/site-packages (from requests<3.0.0,>=2.4.0->opensearch-py>=2.0.0->opensearch-dsl) (3.3)\n",
      "Requirement already satisfied: charset-normalizer~=2.0.0 in /Library/Frameworks/Python.framework/Versions/3.10/lib/python3.10/site-packages (from requests<3.0.0,>=2.4.0->opensearch-py>=2.0.0->opensearch-dsl) (2.0.12)\n"
     ]
    }
   ],
   "source": [
    "import sys\n",
    "!{sys.executable} -m pip install opensearch-dsl"
   ]
  },
  {
   "cell_type": "code",
   "execution_count": 64,
   "id": "4b6c017e",
   "metadata": {},
   "outputs": [],
   "source": [
    "from opensearchpy import OpenSearch\n",
    "from opensearch_dsl import Search\n",
    "import json"
   ]
  },
  {
   "cell_type": "code",
   "execution_count": 65,
   "id": "80ec8e83",
   "metadata": {},
   "outputs": [],
   "source": [
    "def extract():\n",
    "    f = open('tmdb.json')\n",
    "    if f:\n",
    "         return json.loads(f.read());        \n",
    "    return {}"
   ]
  },
  {
   "cell_type": "code",
   "execution_count": 66,
   "id": "963119d1",
   "metadata": {},
   "outputs": [],
   "source": [
    "client = OpenSearch(\n",
    "    hosts = [{'host': 'localhost', 'port': 9200}],\n",
    "    http_compress = True,\n",
    "    http_auth = ('admin','admin'),\n",
    "    use_ssl = False\n",
    ")"
   ]
  },
  {
   "cell_type": "code",
   "execution_count": null,
   "id": "49861f64",
   "metadata": {},
   "outputs": [],
   "source": []
  },
  {
   "cell_type": "code",
   "execution_count": 67,
   "id": "9191d87c",
   "metadata": {},
   "outputs": [],
   "source": [
    "def reindex(client: OpenSearch, analysisSettings={}, mappingSettings={}, movieDict={}):\n",
    "    settings = { #A\n",
    "        \"settings\": {\n",
    "            \"number_of_shards\": 1, #B\n",
    "            \"number_of_replicas\": 1\n",
    "        }}\n",
    "\n",
    "    if mappingSettings:\n",
    "        settings['mappings'] = mappingSettings #C\n",
    "    \n",
    "    resp = client.indices.delete(\"tmdb\")\n",
    "    resp = client.indices.create(\"tmdb\") \n",
    "\n",
    "    bulkMovies = \"\"\n",
    "    print(\"building...\")\n",
    "    for id, movie in movieDict.items(): \n",
    "        addCmd = {\"index\": {\"_index\": \"tmdb\", #E\n",
    "                            \"_id\": movie[\"id\"]}}\n",
    "        bulkMovies += json.dumps(addCmd) + \"\\n\" + json.dumps(movie) + \"\\n\"\n",
    "\n",
    "    print(\"indexing...\")\n",
    "    resp = client.bulk(index='tmdb', body=bulkMovies)\n"
   ]
  },
  {
   "cell_type": "code",
   "execution_count": 68,
   "id": "2008161c",
   "metadata": {},
   "outputs": [],
   "source": [
    "movieDict = extract()\n",
    "#movieDict"
   ]
  },
  {
   "cell_type": "code",
   "execution_count": 89,
   "id": "019430b0",
   "metadata": {},
   "outputs": [
    {
     "name": "stdout",
     "output_type": "stream",
     "text": [
      "building...\n",
      "indexing...\n"
     ]
    }
   ],
   "source": [
    "reindex(client, movieDict=movieDict)"
   ]
  },
  {
   "cell_type": "markdown",
   "id": "4cfffe16",
   "metadata": {},
   "source": [
    "# 3.2.3 Basic Searching"
   ]
  },
  {
   "cell_type": "code",
   "execution_count": 109,
   "id": "a42efaa6-6cf3-43c0-8ef5-5c5210d0fef7",
   "metadata": {
    "tags": []
   },
   "outputs": [],
   "source": [
    "def print_results_table(searchHits):\n",
    "    print(\"Num\\tRelevance Score\\t\\tMovie Title\\tOverview\") #B\n",
    "    idx = 0 \n",
    "    for hit in searchHits['hits']: \n",
    "        idx = idx + 1\n",
    "        score = hit['_score']\n",
    "        print(f\"{idx}\\t{score}\\t{hit['_source']['title']}\\t{hit['_source']['overview']}\")"
   ]
  },
  {
   "cell_type": "code",
   "execution_count": 91,
   "id": "498cccd1",
   "metadata": {},
   "outputs": [],
   "source": [
    "def search(client: OpenSearch, query, explain=False):\n",
    "    resp = client.search(body=query,\n",
    "                        index = 'tmdb',\n",
    "                        explain=explain)\n",
    "    \n",
    "    searchHits = resp['hits']\n",
    "    return searchHits\n",
    "\n",
    "\n",
    "\n"
   ]
  },
  {
   "cell_type": "code",
   "execution_count": 136,
   "id": "b4852a2a",
   "metadata": {},
   "outputs": [
    {
     "name": "stdout",
     "output_type": "stream",
     "text": [
      "Num\tRelevance Score\t\tMovie Title\tOverview\n",
      "1\t59.898502\tAliens\tWhen Ripley's lifepod is found by a salvage crew over 50 years later, she finds that terra-formers are on the very planet they found the alien species. When the company sends a family of colonists out to investigate her story... all contact is lost with the planet and colonists. They enlist Ripley and the colonial marines to return and search for answers.\n",
      "2\t51.597538\tThe Basketball Diaries\tFilm adaptation of street tough Jim Carroll's epistle about his kaleidoscopic free fall into the harrowing world of drug addiction.\n",
      "3\t49.924137\tCowboys & Aliens\tA stranger stumbles into the desert town of Absolution with no memory of his past and a futuristic shackle around his wrist. With the help of mysterious beauty Ella and the iron-fisted Colonel Dolarhyde, he finds himself leading an unlikely posse of cowboys, outlaws, and Apache warriors against a common enemy from beyond this world in an epic showdown for survival.\n",
      "4\t42.797455\tMonsters vs Aliens\tWhen Susan Murphy is unwittingly clobbered by a meteor full of outer space gunk on her wedding day, she mysteriously grows to 49-feet-11-inches. The military jumps into action and captures Susan, secreting her away to a covert government compound. She is renamed Ginormica and placed in confinement with a ragtag group of Monsters...\n",
      "5\t37.451275\tAliens vs Predator: Requiem\tA sequel to 2004's Alien vs. Predator, the iconic creatures from two of the scariest film franchises in movie history wage their most brutal battle ever - in our own backyard. The small town of Gunnison, Colorado becomes a war zone between two of the deadliest extra-terrestrial life forms - the Alien and the Predator. When a Predator scout ship crash-lands in the hills outside the town, Alien Facehuggers and a hybrid Alien/Predator are released and begin to terrorize the town.\n",
      "6\t37.451275\tAliens in the Attic\tIt's summer vacation, but the Pearson family kids are stuck at a boring lake house with their nerdy parents. That is until feisty, little, green aliens crash-land on the roof, with plans to conquer the house AND Earth! Using only their wits, courage and video game-playing skills, the youngsters must band together to defeat the aliens and save the world - but the toughest part might be keeping the whole thing a secret from their parents! Featuring an all-star cast including Ashley Tisdale, Andy Richter, Kevin Nealon, Tim Meadows and Doris Roberts, Aliens In The Attic is the most fun you can have on this planet!\n",
      "7\t35.99148\tSpace Jam\tMichael Jordan agrees to help the Looney Tunes play a basketball game against alien slavers to determine their freedom.\n",
      "8\t31.654766\tDances with Wolves\tWounded Civil War soldier John Dunbar tries to commit suicide -- and becomes a hero instead. As a reward, he's assigned to his dream post, a remote junction on the Western frontier, and soon makes unlikely friends with the local Sioux tribe.\n",
      "9\t31.654766\tFriends with Benefits\tWhile trying to avoid the clichés of Hollywood romantic comedies, Dylan and Jamie soon discover however that adding the act of sex to their friendship does lead to complications.\n",
      "10\t31.654766\tFire with Fire\tA fireman takes an unexpected course of action when a man whom he's been ordered to testify against, after being held up at a local convenience store, threatens him.\n"
     ]
    }
   ],
   "source": [
    "usersSearch = 'basketball with cartoon aliens'\n",
    "query = {\n",
    "   \"query\" : {\n",
    "      \"multi_match\" : {\n",
    "         \"query\": usersSearch,\n",
    "         \"fields\": [\"title^10\",\"overview\"]\n",
    "      }\n",
    "   },\n",
    "   \"rescore\" : {\n",
    "      \"window_size\" : 50,\n",
    "      \"query\" : {\n",
    "         \"rescore_query\" : {\n",
    "            \"match_phrase\" : {\n",
    "               \"overview\" : {\n",
    "                  \"query\" : \"michael jordan\",\n",
    "                  \"slop\" : 2\n",
    "               }\n",
    "            }\n",
    "         },\n",
    "         \"query_weight\" : 0.7,\n",
    "         \"rescore_query_weight\" : 2.1\n",
    "      }\n",
    "   }\n",
    "}\n",
    "\n",
    "    \n",
    "print_results_table(search(client, query))\n",
    "\n"
   ]
  },
  {
   "cell_type": "code",
   "execution_count": 21,
   "id": "72902cef-fa10-4653-8c07-af4b78e5a39a",
   "metadata": {},
   "outputs": [
    {
     "name": "stdout",
     "output_type": "stream",
     "text": [
      "Num\tRelevance Score\t\tMovie Title\t\n",
      "1\t85.56929\tAliens\t\n",
      "2\t73.71077\tThe Basketball Diaries\t\n",
      "3\t71.3202\tCowboys & Aliens\t\n",
      "4\t61.13922\tMonsters vs Aliens\t\n",
      "5\t53.501823\tAliens vs Predator: Requiem\t\n",
      "6\t53.501823\tAliens in the Attic\t\n",
      "7\t45.221096\tDances with Wolves\t\n",
      "8\t45.221096\tFriends with Benefits\t\n",
      "9\t45.221096\tFire with Fire\t\n",
      "10\t45.221096\tFriends with Kids\t\n",
      "11\t39.572163\tInterview with the Vampire\t\n",
      "12\t39.572163\tFrom Russia With Love\t\n",
      "13\t39.572163\tGone with the Wind\t\n",
      "14\t39.572163\tJust Go With It\t\n",
      "15\t39.572163\tMy Week with Marilyn\t\n",
      "16\t39.572163\tFrom Paris with Love\t\n",
      "17\t39.572163\tTrouble with the Curve\t\n",
      "18\t39.572163\tSleeping with the Enemy\t\n",
      "19\t39.572163\tHobo with a Shotgun\t\n",
      "20\t39.572163\tTo Rome with Love\t\n",
      "21\t35.17782\tDie Hard: With a Vengeance\t\n",
      "22\t35.17782\tGirl with a Pearl Earring\t\n",
      "23\t35.17782\tFun with Dick and Jane\t\n",
      "24\t31.661873\tThe Girl with the Dragon Tattoo\t\n",
      "25\t31.661873\tThe Life Aquatic With Steve Zissou\t\n",
      "26\t31.661873\tTwin Peaks: Fire Walk with Me\t\n",
      "27\t31.661873\tYou Don't Mess With the Zohan\t\n",
      "28\t31.661873\tThe Man with the Golden Gun\t\n",
      "29\t31.661873\tCloudy with a Chance of Meatballs\t\n",
      "30\t31.661873\tThe Girl with the Dragon Tattoo\t\n",
      "31\t31.661873\tThe Man with the Iron Fists\t\n",
      "32\t31.661873\tThe Girl Who Played with Fire\t\n",
      "33\t28.784897\tCloudy with a Chance of Meatballs 2\t\n",
      "34\t28.784897\tThe Pirates! In an Adventure with Scientists!\t\n",
      "35\t9.305035\tMeet Dave\t\n",
      "36\t8.257416\tSpeed Racer\t\n",
      "37\t7.975379\tSpace Jam\t\n",
      "38\t7.7324815\tGrown Ups\t\n",
      "39\t7.505871\tSemi-Pro\t\n",
      "40\t7.3902683\tThe Flintstones\t\n",
      "41\t7.219441\tCoach Carter\t\n",
      "42\t6.7105947\tWhite Men Can't Jump\t\n",
      "43\t6.6692567\tAlien: Resurrection\t\n",
      "44\t6.531829\tTeen Wolf\t\n",
      "45\t6.5275307\tDistrict 9\t\n",
      "46\t6.4917965\tBedazzled\t\n",
      "47\t6.458376\tThe Watch\t\n",
      "48\t6.1556296\tGalaxy Quest\t\n",
      "49\t5.746967\tBatteries Not Included\t\n",
      "50\t5.5015993\tThey Live\t\n",
      "51\t5.3065963\tPitch Black\t\n",
      "52\t5.129005\tHigh School Musical\t\n",
      "53\t5.0733447\tAVP: Alien vs. Predator\t\n",
      "54\t4.9289107\tDude, Where’s My Car?\t\n",
      "55\t4.87677\tMen in Black 3\t\n",
      "56\t4.792473\tBattlefield Earth\t\n",
      "57\t4.792473\tCocoon\t\n",
      "58\t1.6364226\tDark City\t\n",
      "59\t1.6025233\tSex Drive\t\n",
      "60\t1.5944989\tThe Switch\t\n",
      "61\t1.5944989\tCarrie\t\n",
      "62\t1.5821548\tNim's Island\t\n",
      "63\t1.5821548\tBride of Chucky\t\n",
      "64\t1.5821548\tYoung Adult\t\n",
      "65\t1.5721633\tWhite Noise\t\n",
      "66\t1.5721633\tThe Guard\t\n",
      "67\t1.5721633\tOdd Thomas\t\n",
      "68\t1.5704502\tFrida\t\n",
      "69\t1.5546696\tGuess Who\t\n",
      "70\t1.5525544\tSilver Linings Playbook\t\n",
      "71\t1.5429322\tCinema Paradiso\t\n",
      "72\t1.5292041\tThe Man in the Iron Mask\t\n",
      "73\t1.5240412\tStrangers on a Train\t\n",
      "74\t1.5240412\t[REC]²\t\n",
      "75\t1.5240412\tWild Card\t\n",
      "76\t1.5240412\tSafe Haven\t\n",
      "77\t1.5056071\tStep Up Revolution\t\n",
      "78\t1.5045594\tGhosts of Girlfriends Past\t\n",
      "79\t1.4965564\tMy Big Fat Greek Wedding\t\n",
      "80\t1.4965564\t27 Dresses\t\n",
      "81\t1.4925325\tLethal Weapon\t\n",
      "82\t1.4925325\tArmored\t\n",
      "83\t1.4787775\tVicky Cristina Barcelona\t\n",
      "84\t1.4690466\tGarden State\t\n",
      "85\t1.4690466\tMary Poppins\t\n",
      "86\t1.4690466\tThe Ant Bully\t\n",
      "87\t1.4690466\tDays of Thunder\t\n",
      "88\t1.4690466\tRush Hour 3\t\n",
      "89\t1.461416\t8½\t\n",
      "90\t1.461416\tFantastic Mr. Fox\t\n",
      "91\t1.461416\tThe Spiderwick Chronicles\t\n",
      "92\t1.4599357\tJustice League: Throne of Atlantis\t\n",
      "93\t1.4528873\tJust Friends\t\n",
      "94\t1.4528873\tStuart Little\t\n",
      "95\t1.4462883\tJersey Girl\t\n",
      "96\t1.4462883\tMatilda\t\n",
      "97\t1.4444575\tSubmarine\t\n",
      "98\t1.4361249\tOutlander\t\n",
      "99\t1.4361249\tStoker\t\n",
      "100\t1.4361249\tMesrine: Killer Instinct\t\n"
     ]
    }
   ],
   "source": [
    "usersSearch = 'basketball with cartoon aliens'\n",
    "query = {\n",
    "    'query': {\n",
    "        'multi_match': { \n",
    "            'query': usersSearch, #A\n",
    "            'fields': ['title^10', 'overview'], #B\n",
    "        },\n",
    "    },\n",
    "    'size': '100'\n",
    "}\n",
    "print_results_table(search(client, query))\n"
   ]
  },
  {
   "cell_type": "markdown",
   "id": "648225ef",
   "metadata": {},
   "source": [
    "# 2.3.1 Query Validation API"
   ]
  },
  {
   "cell_type": "code",
   "execution_count": 22,
   "id": "1e2cfc82",
   "metadata": {},
   "outputs": [
    {
     "data": {
      "application/json": {
       "hits": [
        {
         "_explanation": {
          "description": "max of:",
          "details": [
           {
            "description": "sum of:",
            "details": [
             {
              "description": "weight(overview:with in 454) [PerFieldSimilarity], result of:",
              "details": [
               {
                "description": "score(freq=1.0), computed as boost * idf * tf from:",
                "details": [
                 {
                  "description": "boost",
                  "details": [],
                  "value": 2.2
                 },
                 {
                  "description": "idf, computed as log(1 + (N - n + 0.5) / (n + 0.5)) from:",
                  "details": [
                   {
                    "description": "n, number of documents containing term",
                    "details": [],
                    "value": 1166
                   },
                   {
                    "description": "N, total number of documents with field",
                    "details": [],
                    "value": 3050
                   }
                  ],
                  "value": 0.9614616
                 },
                 {
                  "description": "tf, computed as freq / (freq + k1 * (1 - b + b * dl / avgdl)) from:",
                  "details": [
                   {
                    "description": "freq, occurrences of term within document",
                    "details": [],
                    "value": 1
                   },
                   {
                    "description": "k1, term saturation parameter",
                    "details": [],
                    "value": 1.2
                   },
                   {
                    "description": "b, length normalization parameter",
                    "details": [],
                    "value": 0.75
                   },
                   {
                    "description": "dl, length of field (approximate)",
                    "details": [],
                    "value": 60
                   },
                   {
                    "description": "avgdl, average length of field",
                    "details": [],
                    "value": 52.963608
                   }
                  ],
                  "value": 0.43111473
                 }
                ],
                "value": 0.91190064
               }
              ],
              "value": 0.91190064
             }
            ],
            "value": 0.91190064
           },
           {
            "description": "sum of:",
            "details": [
             {
              "description": "weight(title:aliens in 454) [PerFieldSimilarity], result of:",
              "details": [
               {
                "description": "score(freq=1.0), computed as boost * idf * tf from:",
                "details": [
                 {
                  "description": "boost",
                  "details": [],
                  "value": 22
                 },
                 {
                  "description": "idf, computed as log(1 + (N - n + 0.5) / (n + 0.5)) from:",
                  "details": [
                   {
                    "description": "n, number of documents containing term",
                    "details": [],
                    "value": 5
                   },
                   {
                    "description": "N, total number of documents with field",
                    "details": [],
                    "value": 3051
                   }
                  ],
                  "value": 6.3188043
                 },
                 {
                  "description": "tf, computed as freq / (freq + k1 * (1 - b + b * dl / avgdl)) from:",
                  "details": [
                   {
                    "description": "freq, occurrences of term within document",
                    "details": [],
                    "value": 1
                   },
                   {
                    "description": "k1, term saturation parameter",
                    "details": [],
                    "value": 1.2
                   },
                   {
                    "description": "b, length normalization parameter",
                    "details": [],
                    "value": 0.75
                   },
                   {
                    "description": "dl, length of field",
                    "details": [],
                    "value": 1
                   },
                   {
                    "description": "avgdl, average length of field",
                    "details": [],
                    "value": 2.7728612
                   }
                  ],
                  "value": 0.61554575
                 }
                ],
                "value": 85.56929
               }
              ],
              "value": 85.56929
             }
            ],
            "value": 85.56929
           }
          ],
          "value": 85.56929
         },
         "_id": "679",
         "_index": "tmdb",
         "_node": "-kNFzu7pTXOPQnna6Gk3ag",
         "_score": 85.56929,
         "_shard": "[tmdb][0]",
         "_source": {
          "adult": false,
          "backdrop_path": "/tgXaHtpmxj4SkMxBTi1Desl6Mc6.jpg",
          "belongs_to_collection": {
           "backdrop_path": "/52Lhwd7srnktMFDYkfhtMoZdabT.jpg",
           "id": 8091,
           "name": "Alien Collection",
           "poster_path": "/iVzIeC3PbG9BtDAudpwSNdKAgh6.jpg"
          },
          "budget": 18500000,
          "cast": [
           {
            "cast_id": 21,
            "character": "Lieutenant Ellen Ripley",
            "credit_id": "52fe4269c3a36847f801c9bf",
            "id": 10205,
            "name": "Sigourney Weaver",
            "order": 0,
            "profile_path": "/pYtEkU8VOP0pS2gC1iD2Vuesgyj.jpg"
           },
           {
            "cast_id": 22,
            "character": "Rebecca \"Newt\" Jorden",
            "credit_id": "52fe4269c3a36847f801c9c3",
            "id": 10206,
            "name": "Carrie Henn",
            "order": 1,
            "profile_path": "/6MrxgxZoiUDA8k0GUwLuBcXN03B.jpg"
           },
           {
            "cast_id": 23,
            "character": "Corporal Dwayne Hicks",
            "credit_id": "52fe4269c3a36847f801c9c7",
            "id": 2712,
            "name": "Michael Biehn",
            "order": 2,
            "profile_path": "/uZvJIfVirbv32OK4nba5bMZ6t9G.jpg"
           },
           {
            "cast_id": 24,
            "character": "L. Bishop",
            "credit_id": "52fe4269c3a36847f801c9cb",
            "id": 2714,
            "name": "Lance Henriksen",
            "order": 3,
            "profile_path": "/wf4Pr9RxsHGd0O9fLPiB3Al8IVC.jpg"
           },
           {
            "cast_id": 25,
            "character": "Carter J. Burke",
            "credit_id": "52fe4269c3a36847f801c9cf",
            "id": 781,
            "name": "Paul Reiser",
            "order": 4,
            "profile_path": "/fr53dQQrDGfETgbliCktwKqteRU.jpg"
           },
           {
            "cast_id": 26,
            "character": "Private W. Hudson",
            "credit_id": "52fe4269c3a36847f801c9d3",
            "id": 2053,
            "name": "Bill Paxton",
            "order": 5,
            "profile_path": "/53Ln1wTC0OCLzBF4HNlwhMXYgOU.jpg"
           },
           {
            "cast_id": 27,
            "character": "Lieutenant S. Gorman",
            "credit_id": "52fe4269c3a36847f801c9d7",
            "id": 10207,
            "name": "William Hope",
            "order": 6,
            "profile_path": "/46N4dSYShHnRTcbqD7Fzfjnmvvq.jpg"
           },
           {
            "cast_id": 28,
            "character": "Private J. Vasquez",
            "credit_id": "52fe4269c3a36847f801c9db",
            "id": 3981,
            "name": "Jenette Goldstein",
            "order": 7,
            "profile_path": "/wCcO7cqHJVtnfRlvAJvo7jKd6Bq.jpg"
           },
           {
            "cast_id": 29,
            "character": "Sergeant A. Apone",
            "credit_id": "52fe4269c3a36847f801c9df",
            "id": 10208,
            "name": "Al Matthews",
            "order": 8,
            "profile_path": null
           },
           {
            "cast_id": 30,
            "character": "Private M. Drake",
            "credit_id": "52fe4269c3a36847f801c9e3",
            "id": 6576,
            "name": "Mark Rolston",
            "order": 9,
            "profile_path": "/bsh3cqDNwVvux4NdaY1Bj4S7mNS.jpg"
           },
           {
            "cast_id": 31,
            "character": "Corporal C. Ferro",
            "credit_id": "52fe4269c3a36847f801c9e7",
            "id": 10209,
            "name": "Colette Hiller",
            "order": 10,
            "profile_path": null
           },
           {
            "cast_id": 32,
            "character": "Private D. Spunkmeyer",
            "credit_id": "52fe4269c3a36847f801c9eb",
            "id": 10210,
            "name": "Daniel Kash",
            "order": 11,
            "profile_path": "/b6lvtpkTRHHcv4YMW3FnGRtyXJ4.jpg"
           },
           {
            "cast_id": 33,
            "character": "Corporal C. Dietrich",
            "credit_id": "52fe4269c3a36847f801c9ef",
            "id": 10211,
            "name": "Cynthia Dale Scott",
            "order": 12,
            "profile_path": "/cBrZS9bmSrRclBVHG6QeSuUj1Q9.jpg"
           },
           {
            "cast_id": 34,
            "character": "Private R. Frost",
            "credit_id": "52fe4269c3a36847f801c9f3",
            "id": 10212,
            "name": "Ricco Ross",
            "order": 13,
            "profile_path": "/ep1gfuShCdZghxBGBtNWhWTxWpp.jpg"
           },
           {
            "cast_id": 35,
            "character": "Private T. Crowe",
            "credit_id": "52fe4269c3a36847f801c9f7",
            "id": 10213,
            "name": "Tip Tipping",
            "order": 14,
            "profile_path": null
           }
          ],
          "directors": [
           {
            "credit_id": "52fe4269c3a36847f801c94f",
            "department": "Directing",
            "id": 2710,
            "job": "Director",
            "name": "James Cameron",
            "profile_path": "/6Zk8h1XsPGKUM8M8cKUHAnmnc8O.jpg"
           }
          ],
          "genres": [
           {
            "id": 28,
            "name": "Action"
           },
           {
            "id": 27,
            "name": "Horror"
           },
           {
            "id": 878,
            "name": "Science Fiction"
           },
           {
            "id": 53,
            "name": "Thriller"
           }
          ],
          "homepage": "",
          "id": 679,
          "imdb_id": "tt0090605",
          "original_language": "en",
          "original_title": "Aliens",
          "overview": "When Ripley's lifepod is found by a salvage crew over 50 years later, she finds that terra-formers are on the very planet they found the alien species. When the company sends a family of colonists out to investigate her story... all contact is lost with the planet and colonists. They enlist Ripley and the colonial marines to return and search for answers.",
          "popularity": 1.89115344020609,
          "poster_path": "/nORMXEkYEbzkU5WkMWMgRDJwjSZ.jpg",
          "production_companies": [
           {
            "id": 306,
            "name": "Twentieth Century Fox Film Corporation"
           },
           {
            "id": 19747,
            "name": "Brandywine Productions"
           },
           {
            "id": 396,
            "name": "SLM Production Group"
           }
          ],
          "production_countries": [
           {
            "iso_3166_1": "GB",
            "name": "United Kingdom"
           },
           {
            "iso_3166_1": "US",
            "name": "United States of America"
           }
          ],
          "release_date": "1986-07-18",
          "revenue": 131060248,
          "runtime": 137,
          "spoken_languages": [
           {
            "iso_639_1": "en",
            "name": "English"
           }
          ],
          "status": "Released",
          "tagline": "This Time It's War",
          "title": "Aliens",
          "video": false,
          "vote_average": 7.4,
          "vote_count": 1175
         }
        },
        {
         "_explanation": {
          "description": "max of:",
          "details": [
           {
            "description": "sum of:",
            "details": [
             {
              "description": "weight(title:basketball in 503) [PerFieldSimilarity], result of:",
              "details": [
               {
                "description": "score(freq=1.0), computed as boost * idf * tf from:",
                "details": [
                 {
                  "description": "boost",
                  "details": [],
                  "value": 22
                 },
                 {
                  "description": "idf, computed as log(1 + (N - n + 0.5) / (n + 0.5)) from:",
                  "details": [
                   {
                    "description": "n, number of documents containing term",
                    "details": [],
                    "value": 1
                   },
                   {
                    "description": "N, total number of documents with field",
                    "details": [],
                    "value": 3051
                   }
                  ],
                  "value": 7.6180873
                 },
                 {
                  "description": "tf, computed as freq / (freq + k1 * (1 - b + b * dl / avgdl)) from:",
                  "details": [
                   {
                    "description": "freq, occurrences of term within document",
                    "details": [],
                    "value": 1
                   },
                   {
                    "description": "k1, term saturation parameter",
                    "details": [],
                    "value": 1.2
                   },
                   {
                    "description": "b, length normalization parameter",
                    "details": [],
                    "value": 0.75
                   },
                   {
                    "description": "dl, length of field",
                    "details": [],
                    "value": 3
                   },
                   {
                    "description": "avgdl, average length of field",
                    "details": [],
                    "value": 2.7728612
                   }
                  ],
                  "value": 0.43980724
                 }
                ],
                "value": 73.71077
               }
              ],
              "value": 73.71077
             }
            ],
            "value": 73.71077
           }
          ],
          "value": 73.71077
         },
         "_id": "10474",
         "_index": "tmdb",
         "_node": "-kNFzu7pTXOPQnna6Gk3ag",
         "_score": 73.71077,
         "_shard": "[tmdb][0]",
         "_source": {
          "adult": false,
          "backdrop_path": "/6rGA5l7Ykdge27x3wysSdOouVPk.jpg",
          "belongs_to_collection": null,
          "budget": 0,
          "cast": [
           {
            "cast_id": 9,
            "character": "Jim Carroll",
            "credit_id": "52fe43779251416c750116ab",
            "id": 6193,
            "name": "Leonardo DiCaprio",
            "order": 0,
            "profile_path": "/jToSMocaCaS5YnuOJVqQ7S7pr4Q.jpg"
           },
           {
            "cast_id": 10,
            "character": "Jim's Mother",
            "credit_id": "52fe43779251416c750116af",
            "id": 11478,
            "name": "Lorraine Bracco",
            "order": 1,
            "profile_path": "/1neO0scj7QyrrWDp1JZRrN0tA8Y.jpg"
           },
           {
            "cast_id": 11,
            "character": "Pedro",
            "credit_id": "52fe43779251416c750116b3",
            "id": 65395,
            "name": "James Madio",
            "order": 2,
            "profile_path": "/3s32FSsr95w6nGtoH5f9sPk1mPw.jpg"
           },
           {
            "cast_id": 12,
            "character": "Mickey",
            "credit_id": "52fe43779251416c750116b7",
            "id": 13240,
            "name": "Mark Wahlberg",
            "order": 3,
            "profile_path": "/tdPF78kdzxPcCwxKjPykq6u3y5Z.jpg"
           },
           {
            "cast_id": 21,
            "character": "Swifty",
            "credit_id": "52fe43779251416c750116d7",
            "id": 9257,
            "name": "Bruno Kirby",
            "order": 4,
            "profile_path": "/vWKYTMoasP2kVqvG0hoNe4q73Nx.jpg"
           },
           {
            "cast_id": 14,
            "character": "Neutron",
            "credit_id": "52fe43779251416c750116bb",
            "id": 186526,
            "name": "Patrick McGaw",
            "order": 5,
            "profile_path": null
           },
           {
            "cast_id": 15,
            "character": "Diane Moody",
            "credit_id": "52fe43779251416c750116bf",
            "id": 3196,
            "name": "Juliette Lewis",
            "order": 6,
            "profile_path": "/eeEx3v5ElBHvlrJjULlj5I3EpPF.jpg"
           },
           {
            "cast_id": 16,
            "character": "Bobby",
            "credit_id": "52fe43779251416c750116c3",
            "id": 11486,
            "name": "Michael Imperioli",
            "order": 7,
            "profile_path": "/7zfMAQoliPWMEbL9e0cPnpnLMzf.jpg"
           },
           {
            "cast_id": 17,
            "character": "Reggie",
            "credit_id": "52fe43779251416c750116c7",
            "id": 8874,
            "name": "Ernie Hudson",
            "order": 8,
            "profile_path": "/wrMGBA4eNTUj2ympGsxaqcRpHBS.jpg"
           },
           {
            "cast_id": 18,
            "character": "Manny",
            "credit_id": "52fe43779251416c750116cb",
            "id": 163985,
            "name": "Manny Alfaro",
            "order": 9,
            "profile_path": null
           },
           {
            "cast_id": 19,
            "character": "Winkie",
            "credit_id": "52fe43779251416c750116cf",
            "id": 185889,
            "name": "Cynthia Daniel",
            "order": 10,
            "profile_path": null
           },
           {
            "cast_id": 20,
            "character": "Blinkie",
            "credit_id": "52fe43779251416c750116d3",
            "id": 35476,
            "name": "Brittany Daniel",
            "order": 11,
            "profile_path": "/3c7mCIY8wiUBANoxzl3oz1UOpgp.jpg"
           }
          ],
          "directors": [
           {
            "credit_id": "52fe43779251416c7501167d",
            "department": "Directing",
            "id": 65390,
            "job": "Director",
            "name": "Scott Kalvert",
            "profile_path": null
           }
          ],
          "genres": [
           {
            "id": 80,
            "name": "Crime"
           },
           {
            "id": 18,
            "name": "Drama"
           }
          ],
          "homepage": "",
          "id": 10474,
          "imdb_id": "tt0112461",
          "original_language": "en",
          "original_title": "The Basketball Diaries",
          "overview": "Film adaptation of street tough Jim Carroll's epistle about his kaleidoscopic free fall into the harrowing world of drug addiction.",
          "popularity": 1.06484313746498,
          "poster_path": "/8BkedYL5LdpkyHc7JtuohMr8a9N.jpg",
          "production_companies": [
           {
            "id": 12,
            "name": "New Line Cinema"
           },
           {
            "id": 3492,
            "name": "Island Pictures"
           }
          ],
          "production_countries": [
           {
            "iso_3166_1": "US",
            "name": "United States of America"
           }
          ],
          "release_date": "1995-04-21",
          "revenue": 0,
          "runtime": 102,
          "spoken_languages": [
           {
            "iso_639_1": "en",
            "name": "English"
           }
          ],
          "status": "Released",
          "tagline": "The true story of the death of innocence and the birth of an artist.",
          "title": "The Basketball Diaries",
          "video": false,
          "vote_average": 6.9,
          "vote_count": 73
         }
        },
        {
         "_explanation": {
          "description": "max of:",
          "details": [
           {
            "description": "sum of:",
            "details": [
             {
              "description": "weight(overview:with in 465) [PerFieldSimilarity], result of:",
              "details": [
               {
                "description": "score(freq=2.0), computed as boost * idf * tf from:",
                "details": [
                 {
                  "description": "boost",
                  "details": [],
                  "value": 2.2
                 },
                 {
                  "description": "idf, computed as log(1 + (N - n + 0.5) / (n + 0.5)) from:",
                  "details": [
                   {
                    "description": "n, number of documents containing term",
                    "details": [],
                    "value": 1166
                   },
                   {
                    "description": "N, total number of documents with field",
                    "details": [],
                    "value": 3050
                   }
                  ],
                  "value": 0.9614616
                 },
                 {
                  "description": "tf, computed as freq / (freq + k1 * (1 - b + b * dl / avgdl)) from:",
                  "details": [
                   {
                    "description": "freq, occurrences of term within document",
                    "details": [],
                    "value": 2
                   },
                   {
                    "description": "k1, term saturation parameter",
                    "details": [],
                    "value": 1.2
                   },
                   {
                    "description": "b, length normalization parameter",
                    "details": [],
                    "value": 0.75
                   },
                   {
                    "description": "dl, length of field (approximate)",
                    "details": [],
                    "value": 60
                   },
                   {
                    "description": "avgdl, average length of field",
                    "details": [],
                    "value": 52.963608
                   }
                  ],
                  "value": 0.60248804
                 }
                ],
                "value": 1.274392
               }
              ],
              "value": 1.274392
             }
            ],
            "value": 1.274392
           },
           {
            "description": "sum of:",
            "details": [
             {
              "description": "weight(title:aliens in 465) [PerFieldSimilarity], result of:",
              "details": [
               {
                "description": "score(freq=1.0), computed as boost * idf * tf from:",
                "details": [
                 {
                  "description": "boost",
                  "details": [],
                  "value": 22
                 },
                 {
                  "description": "idf, computed as log(1 + (N - n + 0.5) / (n + 0.5)) from:",
                  "details": [
                   {
                    "description": "n, number of documents containing term",
                    "details": [],
                    "value": 5
                   },
                   {
                    "description": "N, total number of documents with field",
                    "details": [],
                    "value": 3051
                   }
                  ],
                  "value": 6.3188043
                 },
                 {
                  "description": "tf, computed as freq / (freq + k1 * (1 - b + b * dl / avgdl)) from:",
                  "details": [
                   {
                    "description": "freq, occurrences of term within document",
                    "details": [],
                    "value": 1
                   },
                   {
                    "description": "k1, term saturation parameter",
                    "details": [],
                    "value": 1.2
                   },
                   {
                    "description": "b, length normalization parameter",
                    "details": [],
                    "value": 0.75
                   },
                   {
                    "description": "dl, length of field",
                    "details": [],
                    "value": 2
                   },
                   {
                    "description": "avgdl, average length of field",
                    "details": [],
                    "value": 2.7728612
                   }
                  ],
                  "value": 0.5130445
                 }
                ],
                "value": 71.3202
               }
              ],
              "value": 71.3202
             }
            ],
            "value": 71.3202
           }
          ],
          "value": 71.3202
         },
         "_id": "49849",
         "_index": "tmdb",
         "_node": "-kNFzu7pTXOPQnna6Gk3ag",
         "_score": 71.3202,
         "_shard": "[tmdb][0]",
         "_source": {
          "adult": false,
          "backdrop_path": "/gmapSsDGkPNPRxaQXLdotYkYKzM.jpg",
          "belongs_to_collection": null,
          "budget": 163000000,
          "cast": [
           {
            "cast_id": 6,
            "character": "Ella",
            "credit_id": "52fe47abc3a36847f8141e21",
            "id": 59315,
            "name": "Olivia Wilde",
            "order": 0,
            "profile_path": "/3d69fgT1QOTDJxqy7FpBBAQxoM0.jpg"
           },
           {
            "cast_id": 7,
            "character": "Col. Woodrow Dolarhyde",
            "credit_id": "52fe47abc3a36847f8141e25",
            "id": 3,
            "name": "Harrison Ford",
            "order": 1,
            "profile_path": "/7CcoVFTogQgex2kJkXKMe8qHZrC.jpg"
           },
           {
            "cast_id": 8,
            "character": "Jake Lonergan",
            "credit_id": "52fe47abc3a36847f8141e29",
            "id": 8784,
            "name": "Daniel Craig",
            "order": 2,
            "profile_path": "/h8pfDEYJEIFhIuhwiYZGmgtwc8s.jpg"
           },
           {
            "cast_id": 9,
            "character": "Doc",
            "credit_id": "52fe47abc3a36847f8141e2d",
            "id": 6807,
            "name": "Sam Rockwell",
            "order": 3,
            "profile_path": "/sKmpynD57Nwd62hrkjlXFK9hzGg.jpg"
           },
           {
            "cast_id": 10,
            "character": "Percy",
            "credit_id": "52fe47abc3a36847f8141e31",
            "id": 17142,
            "name": "Paul Dano",
            "order": 4,
            "profile_path": "/qBIvuBoJ1EuBiDQ8NfJp4ljGMvp.jpg"
           },
           {
            "cast_id": 11,
            "character": "Hunt",
            "credit_id": "52fe47abc3a36847f8141e35",
            "id": 27740,
            "name": "Walton Goggins",
            "order": 5,
            "profile_path": "/3ESBPeIUGxB4rptFoWvIcC9UskL.jpg"
           },
           {
            "cast_id": 12,
            "character": "Maria",
            "credit_id": "52fe47abc3a36847f8141e39",
            "id": 57409,
            "name": "Ana de la Reguera",
            "order": 6,
            "profile_path": "/lMFcS5MT1NNDo6gSE6h78nkeMmU.jpg"
           },
           {
            "cast_id": 13,
            "character": "Meacham",
            "credit_id": "52fe47abc3a36847f8141e3d",
            "id": 6574,
            "name": "Clancy Brown",
            "order": 7,
            "profile_path": "/pwiG1ljLoqfcmFH2zFp5NP2ML4B.jpg"
           },
           {
            "cast_id": 14,
            "character": "Sheriff Taggart",
            "credit_id": "52fe47abc3a36847f8141e41",
            "id": 30613,
            "name": "Keith Carradine",
            "order": 8,
            "profile_path": "/xAZfdJPrQX5OnHOF0OXMOo5sUlX.jpg"
           },
           {
            "cast_id": 15,
            "character": "Emmet",
            "credit_id": "52fe47abc3a36847f8141e45",
            "id": 88816,
            "name": "Noah Ringer",
            "order": 9,
            "profile_path": "/rViKaQd4q8qCFmFRbrZY849ykST.jpg"
           },
           {
            "cast_id": 16,
            "character": "Pat Dolan",
            "credit_id": "52fe47abc3a36847f8141e49",
            "id": 2482,
            "name": "David O'Hara",
            "order": 10,
            "profile_path": "/sJ35AHaSTzSrvd80xrlC1CD30iF.jpg"
           },
           {
            "cast_id": 17,
            "character": "Nat Colorado",
            "credit_id": "52fe47abc3a36847f8141e4d",
            "id": 33527,
            "name": "Adam Beach",
            "order": 11,
            "profile_path": "/jXb4UZtpJHyLWGbePDB2bJUJAxq.jpg"
           },
           {
            "cast_id": 18,
            "character": "Alice",
            "credit_id": "52fe47abc3a36847f8141e51",
            "id": 123725,
            "name": "Abigail Spencer",
            "order": 12,
            "profile_path": "/gvEszv5iY2gcQ6v7JoegCkY7YjL.jpg"
           },
           {
            "cast_id": 19,
            "character": "Roy Murphy",
            "credit_id": "52fe47abc3a36847f8141e55",
            "id": 18271,
            "name": "Toby Huss",
            "order": 13,
            "profile_path": "/g2DTpEl1DfsrN5oTcJuK5JtLmhX.jpg"
           },
           {
            "cast_id": 20,
            "character": "Black Knife",
            "credit_id": "52fe47abc3a36847f8141e59",
            "id": 17688,
            "name": "Raoul Trujillo",
            "order": 14,
            "profile_path": "/vkrPv04OJRV9G6u6yydjJz2WKE0.jpg"
           },
           {
            "cast_id": 23,
            "character": "Apache Warrior 1",
            "credit_id": "52fe47abc3a36847f8141e69",
            "id": 1039678,
            "name": "David Midthunder",
            "order": 15,
            "profile_path": "/f0piRndy8kXPUh4onNoNNoeIO9u.jpg"
           },
           {
            "cast_id": 25,
            "character": "Luke Claiborne",
            "credit_id": "52fe47abc3a36847f8141e73",
            "id": 591769,
            "name": "Matthew Taylor",
            "order": 16,
            "profile_path": "/aCWVlkHatBh7DenW757xZIbf32d.jpg"
           },
           {
            "cast_id": 26,
            "character": "Deputy",
            "credit_id": "52fe47abc3a36847f8141e77",
            "id": 949852,
            "name": "Brian Duffy",
            "order": 17,
            "profile_path": "/1XlYJr9FaTZG4582ziUIoHT8QSP.jpg"
           },
           {
            "cast_id": 27,
            "character": "Charlie Lyle",
            "credit_id": "52fe47abc3a36847f8141e7b",
            "id": 946854,
            "name": "Brendan Wayne",
            "order": 18,
            "profile_path": "/e2bhg69on55SXbQnsxDRROpNohP.jpg"
           },
           {
            "cast_id": 28,
            "character": "Ed",
            "credit_id": "52fe47abc3a36847f8141e7f",
            "id": 38572,
            "name": "Gavin Grazer",
            "order": 19,
            "profile_path": "/qe5J2NMzcN2NVgVS1D04tuDUyke.jpg"
           },
           {
            "cast_id": 29,
            "character": "Little Mickey",
            "credit_id": "52fe47abc3a36847f8141e83",
            "id": 986808,
            "name": "Wyatt Russell",
            "order": 20,
            "profile_path": "/q72sYL63Z7FH2OKa5W4pvdJSkQo.jpg"
           }
          ],
          "directors": [
           {
            "credit_id": "52fe47abc3a36847f8141e1d",
            "department": "Directing",
            "id": 15277,
            "job": "Director",
            "name": "Jon Favreau",
            "profile_path": "/xowOeQYyuInO2qKReau8n41U8j1.jpg"
           }
          ],
          "genres": [
           {
            "id": 28,
            "name": "Action"
           },
           {
            "id": 878,
            "name": "Science Fiction"
           },
           {
            "id": 53,
            "name": "Thriller"
           },
           {
            "id": 37,
            "name": "Western"
           }
          ],
          "homepage": "http://www.cowboysandaliensmovie.com/",
          "id": 49849,
          "imdb_id": "tt0409847",
          "original_language": "en",
          "original_title": "Cowboys & Aliens",
          "overview": "A stranger stumbles into the desert town of Absolution with no memory of his past and a futuristic shackle around his wrist. With the help of mysterious beauty Ella and the iron-fisted Colonel Dolarhyde, he finds himself leading an unlikely posse of cowboys, outlaws, and Apache warriors against a common enemy from beyond this world in an epic showdown for survival.",
          "popularity": 1.2534514039299,
          "poster_path": "/kcUXBEwWDzpRhKreh6C2NSStBiU.jpg",
          "production_companies": [
           {
            "id": 33,
            "name": "Universal Pictures"
           },
           {
            "id": 27,
            "name": "DreamWorks SKG"
           },
           {
            "id": 7294,
            "name": "Reliance Entertainment"
           },
           {
            "id": 7295,
            "name": "Relativity Media"
           },
           {
            "id": 23,
            "name": "Imagine Entertainment"
           },
           {
            "id": 7296,
            "name": "K/O Paper Products"
           },
           {
            "id": 7297,
            "name": "Fairview Entertainment"
           },
           {
            "id": 7218,
            "name": "platinum studios"
           },
           {
            "id": 23300,
            "name": "K/O Camera Toys"
           }
          ],
          "production_countries": [
           {
            "iso_3166_1": "US",
            "name": "United States of America"
           }
          ],
          "release_date": "2011-07-29",
          "revenue": 174822325,
          "runtime": 119,
          "spoken_languages": [
           {
            "iso_639_1": "en",
            "name": "English"
           }
          ],
          "status": "Released",
          "tagline": "First Contact. Last Stand.",
          "title": "Cowboys & Aliens",
          "video": false,
          "vote_average": 5.4,
          "vote_count": 745
         }
        },
        {
         "_explanation": {
          "description": "max of:",
          "details": [
           {
            "description": "sum of:",
            "details": [
             {
              "description": "weight(overview:with in 113) [PerFieldSimilarity], result of:",
              "details": [
               {
                "description": "score(freq=1.0), computed as boost * idf * tf from:",
                "details": [
                 {
                  "description": "boost",
                  "details": [],
                  "value": 2.2
                 },
                 {
                  "description": "idf, computed as log(1 + (N - n + 0.5) / (n + 0.5)) from:",
                  "details": [
                   {
                    "description": "n, number of documents containing term",
                    "details": [],
                    "value": 1166
                   },
                   {
                    "description": "N, total number of documents with field",
                    "details": [],
                    "value": 3050
                   }
                  ],
                  "value": 0.9614616
                 },
                 {
                  "description": "tf, computed as freq / (freq + k1 * (1 - b + b * dl / avgdl)) from:",
                  "details": [
                   {
                    "description": "freq, occurrences of term within document",
                    "details": [],
                    "value": 1
                   },
                   {
                    "description": "k1, term saturation parameter",
                    "details": [],
                    "value": 1.2
                   },
                   {
                    "description": "b, length normalization parameter",
                    "details": [],
                    "value": 0.75
                   },
                   {
                    "description": "dl, length of field (approximate)",
                    "details": [],
                    "value": 56
                   },
                   {
                    "description": "avgdl, average length of field",
                    "details": [],
                    "value": 52.963608
                   }
                  ],
                  "value": 0.44412923
                 }
                ],
                "value": 0.93942904
               }
              ],
              "value": 0.93942904
             }
            ],
            "value": 0.93942904
           },
           {
            "description": "sum of:",
            "details": [
             {
              "description": "weight(title:aliens in 113) [PerFieldSimilarity], result of:",
              "details": [
               {
                "description": "score(freq=1.0), computed as boost * idf * tf from:",
                "details": [
                 {
                  "description": "boost",
                  "details": [],
                  "value": 22
                 },
                 {
                  "description": "idf, computed as log(1 + (N - n + 0.5) / (n + 0.5)) from:",
                  "details": [
                   {
                    "description": "n, number of documents containing term",
                    "details": [],
                    "value": 5
                   },
                   {
                    "description": "N, total number of documents with field",
                    "details": [],
                    "value": 3051
                   }
                  ],
                  "value": 6.3188043
                 },
                 {
                  "description": "tf, computed as freq / (freq + k1 * (1 - b + b * dl / avgdl)) from:",
                  "details": [
                   {
                    "description": "freq, occurrences of term within document",
                    "details": [],
                    "value": 1
                   },
                   {
                    "description": "k1, term saturation parameter",
                    "details": [],
                    "value": 1.2
                   },
                   {
                    "description": "b, length normalization parameter",
                    "details": [],
                    "value": 0.75
                   },
                   {
                    "description": "dl, length of field",
                    "details": [],
                    "value": 3
                   },
                   {
                    "description": "avgdl, average length of field",
                    "details": [],
                    "value": 2.7728612
                   }
                  ],
                  "value": 0.43980724
                 }
                ],
                "value": 61.13922
               }
              ],
              "value": 61.13922
             }
            ],
            "value": 61.13922
           }
          ],
          "value": 61.13922
         },
         "_id": "15512",
         "_index": "tmdb",
         "_node": "-kNFzu7pTXOPQnna6Gk3ag",
         "_score": 61.13922,
         "_shard": "[tmdb][0]",
         "_source": {
          "adult": false,
          "backdrop_path": "/t03uCzKAcYwynMOG4iTcZ75Z23U.jpg",
          "belongs_to_collection": {
           "backdrop_path": "/uhZJNkODuAYTtsXzKLsao3LbW5H.jpg",
           "id": 316277,
           "name": "Monsters vs Aliens Collection",
           "poster_path": "/lDJmx7FeulDKV0d1TnvkJ9tdktp.jpg"
          },
          "budget": 175000000,
          "cast": [
           {
            "cast_id": 8,
            "character": "B.O.B. (voice)",
            "credit_id": "52fe46639251416c75076a61",
            "id": 19274,
            "name": "Seth Rogen",
            "order": 0,
            "profile_path": "/3U9s4dvXQuk1l3ZT3MqwqpmeRqI.jpg"
           },
           {
            "cast_id": 9,
            "character": "Susan Murphy / Ginormica (voice)",
            "credit_id": "52fe46639251416c75076a65",
            "id": 368,
            "name": "Reese Witherspoon",
            "order": 1,
            "profile_path": "/6OPIR8TFcdVhox2obxmIWmJ2Qel.jpg"
           },
           {
            "cast_id": 10,
            "character": "Dr. Cockroach Ph.D. (voice)",
            "credit_id": "52fe46639251416c75076a69",
            "id": 41419,
            "name": "Hugh Laurie",
            "order": 2,
            "profile_path": "/3qCmEHtq5fBW8dbzsYDSy16Zqb0.jpg"
           },
           {
            "cast_id": 11,
            "character": "Derek Dietl (voice)",
            "credit_id": "52fe46639251416c75076a6d",
            "id": 22226,
            "name": "Paul Rudd",
            "order": 3,
            "profile_path": "/oUJyLVn3kCmQuFeug4SBIo7Tc02.jpg"
           },
           {
            "cast_id": 12,
            "character": "General W.R. Monger (voice)",
            "credit_id": "52fe46639251416c75076a71",
            "id": 2628,
            "name": "Kiefer Sutherland",
            "order": 4,
            "profile_path": "/4YvDfOfD4TgyzDkLGoq76g5BZNe.jpg"
           },
           {
            "cast_id": 13,
            "character": "Gallaxhar (voice)",
            "credit_id": "52fe46639251416c75076a75",
            "id": 11678,
            "name": "Rainn Wilson",
            "order": 5,
            "profile_path": "/Adq8cYhhzmSYRwMWDTc7O53L7FR.jpg"
           },
           {
            "cast_id": 14,
            "character": "The Missing Link (voice)",
            "credit_id": "52fe46639251416c75076a79",
            "id": 21200,
            "name": "Will Arnett",
            "order": 6,
            "profile_path": "/vHCqn3SHfSV6GOWrxzEtoDaSMoU.jpg"
           },
           {
            "cast_id": 15,
            "character": "President Hathaway (voice)",
            "credit_id": "52fe46639251416c75076a7d",
            "id": 58769,
            "name": "Stephen Colbert",
            "order": 7,
            "profile_path": "/xVQMuzz4zNX92XFyCybA9JwMCYs.jpg"
           },
           {
            "cast_id": 16,
            "character": "Insectosaurus (voice)",
            "credit_id": "52fe46639251416c75076a81",
            "id": 78303,
            "name": "Jimmy Kimmel",
            "order": 8,
            "profile_path": "/aIGGgXIQcN2UlReL8I5QCJ3AxOn.jpg"
           },
           {
            "cast_id": 17,
            "character": "Wendy Murphy (voice)",
            "credit_id": "52fe46639251416c75076a85",
            "id": 24305,
            "name": "Julie White",
            "order": 9,
            "profile_path": "/iYTRxrNPGNLYmKfv5RI7pcLyV2i.jpg"
           },
           {
            "cast_id": 18,
            "character": "Carl Murphy (voice)",
            "credit_id": "52fe46639251416c75076a89",
            "id": 4175,
            "name": "Jeffrey Tambor",
            "order": 10,
            "profile_path": "/csB350am07xyRL5Ik1BWuSY12tH.jpg"
           },
           {
            "cast_id": 19,
            "character": "Computer (voice)",
            "credit_id": "52fe46639251416c75076a8d",
            "id": 56322,
            "name": "Amy Poehler",
            "order": 11,
            "profile_path": "/qvVYBwZncnWoiu48GklLXQKMngm.jpg"
           },
           {
            "cast_id": 20,
            "character": "News Reporter (voice)",
            "credit_id": "52fe46639251416c75076a91",
            "id": 27105,
            "name": "Ed Helms",
            "order": 12,
            "profile_path": "/cxE76QqiI6LQh3kRAAEDtH39DQd.jpg"
           },
           {
            "cast_id": 21,
            "character": "Katie (voice)",
            "credit_id": "52fe46639251416c75076a95",
            "id": 9137,
            "name": "Renée Zellweger",
            "order": 13,
            "profile_path": "/rAfHyC0IxqwRTKuwosU85ZwQicL.jpg"
           },
           {
            "cast_id": 23,
            "character": "Private Bullhorn / Helicopter Pilot / Advisor Ortega (voice)",
            "credit_id": "52fe46639251416c75076a99",
            "id": 64446,
            "name": "Sean Bishop",
            "order": 14,
            "profile_path": null
           },
           {
            "cast_id": 24,
            "character": "Commander / Advisor Smith (voice)",
            "credit_id": "52fe46639251416c75076a9d",
            "id": 936666,
            "name": "Rich Dietl",
            "order": 15,
            "profile_path": "/caMJRrUIYD4wHlbwu1NIqZZWGby.jpg"
           },
           {
            "cast_id": 25,
            "character": "Technician Bee (voice)",
            "credit_id": "52fe46639251416c75076aa1",
            "id": 212439,
            "name": "Stephen Kearin",
            "order": 16,
            "profile_path": null
           },
           {
            "cast_id": 26,
            "character": "Secret Service Man #1 / Lieutenant (voice)",
            "credit_id": "52fe46639251416c75076aa5",
            "id": 65630,
            "name": "Rob Letterman",
            "order": 17,
            "profile_path": "/v2GPTQ41ZqHtML8W1ft3UJej5xA.jpg"
           },
           {
            "cast_id": 27,
            "character": "Wilson (voice)",
            "credit_id": "52fe46639251416c75076aa9",
            "id": 18864,
            "name": "Tom McGrath",
            "order": 18,
            "profile_path": "/x522iaZSJUqbPlP3C1PvM5oa0rx.jpg"
           },
           {
            "cast_id": 28,
            "character": "Advisor Cole / Army Commander Jones (voice)",
            "credit_id": "52fe46639251416c75076aad",
            "id": 12098,
            "name": "Chris Miller",
            "order": 19,
            "profile_path": "/3nwwLDbRaTQHp26cuDNw1KRgCZd.jpg"
           },
           {
            "cast_id": 29,
            "character": "Advisor Wedgie (voice)",
            "credit_id": "52fe46639251416c75076ab1",
            "id": 64151,
            "name": "Mike Mitchell",
            "order": 20,
            "profile_path": "/thoCDW89KWWaSYrbvUX0adPcg8S.jpg"
           },
           {
            "cast_id": 30,
            "character": "Technician Jerry (voice)",
            "credit_id": "52fe46639251416c75076ab5",
            "id": 45416,
            "name": "Kent Osborne",
            "order": 21,
            "profile_path": "/iszbGHIPuEMa1YDIiJFST3pZfLy.jpg"
           },
           {
            "cast_id": 31,
            "character": "Advisor Ouaou / Mrs. Ronson / Female Advisor #2 / Panicked Guest (voice)",
            "credit_id": "52fe46639251416c75076ab9",
            "id": 936669,
            "name": "Latifa Ouaou",
            "order": 22,
            "profile_path": "/gJ0ntOXcs0RRdMAM9b5Avo5REga.jpg"
           },
           {
            "cast_id": 32,
            "character": "Soldier #4 / Pilot / Soldier #3 / News Technician (voice)",
            "credit_id": "52fe46639251416c75076abd",
            "id": 1077843,
            "name": "Geoffrey Pomeroy",
            "order": 23,
            "profile_path": null
           },
           {
            "cast_id": 33,
            "character": "Soldier #1 / Advisor Jackson (voice)",
            "credit_id": "52fe46639251416c75076ac1",
            "id": 1077844,
            "name": "David P. Smith",
            "order": 24,
            "profile_path": null
           },
           {
            "cast_id": 34,
            "character": "Bridesmaid Candy (voice)",
            "credit_id": "52fe46639251416c75076ac5",
            "id": 11652,
            "name": "Lisa Stewart",
            "order": 25,
            "profile_path": null
           },
           {
            "cast_id": 35,
            "character": "Advisor Hawk / Advisor Dither / Minister / Secret Service Man #2 / Mama Dietl (voice)",
            "credit_id": "52fe46639251416c75076ac9",
            "id": 12080,
            "name": "Conrad Vernon",
            "order": 26,
            "profile_path": "/kSyVrs8NtLoQhfBXFBhnTWzC7Vm.jpg"
           },
           {
            "cast_id": 36,
            "character": "Cuthbert (voice)",
            "credit_id": "52fe46639251416c75076acd",
            "id": 17697,
            "name": "John Krasinski",
            "order": 27,
            "profile_path": "/nOWwdZURikW22qo6OUSGFCTukgc.jpg"
           }
          ],
          "directors": [
           {
            "credit_id": "52fe46639251416c75076a39",
            "department": "Directing",
            "id": 65630,
            "job": "Director",
            "name": "Rob Letterman",
            "profile_path": "/v2GPTQ41ZqHtML8W1ft3UJej5xA.jpg"
           },
           {
            "credit_id": "52fe46639251416c75076a45",
            "department": "Directing",
            "id": 12080,
            "job": "Director",
            "name": "Conrad Vernon",
            "profile_path": "/kSyVrs8NtLoQhfBXFBhnTWzC7Vm.jpg"
           }
          ],
          "genres": [
           {
            "id": 12,
            "name": "Adventure"
           },
           {
            "id": 16,
            "name": "Animation"
           },
           {
            "id": 878,
            "name": "Science Fiction"
           },
           {
            "id": 10751,
            "name": "Family"
           }
          ],
          "homepage": "http://www.monstersvsaliens.com/",
          "id": 15512,
          "imdb_id": "tt0892782",
          "original_language": "en",
          "original_title": "Monsters vs Aliens",
          "overview": "When Susan Murphy is unwittingly clobbered by a meteor full of outer space gunk on her wedding day, she mysteriously grows to 49-feet-11-inches. The military jumps into action and captures Susan, secreting her away to a covert government compound. She is renamed Ginormica and placed in confinement with a ragtag group of Monsters...",
          "popularity": 1.36912486940738,
          "poster_path": "/8x0WrDcFQDC2eoXJe6iC34wXZE8.jpg",
          "production_companies": [
           {
            "id": 521,
            "name": "DreamWorks Animation"
           }
          ],
          "production_countries": [
           {
            "iso_3166_1": "US",
            "name": "United States of America"
           }
          ],
          "release_date": "2009-03-26",
          "revenue": 381509870,
          "runtime": 94,
          "spoken_languages": [
           {
            "iso_639_1": "en",
            "name": "English"
           }
          ],
          "status": "Released",
          "tagline": "When aliens attack, monsters fight back.",
          "title": "Monsters vs Aliens",
          "video": false,
          "vote_average": 5.8,
          "vote_count": 470
         }
        },
        {
         "_explanation": {
          "description": "max of:",
          "details": [
           {
            "description": "sum of:",
            "details": [
             {
              "description": "weight(title:aliens in 286) [PerFieldSimilarity], result of:",
              "details": [
               {
                "description": "score(freq=1.0), computed as boost * idf * tf from:",
                "details": [
                 {
                  "description": "boost",
                  "details": [],
                  "value": 22
                 },
                 {
                  "description": "idf, computed as log(1 + (N - n + 0.5) / (n + 0.5)) from:",
                  "details": [
                   {
                    "description": "n, number of documents containing term",
                    "details": [],
                    "value": 5
                   },
                   {
                    "description": "N, total number of documents with field",
                    "details": [],
                    "value": 3051
                   }
                  ],
                  "value": 6.3188043
                 },
                 {
                  "description": "tf, computed as freq / (freq + k1 * (1 - b + b * dl / avgdl)) from:",
                  "details": [
                   {
                    "description": "freq, occurrences of term within document",
                    "details": [],
                    "value": 1
                   },
                   {
                    "description": "k1, term saturation parameter",
                    "details": [],
                    "value": 1.2
                   },
                   {
                    "description": "b, length normalization parameter",
                    "details": [],
                    "value": 0.75
                   },
                   {
                    "description": "dl, length of field",
                    "details": [],
                    "value": 4
                   },
                   {
                    "description": "avgdl, average length of field",
                    "details": [],
                    "value": 2.7728612
                   }
                  ],
                  "value": 0.3848673
                 }
                ],
                "value": 53.501823
               }
              ],
              "value": 53.501823
             }
            ],
            "value": 53.501823
           }
          ],
          "value": 53.501823
         },
         "_id": "440",
         "_index": "tmdb",
         "_node": "-kNFzu7pTXOPQnna6Gk3ag",
         "_score": 53.501823,
         "_shard": "[tmdb][0]",
         "_source": {
          "adult": false,
          "backdrop_path": "/uypAmOWRpjnqIlg1BzXhGgP1uMM.jpg",
          "belongs_to_collection": {
           "backdrop_path": "/c5ccDw4lcTUnYGdCxc2yEl8PjTk.jpg",
           "id": 115762,
           "name": "AVP Collection",
           "poster_path": "/zrApSsUX9i0qVntcCD0Pp55TdCy.jpg"
          },
          "budget": 40000000,
          "cast": [
           {
            "cast_id": 17,
            "character": "Dallas Howard",
            "credit_id": "52fe4244c3a36847f8010dfb",
            "id": 56389,
            "name": "Steven Pasquale",
            "order": 0,
            "profile_path": "/6rm9ZpBrc3w7tRvAtyMTOltUUvb.jpg"
           },
           {
            "cast_id": 18,
            "character": "Kelly O'Brien",
            "credit_id": "52fe4244c3a36847f8010dff",
            "id": 25869,
            "name": "Reiko Aylesworth",
            "order": 1,
            "profile_path": "/59Gu57v2rOtvvBA06rSuYX2w5h2.jpg"
           },
           {
            "cast_id": 19,
            "character": "Sheriff Eddie Morales",
            "credit_id": "52fe4244c3a36847f8010e03",
            "id": 40543,
            "name": "John Ortiz",
            "order": 2,
            "profile_path": "/eLAPF96eGKcnpV837CciBiFsI7C.jpg"
           },
           {
            "cast_id": 20,
            "character": "Molly O'Brien",
            "credit_id": "52fe4244c3a36847f8010e07",
            "id": 76414,
            "name": "Ariel Gade",
            "order": 3,
            "profile_path": "/axreEq8FBbpww34aBzJo2xM5pkv.jpg"
           },
           {
            "cast_id": 21,
            "character": "Tim",
            "credit_id": "52fe4244c3a36847f8010e0b",
            "id": 131006,
            "name": "Sam Trammell",
            "order": 4,
            "profile_path": "/pvf0cmYdw3Fi2F5HjP2QHgxRKoC.jpg"
           },
           {
            "cast_id": 22,
            "character": "Jesse",
            "credit_id": "538dfcb6c3a3687146005413",
            "id": 73454,
            "name": "Kristen Hager",
            "order": 5,
            "profile_path": "/mofGrgUP2kXXD8cgkYnzfGb8EOL.jpg"
           },
           {
            "cast_id": 23,
            "character": "Col. Stevens",
            "credit_id": "538dfcc4c3a368714300501f",
            "id": 19976,
            "name": "Robert Joy",
            "order": 6,
            "profile_path": "/xh5eb9p379k9w3NOGRjEyAw2yrP.jpg"
           },
           {
            "cast_id": 24,
            "character": "Dale",
            "credit_id": "538dfcccc3a36871520051b4",
            "id": 33293,
            "name": "David Paetkau",
            "order": 7,
            "profile_path": "/xOAjc34j0fZlKSb6I3cpTwHStar.jpg"
           },
           {
            "cast_id": 25,
            "character": "Alien",
            "credit_id": "538dfcd4c3a36871550050d3",
            "id": 109870,
            "name": "Tom Woodruff Jr.",
            "order": 8,
            "profile_path": null
           },
           {
            "cast_id": 26,
            "character": "Predator",
            "credit_id": "538dfcdfc3a368713c00525a",
            "id": 946696,
            "name": "Ian Whyte",
            "order": 9,
            "profile_path": "/6mRY7hTtHfDTGuTLmZmODOu9buF.jpg"
           },
           {
            "cast_id": 27,
            "character": "Darcy",
            "credit_id": "538dfce8c3a368714b0052e9",
            "id": 70175,
            "name": "Chelah Horsdal",
            "order": 10,
            "profile_path": "/v6Av8yrD3C34ngdROP31rNr9vD3.jpg"
           },
           {
            "cast_id": 28,
            "character": "Curtis",
            "credit_id": "538dfcf1c3a36871520051b8",
            "id": 202065,
            "name": "Meshach Peters",
            "order": 11,
            "profile_path": "/2zqlQS2A0kVzoSabpSVi9Qsfrwf.jpg"
           },
           {
            "cast_id": 29,
            "character": "Mark",
            "credit_id": "538dfcf9c3a36871550050d6",
            "id": 210348,
            "name": "Matt Ward",
            "order": 12,
            "profile_path": "/fwGrvAJJi30gapwPIDTkk1BNYHf.jpg"
           },
           {
            "cast_id": 82,
            "character": "Carrie",
            "credit_id": "548d9d9ac3a36820be003a19",
            "id": 33336,
            "name": "Gina Holden",
            "order": 13,
            "profile_path": "/1yw48NuEtDQ6VC5TWAN86VJYMOX.jpg"
           },
           {
            "cast_id": 83,
            "character": "Buddy",
            "credit_id": "548d9db1c3a36820ba0040c1",
            "id": 60721,
            "name": "Kurt Max Runte",
            "order": 14,
            "profile_path": "/eDZnFqvorS8FTL2QVKEhYx9Vcib.jpg"
           },
           {
            "cast_id": 84,
            "character": "Sam",
            "credit_id": "548d9dcd92514122f2004111",
            "id": 83852,
            "name": "Liam James",
            "order": 15,
            "profile_path": "/heAbNsKPFDCFIrzy7zDeZm6w2xd.jpg"
           },
           {
            "cast_id": 85,
            "character": "Nathan",
            "credit_id": "548d9de8c3a3681d4b00215b",
            "id": 42711,
            "name": "Ty Olsson",
            "order": 16,
            "profile_path": "/rd1M0tIIPKkoc1lX8yktMndHUjU.jpg"
           },
           {
            "cast_id": 86,
            "character": "Deputy Ray",
            "credit_id": "548d9e15c3a368153b001ee7",
            "id": 152820,
            "name": "Chris William Martin",
            "order": 17,
            "profile_path": "/tNgMeVpoM4RhEvxjaYtaxLvi1YJ.jpg"
           },
           {
            "cast_id": 87,
            "character": "Nurse Helen",
            "credit_id": "548d9e3bc3a36820be003a27",
            "id": 62717,
            "name": "Rekha Sharma",
            "order": 18,
            "profile_path": "/cx3ubTduzbsfyxPPnS2HoEmZbFG.jpg"
           },
           {
            "cast_id": 88,
            "character": "Tina",
            "credit_id": "548d9e58c3a3681d4b002165",
            "id": 77622,
            "name": "Catherine Lough Haggquist",
            "order": 19,
            "profile_path": "/bXyoDG0aMwUtObFgLgBi7NkviDY.jpg"
           }
          ],
          "directors": [
           {
            "credit_id": "52fe4244c3a36847f8010d9d",
            "department": "Directing",
            "id": 6037,
            "job": "Director",
            "name": "Colin Strause",
            "profile_path": "/mM95v1bWGdz8Ira7K4drueKRT01.jpg"
           },
           {
            "credit_id": "52fe4244c3a36847f8010da3",
            "department": "Directing",
            "id": 6038,
            "job": "Director",
            "name": "Greg Strause",
            "profile_path": "/xcEcDFHoTkIuOkLeWRuX3ksJmy1.jpg"
           }
          ],
          "genres": [
           {
            "id": 28,
            "name": "Action"
           },
           {
            "id": 14,
            "name": "Fantasy"
           },
           {
            "id": 27,
            "name": "Horror"
           },
           {
            "id": 878,
            "name": "Science Fiction"
           },
           {
            "id": 53,
            "name": "Thriller"
           }
          ],
          "homepage": "http://www.avp-r.com/",
          "id": 440,
          "imdb_id": "tt0758730",
          "original_language": "en",
          "original_title": "Aliens vs Predator: Requiem",
          "overview": "A sequel to 2004's Alien vs. Predator, the iconic creatures from two of the scariest film franchises in movie history wage their most brutal battle ever - in our own backyard. The small town of Gunnison, Colorado becomes a war zone between two of the deadliest extra-terrestrial life forms - the Alien and the Predator. When a Predator scout ship crash-lands in the hills outside the town, Alien Facehuggers and a hybrid Alien/Predator are released and begin to terrorize the town.",
          "popularity": 1.68558871718858,
          "poster_path": "/xR4Mslyum7bjzAF1rlUX2HrlwhZ.jpg",
          "production_companies": [
           {
            "id": 444,
            "name": "Dune Entertainment"
           },
           {
            "id": 25,
            "name": "20th Century Fox"
           },
           {
            "id": 401,
            "name": "Brandywine Productions Ltd."
           },
           {
            "id": 1302,
            "name": "Davis Entertainment"
           }
          ],
          "production_countries": [
           {
            "iso_3166_1": "US",
            "name": "United States of America"
           }
          ],
          "release_date": "2007-12-25",
          "revenue": 41797066,
          "runtime": 94,
          "spoken_languages": [
           {
            "iso_639_1": "en",
            "name": "English"
           }
          ],
          "status": "Released",
          "tagline": "The Last Place On Earth We Want To Be Is In The Middle",
          "title": "Aliens vs Predator: Requiem",
          "video": false,
          "vote_average": 5,
          "vote_count": 207
         }
        },
        {
         "_explanation": {
          "description": "max of:",
          "details": [
           {
            "description": "sum of:",
            "details": [
             {
              "description": "weight(overview:with in 1287) [PerFieldSimilarity], result of:",
              "details": [
               {
                "description": "score(freq=2.0), computed as boost * idf * tf from:",
                "details": [
                 {
                  "description": "boost",
                  "details": [],
                  "value": 2.2
                 },
                 {
                  "description": "idf, computed as log(1 + (N - n + 0.5) / (n + 0.5)) from:",
                  "details": [
                   {
                    "description": "n, number of documents containing term",
                    "details": [],
                    "value": 1166
                   },
                   {
                    "description": "N, total number of documents with field",
                    "details": [],
                    "value": 3050
                   }
                  ],
                  "value": 0.9614616
                 },
                 {
                  "description": "tf, computed as freq / (freq + k1 * (1 - b + b * dl / avgdl)) from:",
                  "details": [
                   {
                    "description": "freq, occurrences of term within document",
                    "details": [],
                    "value": 2
                   },
                   {
                    "description": "k1, term saturation parameter",
                    "details": [],
                    "value": 1.2
                   },
                   {
                    "description": "b, length normalization parameter",
                    "details": [],
                    "value": 0.75
                   },
                   {
                    "description": "dl, length of field (approximate)",
                    "details": [],
                    "value": 104
                   },
                   {
                    "description": "avgdl, average length of field",
                    "details": [],
                    "value": 52.963608
                   }
                  ],
                  "value": 0.4917326
                 }
                ],
                "value": 1.0401204
               }
              ],
              "value": 1.0401204
             },
             {
              "description": "weight(overview:aliens in 1287) [PerFieldSimilarity], result of:",
              "details": [
               {
                "description": "score(freq=3.0), computed as boost * idf * tf from:",
                "details": [
                 {
                  "description": "boost",
                  "details": [],
                  "value": 2.2
                 },
                 {
                  "description": "idf, computed as log(1 + (N - n + 0.5) / (n + 0.5)) from:",
                  "details": [
                   {
                    "description": "n, number of documents containing term",
                    "details": [],
                    "value": 14
                   },
                   {
                    "description": "N, total number of documents with field",
                    "details": [],
                    "value": 3050
                   }
                  ],
                  "value": 5.3490763
                 },
                 {
                  "description": "tf, computed as freq / (freq + k1 * (1 - b + b * dl / avgdl)) from:",
                  "details": [
                   {
                    "description": "freq, occurrences of term within document",
                    "details": [],
                    "value": 3
                   },
                   {
                    "description": "k1, term saturation parameter",
                    "details": [],
                    "value": 1.2
                   },
                   {
                    "description": "b, length normalization parameter",
                    "details": [],
                    "value": 0.75
                   },
                   {
                    "description": "dl, length of field (approximate)",
                    "details": [],
                    "value": 104
                   },
                   {
                    "description": "avgdl, average length of field",
                    "details": [],
                    "value": 52.963608
                   }
                  ],
                  "value": 0.59203696
                 }
                ],
                "value": 6.967072
               }
              ],
              "value": 6.967072
             }
            ],
            "value": 8.007193
           },
           {
            "description": "sum of:",
            "details": [
             {
              "description": "weight(title:aliens in 1287) [PerFieldSimilarity], result of:",
              "details": [
               {
                "description": "score(freq=1.0), computed as boost * idf * tf from:",
                "details": [
                 {
                  "description": "boost",
                  "details": [],
                  "value": 22
                 },
                 {
                  "description": "idf, computed as log(1 + (N - n + 0.5) / (n + 0.5)) from:",
                  "details": [
                   {
                    "description": "n, number of documents containing term",
                    "details": [],
                    "value": 5
                   },
                   {
                    "description": "N, total number of documents with field",
                    "details": [],
                    "value": 3051
                   }
                  ],
                  "value": 6.3188043
                 },
                 {
                  "description": "tf, computed as freq / (freq + k1 * (1 - b + b * dl / avgdl)) from:",
                  "details": [
                   {
                    "description": "freq, occurrences of term within document",
                    "details": [],
                    "value": 1
                   },
                   {
                    "description": "k1, term saturation parameter",
                    "details": [],
                    "value": 1.2
                   },
                   {
                    "description": "b, length normalization parameter",
                    "details": [],
                    "value": 0.75
                   },
                   {
                    "description": "dl, length of field",
                    "details": [],
                    "value": 4
                   },
                   {
                    "description": "avgdl, average length of field",
                    "details": [],
                    "value": 2.7728612
                   }
                  ],
                  "value": 0.3848673
                 }
                ],
                "value": 53.501823
               }
              ],
              "value": 53.501823
             }
            ],
            "value": 53.501823
           }
          ],
          "value": 53.501823
         },
         "_id": "20856",
         "_index": "tmdb",
         "_node": "-kNFzu7pTXOPQnna6Gk3ag",
         "_score": 53.501823,
         "_shard": "[tmdb][0]",
         "_source": {
          "adult": false,
          "backdrop_path": "/y66K59c1uxhnM45ZtG5xyOVC8yx.jpg",
          "belongs_to_collection": null,
          "budget": 0,
          "cast": [
           {
            "cast_id": 4,
            "character": "Tom Pearson",
            "credit_id": "52fe43fdc3a368484e0097b5",
            "id": 86653,
            "name": "Carter Jenkins",
            "order": 0,
            "profile_path": "/6Sph044iNZRupQecuuReiaQT52.jpg"
           },
           {
            "cast_id": 5,
            "character": "Jake Pearson",
            "credit_id": "52fe43fdc3a368484e0097b9",
            "id": 86654,
            "name": "Austin Butler",
            "order": 1,
            "profile_path": "/3TIOELfWkg8rkk0AJVRMlSQFLVJ.jpg"
           },
           {
            "cast_id": 6,
            "character": "Stuart Pearson",
            "credit_id": "52fe43fdc3a368484e0097bd",
            "id": 58478,
            "name": "Kevin Nealon",
            "order": 2,
            "profile_path": "/aVp6F3hliJp7dOZsIdwTRIaRx71.jpg"
           },
           {
            "cast_id": 7,
            "character": "Ricky Dillman",
            "credit_id": "52fe43fdc3a368484e0097c1",
            "id": 58368,
            "name": "Robert Hoffman",
            "order": 3,
            "profile_path": "/gNSHIaTf5pea05qolpKpufYqT3f.jpg"
           },
           {
            "cast_id": 8,
            "character": "Rose Pearson",
            "credit_id": "52fe43fdc3a368484e0097c5",
            "id": 45863,
            "name": "Doris Roberts",
            "order": 4,
            "profile_path": "/4J9jniy4ZEd6NRTfkzq9prKoEIt.jpg"
           },
           {
            "cast_id": 9,
            "character": "Sheriff Doug Armstrong",
            "credit_id": "52fe43fdc3a368484e0097c9",
            "id": 51857,
            "name": "Tim Meadows",
            "order": 5,
            "profile_path": "/4V8Jde8DuFBnXOFPGjTVxs7lqlt.jpg"
           },
           {
            "cast_id": 10,
            "character": "Hannah Pearson",
            "credit_id": "52fe43fdc3a368484e0097cd",
            "id": 86655,
            "name": "Ashley Boettcher",
            "order": 6,
            "profile_path": "/37FCvTRjK2XgknzppoKJd7jm6RM.jpg"
           },
           {
            "cast_id": 11,
            "character": "Art Pearson",
            "credit_id": "52fe43fdc3a368484e0097d1",
            "id": 86656,
            "name": "Henri Young",
            "order": 7,
            "profile_path": null
           },
           {
            "cast_id": 12,
            "character": "Lee Pearson",
            "credit_id": "52fe43fdc3a368484e0097d5",
            "id": 86657,
            "name": "Regan Young",
            "order": 8,
            "profile_path": null
           },
           {
            "cast_id": 13,
            "character": "Bethany Pearson",
            "credit_id": "52fe43fdc3a368484e0097d9",
            "id": 67600,
            "name": "Ashley Tisdale",
            "order": 9,
            "profile_path": "/bRB3bV2yPDnFtsMBl3NMFAxJBO9.jpg"
           },
           {
            "cast_id": 14,
            "character": "Julie",
            "credit_id": "52fe43fdc3a368484e0097dd",
            "id": 118544,
            "name": "Malese Jow",
            "order": 10,
            "profile_path": "/cT29b1741g4WCHDnJ21akeq0sWO.jpg"
           }
          ],
          "directors": [
           {
            "credit_id": "52fe43fdc3a368484e0097a5",
            "department": "Directing",
            "id": 79656,
            "job": "Director",
            "name": "John Schultz",
            "profile_path": "/ePis8HPrAlCrkry1VMaHxsdrq4u.jpg"
           }
          ],
          "genres": [
           {
            "id": 12,
            "name": "Adventure"
           },
           {
            "id": 35,
            "name": "Comedy"
           },
           {
            "id": 14,
            "name": "Fantasy"
           },
           {
            "id": 878,
            "name": "Science Fiction"
           },
           {
            "id": 10751,
            "name": "Family"
           }
          ],
          "homepage": "http://www.aliensintheatticmovie.com/",
          "id": 20856,
          "imdb_id": "tt0775552",
          "original_language": "en",
          "original_title": "Aliens in the Attic",
          "overview": "It's summer vacation, but the Pearson family kids are stuck at a boring lake house with their nerdy parents. That is until feisty, little, green aliens crash-land on the roof, with plans to conquer the house AND Earth! Using only their wits, courage and video game-playing skills, the youngsters must band together to defeat the aliens and save the world - but the toughest part might be keeping the whole thing a secret from their parents! Featuring an all-star cast including Ashley Tisdale, Andy Richter, Kevin Nealon, Tim Meadows and Doris Roberts, Aliens In The Attic is the most fun you can have on this planet!",
          "popularity": 0.421026047211314,
          "poster_path": "/oxds3BQ99FdOxiR24Z5I7N5ELwv.jpg",
          "production_companies": [
           {
            "id": 306,
            "name": "Twentieth Century Fox Film Corporation"
           },
           {
            "id": 508,
            "name": "Regency Enterprises"
           },
           {
            "id": 1894,
            "name": "Josephson Entertainment"
           },
           {
            "id": 3855,
            "name": "New Upstairs Productions"
           },
           {
            "id": 3856,
            "name": "Upstairs Canada Productions"
           }
          ],
          "production_countries": [
           {
            "iso_3166_1": "CA",
            "name": "Canada"
           },
           {
            "iso_3166_1": "US",
            "name": "United States of America"
           }
          ],
          "release_date": "2009-07-31",
          "revenue": 0,
          "runtime": 86,
          "spoken_languages": [
           {
            "iso_639_1": "en",
            "name": "English"
           }
          ],
          "status": "Released",
          "tagline": "The aliens vs. the Pearsons",
          "title": "Aliens in the Attic",
          "video": false,
          "vote_average": 5.4,
          "vote_count": 63
         }
        },
        {
         "_explanation": {
          "description": "max of:",
          "details": [
           {
            "description": "sum of:",
            "details": [
             {
              "description": "weight(overview:with in 371) [PerFieldSimilarity], result of:",
              "details": [
               {
                "description": "score(freq=1.0), computed as boost * idf * tf from:",
                "details": [
                 {
                  "description": "boost",
                  "details": [],
                  "value": 2.2
                 },
                 {
                  "description": "idf, computed as log(1 + (N - n + 0.5) / (n + 0.5)) from:",
                  "details": [
                   {
                    "description": "n, number of documents containing term",
                    "details": [],
                    "value": 1166
                   },
                   {
                    "description": "N, total number of documents with field",
                    "details": [],
                    "value": 3050
                   }
                  ],
                  "value": 0.9614616
                 },
                 {
                  "description": "tf, computed as freq / (freq + k1 * (1 - b + b * dl / avgdl)) from:",
                  "details": [
                   {
                    "description": "freq, occurrences of term within document",
                    "details": [],
                    "value": 1
                   },
                   {
                    "description": "k1, term saturation parameter",
                    "details": [],
                    "value": 1.2
                   },
                   {
                    "description": "b, length normalization parameter",
                    "details": [],
                    "value": 0.75
                   },
                   {
                    "description": "dl, length of field (approximate)",
                    "details": [],
                    "value": 40
                   },
                   {
                    "description": "avgdl, average length of field",
                    "details": [],
                    "value": 52.963608
                   }
                  ],
                  "value": 0.505124
                 }
                ],
                "value": 1.068446
               }
              ],
              "value": 1.068446
             }
            ],
            "value": 1.068446
           },
           {
            "description": "sum of:",
            "details": [
             {
              "description": "weight(title:with in 371) [PerFieldSimilarity], result of:",
              "details": [
               {
                "description": "score(freq=1.0), computed as boost * idf * tf from:",
                "details": [
                 {
                  "description": "boost",
                  "details": [],
                  "value": 22
                 },
                 {
                  "description": "idf, computed as log(1 + (N - n + 0.5) / (n + 0.5)) from:",
                  "details": [
                   {
                    "description": "n, number of documents containing term",
                    "details": [],
                    "value": 28
                   },
                   {
                    "description": "N, total number of documents with field",
                    "details": [],
                    "value": 3051
                   }
                  ],
                  "value": 4.6736484
                 },
                 {
                  "description": "tf, computed as freq / (freq + k1 * (1 - b + b * dl / avgdl)) from:",
                  "details": [
                   {
                    "description": "freq, occurrences of term within document",
                    "details": [],
                    "value": 1
                   },
                   {
                    "description": "k1, term saturation parameter",
                    "details": [],
                    "value": 1.2
                   },
                   {
                    "description": "b, length normalization parameter",
                    "details": [],
                    "value": 0.75
                   },
                   {
                    "description": "dl, length of field",
                    "details": [],
                    "value": 3
                   },
                   {
                    "description": "avgdl, average length of field",
                    "details": [],
                    "value": 2.7728612
                   }
                  ],
                  "value": 0.43980724
                 }
                ],
                "value": 45.221096
               }
              ],
              "value": 45.221096
             }
            ],
            "value": 45.221096
           }
          ],
          "value": 45.221096
         },
         "_id": "581",
         "_index": "tmdb",
         "_node": "-kNFzu7pTXOPQnna6Gk3ag",
         "_score": 45.221096,
         "_shard": "[tmdb][0]",
         "_source": {
          "adult": false,
          "backdrop_path": "/gkW2RMlwl4kqaMIDjaAE73rAPpZ.jpg",
          "belongs_to_collection": null,
          "budget": 22000000,
          "cast": [
           {
            "cast_id": 12,
            "character": "Lieutenant Dunbar",
            "credit_id": "52fe4255c3a36847f8016347",
            "id": 1269,
            "name": "Kevin Costner",
            "order": 0,
            "profile_path": "/ybwfOhuuDPJ6NCcX7Y5XJxE6nMs.jpg"
           },
           {
            "cast_id": 13,
            "character": "Stands With A Fist",
            "credit_id": "52fe4255c3a36847f801634b",
            "id": 1581,
            "name": "Mary McDonnell",
            "order": 1,
            "profile_path": "/4NcE9BcnLB3oWns51r9peH8GhN8.jpg"
           },
           {
            "cast_id": 14,
            "character": "Kicking Bird",
            "credit_id": "52fe4255c3a36847f801634f",
            "id": 6804,
            "name": "Graham Greene",
            "order": 2,
            "profile_path": "/vG3j0Phs144Rz2dQnDAYpdhhflG.jpg"
           },
           {
            "cast_id": 15,
            "character": "Wind In His Hair",
            "credit_id": "52fe4255c3a36847f8016353",
            "id": 7853,
            "name": "Rodney A. Grant",
            "order": 3,
            "profile_path": "/zJI1ES5cvy7xtEvRnRURbgW03Bf.jpg"
           },
           {
            "cast_id": 16,
            "character": "Ten Bears",
            "credit_id": "52fe4255c3a36847f8016357",
            "id": 7862,
            "name": "Floyd Red Crow Westerman",
            "order": 4,
            "profile_path": "/rAwnURUoJrIUbQtoRAPbHaTyLcu.jpg"
           },
           {
            "cast_id": 17,
            "character": "Black Shawl",
            "credit_id": "52fe4255c3a36847f801635b",
            "id": 7863,
            "name": "Tantoo Cardinal",
            "order": 5,
            "profile_path": "/2FEYWnf9jbc5VY5fEFiX91vx80k.jpg"
           },
           {
            "cast_id": 18,
            "character": "Timmons",
            "credit_id": "52fe4255c3a36847f801635f",
            "id": 7866,
            "name": "Robert Pastorelli",
            "order": 6,
            "profile_path": "/bgoNfv93PaKf6Pg3mwyxJZN8CVp.jpg"
           },
           {
            "cast_id": 19,
            "character": "Lieutenant Elgin",
            "credit_id": "52fe4255c3a36847f8016363",
            "id": 7867,
            "name": "Charles Rocket",
            "order": 7,
            "profile_path": "/9UJTYqaPaYNPuVTjGd0Cr4XVNqe.jpg"
           },
           {
            "cast_id": 20,
            "character": "Major Fambrough",
            "credit_id": "52fe4255c3a36847f8016367",
            "id": 7868,
            "name": "Maury Chaykin",
            "order": 8,
            "profile_path": "/jhJgkb5P0oAW7QtULjqD2kaN0ez.jpg"
           },
           {
            "cast_id": 21,
            "character": "Stone Calf",
            "credit_id": "52fe4255c3a36847f801636b",
            "id": 7869,
            "name": "Jimmy Herman",
            "order": 9,
            "profile_path": "/edarXZk4BLKdRodLmfGeiZPcHNt.jpg"
           },
           {
            "cast_id": 23,
            "character": "Smiles A Lot",
            "credit_id": "52fe4255c3a36847f8016375",
            "id": 7871,
            "name": "Nathan Lee Chasing His Horse",
            "order": 10,
            "profile_path": "/hQ8i79bGsASGQ3GsOZGAY3PSYn2.jpg"
           },
           {
            "cast_id": 24,
            "character": "Otter",
            "credit_id": "52fe4255c3a36847f8016379",
            "id": 7872,
            "name": "Michael Spears",
            "order": 11,
            "profile_path": "/cAsaHMudiRa0RTooNJ7phkzYchF.jpg"
           },
           {
            "cast_id": 25,
            "character": "Worm",
            "credit_id": "52fe4255c3a36847f801637d",
            "id": 7873,
            "name": "Jason R. Lone Hill",
            "order": 12,
            "profile_path": null
           },
           {
            "cast_id": 26,
            "character": "Spivey",
            "credit_id": "52fe4255c3a36847f8016381",
            "id": 7874,
            "name": "Tony Pierce",
            "order": 13,
            "profile_path": "/nbMYwt5zndejomGFBGepBlhZQID.jpg"
           },
           {
            "cast_id": 27,
            "character": "Pretty Shield",
            "credit_id": "52fe4255c3a36847f8016385",
            "id": 7875,
            "name": "Doris Leader Charge",
            "order": 14,
            "profile_path": "/kxUgWAfdOtMbFH8mPKd7g2gIrOq.jpg"
           },
           {
            "cast_id": 30,
            "character": "Sergeant Pepper",
            "credit_id": "52fe4255c3a36847f8016395",
            "id": 140250,
            "name": "Tom Everett",
            "order": 15,
            "profile_path": "/nxrCAB3xL79EdWLwBUMwXj7FtI3.jpg"
           },
           {
            "cast_id": 31,
            "character": "Sergeant Bauer",
            "credit_id": "52fe4255c3a36847f8016399",
            "id": 21380,
            "name": "Larry Joshua",
            "order": 16,
            "profile_path": "/rWhP4v6mPwRGV4qCdJIC9oOqFn7.jpg"
           },
           {
            "cast_id": 32,
            "character": "Edwards",
            "credit_id": "52fe4255c3a36847f801639d",
            "id": 3206,
            "name": "Kirk Baltz",
            "order": 17,
            "profile_path": "/zCuugN0Lgsi5IKRq9OyYl3vh9pU.jpg"
           },
           {
            "cast_id": 33,
            "character": "Major",
            "credit_id": "52fe4256c3a36847f80163a1",
            "id": 52145,
            "name": "Wayne Grace",
            "order": 18,
            "profile_path": "/cLpzZ67EY36fChyzW83pjynoAfp.jpg"
           },
           {
            "cast_id": 34,
            "character": "General Tide",
            "credit_id": "52fe4256c3a36847f80163a5",
            "id": 14854,
            "name": "Donald Hotton",
            "order": 19,
            "profile_path": "/qCLOFZbktP5X0ChZDrHj5B0qsYN.jpg"
           },
           {
            "cast_id": 35,
            "character": "Christine",
            "credit_id": "52fe4256c3a36847f80163a9",
            "id": 1080276,
            "name": "Annie Costner",
            "order": 20,
            "profile_path": "/vBP2LHJTU48DGKJVOnM0O5DIRhy.jpg"
           },
           {
            "cast_id": 36,
            "character": "Christine's Mother",
            "credit_id": "52fe4256c3a36847f80163ad",
            "id": 1160349,
            "name": "Elisa Daniel",
            "order": 21,
            "profile_path": "/89kTBf4CXmeszbzu1zH0lo5Ryu9.jpg"
           },
           {
            "cast_id": 81,
            "character": "Big Warrior",
            "credit_id": "54be603ac3a3686c6b00f56d",
            "id": 1416085,
            "name": "Percy White Plume",
            "order": 22,
            "profile_path": null
           },
           {
            "cast_id": 82,
            "character": "Escort Warrior",
            "credit_id": "550f3087925141073d00351b",
            "id": 1444164,
            "name": "John Tail",
            "order": 23,
            "profile_path": null
           },
           {
            "cast_id": 83,
            "character": "Sioux #1 / Warrior #1",
            "credit_id": "550f30e7c3a3683eb800320b",
            "id": 4024,
            "name": "Steve Reevis",
            "order": 24,
            "profile_path": "/1jyaStTyO7omrKhRL3Hil3CWbks.jpg"
           },
           {
            "cast_id": 84,
            "character": "Sioux #2 / Warrior #2 (as Sheldon Wolfchild)",
            "credit_id": "550f3132c3a3683eb800320e",
            "id": 240609,
            "name": "Sheldon Peters Wolfchild",
            "order": 25,
            "profile_path": null
           },
           {
            "cast_id": 80,
            "character": "Toughest Pawnee",
            "credit_id": "54be5ff4c3a3684046008304",
            "id": 15853,
            "name": "Wes Studi",
            "order": 26,
            "profile_path": "/xwmhqIx6HU2dACyZ2BxGnCWJoXz.jpg"
           },
           {
            "cast_id": 85,
            "character": "Pawnee #1",
            "credit_id": "550f317792514146a000a903",
            "id": 162972,
            "name": "Buffalo Child",
            "order": 27,
            "profile_path": null
           },
           {
            "cast_id": 86,
            "character": "Pawnee #2",
            "credit_id": "550f3185c3a3681db2009fbf",
            "id": 1444165,
            "name": "Clayton Big Eagle",
            "order": 28,
            "profile_path": null
           },
           {
            "cast_id": 87,
            "character": "Pawnee #3",
            "credit_id": "550f31989251410701003567",
            "id": 1444166,
            "name": "Richard Leader Charge",
            "order": 29,
            "profile_path": null
           },
           {
            "cast_id": 88,
            "character": "Sioux Warrior",
            "credit_id": "550f31aec3a368488600ae3f",
            "id": 1444167,
            "name": "Redwing Ted Nez",
            "order": 30,
            "profile_path": null
           },
           {
            "cast_id": 89,
            "character": "Sioux Warrior",
            "credit_id": "550f31b992514164ac0011cf",
            "id": 1444168,
            "name": "Marvin Holy",
            "order": 31,
            "profile_path": null
           },
           {
            "cast_id": 90,
            "character": "Sioux Courier",
            "credit_id": "550f31c8c3a368488600ae47",
            "id": 1444169,
            "name": "Raymond Newholy",
            "order": 32,
            "profile_path": null
           },
           {
            "cast_id": 91,
            "character": "Kicking Bird's Son",
            "credit_id": "550f31da925141070100356f",
            "id": 1444170,
            "name": "David J. Fuller",
            "order": 33,
            "profile_path": null
           },
           {
            "cast_id": 92,
            "character": "Kicking Bird's Eldest Son",
            "credit_id": "550f31efc3a3683f39003438",
            "id": 1444171,
            "name": "Ryan White Bull",
            "order": 34,
            "profile_path": null
           },
           {
            "cast_id": 93,
            "character": "Kicking Bird's Daughter",
            "credit_id": "550f3206925141073d003544",
            "id": 1444172,
            "name": "Otakuye Conroy",
            "order": 35,
            "profile_path": null
           },
           {
            "cast_id": 94,
            "character": "Village Mother",
            "credit_id": "550f3212c3a3683eb8003217",
            "id": 1444173,
            "name": "Maretta Big Crow",
            "order": 36,
            "profile_path": null
           },
           {
            "cast_id": 95,
            "character": "Guard (as Steve Chambers)",
            "credit_id": "550f327592514166db00128e",
            "id": 139999,
            "name": "Steven Chambers",
            "order": 37,
            "profile_path": null
           },
           {
            "cast_id": 96,
            "character": "General's Aide (as William H. Burton)",
            "credit_id": "550f32ee9251416bd1001154",
            "id": 1412253,
            "name": "William H. Burton Jr.",
            "order": 38,
            "profile_path": null
           },
           {
            "cast_id": 97,
            "character": "Confederate Cavalryman",
            "credit_id": "550f331bc3a3681db2009ff1",
            "id": 1444174,
            "name": "Bill W. Curry",
            "order": 39,
            "profile_path": null
           },
           {
            "cast_id": 98,
            "character": "Confederate Soldier",
            "credit_id": "550f3351925141469900a82c",
            "id": 1444175,
            "name": "Nick Thompson",
            "order": 40,
            "profile_path": null
           },
           {
            "cast_id": 99,
            "character": "Confederate Soldier",
            "credit_id": "550f3363c3a3683eb8003233",
            "id": 1444176,
            "name": "Carter Hanner",
            "order": 41,
            "profile_path": null
           },
           {
            "cast_id": 100,
            "character": "Wagon Driver",
            "credit_id": "550f336f925141469900a833",
            "id": 1444177,
            "name": "Kent Hays",
            "order": 42,
            "profile_path": null
           },
           {
            "cast_id": 101,
            "character": "Union Soldier",
            "credit_id": "550f33b59251416bd1001163",
            "id": 1444178,
            "name": "Robert Goldman",
            "order": 43,
            "profile_path": null
           },
           {
            "cast_id": 102,
            "character": "Tucker",
            "credit_id": "550f33d4c3a3681db200a003",
            "id": 96636,
            "name": "Frank P. Costanza",
            "order": 44,
            "profile_path": null
           },
           {
            "cast_id": 103,
            "character": "Ray",
            "credit_id": "550f33e3c3a3683f39003468",
            "id": 1444179,
            "name": "James A. Mitchell",
            "order": 45,
            "profile_path": null
           },
           {
            "cast_id": 104,
            "character": "Ambush Wagon Driver",
            "credit_id": "550f33f79251416bd100116a",
            "id": 1444180,
            "name": "R. L. Curtin",
            "order": 46,
            "profile_path": null
           },
           {
            "cast_id": 105,
            "character": "Cisco (horse)",
            "credit_id": "550f3416c3a3683f0a00327b",
            "id": 1444181,
            "name": "Justin",
            "order": 47,
            "profile_path": null
           },
           {
            "cast_id": 106,
            "character": "Two Socks (wolf)",
            "credit_id": "550f3434c3a3683f0a003281",
            "id": 1444182,
            "name": "Teddy",
            "order": 48,
            "profile_path": null
           },
           {
            "cast_id": 107,
            "character": "Two Socks (wolf)",
            "credit_id": "550f3492925141065c00359a",
            "id": 1444183,
            "name": "Buck",
            "order": 49,
            "profile_path": null
           }
          ],
          "directors": [
           {
            "credit_id": "52fe4255c3a36847f801630d",
            "department": "Directing",
            "id": 1269,
            "job": "Director",
            "name": "Kevin Costner",
            "profile_path": "/ybwfOhuuDPJ6NCcX7Y5XJxE6nMs.jpg"
           }
          ],
          "genres": [
           {
            "id": 12,
            "name": "Adventure"
           },
           {
            "id": 18,
            "name": "Drama"
           },
           {
            "id": 37,
            "name": "Western"
           }
          ],
          "homepage": "",
          "id": 581,
          "imdb_id": "tt0099348",
          "original_language": "en",
          "original_title": "Dances with Wolves",
          "overview": "Wounded Civil War soldier John Dunbar tries to commit suicide -- and becomes a hero instead. As a reward, he's assigned to his dream post, a remote junction on the Western frontier, and soon makes unlikely friends with the local Sioux tribe.",
          "popularity": 1.53079702533824,
          "poster_path": "/hpmclspug1I8EwKSWhL7pWWltA.jpg",
          "production_companies": [
           {
            "id": 335,
            "name": "Tig Productions"
           },
           {
            "id": 2630,
            "name": "Majestic Films International"
           }
          ],
          "production_countries": [
           {
            "iso_3166_1": "GB",
            "name": "United Kingdom"
           },
           {
            "iso_3166_1": "US",
            "name": "United States of America"
           }
          ],
          "release_date": "1990-11-09",
          "revenue": 424208848,
          "runtime": 181,
          "spoken_languages": [
           {
            "iso_639_1": "en",
            "name": "English"
           }
          ],
          "status": "Released",
          "tagline": "Inside everyone is a frontier waiting to be discovered.",
          "title": "Dances with Wolves",
          "video": false,
          "vote_average": 7.1,
          "vote_count": 301
         }
        },
        {
         "_explanation": {
          "description": "max of:",
          "details": [
           {
            "description": "sum of:",
            "details": [
             {
              "description": "weight(title:with in 23) [PerFieldSimilarity], result of:",
              "details": [
               {
                "description": "score(freq=1.0), computed as boost * idf * tf from:",
                "details": [
                 {
                  "description": "boost",
                  "details": [],
                  "value": 22
                 },
                 {
                  "description": "idf, computed as log(1 + (N - n + 0.5) / (n + 0.5)) from:",
                  "details": [
                   {
                    "description": "n, number of documents containing term",
                    "details": [],
                    "value": 28
                   },
                   {
                    "description": "N, total number of documents with field",
                    "details": [],
                    "value": 3051
                   }
                  ],
                  "value": 4.6736484
                 },
                 {
                  "description": "tf, computed as freq / (freq + k1 * (1 - b + b * dl / avgdl)) from:",
                  "details": [
                   {
                    "description": "freq, occurrences of term within document",
                    "details": [],
                    "value": 1
                   },
                   {
                    "description": "k1, term saturation parameter",
                    "details": [],
                    "value": 1.2
                   },
                   {
                    "description": "b, length normalization parameter",
                    "details": [],
                    "value": 0.75
                   },
                   {
                    "description": "dl, length of field",
                    "details": [],
                    "value": 3
                   },
                   {
                    "description": "avgdl, average length of field",
                    "details": [],
                    "value": 2.7728612
                   }
                  ],
                  "value": 0.43980724
                 }
                ],
                "value": 45.221096
               }
              ],
              "value": 45.221096
             }
            ],
            "value": 45.221096
           }
          ],
          "value": 45.221096
         },
         "_id": "50544",
         "_index": "tmdb",
         "_node": "-kNFzu7pTXOPQnna6Gk3ag",
         "_score": 45.221096,
         "_shard": "[tmdb][0]",
         "_source": {
          "adult": false,
          "backdrop_path": "/liq5ljqURqLiBUgMkNiR388ZuSH.jpg",
          "belongs_to_collection": null,
          "budget": 35000000,
          "cast": [
           {
            "cast_id": 2,
            "character": "Dylan Harper",
            "credit_id": "52fe47cac3a36847f8148831",
            "id": 12111,
            "name": "Justin Timberlake",
            "order": 0,
            "profile_path": "/lB3pku743f3N82AVXz10fGGBAgL.jpg"
           },
           {
            "cast_id": 1,
            "character": "Jamie Rellis",
            "credit_id": "52fe47cac3a36847f814882d",
            "id": 18973,
            "name": "Mila Kunis",
            "order": 1,
            "profile_path": "/bnuXAsWKpQGqoB5SPQ8vuJLqVRV.jpg"
           },
           {
            "cast_id": 11,
            "character": "Lorna",
            "credit_id": "52fe47cbc3a36847f8148857",
            "id": 1276,
            "name": "Patricia Clarkson",
            "order": 2,
            "profile_path": "/10ZSyaUqzUlKTd60HmeiGhlytZG.jpg"
           },
           {
            "cast_id": 9,
            "character": "Tommy Bollinger",
            "credit_id": "52fe47cbc3a36847f814884f",
            "id": 57755,
            "name": "Woody Harrelson",
            "order": 3,
            "profile_path": "/ivfalpnvELPaSILqP6K6rabXfsU.jpg"
           },
           {
            "cast_id": 3,
            "character": "Sammy - Sam the Magnificent",
            "credit_id": "52fe47cac3a36847f8148835",
            "id": 147710,
            "name": "Nolan Gould",
            "order": 4,
            "profile_path": "/xyritJRCjFRZBBua866EanS80st.jpg"
           },
           {
            "cast_id": 8,
            "character": "Himself",
            "credit_id": "52fe47cbc3a36847f814884b",
            "id": 127963,
            "name": "Shaun White",
            "order": 5,
            "profile_path": "/7JqSN7O59LwxN0CIiq7dre6sUHd.jpg"
           },
           {
            "cast_id": 10,
            "character": "Annie Harper",
            "credit_id": "52fe47cbc3a36847f8148853",
            "id": 40279,
            "name": "Jenna Elfman",
            "order": 6,
            "profile_path": "/cTXzciaLL96Pa75HzEr1u1kbfeH.jpg"
           },
           {
            "cast_id": 12,
            "character": "Parker",
            "credit_id": "52fe47cbc3a36847f814885b",
            "id": 23821,
            "name": "Bryan Greenberg",
            "order": 7,
            "profile_path": "/4BtHlLIWrhQy7ISd4rEBDomduxd.jpg"
           },
           {
            "cast_id": 13,
            "character": "Mr. Harper",
            "credit_id": "52fe47cbc3a36847f814885f",
            "id": 28633,
            "name": "Richard Jenkins",
            "order": 8,
            "profile_path": "/iz61iPIgNUp0yk48bRNjEJ5GHO4.jpg"
           },
           {
            "cast_id": 16,
            "character": "Darin Arturo Morena",
            "credit_id": "52fe47cbc3a36847f814886f",
            "id": 17273,
            "name": "Masi Oka",
            "order": 9,
            "profile_path": "/ag0N7t4rr53jgqHwOmlhV3BF1WQ.jpg"
           },
           {
            "cast_id": 17,
            "character": "Quincy",
            "credit_id": "52fe47cbc3a36847f8148873",
            "id": 62861,
            "name": "Andy Samberg",
            "order": 10,
            "profile_path": "/gneiMN0OldoxNfmu6dkcBEy0u2k.jpg"
           },
           {
            "cast_id": 18,
            "character": "Kayla",
            "credit_id": "52fe47cbc3a36847f8148877",
            "id": 54693,
            "name": "Emma Stone",
            "order": 11,
            "profile_path": "/lPyR5mKhdqFmgxaCMJK6w3g1OAT.jpg"
           },
           {
            "cast_id": 19,
            "character": "Hostess",
            "credit_id": "52fe47cbc3a36847f814887b",
            "id": 109046,
            "name": "Tiya Sircar",
            "order": 12,
            "profile_path": "/uqAiFL1P344fWa4cqfQhKWNoUyO.jpg"
           },
           {
            "cast_id": 20,
            "character": "Female Co-Worker",
            "credit_id": "530375c6c3a3685ce732c9e1",
            "id": 154826,
            "name": "Catherine Reitman",
            "order": 13,
            "profile_path": "/g3vfawpUKC0wCPNANg9ib4ZmaZc.jpg"
           }
          ],
          "directors": [
           {
            "credit_id": "52fe47cbc3a36847f814886b",
            "department": "Directing",
            "id": 82511,
            "job": "Director",
            "name": "Will Gluck",
            "profile_path": "/67A9XvitqSXL4w6PftXkG15L0C.jpg"
           }
          ],
          "genres": [
           {
            "id": 35,
            "name": "Comedy"
           }
          ],
          "homepage": "http://www.fwb-movie.com/",
          "id": 50544,
          "imdb_id": "tt1632708",
          "original_language": "en",
          "original_title": "Friends with Benefits",
          "overview": "While trying to avoid the clichés of Hollywood romantic comedies, Dylan and Jamie soon discover however that adding the act of sex to their friendship does lead to complications.",
          "popularity": 0.973281632343643,
          "poster_path": "/tmVuyRSS9RYFs73YGbMnFous7DH.jpg",
          "production_companies": [
           {
            "id": 97,
            "name": "Castle Rock Entertainment"
           },
           {
            "id": 3287,
            "name": "Screen Gems"
           },
           {
            "id": 7291,
            "name": "Olive Bridge Entertainment"
           }
          ],
          "production_countries": [
           {
            "iso_3166_1": "US",
            "name": "United States of America"
           }
          ],
          "release_date": "2011-07-21",
          "revenue": 150483765,
          "runtime": 109,
          "spoken_languages": [
           {
            "iso_639_1": "en",
            "name": "English"
           }
          ],
          "status": "Released",
          "tagline": "Some friends come with a happy ending.",
          "title": "Friends with Benefits",
          "video": false,
          "vote_average": 6.2,
          "vote_count": 619
         }
        },
        {
         "_explanation": {
          "description": "max of:",
          "details": [
           {
            "description": "sum of:",
            "details": [
             {
              "description": "weight(title:with in 259) [PerFieldSimilarity], result of:",
              "details": [
               {
                "description": "score(freq=1.0), computed as boost * idf * tf from:",
                "details": [
                 {
                  "description": "boost",
                  "details": [],
                  "value": 22
                 },
                 {
                  "description": "idf, computed as log(1 + (N - n + 0.5) / (n + 0.5)) from:",
                  "details": [
                   {
                    "description": "n, number of documents containing term",
                    "details": [],
                    "value": 28
                   },
                   {
                    "description": "N, total number of documents with field",
                    "details": [],
                    "value": 3051
                   }
                  ],
                  "value": 4.6736484
                 },
                 {
                  "description": "tf, computed as freq / (freq + k1 * (1 - b + b * dl / avgdl)) from:",
                  "details": [
                   {
                    "description": "freq, occurrences of term within document",
                    "details": [],
                    "value": 1
                   },
                   {
                    "description": "k1, term saturation parameter",
                    "details": [],
                    "value": 1.2
                   },
                   {
                    "description": "b, length normalization parameter",
                    "details": [],
                    "value": 0.75
                   },
                   {
                    "description": "dl, length of field",
                    "details": [],
                    "value": 3
                   },
                   {
                    "description": "avgdl, average length of field",
                    "details": [],
                    "value": 2.7728612
                   }
                  ],
                  "value": 0.43980724
                 }
                ],
                "value": 45.221096
               }
              ],
              "value": 45.221096
             }
            ],
            "value": 45.221096
           }
          ],
          "value": 45.221096
         },
         "_id": "139567",
         "_index": "tmdb",
         "_node": "-kNFzu7pTXOPQnna6Gk3ag",
         "_score": 45.221096,
         "_shard": "[tmdb][0]",
         "_source": {
          "adult": false,
          "backdrop_path": "/cG9WcaappGSq8Yxd90rQ5Gwioyi.jpg",
          "belongs_to_collection": null,
          "budget": 20000000,
          "cast": [
           {
            "cast_id": 1,
            "character": "Mike Cella",
            "credit_id": "52fe4c67c3a368484e1b68f1",
            "id": 62,
            "name": "Bruce Willis",
            "order": 0,
            "profile_path": "/kI1OluWhLJk3pnR19VjOfABpnTY.jpg"
           },
           {
            "cast_id": 2,
            "character": "Jeremy Coleman",
            "credit_id": "52fe4c67c3a368484e1b68f5",
            "id": 19536,
            "name": "Josh Duhamel",
            "order": 1,
            "profile_path": "/hi5OzlZAwf22xRRPLFbKnXNoZ9L.jpg"
           },
           {
            "cast_id": 3,
            "character": "Talia Durham",
            "credit_id": "52fe4c67c3a368484e1b68f9",
            "id": 5916,
            "name": "Rosario Dawson",
            "order": 2,
            "profile_path": "/x4aOj4DYdxtIDpGrxyBD7gljEcf.jpg"
           },
           {
            "cast_id": 4,
            "character": "Neil Hagan",
            "credit_id": "52fe4c67c3a368484e1b68fd",
            "id": 7132,
            "name": "Vincent D'Onofrio",
            "order": 3,
            "profile_path": "/4pgzL6eP5Qdf2PhagqTNVEshv5e.jpg"
           },
           {
            "cast_id": 5,
            "character": "Emilio",
            "credit_id": "52fe4c67c3a368484e1b6901",
            "id": 62644,
            "name": "50 Cent",
            "order": 4,
            "profile_path": "/gsEwsWWtC5xwFCzL2CnPmc24uIO.jpg"
           },
           {
            "cast_id": 6,
            "character": "Harold Gethers",
            "credit_id": "52fe4c67c3a368484e1b6905",
            "id": 31028,
            "name": "Richard Schiff",
            "order": 5,
            "profile_path": "/gHFxL7MIGvmcbg5hhTNrbjIttQN.jpg"
           },
           {
            "cast_id": 7,
            "character": "Boyd",
            "credit_id": "52fe4c67c3a368484e1b6909",
            "id": 980,
            "name": "Vinnie Jones",
            "order": 6,
            "profile_path": "/1QQea9t0JkRVVVbgVtpGAQuf0x5.jpg"
           },
           {
            "cast_id": 8,
            "character": "Craig",
            "credit_id": "52fe4c67c3a368484e1b690d",
            "id": 155743,
            "name": "James Lesure",
            "order": 7,
            "profile_path": "/nDpg0Muebx45YUDM7ROywgVVxeZ.jpg"
           },
           {
            "cast_id": 9,
            "character": "Wallace",
            "credit_id": "52fe4c67c3a368484e1b6911",
            "id": 586935,
            "name": "Quinton Jackson",
            "order": 8,
            "profile_path": "/nhzVZm9QBWQ98HPiCV7PvrCoqFR.jpg"
           },
           {
            "cast_id": 10,
            "character": "Darren",
            "credit_id": "52fe4c67c3a368484e1b6915",
            "id": 91612,
            "name": "Arie Verveen",
            "order": 9,
            "profile_path": "/yh3mOsRXENzK3JJljFlSgX7p6QL.jpg"
           },
           {
            "cast_id": 11,
            "character": "Karen Westlake",
            "credit_id": "52fe4c67c3a368484e1b6919",
            "id": 66579,
            "name": "Bonnie Somerville",
            "order": 10,
            "profile_path": "/a1tjNEX8Tm5WupP9vEdRnpW2s45.jpg"
           },
           {
            "cast_id": 12,
            "character": "Sherrod",
            "credit_id": "52fe4c67c3a368484e1b691d",
            "id": 213058,
            "name": "Nnamdi Asomugha",
            "order": 11,
            "profile_path": null
           },
           {
            "cast_id": 13,
            "character": "Agent Mullens",
            "credit_id": "52fe4c67c3a368484e1b6921",
            "id": 14721,
            "name": "Kevin Dunn",
            "order": 12,
            "profile_path": "/85thH2pUn2tPP97QhnYQI7MBiCW.jpg"
           },
           {
            "cast_id": 14,
            "character": "Sean",
            "credit_id": "52fe4c67c3a368484e1b6925",
            "id": 574380,
            "name": "Danny Epper",
            "order": 13,
            "profile_path": "/51tZpRQ7ECagFytqbdrGMcAW7T.jpg"
           },
           {
            "cast_id": 71,
            "character": "Kane",
            "credit_id": "550bffd092514146a0003417",
            "id": 1055739,
            "name": "Scott A. Martin",
            "order": 14,
            "profile_path": "/5XoslX4ZEsiT8k8qvG5olx65r2W.jpg"
           }
          ],
          "directors": [
           {
            "credit_id": "52fe4c67c3a368484e1b6973",
            "department": "Directing",
            "id": 9556,
            "job": "Director",
            "name": "David Barrett",
            "profile_path": "/ghWOXqNnJIYKH1GDkym7YyUx882.jpg"
           }
          ],
          "genres": [
           {
            "id": 28,
            "name": "Action"
           },
           {
            "id": 80,
            "name": "Crime"
           },
           {
            "id": 18,
            "name": "Drama"
           },
           {
            "id": 53,
            "name": "Thriller"
           }
          ],
          "homepage": "",
          "id": 139567,
          "imdb_id": "tt1925431",
          "original_language": "en",
          "original_title": "Fire With Fire",
          "overview": "A fireman takes an unexpected course of action when a man whom he's been ordered to testify against, after being held up at a local convenience store, threatens him.",
          "popularity": 0.845092321207316,
          "poster_path": "/2F0Y4l7uXIGfDMtfuq2k6b2744w.jpg",
          "production_companies": [
           {
            "id": 46961,
            "name": "Knightsbridge Entertainment"
           },
           {
            "id": 376,
            "name": "Industry Entertainment"
           },
           {
            "id": 3604,
            "name": "Grindstone Entertainment Group"
           },
           {
            "id": 5830,
            "name": "Cheetah Vision"
           },
           {
            "id": 6667,
            "name": "Mandalay Vision"
           },
           {
            "id": 6819,
            "name": "Paradox Entertainment"
           },
           {
            "id": 10405,
            "name": "Emmett/Furla Films"
           },
           {
            "id": 31832,
            "name": "Envision Entertainment"
           }
          ],
          "production_countries": [
           {
            "iso_3166_1": "US",
            "name": "United States of America"
           }
          ],
          "release_date": "2012-08-31",
          "revenue": 0,
          "runtime": 97,
          "spoken_languages": [
           {
            "iso_639_1": "en",
            "name": "English"
           }
          ],
          "status": "Released",
          "tagline": "Revenge has its own set of rules.",
          "title": "Fire with Fire",
          "video": false,
          "vote_average": 5.9,
          "vote_count": 77
         }
        },
        {
         "_explanation": {
          "description": "max of:",
          "details": [
           {
            "description": "sum of:",
            "details": [
             {
              "description": "weight(title:with in 1767) [PerFieldSimilarity], result of:",
              "details": [
               {
                "description": "score(freq=1.0), computed as boost * idf * tf from:",
                "details": [
                 {
                  "description": "boost",
                  "details": [],
                  "value": 22
                 },
                 {
                  "description": "idf, computed as log(1 + (N - n + 0.5) / (n + 0.5)) from:",
                  "details": [
                   {
                    "description": "n, number of documents containing term",
                    "details": [],
                    "value": 28
                   },
                   {
                    "description": "N, total number of documents with field",
                    "details": [],
                    "value": 3051
                   }
                  ],
                  "value": 4.6736484
                 },
                 {
                  "description": "tf, computed as freq / (freq + k1 * (1 - b + b * dl / avgdl)) from:",
                  "details": [
                   {
                    "description": "freq, occurrences of term within document",
                    "details": [],
                    "value": 1
                   },
                   {
                    "description": "k1, term saturation parameter",
                    "details": [],
                    "value": 1.2
                   },
                   {
                    "description": "b, length normalization parameter",
                    "details": [],
                    "value": 0.75
                   },
                   {
                    "description": "dl, length of field",
                    "details": [],
                    "value": 3
                   },
                   {
                    "description": "avgdl, average length of field",
                    "details": [],
                    "value": 2.7728612
                   }
                  ],
                  "value": 0.43980724
                 }
                ],
                "value": 45.221096
               }
              ],
              "value": 45.221096
             }
            ],
            "value": 45.221096
           }
          ],
          "value": 45.221096
         },
         "_id": "80038",
         "_index": "tmdb",
         "_node": "-kNFzu7pTXOPQnna6Gk3ag",
         "_score": 45.221096,
         "_shard": "[tmdb][0]",
         "_source": {
          "adult": false,
          "backdrop_path": "/uDT5U5VBn2TVjUQsoV9hxouHmtH.jpg",
          "belongs_to_collection": null,
          "budget": 7251073,
          "cast": [
           {
            "cast_id": 1,
            "character": "Missy",
            "credit_id": "52fe479e9251416c91070493",
            "id": 41091,
            "name": "Kristen Wiig",
            "order": 0,
            "profile_path": "/x5avlvpHlBGGLhzbzuSfmOsMGlw.jpg"
           },
           {
            "cast_id": 2,
            "character": "Ben",
            "credit_id": "52fe479e9251416c91070497",
            "id": 65717,
            "name": "Jon Hamm",
            "order": 1,
            "profile_path": "/7sjEnFaFNOzPeu5GhCeNJWhnOLt.jpg"
           },
           {
            "cast_id": 21,
            "character": "Julie Keller",
            "credit_id": "52fe479f9251416c910704f1",
            "id": 119368,
            "name": "Jennifer Westfeldt",
            "order": 2,
            "profile_path": "/ZCuD043X1SS5yIHXQcPJ8Tg9Vs.jpg"
           },
           {
            "cast_id": 3,
            "character": "Mary Jane",
            "credit_id": "52fe479e9251416c9107049b",
            "id": 19537,
            "name": "Megan Fox",
            "order": 3,
            "profile_path": "/7rq0erGOfRSQeBBqypUyxvMNYhT.jpg"
           },
           {
            "cast_id": 4,
            "character": "Alex",
            "credit_id": "52fe479e9251416c9107049f",
            "id": 40477,
            "name": "Chris O'Dowd",
            "order": 4,
            "profile_path": "/hmTLgS5aT1t1sdg1GfdXM9yYUPI.jpg"
           },
           {
            "cast_id": 5,
            "character": "Leslie",
            "credit_id": "52fe479e9251416c910704a3",
            "id": 52792,
            "name": "Maya Rudolph",
            "order": 5,
            "profile_path": "/qLDuXku39c4uwVf3h2GjFqwZqik.jpg"
           },
           {
            "cast_id": 6,
            "character": "Kurt",
            "credit_id": "52fe479e9251416c910704a7",
            "id": 12833,
            "name": "Edward Burns",
            "order": 6,
            "profile_path": "/jR0Z5bkcYxQ1V603v2RuWJZ4Uew.jpg"
           },
           {
            "cast_id": 7,
            "character": "Jason",
            "credit_id": "52fe479e9251416c910704ab",
            "id": 36801,
            "name": "Adam Scott",
            "order": 7,
            "profile_path": "/5x21CfDeZo2Fq1AOskE1o6vYzlZ.jpg"
           },
           {
            "cast_id": 10,
            "character": "Elaine Keller",
            "credit_id": "52fe479e9251416c910704bb",
            "id": 160328,
            "name": "Lee Bryant",
            "order": 8,
            "profile_path": "/riFEbXO78dRCTxzQ358AVr1m4uD.jpg"
           },
           {
            "cast_id": 11,
            "character": "Marcy Fryman",
            "credit_id": "52fe479e9251416c910704bf",
            "id": 728,
            "name": "Kelly Bishop",
            "order": 9,
            "profile_path": "/rXjKYHafK17IiqgjWvmZYdmpdo9.jpg"
           },
           {
            "cast_id": 12,
            "character": "Phil Fryman",
            "credit_id": "52fe479e9251416c910704c3",
            "id": 115858,
            "name": "Cotter Smith",
            "order": 10,
            "profile_path": "/4lMLsN7hLmtGPqOt626dnui64Cb.jpg"
           }
          ],
          "directors": [
           {
            "credit_id": "52fe479e9251416c910704b1",
            "department": "Directing",
            "id": 119368,
            "job": "Director",
            "name": "Jennifer Westfeldt",
            "profile_path": "/ZCuD043X1SS5yIHXQcPJ8Tg9Vs.jpg"
           }
          ],
          "genres": [
           {
            "id": 35,
            "name": "Comedy"
           },
           {
            "id": 18,
            "name": "Drama"
           },
           {
            "id": 10749,
            "name": "Romance"
           }
          ],
          "homepage": "http://www.friendswithkids.com/#",
          "id": 80038,
          "imdb_id": "tt1720616",
          "original_language": "en",
          "original_title": "Friends with Kids",
          "overview": "Revolves around a pair of best friends in their 30s who observe the effect of having kids has taken on the couples they know. To avoid that toll, the best friends resolve to have a child and then date other people.",
          "popularity": 0.781319300810492,
          "poster_path": "/8P1iId23hDMVQL00k2IbzW46qQG.jpg",
          "production_companies": [
           {
            "id": 6404,
            "name": "Locomotive"
           }
          ],
          "production_countries": [
           {
            "iso_3166_1": "US",
            "name": "United States of America"
           }
          ],
          "release_date": "2011-09-09",
          "revenue": 12186625,
          "runtime": 107,
          "spoken_languages": [
           {
            "iso_639_1": "fr",
            "name": "Français"
           },
           {
            "iso_639_1": "en",
            "name": "English"
           }
          ],
          "status": "Released",
          "tagline": "Family doesn't always go according to plan.",
          "title": "Friends with Kids",
          "video": false,
          "vote_average": 6.1,
          "vote_count": 64
         }
        }
       ],
       "max_score": 85.56929,
       "total": {
        "relation": "eq",
        "value": 1197
       }
      },
      "text/plain": [
       "<IPython.core.display.JSON object>"
      ]
     },
     "execution_count": 22,
     "metadata": {
      "application/json": {
       "expanded": false,
       "root": "root"
      }
     },
     "output_type": "execute_result"
    }
   ],
   "source": [
    "from IPython.display import JSON\n",
    "\n",
    "query = {\n",
    "   'query': {\n",
    "        'multi_match': { \n",
    "            'query': usersSearch,  #User's query\n",
    "            'fields': ['title^10', 'overview']\n",
    "        }\n",
    "    }\n",
    "}\n",
    "resp = search(client, query, explain=True)\n",
    "JSON(resp)\n"
   ]
  },
  {
   "cell_type": "markdown",
   "id": "b19249c2-f18c-4de2-8655-6617db57cfd1",
   "metadata": {},
   "source": [
    "# 2.3.3 Debugging Analysis"
   ]
  },
  {
   "cell_type": "code",
   "execution_count": 30,
   "id": "2ca64bfa",
   "metadata": {},
   "outputs": [
    {
     "name": "stdout",
     "output_type": "stream",
     "text": [
      "---\n",
      "tokens:\n",
      "- token: \"fire\"\n",
      "  start_offset: 0\n",
      "  end_offset: 4\n",
      "  type: \"<ALPHANUM>\"\n",
      "  position: 0\n",
      "- token: \"with\"\n",
      "  start_offset: 5\n",
      "  end_offset: 9\n",
      "  type: \"<ALPHANUM>\"\n",
      "  position: 1\n",
      "- token: \"fire\"\n",
      "  start_offset: 10\n",
      "  end_offset: 14\n",
      "  type: \"<ALPHANUM>\"\n",
      "  position: 2\n",
      "\n"
     ]
    }
   ],
   "source": [
    "# Inner Layer of the Onion -- Why did the search engine consider these movies matches? Two sides to this\n",
    "# (1) What tokens are placed in the search engine?\n",
    "# (2) What did the search engine attempt to match exactly?\n",
    "\n",
    "import requests\n",
    "from requests.auth import HTTPBasicAuth\n",
    "basic = HTTPBasicAuth('admin', 'admin')\n",
    "\n",
    "def analyze(body, basic):\n",
    "    resp = requests.get('http://localhost:9200/tmdb/_analyze?format=yaml', \n",
    "                    data=json.dumps(body), auth=basic, headers={'content-type': 'application/json'})\n",
    "    return resp.text\n",
    "\n",
    "body = { \"text\": \"Fire with Fire\", \"field\": \"title\" }\n",
    "print(analyze(body, basic))"
   ]
  },
  {
   "cell_type": "markdown",
   "id": "42cbd5a8-20ca-4302-8259-428b286577d9",
   "metadata": {},
   "source": [
    "# 2.3.5 -- Solving The Matching Problem"
   ]
  },
  {
   "cell_type": "code",
   "execution_count": 32,
   "id": "b643ed9c",
   "metadata": {},
   "outputs": [
    {
     "name": "stdout",
     "output_type": "stream",
     "text": [
      "building...\n",
      "indexing...\n"
     ]
    }
   ],
   "source": [
    "mappingSettings = {\n",
    "       'movie': {\n",
    "            'properties': {\n",
    "               'title': { #A\n",
    "                   'type': 'string',\n",
    "                   'analyzer': 'english'\n",
    "               },\n",
    "            'overview': {\n",
    "                   'type': 'string',\n",
    "                   'analyzer': 'english'\n",
    "               }\n",
    "            }\n",
    "       }\n",
    "}\n",
    "reindex(client, mappingSettings=mappingSettings, movieDict=movieDict) \n"
   ]
  },
  {
   "cell_type": "code",
   "execution_count": 33,
   "id": "bef13ddc",
   "metadata": {},
   "outputs": [
    {
     "name": "stdout",
     "output_type": "stream",
     "text": [
      "---\n",
      "tokens:\n",
      "- token: \"fire\"\n",
      "  start_offset: 0\n",
      "  end_offset: 4\n",
      "  type: \"<ALPHANUM>\"\n",
      "  position: 0\n",
      "- token: \"with\"\n",
      "  start_offset: 5\n",
      "  end_offset: 9\n",
      "  type: \"<ALPHANUM>\"\n",
      "  position: 1\n",
      "- token: \"fire\"\n",
      "  start_offset: 10\n",
      "  end_offset: 14\n",
      "  type: \"<ALPHANUM>\"\n",
      "  position: 2\n",
      "\n"
     ]
    }
   ],
   "source": [
    "print(analyze(body, basic))"
   ]
  },
  {
   "cell_type": "code",
   "execution_count": null,
   "id": "5de9a56a",
   "metadata": {},
   "outputs": [],
   "source": [
    "## Repeat the search"
   ]
  },
  {
   "cell_type": "code",
   "execution_count": 35,
   "id": "9c52cc05",
   "metadata": {},
   "outputs": [
    {
     "data": {
      "application/json": {
       "hits": [
        {
         "_id": "679",
         "_index": "tmdb",
         "_score": 85.56929,
         "_source": {
          "adult": false,
          "backdrop_path": "/tgXaHtpmxj4SkMxBTi1Desl6Mc6.jpg",
          "belongs_to_collection": {
           "backdrop_path": "/52Lhwd7srnktMFDYkfhtMoZdabT.jpg",
           "id": 8091,
           "name": "Alien Collection",
           "poster_path": "/iVzIeC3PbG9BtDAudpwSNdKAgh6.jpg"
          },
          "budget": 18500000,
          "cast": [
           {
            "cast_id": 21,
            "character": "Lieutenant Ellen Ripley",
            "credit_id": "52fe4269c3a36847f801c9bf",
            "id": 10205,
            "name": "Sigourney Weaver",
            "order": 0,
            "profile_path": "/pYtEkU8VOP0pS2gC1iD2Vuesgyj.jpg"
           },
           {
            "cast_id": 22,
            "character": "Rebecca \"Newt\" Jorden",
            "credit_id": "52fe4269c3a36847f801c9c3",
            "id": 10206,
            "name": "Carrie Henn",
            "order": 1,
            "profile_path": "/6MrxgxZoiUDA8k0GUwLuBcXN03B.jpg"
           },
           {
            "cast_id": 23,
            "character": "Corporal Dwayne Hicks",
            "credit_id": "52fe4269c3a36847f801c9c7",
            "id": 2712,
            "name": "Michael Biehn",
            "order": 2,
            "profile_path": "/uZvJIfVirbv32OK4nba5bMZ6t9G.jpg"
           },
           {
            "cast_id": 24,
            "character": "L. Bishop",
            "credit_id": "52fe4269c3a36847f801c9cb",
            "id": 2714,
            "name": "Lance Henriksen",
            "order": 3,
            "profile_path": "/wf4Pr9RxsHGd0O9fLPiB3Al8IVC.jpg"
           },
           {
            "cast_id": 25,
            "character": "Carter J. Burke",
            "credit_id": "52fe4269c3a36847f801c9cf",
            "id": 781,
            "name": "Paul Reiser",
            "order": 4,
            "profile_path": "/fr53dQQrDGfETgbliCktwKqteRU.jpg"
           },
           {
            "cast_id": 26,
            "character": "Private W. Hudson",
            "credit_id": "52fe4269c3a36847f801c9d3",
            "id": 2053,
            "name": "Bill Paxton",
            "order": 5,
            "profile_path": "/53Ln1wTC0OCLzBF4HNlwhMXYgOU.jpg"
           },
           {
            "cast_id": 27,
            "character": "Lieutenant S. Gorman",
            "credit_id": "52fe4269c3a36847f801c9d7",
            "id": 10207,
            "name": "William Hope",
            "order": 6,
            "profile_path": "/46N4dSYShHnRTcbqD7Fzfjnmvvq.jpg"
           },
           {
            "cast_id": 28,
            "character": "Private J. Vasquez",
            "credit_id": "52fe4269c3a36847f801c9db",
            "id": 3981,
            "name": "Jenette Goldstein",
            "order": 7,
            "profile_path": "/wCcO7cqHJVtnfRlvAJvo7jKd6Bq.jpg"
           },
           {
            "cast_id": 29,
            "character": "Sergeant A. Apone",
            "credit_id": "52fe4269c3a36847f801c9df",
            "id": 10208,
            "name": "Al Matthews",
            "order": 8,
            "profile_path": null
           },
           {
            "cast_id": 30,
            "character": "Private M. Drake",
            "credit_id": "52fe4269c3a36847f801c9e3",
            "id": 6576,
            "name": "Mark Rolston",
            "order": 9,
            "profile_path": "/bsh3cqDNwVvux4NdaY1Bj4S7mNS.jpg"
           },
           {
            "cast_id": 31,
            "character": "Corporal C. Ferro",
            "credit_id": "52fe4269c3a36847f801c9e7",
            "id": 10209,
            "name": "Colette Hiller",
            "order": 10,
            "profile_path": null
           },
           {
            "cast_id": 32,
            "character": "Private D. Spunkmeyer",
            "credit_id": "52fe4269c3a36847f801c9eb",
            "id": 10210,
            "name": "Daniel Kash",
            "order": 11,
            "profile_path": "/b6lvtpkTRHHcv4YMW3FnGRtyXJ4.jpg"
           },
           {
            "cast_id": 33,
            "character": "Corporal C. Dietrich",
            "credit_id": "52fe4269c3a36847f801c9ef",
            "id": 10211,
            "name": "Cynthia Dale Scott",
            "order": 12,
            "profile_path": "/cBrZS9bmSrRclBVHG6QeSuUj1Q9.jpg"
           },
           {
            "cast_id": 34,
            "character": "Private R. Frost",
            "credit_id": "52fe4269c3a36847f801c9f3",
            "id": 10212,
            "name": "Ricco Ross",
            "order": 13,
            "profile_path": "/ep1gfuShCdZghxBGBtNWhWTxWpp.jpg"
           },
           {
            "cast_id": 35,
            "character": "Private T. Crowe",
            "credit_id": "52fe4269c3a36847f801c9f7",
            "id": 10213,
            "name": "Tip Tipping",
            "order": 14,
            "profile_path": null
           }
          ],
          "directors": [
           {
            "credit_id": "52fe4269c3a36847f801c94f",
            "department": "Directing",
            "id": 2710,
            "job": "Director",
            "name": "James Cameron",
            "profile_path": "/6Zk8h1XsPGKUM8M8cKUHAnmnc8O.jpg"
           }
          ],
          "genres": [
           {
            "id": 28,
            "name": "Action"
           },
           {
            "id": 27,
            "name": "Horror"
           },
           {
            "id": 878,
            "name": "Science Fiction"
           },
           {
            "id": 53,
            "name": "Thriller"
           }
          ],
          "homepage": "",
          "id": 679,
          "imdb_id": "tt0090605",
          "original_language": "en",
          "original_title": "Aliens",
          "overview": "When Ripley's lifepod is found by a salvage crew over 50 years later, she finds that terra-formers are on the very planet they found the alien species. When the company sends a family of colonists out to investigate her story... all contact is lost with the planet and colonists. They enlist Ripley and the colonial marines to return and search for answers.",
          "popularity": 1.89115344020609,
          "poster_path": "/nORMXEkYEbzkU5WkMWMgRDJwjSZ.jpg",
          "production_companies": [
           {
            "id": 306,
            "name": "Twentieth Century Fox Film Corporation"
           },
           {
            "id": 19747,
            "name": "Brandywine Productions"
           },
           {
            "id": 396,
            "name": "SLM Production Group"
           }
          ],
          "production_countries": [
           {
            "iso_3166_1": "GB",
            "name": "United Kingdom"
           },
           {
            "iso_3166_1": "US",
            "name": "United States of America"
           }
          ],
          "release_date": "1986-07-18",
          "revenue": 131060248,
          "runtime": 137,
          "spoken_languages": [
           {
            "iso_639_1": "en",
            "name": "English"
           }
          ],
          "status": "Released",
          "tagline": "This Time It's War",
          "title": "Aliens",
          "video": false,
          "vote_average": 7.4,
          "vote_count": 1175
         }
        },
        {
         "_id": "10474",
         "_index": "tmdb",
         "_score": 73.71077,
         "_source": {
          "adult": false,
          "backdrop_path": "/6rGA5l7Ykdge27x3wysSdOouVPk.jpg",
          "belongs_to_collection": null,
          "budget": 0,
          "cast": [
           {
            "cast_id": 9,
            "character": "Jim Carroll",
            "credit_id": "52fe43779251416c750116ab",
            "id": 6193,
            "name": "Leonardo DiCaprio",
            "order": 0,
            "profile_path": "/jToSMocaCaS5YnuOJVqQ7S7pr4Q.jpg"
           },
           {
            "cast_id": 10,
            "character": "Jim's Mother",
            "credit_id": "52fe43779251416c750116af",
            "id": 11478,
            "name": "Lorraine Bracco",
            "order": 1,
            "profile_path": "/1neO0scj7QyrrWDp1JZRrN0tA8Y.jpg"
           },
           {
            "cast_id": 11,
            "character": "Pedro",
            "credit_id": "52fe43779251416c750116b3",
            "id": 65395,
            "name": "James Madio",
            "order": 2,
            "profile_path": "/3s32FSsr95w6nGtoH5f9sPk1mPw.jpg"
           },
           {
            "cast_id": 12,
            "character": "Mickey",
            "credit_id": "52fe43779251416c750116b7",
            "id": 13240,
            "name": "Mark Wahlberg",
            "order": 3,
            "profile_path": "/tdPF78kdzxPcCwxKjPykq6u3y5Z.jpg"
           },
           {
            "cast_id": 21,
            "character": "Swifty",
            "credit_id": "52fe43779251416c750116d7",
            "id": 9257,
            "name": "Bruno Kirby",
            "order": 4,
            "profile_path": "/vWKYTMoasP2kVqvG0hoNe4q73Nx.jpg"
           },
           {
            "cast_id": 14,
            "character": "Neutron",
            "credit_id": "52fe43779251416c750116bb",
            "id": 186526,
            "name": "Patrick McGaw",
            "order": 5,
            "profile_path": null
           },
           {
            "cast_id": 15,
            "character": "Diane Moody",
            "credit_id": "52fe43779251416c750116bf",
            "id": 3196,
            "name": "Juliette Lewis",
            "order": 6,
            "profile_path": "/eeEx3v5ElBHvlrJjULlj5I3EpPF.jpg"
           },
           {
            "cast_id": 16,
            "character": "Bobby",
            "credit_id": "52fe43779251416c750116c3",
            "id": 11486,
            "name": "Michael Imperioli",
            "order": 7,
            "profile_path": "/7zfMAQoliPWMEbL9e0cPnpnLMzf.jpg"
           },
           {
            "cast_id": 17,
            "character": "Reggie",
            "credit_id": "52fe43779251416c750116c7",
            "id": 8874,
            "name": "Ernie Hudson",
            "order": 8,
            "profile_path": "/wrMGBA4eNTUj2ympGsxaqcRpHBS.jpg"
           },
           {
            "cast_id": 18,
            "character": "Manny",
            "credit_id": "52fe43779251416c750116cb",
            "id": 163985,
            "name": "Manny Alfaro",
            "order": 9,
            "profile_path": null
           },
           {
            "cast_id": 19,
            "character": "Winkie",
            "credit_id": "52fe43779251416c750116cf",
            "id": 185889,
            "name": "Cynthia Daniel",
            "order": 10,
            "profile_path": null
           },
           {
            "cast_id": 20,
            "character": "Blinkie",
            "credit_id": "52fe43779251416c750116d3",
            "id": 35476,
            "name": "Brittany Daniel",
            "order": 11,
            "profile_path": "/3c7mCIY8wiUBANoxzl3oz1UOpgp.jpg"
           }
          ],
          "directors": [
           {
            "credit_id": "52fe43779251416c7501167d",
            "department": "Directing",
            "id": 65390,
            "job": "Director",
            "name": "Scott Kalvert",
            "profile_path": null
           }
          ],
          "genres": [
           {
            "id": 80,
            "name": "Crime"
           },
           {
            "id": 18,
            "name": "Drama"
           }
          ],
          "homepage": "",
          "id": 10474,
          "imdb_id": "tt0112461",
          "original_language": "en",
          "original_title": "The Basketball Diaries",
          "overview": "Film adaptation of street tough Jim Carroll's epistle about his kaleidoscopic free fall into the harrowing world of drug addiction.",
          "popularity": 1.06484313746498,
          "poster_path": "/8BkedYL5LdpkyHc7JtuohMr8a9N.jpg",
          "production_companies": [
           {
            "id": 12,
            "name": "New Line Cinema"
           },
           {
            "id": 3492,
            "name": "Island Pictures"
           }
          ],
          "production_countries": [
           {
            "iso_3166_1": "US",
            "name": "United States of America"
           }
          ],
          "release_date": "1995-04-21",
          "revenue": 0,
          "runtime": 102,
          "spoken_languages": [
           {
            "iso_639_1": "en",
            "name": "English"
           }
          ],
          "status": "Released",
          "tagline": "The true story of the death of innocence and the birth of an artist.",
          "title": "The Basketball Diaries",
          "video": false,
          "vote_average": 6.9,
          "vote_count": 73
         }
        },
        {
         "_id": "49849",
         "_index": "tmdb",
         "_score": 71.3202,
         "_source": {
          "adult": false,
          "backdrop_path": "/gmapSsDGkPNPRxaQXLdotYkYKzM.jpg",
          "belongs_to_collection": null,
          "budget": 163000000,
          "cast": [
           {
            "cast_id": 6,
            "character": "Ella",
            "credit_id": "52fe47abc3a36847f8141e21",
            "id": 59315,
            "name": "Olivia Wilde",
            "order": 0,
            "profile_path": "/3d69fgT1QOTDJxqy7FpBBAQxoM0.jpg"
           },
           {
            "cast_id": 7,
            "character": "Col. Woodrow Dolarhyde",
            "credit_id": "52fe47abc3a36847f8141e25",
            "id": 3,
            "name": "Harrison Ford",
            "order": 1,
            "profile_path": "/7CcoVFTogQgex2kJkXKMe8qHZrC.jpg"
           },
           {
            "cast_id": 8,
            "character": "Jake Lonergan",
            "credit_id": "52fe47abc3a36847f8141e29",
            "id": 8784,
            "name": "Daniel Craig",
            "order": 2,
            "profile_path": "/h8pfDEYJEIFhIuhwiYZGmgtwc8s.jpg"
           },
           {
            "cast_id": 9,
            "character": "Doc",
            "credit_id": "52fe47abc3a36847f8141e2d",
            "id": 6807,
            "name": "Sam Rockwell",
            "order": 3,
            "profile_path": "/sKmpynD57Nwd62hrkjlXFK9hzGg.jpg"
           },
           {
            "cast_id": 10,
            "character": "Percy",
            "credit_id": "52fe47abc3a36847f8141e31",
            "id": 17142,
            "name": "Paul Dano",
            "order": 4,
            "profile_path": "/qBIvuBoJ1EuBiDQ8NfJp4ljGMvp.jpg"
           },
           {
            "cast_id": 11,
            "character": "Hunt",
            "credit_id": "52fe47abc3a36847f8141e35",
            "id": 27740,
            "name": "Walton Goggins",
            "order": 5,
            "profile_path": "/3ESBPeIUGxB4rptFoWvIcC9UskL.jpg"
           },
           {
            "cast_id": 12,
            "character": "Maria",
            "credit_id": "52fe47abc3a36847f8141e39",
            "id": 57409,
            "name": "Ana de la Reguera",
            "order": 6,
            "profile_path": "/lMFcS5MT1NNDo6gSE6h78nkeMmU.jpg"
           },
           {
            "cast_id": 13,
            "character": "Meacham",
            "credit_id": "52fe47abc3a36847f8141e3d",
            "id": 6574,
            "name": "Clancy Brown",
            "order": 7,
            "profile_path": "/pwiG1ljLoqfcmFH2zFp5NP2ML4B.jpg"
           },
           {
            "cast_id": 14,
            "character": "Sheriff Taggart",
            "credit_id": "52fe47abc3a36847f8141e41",
            "id": 30613,
            "name": "Keith Carradine",
            "order": 8,
            "profile_path": "/xAZfdJPrQX5OnHOF0OXMOo5sUlX.jpg"
           },
           {
            "cast_id": 15,
            "character": "Emmet",
            "credit_id": "52fe47abc3a36847f8141e45",
            "id": 88816,
            "name": "Noah Ringer",
            "order": 9,
            "profile_path": "/rViKaQd4q8qCFmFRbrZY849ykST.jpg"
           },
           {
            "cast_id": 16,
            "character": "Pat Dolan",
            "credit_id": "52fe47abc3a36847f8141e49",
            "id": 2482,
            "name": "David O'Hara",
            "order": 10,
            "profile_path": "/sJ35AHaSTzSrvd80xrlC1CD30iF.jpg"
           },
           {
            "cast_id": 17,
            "character": "Nat Colorado",
            "credit_id": "52fe47abc3a36847f8141e4d",
            "id": 33527,
            "name": "Adam Beach",
            "order": 11,
            "profile_path": "/jXb4UZtpJHyLWGbePDB2bJUJAxq.jpg"
           },
           {
            "cast_id": 18,
            "character": "Alice",
            "credit_id": "52fe47abc3a36847f8141e51",
            "id": 123725,
            "name": "Abigail Spencer",
            "order": 12,
            "profile_path": "/gvEszv5iY2gcQ6v7JoegCkY7YjL.jpg"
           },
           {
            "cast_id": 19,
            "character": "Roy Murphy",
            "credit_id": "52fe47abc3a36847f8141e55",
            "id": 18271,
            "name": "Toby Huss",
            "order": 13,
            "profile_path": "/g2DTpEl1DfsrN5oTcJuK5JtLmhX.jpg"
           },
           {
            "cast_id": 20,
            "character": "Black Knife",
            "credit_id": "52fe47abc3a36847f8141e59",
            "id": 17688,
            "name": "Raoul Trujillo",
            "order": 14,
            "profile_path": "/vkrPv04OJRV9G6u6yydjJz2WKE0.jpg"
           },
           {
            "cast_id": 23,
            "character": "Apache Warrior 1",
            "credit_id": "52fe47abc3a36847f8141e69",
            "id": 1039678,
            "name": "David Midthunder",
            "order": 15,
            "profile_path": "/f0piRndy8kXPUh4onNoNNoeIO9u.jpg"
           },
           {
            "cast_id": 25,
            "character": "Luke Claiborne",
            "credit_id": "52fe47abc3a36847f8141e73",
            "id": 591769,
            "name": "Matthew Taylor",
            "order": 16,
            "profile_path": "/aCWVlkHatBh7DenW757xZIbf32d.jpg"
           },
           {
            "cast_id": 26,
            "character": "Deputy",
            "credit_id": "52fe47abc3a36847f8141e77",
            "id": 949852,
            "name": "Brian Duffy",
            "order": 17,
            "profile_path": "/1XlYJr9FaTZG4582ziUIoHT8QSP.jpg"
           },
           {
            "cast_id": 27,
            "character": "Charlie Lyle",
            "credit_id": "52fe47abc3a36847f8141e7b",
            "id": 946854,
            "name": "Brendan Wayne",
            "order": 18,
            "profile_path": "/e2bhg69on55SXbQnsxDRROpNohP.jpg"
           },
           {
            "cast_id": 28,
            "character": "Ed",
            "credit_id": "52fe47abc3a36847f8141e7f",
            "id": 38572,
            "name": "Gavin Grazer",
            "order": 19,
            "profile_path": "/qe5J2NMzcN2NVgVS1D04tuDUyke.jpg"
           },
           {
            "cast_id": 29,
            "character": "Little Mickey",
            "credit_id": "52fe47abc3a36847f8141e83",
            "id": 986808,
            "name": "Wyatt Russell",
            "order": 20,
            "profile_path": "/q72sYL63Z7FH2OKa5W4pvdJSkQo.jpg"
           }
          ],
          "directors": [
           {
            "credit_id": "52fe47abc3a36847f8141e1d",
            "department": "Directing",
            "id": 15277,
            "job": "Director",
            "name": "Jon Favreau",
            "profile_path": "/xowOeQYyuInO2qKReau8n41U8j1.jpg"
           }
          ],
          "genres": [
           {
            "id": 28,
            "name": "Action"
           },
           {
            "id": 878,
            "name": "Science Fiction"
           },
           {
            "id": 53,
            "name": "Thriller"
           },
           {
            "id": 37,
            "name": "Western"
           }
          ],
          "homepage": "http://www.cowboysandaliensmovie.com/",
          "id": 49849,
          "imdb_id": "tt0409847",
          "original_language": "en",
          "original_title": "Cowboys & Aliens",
          "overview": "A stranger stumbles into the desert town of Absolution with no memory of his past and a futuristic shackle around his wrist. With the help of mysterious beauty Ella and the iron-fisted Colonel Dolarhyde, he finds himself leading an unlikely posse of cowboys, outlaws, and Apache warriors against a common enemy from beyond this world in an epic showdown for survival.",
          "popularity": 1.2534514039299,
          "poster_path": "/kcUXBEwWDzpRhKreh6C2NSStBiU.jpg",
          "production_companies": [
           {
            "id": 33,
            "name": "Universal Pictures"
           },
           {
            "id": 27,
            "name": "DreamWorks SKG"
           },
           {
            "id": 7294,
            "name": "Reliance Entertainment"
           },
           {
            "id": 7295,
            "name": "Relativity Media"
           },
           {
            "id": 23,
            "name": "Imagine Entertainment"
           },
           {
            "id": 7296,
            "name": "K/O Paper Products"
           },
           {
            "id": 7297,
            "name": "Fairview Entertainment"
           },
           {
            "id": 7218,
            "name": "platinum studios"
           },
           {
            "id": 23300,
            "name": "K/O Camera Toys"
           }
          ],
          "production_countries": [
           {
            "iso_3166_1": "US",
            "name": "United States of America"
           }
          ],
          "release_date": "2011-07-29",
          "revenue": 174822325,
          "runtime": 119,
          "spoken_languages": [
           {
            "iso_639_1": "en",
            "name": "English"
           }
          ],
          "status": "Released",
          "tagline": "First Contact. Last Stand.",
          "title": "Cowboys & Aliens",
          "video": false,
          "vote_average": 5.4,
          "vote_count": 745
         }
        },
        {
         "_id": "15512",
         "_index": "tmdb",
         "_score": 61.13922,
         "_source": {
          "adult": false,
          "backdrop_path": "/t03uCzKAcYwynMOG4iTcZ75Z23U.jpg",
          "belongs_to_collection": {
           "backdrop_path": "/uhZJNkODuAYTtsXzKLsao3LbW5H.jpg",
           "id": 316277,
           "name": "Monsters vs Aliens Collection",
           "poster_path": "/lDJmx7FeulDKV0d1TnvkJ9tdktp.jpg"
          },
          "budget": 175000000,
          "cast": [
           {
            "cast_id": 8,
            "character": "B.O.B. (voice)",
            "credit_id": "52fe46639251416c75076a61",
            "id": 19274,
            "name": "Seth Rogen",
            "order": 0,
            "profile_path": "/3U9s4dvXQuk1l3ZT3MqwqpmeRqI.jpg"
           },
           {
            "cast_id": 9,
            "character": "Susan Murphy / Ginormica (voice)",
            "credit_id": "52fe46639251416c75076a65",
            "id": 368,
            "name": "Reese Witherspoon",
            "order": 1,
            "profile_path": "/6OPIR8TFcdVhox2obxmIWmJ2Qel.jpg"
           },
           {
            "cast_id": 10,
            "character": "Dr. Cockroach Ph.D. (voice)",
            "credit_id": "52fe46639251416c75076a69",
            "id": 41419,
            "name": "Hugh Laurie",
            "order": 2,
            "profile_path": "/3qCmEHtq5fBW8dbzsYDSy16Zqb0.jpg"
           },
           {
            "cast_id": 11,
            "character": "Derek Dietl (voice)",
            "credit_id": "52fe46639251416c75076a6d",
            "id": 22226,
            "name": "Paul Rudd",
            "order": 3,
            "profile_path": "/oUJyLVn3kCmQuFeug4SBIo7Tc02.jpg"
           },
           {
            "cast_id": 12,
            "character": "General W.R. Monger (voice)",
            "credit_id": "52fe46639251416c75076a71",
            "id": 2628,
            "name": "Kiefer Sutherland",
            "order": 4,
            "profile_path": "/4YvDfOfD4TgyzDkLGoq76g5BZNe.jpg"
           },
           {
            "cast_id": 13,
            "character": "Gallaxhar (voice)",
            "credit_id": "52fe46639251416c75076a75",
            "id": 11678,
            "name": "Rainn Wilson",
            "order": 5,
            "profile_path": "/Adq8cYhhzmSYRwMWDTc7O53L7FR.jpg"
           },
           {
            "cast_id": 14,
            "character": "The Missing Link (voice)",
            "credit_id": "52fe46639251416c75076a79",
            "id": 21200,
            "name": "Will Arnett",
            "order": 6,
            "profile_path": "/vHCqn3SHfSV6GOWrxzEtoDaSMoU.jpg"
           },
           {
            "cast_id": 15,
            "character": "President Hathaway (voice)",
            "credit_id": "52fe46639251416c75076a7d",
            "id": 58769,
            "name": "Stephen Colbert",
            "order": 7,
            "profile_path": "/xVQMuzz4zNX92XFyCybA9JwMCYs.jpg"
           },
           {
            "cast_id": 16,
            "character": "Insectosaurus (voice)",
            "credit_id": "52fe46639251416c75076a81",
            "id": 78303,
            "name": "Jimmy Kimmel",
            "order": 8,
            "profile_path": "/aIGGgXIQcN2UlReL8I5QCJ3AxOn.jpg"
           },
           {
            "cast_id": 17,
            "character": "Wendy Murphy (voice)",
            "credit_id": "52fe46639251416c75076a85",
            "id": 24305,
            "name": "Julie White",
            "order": 9,
            "profile_path": "/iYTRxrNPGNLYmKfv5RI7pcLyV2i.jpg"
           },
           {
            "cast_id": 18,
            "character": "Carl Murphy (voice)",
            "credit_id": "52fe46639251416c75076a89",
            "id": 4175,
            "name": "Jeffrey Tambor",
            "order": 10,
            "profile_path": "/csB350am07xyRL5Ik1BWuSY12tH.jpg"
           },
           {
            "cast_id": 19,
            "character": "Computer (voice)",
            "credit_id": "52fe46639251416c75076a8d",
            "id": 56322,
            "name": "Amy Poehler",
            "order": 11,
            "profile_path": "/qvVYBwZncnWoiu48GklLXQKMngm.jpg"
           },
           {
            "cast_id": 20,
            "character": "News Reporter (voice)",
            "credit_id": "52fe46639251416c75076a91",
            "id": 27105,
            "name": "Ed Helms",
            "order": 12,
            "profile_path": "/cxE76QqiI6LQh3kRAAEDtH39DQd.jpg"
           },
           {
            "cast_id": 21,
            "character": "Katie (voice)",
            "credit_id": "52fe46639251416c75076a95",
            "id": 9137,
            "name": "Renée Zellweger",
            "order": 13,
            "profile_path": "/rAfHyC0IxqwRTKuwosU85ZwQicL.jpg"
           },
           {
            "cast_id": 23,
            "character": "Private Bullhorn / Helicopter Pilot / Advisor Ortega (voice)",
            "credit_id": "52fe46639251416c75076a99",
            "id": 64446,
            "name": "Sean Bishop",
            "order": 14,
            "profile_path": null
           },
           {
            "cast_id": 24,
            "character": "Commander / Advisor Smith (voice)",
            "credit_id": "52fe46639251416c75076a9d",
            "id": 936666,
            "name": "Rich Dietl",
            "order": 15,
            "profile_path": "/caMJRrUIYD4wHlbwu1NIqZZWGby.jpg"
           },
           {
            "cast_id": 25,
            "character": "Technician Bee (voice)",
            "credit_id": "52fe46639251416c75076aa1",
            "id": 212439,
            "name": "Stephen Kearin",
            "order": 16,
            "profile_path": null
           },
           {
            "cast_id": 26,
            "character": "Secret Service Man #1 / Lieutenant (voice)",
            "credit_id": "52fe46639251416c75076aa5",
            "id": 65630,
            "name": "Rob Letterman",
            "order": 17,
            "profile_path": "/v2GPTQ41ZqHtML8W1ft3UJej5xA.jpg"
           },
           {
            "cast_id": 27,
            "character": "Wilson (voice)",
            "credit_id": "52fe46639251416c75076aa9",
            "id": 18864,
            "name": "Tom McGrath",
            "order": 18,
            "profile_path": "/x522iaZSJUqbPlP3C1PvM5oa0rx.jpg"
           },
           {
            "cast_id": 28,
            "character": "Advisor Cole / Army Commander Jones (voice)",
            "credit_id": "52fe46639251416c75076aad",
            "id": 12098,
            "name": "Chris Miller",
            "order": 19,
            "profile_path": "/3nwwLDbRaTQHp26cuDNw1KRgCZd.jpg"
           },
           {
            "cast_id": 29,
            "character": "Advisor Wedgie (voice)",
            "credit_id": "52fe46639251416c75076ab1",
            "id": 64151,
            "name": "Mike Mitchell",
            "order": 20,
            "profile_path": "/thoCDW89KWWaSYrbvUX0adPcg8S.jpg"
           },
           {
            "cast_id": 30,
            "character": "Technician Jerry (voice)",
            "credit_id": "52fe46639251416c75076ab5",
            "id": 45416,
            "name": "Kent Osborne",
            "order": 21,
            "profile_path": "/iszbGHIPuEMa1YDIiJFST3pZfLy.jpg"
           },
           {
            "cast_id": 31,
            "character": "Advisor Ouaou / Mrs. Ronson / Female Advisor #2 / Panicked Guest (voice)",
            "credit_id": "52fe46639251416c75076ab9",
            "id": 936669,
            "name": "Latifa Ouaou",
            "order": 22,
            "profile_path": "/gJ0ntOXcs0RRdMAM9b5Avo5REga.jpg"
           },
           {
            "cast_id": 32,
            "character": "Soldier #4 / Pilot / Soldier #3 / News Technician (voice)",
            "credit_id": "52fe46639251416c75076abd",
            "id": 1077843,
            "name": "Geoffrey Pomeroy",
            "order": 23,
            "profile_path": null
           },
           {
            "cast_id": 33,
            "character": "Soldier #1 / Advisor Jackson (voice)",
            "credit_id": "52fe46639251416c75076ac1",
            "id": 1077844,
            "name": "David P. Smith",
            "order": 24,
            "profile_path": null
           },
           {
            "cast_id": 34,
            "character": "Bridesmaid Candy (voice)",
            "credit_id": "52fe46639251416c75076ac5",
            "id": 11652,
            "name": "Lisa Stewart",
            "order": 25,
            "profile_path": null
           },
           {
            "cast_id": 35,
            "character": "Advisor Hawk / Advisor Dither / Minister / Secret Service Man #2 / Mama Dietl (voice)",
            "credit_id": "52fe46639251416c75076ac9",
            "id": 12080,
            "name": "Conrad Vernon",
            "order": 26,
            "profile_path": "/kSyVrs8NtLoQhfBXFBhnTWzC7Vm.jpg"
           },
           {
            "cast_id": 36,
            "character": "Cuthbert (voice)",
            "credit_id": "52fe46639251416c75076acd",
            "id": 17697,
            "name": "John Krasinski",
            "order": 27,
            "profile_path": "/nOWwdZURikW22qo6OUSGFCTukgc.jpg"
           }
          ],
          "directors": [
           {
            "credit_id": "52fe46639251416c75076a39",
            "department": "Directing",
            "id": 65630,
            "job": "Director",
            "name": "Rob Letterman",
            "profile_path": "/v2GPTQ41ZqHtML8W1ft3UJej5xA.jpg"
           },
           {
            "credit_id": "52fe46639251416c75076a45",
            "department": "Directing",
            "id": 12080,
            "job": "Director",
            "name": "Conrad Vernon",
            "profile_path": "/kSyVrs8NtLoQhfBXFBhnTWzC7Vm.jpg"
           }
          ],
          "genres": [
           {
            "id": 12,
            "name": "Adventure"
           },
           {
            "id": 16,
            "name": "Animation"
           },
           {
            "id": 878,
            "name": "Science Fiction"
           },
           {
            "id": 10751,
            "name": "Family"
           }
          ],
          "homepage": "http://www.monstersvsaliens.com/",
          "id": 15512,
          "imdb_id": "tt0892782",
          "original_language": "en",
          "original_title": "Monsters vs Aliens",
          "overview": "When Susan Murphy is unwittingly clobbered by a meteor full of outer space gunk on her wedding day, she mysteriously grows to 49-feet-11-inches. The military jumps into action and captures Susan, secreting her away to a covert government compound. She is renamed Ginormica and placed in confinement with a ragtag group of Monsters...",
          "popularity": 1.36912486940738,
          "poster_path": "/8x0WrDcFQDC2eoXJe6iC34wXZE8.jpg",
          "production_companies": [
           {
            "id": 521,
            "name": "DreamWorks Animation"
           }
          ],
          "production_countries": [
           {
            "iso_3166_1": "US",
            "name": "United States of America"
           }
          ],
          "release_date": "2009-03-26",
          "revenue": 381509870,
          "runtime": 94,
          "spoken_languages": [
           {
            "iso_639_1": "en",
            "name": "English"
           }
          ],
          "status": "Released",
          "tagline": "When aliens attack, monsters fight back.",
          "title": "Monsters vs Aliens",
          "video": false,
          "vote_average": 5.8,
          "vote_count": 470
         }
        },
        {
         "_id": "440",
         "_index": "tmdb",
         "_score": 53.501823,
         "_source": {
          "adult": false,
          "backdrop_path": "/uypAmOWRpjnqIlg1BzXhGgP1uMM.jpg",
          "belongs_to_collection": {
           "backdrop_path": "/c5ccDw4lcTUnYGdCxc2yEl8PjTk.jpg",
           "id": 115762,
           "name": "AVP Collection",
           "poster_path": "/zrApSsUX9i0qVntcCD0Pp55TdCy.jpg"
          },
          "budget": 40000000,
          "cast": [
           {
            "cast_id": 17,
            "character": "Dallas Howard",
            "credit_id": "52fe4244c3a36847f8010dfb",
            "id": 56389,
            "name": "Steven Pasquale",
            "order": 0,
            "profile_path": "/6rm9ZpBrc3w7tRvAtyMTOltUUvb.jpg"
           },
           {
            "cast_id": 18,
            "character": "Kelly O'Brien",
            "credit_id": "52fe4244c3a36847f8010dff",
            "id": 25869,
            "name": "Reiko Aylesworth",
            "order": 1,
            "profile_path": "/59Gu57v2rOtvvBA06rSuYX2w5h2.jpg"
           },
           {
            "cast_id": 19,
            "character": "Sheriff Eddie Morales",
            "credit_id": "52fe4244c3a36847f8010e03",
            "id": 40543,
            "name": "John Ortiz",
            "order": 2,
            "profile_path": "/eLAPF96eGKcnpV837CciBiFsI7C.jpg"
           },
           {
            "cast_id": 20,
            "character": "Molly O'Brien",
            "credit_id": "52fe4244c3a36847f8010e07",
            "id": 76414,
            "name": "Ariel Gade",
            "order": 3,
            "profile_path": "/axreEq8FBbpww34aBzJo2xM5pkv.jpg"
           },
           {
            "cast_id": 21,
            "character": "Tim",
            "credit_id": "52fe4244c3a36847f8010e0b",
            "id": 131006,
            "name": "Sam Trammell",
            "order": 4,
            "profile_path": "/pvf0cmYdw3Fi2F5HjP2QHgxRKoC.jpg"
           },
           {
            "cast_id": 22,
            "character": "Jesse",
            "credit_id": "538dfcb6c3a3687146005413",
            "id": 73454,
            "name": "Kristen Hager",
            "order": 5,
            "profile_path": "/mofGrgUP2kXXD8cgkYnzfGb8EOL.jpg"
           },
           {
            "cast_id": 23,
            "character": "Col. Stevens",
            "credit_id": "538dfcc4c3a368714300501f",
            "id": 19976,
            "name": "Robert Joy",
            "order": 6,
            "profile_path": "/xh5eb9p379k9w3NOGRjEyAw2yrP.jpg"
           },
           {
            "cast_id": 24,
            "character": "Dale",
            "credit_id": "538dfcccc3a36871520051b4",
            "id": 33293,
            "name": "David Paetkau",
            "order": 7,
            "profile_path": "/xOAjc34j0fZlKSb6I3cpTwHStar.jpg"
           },
           {
            "cast_id": 25,
            "character": "Alien",
            "credit_id": "538dfcd4c3a36871550050d3",
            "id": 109870,
            "name": "Tom Woodruff Jr.",
            "order": 8,
            "profile_path": null
           },
           {
            "cast_id": 26,
            "character": "Predator",
            "credit_id": "538dfcdfc3a368713c00525a",
            "id": 946696,
            "name": "Ian Whyte",
            "order": 9,
            "profile_path": "/6mRY7hTtHfDTGuTLmZmODOu9buF.jpg"
           },
           {
            "cast_id": 27,
            "character": "Darcy",
            "credit_id": "538dfce8c3a368714b0052e9",
            "id": 70175,
            "name": "Chelah Horsdal",
            "order": 10,
            "profile_path": "/v6Av8yrD3C34ngdROP31rNr9vD3.jpg"
           },
           {
            "cast_id": 28,
            "character": "Curtis",
            "credit_id": "538dfcf1c3a36871520051b8",
            "id": 202065,
            "name": "Meshach Peters",
            "order": 11,
            "profile_path": "/2zqlQS2A0kVzoSabpSVi9Qsfrwf.jpg"
           },
           {
            "cast_id": 29,
            "character": "Mark",
            "credit_id": "538dfcf9c3a36871550050d6",
            "id": 210348,
            "name": "Matt Ward",
            "order": 12,
            "profile_path": "/fwGrvAJJi30gapwPIDTkk1BNYHf.jpg"
           },
           {
            "cast_id": 82,
            "character": "Carrie",
            "credit_id": "548d9d9ac3a36820be003a19",
            "id": 33336,
            "name": "Gina Holden",
            "order": 13,
            "profile_path": "/1yw48NuEtDQ6VC5TWAN86VJYMOX.jpg"
           },
           {
            "cast_id": 83,
            "character": "Buddy",
            "credit_id": "548d9db1c3a36820ba0040c1",
            "id": 60721,
            "name": "Kurt Max Runte",
            "order": 14,
            "profile_path": "/eDZnFqvorS8FTL2QVKEhYx9Vcib.jpg"
           },
           {
            "cast_id": 84,
            "character": "Sam",
            "credit_id": "548d9dcd92514122f2004111",
            "id": 83852,
            "name": "Liam James",
            "order": 15,
            "profile_path": "/heAbNsKPFDCFIrzy7zDeZm6w2xd.jpg"
           },
           {
            "cast_id": 85,
            "character": "Nathan",
            "credit_id": "548d9de8c3a3681d4b00215b",
            "id": 42711,
            "name": "Ty Olsson",
            "order": 16,
            "profile_path": "/rd1M0tIIPKkoc1lX8yktMndHUjU.jpg"
           },
           {
            "cast_id": 86,
            "character": "Deputy Ray",
            "credit_id": "548d9e15c3a368153b001ee7",
            "id": 152820,
            "name": "Chris William Martin",
            "order": 17,
            "profile_path": "/tNgMeVpoM4RhEvxjaYtaxLvi1YJ.jpg"
           },
           {
            "cast_id": 87,
            "character": "Nurse Helen",
            "credit_id": "548d9e3bc3a36820be003a27",
            "id": 62717,
            "name": "Rekha Sharma",
            "order": 18,
            "profile_path": "/cx3ubTduzbsfyxPPnS2HoEmZbFG.jpg"
           },
           {
            "cast_id": 88,
            "character": "Tina",
            "credit_id": "548d9e58c3a3681d4b002165",
            "id": 77622,
            "name": "Catherine Lough Haggquist",
            "order": 19,
            "profile_path": "/bXyoDG0aMwUtObFgLgBi7NkviDY.jpg"
           }
          ],
          "directors": [
           {
            "credit_id": "52fe4244c3a36847f8010d9d",
            "department": "Directing",
            "id": 6037,
            "job": "Director",
            "name": "Colin Strause",
            "profile_path": "/mM95v1bWGdz8Ira7K4drueKRT01.jpg"
           },
           {
            "credit_id": "52fe4244c3a36847f8010da3",
            "department": "Directing",
            "id": 6038,
            "job": "Director",
            "name": "Greg Strause",
            "profile_path": "/xcEcDFHoTkIuOkLeWRuX3ksJmy1.jpg"
           }
          ],
          "genres": [
           {
            "id": 28,
            "name": "Action"
           },
           {
            "id": 14,
            "name": "Fantasy"
           },
           {
            "id": 27,
            "name": "Horror"
           },
           {
            "id": 878,
            "name": "Science Fiction"
           },
           {
            "id": 53,
            "name": "Thriller"
           }
          ],
          "homepage": "http://www.avp-r.com/",
          "id": 440,
          "imdb_id": "tt0758730",
          "original_language": "en",
          "original_title": "Aliens vs Predator: Requiem",
          "overview": "A sequel to 2004's Alien vs. Predator, the iconic creatures from two of the scariest film franchises in movie history wage their most brutal battle ever - in our own backyard. The small town of Gunnison, Colorado becomes a war zone between two of the deadliest extra-terrestrial life forms - the Alien and the Predator. When a Predator scout ship crash-lands in the hills outside the town, Alien Facehuggers and a hybrid Alien/Predator are released and begin to terrorize the town.",
          "popularity": 1.68558871718858,
          "poster_path": "/xR4Mslyum7bjzAF1rlUX2HrlwhZ.jpg",
          "production_companies": [
           {
            "id": 444,
            "name": "Dune Entertainment"
           },
           {
            "id": 25,
            "name": "20th Century Fox"
           },
           {
            "id": 401,
            "name": "Brandywine Productions Ltd."
           },
           {
            "id": 1302,
            "name": "Davis Entertainment"
           }
          ],
          "production_countries": [
           {
            "iso_3166_1": "US",
            "name": "United States of America"
           }
          ],
          "release_date": "2007-12-25",
          "revenue": 41797066,
          "runtime": 94,
          "spoken_languages": [
           {
            "iso_639_1": "en",
            "name": "English"
           }
          ],
          "status": "Released",
          "tagline": "The Last Place On Earth We Want To Be Is In The Middle",
          "title": "Aliens vs Predator: Requiem",
          "video": false,
          "vote_average": 5,
          "vote_count": 207
         }
        },
        {
         "_id": "20856",
         "_index": "tmdb",
         "_score": 53.501823,
         "_source": {
          "adult": false,
          "backdrop_path": "/y66K59c1uxhnM45ZtG5xyOVC8yx.jpg",
          "belongs_to_collection": null,
          "budget": 0,
          "cast": [
           {
            "cast_id": 4,
            "character": "Tom Pearson",
            "credit_id": "52fe43fdc3a368484e0097b5",
            "id": 86653,
            "name": "Carter Jenkins",
            "order": 0,
            "profile_path": "/6Sph044iNZRupQecuuReiaQT52.jpg"
           },
           {
            "cast_id": 5,
            "character": "Jake Pearson",
            "credit_id": "52fe43fdc3a368484e0097b9",
            "id": 86654,
            "name": "Austin Butler",
            "order": 1,
            "profile_path": "/3TIOELfWkg8rkk0AJVRMlSQFLVJ.jpg"
           },
           {
            "cast_id": 6,
            "character": "Stuart Pearson",
            "credit_id": "52fe43fdc3a368484e0097bd",
            "id": 58478,
            "name": "Kevin Nealon",
            "order": 2,
            "profile_path": "/aVp6F3hliJp7dOZsIdwTRIaRx71.jpg"
           },
           {
            "cast_id": 7,
            "character": "Ricky Dillman",
            "credit_id": "52fe43fdc3a368484e0097c1",
            "id": 58368,
            "name": "Robert Hoffman",
            "order": 3,
            "profile_path": "/gNSHIaTf5pea05qolpKpufYqT3f.jpg"
           },
           {
            "cast_id": 8,
            "character": "Rose Pearson",
            "credit_id": "52fe43fdc3a368484e0097c5",
            "id": 45863,
            "name": "Doris Roberts",
            "order": 4,
            "profile_path": "/4J9jniy4ZEd6NRTfkzq9prKoEIt.jpg"
           },
           {
            "cast_id": 9,
            "character": "Sheriff Doug Armstrong",
            "credit_id": "52fe43fdc3a368484e0097c9",
            "id": 51857,
            "name": "Tim Meadows",
            "order": 5,
            "profile_path": "/4V8Jde8DuFBnXOFPGjTVxs7lqlt.jpg"
           },
           {
            "cast_id": 10,
            "character": "Hannah Pearson",
            "credit_id": "52fe43fdc3a368484e0097cd",
            "id": 86655,
            "name": "Ashley Boettcher",
            "order": 6,
            "profile_path": "/37FCvTRjK2XgknzppoKJd7jm6RM.jpg"
           },
           {
            "cast_id": 11,
            "character": "Art Pearson",
            "credit_id": "52fe43fdc3a368484e0097d1",
            "id": 86656,
            "name": "Henri Young",
            "order": 7,
            "profile_path": null
           },
           {
            "cast_id": 12,
            "character": "Lee Pearson",
            "credit_id": "52fe43fdc3a368484e0097d5",
            "id": 86657,
            "name": "Regan Young",
            "order": 8,
            "profile_path": null
           },
           {
            "cast_id": 13,
            "character": "Bethany Pearson",
            "credit_id": "52fe43fdc3a368484e0097d9",
            "id": 67600,
            "name": "Ashley Tisdale",
            "order": 9,
            "profile_path": "/bRB3bV2yPDnFtsMBl3NMFAxJBO9.jpg"
           },
           {
            "cast_id": 14,
            "character": "Julie",
            "credit_id": "52fe43fdc3a368484e0097dd",
            "id": 118544,
            "name": "Malese Jow",
            "order": 10,
            "profile_path": "/cT29b1741g4WCHDnJ21akeq0sWO.jpg"
           }
          ],
          "directors": [
           {
            "credit_id": "52fe43fdc3a368484e0097a5",
            "department": "Directing",
            "id": 79656,
            "job": "Director",
            "name": "John Schultz",
            "profile_path": "/ePis8HPrAlCrkry1VMaHxsdrq4u.jpg"
           }
          ],
          "genres": [
           {
            "id": 12,
            "name": "Adventure"
           },
           {
            "id": 35,
            "name": "Comedy"
           },
           {
            "id": 14,
            "name": "Fantasy"
           },
           {
            "id": 878,
            "name": "Science Fiction"
           },
           {
            "id": 10751,
            "name": "Family"
           }
          ],
          "homepage": "http://www.aliensintheatticmovie.com/",
          "id": 20856,
          "imdb_id": "tt0775552",
          "original_language": "en",
          "original_title": "Aliens in the Attic",
          "overview": "It's summer vacation, but the Pearson family kids are stuck at a boring lake house with their nerdy parents. That is until feisty, little, green aliens crash-land on the roof, with plans to conquer the house AND Earth! Using only their wits, courage and video game-playing skills, the youngsters must band together to defeat the aliens and save the world - but the toughest part might be keeping the whole thing a secret from their parents! Featuring an all-star cast including Ashley Tisdale, Andy Richter, Kevin Nealon, Tim Meadows and Doris Roberts, Aliens In The Attic is the most fun you can have on this planet!",
          "popularity": 0.421026047211314,
          "poster_path": "/oxds3BQ99FdOxiR24Z5I7N5ELwv.jpg",
          "production_companies": [
           {
            "id": 306,
            "name": "Twentieth Century Fox Film Corporation"
           },
           {
            "id": 508,
            "name": "Regency Enterprises"
           },
           {
            "id": 1894,
            "name": "Josephson Entertainment"
           },
           {
            "id": 3855,
            "name": "New Upstairs Productions"
           },
           {
            "id": 3856,
            "name": "Upstairs Canada Productions"
           }
          ],
          "production_countries": [
           {
            "iso_3166_1": "CA",
            "name": "Canada"
           },
           {
            "iso_3166_1": "US",
            "name": "United States of America"
           }
          ],
          "release_date": "2009-07-31",
          "revenue": 0,
          "runtime": 86,
          "spoken_languages": [
           {
            "iso_639_1": "en",
            "name": "English"
           }
          ],
          "status": "Released",
          "tagline": "The aliens vs. the Pearsons",
          "title": "Aliens in the Attic",
          "video": false,
          "vote_average": 5.4,
          "vote_count": 63
         }
        },
        {
         "_id": "581",
         "_index": "tmdb",
         "_score": 45.221096,
         "_source": {
          "adult": false,
          "backdrop_path": "/gkW2RMlwl4kqaMIDjaAE73rAPpZ.jpg",
          "belongs_to_collection": null,
          "budget": 22000000,
          "cast": [
           {
            "cast_id": 12,
            "character": "Lieutenant Dunbar",
            "credit_id": "52fe4255c3a36847f8016347",
            "id": 1269,
            "name": "Kevin Costner",
            "order": 0,
            "profile_path": "/ybwfOhuuDPJ6NCcX7Y5XJxE6nMs.jpg"
           },
           {
            "cast_id": 13,
            "character": "Stands With A Fist",
            "credit_id": "52fe4255c3a36847f801634b",
            "id": 1581,
            "name": "Mary McDonnell",
            "order": 1,
            "profile_path": "/4NcE9BcnLB3oWns51r9peH8GhN8.jpg"
           },
           {
            "cast_id": 14,
            "character": "Kicking Bird",
            "credit_id": "52fe4255c3a36847f801634f",
            "id": 6804,
            "name": "Graham Greene",
            "order": 2,
            "profile_path": "/vG3j0Phs144Rz2dQnDAYpdhhflG.jpg"
           },
           {
            "cast_id": 15,
            "character": "Wind In His Hair",
            "credit_id": "52fe4255c3a36847f8016353",
            "id": 7853,
            "name": "Rodney A. Grant",
            "order": 3,
            "profile_path": "/zJI1ES5cvy7xtEvRnRURbgW03Bf.jpg"
           },
           {
            "cast_id": 16,
            "character": "Ten Bears",
            "credit_id": "52fe4255c3a36847f8016357",
            "id": 7862,
            "name": "Floyd Red Crow Westerman",
            "order": 4,
            "profile_path": "/rAwnURUoJrIUbQtoRAPbHaTyLcu.jpg"
           },
           {
            "cast_id": 17,
            "character": "Black Shawl",
            "credit_id": "52fe4255c3a36847f801635b",
            "id": 7863,
            "name": "Tantoo Cardinal",
            "order": 5,
            "profile_path": "/2FEYWnf9jbc5VY5fEFiX91vx80k.jpg"
           },
           {
            "cast_id": 18,
            "character": "Timmons",
            "credit_id": "52fe4255c3a36847f801635f",
            "id": 7866,
            "name": "Robert Pastorelli",
            "order": 6,
            "profile_path": "/bgoNfv93PaKf6Pg3mwyxJZN8CVp.jpg"
           },
           {
            "cast_id": 19,
            "character": "Lieutenant Elgin",
            "credit_id": "52fe4255c3a36847f8016363",
            "id": 7867,
            "name": "Charles Rocket",
            "order": 7,
            "profile_path": "/9UJTYqaPaYNPuVTjGd0Cr4XVNqe.jpg"
           },
           {
            "cast_id": 20,
            "character": "Major Fambrough",
            "credit_id": "52fe4255c3a36847f8016367",
            "id": 7868,
            "name": "Maury Chaykin",
            "order": 8,
            "profile_path": "/jhJgkb5P0oAW7QtULjqD2kaN0ez.jpg"
           },
           {
            "cast_id": 21,
            "character": "Stone Calf",
            "credit_id": "52fe4255c3a36847f801636b",
            "id": 7869,
            "name": "Jimmy Herman",
            "order": 9,
            "profile_path": "/edarXZk4BLKdRodLmfGeiZPcHNt.jpg"
           },
           {
            "cast_id": 23,
            "character": "Smiles A Lot",
            "credit_id": "52fe4255c3a36847f8016375",
            "id": 7871,
            "name": "Nathan Lee Chasing His Horse",
            "order": 10,
            "profile_path": "/hQ8i79bGsASGQ3GsOZGAY3PSYn2.jpg"
           },
           {
            "cast_id": 24,
            "character": "Otter",
            "credit_id": "52fe4255c3a36847f8016379",
            "id": 7872,
            "name": "Michael Spears",
            "order": 11,
            "profile_path": "/cAsaHMudiRa0RTooNJ7phkzYchF.jpg"
           },
           {
            "cast_id": 25,
            "character": "Worm",
            "credit_id": "52fe4255c3a36847f801637d",
            "id": 7873,
            "name": "Jason R. Lone Hill",
            "order": 12,
            "profile_path": null
           },
           {
            "cast_id": 26,
            "character": "Spivey",
            "credit_id": "52fe4255c3a36847f8016381",
            "id": 7874,
            "name": "Tony Pierce",
            "order": 13,
            "profile_path": "/nbMYwt5zndejomGFBGepBlhZQID.jpg"
           },
           {
            "cast_id": 27,
            "character": "Pretty Shield",
            "credit_id": "52fe4255c3a36847f8016385",
            "id": 7875,
            "name": "Doris Leader Charge",
            "order": 14,
            "profile_path": "/kxUgWAfdOtMbFH8mPKd7g2gIrOq.jpg"
           },
           {
            "cast_id": 30,
            "character": "Sergeant Pepper",
            "credit_id": "52fe4255c3a36847f8016395",
            "id": 140250,
            "name": "Tom Everett",
            "order": 15,
            "profile_path": "/nxrCAB3xL79EdWLwBUMwXj7FtI3.jpg"
           },
           {
            "cast_id": 31,
            "character": "Sergeant Bauer",
            "credit_id": "52fe4255c3a36847f8016399",
            "id": 21380,
            "name": "Larry Joshua",
            "order": 16,
            "profile_path": "/rWhP4v6mPwRGV4qCdJIC9oOqFn7.jpg"
           },
           {
            "cast_id": 32,
            "character": "Edwards",
            "credit_id": "52fe4255c3a36847f801639d",
            "id": 3206,
            "name": "Kirk Baltz",
            "order": 17,
            "profile_path": "/zCuugN0Lgsi5IKRq9OyYl3vh9pU.jpg"
           },
           {
            "cast_id": 33,
            "character": "Major",
            "credit_id": "52fe4256c3a36847f80163a1",
            "id": 52145,
            "name": "Wayne Grace",
            "order": 18,
            "profile_path": "/cLpzZ67EY36fChyzW83pjynoAfp.jpg"
           },
           {
            "cast_id": 34,
            "character": "General Tide",
            "credit_id": "52fe4256c3a36847f80163a5",
            "id": 14854,
            "name": "Donald Hotton",
            "order": 19,
            "profile_path": "/qCLOFZbktP5X0ChZDrHj5B0qsYN.jpg"
           },
           {
            "cast_id": 35,
            "character": "Christine",
            "credit_id": "52fe4256c3a36847f80163a9",
            "id": 1080276,
            "name": "Annie Costner",
            "order": 20,
            "profile_path": "/vBP2LHJTU48DGKJVOnM0O5DIRhy.jpg"
           },
           {
            "cast_id": 36,
            "character": "Christine's Mother",
            "credit_id": "52fe4256c3a36847f80163ad",
            "id": 1160349,
            "name": "Elisa Daniel",
            "order": 21,
            "profile_path": "/89kTBf4CXmeszbzu1zH0lo5Ryu9.jpg"
           },
           {
            "cast_id": 81,
            "character": "Big Warrior",
            "credit_id": "54be603ac3a3686c6b00f56d",
            "id": 1416085,
            "name": "Percy White Plume",
            "order": 22,
            "profile_path": null
           },
           {
            "cast_id": 82,
            "character": "Escort Warrior",
            "credit_id": "550f3087925141073d00351b",
            "id": 1444164,
            "name": "John Tail",
            "order": 23,
            "profile_path": null
           },
           {
            "cast_id": 83,
            "character": "Sioux #1 / Warrior #1",
            "credit_id": "550f30e7c3a3683eb800320b",
            "id": 4024,
            "name": "Steve Reevis",
            "order": 24,
            "profile_path": "/1jyaStTyO7omrKhRL3Hil3CWbks.jpg"
           },
           {
            "cast_id": 84,
            "character": "Sioux #2 / Warrior #2 (as Sheldon Wolfchild)",
            "credit_id": "550f3132c3a3683eb800320e",
            "id": 240609,
            "name": "Sheldon Peters Wolfchild",
            "order": 25,
            "profile_path": null
           },
           {
            "cast_id": 80,
            "character": "Toughest Pawnee",
            "credit_id": "54be5ff4c3a3684046008304",
            "id": 15853,
            "name": "Wes Studi",
            "order": 26,
            "profile_path": "/xwmhqIx6HU2dACyZ2BxGnCWJoXz.jpg"
           },
           {
            "cast_id": 85,
            "character": "Pawnee #1",
            "credit_id": "550f317792514146a000a903",
            "id": 162972,
            "name": "Buffalo Child",
            "order": 27,
            "profile_path": null
           },
           {
            "cast_id": 86,
            "character": "Pawnee #2",
            "credit_id": "550f3185c3a3681db2009fbf",
            "id": 1444165,
            "name": "Clayton Big Eagle",
            "order": 28,
            "profile_path": null
           },
           {
            "cast_id": 87,
            "character": "Pawnee #3",
            "credit_id": "550f31989251410701003567",
            "id": 1444166,
            "name": "Richard Leader Charge",
            "order": 29,
            "profile_path": null
           },
           {
            "cast_id": 88,
            "character": "Sioux Warrior",
            "credit_id": "550f31aec3a368488600ae3f",
            "id": 1444167,
            "name": "Redwing Ted Nez",
            "order": 30,
            "profile_path": null
           },
           {
            "cast_id": 89,
            "character": "Sioux Warrior",
            "credit_id": "550f31b992514164ac0011cf",
            "id": 1444168,
            "name": "Marvin Holy",
            "order": 31,
            "profile_path": null
           },
           {
            "cast_id": 90,
            "character": "Sioux Courier",
            "credit_id": "550f31c8c3a368488600ae47",
            "id": 1444169,
            "name": "Raymond Newholy",
            "order": 32,
            "profile_path": null
           },
           {
            "cast_id": 91,
            "character": "Kicking Bird's Son",
            "credit_id": "550f31da925141070100356f",
            "id": 1444170,
            "name": "David J. Fuller",
            "order": 33,
            "profile_path": null
           },
           {
            "cast_id": 92,
            "character": "Kicking Bird's Eldest Son",
            "credit_id": "550f31efc3a3683f39003438",
            "id": 1444171,
            "name": "Ryan White Bull",
            "order": 34,
            "profile_path": null
           },
           {
            "cast_id": 93,
            "character": "Kicking Bird's Daughter",
            "credit_id": "550f3206925141073d003544",
            "id": 1444172,
            "name": "Otakuye Conroy",
            "order": 35,
            "profile_path": null
           },
           {
            "cast_id": 94,
            "character": "Village Mother",
            "credit_id": "550f3212c3a3683eb8003217",
            "id": 1444173,
            "name": "Maretta Big Crow",
            "order": 36,
            "profile_path": null
           },
           {
            "cast_id": 95,
            "character": "Guard (as Steve Chambers)",
            "credit_id": "550f327592514166db00128e",
            "id": 139999,
            "name": "Steven Chambers",
            "order": 37,
            "profile_path": null
           },
           {
            "cast_id": 96,
            "character": "General's Aide (as William H. Burton)",
            "credit_id": "550f32ee9251416bd1001154",
            "id": 1412253,
            "name": "William H. Burton Jr.",
            "order": 38,
            "profile_path": null
           },
           {
            "cast_id": 97,
            "character": "Confederate Cavalryman",
            "credit_id": "550f331bc3a3681db2009ff1",
            "id": 1444174,
            "name": "Bill W. Curry",
            "order": 39,
            "profile_path": null
           },
           {
            "cast_id": 98,
            "character": "Confederate Soldier",
            "credit_id": "550f3351925141469900a82c",
            "id": 1444175,
            "name": "Nick Thompson",
            "order": 40,
            "profile_path": null
           },
           {
            "cast_id": 99,
            "character": "Confederate Soldier",
            "credit_id": "550f3363c3a3683eb8003233",
            "id": 1444176,
            "name": "Carter Hanner",
            "order": 41,
            "profile_path": null
           },
           {
            "cast_id": 100,
            "character": "Wagon Driver",
            "credit_id": "550f336f925141469900a833",
            "id": 1444177,
            "name": "Kent Hays",
            "order": 42,
            "profile_path": null
           },
           {
            "cast_id": 101,
            "character": "Union Soldier",
            "credit_id": "550f33b59251416bd1001163",
            "id": 1444178,
            "name": "Robert Goldman",
            "order": 43,
            "profile_path": null
           },
           {
            "cast_id": 102,
            "character": "Tucker",
            "credit_id": "550f33d4c3a3681db200a003",
            "id": 96636,
            "name": "Frank P. Costanza",
            "order": 44,
            "profile_path": null
           },
           {
            "cast_id": 103,
            "character": "Ray",
            "credit_id": "550f33e3c3a3683f39003468",
            "id": 1444179,
            "name": "James A. Mitchell",
            "order": 45,
            "profile_path": null
           },
           {
            "cast_id": 104,
            "character": "Ambush Wagon Driver",
            "credit_id": "550f33f79251416bd100116a",
            "id": 1444180,
            "name": "R. L. Curtin",
            "order": 46,
            "profile_path": null
           },
           {
            "cast_id": 105,
            "character": "Cisco (horse)",
            "credit_id": "550f3416c3a3683f0a00327b",
            "id": 1444181,
            "name": "Justin",
            "order": 47,
            "profile_path": null
           },
           {
            "cast_id": 106,
            "character": "Two Socks (wolf)",
            "credit_id": "550f3434c3a3683f0a003281",
            "id": 1444182,
            "name": "Teddy",
            "order": 48,
            "profile_path": null
           },
           {
            "cast_id": 107,
            "character": "Two Socks (wolf)",
            "credit_id": "550f3492925141065c00359a",
            "id": 1444183,
            "name": "Buck",
            "order": 49,
            "profile_path": null
           }
          ],
          "directors": [
           {
            "credit_id": "52fe4255c3a36847f801630d",
            "department": "Directing",
            "id": 1269,
            "job": "Director",
            "name": "Kevin Costner",
            "profile_path": "/ybwfOhuuDPJ6NCcX7Y5XJxE6nMs.jpg"
           }
          ],
          "genres": [
           {
            "id": 12,
            "name": "Adventure"
           },
           {
            "id": 18,
            "name": "Drama"
           },
           {
            "id": 37,
            "name": "Western"
           }
          ],
          "homepage": "",
          "id": 581,
          "imdb_id": "tt0099348",
          "original_language": "en",
          "original_title": "Dances with Wolves",
          "overview": "Wounded Civil War soldier John Dunbar tries to commit suicide -- and becomes a hero instead. As a reward, he's assigned to his dream post, a remote junction on the Western frontier, and soon makes unlikely friends with the local Sioux tribe.",
          "popularity": 1.53079702533824,
          "poster_path": "/hpmclspug1I8EwKSWhL7pWWltA.jpg",
          "production_companies": [
           {
            "id": 335,
            "name": "Tig Productions"
           },
           {
            "id": 2630,
            "name": "Majestic Films International"
           }
          ],
          "production_countries": [
           {
            "iso_3166_1": "GB",
            "name": "United Kingdom"
           },
           {
            "iso_3166_1": "US",
            "name": "United States of America"
           }
          ],
          "release_date": "1990-11-09",
          "revenue": 424208848,
          "runtime": 181,
          "spoken_languages": [
           {
            "iso_639_1": "en",
            "name": "English"
           }
          ],
          "status": "Released",
          "tagline": "Inside everyone is a frontier waiting to be discovered.",
          "title": "Dances with Wolves",
          "video": false,
          "vote_average": 7.1,
          "vote_count": 301
         }
        },
        {
         "_id": "50544",
         "_index": "tmdb",
         "_score": 45.221096,
         "_source": {
          "adult": false,
          "backdrop_path": "/liq5ljqURqLiBUgMkNiR388ZuSH.jpg",
          "belongs_to_collection": null,
          "budget": 35000000,
          "cast": [
           {
            "cast_id": 2,
            "character": "Dylan Harper",
            "credit_id": "52fe47cac3a36847f8148831",
            "id": 12111,
            "name": "Justin Timberlake",
            "order": 0,
            "profile_path": "/lB3pku743f3N82AVXz10fGGBAgL.jpg"
           },
           {
            "cast_id": 1,
            "character": "Jamie Rellis",
            "credit_id": "52fe47cac3a36847f814882d",
            "id": 18973,
            "name": "Mila Kunis",
            "order": 1,
            "profile_path": "/bnuXAsWKpQGqoB5SPQ8vuJLqVRV.jpg"
           },
           {
            "cast_id": 11,
            "character": "Lorna",
            "credit_id": "52fe47cbc3a36847f8148857",
            "id": 1276,
            "name": "Patricia Clarkson",
            "order": 2,
            "profile_path": "/10ZSyaUqzUlKTd60HmeiGhlytZG.jpg"
           },
           {
            "cast_id": 9,
            "character": "Tommy Bollinger",
            "credit_id": "52fe47cbc3a36847f814884f",
            "id": 57755,
            "name": "Woody Harrelson",
            "order": 3,
            "profile_path": "/ivfalpnvELPaSILqP6K6rabXfsU.jpg"
           },
           {
            "cast_id": 3,
            "character": "Sammy - Sam the Magnificent",
            "credit_id": "52fe47cac3a36847f8148835",
            "id": 147710,
            "name": "Nolan Gould",
            "order": 4,
            "profile_path": "/xyritJRCjFRZBBua866EanS80st.jpg"
           },
           {
            "cast_id": 8,
            "character": "Himself",
            "credit_id": "52fe47cbc3a36847f814884b",
            "id": 127963,
            "name": "Shaun White",
            "order": 5,
            "profile_path": "/7JqSN7O59LwxN0CIiq7dre6sUHd.jpg"
           },
           {
            "cast_id": 10,
            "character": "Annie Harper",
            "credit_id": "52fe47cbc3a36847f8148853",
            "id": 40279,
            "name": "Jenna Elfman",
            "order": 6,
            "profile_path": "/cTXzciaLL96Pa75HzEr1u1kbfeH.jpg"
           },
           {
            "cast_id": 12,
            "character": "Parker",
            "credit_id": "52fe47cbc3a36847f814885b",
            "id": 23821,
            "name": "Bryan Greenberg",
            "order": 7,
            "profile_path": "/4BtHlLIWrhQy7ISd4rEBDomduxd.jpg"
           },
           {
            "cast_id": 13,
            "character": "Mr. Harper",
            "credit_id": "52fe47cbc3a36847f814885f",
            "id": 28633,
            "name": "Richard Jenkins",
            "order": 8,
            "profile_path": "/iz61iPIgNUp0yk48bRNjEJ5GHO4.jpg"
           },
           {
            "cast_id": 16,
            "character": "Darin Arturo Morena",
            "credit_id": "52fe47cbc3a36847f814886f",
            "id": 17273,
            "name": "Masi Oka",
            "order": 9,
            "profile_path": "/ag0N7t4rr53jgqHwOmlhV3BF1WQ.jpg"
           },
           {
            "cast_id": 17,
            "character": "Quincy",
            "credit_id": "52fe47cbc3a36847f8148873",
            "id": 62861,
            "name": "Andy Samberg",
            "order": 10,
            "profile_path": "/gneiMN0OldoxNfmu6dkcBEy0u2k.jpg"
           },
           {
            "cast_id": 18,
            "character": "Kayla",
            "credit_id": "52fe47cbc3a36847f8148877",
            "id": 54693,
            "name": "Emma Stone",
            "order": 11,
            "profile_path": "/lPyR5mKhdqFmgxaCMJK6w3g1OAT.jpg"
           },
           {
            "cast_id": 19,
            "character": "Hostess",
            "credit_id": "52fe47cbc3a36847f814887b",
            "id": 109046,
            "name": "Tiya Sircar",
            "order": 12,
            "profile_path": "/uqAiFL1P344fWa4cqfQhKWNoUyO.jpg"
           },
           {
            "cast_id": 20,
            "character": "Female Co-Worker",
            "credit_id": "530375c6c3a3685ce732c9e1",
            "id": 154826,
            "name": "Catherine Reitman",
            "order": 13,
            "profile_path": "/g3vfawpUKC0wCPNANg9ib4ZmaZc.jpg"
           }
          ],
          "directors": [
           {
            "credit_id": "52fe47cbc3a36847f814886b",
            "department": "Directing",
            "id": 82511,
            "job": "Director",
            "name": "Will Gluck",
            "profile_path": "/67A9XvitqSXL4w6PftXkG15L0C.jpg"
           }
          ],
          "genres": [
           {
            "id": 35,
            "name": "Comedy"
           }
          ],
          "homepage": "http://www.fwb-movie.com/",
          "id": 50544,
          "imdb_id": "tt1632708",
          "original_language": "en",
          "original_title": "Friends with Benefits",
          "overview": "While trying to avoid the clichés of Hollywood romantic comedies, Dylan and Jamie soon discover however that adding the act of sex to their friendship does lead to complications.",
          "popularity": 0.973281632343643,
          "poster_path": "/tmVuyRSS9RYFs73YGbMnFous7DH.jpg",
          "production_companies": [
           {
            "id": 97,
            "name": "Castle Rock Entertainment"
           },
           {
            "id": 3287,
            "name": "Screen Gems"
           },
           {
            "id": 7291,
            "name": "Olive Bridge Entertainment"
           }
          ],
          "production_countries": [
           {
            "iso_3166_1": "US",
            "name": "United States of America"
           }
          ],
          "release_date": "2011-07-21",
          "revenue": 150483765,
          "runtime": 109,
          "spoken_languages": [
           {
            "iso_639_1": "en",
            "name": "English"
           }
          ],
          "status": "Released",
          "tagline": "Some friends come with a happy ending.",
          "title": "Friends with Benefits",
          "video": false,
          "vote_average": 6.2,
          "vote_count": 619
         }
        },
        {
         "_id": "139567",
         "_index": "tmdb",
         "_score": 45.221096,
         "_source": {
          "adult": false,
          "backdrop_path": "/cG9WcaappGSq8Yxd90rQ5Gwioyi.jpg",
          "belongs_to_collection": null,
          "budget": 20000000,
          "cast": [
           {
            "cast_id": 1,
            "character": "Mike Cella",
            "credit_id": "52fe4c67c3a368484e1b68f1",
            "id": 62,
            "name": "Bruce Willis",
            "order": 0,
            "profile_path": "/kI1OluWhLJk3pnR19VjOfABpnTY.jpg"
           },
           {
            "cast_id": 2,
            "character": "Jeremy Coleman",
            "credit_id": "52fe4c67c3a368484e1b68f5",
            "id": 19536,
            "name": "Josh Duhamel",
            "order": 1,
            "profile_path": "/hi5OzlZAwf22xRRPLFbKnXNoZ9L.jpg"
           },
           {
            "cast_id": 3,
            "character": "Talia Durham",
            "credit_id": "52fe4c67c3a368484e1b68f9",
            "id": 5916,
            "name": "Rosario Dawson",
            "order": 2,
            "profile_path": "/x4aOj4DYdxtIDpGrxyBD7gljEcf.jpg"
           },
           {
            "cast_id": 4,
            "character": "Neil Hagan",
            "credit_id": "52fe4c67c3a368484e1b68fd",
            "id": 7132,
            "name": "Vincent D'Onofrio",
            "order": 3,
            "profile_path": "/4pgzL6eP5Qdf2PhagqTNVEshv5e.jpg"
           },
           {
            "cast_id": 5,
            "character": "Emilio",
            "credit_id": "52fe4c67c3a368484e1b6901",
            "id": 62644,
            "name": "50 Cent",
            "order": 4,
            "profile_path": "/gsEwsWWtC5xwFCzL2CnPmc24uIO.jpg"
           },
           {
            "cast_id": 6,
            "character": "Harold Gethers",
            "credit_id": "52fe4c67c3a368484e1b6905",
            "id": 31028,
            "name": "Richard Schiff",
            "order": 5,
            "profile_path": "/gHFxL7MIGvmcbg5hhTNrbjIttQN.jpg"
           },
           {
            "cast_id": 7,
            "character": "Boyd",
            "credit_id": "52fe4c67c3a368484e1b6909",
            "id": 980,
            "name": "Vinnie Jones",
            "order": 6,
            "profile_path": "/1QQea9t0JkRVVVbgVtpGAQuf0x5.jpg"
           },
           {
            "cast_id": 8,
            "character": "Craig",
            "credit_id": "52fe4c67c3a368484e1b690d",
            "id": 155743,
            "name": "James Lesure",
            "order": 7,
            "profile_path": "/nDpg0Muebx45YUDM7ROywgVVxeZ.jpg"
           },
           {
            "cast_id": 9,
            "character": "Wallace",
            "credit_id": "52fe4c67c3a368484e1b6911",
            "id": 586935,
            "name": "Quinton Jackson",
            "order": 8,
            "profile_path": "/nhzVZm9QBWQ98HPiCV7PvrCoqFR.jpg"
           },
           {
            "cast_id": 10,
            "character": "Darren",
            "credit_id": "52fe4c67c3a368484e1b6915",
            "id": 91612,
            "name": "Arie Verveen",
            "order": 9,
            "profile_path": "/yh3mOsRXENzK3JJljFlSgX7p6QL.jpg"
           },
           {
            "cast_id": 11,
            "character": "Karen Westlake",
            "credit_id": "52fe4c67c3a368484e1b6919",
            "id": 66579,
            "name": "Bonnie Somerville",
            "order": 10,
            "profile_path": "/a1tjNEX8Tm5WupP9vEdRnpW2s45.jpg"
           },
           {
            "cast_id": 12,
            "character": "Sherrod",
            "credit_id": "52fe4c67c3a368484e1b691d",
            "id": 213058,
            "name": "Nnamdi Asomugha",
            "order": 11,
            "profile_path": null
           },
           {
            "cast_id": 13,
            "character": "Agent Mullens",
            "credit_id": "52fe4c67c3a368484e1b6921",
            "id": 14721,
            "name": "Kevin Dunn",
            "order": 12,
            "profile_path": "/85thH2pUn2tPP97QhnYQI7MBiCW.jpg"
           },
           {
            "cast_id": 14,
            "character": "Sean",
            "credit_id": "52fe4c67c3a368484e1b6925",
            "id": 574380,
            "name": "Danny Epper",
            "order": 13,
            "profile_path": "/51tZpRQ7ECagFytqbdrGMcAW7T.jpg"
           },
           {
            "cast_id": 71,
            "character": "Kane",
            "credit_id": "550bffd092514146a0003417",
            "id": 1055739,
            "name": "Scott A. Martin",
            "order": 14,
            "profile_path": "/5XoslX4ZEsiT8k8qvG5olx65r2W.jpg"
           }
          ],
          "directors": [
           {
            "credit_id": "52fe4c67c3a368484e1b6973",
            "department": "Directing",
            "id": 9556,
            "job": "Director",
            "name": "David Barrett",
            "profile_path": "/ghWOXqNnJIYKH1GDkym7YyUx882.jpg"
           }
          ],
          "genres": [
           {
            "id": 28,
            "name": "Action"
           },
           {
            "id": 80,
            "name": "Crime"
           },
           {
            "id": 18,
            "name": "Drama"
           },
           {
            "id": 53,
            "name": "Thriller"
           }
          ],
          "homepage": "",
          "id": 139567,
          "imdb_id": "tt1925431",
          "original_language": "en",
          "original_title": "Fire With Fire",
          "overview": "A fireman takes an unexpected course of action when a man whom he's been ordered to testify against, after being held up at a local convenience store, threatens him.",
          "popularity": 0.845092321207316,
          "poster_path": "/2F0Y4l7uXIGfDMtfuq2k6b2744w.jpg",
          "production_companies": [
           {
            "id": 46961,
            "name": "Knightsbridge Entertainment"
           },
           {
            "id": 376,
            "name": "Industry Entertainment"
           },
           {
            "id": 3604,
            "name": "Grindstone Entertainment Group"
           },
           {
            "id": 5830,
            "name": "Cheetah Vision"
           },
           {
            "id": 6667,
            "name": "Mandalay Vision"
           },
           {
            "id": 6819,
            "name": "Paradox Entertainment"
           },
           {
            "id": 10405,
            "name": "Emmett/Furla Films"
           },
           {
            "id": 31832,
            "name": "Envision Entertainment"
           }
          ],
          "production_countries": [
           {
            "iso_3166_1": "US",
            "name": "United States of America"
           }
          ],
          "release_date": "2012-08-31",
          "revenue": 0,
          "runtime": 97,
          "spoken_languages": [
           {
            "iso_639_1": "en",
            "name": "English"
           }
          ],
          "status": "Released",
          "tagline": "Revenge has its own set of rules.",
          "title": "Fire with Fire",
          "video": false,
          "vote_average": 5.9,
          "vote_count": 77
         }
        },
        {
         "_id": "80038",
         "_index": "tmdb",
         "_score": 45.221096,
         "_source": {
          "adult": false,
          "backdrop_path": "/uDT5U5VBn2TVjUQsoV9hxouHmtH.jpg",
          "belongs_to_collection": null,
          "budget": 7251073,
          "cast": [
           {
            "cast_id": 1,
            "character": "Missy",
            "credit_id": "52fe479e9251416c91070493",
            "id": 41091,
            "name": "Kristen Wiig",
            "order": 0,
            "profile_path": "/x5avlvpHlBGGLhzbzuSfmOsMGlw.jpg"
           },
           {
            "cast_id": 2,
            "character": "Ben",
            "credit_id": "52fe479e9251416c91070497",
            "id": 65717,
            "name": "Jon Hamm",
            "order": 1,
            "profile_path": "/7sjEnFaFNOzPeu5GhCeNJWhnOLt.jpg"
           },
           {
            "cast_id": 21,
            "character": "Julie Keller",
            "credit_id": "52fe479f9251416c910704f1",
            "id": 119368,
            "name": "Jennifer Westfeldt",
            "order": 2,
            "profile_path": "/ZCuD043X1SS5yIHXQcPJ8Tg9Vs.jpg"
           },
           {
            "cast_id": 3,
            "character": "Mary Jane",
            "credit_id": "52fe479e9251416c9107049b",
            "id": 19537,
            "name": "Megan Fox",
            "order": 3,
            "profile_path": "/7rq0erGOfRSQeBBqypUyxvMNYhT.jpg"
           },
           {
            "cast_id": 4,
            "character": "Alex",
            "credit_id": "52fe479e9251416c9107049f",
            "id": 40477,
            "name": "Chris O'Dowd",
            "order": 4,
            "profile_path": "/hmTLgS5aT1t1sdg1GfdXM9yYUPI.jpg"
           },
           {
            "cast_id": 5,
            "character": "Leslie",
            "credit_id": "52fe479e9251416c910704a3",
            "id": 52792,
            "name": "Maya Rudolph",
            "order": 5,
            "profile_path": "/qLDuXku39c4uwVf3h2GjFqwZqik.jpg"
           },
           {
            "cast_id": 6,
            "character": "Kurt",
            "credit_id": "52fe479e9251416c910704a7",
            "id": 12833,
            "name": "Edward Burns",
            "order": 6,
            "profile_path": "/jR0Z5bkcYxQ1V603v2RuWJZ4Uew.jpg"
           },
           {
            "cast_id": 7,
            "character": "Jason",
            "credit_id": "52fe479e9251416c910704ab",
            "id": 36801,
            "name": "Adam Scott",
            "order": 7,
            "profile_path": "/5x21CfDeZo2Fq1AOskE1o6vYzlZ.jpg"
           },
           {
            "cast_id": 10,
            "character": "Elaine Keller",
            "credit_id": "52fe479e9251416c910704bb",
            "id": 160328,
            "name": "Lee Bryant",
            "order": 8,
            "profile_path": "/riFEbXO78dRCTxzQ358AVr1m4uD.jpg"
           },
           {
            "cast_id": 11,
            "character": "Marcy Fryman",
            "credit_id": "52fe479e9251416c910704bf",
            "id": 728,
            "name": "Kelly Bishop",
            "order": 9,
            "profile_path": "/rXjKYHafK17IiqgjWvmZYdmpdo9.jpg"
           },
           {
            "cast_id": 12,
            "character": "Phil Fryman",
            "credit_id": "52fe479e9251416c910704c3",
            "id": 115858,
            "name": "Cotter Smith",
            "order": 10,
            "profile_path": "/4lMLsN7hLmtGPqOt626dnui64Cb.jpg"
           }
          ],
          "directors": [
           {
            "credit_id": "52fe479e9251416c910704b1",
            "department": "Directing",
            "id": 119368,
            "job": "Director",
            "name": "Jennifer Westfeldt",
            "profile_path": "/ZCuD043X1SS5yIHXQcPJ8Tg9Vs.jpg"
           }
          ],
          "genres": [
           {
            "id": 35,
            "name": "Comedy"
           },
           {
            "id": 18,
            "name": "Drama"
           },
           {
            "id": 10749,
            "name": "Romance"
           }
          ],
          "homepage": "http://www.friendswithkids.com/#",
          "id": 80038,
          "imdb_id": "tt1720616",
          "original_language": "en",
          "original_title": "Friends with Kids",
          "overview": "Revolves around a pair of best friends in their 30s who observe the effect of having kids has taken on the couples they know. To avoid that toll, the best friends resolve to have a child and then date other people.",
          "popularity": 0.781319300810492,
          "poster_path": "/8P1iId23hDMVQL00k2IbzW46qQG.jpg",
          "production_companies": [
           {
            "id": 6404,
            "name": "Locomotive"
           }
          ],
          "production_countries": [
           {
            "iso_3166_1": "US",
            "name": "United States of America"
           }
          ],
          "release_date": "2011-09-09",
          "revenue": 12186625,
          "runtime": 107,
          "spoken_languages": [
           {
            "iso_639_1": "fr",
            "name": "Français"
           },
           {
            "iso_639_1": "en",
            "name": "English"
           }
          ],
          "status": "Released",
          "tagline": "Family doesn't always go according to plan.",
          "title": "Friends with Kids",
          "video": false,
          "vote_average": 6.1,
          "vote_count": 64
         }
        },
        {
         "_id": "628",
         "_index": "tmdb",
         "_score": 39.572163,
         "_source": {
          "adult": false,
          "backdrop_path": "/GRyynLqafMrLFMHqvfGdUweavA.jpg",
          "belongs_to_collection": {
           "backdrop_path": "/5margBoJC97ZrciVpAUc0PiY6Rc.jpg",
           "id": 217704,
           "name": "The Vampire Chronicles",
           "poster_path": "/1Iop0dywqQeD5Mm7oRVR8vZ8gkj.jpg"
          },
          "budget": 60000000,
          "cast": [
           {
            "cast_id": 18,
            "character": "Louis de Pointe du Lac",
            "credit_id": "52fe4260c3a36847f80199f9",
            "id": 287,
            "name": "Brad Pitt",
            "order": 0,
            "profile_path": "/kc3M04QQAuZ9woUvH3Ju5T7ZqG5.jpg"
           },
           {
            "cast_id": 19,
            "character": "Lestat de Lioncourt",
            "credit_id": "52fe4260c3a36847f80199fd",
            "id": 500,
            "name": "Tom Cruise",
            "order": 1,
            "profile_path": "/3oWEuo0e8Nx8JvkqYCDec2iMY6K.jpg"
           },
           {
            "cast_id": 20,
            "character": "Claudia",
            "credit_id": "52fe4260c3a36847f8019a01",
            "id": 205,
            "name": "Kirsten Dunst",
            "order": 2,
            "profile_path": "/3fjUI92bQaGOnbxHBbyR0z9h619.jpg"
           },
           {
            "cast_id": 21,
            "character": "Armand",
            "credit_id": "52fe4260c3a36847f8019a05",
            "id": 3131,
            "name": "Antonio Banderas",
            "order": 3,
            "profile_path": "/85197jARsr06xQ84NhP9YoBL3sR.jpg"
           },
           {
            "cast_id": 22,
            "character": "Daniel Malloy",
            "credit_id": "52fe4260c3a36847f8019a09",
            "id": 2224,
            "name": "Christian Slater",
            "order": 4,
            "profile_path": "/9CB3uFqhYla5QTzyRbQ2dJBzepJ.jpg"
           },
           {
            "cast_id": 23,
            "character": "Santiago",
            "credit_id": "52fe4260c3a36847f8019a0d",
            "id": 9029,
            "name": "Stephen Rea",
            "order": 5,
            "profile_path": "/taD1NngDbW8cyCuacAT3YaecSEG.jpg"
           },
           {
            "cast_id": 24,
            "character": "Yvette",
            "credit_id": "52fe4260c3a36847f8019a11",
            "id": 9030,
            "name": "Thandie Newton",
            "order": 6,
            "profile_path": "/byGtD0HVMgWFSluh1UlwB0qMhh7.jpg"
           },
           {
            "cast_id": 25,
            "character": "Madeleine",
            "credit_id": "52fe4260c3a36847f8019a15",
            "id": 9031,
            "name": "Domiziana Giordano",
            "order": 7,
            "profile_path": null
           },
           {
            "cast_id": 27,
            "character": "New Orleans Whore",
            "credit_id": "52fe4260c3a36847f8019a1f",
            "id": 232174,
            "name": "Indra Ové",
            "order": 8,
            "profile_path": "/2NkIw6p5iGfBqM4P0u8FEq02wX7.jpg"
           },
           {
            "cast_id": 28,
            "character": "Mortal Woman on Stage",
            "credit_id": "52fe4260c3a36847f8019a23",
            "id": 149876,
            "name": "Laure Marsac",
            "order": 9,
            "profile_path": "/pqUejLV3GZkUTgBCWdNiYsLMlvH.jpg"
           },
           {
            "cast_id": 29,
            "character": "Paris Vampire",
            "credit_id": "52fe4260c3a36847f8019a27",
            "id": 17290,
            "name": "Andrew Tiernan",
            "order": 10,
            "profile_path": "/891RIqhOno9VLsYPIfzQsqytQZb.jpg"
           },
           {
            "cast_id": 30,
            "character": "Tavern Girl",
            "credit_id": "52fe4260c3a36847f8019a2b",
            "id": 1218000,
            "name": "Bellina Logan",
            "order": 11,
            "profile_path": null
           },
           {
            "cast_id": 31,
            "character": "Dollmaker",
            "credit_id": "52fe4260c3a36847f8019a2f",
            "id": 951881,
            "name": "George Kelly",
            "order": 12,
            "profile_path": null
           },
           {
            "cast_id": 32,
            "character": "2nd New Orleans Whore",
            "credit_id": "52fe4260c3a36847f8019a33",
            "id": 15737,
            "name": "Helen McCrory",
            "order": 13,
            "profile_path": "/yuC7SZvd89sSntzTKClTgBuEDvh.jpg"
           }
          ],
          "directors": [
           {
            "credit_id": "52fe4260c3a36847f8019a1b",
            "department": "Directing",
            "id": 17016,
            "job": "Director",
            "name": "Neil Jordan",
            "profile_path": "/4OWdIhT5gcfcHoBUzGL7E8tu9T1.jpg"
           }
          ],
          "genres": [
           {
            "id": 27,
            "name": "Horror"
           },
           {
            "id": 10749,
            "name": "Romance"
           }
          ],
          "homepage": "",
          "id": 628,
          "imdb_id": "tt0110148",
          "original_language": "en",
          "original_title": "Interview with the Vampire",
          "overview": "A vampire relates his epic life story of love, betrayal, loneliness, and dark hunger to an over-curious reporter.",
          "popularity": 1.11796928198452,
          "poster_path": "/hldXwwViSfHJS0kIJr07KBGmHJI.jpg",
          "production_companies": [
           {
            "id": 174,
            "name": "Warner Bros. Pictures"
           },
           {
            "id": 360,
            "name": "Geffen Pictures"
           }
          ],
          "production_countries": [
           {
            "iso_3166_1": "US",
            "name": "United States of America"
           }
          ],
          "release_date": "1994-11-11",
          "revenue": 223664608,
          "runtime": 123,
          "spoken_languages": [
           {
            "iso_639_1": "en",
            "name": "English"
           },
           {
            "iso_639_1": "fr",
            "name": "Français"
           }
          ],
          "status": "Released",
          "tagline": "Drink From Me And Live Forever.",
          "title": "Interview with the Vampire",
          "video": false,
          "vote_average": 6.8,
          "vote_count": 415
         }
        },
        {
         "_id": "657",
         "_index": "tmdb",
         "_score": 39.572163,
         "_source": {
          "adult": false,
          "backdrop_path": "/f3wkOANYRwmzt8ATIl2hbRvF3hw.jpg",
          "belongs_to_collection": {
           "backdrop_path": "/6VcVl48kNKvdXOZfJPdarlUGOsk.jpg",
           "id": 645,
           "name": "James Bond Collection",
           "poster_path": "/HORpg5CSkmeQlAolx3bKMrKgfi.jpg"
          },
          "budget": 2500000,
          "cast": [
           {
            "cast_id": 27,
            "character": "James Bond",
            "credit_id": "52fe4265c3a36847f801b397",
            "id": 738,
            "name": "Sean Connery",
            "order": 0,
            "profile_path": "/ce84udJZ9QRSR44jxwK2apM3DM8.jpg"
           },
           {
            "cast_id": 1,
            "character": "Tatiana Romanova",
            "credit_id": "52fe4265c3a36847f801b317",
            "id": 9896,
            "name": "Daniela Bianchi",
            "order": 1,
            "profile_path": "/d1CunVrPWvNQ0SJGkRfjGpCdV0g.jpg"
           },
           {
            "cast_id": 2,
            "character": "Rosa Klebb",
            "credit_id": "52fe4265c3a36847f801b31b",
            "id": 9898,
            "name": "Lotte Lenya",
            "order": 2,
            "profile_path": "/5qkH7EwNIIxYHeE1TfZfYIrRyVi.jpg"
           },
           {
            "cast_id": 3,
            "character": "Donovan 'Red' Grant",
            "credit_id": "52fe4265c3a36847f801b31f",
            "id": 8606,
            "name": "Robert Shaw",
            "order": 3,
            "profile_path": "/mLlgNTWRo3zGFzg4WHP9uzOH9Xn.jpg"
           },
           {
            "cast_id": 4,
            "character": "M",
            "credit_id": "52fe4265c3a36847f801b323",
            "id": 9874,
            "name": "Bernard Lee",
            "order": 4,
            "profile_path": "/vCLXqcJNAijcVrRrJuoduc5VnSd.jpg"
           },
           {
            "cast_id": 5,
            "character": "Sylvia Trench",
            "credit_id": "52fe4265c3a36847f801b327",
            "id": 9877,
            "name": "Eunice Gayson",
            "order": 5,
            "profile_path": "/vR2lR94QjJNK7fJq0lvarykBZ0I.jpg"
           },
           {
            "cast_id": 6,
            "character": "Morzeny",
            "credit_id": "52fe4265c3a36847f801b32b",
            "id": 6610,
            "name": "Walter Gotell",
            "order": 6,
            "profile_path": "/mZ24RTuEPPCzmbgwV7lcNuVvZ5f.jpg"
           },
           {
            "cast_id": 7,
            "character": "Vavra",
            "credit_id": "52fe4265c3a36847f801b32f",
            "id": 9899,
            "name": "Francis de Wolff",
            "order": 7,
            "profile_path": null
           },
           {
            "cast_id": 9,
            "character": "Kerim's Girl",
            "credit_id": "52fe4265c3a36847f801b333",
            "id": 9901,
            "name": "Nadja Regin",
            "order": 8,
            "profile_path": null
           },
           {
            "cast_id": 10,
            "character": "Miss Moneypenny",
            "credit_id": "52fe4265c3a36847f801b337",
            "id": 9878,
            "name": "Lois Maxwell",
            "order": 9,
            "profile_path": "/uQneO3fT5H7vmjxusi3lJmm3xT3.jpg"
           },
           {
            "cast_id": 11,
            "character": "Vida",
            "credit_id": "52fe4265c3a36847f801b33b",
            "id": 9902,
            "name": "Aliza Gur",
            "order": 10,
            "profile_path": null
           },
           {
            "cast_id": 26,
            "character": "Q",
            "credit_id": "52fe4265c3a36847f801b393",
            "id": 9906,
            "name": "Desmond Llewelyn",
            "order": 11,
            "profile_path": "/kJxILFKzFPSVVkpVsCOW7BWFVfy.jpg"
           },
           {
            "cast_id": 28,
            "character": "Ali Kerim Bey",
            "credit_id": "52fe4265c3a36847f801b39b",
            "id": 96973,
            "name": "Pedro Armendáriz",
            "order": 12,
            "profile_path": "/3Qgxk7T5oVthZNhrJdIworkxdw.jpg"
           },
           {
            "cast_id": 29,
            "character": "Kronsteen",
            "credit_id": "52fe4265c3a36847f801b39f",
            "id": 39036,
            "name": "Vladek Sheybal",
            "order": 13,
            "profile_path": "/ccutGFAuflgNyPXyXd6HE1pwZk5.jpg"
           },
           {
            "cast_id": 30,
            "character": "Train Conductor",
            "credit_id": "5404b54a0e0a2658d800a6d6",
            "id": 9900,
            "name": "George Pastell",
            "order": 14,
            "profile_path": null
           },
           {
            "cast_id": 31,
            "character": "Zora",
            "credit_id": "5404b57a0e0a260c850030ef",
            "id": 9925,
            "name": "Martine Beswick",
            "order": 15,
            "profile_path": "/z5tUam9oJPDMkrgnPlVdN7UijUs.jpg"
           },
           {
            "cast_id": 32,
            "character": "Masseuse",
            "credit_id": "5404b5ba0e0a26137900343d",
            "id": 41495,
            "name": "Jan Williams",
            "order": 16,
            "profile_path": null
           },
           {
            "cast_id": 33,
            "character": "McAdams",
            "credit_id": "5404b5d00e0a2658f100a969",
            "id": 199919,
            "name": "Peter Madden",
            "order": 17,
            "profile_path": null
           }
          ],
          "directors": [
           {
            "credit_id": "52fe4265c3a36847f801b341",
            "department": "Directing",
            "id": 9855,
            "job": "Director",
            "name": "Terence Young",
            "profile_path": "/vXufUCM2ybRgYggqxoV5479a03Y.jpg"
           }
          ],
          "genres": [
           {
            "id": 28,
            "name": "Action"
           },
           {
            "id": 12,
            "name": "Adventure"
           },
           {
            "id": 53,
            "name": "Thriller"
           }
          ],
          "homepage": "http://www.mgm.com/view/movie/717/From-Russia-With-Love/",
          "id": 657,
          "imdb_id": "tt0057076",
          "original_language": "en",
          "original_title": "From Russia With Love",
          "overview": "James Bond is back and on the loose in exotic Istanbul looking for a super-secret coding machine. He's involved with a beautiful Russian spy and has the SPECTRE organization after him, including villainess Rosa Klebb - she of the killer shoe. Lots of exciting escapes but not an over reliance on the gadgetry of the later films. The second James Bond feature, thought by many to be the best.",
          "popularity": 1.59910862176914,
          "poster_path": "/xLj655bmXKMiFbUCQnKhz8xwezV.jpg",
          "production_companies": [
           {
            "id": 21,
            "name": "Metro-Goldwyn-Mayer"
           },
           {
            "id": 7576,
            "name": "Eon Productions"
           },
           {
            "id": 10761,
            "name": "Danjaq"
           }
          ],
          "production_countries": [
           {
            "iso_3166_1": "GB",
            "name": "United Kingdom"
           }
          ],
          "release_date": "1963-10-11",
          "revenue": 78898765,
          "runtime": 115,
          "spoken_languages": [
           {
            "iso_639_1": "en",
            "name": "English"
           },
           {
            "iso_639_1": "ru",
            "name": "Pусский"
           },
           {
            "iso_639_1": "tr",
            "name": "Türkçe"
           },
           {
            "iso_639_1": "ro",
            "name": "Română"
           }
          ],
          "status": "Released",
          "tagline": "The world's masters of murder pull out all the stops to destroy Agent 007!",
          "title": "From Russia With Love",
          "video": false,
          "vote_average": 6.6,
          "vote_count": 257
         }
        },
        {
         "_id": "770",
         "_index": "tmdb",
         "_score": 39.572163,
         "_source": {
          "adult": false,
          "backdrop_path": "/bGRUMgSvs6wzYQRqehY4Fsup4f1.jpg",
          "belongs_to_collection": null,
          "budget": 4000000,
          "cast": [
           {
            "cast_id": 10,
            "character": "Scarlett O'Hara",
            "credit_id": "52fe4274c3a36847f801fe17",
            "id": 10538,
            "name": "Vivien Leigh",
            "order": 0,
            "profile_path": "/rATfD7y3lNbz8ji4SnIURctu7qa.jpg"
           },
           {
            "cast_id": 11,
            "character": "Rhett Butler",
            "credit_id": "52fe4274c3a36847f801fe1b",
            "id": 11492,
            "name": "Clark Gable",
            "order": 1,
            "profile_path": "/cebtqK6Ydrhi5ip0V12MDj3bDvd.jpg"
           },
           {
            "cast_id": 12,
            "character": "Melanie Hamilton",
            "credit_id": "52fe4274c3a36847f801fe1f",
            "id": 8725,
            "name": "Olivia de Havilland",
            "order": 2,
            "profile_path": "/rnMSdk6OZvRdimYbFHjiaYOtIlt.jpg"
           },
           {
            "cast_id": 13,
            "character": "Gerald O'Hara",
            "credit_id": "52fe4274c3a36847f801fe23",
            "id": 3383,
            "name": "Thomas Mitchell",
            "order": 3,
            "profile_path": "/b0WAgmbZjTX99prApnSMdiYOhRK.jpg"
           },
           {
            "cast_id": 14,
            "character": "Ashley Wilkes",
            "credit_id": "52fe4274c3a36847f801fe27",
            "id": 11493,
            "name": "Leslie Howard",
            "order": 4,
            "profile_path": "/upiLsG5efD8CrGO0gT6HyiZZEYh.jpg"
           },
           {
            "cast_id": 15,
            "character": "Ellen O'Hara",
            "credit_id": "52fe4274c3a36847f801fe2b",
            "id": 7642,
            "name": "Barbara O'Neil",
            "order": 5,
            "profile_path": "/osDN2GY2erXbTbwlBSapfKwXaeh.jpg"
           },
           {
            "cast_id": 16,
            "character": "Suellen O'Hara",
            "credit_id": "52fe4274c3a36847f801fe2f",
            "id": 11494,
            "name": "Evelyn Keyes",
            "order": 6,
            "profile_path": "/n3Dtqe51XAPNa2N4nXe1GtR90NK.jpg"
           },
           {
            "cast_id": 17,
            "character": "Carreen O'Hara",
            "credit_id": "52fe4274c3a36847f801fe33",
            "id": 11495,
            "name": "Ann Rutherford",
            "order": 7,
            "profile_path": "/3ZRWZ6Opn94EXXbkJalW0TudTB.jpg"
           },
           {
            "cast_id": 18,
            "character": "Stuart Tarleton",
            "credit_id": "52fe4274c3a36847f801fe37",
            "id": 11496,
            "name": "George Reeves",
            "order": 8,
            "profile_path": "/98aYzkJmmsMHPmY77IUHVc2sbgy.jpg"
           },
           {
            "cast_id": 19,
            "character": "Brent Tarleton",
            "credit_id": "52fe4274c3a36847f801fe3b",
            "id": 11497,
            "name": "Fred Crane",
            "order": 9,
            "profile_path": "/zc2dBfgR9H0IYCDFnK0N9UCYQcK.jpg"
           },
           {
            "cast_id": 20,
            "character": "Mammy",
            "credit_id": "52fe4274c3a36847f801fe3f",
            "id": 11498,
            "name": "Hattie McDaniel",
            "order": 10,
            "profile_path": "/logqibs2WF76dLI297OJkm4j4np.jpg"
           },
           {
            "cast_id": 21,
            "character": "Pork",
            "credit_id": "52fe4274c3a36847f801fe43",
            "id": 11499,
            "name": "Oscar Polk",
            "order": 11,
            "profile_path": "/AoZOpOvbLoVLHqujtKR0HxIzBNK.jpg"
           },
           {
            "cast_id": 22,
            "character": "Prissy",
            "credit_id": "52fe4274c3a36847f801fe47",
            "id": 11500,
            "name": "Butterfly McQueen",
            "order": 12,
            "profile_path": "/i41zpICsZwsuGyZe946MM8BG5hI.jpg"
           },
           {
            "cast_id": 23,
            "character": "Cathleen Calvert",
            "credit_id": "52fe4274c3a36847f801fe4b",
            "id": 11501,
            "name": "Marcella Martin",
            "order": 13,
            "profile_path": null
           },
           {
            "cast_id": 24,
            "character": "Dr. Meade",
            "credit_id": "52fe4274c3a36847f801fe4f",
            "id": 11502,
            "name": "Harry Davenport",
            "order": 14,
            "profile_path": "/r28I9wuqqhuMtZ0iBzoi1A74ljp.jpg"
           },
           {
            "cast_id": 43,
            "character": "Mrs. Meade",
            "credit_id": "52fe4274c3a36847f801fe9d",
            "id": 13822,
            "name": "Leona Roberts",
            "order": 17,
            "profile_path": "/z8oL1VwiSGnwTK4c1PV9A2som7x.jpg"
           },
           {
            "cast_id": 25,
            "character": "Bonnie Blue Butler",
            "credit_id": "52fe4274c3a36847f801fe53",
            "id": 11503,
            "name": "Cammie King",
            "order": 18,
            "profile_path": "/o1PkTkUR5wOU9ZRrbVdc0nWR5XS.jpg"
           },
           {
            "cast_id": 27,
            "character": "Amputation Case",
            "credit_id": "52fe4274c3a36847f801fe5d",
            "id": 124853,
            "name": "Eric Linden",
            "order": 19,
            "profile_path": "/wSgntN58MRBPOOT80kcCHZCo3EY.jpg"
           },
           {
            "cast_id": 28,
            "character": "Johnny Gallagher",
            "credit_id": "52fe4274c3a36847f801fe61",
            "id": 2099,
            "name": "J. M. Kerrigan",
            "order": 20,
            "profile_path": "/2q7u623S3giTrirUaQQMIKGdr5A.jpg"
           },
           {
            "cast_id": 29,
            "character": "Tom - Yankee Captain",
            "credit_id": "52fe4274c3a36847f801fe65",
            "id": 4303,
            "name": "Ward Bond",
            "order": 21,
            "profile_path": "/y7WrIGuVPHlMaakPHRYNldxvZRf.jpg"
           },
           {
            "cast_id": 30,
            "character": "Phil Meade",
            "credit_id": "52fe4274c3a36847f801fe69",
            "id": 33775,
            "name": "Jackie Moran",
            "order": 22,
            "profile_path": "/fabbLkwkB0yYcYSbbpSKPRxXHsQ.jpg"
           },
           {
            "cast_id": 31,
            "character": "Reminiscent Soldier",
            "credit_id": "52fe4274c3a36847f801fe6d",
            "id": 30236,
            "name": "Cliff Edwards",
            "order": 23,
            "profile_path": "/kbWXXmugxdX3rOEa0hUlJWHZ9pA.jpg"
           },
           {
            "cast_id": 32,
            "character": "Bonnie's Nurse in London",
            "credit_id": "52fe4274c3a36847f801fe71",
            "id": 124854,
            "name": "Lillian Kemble-Cooper",
            "order": 24,
            "profile_path": null
           },
           {
            "cast_id": 33,
            "character": "Renegade",
            "credit_id": "52fe4274c3a36847f801fe75",
            "id": 88979,
            "name": "Yakima Canutt",
            "order": 25,
            "profile_path": "/8cLKXYJymj4753C2XzoINfaJllv.jpg"
           },
           {
            "cast_id": 34,
            "character": "Hungry Soldier Holding Beau Wilkes",
            "credit_id": "52fe4274c3a36847f801fe79",
            "id": 13979,
            "name": "Louis Jean Heydt",
            "order": 26,
            "profile_path": "/i3IvlNbAp6w3IB7Ur8QpRsG8MLz.jpg"
           },
           {
            "cast_id": 35,
            "character": "Beau Wilkes",
            "credit_id": "52fe4274c3a36847f801fe7d",
            "id": 10545,
            "name": "Mickey Kuhn",
            "order": 27,
            "profile_path": "/lqzpNfPGs77XFaNAetnNuC6dFql.jpg"
           },
           {
            "cast_id": 36,
            "character": "A Carpetbagger Businessman",
            "credit_id": "52fe4274c3a36847f801fe81",
            "id": 34209,
            "name": "Olin Howland",
            "order": 28,
            "profile_path": "/lstGMKS2WLNbgNZXd9bKTn0tbTz.jpg"
           },
           {
            "cast_id": 37,
            "character": "Corporal",
            "credit_id": "52fe4274c3a36847f801fe85",
            "id": 30530,
            "name": "Irving Bacon",
            "order": 29,
            "profile_path": "/oI6h1L5HvvXLacBIlKoHcXrHbhI.jpg"
           },
           {
            "cast_id": 38,
            "character": "Yankee Major",
            "credit_id": "52fe4274c3a36847f801fe89",
            "id": 124855,
            "name": "Robert Elliott",
            "order": 30,
            "profile_path": null
           },
           {
            "cast_id": 39,
            "character": "Mounted Officer",
            "credit_id": "52fe4274c3a36847f801fe8d",
            "id": 2015,
            "name": "William Bakewell",
            "order": 31,
            "profile_path": "/bHFnAPWrWxFycVGFPufC1zyeeA0.jpg"
           },
           {
            "cast_id": 40,
            "character": "Maybelle Merriwether",
            "credit_id": "52fe4274c3a36847f801fe91",
            "id": 93896,
            "name": "Mary Anderson",
            "order": 32,
            "profile_path": "/gQYvWEt5LTvILfEg7Q9URFD1rf5.jpg"
           },
           {
            "cast_id": 41,
            "character": "Belle Watling",
            "credit_id": "52fe4274c3a36847f801fe95",
            "id": 105797,
            "name": "Ona Munson",
            "order": 32,
            "profile_path": "/n8OMRdRdDN2Gslu54ggCfRJ99zM.jpg"
           },
           {
            "cast_id": 42,
            "character": "Mrs. Merriwether",
            "credit_id": "52fe4274c3a36847f801fe99",
            "id": 8515,
            "name": "Jane Darwell",
            "order": 32,
            "profile_path": "/geGrMcqxcFtMKKJO36OFpVwZFFW.jpg"
           },
           {
            "cast_id": 45,
            "character": "Emmy Slattery",
            "credit_id": "52fe4274c3a36847f801fea1",
            "id": 33277,
            "name": "Isabel Jewell",
            "order": 33,
            "profile_path": "/oBUProXvlf58Y3Cp9qEFWFW6rib.jpg"
           },
           {
            "cast_id": 46,
            "character": "Yankee Deserter",
            "credit_id": "52fe4274c3a36847f801fea5",
            "id": 14664,
            "name": "Paul Hurst",
            "order": 34,
            "profile_path": "/3TzzVWNYUSQIw24A9EB5YBwjMcv.jpg"
           },
           {
            "cast_id": 47,
            "character": "Uncle Peter - Her Coachman (as Eddie Anderson)",
            "credit_id": "52fe4274c3a36847f801fea9",
            "id": 98571,
            "name": "Eddie 'Rochester' Anderson",
            "order": 35,
            "profile_path": "/zHuKGgQyNUKSX5elFdef0lG9QoS.jpg"
           },
           {
            "cast_id": 48,
            "character": "Aunt 'Pittypat' Hamilton",
            "credit_id": "52fe4274c3a36847f801fead",
            "id": 223051,
            "name": "Laura Hope Crews",
            "order": 36,
            "profile_path": "/oQQOd1KY5f6icBOXinr8mbuLtnA.jpg"
           },
           {
            "cast_id": 49,
            "character": "Frank Kennedy - Guest",
            "credit_id": "52fe4274c3a36847f801feb1",
            "id": 122148,
            "name": "Carroll Nye",
            "order": 37,
            "profile_path": "/mO3vXG5gUwsg4rIW4au70O2eoBa.jpg"
           },
           {
            "cast_id": 50,
            "character": "Charles Hamilton - Her Brother",
            "credit_id": "52fe4274c3a36847f801feb5",
            "id": 91217,
            "name": "Rand Brooks",
            "order": 38,
            "profile_path": "/vWqNcOULc8juvA5zjsIARIbpSzH.jpg"
           },
           {
            "cast_id": 51,
            "character": "India - His Daughter",
            "credit_id": "52fe4274c3a36847f801feb9",
            "id": 1073154,
            "name": "Alicia Rhett",
            "order": 39,
            "profile_path": "/wAu2dv49HNucRXkVNWffd4k48CY.jpg"
           },
           {
            "cast_id": 52,
            "character": "John Wilkes (as Howard Hickman)",
            "credit_id": "52fe4274c3a36847f801febd",
            "id": 33025,
            "name": "Howard C. Hickman",
            "order": 40,
            "profile_path": "/oobORM7adsUFRv25jelF1So8qFY.jpg"
           },
           {
            "cast_id": 53,
            "character": "Big Sam - Field Foreman",
            "credit_id": "52fe4274c3a36847f801fec1",
            "id": 555903,
            "name": "Everett Brown",
            "order": 41,
            "profile_path": null
           },
           {
            "cast_id": 54,
            "character": "Jonas Wilkerson - Field Overseer",
            "credit_id": "52fe4274c3a36847f801fec5",
            "id": 15666,
            "name": "Victor Jory",
            "order": 42,
            "profile_path": "/4phylVED6xN2gFYeUQnywahstGG.jpg"
           }
          ],
          "directors": [
           {
            "credit_id": "52fe4274c3a36847f801fde3",
            "department": "Directing",
            "id": 9049,
            "job": "Director",
            "name": "Victor Fleming",
            "profile_path": "/Lq3Hb5VsmTSIEaYvgfbpK8r8Tk.jpg"
           },
           {
            "credit_id": "52fe4274c3a36847f801fecb",
            "department": "Directing",
            "id": 14674,
            "job": "Director",
            "name": "George Cukor",
            "profile_path": "/t2RWv3nzCoqKWYiCGCjwiIHW4Sj.jpg"
           },
           {
            "credit_id": "52fe4274c3a36847f801fed1",
            "department": "Directing",
            "id": 10790,
            "job": "Director",
            "name": "Sam Wood",
            "profile_path": "/xtotCnG8pv42k0EudM1WZ7PQMsH.jpg"
           }
          ],
          "genres": [
           {
            "id": 18,
            "name": "Drama"
           },
           {
            "id": 10749,
            "name": "Romance"
           },
           {
            "id": 10752,
            "name": "War"
           }
          ],
          "homepage": "",
          "id": 770,
          "imdb_id": "tt0031381",
          "original_language": "en",
          "original_title": "Gone with the Wind",
          "overview": "An American classic in which a manipulative woman and a roguish man carry on a turbulent love affair in the American south during the Civil War and Reconstruction.",
          "popularity": 0.865912141767354,
          "poster_path": "/2m9qsuDpAb6aBMxbKOBU1jsP9qf.jpg",
          "production_companies": [
           {
            "id": 1553,
            "name": "Selznick International Pictures"
           },
           {
            "id": 8411,
            "name": "Metro-Goldwyn-Mayer (MGM)"
           }
          ],
          "production_countries": [
           {
            "iso_3166_1": "US",
            "name": "United States of America"
           }
          ],
          "release_date": "1939-12-15",
          "revenue": 400176459,
          "runtime": 238,
          "spoken_languages": [
           {
            "iso_639_1": "en",
            "name": "English"
           }
          ],
          "status": "Released",
          "tagline": "The greatest romance of all time!",
          "title": "Gone with the Wind",
          "video": false,
          "vote_average": 6.9,
          "vote_count": 276
         }
        },
        {
         "_id": "50546",
         "_index": "tmdb",
         "_score": 39.572163,
         "_source": {
          "adult": false,
          "backdrop_path": "/sXpF6Vfy4o8fNHP1GBWBC3IxdrJ.jpg",
          "belongs_to_collection": null,
          "budget": 80000000,
          "cast": [
           {
            "cast_id": 1,
            "character": "Katherine Murphy",
            "credit_id": "52fe47cbc3a36847f81488ad",
            "id": 4491,
            "name": "Jennifer Aniston",
            "order": 0,
            "profile_path": "/4d4wvNyDuvN86DoneawbLOpr8gH.jpg"
           },
           {
            "cast_id": 2,
            "character": "Danny Maccabee",
            "credit_id": "52fe47cbc3a36847f81488b1",
            "id": 19292,
            "name": "Adam Sandler",
            "order": 1,
            "profile_path": "/tv9V6QsuZ3bcp4ciUJjwjcc4qAg.jpg"
           },
           {
            "cast_id": 3,
            "character": "Devlin Adams",
            "credit_id": "52fe47cbc3a36847f81488b5",
            "id": 2227,
            "name": "Nicole Kidman",
            "order": 2,
            "profile_path": "/hnX12EBKXIK7XwBhLCGGcEnFdpf.jpg"
           },
           {
            "cast_id": 4,
            "character": "Maggie",
            "credit_id": "52fe47cbc3a36847f81488b9",
            "id": 54479,
            "name": "Bailee Madison",
            "order": 3,
            "profile_path": "/bWrZAukMKC8cSvHSJs5SaDbh5z.jpg"
           },
           {
            "cast_id": 22,
            "character": "Michael / Bart",
            "credit_id": "53961f9c0e0a266dc500744f",
            "id": 971299,
            "name": "Griffin Gluck",
            "order": 4,
            "profile_path": "/rfVQBYJdHkFNwRCvp9UJa7zdxz7.jpg"
           },
           {
            "cast_id": 6,
            "character": "Palmer",
            "credit_id": "52fe47cbc3a36847f81488c1",
            "id": 131520,
            "name": "Brooklyn Decker",
            "order": 6,
            "profile_path": "/ll0ujxAqZUTcWSuA8NNsXoLppsG.jpg"
           },
           {
            "cast_id": 7,
            "character": "Christine",
            "credit_id": "52fe47cbc3a36847f81488c5",
            "id": 127907,
            "name": "Elena Satine",
            "order": 7,
            "profile_path": "/e9SC39zujFcz9v4Zmj4fEN2EY37.jpg"
           },
           {
            "cast_id": 11,
            "character": "Eddie",
            "credit_id": "52fe47cbc3a36847f81488db",
            "id": 32907,
            "name": "Nick Swardson",
            "order": 8,
            "profile_path": "/5RinKDUSsSUNP9l5SzQ7GhXDvVJ.jpg"
           },
           {
            "cast_id": 12,
            "character": "Tanner Patrick",
            "credit_id": "52fe47cbc3a36847f81488df",
            "id": 166029,
            "name": "Dan Patrick",
            "order": 9,
            "profile_path": "/9tgxUP2r24g3NoXXMJoQEb8HAVM.jpg"
           },
           {
            "cast_id": 13,
            "character": "Kirsten Brant",
            "credit_id": "52fe47cbc3a36847f81488e3",
            "id": 32905,
            "name": "Rachel Dratch",
            "order": 10,
            "profile_path": "/pVHUp99e3MJU9K326KTeDECl3S3.jpg"
           },
           {
            "cast_id": 14,
            "character": "Adon",
            "credit_id": "52fe47cbc3a36847f81488e7",
            "id": 58478,
            "name": "Kevin Nealon",
            "order": 11,
            "profile_path": "/aVp6F3hliJp7dOZsIdwTRIaRx71.jpg"
           },
           {
            "cast_id": 15,
            "character": "Joanna Damon",
            "credit_id": "52fe47cbc3a36847f81488eb",
            "id": 96625,
            "name": "Minka Kelly",
            "order": 12,
            "profile_path": "/sE7eVf2gGSW6Di86UwI6i9RAcZi.jpg"
           },
           {
            "cast_id": 17,
            "character": "Ian Maxtone Jones",
            "credit_id": "52fe47cbc3a36847f81488f3",
            "id": 66070,
            "name": "Dave Matthews",
            "order": 13,
            "profile_path": "/izo0HKZEdaJiZ1zW8bizpopMfmz.jpg"
           },
           {
            "cast_id": 18,
            "character": "Soul Patch",
            "credit_id": "52fe47cbc3a36847f81488f7",
            "id": 20818,
            "name": "Allen Covert",
            "order": 14,
            "profile_path": "/wpcbF6UZXJ5u4tuL4A72hAoqiNL.jpg"
           },
           {
            "cast_id": 20,
            "character": "Veruca",
            "credit_id": "52fe47cbc3a36847f81488ff",
            "id": 963260,
            "name": "Jackie Sandler",
            "order": 16,
            "profile_path": "/1hg6ibuKDUdvPAer2Tjb5hnrLly.jpg"
           },
           {
            "cast_id": 21,
            "character": "Patricia",
            "credit_id": "52fe47cbc3a36847f8148903",
            "id": 54717,
            "name": "Rakefet Abergel",
            "order": 17,
            "profile_path": "/yg3i1dWluH66d1pfMgfaEpJisiC.jpg"
           },
           {
            "cast_id": 23,
            "character": "Lisa Hammond",
            "credit_id": "552e602bc3a36804cd000a96",
            "id": 88038,
            "name": "Rachel Specter",
            "order": 18,
            "profile_path": "/haFXITGeMQbgzEtRUEpHugSwnoe.jpg"
           }
          ],
          "directors": [
           {
            "credit_id": "52fe47cbc3a36847f81488cb",
            "department": "Directing",
            "id": 17494,
            "job": "Director",
            "name": "Dennis Dugan",
            "profile_path": "/jyi8S58fqNkOiZzkeMc0Lza1osC.jpg"
           }
          ],
          "genres": [
           {
            "id": 35,
            "name": "Comedy"
           },
           {
            "id": 10749,
            "name": "Romance"
           }
          ],
          "homepage": "http://www.justgowithit-movie.com",
          "id": 50546,
          "imdb_id": "tt1564367",
          "original_language": "en",
          "original_title": "Just Go With It",
          "overview": "In Just Go With It, a plastic surgeon, romancing a much younger schoolteacher, enlists his loyal assistant to pretend to be his soon to be ex-wife, in order to cover up a careless lie. When more lies backfire, the assistant's kids become involved, and everyone heads off for a weekend in Hawaii that will change all their lives.",
          "popularity": 1.9822119805531,
          "poster_path": "/4sJDqzBaqBprkEy0aLjIGl7TrHx.jpg",
          "production_companies": [
           {
            "id": 5,
            "name": "Columbia Pictures"
           },
           {
            "id": 2608,
            "name": "Happy Madison Productions"
           }
          ],
          "production_countries": [
           {
            "iso_3166_1": "US",
            "name": "United States of America"
           }
          ],
          "release_date": "2011-02-11",
          "revenue": 214918407,
          "runtime": 117,
          "spoken_languages": [
           {
            "iso_639_1": "en",
            "name": "English"
           }
          ],
          "status": "Released",
          "tagline": "Sometimes a guy's best wingman... is a wingwoman",
          "title": "Just Go With It",
          "video": false,
          "vote_average": 6.3,
          "vote_count": 475
         }
        },
        {
         "_id": "75900",
         "_index": "tmdb",
         "_score": 39.572163,
         "_source": {
          "adult": false,
          "backdrop_path": "/ez5WJJ9VsFvOASh0nbm8L4lkdju.jpg",
          "belongs_to_collection": null,
          "budget": 6400000,
          "cast": [
           {
            "cast_id": 2,
            "character": "Marilyn Monroe",
            "credit_id": "52fe491ac3a368484e11a49b",
            "id": 1812,
            "name": "Michelle Williams",
            "order": 0,
            "profile_path": "/zUvxAK66dVIOMH7M0yZWGkkwZGL.jpg"
           },
           {
            "cast_id": 3,
            "character": "Colin Clark",
            "credit_id": "52fe491ac3a368484e11a49f",
            "id": 37632,
            "name": "Eddie Redmayne",
            "order": 1,
            "profile_path": "/grB1xp10baoSVZnb4CC854ys94O.jpg"
           },
           {
            "cast_id": 4,
            "character": "Sir Laurence Olivier",
            "credit_id": "52fe491ac3a368484e11a4a3",
            "id": 11181,
            "name": "Kenneth Branagh",
            "order": 2,
            "profile_path": "/bmpGjbqvAVNOK3ggiuET2Jl96tZ.jpg"
           },
           {
            "cast_id": 5,
            "character": "Vivien Leigh",
            "credit_id": "52fe491ac3a368484e11a4a7",
            "id": 15887,
            "name": "Julia Ormond",
            "order": 3,
            "profile_path": "/GYnXYOvBhzPfNmTpeIiO0XRTUu.jpg"
           },
           {
            "cast_id": 6,
            "character": "Sybil Thorndike",
            "credit_id": "52fe491ac3a368484e11a4ab",
            "id": 5309,
            "name": "Judi Dench",
            "order": 4,
            "profile_path": "/7zqn87hMABLWVoEEUvowkBGgOu8.jpg"
           },
           {
            "cast_id": 8,
            "character": "Lucy",
            "credit_id": "52fe491ac3a368484e11a4b3",
            "id": 10990,
            "name": "Emma Watson",
            "order": 5,
            "profile_path": "/q1U3QmdWEBhW80swZxy3zSYdjjA.jpg"
           },
           {
            "cast_id": 7,
            "character": "Sir Kenneth Clark",
            "credit_id": "52fe491ac3a368484e11a4af",
            "id": 36666,
            "name": "Pip Torrens",
            "order": 6,
            "profile_path": "/oufazs9fACQgocDos8vEY5IW1Wr.jpg"
           },
           {
            "cast_id": 9,
            "character": "Milton Greene",
            "credit_id": "52fe491ac3a368484e11a4b7",
            "id": 55470,
            "name": "Dominic Cooper",
            "order": 7,
            "profile_path": "/z4eKEtwZXVespbZCS2qjYZaztyv.jpg"
           },
           {
            "cast_id": 10,
            "character": "Lady Jane Clark",
            "credit_id": "52fe491ac3a368484e11a4bb",
            "id": 10988,
            "name": "Geraldine Somerville",
            "order": 8,
            "profile_path": "/fgPi5cmDbJbMmQIA7AE901jhB3x.jpg"
           },
           {
            "cast_id": 11,
            "character": "Hugh Perceval",
            "credit_id": "52fe491ac3a368484e11a4bf",
            "id": 10648,
            "name": "Michael Kitchen",
            "order": 9,
            "profile_path": "/bt1UWcegfSflLONcFN6XNqgayZt.jpg"
           },
           {
            "cast_id": 12,
            "character": "Vanessa",
            "credit_id": "52fe491ac3a368484e11a4c3",
            "id": 195525,
            "name": "Miranda Raison",
            "order": 10,
            "profile_path": "/A3UbPTpbDkvM1L1UoPSvhpzJvn8.jpg"
           },
           {
            "cast_id": 13,
            "character": "Cotes-Preedy",
            "credit_id": "52fe491ac3a368484e11a4c7",
            "id": 57461,
            "name": "Simon Russell Beale",
            "order": 11,
            "profile_path": "/kHOLDJzCeHoAC2byUGUCfzMn0Sy.jpg"
           },
           {
            "cast_id": 14,
            "character": "Arthur Jacobs",
            "credit_id": "52fe491ac3a368484e11a4cb",
            "id": 13014,
            "name": "Toby Jones",
            "order": 12,
            "profile_path": "/7Flo5oYhQmcX5vc0TfAA6FB4ncS.jpg"
           },
           {
            "cast_id": 15,
            "character": "David Orton",
            "credit_id": "52fe491ac3a368484e11a4cf",
            "id": 121606,
            "name": "Robert Portal",
            "order": 13,
            "profile_path": null
           },
           {
            "cast_id": 16,
            "character": "Barry",
            "credit_id": "52fe491ac3a368484e11a4d3",
            "id": 20070,
            "name": "Jim Carter",
            "order": 14,
            "profile_path": "/ycS14B6YHA2k4IlEPNgh0eQOv7u.jpg"
           },
           {
            "cast_id": 17,
            "character": "Roger Smith",
            "credit_id": "52fe491ac3a368484e11a4d7",
            "id": 25532,
            "name": "Philip Jackson",
            "order": 15,
            "profile_path": "/5pVwSFvjEgOprlMn3s6O7bQM1qc.jpg"
           }
          ],
          "directors": [
           {
            "credit_id": "52fe491ac3a368484e11a497",
            "department": "Directing",
            "id": 133502,
            "job": "Director",
            "name": "Simon Curtis",
            "profile_path": "/qnURh5v5N5jnS9kPYWCo4rwwxWA.jpg"
           }
          ],
          "genres": [
           {
            "id": 18,
            "name": "Drama"
           }
          ],
          "homepage": "http://myweekwithmarilynmovie.com/",
          "id": 75900,
          "imdb_id": "tt1655420",
          "original_language": "en",
          "original_title": "My Week with Marilyn",
          "overview": "Sir Laurence Olivier is making a movie in London. Young Colin Clark, an eager film student, wants to be involved and he navigates himself a job on the set. When film star Marilyn Monroe arrives for the start of shooting, all of London is excited to see the blonde bombshell, while Olivier is struggling to meet her many demands and acting ineptness, and Colin is intrigued by her. Colin's intrigue is met when Marilyn invites him into her inner world where she struggles with her fame, her beauty and her desire to be a great actress.",
          "popularity": 0.55093648702911,
          "poster_path": "/n3B3se46CWsRHx1EGbGZBLePaXq.jpg",
          "production_companies": [
           {
            "id": 308,
            "name": "The Weinstein Company"
           },
           {
            "id": 288,
            "name": "BBC Films"
           },
           {
            "id": 10247,
            "name": "Lip Sync Post"
           },
           {
            "id": 22153,
            "name": "Trademark Films"
           },
           {
            "id": 2452,
            "name": "UK Film Council"
           }
          ],
          "production_countries": [
           {
            "iso_3166_1": "GB",
            "name": "United Kingdom"
           }
          ],
          "release_date": "2011-10-17",
          "revenue": 0,
          "runtime": 99,
          "spoken_languages": [
           {
            "iso_639_1": "en",
            "name": "English"
           }
          ],
          "status": "Released",
          "tagline": "Sometimes You Just Need to Get Away",
          "title": "My Week with Marilyn",
          "video": false,
          "vote_average": 6.8,
          "vote_count": 80
         }
        },
        {
         "_id": "26389",
         "_index": "tmdb",
         "_score": 39.572163,
         "_source": {
          "adult": false,
          "backdrop_path": "/zQSdINGXiEelKf4qfzPZAdxxwyI.jpg",
          "belongs_to_collection": null,
          "budget": 52000000,
          "cast": [
           {
            "cast_id": 3,
            "character": "FBI agent Charlie Wax",
            "credit_id": "52fe44ffc3a368484e042d21",
            "id": 8891,
            "name": "John Travolta",
            "order": 0,
            "profile_path": "/ns8uZHEHzV18ifqA9secv8c2Ard.jpg"
           },
           {
            "cast_id": 4,
            "character": "James Reece / Richard Stevens",
            "credit_id": "52fe44ffc3a368484e042d25",
            "id": 1244,
            "name": "Jonathan Rhys Meyers",
            "order": 1,
            "profile_path": "/A6RyyQ4GeXl0ugnGrqGqBMQIgKh.jpg"
           },
           {
            "cast_id": 5,
            "character": "Caroline",
            "credit_id": "52fe44ffc3a368484e042d29",
            "id": 120832,
            "name": "Kasia Smutniak",
            "order": 2,
            "profile_path": "/ldNnr3j2i3q8VTTXoBSAvt33lY2.jpg"
           },
           {
            "cast_id": 6,
            "character": "Ambassador Bennington",
            "credit_id": "52fe44ffc3a368484e042d2d",
            "id": 120833,
            "name": "Richard Durden",
            "order": 3,
            "profile_path": "/jtsGAARS6sNDfHPGl4xrJdtSEb3.jpg"
           },
           {
            "cast_id": 8,
            "character": "Nichole",
            "credit_id": "52fe44ffc3a368484e042d37",
            "id": 574378,
            "name": "Amber Rose Revah",
            "order": 4,
            "profile_path": "/uWKJDbkZqttvc1os3UNanSmh5Aa.jpg"
           },
           {
            "cast_id": 9,
            "character": "M. Wong",
            "credit_id": "52fe44ffc3a368484e042d3b",
            "id": 1019987,
            "name": "Bing Yin",
            "order": 5,
            "profile_path": "/3P9z2fjxKbNPX3PabrsKq3XYOWA.jpg"
           },
           {
            "cast_id": 10,
            "character": "Foreign Minister",
            "credit_id": "52fe44ffc3a368484e042d3f",
            "id": 145299,
            "name": "Eric Godon",
            "order": 6,
            "profile_path": "/iKWCAMxgHIWoJ1EJG4gWKEPYxbE.jpg"
           }
          ],
          "directors": [
           {
            "credit_id": "52fe44ffc3a368484e042d17",
            "department": "Directing",
            "id": 35453,
            "job": "Director",
            "name": "Pierre Morel",
            "profile_path": "/yyhcEUYW4znC6JbNKZv2OJp1Cy0.jpg"
           }
          ],
          "genres": [
           {
            "id": 28,
            "name": "Action"
           },
           {
            "id": 80,
            "name": "Crime"
           },
           {
            "id": 53,
            "name": "Thriller"
           }
          ],
          "homepage": "http://www.frompariswithlovefilm.com/",
          "id": 26389,
          "imdb_id": "tt1179034",
          "original_language": "en",
          "original_title": "From Paris with Love",
          "overview": "While working at the American embassy in Paris, low-level intelligence agent James Reece gets involved in espionage when he's pulled into a terrorist plot by high-ranking but uncouth American operative Charlie Wax, who's trying to stop it.",
          "popularity": 1.07520905773998,
          "poster_path": "/41yioNp9apJ7xtYDaSxqBfm1p5T.jpg",
          "production_companies": [
           {
            "id": 6586,
            "name": "TPS Star"
           },
           {
            "id": 7406,
            "name": "JTP Films"
           },
           {
            "id": 6896,
            "name": "EuropaCorp"
           },
           {
            "id": 5358,
            "name": "Canal+"
           },
           {
            "id": 6877,
            "name": "Grive Productions"
           },
           {
            "id": 1115,
            "name": "M6 Films"
           }
          ],
          "production_countries": [
           {
            "iso_3166_1": "FR",
            "name": "France"
           },
           {
            "iso_3166_1": "US",
            "name": "United States of America"
           }
          ],
          "release_date": "2010-02-05",
          "revenue": 52615806,
          "runtime": 92,
          "spoken_languages": [
           {
            "iso_639_1": "en",
            "name": "English"
           },
           {
            "iso_639_1": "fr",
            "name": "Français"
           }
          ],
          "status": "Released",
          "tagline": "Two agents. One city. No merci.",
          "title": "From Paris with Love",
          "video": false,
          "vote_average": 6.2,
          "vote_count": 265
         }
        },
        {
         "_id": "87825",
         "_index": "tmdb",
         "_score": 39.572163,
         "_source": {
          "adult": false,
          "backdrop_path": "/9fN6z7JcO5o3jDmJ0fHSq4PXwUT.jpg",
          "belongs_to_collection": null,
          "budget": 0,
          "cast": [
           {
            "cast_id": 15,
            "character": "Gus",
            "credit_id": "52fe49da9251416c910baefb",
            "id": 190,
            "name": "Clint Eastwood",
            "order": 0,
            "profile_path": "/n8h4ZHteFFXfmzUW6OEaPWanDnm.jpg"
           },
           {
            "cast_id": 12,
            "character": "Mickey",
            "credit_id": "52fe49da9251416c910baeef",
            "id": 9273,
            "name": "Amy Adams",
            "order": 1,
            "profile_path": "/mOVp1AthjoSC5jb6b5gdXtvH86s.jpg"
           },
           {
            "cast_id": 10,
            "character": "Johnny Flanagan",
            "credit_id": "52fe49da9251416c910baeeb",
            "id": 12111,
            "name": "Justin Timberlake",
            "order": 2,
            "profile_path": "/lB3pku743f3N82AVXz10fGGBAgL.jpg"
           },
           {
            "cast_id": 16,
            "character": "Pete Klein",
            "credit_id": "52fe49da9251416c910baeff",
            "id": 1230,
            "name": "John Goodman",
            "order": 3,
            "profile_path": "/mLJC7sRO3JnGkySJlwCJblvhBHm.jpg"
           },
           {
            "cast_id": 13,
            "character": "Phillip Sanderson",
            "credit_id": "52fe49da9251416c910baef3",
            "id": 26457,
            "name": "Matthew Lillard",
            "order": 4,
            "profile_path": "/gJsQkX20g0ABquHqVpBJzMXR2JF.jpg"
           },
           {
            "cast_id": 14,
            "character": "Bo Gentry",
            "credit_id": "52fe49da9251416c910baef7",
            "id": 935497,
            "name": "Joe Massingill",
            "order": 5,
            "profile_path": "/1b91bnQqdkkTUuwbvo3WbIBmhtU.jpg"
           },
           {
            "cast_id": 17,
            "character": "Vince",
            "credit_id": "52fe49da9251416c910baf03",
            "id": 418,
            "name": "Robert Patrick",
            "order": 6,
            "profile_path": "/dpUIbzLpExv69faSRyww8A4ydxf.jpg"
           },
           {
            "cast_id": 18,
            "character": "Max",
            "credit_id": "52fe49da9251416c910baf07",
            "id": 21523,
            "name": "Ed Lauter",
            "order": 7,
            "profile_path": "/cr9WYGps3NZXkSFKrpB9BKnz0yo.jpg"
           },
           {
            "cast_id": 19,
            "character": "Smitty",
            "credit_id": "52fe49da9251416c910baf0b",
            "id": 10486,
            "name": "Chelcie Ross",
            "order": 8,
            "profile_path": "/gtUOc36bK5MrjdRPQJi1b0cc0LT.jpg"
           },
           {
            "cast_id": 32,
            "character": "Greg",
            "credit_id": "52fe49da9251416c910baf4f",
            "id": 50117,
            "name": "Peter Hermann",
            "order": 9,
            "profile_path": "/owkeQDjexezNZ4ENv1UVkrG6hED.jpg"
           },
           {
            "cast_id": 20,
            "character": "Danny",
            "credit_id": "52fe49da9251416c910baf0f",
            "id": 130227,
            "name": "Matt Bush",
            "order": 10,
            "profile_path": "/kyBLgeVnvnsx3zOZXlZwSF5BFEE.jpg"
           },
           {
            "cast_id": 21,
            "character": "Billy Clark",
            "credit_id": "52fe49da9251416c910baf13",
            "id": 928572,
            "name": "Scott Eastwood",
            "order": 11,
            "profile_path": "/ufi3VMDT1MsA5udcKyw8SHagjzi.jpg"
           },
           {
            "cast_id": 22,
            "character": "Rigo Sanchez",
            "credit_id": "52fe49da9251416c910baf17",
            "id": 1127807,
            "name": "Jay Galloway",
            "order": 12,
            "profile_path": null
           },
           {
            "cast_id": 42,
            "character": "Watson",
            "credit_id": "52fe49da9251416c910baf77",
            "id": 4029,
            "name": "Bob Gunton",
            "order": 13,
            "profile_path": "/b3NfI0IzPYI40eIEtO9O0XQiR8j.jpg"
           },
           {
            "cast_id": 43,
            "character": "Schwartz",
            "credit_id": "52fe49da9251416c910baf7b",
            "id": 77023,
            "name": "Jack Gilpin",
            "order": 14,
            "profile_path": "/cYaMYTd4TawSeF9eUSwXR1rP3th.jpg"
           },
           {
            "cast_id": 40,
            "character": "Rosenbloom",
            "credit_id": "52fe49da9251416c910baf6f",
            "id": 14669,
            "name": "George Wyner",
            "order": 15,
            "profile_path": "/hB6RJqnUhodxHRBdWbDnWIL73Io.jpg"
           },
           {
            "cast_id": 31,
            "character": "Todd",
            "credit_id": "52fe49da9251416c910baf4b",
            "id": 1181555,
            "name": "James Patrick Freetly",
            "order": 16,
            "profile_path": null
           },
           {
            "cast_id": 33,
            "character": "Grace Sanchez",
            "credit_id": "52fe49da9251416c910baf53",
            "id": 1181556,
            "name": "Norma Alvarez",
            "order": 17,
            "profile_path": null
           },
           {
            "cast_id": 41,
            "character": "Rick",
            "credit_id": "52fe49da9251416c910baf73",
            "id": 52483,
            "name": "Rus Blackwell",
            "order": 18,
            "profile_path": "/xYMkiZQuoramEeabUPnrtiS19vn.jpg"
           },
           {
            "cast_id": 44,
            "character": "Lucious",
            "credit_id": "52fe49da9251416c910baf7f",
            "id": 1181562,
            "name": "Raymond Anthony Thomas",
            "order": 19,
            "profile_path": null
           },
           {
            "cast_id": 34,
            "character": "Pitcher",
            "credit_id": "52fe49da9251416c910baf57",
            "id": 1181557,
            "name": "Josh Warren",
            "order": 20,
            "profile_path": null
           },
           {
            "cast_id": 35,
            "character": "Wilson",
            "credit_id": "52fe49da9251416c910baf5b",
            "id": 1181558,
            "name": "Seth Meriwether",
            "order": 21,
            "profile_path": null
           },
           {
            "cast_id": 36,
            "character": "Bo's Father",
            "credit_id": "52fe49da9251416c910baf5f",
            "id": 1181559,
            "name": "Bart Hansard",
            "order": 22,
            "profile_path": null
           },
           {
            "cast_id": 37,
            "character": "Diner Waitress",
            "credit_id": "52fe49da9251416c910baf63",
            "id": 128207,
            "name": "Patricia French",
            "order": 23,
            "profile_path": "/gr8JifkoddGbSanIPVbBjHWUbrD.jpg"
           },
           {
            "cast_id": 38,
            "character": "Red Sox GM",
            "credit_id": "52fe49da9251416c910baf67",
            "id": 94854,
            "name": "Tom Nowicki",
            "order": 24,
            "profile_path": "/nm6XdgwH6IDE4nroYQwhNtlFtn9.jpg"
           },
           {
            "cast_id": 39,
            "character": "Young Mickey",
            "credit_id": "52fe49da9251416c910baf6b",
            "id": 587508,
            "name": "Julia Walters",
            "order": 25,
            "profile_path": null
           },
           {
            "cast_id": 45,
            "character": "Carlos Sanchez",
            "credit_id": "52fe49da9251416c910baf83",
            "id": 1181564,
            "name": "Tyler Silva",
            "order": 26,
            "profile_path": null
           },
           {
            "cast_id": 46,
            "character": "Nurse",
            "credit_id": "52fe49da9251416c910baf87",
            "id": 1181565,
            "name": "Darren Le Gallo",
            "order": 27,
            "profile_path": null
           },
           {
            "cast_id": 47,
            "character": "Manager",
            "credit_id": "52fe49db9251416c910baf8b",
            "id": 101013,
            "name": "Clayton Landey",
            "order": 28,
            "profile_path": "/4e1GziFKqLh5V5tEnqwT1NvMMvL.jpg"
           },
           {
            "cast_id": 48,
            "character": "Swannanoa Manager (as Matt Brady)",
            "credit_id": "52fe49db9251416c910baf8f",
            "id": 1181566,
            "name": "Matthew Brady",
            "order": 29,
            "profile_path": null
           },
           {
            "cast_id": 49,
            "character": "Secretary",
            "credit_id": "52fe49db9251416c910baf93",
            "id": 223020,
            "name": "Jackie Prucha",
            "order": 30,
            "profile_path": null
           },
           {
            "cast_id": 50,
            "character": "Jimmy",
            "credit_id": "52fe49db9251416c910baf97",
            "id": 1181570,
            "name": "Ricky Muse",
            "order": 31,
            "profile_path": "/xThzRMWFym3eHMJ4mlWMEW367NX.jpg"
           },
           {
            "cast_id": 51,
            "character": "Rock",
            "credit_id": "52fe49db9251416c910baf9b",
            "id": 180649,
            "name": "Tom Dreesen",
            "order": 32,
            "profile_path": "/vWtJg0UNtXmdrfCYhpocSomU5zM.jpg"
           }
          ],
          "directors": [
           {
            "credit_id": "52fe49da9251416c910baeb7",
            "department": "Directing",
            "id": 4746,
            "job": "Director",
            "name": "Robert Lorenz",
            "profile_path": "/tvDhilrjknm4uQZoOcUgRSd31uN.jpg"
           }
          ],
          "genres": [
           {
            "id": 18,
            "name": "Drama"
           },
           {
            "id": 10749,
            "name": "Romance"
           }
          ],
          "homepage": "http://troublewiththecurve.warnerbros.com/",
          "id": 87825,
          "imdb_id": "tt2083383",
          "original_language": "en",
          "original_title": "Trouble with the Curve",
          "overview": "Slowed by age and failing eyesight, crack baseball scout Gus Lobel takes his grown daughter along as he checks out the final prospect of his career. Along the way, the two renew their bond, and she catches the eye of a young player-turned-scout.",
          "popularity": 0.591135806526268,
          "poster_path": "/vNWFhlTseaTupYmpnXxJLoShJe3.jpg",
          "production_companies": [
           {
            "id": 174,
            "name": "Warner Bros. Pictures"
           },
           {
            "id": 171,
            "name": "Malpaso Productions"
           }
          ],
          "production_countries": [
           {
            "iso_3166_1": "US",
            "name": "United States of America"
           }
          ],
          "release_date": "2012-09-21",
          "revenue": 0,
          "runtime": 111,
          "spoken_languages": [
           {
            "iso_639_1": "en",
            "name": "English"
           }
          ],
          "status": "Released",
          "tagline": "Whatever Life Throws at You",
          "title": "Trouble with the Curve",
          "video": false,
          "vote_average": 6.7,
          "vote_count": 120
         }
        },
        {
         "_id": "7442",
         "_index": "tmdb",
         "_score": 39.572163,
         "_source": {
          "adult": false,
          "backdrop_path": "/fbAI69ystUiS1ESFkkQR0q5shhV.jpg",
          "belongs_to_collection": null,
          "budget": 19000000,
          "cast": [
           {
            "cast_id": 1,
            "character": "Laura Burney",
            "credit_id": "52fe447cc3a36847f809900d",
            "id": 1204,
            "name": "Julia Roberts",
            "order": 0,
            "profile_path": "/yzaIyUEKHSnEYDwltXs8gpF4SVC.jpg"
           },
           {
            "cast_id": 2,
            "character": "Martin Burney",
            "credit_id": "52fe447cc3a36847f8099011",
            "id": 29459,
            "name": "Patrick Bergin",
            "order": 1,
            "profile_path": "/wmwtMCZsFTlckrsCpuz0jtuWu35.jpg"
           },
           {
            "cast_id": 3,
            "character": "Ben Woodward",
            "credit_id": "52fe447cc3a36847f8099015",
            "id": 51805,
            "name": "Kevin Anderson",
            "order": 2,
            "profile_path": "/roCItER7LbrJJvAV1Fku3jG9g8k.jpg"
           },
           {
            "cast_id": 11,
            "character": "Chloe Williams",
            "credit_id": "52fe447cc3a36847f8099043",
            "id": 53302,
            "name": "Elizabeth Lawrence",
            "order": 3,
            "profile_path": null
           },
           {
            "cast_id": 12,
            "character": "Locke",
            "credit_id": "52fe447cc3a36847f8099047",
            "id": 53303,
            "name": "Tony Abatemarco",
            "order": 4,
            "profile_path": null
           },
           {
            "cast_id": 13,
            "character": "Fleishman",
            "credit_id": "52fe447cc3a36847f809904b",
            "id": 40258,
            "name": "Kyle Secor",
            "order": 5,
            "profile_path": "/o5KQW91KqgfCvRUZwBwPx7mzHNC.jpg"
           },
           {
            "cast_id": 14,
            "character": "Dr. Rissner",
            "credit_id": "52fe447cc3a36847f809904f",
            "id": 104291,
            "name": "Claudette Nevins",
            "order": 6,
            "profile_path": null
           },
           {
            "cast_id": 15,
            "character": "Julie",
            "credit_id": "52fe447cc3a36847f8099053",
            "id": 1536,
            "name": "Marita Geraghty",
            "order": 7,
            "profile_path": "/8BojqqNS3vt0zkZj4ctQztjhdcv.jpg"
           },
           {
            "cast_id": 16,
            "character": "Garber",
            "credit_id": "52fe447cc3a36847f8099057",
            "id": 168265,
            "name": "Harley Venton",
            "order": 8,
            "profile_path": null
           },
           {
            "cast_id": 17,
            "character": "Woman on Bus",
            "credit_id": "52fe447cc3a36847f809905b",
            "id": 42168,
            "name": "Nancy Fish",
            "order": 9,
            "profile_path": "/rYbk1PFFTYgqrAkdp2wuV8G3juy.jpg"
           },
           {
            "cast_id": 18,
            "character": "Edna",
            "credit_id": "52fe447cc3a36847f809905f",
            "id": 1168438,
            "name": "Sandi Shackelford",
            "order": 10,
            "profile_path": null
           },
           {
            "cast_id": 19,
            "character": "Mrs. Nepper",
            "credit_id": "52fe447cc3a36847f8099063",
            "id": 218605,
            "name": "Bonnie Johnson",
            "order": 11,
            "profile_path": "/jk2tPblrYHNm1fJOlapoV5zCE1d.jpg"
           },
           {
            "cast_id": 20,
            "character": "Minister",
            "credit_id": "52fe447cc3a36847f8099067",
            "id": 1168439,
            "name": "Graham Harrington",
            "order": 12,
            "profile_path": null
           },
           {
            "cast_id": 21,
            "character": "Theater Student",
            "credit_id": "52fe447cc3a36847f809906b",
            "id": 125910,
            "name": "John Ward",
            "order": 13,
            "profile_path": null
           },
           {
            "cast_id": 22,
            "character": "Sharon (the Nurse)",
            "credit_id": "52fe447cc3a36847f809906f",
            "id": 1168440,
            "name": "Sharon J. Robinson",
            "order": 14,
            "profile_path": null
           }
          ],
          "directors": [
           {
            "credit_id": "52fe447cc3a36847f809901b",
            "department": "Directing",
            "id": 52629,
            "job": "Director",
            "name": "Joseph Ruben",
            "profile_path": null
           }
          ],
          "genres": [
           {
            "id": 18,
            "name": "Drama"
           },
           {
            "id": 53,
            "name": "Thriller"
           }
          ],
          "homepage": "",
          "id": 7442,
          "imdb_id": "tt0102945",
          "original_language": "en",
          "original_title": "Sleeping with the Enemy",
          "overview": "A young woman fakes her own death in an attempt to escape her nightmarish marriage, but discovers it is impossible to elude her controlling husband.",
          "popularity": 0.516093374294195,
          "poster_path": "/2GsBuNjlbuu6LKifsCiX5c9lgFZ.jpg",
          "production_companies": [
           {
            "id": 7392,
            "name": "Twentieth Century Fox"
           }
          ],
          "production_countries": [
           {
            "iso_3166_1": "US",
            "name": "United States of America"
           }
          ],
          "release_date": "1991-02-08",
          "revenue": 174999005,
          "runtime": 99,
          "spoken_languages": [
           {
            "iso_639_1": "fr",
            "name": "Français"
           },
           {
            "iso_639_1": "en",
            "name": "English"
           }
          ],
          "status": "Released",
          "tagline": "Self-Defense is not murder.",
          "title": "Sleeping with the Enemy",
          "video": false,
          "vote_average": 6.4,
          "vote_count": 51
         }
        },
        {
         "_id": "49010",
         "_index": "tmdb",
         "_score": 39.572163,
         "_source": {
          "adult": false,
          "backdrop_path": "/7VtaXw0iT8L3GcCGb8aBZ2YYg8Z.jpg",
          "belongs_to_collection": null,
          "budget": 3000000,
          "cast": [
           {
            "cast_id": 2,
            "character": "Hobo",
            "credit_id": "52fe477fc3a36847f81391c3",
            "id": 585,
            "name": "Rutger Hauer",
            "order": 0,
            "profile_path": "/96XEG75LYFFPb9R03EaN8zipWP4.jpg"
           },
           {
            "cast_id": 3,
            "character": "Slick",
            "credit_id": "52fe477fc3a36847f81391c7",
            "id": 20814,
            "name": "Gregory Smith",
            "order": 1,
            "profile_path": "/r8LIuWUfapS9R4TDGJflncy3PCb.jpg"
           },
           {
            "cast_id": 4,
            "character": "Logan (as Rob Wells)",
            "credit_id": "52fe477fc3a36847f81391cb",
            "id": 60966,
            "name": "Robb Wells",
            "order": 2,
            "profile_path": "/dMnez0ZRY63FP8LHhG2M9iFLqhM.jpg"
           },
           {
            "cast_id": 5,
            "character": "Drake",
            "credit_id": "52fe477fc3a36847f81391cf",
            "id": 117458,
            "name": "Brian Downey",
            "order": 3,
            "profile_path": "/nkIjQbpC9t5NExCl0aDxGqS4ba8.jpg"
           },
           {
            "cast_id": 6,
            "character": "Abby",
            "credit_id": "52fe477fc3a36847f81391d3",
            "id": 232684,
            "name": "Molly Dunsworth",
            "order": 4,
            "profile_path": "/7SO0H6Agztjdd0ewhTCt5bCtfJH.jpg"
           }
          ],
          "directors": [
           {
            "credit_id": "52fe477fc3a36847f81391bf",
            "department": "Directing",
            "id": 141673,
            "job": "Director",
            "name": "Jason Eisener",
            "profile_path": "/4EJtYbZVXCUyjUHMLVomgcWqcsZ.jpg"
           }
          ],
          "genres": [
           {
            "id": 28,
            "name": "Action"
           },
           {
            "id": 35,
            "name": "Comedy"
           },
           {
            "id": 53,
            "name": "Thriller"
           }
          ],
          "homepage": "http://www.hobowithashotgun.com/",
          "id": 49010,
          "imdb_id": "tt1640459",
          "original_language": "en",
          "original_title": "Hobo with a Shotgun",
          "overview": "A vigilante homeless man pulls into a new city and finds himself trapped in urban chaos, a city where crime rules and where the city's crime boss reigns. Seeing an urban landscape filled with armed robbers, corrupt cops, abused prostitutes and even a pedophile Santa, the Hobo goes about bringing justice to the city the best way he knows how - with a 20-gauge shotgun. Mayhem ensues when he tries to make things better for the future generation. Street justice will indeed prevail.",
          "popularity": 0.203114184320856,
          "poster_path": "/do7uf8m627YnTnspMGY3lD7vDEH.jpg",
          "production_companies": [
           {
            "id": 6869,
            "name": "Yer Dead Productions"
           },
           {
            "id": 164,
            "name": "Rhombus Media"
           },
           {
            "id": 17457,
            "name": "Whizbang Films"
           },
           {
            "id": 7320,
            "name": "Telefilm Canada"
           }
          ],
          "production_countries": [
           {
            "iso_3166_1": "CA",
            "name": "Canada"
           },
           {
            "iso_3166_1": "US",
            "name": "United States of America"
           }
          ],
          "release_date": "2011-05-06",
          "revenue": 672648,
          "runtime": 86,
          "spoken_languages": [
           {
            "iso_639_1": "en",
            "name": "English"
           }
          ],
          "status": "Released",
          "tagline": "Delivering justice, one shell at a time...",
          "title": "Hobo with a Shotgun",
          "video": false,
          "vote_average": 5.7,
          "vote_count": 51
         }
        },
        {
         "_id": "81836",
         "_index": "tmdb",
         "_score": 39.572163,
         "_source": {
          "adult": false,
          "backdrop_path": "/sGyUqZQZF5IByJW3V5jivIVtHl1.jpg",
          "belongs_to_collection": null,
          "budget": 17000000,
          "cast": [
           {
            "cast_id": 3,
            "character": "Shannon",
            "credit_id": "52fe482e9251416c910830e1",
            "id": 27578,
            "name": "Ellen Page",
            "order": 0,
            "profile_path": "/vDunkYxyQPkzx9EwkfSZVCSzBlO.jpg"
           },
           {
            "cast_id": 4,
            "character": "Mark Lovegood",
            "credit_id": "52fe482e9251416c910830e5",
            "id": 1243,
            "name": "Woody Allen",
            "order": 1,
            "profile_path": "/wpcOUlaszvJoVRf1yLbDtu7u4FI.jpg"
           },
           {
            "cast_id": 5,
            "character": "Tyson",
            "credit_id": "52fe482e9251416c910830e9",
            "id": 44735,
            "name": "Jesse Eisenberg",
            "order": 2,
            "profile_path": "/c01G88eCpiLLmT4RIWGkr7nm31o.jpg"
           },
           {
            "cast_id": 6,
            "character": "Anna",
            "credit_id": "52fe482e9251416c910830ed",
            "id": 955,
            "name": "Penélope Cruz",
            "order": 3,
            "profile_path": "/dcPSUfxMa791NZvrFiBc3ReDdpU.jpg"
           },
           {
            "cast_id": 7,
            "character": "John",
            "credit_id": "52fe482e9251416c910830f1",
            "id": 7447,
            "name": "Alec Baldwin",
            "order": 4,
            "profile_path": "/i34dh4LKYlNOF67qSPJgzhddzyw.jpg"
           },
           {
            "cast_id": 8,
            "character": "Leopoldo",
            "credit_id": "52fe482e9251416c910830f5",
            "id": 4818,
            "name": "Roberto Benigni",
            "order": 5,
            "profile_path": "/3PTaBUHrSgculvAFD7xbZqZWMo9.jpg"
           },
           {
            "cast_id": 9,
            "character": "Lillian",
            "credit_id": "52fe482e9251416c910830f9",
            "id": 17486,
            "name": "Alison Pill",
            "order": 6,
            "profile_path": "/1jeDJlSfVFoPMCHLkTqsFKLR9Gu.jpg"
           },
           {
            "cast_id": 10,
            "character": "Milly",
            "credit_id": "52fe482e9251416c910830fd",
            "id": 145326,
            "name": "Alessandra Mastronardi",
            "order": 7,
            "profile_path": "/cRSTrcnazaYECQhzozHWjnvklbB.jpg"
           },
           {
            "cast_id": 11,
            "character": "Rapinatore hotel",
            "credit_id": "52fe482e9251416c91083101",
            "id": 59270,
            "name": "Riccardo Scamarcio",
            "order": 8,
            "profile_path": "/zpphrSmdn2TR0F0kbVG5CAGqfxv.jpg"
           },
           {
            "cast_id": 12,
            "character": "Phyllis",
            "credit_id": "52fe482e9251416c91083105",
            "id": 351,
            "name": "Judy Davis",
            "order": 9,
            "profile_path": "/xQMA72T6yz6ebJXv1pCuZC1fDJo.jpg"
           },
           {
            "cast_id": 13,
            "character": "Pia Fusari",
            "credit_id": "52fe482e9251416c91083109",
            "id": 27163,
            "name": "Ornella Muti",
            "order": 10,
            "profile_path": "/5bwQ4mTsGROX3KHtlvEXkFObpRD.jpg"
           },
           {
            "cast_id": 14,
            "character": "Sally",
            "credit_id": "52fe482e9251416c9108310d",
            "id": 45400,
            "name": "Greta Gerwig",
            "order": 11,
            "profile_path": "/nrs80YYOFhj7DDHvlzO7TnyIX4r.jpg"
           },
           {
            "cast_id": 15,
            "character": "Michelangelo",
            "credit_id": "52fe482e9251416c91083111",
            "id": 125488,
            "name": "Flavio Parenti",
            "order": 12,
            "profile_path": "/dyFHHbWuhiukLyaW5rDsmVUzFYL.jpg"
           },
           {
            "cast_id": 16,
            "character": "Antonio",
            "credit_id": "52fe482e9251416c91083115",
            "id": 210766,
            "name": "Alessandro Tiberi",
            "order": 13,
            "profile_path": "/tQRIe0LF3QI83hG3cILbFvV56Us.jpg"
           },
           {
            "cast_id": 17,
            "character": "Carol",
            "credit_id": "52fe482e9251416c91083119",
            "id": 52087,
            "name": "Carol Alt",
            "order": 14,
            "profile_path": "/9hU7AJO7TWgCo7mJJJWhR0wVjkY.jpg"
           },
           {
            "cast_id": 18,
            "character": "Tim",
            "credit_id": "52fe482e9251416c9108311d",
            "id": 74487,
            "name": "David Pasquesi",
            "order": 15,
            "profile_path": "/gdmc0k64Tz1s7mJRVIWKjJJSn1M.jpg"
           },
           {
            "cast_id": 19,
            "character": "Ellen",
            "credit_id": "52fe482e9251416c91083121",
            "id": 553696,
            "name": "Lynn Swanson",
            "order": 16,
            "profile_path": "/fpRL5fvbLufIO2CfQ4jrV6ofnYR.jpg"
           }
          ],
          "directors": [
           {
            "credit_id": "52fe482e9251416c910830d7",
            "department": "Directing",
            "id": 1243,
            "job": "Director",
            "name": "Woody Allen",
            "profile_path": "/wpcOUlaszvJoVRf1yLbDtu7u4FI.jpg"
           }
          ],
          "genres": [
           {
            "id": 35,
            "name": "Comedy"
           }
          ],
          "homepage": "",
          "id": 81836,
          "imdb_id": "tt1859650",
          "original_language": "en",
          "original_title": "To Rome with Love",
          "overview": "Set in the romantic city of Rome. The intertwining stories of a worker who wakes up to find himself a celebrity, an architect who takes a trip back to the street he lived on as a student, a young couple on their honeymoon, and a frustrated opera director who has a talent for discovering talented singers.",
          "popularity": 0.475183502465677,
          "poster_path": "/zGVAVQufbwE5BjU17OBkXM9PWRS.jpg",
          "production_companies": [
           {
            "id": 12010,
            "name": "Mediapro"
           },
           {
            "id": 12966,
            "name": "Perdido Productions"
           },
           {
            "id": 6246,
            "name": "Medusa Film"
           },
           {
            "id": 1824,
            "name": "Gravier Productions"
           }
          ],
          "production_countries": [
           {
            "iso_3166_1": "ES",
            "name": "Spain"
           },
           {
            "iso_3166_1": "IT",
            "name": "Italy"
           },
           {
            "iso_3166_1": "US",
            "name": "United States of America"
           }
          ],
          "release_date": "2012-07-04",
          "revenue": 16684352,
          "runtime": 112,
          "spoken_languages": [
           {
            "iso_639_1": "it",
            "name": "Italiano"
           },
           {
            "iso_639_1": "en",
            "name": "English"
           }
          ],
          "status": "Released",
          "tagline": "",
          "title": "To Rome with Love",
          "video": false,
          "vote_average": 5.6,
          "vote_count": 125
         }
        },
        {
         "_id": "1572",
         "_index": "tmdb",
         "_score": 35.17782,
         "_source": {
          "adult": false,
          "backdrop_path": "/wV4qDEkxIVbhTKNFJCXYVm1GxdW.jpg",
          "belongs_to_collection": {
           "backdrop_path": "/5kHVblr87FUScuab1PVSsK692IL.jpg",
           "id": 1570,
           "name": "Die Hard Collection",
           "poster_path": "/nglknikAiEbsF9CW5xV9fC378JH.jpg"
          },
          "budget": 90000000,
          "cast": [
           {
            "cast_id": 8,
            "character": "John McClane",
            "credit_id": "52fe42ffc3a36847f803297b",
            "id": 62,
            "name": "Bruce Willis",
            "order": 0,
            "profile_path": "/kI1OluWhLJk3pnR19VjOfABpnTY.jpg"
           },
           {
            "cast_id": 7,
            "character": "Simon Peter Gruber",
            "credit_id": "52fe42ffc3a36847f8032977",
            "id": 16940,
            "name": "Jeremy Irons",
            "order": 1,
            "profile_path": "/9AWphjIgGX7JjTrwrx3tsTZlUgv.jpg"
           },
           {
            "cast_id": 9,
            "character": "Zeus Carver",
            "credit_id": "52fe42ffc3a36847f803297f",
            "id": 2231,
            "name": "Samuel L. Jackson",
            "order": 2,
            "profile_path": "/dlW6prW9HwYDsIRXNoFYtyHpSny.jpg"
           },
           {
            "cast_id": 12,
            "character": "Joe Lambert",
            "credit_id": "52fe42ffc3a36847f803298f",
            "id": 6804,
            "name": "Graham Greene",
            "order": 3,
            "profile_path": "/vG3j0Phs144Rz2dQnDAYpdhhflG.jpg"
           },
           {
            "cast_id": 13,
            "character": "Connie Kowalski",
            "credit_id": "52fe42ffc3a36847f8032993",
            "id": 13023,
            "name": "Colleen Camp",
            "order": 4,
            "profile_path": "/baASQgWewWYG7lnYjgjZXe2t5MM.jpg"
           },
           {
            "cast_id": 14,
            "character": "Chief Cobb",
            "credit_id": "52fe42ffc3a36847f8032997",
            "id": 17351,
            "name": "Larry Bryggman",
            "order": 5,
            "profile_path": "/fc7XC4C0DayJ6g8ReydAWjwY3IX.jpg"
           },
           {
            "cast_id": 15,
            "character": "Jarvis",
            "credit_id": "52fe42ffc3a36847f803299b",
            "id": 21136,
            "name": "Michael Cristofer",
            "order": 6,
            "profile_path": "/7FbuXmO6dtQ9ZXoon3mth1j9PZV.jpg"
           },
           {
            "cast_id": 16,
            "character": "Ricky Walsh",
            "credit_id": "52fe42ffc3a36847f803299f",
            "id": 141747,
            "name": "Anthony Peck",
            "order": 7,
            "profile_path": "/57e2de2WH5jFm6AJYNTSSjGymtS.jpg"
           },
           {
            "cast_id": 17,
            "character": "Targo",
            "credit_id": "52fe42ffc3a36847f80329a3",
            "id": 91421,
            "name": "Nicholas Wyman",
            "order": 8,
            "profile_path": "/zmwoKCWJ64eLWihIcLdLbJPbWp1.jpg"
           },
           {
            "cast_id": 18,
            "character": "Katya",
            "credit_id": "52fe42ffc3a36847f80329a7",
            "id": 45337,
            "name": "Sam Phillips",
            "order": 9,
            "profile_path": "/8SlWODNQqLc2074BRSNuQTC3wnG.jpg"
           },
           {
            "cast_id": 19,
            "character": "Charles Weiss",
            "credit_id": "52fe42ffc3a36847f80329ab",
            "id": 34395,
            "name": "Kevin Chamberlin",
            "order": 10,
            "profile_path": "/37FDBOmTdLRwKQMnNmm1MfJ6Dk4.jpg"
           },
           {
            "cast_id": 20,
            "character": "Officer Jane",
            "credit_id": "52fe42ffc3a36847f80329af",
            "id": 141748,
            "name": "Sharon Washington",
            "order": 11,
            "profile_path": "/xoZjdLHK0p6cPMewBFCQ3JxxIex.jpg"
           },
           {
            "cast_id": 21,
            "character": "Dr. Schiller",
            "credit_id": "52fe42ffc3a36847f80329b3",
            "id": 6438,
            "name": "Stephen Pearlman",
            "order": 12,
            "profile_path": "/a1LcI65LvyKKi5UmaAc2PPihsQm.jpg"
           },
           {
            "cast_id": 22,
            "character": "Dexter",
            "credit_id": "52fe42ffc3a36847f80329b7",
            "id": 141749,
            "name": "Michael Alexander Jackson",
            "order": 13,
            "profile_path": "/aKi2X09NR1h07eR39LcL8nOcu9p.jpg"
           },
           {
            "cast_id": 23,
            "character": "Raymond",
            "credit_id": "52fe42ffc3a36847f80329bb",
            "id": 83860,
            "name": "Aldis Hodge",
            "order": 14,
            "profile_path": "/lPYksVSaRdaHOhC4OzBEOw4uRbp.jpg"
           },
           {
            "cast_id": 24,
            "character": "Mischa",
            "credit_id": "52fe42ffc3a36847f80329bf",
            "id": 19902,
            "name": "Mischa Hausserman",
            "order": 15,
            "profile_path": "/4CJ8dgYS1QJWANpivJ8CI9aARog.jpg"
           }
          ],
          "directors": [
           {
            "credit_id": "52fe42ffc3a36847f8032955",
            "department": "Directing",
            "id": 1090,
            "job": "Director",
            "name": "John McTiernan",
            "profile_path": "/tknmquMIO2oAVUZ0vVX78ALHyaT.jpg"
           }
          ],
          "genres": [
           {
            "id": 28,
            "name": "Action"
           },
           {
            "id": 53,
            "name": "Thriller"
           }
          ],
          "homepage": "",
          "id": 1572,
          "imdb_id": "tt0112864",
          "original_language": "en",
          "original_title": "Die Hard: With a Vengeance",
          "overview": "New York detective John McClane is back and kicking bad-guy butt in the third installment of this action-packed series, which finds him teaming with civilian Zeus Carver to prevent the loss of innocent lives. McClane thought he'd seen it all, until a genius named Simon engages McClane, his new \"partner\" -- and his beloved city -- in a deadly game that demands their concentration.",
          "popularity": 2.70258006263679,
          "poster_path": "/q4ixsZm82c8GpwsQmjMuwVl5gM9.jpg",
          "production_companies": [
           {
            "id": 1504,
            "name": "Cinergi Pictures Entertainment"
           },
           {
            "id": 306,
            "name": "Twentieth Century Fox Film Corporation"
           }
          ],
          "production_countries": [
           {
            "iso_3166_1": "US",
            "name": "United States of America"
           }
          ],
          "release_date": "1995-05-15",
          "revenue": 361212499,
          "runtime": 131,
          "spoken_languages": [
           {
            "iso_639_1": "en",
            "name": "English"
           },
           {
            "iso_639_1": "de",
            "name": "Deutsch"
           },
           {
            "iso_639_1": "ro",
            "name": "Română"
           }
          ],
          "status": "Released",
          "tagline": "Think fast. Look alive. Die hard.",
          "title": "Die Hard: With a Vengeance",
          "video": false,
          "vote_average": 6.6,
          "vote_count": 935
         }
        },
        {
         "_id": "3635",
         "_index": "tmdb",
         "_score": 35.17782,
         "_source": {
          "adult": false,
          "backdrop_path": "/qUQo4Xlv9nwBDPJxz5HtIsXqq1C.jpg",
          "belongs_to_collection": null,
          "budget": 0,
          "cast": [
           {
            "cast_id": 1,
            "character": "Griet",
            "credit_id": "52fe43a1c3a36847f80632bd",
            "id": 1245,
            "name": "Scarlett Johansson",
            "order": 0,
            "profile_path": "/yDYpYy09nfyXIWHC6mbsaRdLiDV.jpg"
           },
           {
            "cast_id": 2,
            "character": "Johannes Vermeer",
            "credit_id": "52fe43a1c3a36847f80632c1",
            "id": 5472,
            "name": "Colin Firth",
            "order": 1,
            "profile_path": "/kbs5HzE2KjzbKiGYQw2aXFpdvaX.jpg"
           },
           {
            "cast_id": 3,
            "character": "Pieter",
            "credit_id": "52fe43a1c3a36847f80632c5",
            "id": 2037,
            "name": "Cillian Murphy",
            "order": 2,
            "profile_path": "/tEERcmKFHXypcwkP28MxVfvf6Ph.jpg"
           },
           {
            "cast_id": 17,
            "character": "Pieter Van Ruijven",
            "credit_id": "52fe43a1c3a36847f8063317",
            "id": 207,
            "name": "Tom Wilkinson",
            "order": 3,
            "profile_path": "/4mxZKgdem0sQ8hJd0Y7TREwq7TJ.jpg"
           },
           {
            "cast_id": 18,
            "character": "Maria Thins",
            "credit_id": "52fe43a1c3a36847f806331b",
            "id": 33448,
            "name": "Judy Parfitt",
            "order": 4,
            "profile_path": "/vF3gRzpyL5y2rLMOoamYjWmux7U.jpg"
           },
           {
            "cast_id": 19,
            "character": "Catharina Bolnes Vermeer",
            "credit_id": "52fe43a1c3a36847f806331f",
            "id": 33449,
            "name": "Essie Davis",
            "order": 5,
            "profile_path": "/4fRr8V4harQBxJCvR8dhPP40tYA.jpg"
           },
           {
            "cast_id": 20,
            "character": "Tanneke",
            "credit_id": "52fe43a1c3a36847f8063323",
            "id": 33450,
            "name": "Joanna Scanlan",
            "order": 6,
            "profile_path": "/sUVkc2qcEhuLVHLAfXak2Bk4mKt.jpg"
           },
           {
            "cast_id": 21,
            "character": "Griet's Mother",
            "credit_id": "52fe43a1c3a36847f8063327",
            "id": 33451,
            "name": "Gabrielle Reidy",
            "order": 7,
            "profile_path": null
           },
           {
            "cast_id": 22,
            "character": "Griet's Father",
            "credit_id": "52fe43a1c3a36847f806332b",
            "id": 33452,
            "name": "Chris McHallem",
            "order": 8,
            "profile_path": "/aUTRtF4KnyGTF0VmE63hA8kMZgn.jpg"
           },
           {
            "cast_id": 23,
            "character": "Cornelia Vermeer",
            "credit_id": "52fe43a1c3a36847f806332f",
            "id": 20051,
            "name": "Alakina Mann",
            "order": 9,
            "profile_path": "/u6Zm6crP9femMxdBW0KUQpLELTJ.jpg"
           },
           {
            "cast_id": 24,
            "character": "Frans",
            "credit_id": "52fe43a1c3a36847f8063333",
            "id": 33453,
            "name": "Rollo Weeks",
            "order": 10,
            "profile_path": "/t2ggb881ZXdZXpYKpWjp62G9Anj.jpg"
           },
           {
            "cast_id": 25,
            "character": "Maertge",
            "credit_id": "52fe43a1c3a36847f8063337",
            "id": 5529,
            "name": "Anna Popplewell",
            "order": 11,
            "profile_path": "/tlGWAZeDgqJtJ5cz57zS0BW5our.jpg"
           }
          ],
          "directors": [
           {
            "credit_id": "52fe43a1c3a36847f80632cb",
            "department": "Directing",
            "id": 16785,
            "job": "Director",
            "name": "Peter Webber",
            "profile_path": null
           }
          ],
          "genres": [
           {
            "id": 18,
            "name": "Drama"
           },
           {
            "id": 10749,
            "name": "Romance"
           }
          ],
          "homepage": "",
          "id": 3635,
          "imdb_id": "tt0335119",
          "original_language": "en",
          "original_title": "Girl with a Pearl Earring",
          "overview": "This film, adapted from a work of fiction by author Tracy Chevalier, tells a story about the events surrounding the creation of the painting \"Girl With A Pearl Earring\" by 17th century Dutch master Johannes Vermeer. A young peasant maid working in the house of painter Johannes Vermeer becomes his talented assistant and the model for one of his most famous works.",
          "popularity": 0.405176955253459,
          "poster_path": "/iwapgsiyOLFZCrzDmdspdkrbkIW.jpg",
          "production_companies": [
           {
            "id": 1470,
            "name": "Wild Bear Films"
           },
           {
            "id": 1471,
            "name": "Archer Street Productions"
           },
           {
            "id": 1472,
            "name": "Delux Productions"
           }
          ],
          "production_countries": [
           {
            "iso_3166_1": "GB",
            "name": "United Kingdom"
           },
           {
            "iso_3166_1": "LU",
            "name": "Luxembourg"
           }
          ],
          "release_date": "2003-08-31",
          "revenue": 31466789,
          "runtime": 101,
          "spoken_languages": [
           {
            "iso_639_1": "en",
            "name": "English"
           }
          ],
          "status": "Released",
          "tagline": "",
          "title": "Girl with a Pearl Earring",
          "video": false,
          "vote_average": 6.5,
          "vote_count": 60
         }
        },
        {
         "_id": "7552",
         "_index": "tmdb",
         "_score": 35.17782,
         "_source": {
          "adult": false,
          "backdrop_path": "/gEXvIMvCT1TuQY7Lu9vN47MpSm4.jpg",
          "belongs_to_collection": null,
          "budget": 100000000,
          "cast": [
           {
            "cast_id": 1,
            "character": "Dick Harper",
            "credit_id": "52fe4483c3a36847f809a8a9",
            "id": 206,
            "name": "Jim Carrey",
            "order": 0,
            "profile_path": "/a46mhZ3ZLIx3SOGTj3WhchC7XbQ.jpg"
           },
           {
            "cast_id": 2,
            "character": "Jane Harper",
            "credit_id": "52fe4483c3a36847f809a8ad",
            "id": 4939,
            "name": "Téa Leoni",
            "order": 1,
            "profile_path": "/5VyeQNd6rcHiseUu1bL1OTYjJig.jpg"
           },
           {
            "cast_id": 3,
            "character": "Jack McCallister",
            "credit_id": "52fe4483c3a36847f809a8b1",
            "id": 7447,
            "name": "Alec Baldwin",
            "order": 2,
            "profile_path": "/i34dh4LKYlNOF67qSPJgzhddzyw.jpg"
           },
           {
            "cast_id": 4,
            "character": "Frank Bascombe",
            "credit_id": "52fe4483c3a36847f809a8b5",
            "id": 28633,
            "name": "Richard Jenkins",
            "order": 3,
            "profile_path": "/iz61iPIgNUp0yk48bRNjEJ5GHO4.jpg"
           },
           {
            "cast_id": 5,
            "character": "Veronica Cleeman",
            "credit_id": "52fe4483c3a36847f809a8b9",
            "id": 52929,
            "name": "Angie Harmon",
            "order": 4,
            "profile_path": "/oFsZQuVxgMm9yUl0dZe4ROznIex.jpg"
           },
           {
            "cast_id": 6,
            "character": "Garth",
            "credit_id": "52fe4483c3a36847f809a8bd",
            "id": 8265,
            "name": "John Michael Higgins",
            "order": 5,
            "profile_path": "/5vGRr36gOQIwDXq9JKu9FBozAKi.jpg"
           },
           {
            "cast_id": 7,
            "character": "Joe Cleeman",
            "credit_id": "52fe4483c3a36847f809a8c1",
            "id": 25849,
            "name": "Richard Burgi",
            "order": 6,
            "profile_path": "/w5FeMeJ6nsjEqZtwMEITTlKQp38.jpg"
           },
           {
            "cast_id": 8,
            "character": "Oz Peterson",
            "credit_id": "52fe4483c3a36847f809a8c5",
            "id": 52930,
            "name": "Carlos Jacott",
            "order": 7,
            "profile_path": "/7bAXajnMa7BzLU8yDPgzJV5260M.jpg"
           },
           {
            "cast_id": 9,
            "character": "Billy Harper",
            "credit_id": "52fe4483c3a36847f809a8c9",
            "id": 52931,
            "name": "Aaron Michael Drozin",
            "order": 8,
            "profile_path": null
           },
           {
            "cast_id": 10,
            "character": "Blanca",
            "credit_id": "52fe4483c3a36847f809a8cd",
            "id": 52932,
            "name": "Gloria Garayua",
            "order": 9,
            "profile_path": "/myc6J8Hnb9cdFRkzaAAwMdXuOn9.jpg"
           },
           {
            "cast_id": 11,
            "character": "Dick's Secretary",
            "credit_id": "52fe4483c3a36847f809a8d1",
            "id": 29054,
            "name": "Michelle Arthur",
            "order": 10,
            "profile_path": "/zKQFuK3W4LMzfIz8W86RYf6jGp7.jpg"
           },
           {
            "cast_id": 12,
            "character": "Jack's Receptionist",
            "credit_id": "52fe4483c3a36847f809a8d5",
            "id": 31714,
            "name": "Stacey Travis",
            "order": 11,
            "profile_path": "/9a9RvQ8311piSh5sUVaypN9TNDT.jpg"
           },
           {
            "cast_id": 13,
            "character": "Jack's Assistant",
            "credit_id": "52fe4483c3a36847f809a8d9",
            "id": 52933,
            "name": "Timm Sharp",
            "order": 12,
            "profile_path": "/e4gKCKoC2Yx5SXm4vAHFaAsjo26.jpg"
           },
           {
            "cast_id": 14,
            "character": "Angry Caller (voice)",
            "credit_id": "52fe4483c3a36847f809a8dd",
            "id": 52794,
            "name": "David Herman",
            "order": 13,
            "profile_path": "/6S0UlaChdcilaeYk5svTxOCtShC.jpg"
           }
          ],
          "directors": [
           {
            "credit_id": "52fe4483c3a36847f809a8e3",
            "department": "Directing",
            "id": 15002,
            "job": "Director",
            "name": "Dean Parisot",
            "profile_path": "/3h20QFQ6duhpJ1FMSeJiFju0WGp.jpg"
           }
          ],
          "genres": [
           {
            "id": 28,
            "name": "Action"
           },
           {
            "id": 35,
            "name": "Comedy"
           },
           {
            "id": 80,
            "name": "Crime"
           }
          ],
          "homepage": "",
          "id": 7552,
          "imdb_id": "tt0369441",
          "original_language": "en",
          "original_title": "Fun with Dick and Jane",
          "overview": "After losing their high-paying corporate jobs, Jane and Dick Harper (Jim Carrey and Téa Leoni) turn to robbing banks to maintain their upwardly mobile standard of living in this action-comedy based on the 1977 film of the same name. The couple's hold-up act begins as a desperate measure. But before long, they're actually enjoying it -- and now it's getting to be a habit.",
          "popularity": 0.422509458177664,
          "poster_path": "/nevy1DCIpEOqeuqrBjeSHCrNLQ9.jpg",
          "production_companies": [
           {
            "id": 23,
            "name": "Imagine Entertainment"
           },
           {
            "id": 34,
            "name": "Sony Pictures"
           }
          ],
          "production_countries": [
           {
            "iso_3166_1": "US",
            "name": "United States of America"
           }
          ],
          "release_date": "2005-12-21",
          "revenue": 201580853,
          "runtime": 90,
          "spoken_languages": [
           {
            "iso_639_1": "en",
            "name": "English"
           }
          ],
          "status": "Released",
          "tagline": "Giving big businesses a run for their money!",
          "title": "Fun with Dick and Jane",
          "video": false,
          "vote_average": 6,
          "vote_count": 178
         }
        },
        {
         "_id": "65754",
         "_index": "tmdb",
         "_score": 31.661873,
         "_source": {
          "adult": false,
          "backdrop_path": "/1fk2xS5hRkblBuag5JXZkmE8pg6.jpg",
          "belongs_to_collection": null,
          "budget": 100000000,
          "cast": [
           {
            "cast_id": 2,
            "character": "Mikael Blomkvist",
            "credit_id": "52fe4718c3a368484e0b4c4d",
            "id": 8784,
            "name": "Daniel Craig",
            "order": 0,
            "profile_path": "/h8pfDEYJEIFhIuhwiYZGmgtwc8s.jpg"
           },
           {
            "cast_id": 4,
            "character": "Lisbeth Salander",
            "credit_id": "52fe4718c3a368484e0b4c55",
            "id": 108916,
            "name": "Rooney Mara",
            "order": 1,
            "profile_path": "/foWvIBTr0HrjAV7PaoUErRvkJIc.jpg"
           },
           {
            "cast_id": 6,
            "character": "Henrik Vanger",
            "credit_id": "52fe4718c3a368484e0b4c5d",
            "id": 290,
            "name": "Christopher Plummer",
            "order": 2,
            "profile_path": "/fauMGxa6dc86nHNenQ8X6DlE6YV.jpg"
           },
           {
            "cast_id": 3,
            "character": "Martin Vanger",
            "credit_id": "52fe4718c3a368484e0b4c51",
            "id": 1640,
            "name": "Stellan Skarsgård",
            "order": 3,
            "profile_path": "/hjWdhX7zEI0DkF7gA4hcEVcYCZl.jpg"
           },
           {
            "cast_id": 5,
            "character": "Erika Berger",
            "credit_id": "52fe4718c3a368484e0b4c59",
            "id": 32,
            "name": "Robin Wright",
            "order": 4,
            "profile_path": "/cke0NNZP4lHRtOethRy2XGSOp3E.jpg"
           },
           {
            "cast_id": 9,
            "character": "Dirch Frode",
            "credit_id": "52fe4718c3a368484e0b4c6d",
            "id": 782,
            "name": "Steven Berkoff",
            "order": 5,
            "profile_path": "/jiYMK9prj46Qe4gmbKtBDE6YlSr.jpg"
           },
           {
            "cast_id": 10,
            "character": "Anita Vanger",
            "credit_id": "52fe4718c3a368484e0b4c71",
            "id": 20810,
            "name": "Joely Richardson",
            "order": 6,
            "profile_path": "/uAl4GWLpmTKEEfYgKXZZXsehfLX.jpg"
           },
           {
            "cast_id": 28,
            "character": "Annika Blomkvist Giannini",
            "credit_id": "533983189251417d9b004a73",
            "id": 6368,
            "name": "Embeth Davidtz",
            "order": 7,
            "profile_path": "/gmc4nZtGc6bge9DnriR57VYq0dA.jpg"
           },
           {
            "cast_id": 11,
            "character": "Cecilia Vanger",
            "credit_id": "52fe4718c3a368484e0b4c75",
            "id": 11855,
            "name": "Geraldine James",
            "order": 8,
            "profile_path": "/iHKFccX2qpSzMbhIBdfvr835MVg.jpg"
           },
           {
            "cast_id": 12,
            "character": "Dragan Armansky",
            "credit_id": "52fe4718c3a368484e0b4c79",
            "id": 5725,
            "name": "Goran Višnjić",
            "order": 9,
            "profile_path": "/lIMvB4XqJnKuoCrVvbC8Ai5ZqJ6.jpg"
           },
           {
            "cast_id": 13,
            "character": "Miriam Wu",
            "credit_id": "52fe4718c3a368484e0b4c7d",
            "id": 78147,
            "name": "Elodie Yung",
            "order": 10,
            "profile_path": "/pbhMOW06QNPujrHM2aNX2TS0eXH.jpg"
           },
           {
            "cast_id": 14,
            "character": "Young Henrik Vanger",
            "credit_id": "52fe4718c3a368484e0b4c81",
            "id": 6104,
            "name": "Julian Sands",
            "order": 11,
            "profile_path": "/hDb4UlbeTvvVK53Cmh7W0Ijo41h.jpg"
           },
           {
            "cast_id": 17,
            "character": "Hans-Erik Wennerström",
            "credit_id": "52fe4718c3a368484e0b4c91",
            "id": 255653,
            "name": "Ulf Friberg",
            "order": 12,
            "profile_path": null
           },
           {
            "cast_id": 18,
            "character": "Young Harald Vanger",
            "credit_id": "52fe4718c3a368484e0b4c95",
            "id": 11040,
            "name": "Gustaf Hammarsten",
            "order": 13,
            "profile_path": "/zG4x2kuRTS3bx5l4cATSk98WMof.jpg"
           },
           {
            "cast_id": 19,
            "character": "Young Gustaf Morell",
            "credit_id": "52fe4718c3a368484e0b4c99",
            "id": 93236,
            "name": "David Dencik",
            "order": 14,
            "profile_path": "/h6ndLvEolmMOQs2hhbSEZMomSUu.jpg"
           },
           {
            "cast_id": 20,
            "character": "Detective Isaksson",
            "credit_id": "52fe4718c3a368484e0b4c9d",
            "id": 52760,
            "name": "Alan Dale",
            "order": 15,
            "profile_path": "/3eguw755Dl5a4PlDBAeOmTcgZLb.jpg"
           },
           {
            "cast_id": 29,
            "character": "Nils Bjurman",
            "credit_id": "53beb3180e0a26157f0045da",
            "id": 31387,
            "name": "Yorick van Wageningen",
            "order": 16,
            "profile_path": null
           },
           {
            "cast_id": 30,
            "character": "Detective Inspector Gustaf Morell",
            "credit_id": "53beb35f0e0a26158f004297",
            "id": 20425,
            "name": "Donald Sumpter",
            "order": 17,
            "profile_path": "/gqNTtHmpiUs4bbGhHTNPSJUR6ZW.jpg"
           },
           {
            "cast_id": 31,
            "character": "Holger Palmgren",
            "credit_id": "53beb3850e0a26158f00429d",
            "id": 111786,
            "name": "Bengt C.W. Carlsson",
            "order": 18,
            "profile_path": "/9QKuOwCNh3SBcKIbnxAqinhIIia.jpg"
           },
           {
            "cast_id": 32,
            "character": "Plague",
            "credit_id": "53beb39a0e0a26158f0042a1",
            "id": 147255,
            "name": "Tony Way",
            "order": 19,
            "profile_path": "/uk8OCXbEGXnkmKvf7EgVzfKq918.jpg"
           },
           {
            "cast_id": 33,
            "character": "Isabella Vanger",
            "credit_id": "53beb3b90e0a26157c004359",
            "id": 6661,
            "name": "Inga Landgré",
            "order": 20,
            "profile_path": "/tTMBmDtvEBNOGl9JpvV9WXAqYw2.jpg"
           }
          ],
          "directors": [
           {
            "credit_id": "52fe4718c3a368484e0b4c49",
            "department": "Directing",
            "id": 7467,
            "job": "Director",
            "name": "David Fincher",
            "profile_path": "/dcBHejOsKvzVZVozWJAPzYthb8X.jpg"
           }
          ],
          "genres": [
           {
            "id": 80,
            "name": "Crime"
           },
           {
            "id": 18,
            "name": "Drama"
           },
           {
            "id": 9648,
            "name": "Mystery"
           },
           {
            "id": 53,
            "name": "Thriller"
           }
          ],
          "homepage": "http://dragontattoo.com/",
          "id": 65754,
          "imdb_id": "tt1568346",
          "original_language": "en",
          "original_title": "The Girl with the Dragon Tattoo",
          "overview": "This English-language adaptation of the Swedish novel by Stieg Larsson follows a disgraced journalist, Mikael Blomkvist, as he investigates the disappearance of a weary patriarch's niece from 40 years ago. He is aided by the pierced, tattooed, punk computer hacker named Lisbeth Salander. As they work together in the investigation, Blomkvist and Salander uncover immense corruption beyond anything they have ever imagined.",
          "popularity": 1.09154150658762,
          "poster_path": "/voxRWFTtagLiqnJQs9tWQLB0MN.jpg",
          "production_companies": [
           {
            "id": 47479,
            "name": "Ground Control"
           },
           {
            "id": 5,
            "name": "Columbia Pictures"
           },
           {
            "id": 258,
            "name": "Scott Rudin Productions"
           },
           {
            "id": 8083,
            "name": "Film Rites"
           },
           {
            "id": 8411,
            "name": "Metro-Goldwyn-Mayer (MGM)"
           },
           {
            "id": 33817,
            "name": "Yellow Bird"
           }
          ],
          "production_countries": [
           {
            "iso_3166_1": "NO",
            "name": "Norway"
           },
           {
            "iso_3166_1": "SE",
            "name": "Sweden"
           },
           {
            "iso_3166_1": "US",
            "name": "United States of America"
           }
          ],
          "release_date": "2011-12-21",
          "revenue": 102515793,
          "runtime": 158,
          "spoken_languages": [
           {
            "iso_639_1": "en",
            "name": "English"
           }
          ],
          "status": "Released",
          "tagline": "Evil shall with evil be expelled.",
          "title": "The Girl with the Dragon Tattoo",
          "video": false,
          "vote_average": 6.8,
          "vote_count": 877
         }
        },
        {
         "_id": "421",
         "_index": "tmdb",
         "_score": 31.661873,
         "_source": {
          "adult": false,
          "backdrop_path": "/x2EutNySnFRVrjOXsnGyj3HHvf7.jpg",
          "belongs_to_collection": null,
          "budget": 50000000,
          "cast": [
           {
            "cast_id": 1,
            "character": "Steve Zissou",
            "credit_id": "52fe4241c3a36847f8010025",
            "id": 1532,
            "name": "Bill Murray",
            "order": 0,
            "profile_path": "/eb58HuFIrxS0zUmbmW4d8YXTbje.jpg"
           },
           {
            "cast_id": 5,
            "character": "Eleanor Zissou",
            "credit_id": "52fe4241c3a36847f801003b",
            "id": 5657,
            "name": "Anjelica Huston",
            "order": 1,
            "profile_path": "/aWoffHO62SV8KeqKzct8LeXTW72.jpg"
           },
           {
            "cast_id": 6,
            "character": "Jane Winslett-Richardson",
            "credit_id": "52fe4241c3a36847f801003f",
            "id": 112,
            "name": "Cate Blanchett",
            "order": 2,
            "profile_path": "/X3CMrI6lkzLdS5ZQqQWeRJkAGU.jpg"
           },
           {
            "cast_id": 7,
            "character": "Klaus Daimler",
            "credit_id": "52fe4241c3a36847f8010043",
            "id": 5293,
            "name": "Willem Dafoe",
            "order": 3,
            "profile_path": "/A1uyY0KbYSR8fk7Wkdbs2VfsBw1.jpg"
           },
           {
            "cast_id": 8,
            "character": "Ned Plimpton",
            "credit_id": "52fe4241c3a36847f8010047",
            "id": 887,
            "name": "Owen Wilson",
            "order": 4,
            "profile_path": "/j7oYgvfDiO34VcFdSB7GhM2CSle.jpg"
           },
           {
            "cast_id": 9,
            "character": "Alistair Hennessey",
            "credit_id": "52fe4241c3a36847f801004b",
            "id": 4785,
            "name": "Jeff Goldblum",
            "order": 5,
            "profile_path": "/iDW7y4R8cx4SZzWd8nN2gvL7My1.jpg"
           },
           {
            "cast_id": 10,
            "character": "Oseary Drakoulias",
            "credit_id": "52fe4241c3a36847f801004f",
            "id": 5658,
            "name": "Michael Gambon",
            "order": 6,
            "profile_path": "/k6VxRs7xcG6DLEVM1izjb3UWSyC.jpg"
           },
           {
            "cast_id": 11,
            "character": "Vladimir Wolodarsky",
            "credit_id": "52fe4241c3a36847f8010053",
            "id": 1284,
            "name": "Noah Taylor",
            "order": 7,
            "profile_path": "/dSlH0WA09dVqQhgB7LB5xn8WzD.jpg"
           },
           {
            "cast_id": 12,
            "character": "Bill Ubell",
            "credit_id": "52fe4241c3a36847f8010057",
            "id": 4971,
            "name": "Bud Cort",
            "order": 8,
            "profile_path": "/kI7N8eeX8TBWBGFQCZWfKZGbrZ6.jpg"
           },
           {
            "cast_id": 13,
            "character": "Pelé dos Santos",
            "credit_id": "52fe4241c3a36847f801005b",
            "id": 5659,
            "name": "Seu Jorge",
            "order": 9,
            "profile_path": "/ggUYDS85gpTLAXaDzznLw2mpTfS.jpg"
           },
           {
            "cast_id": 15,
            "character": "Intern 1",
            "credit_id": "52fe4241c3a36847f801005f",
            "id": 5661,
            "name": "Matthew Gray Gubler",
            "order": 10,
            "profile_path": "/q2O6kAh3xtkWny2zREjXyJtPdnq.jpg"
           },
           {
            "cast_id": 16,
            "character": "Festival Director",
            "credit_id": "52fe4241c3a36847f8010063",
            "id": 5662,
            "name": "Antonio Monda",
            "order": 11,
            "profile_path": null
           },
           {
            "cast_id": 17,
            "character": "Antonia Cook",
            "credit_id": "52fe4241c3a36847f8010067",
            "id": 5663,
            "name": "Isabella Blow",
            "order": 12,
            "profile_path": null
           },
           {
            "cast_id": 33,
            "character": "Esteban",
            "credit_id": "52fe4241c3a36847f80100c5",
            "id": 5950,
            "name": "Seymour Cassel",
            "order": 13,
            "profile_path": "/xVyzqC1VNqlmEHlIZvidBVhHane.jpg"
           },
           {
            "cast_id": 34,
            "character": "Anne-Marie Sakowitz",
            "credit_id": "52fe4241c3a36847f80100c9",
            "id": 18878,
            "name": "Rob Cohen",
            "order": 14,
            "profile_path": "/kiNncBrjCFMIfLZ5huX4Dw2ogW2.jpg"
           }
          ],
          "directors": [
           {
            "credit_id": "52fe4241c3a36847f801002b",
            "department": "Directing",
            "id": 5655,
            "job": "Director",
            "name": "Wes Anderson",
            "profile_path": "/r6mr3gvbuocMznHXSlXVKDj7mEI.jpg"
           }
          ],
          "genres": [
           {
            "id": 12,
            "name": "Adventure"
           },
           {
            "id": 35,
            "name": "Comedy"
           },
           {
            "id": 18,
            "name": "Drama"
           }
          ],
          "homepage": "",
          "id": 421,
          "imdb_id": "tt0362270",
          "original_language": "en",
          "original_title": "The Life Aquatic With Steve Zissou",
          "overview": "Wes Anderson’s incisive quirky comedy build up stars complex characters like in ‘The Royal Tenenbaums’ with Bill Murray on in the leading role. An ocean adventure documentary film maker Zissou is put in all imaginable life situations and a tough life crisis as he attempts to make a new film about capturing the creature that caused him pain.",
          "popularity": 1.13632285180385,
          "poster_path": "/1zRedSx2iLXFPVN6MdiQqTjerpn.jpg",
          "production_companies": [
           {
            "id": 9195,
            "name": "Touchstone Pictures"
           }
          ],
          "production_countries": [
           {
            "iso_3166_1": "US",
            "name": "United States of America"
           }
          ],
          "release_date": "2004-12-10",
          "revenue": 34808403,
          "runtime": 119,
          "spoken_languages": [
           {
            "iso_639_1": "en",
            "name": "English"
           },
           {
            "iso_639_1": "is",
            "name": "Íslenska"
           },
           {
            "iso_639_1": "pt",
            "name": "Português"
           },
           {
            "iso_639_1": "fr",
            "name": "Français"
           },
           {
            "iso_639_1": "tl",
            "name": ""
           },
           {
            "iso_639_1": "de",
            "name": "Deutsch"
           },
           {
            "iso_639_1": "it",
            "name": "Italiano"
           }
          ],
          "status": "Released",
          "tagline": "The deeper you go, the weirder life gets.",
          "title": "The Life Aquatic With Steve Zissou",
          "video": false,
          "vote_average": 7.1,
          "vote_count": 201
         }
        },
        {
         "_id": "1923",
         "_index": "tmdb",
         "_score": 31.661873,
         "_source": {
          "adult": false,
          "backdrop_path": "/5TWV9almHDBywbULDFdYMMdmEEw.jpg",
          "belongs_to_collection": null,
          "budget": 10000000,
          "cast": [
           {
            "cast_id": 9,
            "character": "Laura Palmer",
            "credit_id": "52fe4322c3a36847f803cd81",
            "id": 6726,
            "name": "Sheryl Lee",
            "order": 0,
            "profile_path": "/gNIW72Xgw6Jj2NTzjgHA7NY1C4I.jpg"
           },
           {
            "cast_id": 14,
            "character": "Leland Palmer",
            "credit_id": "52fe4322c3a36847f803cd95",
            "id": 6719,
            "name": "Ray Wise",
            "order": 1,
            "profile_path": "/z1EXC8gYfFddC010e9YK5kI5NKC.jpg"
           },
           {
            "cast_id": 11,
            "character": "Shelly Johnson",
            "credit_id": "52fe4322c3a36847f803cd89",
            "id": 6714,
            "name": "Mädchen Amick",
            "order": 2,
            "profile_path": "/y9qpjIzfm78aPHR8wxeTo20bDyV.jpg"
           },
           {
            "cast_id": 27,
            "character": "Bobby Briggs",
            "credit_id": "53da4f9ac3a3681ecd00174a",
            "id": 6715,
            "name": "Dana Ashbrook",
            "order": 3,
            "profile_path": "/qk2BsFN6ITljgG7wtGAcitbkFQC.jpg"
           },
           {
            "cast_id": 12,
            "character": "Ronette Pulaski",
            "credit_id": "52fe4322c3a36847f803cd8d",
            "id": 15796,
            "name": "Phoebe Augustine",
            "order": 4,
            "profile_path": null
           },
           {
            "cast_id": 13,
            "character": "Phillip Jeffries",
            "credit_id": "52fe4322c3a36847f803cd91",
            "id": 7487,
            "name": "David Bowie",
            "order": 5,
            "profile_path": "/8zSaE85AGofhRL9nbA9XBbpi5Ly.jpg"
           },
           {
            "cast_id": 28,
            "character": "Leo Johnson",
            "credit_id": "53da506f0e0a2652e50023c4",
            "id": 9323,
            "name": "Eric DaRe",
            "order": 6,
            "profile_path": "/ifUTWQVVl9uYm0EweI1uy4fKPbP.jpg"
           },
           {
            "cast_id": 26,
            "character": "Albert Rosenfeld",
            "credit_id": "52fe4322c3a36847f803cdc5",
            "id": 15860,
            "name": "Miguel Ferrer",
            "order": 7,
            "profile_path": "/fvRncqShcaV8R45IJGYZ7IAvrsO.jpg"
           },
           {
            "cast_id": 10,
            "character": "Donna Hayward",
            "credit_id": "52fe4322c3a36847f803cd85",
            "id": 20005,
            "name": "Moira Kelly",
            "order": 8,
            "profile_path": "/4cDCNxqYgJ0ueUqIpM4lUBnBb5f.jpg"
           },
           {
            "cast_id": 15,
            "character": "Annie Blackburn",
            "credit_id": "52fe4322c3a36847f803cd99",
            "id": 69122,
            "name": "Heather Graham",
            "order": 9,
            "profile_path": "/xqKEAblSGSj41hjaiydLiM9BT8h.jpg"
           },
           {
            "cast_id": 16,
            "character": "James Hurley",
            "credit_id": "52fe4322c3a36847f803cd9d",
            "id": 6717,
            "name": "James Marshall",
            "order": 10,
            "profile_path": "/8ytq4mu3fLWlLU80QeGCBz4z0tW.jpg"
           },
           {
            "cast_id": 17,
            "character": "Gordon Cole",
            "credit_id": "52fe4322c3a36847f803cda1",
            "id": 5602,
            "name": "David Lynch",
            "order": 11,
            "profile_path": "/AdfItgtfNOjYmX1tCoM4G17EkRn.jpg"
           },
           {
            "cast_id": 18,
            "character": "Sam Stanley",
            "credit_id": "52fe4322c3a36847f803cda5",
            "id": 2628,
            "name": "Kiefer Sutherland",
            "order": 12,
            "profile_path": "/4YvDfOfD4TgyzDkLGoq76g5BZNe.jpg"
           },
           {
            "cast_id": 25,
            "character": "Special Agent Dale Cooper",
            "credit_id": "52fe4322c3a36847f803cdc1",
            "id": 6677,
            "name": "Kyle MacLachlan",
            "order": 13,
            "profile_path": "/ykDb80YOPY2HLuRClLDpSYxUCPX.jpg"
           },
           {
            "cast_id": 19,
            "character": "Harold Smith (as Lenny Von Dohlen)",
            "credit_id": "52fe4322c3a36847f803cda9",
            "id": 15799,
            "name": "Lenny Von Dohlen",
            "order": 14,
            "profile_path": "/7duYOdfUgAX7JL1zsXaKZEhuEVY.jpg"
           },
           {
            "cast_id": 20,
            "character": "Sarah Palmer",
            "credit_id": "52fe4322c3a36847f803cdad",
            "id": 6465,
            "name": "Grace Zabriskie",
            "order": 15,
            "profile_path": "/ibBabuSM1UyPYFFo0wBXhGbqElk.jpg"
           },
           {
            "cast_id": 21,
            "character": "Mrs. Tremond (Chalfont)",
            "credit_id": "52fe4322c3a36847f803cdb1",
            "id": 11794,
            "name": "Frances Bay",
            "order": 16,
            "profile_path": "/1QrSN7nGkdsvPG5EAZHUu8Ap3RJ.jpg"
           },
           {
            "cast_id": 22,
            "character": "The Log Lady",
            "credit_id": "52fe4322c3a36847f803cdb5",
            "id": 123516,
            "name": "Catherine E. Coulson",
            "order": 17,
            "profile_path": null
           },
           {
            "cast_id": 23,
            "character": "Man From Another Place",
            "credit_id": "52fe4322c3a36847f803cdb9",
            "id": 123517,
            "name": "Michael J. Anderson",
            "order": 18,
            "profile_path": "/3YhlfQLwReWY3xSjh5VJriOkiLA.jpg"
           },
           {
            "cast_id": 24,
            "character": "Bob",
            "credit_id": "52fe4322c3a36847f803cdbd",
            "id": 123518,
            "name": "Frank Silva",
            "order": 19,
            "profile_path": null
           }
          ],
          "directors": [
           {
            "credit_id": "52fe4322c3a36847f803cd53",
            "department": "Directing",
            "id": 5602,
            "job": "Director",
            "name": "David Lynch",
            "profile_path": "/AdfItgtfNOjYmX1tCoM4G17EkRn.jpg"
           }
          ],
          "genres": [
           {
            "id": 18,
            "name": "Drama"
           },
           {
            "id": 9648,
            "name": "Mystery"
           }
          ],
          "homepage": "",
          "id": 1923,
          "imdb_id": "tt0105665",
          "original_language": "en",
          "original_title": "Twin Peaks: Fire Walk with Me",
          "overview": "In the folksy town of Deerfield, Wash., FBI Agent Desmond (Chris Isaak) inexplicably disappears while hunting for the man who murdered a teen girl. The killer is never apprehended, and, after experiencing dark visions and supernatural encounters, Agent Dale Cooper (Kyle MacLachlan) chillingly predicts that the culprit will claim another life. Meanwhile, in the similarly cozy town of Twin Peaks, hedonistic beauty Lara Palmer (Sheryl Lee) hangs with lowlifes and seems destined for a grisly fate.",
          "popularity": 1.14767216902549,
          "poster_path": "/lGdKDTZLXPFzij5Q3LJ8djbt2Ed.jpg",
          "production_companies": [
           {
            "id": 12,
            "name": "New Line Cinema"
           }
          ],
          "production_countries": [
           {
            "iso_3166_1": "US",
            "name": "United States of America"
           }
          ],
          "release_date": "1992-05-01",
          "revenue": 4000000,
          "runtime": 125,
          "spoken_languages": [
           {
            "iso_639_1": "en",
            "name": "English"
           }
          ],
          "status": "Released",
          "tagline": "Meet Laura Palmer... In a town where nothing is as it seems... And everyone has something to hide.",
          "title": "Twin Peaks: Fire Walk with Me",
          "video": false,
          "vote_average": 6.7,
          "vote_count": 58
         }
        },
        {
         "_id": "10661",
         "_index": "tmdb",
         "_score": 31.661873,
         "_source": {
          "adult": false,
          "backdrop_path": "/5WVCXiuJPMsRbRFRsH7khHszswF.jpg",
          "belongs_to_collection": null,
          "budget": 90000000,
          "cast": [
           {
            "cast_id": 4,
            "character": "Zohan",
            "credit_id": "52fe439e9251416c750176e1",
            "id": 19292,
            "name": "Adam Sandler",
            "order": 0,
            "profile_path": "/tv9V6QsuZ3bcp4ciUJjwjcc4qAg.jpg"
           },
           {
            "cast_id": 5,
            "character": "The Phantom",
            "credit_id": "52fe439e9251416c750176e5",
            "id": 1241,
            "name": "John Turturro",
            "order": 1,
            "profile_path": "/yyvj3z2IC9AG1sv6kuk5d7oQFJs.jpg"
           },
           {
            "cast_id": 6,
            "character": "Dalia",
            "credit_id": "52fe439e9251416c750176e9",
            "id": 59192,
            "name": "Emmanuelle Chriqui",
            "order": 2,
            "profile_path": "/d2PyTKZyt5Ndk9am6PJ8u6jRdjH.jpg"
           },
           {
            "cast_id": 7,
            "character": "Michael",
            "credit_id": "52fe439e9251416c750176ed",
            "id": 32907,
            "name": "Nick Swardson",
            "order": 3,
            "profile_path": "/5RinKDUSsSUNP9l5SzQ7GhXDvVJ.jpg"
           },
           {
            "cast_id": 8,
            "character": "Gail",
            "credit_id": "52fe439e9251416c750176f1",
            "id": 53647,
            "name": "Lainie Kazan",
            "order": 4,
            "profile_path": "/qI20obSkCyWbo13xh20rWeUuMXp.jpg"
           },
           {
            "cast_id": 9,
            "character": "Nasi",
            "credit_id": "52fe439e9251416c750176f5",
            "id": 66069,
            "name": "Daoud Heidami",
            "order": 5,
            "profile_path": "/83wsAMfFqXsBXOqP8yYj4BfRd9Y.jpg"
           },
           {
            "cast_id": 10,
            "character": "James",
            "credit_id": "52fe439e9251416c750176f9",
            "id": 66070,
            "name": "Dave Matthews",
            "order": 6,
            "profile_path": "/izo0HKZEdaJiZ1zW8bizpopMfmz.jpg"
           },
           {
            "cast_id": 11,
            "character": "Mrs. Greenhouse",
            "credit_id": "52fe439e9251416c750176fd",
            "id": 66071,
            "name": "Charlotte Rae",
            "order": 7,
            "profile_path": "/t6UyU97bkrGreYvLlUutomhTyIP.jpg"
           },
           {
            "cast_id": 12,
            "character": "Walbridge",
            "credit_id": "52fe439e9251416c75017701",
            "id": 66072,
            "name": "Michael Buffer",
            "order": 8,
            "profile_path": "/yOqMbIPkf6HtbVRBxu1o1RK7jZd.jpg"
           },
           {
            "cast_id": 13,
            "character": "Salim",
            "credit_id": "52fe439e9251416c75017705",
            "id": 60949,
            "name": "Rob Schneider",
            "order": 9,
            "profile_path": "/vDbjHkAc4OMKObi9W5xW9OuDhDI.jpg"
           },
           {
            "cast_id": 14,
            "character": "Oori",
            "credit_id": "52fe439e9251416c75017709",
            "id": 66073,
            "name": "Ido Mosseri",
            "order": 10,
            "profile_path": "/rTtzDCYcSJA7asnbNVIUtqg9Hx7.jpg"
           },
           {
            "cast_id": 22,
            "character": "Hamdi",
            "credit_id": "52fe439e9251416c75017737",
            "id": 173810,
            "name": "Sayed Badreya",
            "order": 11,
            "profile_path": "/wMpSb8QfErr5a0NBKWc2a3Zxj47.jpg"
           },
           {
            "cast_id": 23,
            "character": "Kevin",
            "credit_id": "52fe439e9251416c7501773b",
            "id": 58478,
            "name": "Kevin Nealon",
            "order": 12,
            "profile_path": "/aVp6F3hliJp7dOZsIdwTRIaRx71.jpg"
           },
           {
            "cast_id": 24,
            "character": "Yosi",
            "credit_id": "52fe439e9251416c7501773f",
            "id": 53684,
            "name": "Robert Smigel",
            "order": 13,
            "profile_path": "/fBJaWXCzwnzrdZx6PkFiwhEClSh.jpg"
           },
           {
            "cast_id": 25,
            "character": "Mariah Carey",
            "credit_id": "5419bb67c3a3683f0900028e",
            "id": 66586,
            "name": "Mariah Carey",
            "order": 14,
            "profile_path": "/qU9qrbTkLwsyFL9mb6RUHxKmpp.jpg"
           }
          ],
          "directors": [
           {
            "credit_id": "52fe439e9251416c750176d1",
            "department": "Directing",
            "id": 17494,
            "job": "Director",
            "name": "Dennis Dugan",
            "profile_path": "/jyi8S58fqNkOiZzkeMc0Lza1osC.jpg"
           }
          ],
          "genres": [
           {
            "id": 28,
            "name": "Action"
           },
           {
            "id": 35,
            "name": "Comedy"
           }
          ],
          "homepage": "http://www.youdontmesswiththezohan.com/",
          "id": 10661,
          "imdb_id": "tt0960144",
          "original_language": "en",
          "original_title": "You Don't Mess With the Zohan",
          "overview": "An Israeli counterterrorism soldier with a secretly fabulous ambition to become a Manhattan hairstylist. Zohan's desire runs so deep that he'll do anything -- including faking his own death and going head-to-head with an Arab cab driver -- to make his dreams come true.",
          "popularity": 1.01800865084606,
          "poster_path": "/3n9FYKLJVqwrZ7Wf96eoF2cAowU.jpg",
          "production_companies": [
           {
            "id": 5,
            "name": "Columbia Pictures"
           },
           {
            "id": 2608,
            "name": "Happy Madison Productions"
           }
          ],
          "production_countries": [
           {
            "iso_3166_1": "US",
            "name": "United States of America"
           }
          ],
          "release_date": "2008-06-04",
          "revenue": 201596308,
          "runtime": 113,
          "spoken_languages": [
           {
            "iso_639_1": "he",
            "name": "עִבְרִית"
           },
           {
            "iso_639_1": "en",
            "name": "English"
           }
          ],
          "status": "Released",
          "tagline": "Lather. Rinse. Save the world.",
          "title": "You Don't Mess With the Zohan",
          "video": false,
          "vote_average": 5.7,
          "vote_count": 299
         }
        },
        {
         "_id": "682",
         "_index": "tmdb",
         "_score": 31.661873,
         "_source": {
          "adult": false,
          "backdrop_path": "/f6HNlsfahFWcYC3VH5sQsMrOL72.jpg",
          "belongs_to_collection": {
           "backdrop_path": "/6VcVl48kNKvdXOZfJPdarlUGOsk.jpg",
           "id": 645,
           "name": "James Bond Collection",
           "poster_path": "/HORpg5CSkmeQlAolx3bKMrKgfi.jpg"
          },
          "budget": 7000000,
          "cast": [
           {
            "cast_id": 18,
            "character": "James Bond",
            "credit_id": "52fe426ac3a36847f801cd5d",
            "id": 10222,
            "name": "Roger Moore",
            "order": 0,
            "profile_path": "/6nGnOdejsqi8WF2UgvRGcxd3zm6.jpg"
           },
           {
            "cast_id": 19,
            "character": "Francisco Scaramanga",
            "credit_id": "52fe426ac3a36847f801cd61",
            "id": 113,
            "name": "Christopher Lee",
            "order": 1,
            "profile_path": "/3Pj0Zt1x9fwBrGGLe6DRGj8Ymmx.jpg"
           },
           {
            "cast_id": 20,
            "character": "Mary Goodnight",
            "credit_id": "52fe426ac3a36847f801cd65",
            "id": 10341,
            "name": "Britt Ekland",
            "order": 2,
            "profile_path": "/euypp72CwsKq4nOUjoBzDqtvfsI.jpg"
           },
           {
            "cast_id": 21,
            "character": "Andrea Anders",
            "credit_id": "52fe426ac3a36847f801cd69",
            "id": 10342,
            "name": "Maud Adams",
            "order": 3,
            "profile_path": "/iflQAeAUNW9zhwNGYCvk0nZR1en.jpg"
           },
           {
            "cast_id": 22,
            "character": "Nick Nack",
            "credit_id": "52fe426ac3a36847f801cd6d",
            "id": 10343,
            "name": "Hervé Villechaize",
            "order": 4,
            "profile_path": "/v2cXeoiQra79GSet6W901B9Kns1.jpg"
           },
           {
            "cast_id": 23,
            "character": "Sheriff J.W. Pepper",
            "credit_id": "52fe426ac3a36847f801cd71",
            "id": 10224,
            "name": "Clifton James",
            "order": 5,
            "profile_path": "/92MyAjAdLwgYJEjuHViU3dCSj09.jpg"
           },
           {
            "cast_id": 24,
            "character": "Hai Fat",
            "credit_id": "52fe426ac3a36847f801cd75",
            "id": 10344,
            "name": "Richard Loo",
            "order": 6,
            "profile_path": "/wCGxu1EZsrn6kjlWAFLQ1YzbOsN.jpg"
           },
           {
            "cast_id": 25,
            "character": "Lieutenant Hip",
            "credit_id": "52fe426ac3a36847f801cd79",
            "id": 10345,
            "name": "Soon-Tek Oh",
            "order": 7,
            "profile_path": "/6ZNOhKG5ZhqVhVb3qbdZSZ1np65.jpg"
           },
           {
            "cast_id": 26,
            "character": "Rodney",
            "credit_id": "52fe426ac3a36847f801cd7d",
            "id": 3140,
            "name": "Marc Lawrence",
            "order": 8,
            "profile_path": "/l9BsvMMq9db1eSbnTGia0ymp1mv.jpg"
           },
           {
            "cast_id": 27,
            "character": "M",
            "credit_id": "52fe426ac3a36847f801cd81",
            "id": 9874,
            "name": "Bernard Lee",
            "order": 9,
            "profile_path": "/vCLXqcJNAijcVrRrJuoduc5VnSd.jpg"
           },
           {
            "cast_id": 28,
            "character": "Miss Moneypenny",
            "credit_id": "52fe426ac3a36847f801cd85",
            "id": 9878,
            "name": "Lois Maxwell",
            "order": 10,
            "profile_path": "/uQneO3fT5H7vmjxusi3lJmm3xT3.jpg"
           },
           {
            "cast_id": 29,
            "character": "Q",
            "credit_id": "52fe426ac3a36847f801cd89",
            "id": 9906,
            "name": "Desmond Llewelyn",
            "order": 11,
            "profile_path": "/kJxILFKzFPSVVkpVsCOW7BWFVfy.jpg"
           },
           {
            "cast_id": 30,
            "character": "Colthorpe",
            "credit_id": "5406412ec3a36843720089f8",
            "id": 33109,
            "name": "James Cossins",
            "order": 12,
            "profile_path": "/2kjM9bIz7h66ysu6AcMAsyj93bv.jpg"
           },
           {
            "cast_id": 31,
            "character": "Chula",
            "credit_id": "54064143c3a3685b740046c7",
            "id": 83676,
            "name": "Yao Lin Chen",
            "order": 13,
            "profile_path": null
           },
           {
            "cast_id": 32,
            "character": "Saida",
            "credit_id": "54064151c3a36816af003f4a",
            "id": 1215738,
            "name": "Carmen du Sautoy",
            "order": 14,
            "profile_path": null
           },
           {
            "cast_id": 33,
            "character": "Lazar",
            "credit_id": "55155717c3a36821e5000d9a",
            "id": 67882,
            "name": "Marne Maitland",
            "order": 15,
            "profile_path": "/y8q7N1D28UmmwuRgt39X2fv6xTa.jpg"
           }
          ],
          "directors": [
           {
            "credit_id": "52fe426ac3a36847f801ccf9",
            "department": "Directing",
            "id": 9915,
            "job": "Director",
            "name": "Guy Hamilton",
            "profile_path": "/dceCLQrZlpEXdZnZLZJpAEqqfnb.jpg"
           }
          ],
          "genres": [
           {
            "id": 28,
            "name": "Action"
           },
           {
            "id": 12,
            "name": "Adventure"
           },
           {
            "id": 53,
            "name": "Thriller"
           }
          ],
          "homepage": "http://www.mgm.com/view/movie/1213/The-Man-with-the-Golden-Gun/",
          "id": 682,
          "imdb_id": "tt0071807",
          "original_language": "en",
          "original_title": "The Man with the Golden Gun",
          "overview": "A golden bullet has 007 engraved on it as it smashes into the secret service headquarters. The bullet came from the professional killer Scaramanga who has yet to miss a target and James Bond begins a mission to try and stop him.",
          "popularity": 1.12398267280476,
          "poster_path": "/p1GcthsL45Z2coCEabJDtflFsjq.jpg",
          "production_companies": [
           {
            "id": 21,
            "name": "Metro-Goldwyn-Mayer"
           },
           {
            "id": 7576,
            "name": "Eon Productions"
           },
           {
            "id": 10761,
            "name": "Danjaq"
           }
          ],
          "production_countries": [
           {
            "iso_3166_1": "GB",
            "name": "United Kingdom"
           },
           {
            "iso_3166_1": "US",
            "name": "United States of America"
           }
          ],
          "release_date": "1974-12-18",
          "revenue": 97572000,
          "runtime": 125,
          "spoken_languages": [
           {
            "iso_639_1": "th",
            "name": "ภาษาไทย"
           },
           {
            "iso_639_1": "cn",
            "name": "广州话 / 廣州話"
           },
           {
            "iso_639_1": "en",
            "name": "English"
           }
          ],
          "status": "Released",
          "tagline": "The man with the golden gun is ready to assassinate James Bond.",
          "title": "The Man with the Golden Gun",
          "video": false,
          "vote_average": 6.1,
          "vote_count": 138
         }
        },
        {
         "_id": "22794",
         "_index": "tmdb",
         "_score": 31.661873,
         "_source": {
          "adult": false,
          "backdrop_path": "/vYovS909jUV3wxms4DmHGjZ1lhw.jpg",
          "belongs_to_collection": {
           "backdrop_path": "/eANL41F9Zp1xHMD6VnHnD3QS7ui.jpg",
           "id": 177467,
           "name": "Cloudy with a Chance of Meatballs Collection",
           "poster_path": "/pRAzOs9cZN8LlhaCKo6LQ0bSfyi.jpg"
          },
          "budget": 100000000,
          "cast": [
           {
            "cast_id": 1,
            "character": "Flint Lockwood (voice)",
            "credit_id": "52fe444fc3a368484e01be1b",
            "id": 19278,
            "name": "Bill Hader",
            "order": 0,
            "profile_path": "/3Z5JsyLw7YTLZgpA3FAlLmFSN9F.jpg"
           },
           {
            "cast_id": 2,
            "character": "Sam Sparks (voice)",
            "credit_id": "52fe444fc3a368484e01be1f",
            "id": 1772,
            "name": "Anna Faris",
            "order": 1,
            "profile_path": "/57MOp6rD37RJNzbhTVMLpbsqwZd.jpg"
           },
           {
            "cast_id": 3,
            "character": "Tim Lockwood (voice)",
            "credit_id": "52fe444fc3a368484e01be23",
            "id": 3085,
            "name": "James Caan",
            "order": 2,
            "profile_path": "/g4bxNXWft1jLZX8gKk4G6ypkTUf.jpg"
           },
           {
            "cast_id": 5,
            "character": "Earl Devereaux (voice)",
            "credit_id": "52fe444fc3a368484e01be27",
            "id": 16619,
            "name": "Mr. T",
            "order": 3,
            "profile_path": "/qOkwEXmkoSIP65BcJlpv48n0vnP.jpg"
           },
           {
            "cast_id": 7,
            "character": "Manny (voice)",
            "credit_id": "52fe444fc3a368484e01be31",
            "id": 4589,
            "name": "Benjamin Bratt",
            "order": 4,
            "profile_path": "/nTJQPpn8OBkFM31rukjxM32rA0F.jpg"
           },
           {
            "cast_id": 8,
            "character": "Mayor Shelbourne (voice)",
            "credit_id": "52fe444fc3a368484e01be35",
            "id": 11357,
            "name": "Bruce Campbell",
            "order": 5,
            "profile_path": "/ox3Mf0pXGEiWfRO2TYcua0EHUQN.jpg"
           },
           {
            "cast_id": 9,
            "character": "Steve (voice)",
            "credit_id": "52fe444fc3a368484e01be39",
            "id": 41686,
            "name": "Neil Patrick Harris",
            "order": 6,
            "profile_path": "/v5sCdjk0zxwSdFT4kmlVwu6M3Hb.jpg"
           },
           {
            "cast_id": 10,
            "character": "Patrick Patrickson (voice)",
            "credit_id": "52fe444fc3a368484e01be3d",
            "id": 111875,
            "name": "Al Roker",
            "order": 7,
            "profile_path": "/gl113PsTnmLTAFCjNthTyXwZJyI.jpg"
           },
           {
            "cast_id": 11,
            "character": "Fran Lockwood (voice)",
            "credit_id": "52fe444fc3a368484e01be41",
            "id": 16858,
            "name": "Lauren Graham",
            "order": 8,
            "profile_path": "/fnNv7OCvO7ySSh1Bf5xNAn5mXGC.jpg"
           },
           {
            "cast_id": 16,
            "character": "'Baby' Brent (voice)",
            "credit_id": "52fe444fc3a368484e01be4b",
            "id": 62861,
            "name": "Andy Samberg",
            "order": 9,
            "profile_path": "/gneiMN0OldoxNfmu6dkcBEy0u2k.jpg"
           },
           {
            "cast_id": 32,
            "character": "Cal Devereaux (voice)",
            "credit_id": "52fe444fc3a368484e01bea3",
            "id": 75633,
            "name": "Bobb'e J. Thompson",
            "order": 10,
            "profile_path": "/egf09lgTqjSmSCxGLTROpkb5ZGS.jpg"
           },
           {
            "cast_id": 33,
            "character": "Joe Towne (voice)",
            "credit_id": "52fe444fc3a368484e01bea7",
            "id": 62831,
            "name": "Will Forte",
            "order": 11,
            "profile_path": "/7f1mhkjuV18FABD3pYKwQA45nUg.jpg"
           },
           {
            "cast_id": 34,
            "character": "Young Flint (voice)",
            "credit_id": "52fe444fc3a368484e01beab",
            "id": 968412,
            "name": "Max Neuwirth",
            "order": 12,
            "profile_path": null
           },
           {
            "cast_id": 35,
            "character": "Rufus (voice)",
            "credit_id": "52fe444fc3a368484e01beaf",
            "id": 154693,
            "name": "Peter Siragusa",
            "order": 13,
            "profile_path": "/ujsyxmkFL2Co1kJeNPPTVQrE9Dq.jpg"
           },
           {
            "cast_id": 36,
            "character": "Regina Devereaux (voice)",
            "credit_id": "52fe444fc3a368484e01beb3",
            "id": 470529,
            "name": "Angela Shelton",
            "order": 14,
            "profile_path": "/svMM0OLs39SSBIVuxSLSkt4J5of.jpg"
           },
           {
            "cast_id": 37,
            "character": "Weather News Network Producer (voice)",
            "credit_id": "52fe444fc3a368484e01beb7",
            "id": 43776,
            "name": "Neil Flynn",
            "order": 15,
            "profile_path": "/2s934K6IOUhtjXul54wJbmkeZhK.jpg"
           },
           {
            "cast_id": 38,
            "character": "Flint's Teacher (voice)",
            "credit_id": "52fe444fc3a368484e01bebb",
            "id": 448309,
            "name": "Liz Cackowski",
            "order": 16,
            "profile_path": null
           },
           {
            "cast_id": 39,
            "character": "(voice)",
            "credit_id": "550e919ec3a3683e7f0020f2",
            "id": 210877,
            "name": "Isabella Acres",
            "order": 17,
            "profile_path": "/xYfOE6mlvuuzQR4nFhleaw8w12V.jpg"
           },
           {
            "cast_id": 40,
            "character": "(voice)",
            "credit_id": "550e9aefc3a368487400a65e",
            "id": 24358,
            "name": "Lori Alan",
            "order": 18,
            "profile_path": "/mNfJWzuaKgkIaK7CuirXOMosd2h.jpg"
           },
           {
            "cast_id": 41,
            "character": "(voice)",
            "credit_id": "550e9d9d925141065c002335",
            "id": 52868,
            "name": "Shane Baumel",
            "order": 19,
            "profile_path": "/lcb0H1H2hPF2RzSeGq2OadilEMy.jpg"
           },
           {
            "cast_id": 42,
            "character": "(voice)",
            "credit_id": "550e9dda925141073d002442",
            "id": 78317,
            "name": "Bob Bergen",
            "order": 20,
            "profile_path": "/kuWDjNTw6OVnc3q1ugMGBYpMMMa.jpg"
           },
           {
            "cast_id": 43,
            "character": "(voice)",
            "credit_id": "550e9e3c925141065c00234f",
            "id": 12095,
            "name": "Cody Cameron",
            "order": 21,
            "profile_path": "/tEVQtTHkBPuqUzER8mvDyy6NaVO.jpg"
           },
           {
            "cast_id": 44,
            "character": "(voice)",
            "credit_id": "550e9e8292514107010023ec",
            "id": 155639,
            "name": "Marsha Clark",
            "order": 22,
            "profile_path": null
           },
           {
            "cast_id": 45,
            "character": "(voice)",
            "credit_id": "550e9eb1c3a3683f39002326",
            "id": 167295,
            "name": "John Cygan",
            "order": 23,
            "profile_path": "/6d0c3tC2wDC79StG2OSt5dAk9Nz.jpg"
           },
           {
            "cast_id": 46,
            "character": "(voice)",
            "credit_id": "550e9ec9925141065c002375",
            "id": 1443837,
            "name": "Ann Dominic",
            "order": 24,
            "profile_path": null
           },
           {
            "cast_id": 47,
            "character": "(voice)",
            "credit_id": "550e9ef6c3a3683dd6002087",
            "id": 86006,
            "name": "Paul Eiding",
            "order": 25,
            "profile_path": "/73yCY9QBAKqFilmVLXATsrIzL2Q.jpg"
           },
           {
            "cast_id": 48,
            "character": "(voice)",
            "credit_id": "550e9f0f92514146990096fb",
            "id": 84495,
            "name": "Jess Harnell",
            "order": 26,
            "profile_path": "/k0BOzEyMkZ1CcoCaohjqTyQJjP1.jpg"
           },
           {
            "cast_id": 49,
            "character": "(voice) (as Gary Hecker)",
            "credit_id": "550e9f3b9251414699009703",
            "id": 1077782,
            "name": "Gary A. Hecker",
            "order": 27,
            "profile_path": null
           },
           {
            "cast_id": 50,
            "character": "(voice)",
            "credit_id": "550ecf4d9251410701002bea",
            "id": 107446,
            "name": "Phil Lord",
            "order": 28,
            "profile_path": "/3xY4veMGydyYHnOG8CjqIg0odi.jpg"
           },
           {
            "cast_id": 51,
            "character": "(voice)",
            "credit_id": "550ecfa09251410701002bf5",
            "id": 214701,
            "name": "Sherry Lynn",
            "order": 29,
            "profile_path": "/kQDSC2z7sb6S5HcpOH6cmeJokKE.jpg"
           },
           {
            "cast_id": 52,
            "character": "(voice)",
            "credit_id": "550ecfe19251416bd100083c",
            "id": 52699,
            "name": "Danny Mann",
            "order": 30,
            "profile_path": "/28JtvJrUIcHM4s8HV84ncxPD7Uv.jpg"
           },
           {
            "cast_id": 53,
            "character": "(voice)",
            "credit_id": "550ed016925141065c002b21",
            "id": 111466,
            "name": "Mona Marshall",
            "order": 31,
            "profile_path": "/9BK7xa1tn6lPIuYOR2fPvUxP6fw.jpg"
           },
           {
            "cast_id": 54,
            "character": "(voice)",
            "credit_id": "550ed03ec3a3681db2009649",
            "id": 84493,
            "name": "Mickie McGowan",
            "order": 32,
            "profile_path": "/k7TjJBfINsg8vLQxJwos6XObAD6.jpg"
           },
           {
            "cast_id": 55,
            "character": "(voice)",
            "credit_id": "550ed06b925141065c002b2e",
            "id": 1230981,
            "name": "Christopher Miller",
            "order": 33,
            "profile_path": null
           },
           {
            "cast_id": 56,
            "character": "(voice)",
            "credit_id": "550ed095925141065c002b38",
            "id": 35159,
            "name": "Laraine Newman",
            "order": 34,
            "profile_path": "/stc0H1GhIaLF4MAHh0rNVgxKlfn.jpg"
           },
           {
            "cast_id": 57,
            "character": "(voice)",
            "credit_id": "550ed2949251414699009f01",
            "id": 157626,
            "name": "Jan Rabson",
            "order": 35,
            "profile_path": "/lXPM1S9m2YKlSEzMQBWVLnydmyZ.jpg"
           },
           {
            "cast_id": 58,
            "character": "(voice)",
            "credit_id": "550ed2d3c3a3683f39002b36",
            "id": 946462,
            "name": "Grace Rolek",
            "order": 36,
            "profile_path": "/ejn2P2z5KwnLHxNmxHwLCCDuIph.jpg"
           },
           {
            "cast_id": 59,
            "character": "(voice)",
            "credit_id": "550ed308c3a3683f0a0029ec",
            "id": 204131,
            "name": "Jeremy Shada",
            "order": 37,
            "profile_path": "/oyBtYOnOCSp2yX8shxqoQsqtBF9.jpg"
           },
           {
            "cast_id": 60,
            "character": "(voice)",
            "credit_id": "550ed33992514146a000a033",
            "id": 1281596,
            "name": "Will Shadley",
            "order": 38,
            "profile_path": "/lXftbxNXncsiYBBXXTVrVYmiASF.jpg"
           },
           {
            "cast_id": 61,
            "character": "(voice)",
            "credit_id": "550ed377c3a368487400afb9",
            "id": 587697,
            "name": "Melissa Sturm",
            "order": 39,
            "profile_path": null
           },
           {
            "cast_id": 62,
            "character": "(voice)",
            "credit_id": "550ed3a992514164ac000993",
            "id": 42160,
            "name": "Ariel Winter",
            "order": 40,
            "profile_path": "/268OydCvx5y5rpK1S9swMSZZtvW.jpg"
           }
          ],
          "directors": [
           {
            "credit_id": "52fe444fc3a368484e01be2d",
            "department": "Directing",
            "id": 107446,
            "job": "Director",
            "name": "Phil Lord",
            "profile_path": "/3xY4veMGydyYHnOG8CjqIg0odi.jpg"
           },
           {
            "credit_id": "52fe444fc3a368484e01be47",
            "department": "Directing",
            "id": 155267,
            "job": "Director",
            "name": "Chris Miller",
            "profile_path": "/tBJhILp15Gvog1qkeTkYhtb7NBW.jpg"
           }
          ],
          "genres": [
           {
            "id": 16,
            "name": "Animation"
           },
           {
            "id": 35,
            "name": "Comedy"
           },
           {
            "id": 10751,
            "name": "Family"
           }
          ],
          "homepage": "http://www.cloudywithachanceofmeatballs.com/",
          "id": 22794,
          "imdb_id": "tt0844471",
          "original_language": "en",
          "original_title": "Cloudy with a Chance of Meatballs",
          "overview": "Inventor Flint Lockwood creates a machine that makes clouds rain food, enabling the down-and-out citizens of Chewandswallow to feed themselves. But when the falling food reaches gargantuan proportions, Flint must scramble to avert disaster. Can he regain control of the machine and put an end to the wild weather before the town is destroyed?",
          "popularity": 1.31642694930513,
          "poster_path": "/75QV0rNm6QHpMnpIGrZK0ev08rH.jpg",
          "production_companies": [
           {
            "id": 2251,
            "name": "Sony Pictures Animation"
           },
           {
            "id": 5,
            "name": "Columbia Pictures"
           }
          ],
          "production_countries": [
           {
            "iso_3166_1": "US",
            "name": "United States of America"
           }
          ],
          "release_date": "2009-09-16",
          "revenue": 242988466,
          "runtime": 90,
          "spoken_languages": [
           {
            "iso_639_1": "en",
            "name": "English"
           }
          ],
          "status": "Released",
          "tagline": "Prepare to get served.",
          "title": "Cloudy with a Chance of Meatballs",
          "video": false,
          "vote_average": 6.3,
          "vote_count": 640
         }
        },
        {
         "_id": "15472",
         "_index": "tmdb",
         "_score": 31.661873,
         "_source": {
          "adult": false,
          "backdrop_path": "/7ajX2OJsBecgDDOYfk9VXYfhMIy.jpg",
          "belongs_to_collection": {
           "backdrop_path": "/9wLsZPhI7ZafO4fh1MhwCjvkclN.jpg",
           "id": 24761,
           "name": "The Millennium Collection",
           "poster_path": "/sLeE5pwX9cle1v1TpBylT9MeYJ2.jpg"
          },
          "budget": 13000000,
          "cast": [
           {
            "cast_id": 2,
            "character": "Mikael Blomkvist",
            "credit_id": "52fe465d9251416c75075fb7",
            "id": 6283,
            "name": "Michael Nyqvist",
            "order": 0,
            "profile_path": "/bDjPDDiSna8FN5rqHdheg2wIYYo.jpg"
           },
           {
            "cast_id": 1,
            "character": "Lisbeth Salander",
            "credit_id": "52fe465d9251416c75075fb3",
            "id": 87722,
            "name": "Noomi Rapace",
            "order": 1,
            "profile_path": "/nFD1t8MSFpgNcFgOLwEj9es9u2H.jpg"
           },
           {
            "cast_id": 7,
            "character": "Erika Berger",
            "credit_id": "52fe465d9251416c75075fcb",
            "id": 79196,
            "name": "Lena Endre",
            "order": 2,
            "profile_path": "/AqDZhToc9r7tixhz2PQy6MWoIYr.jpg"
           },
           {
            "cast_id": 3,
            "character": "Henrik Vanger",
            "credit_id": "52fe465d9251416c75075fbb",
            "id": 87723,
            "name": "Sven-Bertil Taube",
            "order": 3,
            "profile_path": "/e4ra4ZFKQ5zDijQHh0x3TlGApWW.jpg"
           },
           {
            "cast_id": 4,
            "character": "Nils Bjurman",
            "credit_id": "52fe465d9251416c75075fbf",
            "id": 21193,
            "name": "Peter Andersson",
            "order": 4,
            "profile_path": "/lWbWHUMAeEmTuNyXBMSzqzCbFOc.jpg"
           },
           {
            "cast_id": 5,
            "character": "Martin Vanger",
            "credit_id": "52fe465d9251416c75075fc3",
            "id": 74709,
            "name": "Peter Haber",
            "order": 5,
            "profile_path": "/fMbTKyLcfrcyFi0rdCqayYnNAh0.jpg"
           },
           {
            "cast_id": 6,
            "character": "Cecilia Vanger",
            "credit_id": "52fe465d9251416c75075fc7",
            "id": 87724,
            "name": "Marika Lagercrantz",
            "order": 6,
            "profile_path": "/9SrJ2SZLLy5ApqZScf17s98myTr.jpg"
           },
           {
            "cast_id": 15,
            "character": "'Plague'",
            "credit_id": "52fe465d9251416c75075fe7",
            "id": 87727,
            "name": "Tomas Köhler",
            "order": 7,
            "profile_path": null
           },
           {
            "cast_id": 9,
            "character": "Harald Vanger",
            "credit_id": "52fe465d9251416c75075fcf",
            "id": 87725,
            "name": "Gösta Bredefeldt",
            "order": 9,
            "profile_path": "/qWdzGtD2UsMLh87ytEJDUAFvtCc.jpg"
           },
           {
            "cast_id": 10,
            "character": "Gustav Morell",
            "credit_id": "52fe465d9251416c75075fd3",
            "id": 55002,
            "name": "Björn Granath",
            "order": 10,
            "profile_path": "/vnAD5t7vyCP7GPicOa2bB3WXJxD.jpg"
           },
           {
            "cast_id": 11,
            "character": "Harriet Vanger",
            "credit_id": "52fe465d9251416c75075fd7",
            "id": 46866,
            "name": "Ewa Fröling",
            "order": 11,
            "profile_path": "/9qZewaRRpxzKfOZyJ6KFx5eqoyl.jpg"
           },
           {
            "cast_id": 12,
            "character": "Hans-Erik Wennerström",
            "credit_id": "52fe465d9251416c75075fdb",
            "id": 55886,
            "name": "Stefan Sauk",
            "order": 12,
            "profile_path": "/f2H1BUukQbd1pnVuq38anpqsdTr.jpg"
           },
           {
            "cast_id": 13,
            "character": "Isabella Vanger",
            "credit_id": "52fe465d9251416c75075fdf",
            "id": 6662,
            "name": "Gunnel Lindblom",
            "order": 13,
            "profile_path": "/pvyxNIdjoNBPGT3Ig8cKu97yTXo.jpg"
           },
           {
            "cast_id": 14,
            "character": "Birger Vanger",
            "credit_id": "52fe465d9251416c75075fe3",
            "id": 87726,
            "name": "Willie Andréason",
            "order": 14,
            "profile_path": null
           },
           {
            "cast_id": 20,
            "character": "Dirch Frode",
            "credit_id": "52fe465d9251416c75076003",
            "id": 47070,
            "name": "Ingvar Hirdwall",
            "order": 15,
            "profile_path": "/uYpw3FrLBMdkdBuZ3yqNPBE7gMr.jpg"
           },
           {
            "cast_id": 26,
            "character": "Annika Giannini",
            "credit_id": "53d4de610e0a26283e003c2e",
            "id": 79270,
            "name": "Annika Hallin",
            "order": 16,
            "profile_path": "/xvbhvw0Zt8SCNXVApudzZfd6X2p.jpg"
           },
           {
            "cast_id": 27,
            "character": "Malin Erikson",
            "credit_id": "53d4de8a0e0a262844003ba7",
            "id": 83899,
            "name": "Sofia Ledarp",
            "order": 17,
            "profile_path": "/wYtfaMlSFX7iDpk00xtVuz0Hzof.jpg"
           },
           {
            "cast_id": 28,
            "character": "Janne Dahlman",
            "credit_id": "53d4debc0e0a26284a003aa3",
            "id": 93236,
            "name": "David Dencik",
            "order": 18,
            "profile_path": "/h6ndLvEolmMOQs2hhbSEZMomSUu.jpg"
           },
           {
            "cast_id": 29,
            "character": "Dragan Armanskij",
            "credit_id": "53d4deeb0e0a26283e003c37",
            "id": 92897,
            "name": "Michalis Koutsogiannakis",
            "order": 19,
            "profile_path": "/ne1BlRr5i2yFTC7vj8MQoznACPf.jpg"
           },
           {
            "cast_id": 30,
            "character": "Miriam 'Mimmi' Wu",
            "credit_id": "53d4e7d8c3a3686b880036c8",
            "id": 234908,
            "name": "Yasmine Garbi",
            "order": 20,
            "profile_path": null
           }
          ],
          "directors": [
           {
            "credit_id": "52fe465d9251416c75075fed",
            "department": "Directing",
            "id": 19346,
            "job": "Director",
            "name": "Niels Arden Oplev",
            "profile_path": "/kC0qwxbWkZkWC3zT8w8x6xatHq1.jpg"
           }
          ],
          "genres": [
           {
            "id": 80,
            "name": "Crime"
           },
           {
            "id": 18,
            "name": "Drama"
           },
           {
            "id": 9648,
            "name": "Mystery"
           },
           {
            "id": 53,
            "name": "Thriller"
           }
          ],
          "homepage": "http://dragontattoofilm.com/",
          "id": 15472,
          "imdb_id": "tt1132620",
          "original_language": "sv",
          "original_title": "Män som hatar kvinnor",
          "overview": "Swedish thriller based on Stieg Larsson's novel about a male journalist and a young female hacker. In the opening of the movie, Mikael Blomkvist, a middle-aged publisher for the magazine Millennium, loses a libel case brought by corrupt Swedish industrialist Hans-Erik Wennerström. Nevertheless, he is hired by Henrik Vanger in order to solve a cold case, the disappearance of Vanger's niece",
          "popularity": 0.993895849661728,
          "poster_path": "/9pRod9YBfBwC0tPfMijhYSdSlwU.jpg",
          "production_companies": [
           {
            "id": 118,
            "name": "Det Danske Filminstitut"
           },
           {
            "id": 235,
            "name": "Nordisk Film"
           },
           {
            "id": 3221,
            "name": "Sveriges Television (SVT)"
           },
           {
            "id": 4606,
            "name": "Zweites Deutsches Fernsehen (ZDF)"
           },
           {
            "id": 5746,
            "name": "Yellow Bird Films"
           },
           {
            "id": 6417,
            "name": "Film i Väst"
           },
           {
            "id": 33821,
            "name": "Filmpool Stockholm Mälardalen"
           },
           {
            "id": 33822,
            "name": "Spiltan Underhållning"
           },
           {
            "id": 7446,
            "name": "Svenska Filminstitutet (SFI)"
           },
           {
            "id": 5403,
            "name": "Nordisk Film & TV Fond"
           }
          ],
          "production_countries": [
           {
            "iso_3166_1": "DE",
            "name": "Germany"
           },
           {
            "iso_3166_1": "DK",
            "name": "Denmark"
           },
           {
            "iso_3166_1": "SE",
            "name": "Sweden"
           }
          ],
          "release_date": "2009-02-27",
          "revenue": 104345682,
          "runtime": 152,
          "spoken_languages": [
           {
            "iso_639_1": "sv",
            "name": "svenska"
           },
           {
            "iso_639_1": "en",
            "name": "English"
           }
          ],
          "status": "Released",
          "tagline": "Based on the Worldwide Best Seller",
          "title": "The Girl with the Dragon Tattoo",
          "video": false,
          "vote_average": 7.1,
          "vote_count": 341
         }
        },
        {
         "_id": "97430",
         "_index": "tmdb",
         "_score": 31.661873,
         "_source": {
          "adult": false,
          "backdrop_path": "/tMAQEmldiSl3LYri4vOkqbeZvNL.jpg",
          "belongs_to_collection": {
           "backdrop_path": "/nZ5zXUwlkUZVgMHz07e43Nj9Ybs.jpg",
           "id": 334356,
           "name": "The Man with the Iron Fists",
           "poster_path": "/fthbrFcFkm3YK2tend3F0zAXnvc.jpg"
          },
          "budget": 15000000,
          "cast": [
           {
            "cast_id": 3,
            "character": "Jack Knife",
            "credit_id": "52fe49df9251416c750d628b",
            "id": 934,
            "name": "Russell Crowe",
            "order": 0,
            "profile_path": "/784nHLVWdenOyVkrZEbNLLOpU5a.jpg"
           },
           {
            "cast_id": 5,
            "character": "Madame Blossom",
            "credit_id": "52fe49df9251416c750d6293",
            "id": 140,
            "name": "Lucy Liu",
            "order": 1,
            "profile_path": "/cOSycUPBNi49YcPHo4Rf7ROHqCC.jpg"
           },
           {
            "cast_id": 4,
            "character": "Lady Silk",
            "credit_id": "52fe49df9251416c750d628f",
            "id": 78324,
            "name": "Jamie Chung",
            "order": 2,
            "profile_path": "/99vO72TfiweEMShZUL9lE7oOhYw.jpg"
           },
           {
            "cast_id": 28,
            "character": "Blacksmith",
            "credit_id": "52fe49df9251416c750d62f3",
            "id": 150,
            "name": "RZA",
            "order": 3,
            "profile_path": "/v5bwcyzUWVqjmczWu4PrdwnL6t6.jpg"
           },
           {
            "cast_id": 15,
            "character": "Chi Chi",
            "credit_id": "52fe49df9251416c750d62c7",
            "id": 1077356,
            "name": "Zhu Zhu",
            "order": 4,
            "profile_path": "/zJ1lYPLMC53rCZfkFurmmwp9hDC.jpg"
           },
           {
            "cast_id": 16,
            "character": "Brass Body",
            "credit_id": "52fe49df9251416c750d62cb",
            "id": 543530,
            "name": "Dave Bautista",
            "order": 5,
            "profile_path": "/21bkLWMVWkSWy0KHrvJrfZFJ94V.jpg"
           },
           {
            "cast_id": 17,
            "character": "Bronze Lion",
            "credit_id": "52fe49df9251416c750d62cf",
            "id": 116637,
            "name": "Cung Le",
            "order": 6,
            "profile_path": "/hyvxMKFUFQ6RNBHYsYiXJSSAeRX.jpg"
           },
           {
            "cast_id": 18,
            "character": "Zen Yi, The X-Blade",
            "credit_id": "52fe49df9251416c750d62d3",
            "id": 10883,
            "name": "Rick Yune",
            "order": 7,
            "profile_path": "/hIlMvrUSwzOxu7dIoNeVFd2jKUM.jpg"
           },
           {
            "cast_id": 34,
            "character": "The Abbott",
            "credit_id": "52fe49df9251416c750d630b",
            "id": 240171,
            "name": "Gordon Liu Chia-Hui",
            "order": 8,
            "profile_path": "/yTI36A27P9YdFbzrCwjpmEpDGbR.jpg"
           },
           {
            "cast_id": 20,
            "character": "Jasmine",
            "credit_id": "52fe49df9251416c750d62d7",
            "id": 144503,
            "name": "Mary Christina Brown",
            "order": 9,
            "profile_path": null
           },
           {
            "cast_id": 21,
            "character": "Chan",
            "credit_id": "52fe49df9251416c750d62db",
            "id": 8178,
            "name": "Jin Auyeung",
            "order": 10,
            "profile_path": "/kQIGxSJSAcc3zK37zRCGuhxdNmL.jpg"
           },
           {
            "cast_id": 22,
            "character": "Silver Lion",
            "credit_id": "52fe49df9251416c750d62df",
            "id": 57748,
            "name": "Byron Mann",
            "order": 11,
            "profile_path": "/fF6ZlpZ8Jj5iiI5LQjSlaemeNe5.jpg"
           },
           {
            "cast_id": 24,
            "character": "Senior Monk",
            "credit_id": "52fe49df9251416c750d62e3",
            "id": 1115351,
            "name": "Andrew Ng",
            "order": 12,
            "profile_path": null
           },
           {
            "cast_id": 25,
            "character": "Gold Lion",
            "credit_id": "52fe49df9251416c750d62e7",
            "id": 88351,
            "name": "Chen Kuan-Tai",
            "order": 13,
            "profile_path": "/7MLe05oLIhaG7W7iGEFS8v21QHD.jpg"
           },
           {
            "cast_id": 26,
            "character": "Copper Lion",
            "credit_id": "52fe49df9251416c750d62eb",
            "id": 965554,
            "name": "Yoyao Hsueh",
            "order": 14,
            "profile_path": null
           },
           {
            "cast_id": 27,
            "character": "Iron Lion",
            "credit_id": "52fe49df9251416c750d62ef",
            "id": 1115352,
            "name": "Telly Liu",
            "order": 15,
            "profile_path": null
           },
           {
            "cast_id": 29,
            "character": "Gemini Female",
            "credit_id": "52fe49df9251416c750d62f7",
            "id": 931264,
            "name": "Grace Huang",
            "order": 16,
            "profile_path": "/ywiPjy5TbCIuvAXhxlFzkRlPH0S.jpg"
           },
           {
            "cast_id": 30,
            "character": "Gemini Male",
            "credit_id": "52fe49df9251416c750d62fb",
            "id": 130562,
            "name": "Andrew Lin",
            "order": 17,
            "profile_path": "/gFWleSQOWPxFhqirKzUA5GPTasc.jpg"
           },
           {
            "cast_id": 31,
            "character": "Jane",
            "credit_id": "52fe49df9251416c750d62ff",
            "id": 2230,
            "name": "Pam Grier",
            "order": 18,
            "profile_path": "/8NaNIFhKySQ2fkwSlhoOGFgqtHO.jpg"
           },
           {
            "cast_id": 32,
            "character": "Governor",
            "credit_id": "52fe49df9251416c750d6303",
            "id": 74196,
            "name": "Terence Yin",
            "order": 19,
            "profile_path": "/tmkFxlLN2fLMj2qrwzicpgW9lhG.jpg"
           },
           {
            "cast_id": 33,
            "character": "Poison Dagger",
            "credit_id": "52fe49df9251416c750d6307",
            "id": 64436,
            "name": "Daniel Wu",
            "order": 20,
            "profile_path": "/ledeaJcDtVCwGbz6KDcQDSEZ9aa.jpg"
           }
          ],
          "directors": [
           {
            "credit_id": "52fe49df9251416c750d629f",
            "department": "Directing",
            "id": 150,
            "job": "Director",
            "name": "RZA",
            "profile_path": "/v5bwcyzUWVqjmczWu4PrdwnL6t6.jpg"
           }
          ],
          "genres": [
           {
            "id": 28,
            "name": "Action"
           }
          ],
          "homepage": "",
          "id": 97430,
          "imdb_id": "tt1258972",
          "original_language": "en",
          "original_title": "The Man with the Iron Fists",
          "overview": "In feudal China, a blacksmith who makes weapons for a small village is put in the position where he must defend himself and his fellow villagers.",
          "popularity": 1.26698078500966,
          "poster_path": "/rYnPhYmG4qyWSXRmVUlzmlA0RFg.jpg",
          "production_companies": [
           {
            "id": 11112,
            "name": "Arcade Pictures"
           },
           {
            "id": 11113,
            "name": "Iron Fists"
           }
          ],
          "production_countries": [
           {
            "iso_3166_1": "CN",
            "name": "China"
           },
           {
            "iso_3166_1": "US",
            "name": "United States of America"
           }
          ],
          "release_date": "2012-11-02",
          "revenue": 15608545,
          "runtime": 96,
          "spoken_languages": [
           {
            "iso_639_1": "en",
            "name": "English"
           }
          ],
          "status": "Released",
          "tagline": "You can't spell Kung Fu without F and U!",
          "title": "The Man with the Iron Fists",
          "video": false,
          "vote_average": 5.3,
          "vote_count": 150
         }
        },
        {
         "_id": "24253",
         "_index": "tmdb",
         "_score": 31.661873,
         "_source": {
          "adult": false,
          "backdrop_path": "/qMDiCjxfv6Y8JN2DFViTX5D1ORH.jpg",
          "belongs_to_collection": {
           "backdrop_path": "/9wLsZPhI7ZafO4fh1MhwCjvkclN.jpg",
           "id": 24761,
           "name": "The Millennium Collection",
           "poster_path": "/sLeE5pwX9cle1v1TpBylT9MeYJ2.jpg"
          },
          "budget": 4000000,
          "cast": [
           {
            "cast_id": 2,
            "character": "Mikael Blomkvist",
            "credit_id": "52fe448cc3a368484e029195",
            "id": 6283,
            "name": "Michael Nyqvist",
            "order": 0,
            "profile_path": "/bDjPDDiSna8FN5rqHdheg2wIYYo.jpg"
           },
           {
            "cast_id": 1,
            "character": "Lisbeth Salander",
            "credit_id": "52fe448cc3a368484e029191",
            "id": 87722,
            "name": "Noomi Rapace",
            "order": 1,
            "profile_path": "/nFD1t8MSFpgNcFgOLwEj9es9u2H.jpg"
           },
           {
            "cast_id": 3,
            "character": "Erika Berger",
            "credit_id": "52fe448cc3a368484e029199",
            "id": 79196,
            "name": "Lena Endre",
            "order": 2,
            "profile_path": "/AqDZhToc9r7tixhz2PQy6MWoIYr.jpg"
           },
           {
            "cast_id": 5,
            "character": "Nils Bjurman",
            "credit_id": "52fe448cc3a368484e0291a1",
            "id": 21193,
            "name": "Peter Andersson",
            "order": 3,
            "profile_path": "/lWbWHUMAeEmTuNyXBMSzqzCbFOc.jpg"
           },
           {
            "cast_id": 6,
            "character": "Annika Giannini",
            "credit_id": "52fe448cc3a368484e0291a5",
            "id": 79270,
            "name": "Annika Hallin",
            "order": 4,
            "profile_path": "/xvbhvw0Zt8SCNXVApudzZfd6X2p.jpg"
           },
           {
            "cast_id": 8,
            "character": "Holger Palmgren",
            "credit_id": "52fe448cc3a368484e0291ad",
            "id": 3855,
            "name": "Per Oscarsson",
            "order": 5,
            "profile_path": "/qCSUP6c7jz8kgJrGEX4tKDf8emr.jpg"
           },
           {
            "cast_id": 4,
            "character": "Malin Erikson",
            "credit_id": "52fe448cc3a368484e02919d",
            "id": 83899,
            "name": "Sofia Ledarp",
            "order": 6,
            "profile_path": "/wYtfaMlSFX7iDpk00xtVuz0Hzof.jpg"
           },
           {
            "cast_id": 7,
            "character": "Ronald Niedermann",
            "credit_id": "52fe448cc3a368484e0291a9",
            "id": 92644,
            "name": "Micke Spreitz",
            "order": 7,
            "profile_path": null
           },
           {
            "cast_id": 9,
            "character": "Alexander Zalachenko",
            "credit_id": "52fe448cc3a368484e0291b1",
            "id": 92645,
            "name": "Georgi Staykov",
            "order": 8,
            "profile_path": "/uuf8Vkg1hU3jeT1gE0H98UE56Lz.jpg"
           },
           {
            "cast_id": 18,
            "character": "Himself",
            "credit_id": "53d4e67d0e0a262844003c38",
            "id": 929148,
            "name": "Paolo Roberto",
            "order": 9,
            "profile_path": null
           },
           {
            "cast_id": 19,
            "character": "Miriam 'Mimmi' Wu",
            "credit_id": "53d4e6b80e0a262838003cac",
            "id": 234908,
            "name": "Yasmine Garbi",
            "order": 10,
            "profile_path": null
           },
           {
            "cast_id": 20,
            "character": "Ronald Niedermann",
            "credit_id": "53d4e831c3a3686b910038ec",
            "id": 92644,
            "name": "Micke Spreitz",
            "order": 11,
            "profile_path": null
           },
           {
            "cast_id": 21,
            "character": "Sonja Modig",
            "credit_id": "53d4e875c3a3686b85003792",
            "id": 106659,
            "name": "Tanja Lorentzon",
            "order": 12,
            "profile_path": null
           },
           {
            "cast_id": 22,
            "character": "Hans Faste",
            "credit_id": "53d4e89dc3a3686b910038f8",
            "id": 143391,
            "name": "Magnus Krepper",
            "order": 13,
            "profile_path": "/iHJ5HM0bV5UfogcOobnKJtyJklf.jpg"
           },
           {
            "cast_id": 23,
            "character": "Gunnar Björk",
            "credit_id": "53d4e8cbc3a3686b940036d8",
            "id": 114580,
            "name": "Ralph Carlsson",
            "order": 14,
            "profile_path": null
           },
           {
            "cast_id": 24,
            "character": "Dag Svensson",
            "credit_id": "53d4e921c3a3686b91003909",
            "id": 1042033,
            "name": "Hans-Christian Thulin",
            "order": 15,
            "profile_path": null
           },
           {
            "cast_id": 25,
            "character": "Dragan Armanskij",
            "credit_id": "53d4e954c3a3686b850037ab",
            "id": 92897,
            "name": "Michalis Koutsogiannakis",
            "order": 16,
            "profile_path": "/ne1BlRr5i2yFTC7vj8MQoznACPf.jpg"
           }
          ],
          "directors": [
           {
            "credit_id": "52fe448cc3a368484e0291b7",
            "department": "Directing",
            "id": 76325,
            "job": "Director",
            "name": "Daniel Alfredson",
            "profile_path": "/252U4sFKLzHLb53Lha2pG5D01Gb.jpg"
           }
          ],
          "genres": [
           {
            "id": 28,
            "name": "Action"
           },
           {
            "id": 80,
            "name": "Crime"
           },
           {
            "id": 18,
            "name": "Drama"
           },
           {
            "id": 9648,
            "name": "Mystery"
           },
           {
            "id": 53,
            "name": "Thriller"
           }
          ],
          "homepage": "http://dragontattoofilm.com/about-5/the-girl-who-played-with-fire/",
          "id": 24253,
          "imdb_id": "tt1216487",
          "original_language": "sv",
          "original_title": "Flickan som lekte med elden",
          "overview": "Mikael Blomkvist, publisher of Millennium magazine, has made his living exposing the crooked and corrupt practices of establishment Swedish figures. So when a young journalist approaches him with a meticulously researched thesis about sex trafficking in Sweden and those in high office who abuse underage girls, Blomkvist immediately throws himself into the investigation.",
          "popularity": 0.549630484644865,
          "poster_path": "/qHRpU2d9NWB0WDulwgFwg6a9JRK.jpg",
          "production_companies": [
           {
            "id": 7446,
            "name": "Svenska Filminstitutet (SFI)"
           },
           {
            "id": 5747,
            "name": "ZDF Enterprises"
           },
           {
            "id": 3221,
            "name": "Sveriges Television (SVT)"
           },
           {
            "id": 235,
            "name": "Nordisk Film"
           },
           {
            "id": 4606,
            "name": "Zweites Deutsches Fernsehen (ZDF)"
           },
           {
            "id": 33821,
            "name": "Filmpool Stockholm Mälardalen"
           },
           {
            "id": 17513,
            "name": "Film i Väst"
           },
           {
            "id": 33822,
            "name": "Spiltan Underhållning"
           }
          ],
          "production_countries": [
           {
            "iso_3166_1": "DE",
            "name": "Germany"
           },
           {
            "iso_3166_1": "DK",
            "name": "Denmark"
           },
           {
            "iso_3166_1": "SE",
            "name": "Sweden"
           }
          ],
          "release_date": "2009-09-18",
          "revenue": 66995253,
          "runtime": 129,
          "spoken_languages": [
           {
            "iso_639_1": "sv",
            "name": "svenska"
           },
           {
            "iso_639_1": "it",
            "name": "Italiano"
           },
           {
            "iso_639_1": "fr",
            "name": "Français"
           }
          ],
          "status": "Released",
          "tagline": "Fight Fire with Fire",
          "title": "The Girl Who Played with Fire",
          "video": false,
          "vote_average": 6.9,
          "vote_count": 206
         }
        },
        {
         "_id": "109451",
         "_index": "tmdb",
         "_score": 28.784897,
         "_source": {
          "adult": false,
          "backdrop_path": "/3RaqDhBxvGUPCROtZUaWxjh3ynD.jpg",
          "belongs_to_collection": {
           "backdrop_path": "/eANL41F9Zp1xHMD6VnHnD3QS7ui.jpg",
           "id": 177467,
           "name": "Cloudy with a Chance of Meatballs Collection",
           "poster_path": "/pRAzOs9cZN8LlhaCKo6LQ0bSfyi.jpg"
          },
          "budget": 78000000,
          "cast": [
           {
            "cast_id": 9,
            "character": "Steve (voice)",
            "credit_id": "52fe4ab8c3a36847f81ddf7b",
            "id": 41686,
            "name": "Neil Patrick Harris",
            "order": 0,
            "profile_path": "/v5sCdjk0zxwSdFT4kmlVwu6M3Hb.jpg"
           },
           {
            "cast_id": 10,
            "character": "Sam Sparks (voice)",
            "credit_id": "52fe4ab8c3a36847f81ddf7f",
            "id": 1772,
            "name": "Anna Faris",
            "order": 1,
            "profile_path": "/57MOp6rD37RJNzbhTVMLpbsqwZd.jpg"
           },
           {
            "cast_id": 11,
            "character": "Earl Devereaux (voice)",
            "credit_id": "52fe4ab8c3a36847f81ddf83",
            "id": 53256,
            "name": "Terry Crews",
            "order": 2,
            "profile_path": "/p2JIlYNwjC5ASfmVXvy30DVzXyG.jpg"
           },
           {
            "cast_id": 12,
            "character": "Tim Lockwood (voice)",
            "credit_id": "52fe4ab8c3a36847f81ddf87",
            "id": 3085,
            "name": "James Caan",
            "order": 3,
            "profile_path": "/g4bxNXWft1jLZX8gKk4G6ypkTUf.jpg"
           },
           {
            "cast_id": 13,
            "character": "Baby Brent (voice)",
            "credit_id": "52fe4ab8c3a36847f81ddf8b",
            "id": 62861,
            "name": "Andy Samberg",
            "order": 4,
            "profile_path": "/gneiMN0OldoxNfmu6dkcBEy0u2k.jpg"
           },
           {
            "cast_id": 14,
            "character": "Barb (voice)",
            "credit_id": "52fe4ab8c3a36847f81ddf8f",
            "id": 109869,
            "name": "Kristen Schaal",
            "order": 5,
            "profile_path": "/rn84XtsczLSvJOWWNXLocaLx2df.jpg"
           },
           {
            "cast_id": 15,
            "character": "Flint Lockwood (voice)",
            "credit_id": "52fe4ab8c3a36847f81ddf93",
            "id": 19278,
            "name": "Bill Hader",
            "order": 6,
            "profile_path": "/3Z5JsyLw7YTLZgpA3FAlLmFSN9F.jpg"
           },
           {
            "cast_id": 16,
            "character": "Manny (voice)",
            "credit_id": "52fe4ab8c3a36847f81ddf97",
            "id": 4589,
            "name": "Benjamin Bratt",
            "order": 7,
            "profile_path": "/nTJQPpn8OBkFM31rukjxM32rA0F.jpg"
           },
           {
            "cast_id": 17,
            "character": "Chester V (voice)",
            "credit_id": "52fe4ab8c3a36847f81ddf9b",
            "id": 62831,
            "name": "Will Forte",
            "order": 8,
            "profile_path": "/7f1mhkjuV18FABD3pYKwQA45nUg.jpg"
           },
           {
            "cast_id": 19,
            "character": "Sentinel Louise (voice)",
            "credit_id": "52fe4ab8c3a36847f81ddfa5",
            "id": 587697,
            "name": "Melissa Sturm",
            "order": 9,
            "profile_path": null
           },
           {
            "cast_id": 20,
            "character": "Cal Devereaux (voice)",
            "credit_id": "52fe4ab8c3a36847f81ddfa9",
            "id": 87056,
            "name": "Khamani Griffin",
            "order": 10,
            "profile_path": "/6gpZY25Hc1B4MgBTrfgP1KxnAP5.jpg"
           },
           {
            "cast_id": 21,
            "character": "Barry/ Dill Pickle (voice)",
            "credit_id": "52fe4ab8c3a36847f81ddfad",
            "id": 12095,
            "name": "Cody Cameron",
            "order": 11,
            "profile_path": "/tEVQtTHkBPuqUzER8mvDyy6NaVO.jpg"
           }
          ],
          "directors": [
           {
            "credit_id": "52fe4ab8c3a36847f81ddf4d",
            "department": "Directing",
            "id": 12095,
            "job": "Director",
            "name": "Cody Cameron",
            "profile_path": "/tEVQtTHkBPuqUzER8mvDyy6NaVO.jpg"
           },
           {
            "credit_id": "52fe4ab8c3a36847f81ddf53",
            "department": "Directing",
            "id": 1046494,
            "job": "Director",
            "name": "Kris Pearn",
            "profile_path": null
           }
          ],
          "genres": [
           {
            "id": 16,
            "name": "Animation"
           },
           {
            "id": 35,
            "name": "Comedy"
           },
           {
            "id": 10751,
            "name": "Family"
           }
          ],
          "homepage": "",
          "id": 109451,
          "imdb_id": "tt1985966",
          "original_language": "en",
          "original_title": "Cloudy with a Chance of Meatballs 2",
          "overview": "After the disastrous food storm in the first film, Flint and his friends are forced to leave the town. Flint accepts the invitation from his idol Chester V to join The Live Corp Company, which has been tasked to clean the island, and where the best inventors in the world create technologies for the betterment of mankind. When Flint discovers that his machine still operates and now creates mutant food beasts like living pickles, hungry tacodiles, shrimpanzees and apple pie-thons, he and his friends must return to save the world.",
          "popularity": 1.72016311993001,
          "poster_path": "/oZjluB568NJVtRrny4rpeApGuNi.jpg",
          "production_companies": [
           {
            "id": 649,
            "name": "Sony"
           },
           {
            "id": 5,
            "name": "Columbia Pictures"
           }
          ],
          "production_countries": [
           {
            "iso_3166_1": "US",
            "name": "United States of America"
           }
          ],
          "release_date": "2013-09-27",
          "revenue": 248384621,
          "runtime": 95,
          "spoken_languages": [
           {
            "iso_639_1": "en",
            "name": "English"
           }
          ],
          "status": "Released",
          "tagline": "Something big was leftover.",
          "title": "Cloudy with a Chance of Meatballs 2",
          "video": false,
          "vote_average": 6.7,
          "vote_count": 319
         }
        },
        {
         "_id": "72197",
         "_index": "tmdb",
         "_score": 28.784897,
         "_source": {
          "adult": false,
          "backdrop_path": "/yJT2JCdjtuH5K202bC4YL0wOYD2.jpg",
          "belongs_to_collection": null,
          "budget": 60000000,
          "cast": [
           {
            "cast_id": 1,
            "character": "Pirate Captain (voice)",
            "credit_id": "52fe485dc3a368484e0f51c7",
            "id": 3291,
            "name": "Hugh Grant",
            "order": 0,
            "profile_path": "/r3rSJLJwKmsJyPA3gojzuMthJ4C.jpg"
           },
           {
            "cast_id": 2,
            "character": "The Pirate with Gout (voice)",
            "credit_id": "52fe485dc3a368484e0f51cb",
            "id": 2039,
            "name": "Brendan Gleeson",
            "order": 1,
            "profile_path": "/pUTBk2sqFgg4aFBXHckD0qKLUYP.jpg"
           },
           {
            "cast_id": 3,
            "character": "Black Bellamy (voice)",
            "credit_id": "52fe485dc3a368484e0f51cf",
            "id": 12799,
            "name": "Jeremy Piven",
            "order": 2,
            "profile_path": "/qtho4ZUcValnVvscTGgyWfUr4VP.jpg"
           },
           {
            "cast_id": 4,
            "character": "The Pirate King (voice)",
            "credit_id": "52fe485dc3a368484e0f51d3",
            "id": 8318,
            "name": "Brian Blessed",
            "order": 3,
            "profile_path": "/wrDUKxDlyVZWK2E7Aak7I4IiVBg.jpg"
           },
           {
            "cast_id": 6,
            "character": "Cutlass Liz (voice)",
            "credit_id": "52fe485dc3a368484e0f51d7",
            "id": 3136,
            "name": "Salma Hayek",
            "order": 4,
            "profile_path": "/zMmEPWSqpACzsP5TnLdETV8j7eW.jpg"
           },
           {
            "cast_id": 9,
            "character": "Queen Victoria (voice)",
            "credit_id": "52fe485dc3a368484e0f51db",
            "id": 11356,
            "name": "Imelda Staunton",
            "order": 5,
            "profile_path": "/mKlkh0AuYPD5HjmnlrW0uPm5QvJ.jpg"
           },
           {
            "cast_id": 10,
            "character": "The Surprisingly Curvaceous Pirate (voice)",
            "credit_id": "52fe485dc3a368484e0f51df",
            "id": 55398,
            "name": "Ashley Jensen",
            "order": 6,
            "profile_path": "/ocQOgCeR7rviHAfeAymDT1AnhQg.jpg"
           },
           {
            "cast_id": 15,
            "character": "Charles Darwin (voice)",
            "credit_id": "52fe485dc3a368484e0f51f9",
            "id": 20049,
            "name": "David Tennant",
            "order": 8,
            "profile_path": "/4753hvSUCRiT1AwTAsTsN4yfZCQ.jpg"
           },
           {
            "cast_id": 16,
            "character": "Peg Leg Hastings (voice)",
            "credit_id": "52fe485dc3a368484e0f51fd",
            "id": 53519,
            "name": "Lenny Henry",
            "order": 9,
            "profile_path": "/nVvimLFmbCImntmAlqaOwRTWf1D.jpg"
           },
           {
            "cast_id": 17,
            "character": "The Pirate with a Scarf (voice)",
            "credit_id": "52fe485dc3a368484e0f5201",
            "id": 7060,
            "name": "Martin Freeman",
            "order": 10,
            "profile_path": "/ashlWz2KDQTbo8NPUbVOwcB3zXJ.jpg"
           },
           {
            "cast_id": 18,
            "character": "The Albino Pirate (voice)",
            "credit_id": "53c5935fc3a3680caf000173",
            "id": 55469,
            "name": "Russell Tovey",
            "order": 11,
            "profile_path": "/qpL1Zl5NjNTcYpRBlwpm9DPsl1I.jpg"
           }
          ],
          "directors": [
           {
            "credit_id": "52fe485dc3a368484e0f51e9",
            "department": "Directing",
            "id": 53304,
            "job": "Director",
            "name": "Peter Lord",
            "profile_path": "/fBaZLXX3rBwhSXvtplQEtvW7VS3.jpg"
           },
           {
            "credit_id": "52fe485dc3a368484e0f51ef",
            "department": "Directing",
            "id": 565297,
            "job": "Director",
            "name": "Jeff Newitt",
            "profile_path": null
           }
          ],
          "genres": [
           {
            "id": 12,
            "name": "Adventure"
           },
           {
            "id": 16,
            "name": "Animation"
           },
           {
            "id": 35,
            "name": "Comedy"
           },
           {
            "id": 10751,
            "name": "Family"
           }
          ],
          "homepage": "http://www.thepirates-movie.com/site/",
          "id": 72197,
          "imdb_id": "tt1430626",
          "original_language": "en",
          "original_title": "The Pirates! In an Adventure with Scientists!",
          "overview": "In The Pirates! Band of Misfits, Hugh Grant stars in his first animated role as the luxuriantly bearded Pirate Captain – a boundlessly enthusiastic, if somewhat less-than-successful, terror of the High Seas. With a rag-tag crew at his side (Martin Freeman, Brendan Gleeson, Russell Tovey, and Ashley Jensen), and seemingly blind to the impossible odds stacked against him, the Captain has one dream: to beat his bitter rivals Black Bellamy (Jeremy Piven) and Cutlass Liz (Salma Hayek) to the much coveted Pirate Of The Year Award. It’s a quest that takes our heroes from the shores of exotic Blood Island to the foggy streets of Victorian London. Along the way they battle a diabolical queen (Imelda Staunton) and team up with a haplessly smitten young scientist (David Tennant), but never lose sight of what a pirate loves best: adventure!",
          "popularity": 0.66771717847396,
          "poster_path": "/z3abtsVuypFShFkfvTOjzATkeg9.jpg",
          "production_companies": [
           {
            "id": 2251,
            "name": "Sony Pictures Animation"
           },
           {
            "id": 297,
            "name": "Aardman Animations"
           },
           {
            "id": 5,
            "name": "Columbia Pictures"
           }
          ],
          "production_countries": [
           {
            "iso_3166_1": "GB",
            "name": "United Kingdom"
           }
          ],
          "release_date": "2012-03-28",
          "revenue": 118338361,
          "runtime": 88,
          "spoken_languages": [
           {
            "iso_639_1": "en",
            "name": "English"
           }
          ],
          "status": "Released",
          "tagline": "It's A Plunderful Life",
          "title": "The Pirates! In an Adventure with Scientists!",
          "video": false,
          "vote_average": 6.3,
          "vote_count": 153
         }
        },
        {
         "_id": "11260",
         "_index": "tmdb",
         "_score": 9.305035,
         "_source": {
          "adult": false,
          "backdrop_path": "/dvzGZAJOYDVqSjTJTst6x6Wu7Fi.jpg",
          "belongs_to_collection": null,
          "budget": 60,
          "cast": [
           {
            "cast_id": 14,
            "character": "Dave Ming Chang / Kapitän",
            "credit_id": "52fe441c9251416c75029229",
            "id": 776,
            "name": "Eddie Murphy",
            "order": 0,
            "profile_path": "/WlmlpM6YeQwgEmOX0n4bVZ08dc.jpg"
           },
           {
            "cast_id": 15,
            "character": "Gina Morrison",
            "credit_id": "52fe441c9251416c7502922d",
            "id": 9281,
            "name": "Elizabeth Banks",
            "order": 1,
            "profile_path": "/w2RrVNLQa4ApXhpIgWTkpNVS2kd.jpg"
           },
           {
            "cast_id": 16,
            "character": "Nr.3- Kulturoffizierin",
            "credit_id": "52fe441c9251416c75029231",
            "id": 17773,
            "name": "Gabrielle Union",
            "order": 2,
            "profile_path": "/1UeaAGWmzmTPCZ9mYQVA27yTMPJ.jpg"
           },
           {
            "cast_id": 17,
            "character": "Dooley",
            "credit_id": "52fe441c9251416c75029235",
            "id": 1894,
            "name": "Scott Caan",
            "order": 3,
            "profile_path": "/kvUKf9HCaqUtgj7XuKZOvN66MOT.jpg"
           },
           {
            "cast_id": 18,
            "character": "Nr.2- Stellvertreter des Kapitäns",
            "credit_id": "52fe441c9251416c75029239",
            "id": 27105,
            "name": "Ed Helms",
            "order": 4,
            "profile_path": "/cxE76QqiI6LQh3kRAAEDtH39DQd.jpg"
           },
           {
            "cast_id": 19,
            "character": "Nr. 17",
            "credit_id": "52fe441c9251416c7502923d",
            "id": 55638,
            "name": "Kevin Hart",
            "order": 5,
            "profile_path": "/nTYKqSQzJ9VlYKgqoES7WIDHywi.jpg"
           },
           {
            "cast_id": 21,
            "character": "Nr.4- Sicherheitsoffizier",
            "credit_id": "52fe441c9251416c75029241",
            "id": 68836,
            "name": "Pat Kilbane",
            "order": 6,
            "profile_path": "/4GUyFuVlpedrN2iucZmfEXuoGu9.jpg"
           },
           {
            "cast_id": 22,
            "character": "Ingenieur",
            "credit_id": "52fe441c9251416c75029245",
            "id": 52860,
            "name": "Judah Friedlander",
            "order": 7,
            "profile_path": "/bsnVSqqK7DNWZNv6RRp2BPuKqxJ.jpg"
           },
           {
            "cast_id": 23,
            "character": "Mark",
            "credit_id": "52fe441c9251416c75029249",
            "id": 46772,
            "name": "Marc Blucas",
            "order": 8,
            "profile_path": "/5OdBu0DFKca1mxjeqNruz00DSRF.jpg"
           },
           {
            "cast_id": 24,
            "character": "Doktor",
            "credit_id": "52fe441c9251416c7502924d",
            "id": 58768,
            "name": "Jim Turner",
            "order": 9,
            "profile_path": "/mujwEKBe86I89VblEvK3zQbE81j.jpg"
           },
           {
            "cast_id": 25,
            "character": "Josh Morrison",
            "credit_id": "52fe441c9251416c75029251",
            "id": 68837,
            "name": "Austyn Myers",
            "order": 10,
            "profile_path": null
           },
           {
            "cast_id": 26,
            "character": "Old Navy Customer",
            "credit_id": "52fe441c9251416c75029255",
            "id": 91274,
            "name": "Mario Loya",
            "order": 11,
            "profile_path": null
           },
           {
            "cast_id": 27,
            "character": "Knox",
            "credit_id": "52fe441c9251416c75029259",
            "id": 87192,
            "name": "Mike O'Malley",
            "order": 12,
            "profile_path": "/9VwiKnQySJN7buvCg53v4NB5Tj7.jpg"
           },
           {
            "cast_id": 29,
            "character": "Nerdy Girl",
            "credit_id": "52fe441c9251416c75029263",
            "id": 154997,
            "name": "Allisyn Ashley Arm",
            "order": 13,
            "profile_path": "/rotyaTzDwEooYsy0HnP7wI6XMpF.jpg"
           }
          ],
          "directors": [
           {
            "credit_id": "52fe441c9251416c750291e3",
            "department": "Directing",
            "id": 53177,
            "job": "Director",
            "name": "Brian Robbins",
            "profile_path": "/l7UfY9nBeus8bHHXvf3mUmtagQJ.jpg"
           }
          ],
          "genres": [
           {
            "id": 12,
            "name": "Adventure"
           },
           {
            "id": 35,
            "name": "Comedy"
           },
           {
            "id": 878,
            "name": "Science Fiction"
           },
           {
            "id": 10749,
            "name": "Romance"
           },
           {
            "id": 10751,
            "name": "Family"
           }
          ],
          "homepage": "http://www.meetdavemovie.com/",
          "id": 11260,
          "imdb_id": "tt0765476",
          "original_language": "en",
          "original_title": "Meet Dave",
          "overview": "A crew of miniature aliens operate a spaceship that has a human form. While trying to save their planet, the aliens encounter a new problem, as their ship becomes smitten with an Earth woman.",
          "popularity": 0.452781858174432,
          "poster_path": "/qOnhIXHq12airS0iLMFpYoo9CZa.jpg",
          "production_companies": [
           {
            "id": 25,
            "name": "20th Century Fox"
           },
           {
            "id": 2645,
            "name": "Guy Walks into a Bar Productions"
           },
           {
            "id": 2646,
            "name": "Deep River Productions"
           }
          ],
          "production_countries": [
           {
            "iso_3166_1": "US",
            "name": "United States of America"
           }
          ],
          "release_date": "2008-07-08",
          "revenue": 11,
          "runtime": 90,
          "spoken_languages": [
           {
            "iso_639_1": "en",
            "name": "English"
           }
          ],
          "status": "Released",
          "tagline": "There's a Whole Other World Going on Inside of Him.",
          "title": "Meet Dave",
          "video": false,
          "vote_average": 5.3,
          "vote_count": 73
         }
        },
        {
         "_id": "7459",
         "_index": "tmdb",
         "_score": 8.257416,
         "_source": {
          "adult": false,
          "backdrop_path": "/5tbEFOVutwr0HdihrGj27eGIsxC.jpg",
          "belongs_to_collection": null,
          "budget": 120000000,
          "cast": [
           {
            "cast_id": 1,
            "character": "Speed Racer",
            "credit_id": "52fe447ec3a36847f8099887",
            "id": 46593,
            "name": "Emile Hirsch",
            "order": 0,
            "profile_path": "/qSiUKKhJLD7LCZdfz7rQOhNpxO1.jpg"
           },
           {
            "cast_id": 2,
            "character": "Trixie",
            "credit_id": "52fe447ec3a36847f809988b",
            "id": 6886,
            "name": "Christina Ricci",
            "order": 1,
            "profile_path": "/xe7SJRFdvqPHNoWxhbIFAz5Xx8x.jpg"
           },
           {
            "cast_id": 3,
            "character": "Racer X",
            "credit_id": "52fe447ec3a36847f809988f",
            "id": 28657,
            "name": "Matthew Fox",
            "order": 2,
            "profile_path": "/o8hMOleGaZ4BbZQFJXrU0xtMsSI.jpg"
           },
           {
            "cast_id": 4,
            "character": "Mom Racer",
            "credit_id": "52fe447ec3a36847f8099893",
            "id": 4038,
            "name": "Susan Sarandon",
            "order": 3,
            "profile_path": "/rjK7SERcPfwnRtPtOwH6EcvdWX4.jpg"
           },
           {
            "cast_id": 5,
            "character": "Rex Racer",
            "credit_id": "52fe447ec3a36847f8099897",
            "id": 53368,
            "name": "Scott Porter",
            "order": 4,
            "profile_path": "/1R6q8umfHD4Fka1Qc5em1wWR2mi.jpg"
           },
           {
            "cast_id": 6,
            "character": "Pops Racer",
            "credit_id": "52fe447ec3a36847f809989b",
            "id": 1230,
            "name": "John Goodman",
            "order": 5,
            "profile_path": "/mLJC7sRO3JnGkySJlwCJblvhBHm.jpg"
           },
           {
            "cast_id": 7,
            "character": "Mr. Musha",
            "credit_id": "52fe447ec3a36847f809989f",
            "id": 9195,
            "name": "Hiroyuki Sanada",
            "order": 6,
            "profile_path": "/fljn2lkeej3gAwSOvXXMVVQlA2K.jpg"
           },
           {
            "cast_id": 13,
            "character": "Fuji Announcer",
            "credit_id": "52fe447fc3a36847f80998bb",
            "id": 44792,
            "name": "Art LaFleur",
            "order": 7,
            "profile_path": "/4rEvPSEtiOeYfqNzwZ6PnCCAP9F.jpg"
           },
           {
            "cast_id": 14,
            "character": "Ben Burns",
            "credit_id": "52fe447fc3a36847f80998bf",
            "id": 6487,
            "name": "Richard Roundtree",
            "order": 8,
            "profile_path": "/3OyAx3Vrv1mQLOvl7YHaIaFwDuW.jpg"
           },
           {
            "cast_id": 15,
            "character": "Mr. Togokahn",
            "credit_id": "52fe447fc3a36847f80998c3",
            "id": 9192,
            "name": "Togo Igawa",
            "order": 9,
            "profile_path": "/b67aPXMDFfDPKum0hyqAAO7KfSK.jpg"
           },
           {
            "cast_id": 16,
            "character": "Horuko Togokahn",
            "credit_id": "52fe447fc3a36847f80998c7",
            "id": 27084,
            "name": "Nan Yu",
            "order": 10,
            "profile_path": "/xKWnjXyp5wb6HVbj5CbY7gywLTL.jpg"
           },
           {
            "cast_id": 17,
            "character": "Gennie",
            "credit_id": "52fe447fc3a36847f80998cb",
            "id": 16718,
            "name": "Cosma Shiva Hagen",
            "order": 11,
            "profile_path": "/qEx7ERu90J6iHp2gjmTiehJpnZu.jpg"
           },
           {
            "cast_id": 18,
            "character": "Royalton",
            "credit_id": "52fe447fc3a36847f80998cf",
            "id": 11279,
            "name": "Roger Allam",
            "order": 12,
            "profile_path": "/gr59GfVZz9QV6jZyHKOsKCBxXPr.jpg"
           },
           {
            "cast_id": 19,
            "character": "Minx",
            "credit_id": "52fe447fc3a36847f80998d3",
            "id": 1050936,
            "name": "Nayo Wallace",
            "order": 13,
            "profile_path": null
           },
           {
            "cast_id": 20,
            "character": "Taejo Togokahn",
            "credit_id": "52fe447fc3a36847f80998d7",
            "id": 112013,
            "name": "Rain",
            "order": 14,
            "profile_path": "/7oLrI71PNp9iGwJkgr2Bq34t2Yt.jpg"
           },
           {
            "cast_id": 41,
            "character": "Grey Ghost",
            "credit_id": "5364e89f0e0a2647db001302",
            "id": 677,
            "name": "Moritz Bleibtreu",
            "order": 15,
            "profile_path": "/1b6TCGecTnKDw3HW5bQzHSeIsW1.jpg"
           },
           {
            "cast_id": 42,
            "character": "Inspektor Detektor",
            "credit_id": "5364e8ae0e0a2647d10012ed",
            "id": 11953,
            "name": "Benno Fürmann",
            "order": 16,
            "profile_path": "/oaOk5Sm3yTxO1QAnYiQVVDfHGMg.jpg"
           },
           {
            "cast_id": 43,
            "character": "Cannonball Taylor",
            "credit_id": "5364e8bf0e0a2647d80013a7",
            "id": 1856,
            "name": "Ralph Herforth",
            "order": 17,
            "profile_path": "/3soxWivaOiRS05nP5KfbCTg9nPs.jpg"
           }
          ],
          "directors": [
           {
            "credit_id": "52fe447ec3a36847f80998a5",
            "department": "Directing",
            "id": 9340,
            "job": "Director",
            "name": "Lana Wachowski",
            "profile_path": "/8mbcXfOpmOiDLk6ZWfMsBGHEnet.jpg"
           },
           {
            "credit_id": "52fe447fc3a36847f80998b7",
            "department": "Directing",
            "id": 9339,
            "job": "Director",
            "name": "Andy Wachowski",
            "profile_path": "/nh5SBuv9cm1FByTc7dlV0zyO3GO.jpg"
           }
          ],
          "genres": [
           {
            "id": 28,
            "name": "Action"
           },
           {
            "id": 53,
            "name": "Thriller"
           },
           {
            "id": 10751,
            "name": "Family"
           }
          ],
          "homepage": "http://www.speedracerthemovie.warnerbros.com/",
          "id": 7459,
          "imdb_id": "tt0811080",
          "original_language": "en",
          "original_title": "Speed Racer",
          "overview": "Speed racer is the tale of a young and brilliant racing driver. When corruption in the racing leagues costs his brother his life, he must team up with the police and the mysterious Racer X to bring and end to the corruption and criminal activities. Inspired by the cartoon series.",
          "popularity": 0.479403301198401,
          "poster_path": "/zTplGrRuGcjzB9F9t7MC7DMiM43.jpg",
          "production_companies": [
           {
            "id": 79,
            "name": "Village Roadshow Pictures"
           },
           {
            "id": 174,
            "name": "Warner Bros. Pictures"
           },
           {
            "id": 1885,
            "name": "Silver Pictures"
           },
           {
            "id": 450,
            "name": "Anarchos Productions"
           },
           {
            "id": 12170,
            "name": "Velocity Productions"
           },
           {
            "id": 12171,
            "name": "Sechste Babelsberg Film"
           }
          ],
          "production_countries": [
           {
            "iso_3166_1": "AU",
            "name": "Australia"
           },
           {
            "iso_3166_1": "DE",
            "name": "Germany"
           },
           {
            "iso_3166_1": "US",
            "name": "United States of America"
           }
          ],
          "release_date": "2008-05-09",
          "revenue": 93945766,
          "runtime": 135,
          "spoken_languages": [
           {
            "iso_639_1": "en",
            "name": "English"
           }
          ],
          "status": "Released",
          "tagline": "Go!",
          "title": "Speed Racer",
          "video": false,
          "vote_average": 5.6,
          "vote_count": 94
         }
        },
        {
         "_id": "2300",
         "_index": "tmdb",
         "_score": 7.975379,
         "_source": {
          "adult": false,
          "backdrop_path": "/kBTdPNTAzagAY6UiwY957KCDGuu.jpg",
          "belongs_to_collection": null,
          "budget": 80000000,
          "cast": [
           {
            "cast_id": 2,
            "character": "Himself",
            "credit_id": "52fe434bc3a36847f80496c9",
            "id": 23678,
            "name": "Michael Jordan",
            "order": 0,
            "profile_path": "/7y16frD57Ztzk2mY4JeI2pQQhan.jpg"
           },
           {
            "cast_id": 3,
            "character": "Stan Podolak",
            "credit_id": "52fe434bc3a36847f80496cd",
            "id": 4201,
            "name": "Wayne Knight",
            "order": 1,
            "profile_path": "/oW9aeZwkz1S1IMjQGtd9mnvlEax.jpg"
           },
           {
            "cast_id": 4,
            "character": "Bugs Bunny/Elmer Fudd (voice)",
            "credit_id": "52fe434bc3a36847f80496d1",
            "id": 23679,
            "name": "Billy West",
            "order": 2,
            "profile_path": "/9V9fsfmWjHEDbS8tB5EOdHkyMFg.jpg"
           },
           {
            "cast_id": 5,
            "character": "Daffy Duck/Tazmanian Devil/Bull (voice)",
            "credit_id": "52fe434bc3a36847f80496d5",
            "id": 23680,
            "name": "Dee Bradley Baker",
            "order": 3,
            "profile_path": "/zFXwtsdvUCeNkzCzYpYZdAmTkJY.jpg"
           },
           {
            "cast_id": 6,
            "character": "Juanita Jordan",
            "credit_id": "52fe434bc3a36847f80496d9",
            "id": 4604,
            "name": "Theresa Randle",
            "order": 4,
            "profile_path": "/18LVR034VKDGOFqDw1EA1VZQVoe.jpg"
           },
           {
            "cast_id": 7,
            "character": "Mr. Swackhammer (voice)",
            "credit_id": "52fe434bc3a36847f80496dd",
            "id": 518,
            "name": "Danny DeVito",
            "order": 5,
            "profile_path": "/zKuyzmKzPLG7RJo7lbbHjx6CCZc.jpg"
           },
           {
            "cast_id": 8,
            "character": "Michael Jordan (at 10)",
            "credit_id": "52fe434bc3a36847f80496e1",
            "id": 23681,
            "name": "Brandon Hammond",
            "order": 6,
            "profile_path": "/ooljlVi5IYf2w4Px3jqc8OQdjjS.jpg"
           },
           {
            "cast_id": 9,
            "character": "Himself",
            "credit_id": "52fe434bc3a36847f80496e5",
            "id": 23682,
            "name": "Larry Bird",
            "order": 7,
            "profile_path": "/1KRnQVsXS8mz4tHHWD1yPAQBXq2.jpg"
           },
           {
            "cast_id": 12,
            "character": "Himself",
            "credit_id": "52fe434bc3a36847f80496e9",
            "id": 1532,
            "name": "Bill Murray",
            "order": 8,
            "profile_path": "/eb58HuFIrxS0zUmbmW4d8YXTbje.jpg"
           },
           {
            "cast_id": 37,
            "character": "Himself",
            "credit_id": "5361746b0e0a2649bf0004e6",
            "id": 1211812,
            "name": "Charles Barkley",
            "order": 9,
            "profile_path": "/mqHWhTtrja9vI8kfI6z7tCq5gB1.jpg"
           },
           {
            "cast_id": 19,
            "character": "Himself",
            "credit_id": "53614c6cc3a368397e0001d2",
            "id": 1231141,
            "name": "Patrick Ewing",
            "order": 11,
            "profile_path": "/aaXM8PuixEHNTLmvBQJLH8vV1SV.jpg"
           },
           {
            "cast_id": 20,
            "character": "Himself",
            "credit_id": "53614e44c3a36839650001b4",
            "id": 1232432,
            "name": "Tyrone Bogues",
            "order": 12,
            "profile_path": null
           },
           {
            "cast_id": 21,
            "character": "Himself",
            "credit_id": "53614eb1c3a36839650001bc",
            "id": 1225517,
            "name": "Larry Johnson",
            "order": 13,
            "profile_path": "/gbfwZWitnSrcQwkAughr5Ji4iT5.jpg"
           },
           {
            "cast_id": 22,
            "character": "Himself",
            "credit_id": "5361565a0e0a2649b800027a",
            "id": 1234833,
            "name": "Shawn Bradley",
            "order": 14,
            "profile_path": null
           },
           {
            "cast_id": 23,
            "character": "Himself",
            "credit_id": "5361566c0e0a2649a6000277",
            "id": 1197748,
            "name": "Ahmad Rashad",
            "order": 15,
            "profile_path": null
           },
           {
            "cast_id": 24,
            "character": "Himself",
            "credit_id": "536156930e0a2649b800027f",
            "id": 1251369,
            "name": "Del Harris",
            "order": 16,
            "profile_path": null
           },
           {
            "cast_id": 25,
            "character": "Himself",
            "credit_id": "536156a50e0a2649a90002a3",
            "id": 193304,
            "name": "Vlade Divac",
            "order": 17,
            "profile_path": "/ivflYHUbWXKyDe5B9su5HSidMA9.jpg"
           },
           {
            "cast_id": 26,
            "character": "Himself",
            "credit_id": "536156d20e0a2649b8000282",
            "id": 1230823,
            "name": "Cedric Ceballos",
            "order": 18,
            "profile_path": null
           },
           {
            "cast_id": 27,
            "character": "Himself",
            "credit_id": "536156e10e0a2649ad000272",
            "id": 1215304,
            "name": "Jim Rome",
            "order": 19,
            "profile_path": null
           },
           {
            "cast_id": 28,
            "character": "Himself",
            "credit_id": "536156ee0e0a2649b8000285",
            "id": 1315402,
            "name": "Paul Westphal",
            "order": 20,
            "profile_path": null
           },
           {
            "cast_id": 29,
            "character": "Himself",
            "credit_id": "536156fe0e0a2649ad000275",
            "id": 1315446,
            "name": "Danny Ainge",
            "order": 21,
            "profile_path": null
           },
           {
            "cast_id": 30,
            "character": "Himself",
            "credit_id": "5361571f0e0a2649b8000287",
            "id": 180625,
            "name": "Alonzo Mourning",
            "order": 22,
            "profile_path": "/ukR2lS5Z8avrJnN3Kua1ks3Habf.jpg"
           },
           {
            "cast_id": 31,
            "character": "Himself",
            "credit_id": "5361572a0e0a2649bf000295",
            "id": 1315447,
            "name": "A.C. Green",
            "order": 23,
            "profile_path": null
           },
           {
            "cast_id": 32,
            "character": "Himself",
            "credit_id": "536157540e0a2649bf00029b",
            "id": 1315403,
            "name": "Charles Oakley",
            "order": 24,
            "profile_path": "/l35FQsV529lOhDFvMGk8aJ82AV9.jpg"
           },
           {
            "cast_id": 33,
            "character": "Himself",
            "credit_id": "536157680e0a2649a90002b5",
            "id": 1315448,
            "name": "Derek Harper",
            "order": 25,
            "profile_path": null
           },
           {
            "cast_id": 34,
            "character": "Himself",
            "credit_id": "536157780e0a2649a6000287",
            "id": 1315449,
            "name": "Jeff Malone",
            "order": 26,
            "profile_path": null
           },
           {
            "cast_id": 35,
            "character": "Himself",
            "credit_id": "536157ba0e0a2649bb0002d3",
            "id": 1315450,
            "name": "Anthony Miller",
            "order": 27,
            "profile_path": null
           },
           {
            "cast_id": 36,
            "character": "Himself",
            "credit_id": "536157cb0e0a2649bf0002a7",
            "id": 1315451,
            "name": "Sharone Wright",
            "order": 28,
            "profile_path": null
           }
          ],
          "directors": [
           {
            "credit_id": "52fe434bc3a36847f80496c5",
            "department": "Directing",
            "id": 23677,
            "job": "Director",
            "name": "Joe Pytka",
            "profile_path": "/c46Ah1KxlfC4W8mHVrGDsJ7dMPJ.jpg"
           }
          ],
          "genres": [
           {
            "id": 16,
            "name": "Animation"
           },
           {
            "id": 35,
            "name": "Comedy"
           },
           {
            "id": 18,
            "name": "Drama"
           },
           {
            "id": 14,
            "name": "Fantasy"
           },
           {
            "id": 10751,
            "name": "Family"
           }
          ],
          "homepage": "",
          "id": 2300,
          "imdb_id": "tt0117705",
          "original_language": "en",
          "original_title": "Space Jam",
          "overview": "Michael Jordan agrees to help the Looney Tunes play a basketball game against alien slavers to determine their freedom.",
          "popularity": 0.778260445788321,
          "poster_path": "/9T9ucCk6wO0crRBUIkBJMRAVcKp.jpg",
          "production_companies": [
           {
            "id": 2785,
            "name": "Warner Bros. Animation"
           },
           {
            "id": 17,
            "name": "Warner Bros. Entertainment"
           }
          ],
          "production_countries": [
           {
            "iso_3166_1": "US",
            "name": "United States of America"
           }
          ],
          "release_date": "1996-11-15",
          "revenue": 230000000,
          "runtime": 88,
          "spoken_languages": [
           {
            "iso_639_1": "cs",
            "name": "Český"
           },
           {
            "iso_639_1": "fr",
            "name": "Français"
           },
           {
            "iso_639_1": "pl",
            "name": "Polski"
           },
           {
            "iso_639_1": "en",
            "name": "English"
           }
          ],
          "status": "Released",
          "tagline": "Get ready to jam.",
          "title": "Space Jam",
          "video": false,
          "vote_average": 6.3,
          "vote_count": 275
         }
        },
        {
         "_id": "38365",
         "_index": "tmdb",
         "_score": 7.7324815,
         "_source": {
          "adult": false,
          "backdrop_path": "/q4s8RTQFyLrEn2S8akWGMmc8mYX.jpg",
          "belongs_to_collection": {
           "backdrop_path": "/ahlmYgIHI6oye76bgoUtC01mcrC.jpg",
           "id": 180546,
           "name": "Grown Ups Collection",
           "poster_path": "/8m9PIgdP6Nj18P3thsyI70qs76s.jpg"
          },
          "budget": 80000000,
          "cast": [
           {
            "cast_id": 4,
            "character": "Lenny Feder",
            "credit_id": "52fe46b29251416c9105c999",
            "id": 19292,
            "name": "Adam Sandler",
            "order": 0,
            "profile_path": "/tv9V6QsuZ3bcp4ciUJjwjcc4qAg.jpg"
           },
           {
            "cast_id": 5,
            "character": "Roxanne Chase-Feder",
            "credit_id": "52fe46b29251416c9105c99d",
            "id": 3136,
            "name": "Salma Hayek",
            "order": 1,
            "profile_path": "/zMmEPWSqpACzsP5TnLdETV8j7eW.jpg"
           },
           {
            "cast_id": 7,
            "character": "Sally Lamonsoff",
            "credit_id": "52fe46b29251416c9105c9a5",
            "id": 49,
            "name": "Maria Bello",
            "order": 2,
            "profile_path": "/wU5I528qHPG9pAGNnghYVEW69gr.jpg"
           },
           {
            "cast_id": 6,
            "character": "Wiley",
            "credit_id": "52fe46b29251416c9105c9a1",
            "id": 884,
            "name": "Steve Buscemi",
            "order": 3,
            "profile_path": "/7sDzFRScCv85usSwPG01BTac7UY.jpg"
           },
           {
            "cast_id": 9,
            "character": "Deanne McKenzie",
            "credit_id": "52fe46b29251416c9105c9ad",
            "id": 52792,
            "name": "Maya Rudolph",
            "order": 4,
            "profile_path": "/qLDuXku39c4uwVf3h2GjFqwZqik.jpg"
           },
           {
            "cast_id": 8,
            "character": "Eric Lamonsoff",
            "credit_id": "52fe46b29251416c9105c9a9",
            "id": 32895,
            "name": "Kevin James",
            "order": 5,
            "profile_path": "/aLkMKiCdolQPJNb1KGQ4Me4M9Ju.jpg"
           },
           {
            "cast_id": 10,
            "character": "Rob Hilliard",
            "credit_id": "52fe46b29251416c9105c9b1",
            "id": 60949,
            "name": "Rob Schneider",
            "order": 6,
            "profile_path": "/vDbjHkAc4OMKObi9W5xW9OuDhDI.jpg"
           },
           {
            "cast_id": 11,
            "character": "Kurt McKenzie",
            "credit_id": "52fe46b29251416c9105c9b5",
            "id": 2632,
            "name": "Chris Rock",
            "order": 7,
            "profile_path": "/5JCYKerIL0SdiqygtLUpG9Sw37P.jpg"
           },
           {
            "cast_id": 12,
            "character": "Amber Hilliard",
            "credit_id": "52fe46b29251416c9105c9b9",
            "id": 78324,
            "name": "Jamie Chung",
            "order": 8,
            "profile_path": "/99vO72TfiweEMShZUL9lE7oOhYw.jpg"
           },
           {
            "cast_id": 14,
            "character": "Marcus Higgins",
            "credit_id": "52fe46b29251416c9105c9bd",
            "id": 60950,
            "name": "David Spade",
            "order": 9,
            "profile_path": "/tamKFAKdB1Q2mllHYHXxqg3YUXr.jpg"
           },
           {
            "cast_id": 15,
            "character": "Mama Ronzoni",
            "credit_id": "52fe46b29251416c9105c9c1",
            "id": 142377,
            "name": "Ebony Jo-Ann",
            "order": 10,
            "profile_path": "/Ra17Zik0PfabOcHTayW4k8CwB9.jpg"
           },
           {
            "cast_id": 16,
            "character": "Rita",
            "credit_id": "52fe46b29251416c9105c9c5",
            "id": 53281,
            "name": "Di Quon",
            "order": 11,
            "profile_path": "/9WAHACcLROdTOePDHi0hOUd6of0.jpg"
           },
           {
            "cast_id": 22,
            "character": "Dickie Bailey",
            "credit_id": "52fe46b29251416c9105c9d5",
            "id": 1219901,
            "name": "Colin Quinn",
            "order": 12,
            "profile_path": "/qKP3sURBluc5NG2g5LrKoVnY5iG.jpg"
           },
           {
            "cast_id": 19,
            "character": "Malcolm",
            "credit_id": "52fe46b29251416c9105c9c9",
            "id": 51857,
            "name": "Tim Meadows",
            "order": 13,
            "profile_path": "/4V8Jde8DuFBnXOFPGjTVxs7lqlt.jpg"
           },
           {
            "cast_id": 20,
            "character": "Jasmine Hilliard",
            "credit_id": "52fe46b29251416c9105c9cd",
            "id": 101565,
            "name": "Madison Riley",
            "order": 14,
            "profile_path": "/4TKPa7fkHSWB8V2KLamLyF3PlwD.jpg"
           },
           {
            "cast_id": 21,
            "character": "Norby The Ride Guy",
            "credit_id": "52fe46b29251416c9105c9d1",
            "id": 166029,
            "name": "Dan Patrick",
            "order": 15,
            "profile_path": "/9tgxUP2r24g3NoXXMJoQEb8HAVM.jpg"
           }
          ],
          "directors": [
           {
            "credit_id": "52fe46b29251416c9105c989",
            "department": "Directing",
            "id": 17494,
            "job": "Director",
            "name": "Dennis Dugan",
            "profile_path": "/jyi8S58fqNkOiZzkeMc0Lza1osC.jpg"
           }
          ],
          "genres": [
           {
            "id": 35,
            "name": "Comedy"
           }
          ],
          "homepage": "http://www.grownups-movie.com/",
          "id": 38365,
          "imdb_id": "tt1375670",
          "original_language": "en",
          "original_title": "Grown Ups",
          "overview": "After their high school basketball coach passes away, five good friends and former teammates reunite for a Fourth of July holiday weekend.",
          "popularity": 1.01594501423804,
          "poster_path": "/rKPU178ngGRXPYnuO3cpCnZP6wJ.jpg",
          "production_companies": [
           {
            "id": 5,
            "name": "Columbia Pictures"
           },
           {
            "id": 7295,
            "name": "Relativity Media"
           },
           {
            "id": 2608,
            "name": "Happy Madison Productions"
           }
          ],
          "production_countries": [
           {
            "iso_3166_1": "US",
            "name": "United States of America"
           }
          ],
          "release_date": "2010-06-24",
          "revenue": 267420265,
          "runtime": 102,
          "spoken_languages": [
           {
            "iso_639_1": "en",
            "name": "English"
           }
          ],
          "status": "Released",
          "tagline": "Boys will be boys. . . some longer than others.",
          "title": "Grown Ups",
          "video": false,
          "vote_average": 6.1,
          "vote_count": 686
         }
        },
        {
         "_id": "13260",
         "_index": "tmdb",
         "_score": 7.505871,
         "_source": {
          "adult": false,
          "backdrop_path": "/bfrQP3UFMunyXHlTkwe5nYTMgxp.jpg",
          "belongs_to_collection": null,
          "budget": 0,
          "cast": [
           {
            "cast_id": 2,
            "character": "Jackie Moon",
            "credit_id": "52fe45549251416c75052c67",
            "id": 23659,
            "name": "Will Ferrell",
            "order": 0,
            "profile_path": "/dGxt3uGPlUJKIfHYiLasnEgR90e.jpg"
           },
           {
            "cast_id": 3,
            "character": "Lynn",
            "credit_id": "52fe45549251416c75052c6b",
            "id": 16307,
            "name": "Maura Tierney",
            "order": 1,
            "profile_path": "/sG8ZxJtdMoNlBOOkMZVABxSH5F0.jpg"
           },
           {
            "cast_id": 4,
            "character": "Monix",
            "credit_id": "52fe45549251416c75052c6f",
            "id": 57755,
            "name": "Woody Harrelson",
            "order": 2,
            "profile_path": "/ivfalpnvELPaSILqP6K6rabXfsU.jpg"
           },
           {
            "cast_id": 5,
            "character": "Commissioner",
            "credit_id": "52fe45549251416c75052c73",
            "id": 28638,
            "name": "David Koechner",
            "order": 3,
            "profile_path": "/inMOKno44cGQjUYkuoHNJbEgihi.jpg"
           },
           {
            "cast_id": 6,
            "character": "Lou Redwood",
            "credit_id": "52fe45549251416c75052c77",
            "id": 21200,
            "name": "Will Arnett",
            "order": 4,
            "profile_path": "/vHCqn3SHfSV6GOWrxzEtoDaSMoU.jpg"
           },
           {
            "cast_id": 7,
            "character": "Clarence",
            "credit_id": "52fe45549251416c75052c7b",
            "id": 37934,
            "name": "André Benjamin",
            "order": 5,
            "profile_path": "/s8oSgAIzuzsDhp0JhKhozJyCNme.jpg"
           },
           {
            "cast_id": 8,
            "character": "Bobby Dee",
            "credit_id": "52fe45549251416c75052c7f",
            "id": 28637,
            "name": "Andy Richter",
            "order": 6,
            "profile_path": "/8K63ilOwTUO1yh32oLl2zfwjbKs.jpg"
           },
           {
            "cast_id": 9,
            "character": "Kyle",
            "credit_id": "52fe45549251416c75052c83",
            "id": 52997,
            "name": "Rob Corddry",
            "order": 7,
            "profile_path": "/k2zJL0V1nEZuFT08xUdOd3ucfXz.jpg"
           },
           {
            "cast_id": 10,
            "character": "Cornelius",
            "credit_id": "52fe45549251416c75052c87",
            "id": 51857,
            "name": "Tim Meadows",
            "order": 8,
            "profile_path": "/4V8Jde8DuFBnXOFPGjTVxs7lqlt.jpg"
           },
           {
            "cast_id": 11,
            "character": "Dukes",
            "credit_id": "52fe45549251416c75052c8b",
            "id": 17183,
            "name": "Jackie Earle Haley",
            "order": 9,
            "profile_path": "/9WWADGZW0n2kDINY8JiIXKOc2FW.jpg"
           },
           {
            "cast_id": 12,
            "character": "Father Pat",
            "credit_id": "52fe45549251416c75052c8f",
            "id": 59841,
            "name": "Matt Walsh",
            "order": 10,
            "profile_path": "/jJ7FIH1rjOUr2L7jO41Tzt757O.jpg"
           },
           {
            "cast_id": 13,
            "character": "",
            "credit_id": "52fe45549251416c75052c93",
            "id": 41091,
            "name": "Kristen Wiig",
            "order": 11,
            "profile_path": "/x5avlvpHlBGGLhzbzuSfmOsMGlw.jpg"
           },
           {
            "cast_id": 14,
            "character": "Dick Pepperfield",
            "credit_id": "52fe45549251416c75052c97",
            "id": 95875,
            "name": "Andrew Daly",
            "order": 12,
            "profile_path": "/1jUiCZOJOGE1LKBCaeMkrNceSj0.jpg"
           },
           {
            "cast_id": 15,
            "character": "Bee Bee Ellis",
            "credit_id": "52fe45549251416c75052c9b",
            "id": 11827,
            "name": "DeRay Davis",
            "order": 13,
            "profile_path": "/n8alI78oMlcJ3gEhF2Ws4MOUCtc.jpg"
           }
          ],
          "directors": [
           {
            "credit_id": "52fe45549251416c75052c63",
            "department": "Directing",
            "id": 65702,
            "job": "Director",
            "name": "Kent Alterman",
            "profile_path": "/wA2LUif3K2ApfzBNwQfu0HoZqcp.jpg"
           }
          ],
          "genres": [
           {
            "id": 35,
            "name": "Comedy"
           }
          ],
          "homepage": "http://newline.com/properties/semipro.html",
          "id": 13260,
          "imdb_id": "tt0839980",
          "original_language": "en",
          "original_title": "Semi-Pro",
          "overview": "Jackie Moon is the owner, promoter, coach, and star player of the Flint Michigan Tropics of the American Basketball Association (ABA). In 1976 before the ABA collapses, the National Basketball Association (NBA) plans to merge with the best teams of the ABA at the end of the season. Only the top four teams will make the move and the worst teams will fold. The Tropics are the worst team in the league and if they want to make it to the NBA, Jackie Moon must rally his team and start winning. The only problem is the fact that Jackie Moon is not really the coach and star basketball player he thinks he is. To keep his team from oblivion and leave his mark in the city, Jackie Moon must inspire his team to win fourth place in the playoffs.",
          "popularity": 0.322245215639978,
          "poster_path": "/rb4QrpOCwWOm0Iw2E4GAkVoqnWi.jpg",
          "production_companies": [
           {
            "id": 12,
            "name": "New Line Cinema"
           },
           {
            "id": 748,
            "name": "Mosaic Media Group"
           },
           {
            "id": 431,
            "name": "Donners' Company"
           },
           {
            "id": 2648,
            "name": "Road Rebel"
           }
          ],
          "production_countries": [
           {
            "iso_3166_1": "US",
            "name": "United States of America"
           }
          ],
          "release_date": "2008-02-28",
          "revenue": 33472850,
          "runtime": 91,
          "spoken_languages": [
           {
            "iso_639_1": "en",
            "name": "English"
           }
          ],
          "status": "Released",
          "tagline": "Putting the funk into the dunk.",
          "title": "Semi-Pro",
          "video": false,
          "vote_average": 5.2,
          "vote_count": 57
         }
        },
        {
         "_id": "888",
         "_index": "tmdb",
         "_score": 7.3902683,
         "_source": {
          "adult": false,
          "backdrop_path": "/vbWvWqZJiEiffj8xag0owDExRVg.jpg",
          "belongs_to_collection": null,
          "budget": 46000000,
          "cast": [
           {
            "cast_id": 16,
            "character": "Fred Flintstone",
            "credit_id": "52fe4287c3a36847f80262af",
            "id": 1230,
            "name": "John Goodman",
            "order": 0,
            "profile_path": "/mLJC7sRO3JnGkySJlwCJblvhBHm.jpg"
           },
           {
            "cast_id": 17,
            "character": "Wilma Flintstone",
            "credit_id": "52fe4287c3a36847f80262b3",
            "id": 20,
            "name": "Elizabeth Perkins",
            "order": 1,
            "profile_path": "/nVI0CWJoVtB0ycDCF6YtYmEbtZq.jpg"
           },
           {
            "cast_id": 18,
            "character": "Barney Rubble",
            "credit_id": "52fe4287c3a36847f80262b7",
            "id": 8872,
            "name": "Rick Moranis",
            "order": 2,
            "profile_path": "/27dRb7OyRGzQP8D4tzyY6dEdmQY.jpg"
           },
           {
            "cast_id": 19,
            "character": "Betty Rubble",
            "credit_id": "52fe4287c3a36847f80262bb",
            "id": 12929,
            "name": "Rosie O'Donnell",
            "order": 3,
            "profile_path": "/76ZWoNK1Fr6gmJUH1zhEBMsT9DT.jpg"
           },
           {
            "cast_id": 20,
            "character": "Cliff Vandercave",
            "credit_id": "52fe4287c3a36847f80262bf",
            "id": 6677,
            "name": "Kyle MacLachlan",
            "order": 4,
            "profile_path": "/ykDb80YOPY2HLuRClLDpSYxUCPX.jpg"
           },
           {
            "cast_id": 21,
            "character": "Rosetta Stone",
            "credit_id": "52fe4287c3a36847f80262c3",
            "id": 4587,
            "name": "Halle Berry",
            "order": 5,
            "profile_path": "/AmCXHowNbUXpNf41dNrxNB0naM2.jpg"
           },
           {
            "cast_id": 22,
            "character": "Pearl Slaghoople",
            "credit_id": "52fe4287c3a36847f80262c7",
            "id": 3635,
            "name": "Elizabeth Taylor",
            "order": 6,
            "profile_path": "/rPbfZlBX18OIj7H1Bahq7YcJL0v.jpg"
           },
           {
            "cast_id": 23,
            "character": "Mr. Slate",
            "credit_id": "52fe4287c3a36847f80262cb",
            "id": 9175,
            "name": "Dann Florek",
            "order": 7,
            "profile_path": "/aWRFqpmLdFAoH9BiUE7RyxUKUsX.jpg"
           },
           {
            "cast_id": 24,
            "character": "Hoagie",
            "credit_id": "52fe4287c3a36847f80262cf",
            "id": 13591,
            "name": "Richard Moll",
            "order": 8,
            "profile_path": "/c1VbqIWN29mOoFfxvHMQxuAzTn5.jpg"
           },
           {
            "cast_id": 25,
            "character": "Joe Rockhead",
            "credit_id": "52fe4287c3a36847f80262d3",
            "id": 13592,
            "name": "Irwin Keyes",
            "order": 9,
            "profile_path": "/8c1MbJjXM6dE0WqEGFTBl48UowN.jpg"
           },
           {
            "cast_id": 26,
            "character": "Gobo The Grizzled Man",
            "credit_id": "52fe4287c3a36847f80262d7",
            "id": 13593,
            "name": "Jonathan Winters",
            "order": 10,
            "profile_path": "/j63YOBYEXhbDWbXUnqD3gb5KJ5k.jpg"
           },
           {
            "cast_id": 35,
            "character": "Ali / Dicabird / Blossom's Adopted Doll Son Ali",
            "credit_id": "52fe4287c3a36847f8026305",
            "id": 13640,
            "name": "Harvey Korman",
            "order": 11,
            "profile_path": "/zXLYvJP3ReKPI6lJr2VuDGupL1j.jpg"
           },
           {
            "cast_id": 37,
            "character": "Triple X / Green Goose",
            "credit_id": "52fe4287c3a36847f802630d",
            "id": 35219,
            "name": "Corey Burton",
            "order": 13,
            "profile_path": "/2YzqhrgSpWqm8lxZoyIR4F0nusM.jpg"
           },
           {
            "cast_id": 38,
            "character": "Bobo",
            "credit_id": "52fe4287c3a36847f8026311",
            "id": 51957,
            "name": "Roger L. Jackson",
            "order": 14,
            "profile_path": "/lI4N9GJ0QuC1YFYSwauNssGwe11.jpg"
           },
           {
            "cast_id": 52,
            "character": "Tanya Slag",
            "credit_id": "52fe4287c3a36847f8026351",
            "id": 145257,
            "name": "Jean Vander Pyl",
            "order": 15,
            "profile_path": "/54hip6U1OiuIBxTqqWtS8KOGrXz.jpg"
           }
          ],
          "directors": [
           {
            "credit_id": "537b55a40e0a267fea001658",
            "department": "Directing",
            "id": 13620,
            "job": "Director",
            "name": "William Hanna",
            "profile_path": "/3rCaagU4QRi0JJhcdbUGKoqEWtG.jpg"
           },
           {
            "credit_id": "537b55e00e0a267ff7001790",
            "department": "Directing",
            "id": 13594,
            "job": "Director",
            "name": "Joseph Barbera",
            "profile_path": "/A8Lorvx5HirKefQWmhftWGO5VI4.jpg"
           },
           {
            "credit_id": "52fe4287c3a36847f8026357",
            "department": "Directing",
            "id": 13581,
            "job": "Director",
            "name": "Brian Levant",
            "profile_path": "/6fM0CJSEqwC50wivfx8Z7sPcikb.jpg"
           }
          ],
          "genres": [
           {
            "id": 35,
            "name": "Comedy"
           },
           {
            "id": 14,
            "name": "Fantasy"
           },
           {
            "id": 10751,
            "name": "Family"
           }
          ],
          "homepage": "",
          "id": 888,
          "imdb_id": "tt0109813",
          "original_language": "en",
          "original_title": "The Flintstones",
          "overview": "Modern Stone Age family the Flintstones hit the big screen in this live-action version of the classic cartoon. Fred helps Barney adopt a child. Barney sees an opportunity to repay him when Slate Mining tests its employees to find a new executive. But no good deed goes unpunished.",
          "popularity": 0.751052982106051,
          "poster_path": "/kCJofdPv2HqiKeUJ0743Ae4UlFr.jpg",
          "production_companies": [
           {
            "id": 1353,
            "name": "Hanna-Barbera Productions"
           },
           {
            "id": 33,
            "name": "Universal Pictures"
           },
           {
            "id": 56,
            "name": "Amblin Entertainment"
           }
          ],
          "production_countries": [
           {
            "iso_3166_1": "US",
            "name": "United States of America"
           }
          ],
          "release_date": "1994-05-26",
          "revenue": 341631208,
          "runtime": 91,
          "spoken_languages": [
           {
            "iso_639_1": "en",
            "name": "English"
           }
          ],
          "status": "Released",
          "tagline": "Yabba-Dabba-Doo!",
          "title": "The Flintstones",
          "video": false,
          "vote_average": 5.2,
          "vote_count": 99
         }
        },
        {
         "_id": "7214",
         "_index": "tmdb",
         "_score": 7.219441,
         "_source": {
          "adult": false,
          "backdrop_path": "/qgmcpz4ZyDxtAOTvqN6oIpBez7d.jpg",
          "belongs_to_collection": null,
          "budget": 30000000,
          "cast": [
           {
            "cast_id": 1,
            "character": "Ken Carter",
            "credit_id": "52fe4473c3a36847f8096c81",
            "id": 2231,
            "name": "Samuel L. Jackson",
            "order": 0,
            "profile_path": "/dlW6prW9HwYDsIRXNoFYtyHpSny.jpg"
           },
           {
            "cast_id": 2,
            "character": "Kenyon Stone",
            "credit_id": "52fe4473c3a36847f8096c85",
            "id": 10689,
            "name": "Rob Brown",
            "order": 1,
            "profile_path": "/m8VAOhTpIQYWDYg2MOc9lOFLahF.jpg"
           },
           {
            "cast_id": 3,
            "character": "Damien Carter",
            "credit_id": "52fe4473c3a36847f8096c89",
            "id": 52037,
            "name": "Robert Ri'chard",
            "order": 2,
            "profile_path": "/rB75BONTtezBafFI4TzYzYYO8T3.jpg"
           },
           {
            "cast_id": 21,
            "character": "Timo Cruz",
            "credit_id": "52fe4473c3a36847f8096cf3",
            "id": 53184,
            "name": "Rick Gonzalez",
            "order": 3,
            "profile_path": "/goh90mno2bYXjOIncrJWoNYbhXy.jpg"
           },
           {
            "cast_id": 22,
            "character": "Jason Lyle",
            "credit_id": "52fe4473c3a36847f8096cf7",
            "id": 38673,
            "name": "Channing Tatum",
            "order": 4,
            "profile_path": "/5L7BSYbzM8iizvIrS8EaaZoDrI3.jpg"
           },
           {
            "cast_id": 23,
            "character": "Maddux",
            "credit_id": "52fe4473c3a36847f8096cfb",
            "id": 53185,
            "name": "Texas Battle",
            "order": 5,
            "profile_path": "/x61WA9qDHEkh5i7G9lOfakbmWNc.jpg"
           },
           {
            "cast_id": 24,
            "character": "Susan",
            "credit_id": "52fe4473c3a36847f8096cff",
            "id": 168897,
            "name": "Lacey Beeman",
            "order": 6,
            "profile_path": "/h8coFumNNoCK6wJ0XYXSeO6Q6C7.jpg"
           },
           {
            "cast_id": 25,
            "character": "Mrs. Battle",
            "credit_id": "52fe4473c3a36847f8096d03",
            "id": 6944,
            "name": "Octavia Spencer",
            "order": 7,
            "profile_path": "/4FEVru6fBFyJECqwqjHwlZdsL4c.jpg"
           }
          ],
          "directors": [
           {
            "credit_id": "52fe4473c3a36847f8096c8f",
            "department": "Directing",
            "id": 52038,
            "job": "Director",
            "name": "Thomas Carter",
            "profile_path": "/j51pRbB8nCYrziSnjmB2PS9SIVh.jpg"
           }
          ],
          "genres": [
           {
            "id": 18,
            "name": "Drama"
           }
          ],
          "homepage": "",
          "id": 7214,
          "imdb_id": "tt0393162",
          "original_language": "en",
          "original_title": "Coach Carter",
          "overview": "Based on a true story, in which Richmond High School head basketball coach Ken Carter made headlines in 1999 for benching his undefeated team due to poor academic results.",
          "popularity": 0.732920917500169,
          "poster_path": "/8c6BeOIrDStz2aiPceYdI5sd9pL.jpg",
          "production_companies": [
           {
            "id": 4,
            "name": "Paramount Pictures"
           },
           {
            "id": 746,
            "name": "MTV Films"
           },
           {
            "id": 2184,
            "name": "Tollin/Robbins Productions"
           }
          ],
          "production_countries": [
           {
            "iso_3166_1": "DE",
            "name": "Germany"
           },
           {
            "iso_3166_1": "US",
            "name": "United States of America"
           }
          ],
          "release_date": "2005-01-14",
          "revenue": 76669806,
          "runtime": 136,
          "spoken_languages": [
           {
            "iso_639_1": "en",
            "name": "English"
           }
          ],
          "status": "Released",
          "tagline": "It begins on the street. It ends here.",
          "title": "Coach Carter",
          "video": false,
          "vote_average": 7,
          "vote_count": 93
         }
        },
        {
         "_id": "10158",
         "_index": "tmdb",
         "_score": 6.7105947,
         "_source": {
          "adult": false,
          "backdrop_path": "/etXWMus7PsHLsXxYY3tdK8XDJp4.jpg",
          "belongs_to_collection": null,
          "budget": 0,
          "cast": [
           {
            "cast_id": 8,
            "character": "Sidney Deane",
            "credit_id": "52fe43389251416c7500801f",
            "id": 10814,
            "name": "Wesley Snipes",
            "order": 0,
            "profile_path": "/hQ6EBa6vgu7HoZpzms8Y10VL5Iw.jpg"
           },
           {
            "cast_id": 9,
            "character": "Billy Hoyle",
            "credit_id": "52fe43389251416c75008023",
            "id": 57755,
            "name": "Woody Harrelson",
            "order": 1,
            "profile_path": "/ivfalpnvELPaSILqP6K6rabXfsU.jpg"
           },
           {
            "cast_id": 10,
            "character": "Gloria Clement",
            "credit_id": "52fe43389251416c75008027",
            "id": 4810,
            "name": "Rosie Perez",
            "order": 2,
            "profile_path": "/zz7D8Wnxw91bddp481fYxYKMeuO.jpg"
           },
           {
            "cast_id": 11,
            "character": "Rhonda Deane",
            "credit_id": "52fe43389251416c7500802b",
            "id": 9782,
            "name": "Tyra Ferrell",
            "order": 3,
            "profile_path": "/ehrlTSktNfShujcY3SaZyJYg2On.jpg"
           }
          ],
          "directors": [
           {
            "credit_id": "52fe43389251416c75007ff7",
            "department": "Directing",
            "id": 4037,
            "job": "Director",
            "name": "Ron Shelton",
            "profile_path": null
           }
          ],
          "genres": [
           {
            "id": 35,
            "name": "Comedy"
           },
           {
            "id": 18,
            "name": "Drama"
           }
          ],
          "homepage": "",
          "id": 10158,
          "imdb_id": "tt0105812",
          "original_language": "en",
          "original_title": "White Men Can't Jump",
          "overview": "Billy Hoyle (Woody Harrelson) and Sidney Deane (Wesley Snipes) are an unlikely pair of basketball hustlers. They team up to con their way across the courts of Los Angeles, playing a game that's fast dangerous - and funny.",
          "popularity": 0.972659881599964,
          "poster_path": "/s3ShPeMAN3kn3xBZ0DJABIqtPH1.jpg",
          "production_companies": [
           {
            "id": 25,
            "name": "20th Century Fox"
           }
          ],
          "production_countries": [
           {
            "iso_3166_1": "US",
            "name": "United States of America"
           }
          ],
          "release_date": "1992-03-26",
          "revenue": 90753806,
          "runtime": 115,
          "spoken_languages": [
           {
            "iso_639_1": "en",
            "name": "English"
           }
          ],
          "status": "Released",
          "tagline": "It ain't easy being this good.",
          "title": "White Men Can't Jump",
          "video": false,
          "vote_average": 6.3,
          "vote_count": 63
         }
        },
        {
         "_id": "8078",
         "_index": "tmdb",
         "_score": 6.6692567,
         "_source": {
          "adult": false,
          "backdrop_path": "/kFslzsvxOQgjbuDfta3kzbOWQY5.jpg",
          "belongs_to_collection": {
           "backdrop_path": "/52Lhwd7srnktMFDYkfhtMoZdabT.jpg",
           "id": 8091,
           "name": "Alien Collection",
           "poster_path": "/iVzIeC3PbG9BtDAudpwSNdKAgh6.jpg"
          },
          "budget": 70000000,
          "cast": [
           {
            "cast_id": 1,
            "character": "Ripley",
            "credit_id": "52fe4492c3a36847f809d98b",
            "id": 10205,
            "name": "Sigourney Weaver",
            "order": 0,
            "profile_path": "/pYtEkU8VOP0pS2gC1iD2Vuesgyj.jpg"
           },
           {
            "cast_id": 5,
            "character": "Annalee Call",
            "credit_id": "52fe4492c3a36847f809d9a1",
            "id": 1920,
            "name": "Winona Ryder",
            "order": 1,
            "profile_path": "/3Y2e5A0ic6fvHS9YNghfMbOaKaM.jpg"
           },
           {
            "cast_id": 6,
            "character": "Vriess",
            "credit_id": "52fe4492c3a36847f809d9a5",
            "id": 2413,
            "name": "Dominique Pinon",
            "order": 2,
            "profile_path": "/uXS9jinsWVT1ZWAz8rj9ifCy9qS.jpg"
           },
           {
            "cast_id": 7,
            "character": "Johner",
            "credit_id": "52fe4492c3a36847f809d9a9",
            "id": 2372,
            "name": "Ron Perlman",
            "order": 3,
            "profile_path": "/xZyrXT2iEmSOokQRc1hedmxrbTi.jpg"
           },
           {
            "cast_id": 8,
            "character": "Frank Elgyn",
            "credit_id": "52fe4492c3a36847f809d9ad",
            "id": 7486,
            "name": "Michael Wincott",
            "order": 4,
            "profile_path": "/pvKUzexxZT4sRTT1BczzrwX8ghz.jpg"
           },
           {
            "cast_id": 9,
            "character": "Dr. Jonathan Gediman",
            "credit_id": "52fe4492c3a36847f809d9b1",
            "id": 1370,
            "name": "Brad Dourif",
            "order": 5,
            "profile_path": "/6pqeGxtWEdDjYsnQfUkmzXLlDvs.jpg"
           },
           {
            "cast_id": 10,
            "character": "Christie",
            "credit_id": "52fe4492c3a36847f809d9b5",
            "id": 40276,
            "name": "Gary Dourdan",
            "order": 6,
            "profile_path": "/yGNXneJeb4Ug1iJ08lspzJocpN0.jpg"
           },
           {
            "cast_id": 11,
            "character": "General Martin Perez",
            "credit_id": "52fe4492c3a36847f809d9b9",
            "id": 6486,
            "name": "Dan Hedaya",
            "order": 7,
            "profile_path": "/5E4SUVfLMUKNCiP0dMhyOv3XHVZ.jpg"
           },
           {
            "cast_id": 12,
            "character": "Larry Purvis",
            "credit_id": "52fe4492c3a36847f809d9bd",
            "id": 2221,
            "name": "Leland Orser",
            "order": 8,
            "profile_path": "/2XnpH5LOE7Ln0JMhFTT73QscLQh.jpg"
           },
           {
            "cast_id": 13,
            "character": "Vincent Distephano",
            "credit_id": "52fe4492c3a36847f809d9c1",
            "id": 58650,
            "name": "Raymond Cruz",
            "order": 9,
            "profile_path": "/4k0r3xJjgTac5GiJoHDDBVAFYcj.jpg"
           },
           {
            "cast_id": 19,
            "character": "Dr. Mason Wren",
            "credit_id": "52fe4492c3a36847f809d9e3",
            "id": 5169,
            "name": "J.E. Freeman",
            "order": 10,
            "profile_path": "/lGqZh89pfgSNhIItjvn34jPO6HM.jpg"
           },
           {
            "cast_id": 74,
            "character": "Surgeon",
            "credit_id": "548d7d8692514122fc003bd3",
            "id": 1598,
            "name": "David St. James",
            "order": 11,
            "profile_path": "/cOJhnH9pJph2snOgpTMgWcWY5kz.jpg"
           },
           {
            "cast_id": 75,
            "character": "Scientist",
            "credit_id": "548d7da9925141031b000382",
            "id": 1398983,
            "name": "Marlene Bush",
            "order": 12,
            "profile_path": null
           }
          ],
          "directors": [
           {
            "credit_id": "52fe4492c3a36847f809d991",
            "department": "Directing",
            "id": 2419,
            "job": "Director",
            "name": "Jean-Pierre Jeunet",
            "profile_path": "/504QzXvAttagp7SvTyzuFXmzt1v.jpg"
           }
          ],
          "genres": [
           {
            "id": 28,
            "name": "Action"
           },
           {
            "id": 27,
            "name": "Horror"
           },
           {
            "id": 878,
            "name": "Science Fiction"
           }
          ],
          "homepage": "",
          "id": 8078,
          "imdb_id": "tt0118583",
          "original_language": "en",
          "original_title": "Alien: Resurrection",
          "overview": "Two hundred years after Lt. Ripley died, a group of scientists clone her, hoping to breed the ultimate weapon. But the new Ripley is full of surprises … as are the new aliens. Ripley must team with a band of smugglers to keep the creatures from reaching Earth.",
          "popularity": 1.31532467553944,
          "poster_path": "/ve2P64a9kzd7M78kfeaEzBEIEOR.jpg",
          "production_companies": [
           {
            "id": 19747,
            "name": "Brandywine Productions"
           },
           {
            "id": 306,
            "name": "Twentieth Century Fox Film Corporation"
           }
          ],
          "production_countries": [
           {
            "iso_3166_1": "US",
            "name": "United States of America"
           }
          ],
          "release_date": "1997-11-26",
          "revenue": 162000000,
          "runtime": 109,
          "spoken_languages": [
           {
            "iso_639_1": "en",
            "name": "English"
           }
          ],
          "status": "Released",
          "tagline": "It's already too late.",
          "title": "Alien: Resurrection",
          "video": false,
          "vote_average": 6,
          "vote_count": 393
         }
        },
        {
         "_id": "11824",
         "_index": "tmdb",
         "_score": 6.531829,
         "_source": {
          "adult": false,
          "backdrop_path": "/dNPmXYRS3nN4vD7MLtz5lP79DCB.jpg",
          "belongs_to_collection": {
           "backdrop_path": "/n48aLnG4NpTWpu1PXxxgFMYlbCM.jpg",
           "id": 43066,
           "name": "Teen Wolf Collection",
           "poster_path": "/gJEtFrz4lNFhPoQ5cFvSekZQJDT.jpg"
          },
          "budget": 0,
          "cast": [
           {
            "cast_id": 9,
            "character": "Scott Howard",
            "credit_id": "52fe448c9251416c75038b7f",
            "id": 521,
            "name": "Michael J. Fox",
            "order": 0,
            "profile_path": "/7yFPB60SpKQJA5wC1smdWjkDUED.jpg"
           },
           {
            "cast_id": 10,
            "character": "Harold Howard",
            "credit_id": "52fe448c9251416c75038b83",
            "id": 14848,
            "name": "James Hampton",
            "order": 1,
            "profile_path": "/fMaqAppdodHg5U96RKkC7P7lwOP.jpg"
           },
           {
            "cast_id": 11,
            "character": "Lisa 'Boof' Marconi",
            "credit_id": "52fe448c9251416c75038b87",
            "id": 70612,
            "name": "Susan Ursitti",
            "order": 2,
            "profile_path": null
           },
           {
            "cast_id": 12,
            "character": "Rupert 'Stiles' Stilinski",
            "credit_id": "52fe448c9251416c75038b8b",
            "id": 26470,
            "name": "Jerry Levine",
            "order": 3,
            "profile_path": "/6pNnyI19jquUa5dziLPZPsQn4WP.jpg"
           },
           {
            "cast_id": 13,
            "character": "Lewis",
            "credit_id": "52fe448c9251416c75038b8f",
            "id": 92623,
            "name": "Matt Adler",
            "order": 4,
            "profile_path": "/hklcdXdKkvW15x4g1XrrdrDiLGX.jpg"
           },
           {
            "cast_id": 14,
            "character": "Pamela Wells",
            "credit_id": "52fe448c9251416c75038b93",
            "id": 119892,
            "name": "Lorie Griffin",
            "order": 5,
            "profile_path": "/xmmIdEHoBTGWwQmql2PFEqUAbEw.jpg"
           },
           {
            "cast_id": 15,
            "character": "Vice Principal Rusty Thorne",
            "credit_id": "52fe448c9251416c75038b97",
            "id": 100614,
            "name": "Jim McKrell",
            "order": 6,
            "profile_path": null
           },
           {
            "cast_id": 16,
            "character": "Mick McAllister",
            "credit_id": "52fe448c9251416c75038b9b",
            "id": 119893,
            "name": "Mark Arnold",
            "order": 7,
            "profile_path": null
           },
           {
            "cast_id": 17,
            "character": "Coach Bobby Finstock",
            "credit_id": "52fe448c9251416c75038b9f",
            "id": 70868,
            "name": "Jay Tarses",
            "order": 8,
            "profile_path": null
           },
           {
            "cast_id": 18,
            "character": "Chubby",
            "credit_id": "52fe448c9251416c75038ba3",
            "id": 44818,
            "name": "Mark Holton",
            "order": 9,
            "profile_path": null
           },
           {
            "cast_id": 19,
            "character": "Kirk Lolley",
            "credit_id": "52fe448c9251416c75038ba7",
            "id": 48810,
            "name": "Scott Paulin",
            "order": 10,
            "profile_path": "/hXCaNiAPOuV16eLEWfnPmNHBX2L.jpg"
           },
           {
            "cast_id": 20,
            "character": "Tina",
            "credit_id": "52fe448c9251416c75038bab",
            "id": 119894,
            "name": "Elizabeth Gorcey",
            "order": 11,
            "profile_path": null
           },
           {
            "cast_id": 21,
            "character": "Dina",
            "credit_id": "52fe448c9251416c75038baf",
            "id": 119895,
            "name": "Melanie Manos",
            "order": 12,
            "profile_path": null
           },
           {
            "cast_id": 22,
            "character": "Brad",
            "credit_id": "52fe448c9251416c75038bb3",
            "id": 14737,
            "name": "Doug Savant",
            "order": 13,
            "profile_path": "/zg1NkpTEEjIvQDmTutRCiGZTKgm.jpg"
           },
           {
            "cast_id": 23,
            "character": "Malcolm",
            "credit_id": "52fe448c9251416c75038bb7",
            "id": 119896,
            "name": "Charles Zucker",
            "order": 14,
            "profile_path": null
           }
          ],
          "directors": [
           {
            "credit_id": "52fe448c9251416c75038b51",
            "department": "Directing",
            "id": 64877,
            "job": "Director",
            "name": "Rod Daniel",
            "profile_path": null
           }
          ],
          "genres": [
           {
            "id": 35,
            "name": "Comedy"
           },
           {
            "id": 14,
            "name": "Fantasy"
           },
           {
            "id": 10749,
            "name": "Romance"
           }
          ],
          "homepage": "",
          "id": 11824,
          "imdb_id": "tt0090142",
          "original_language": "en",
          "original_title": "Teen Wolf",
          "overview": "What's a high school kid got to do to be popular? Just let down his hair and howl! Starring Michael J. Fox (Back to the Future) Teen Wolf is an outrageous comedy about a shy teenager with more than a changing voice to contend with... he's a budding young werewolf! And when his new-found powers help him score at basketball - and with the popular girls - he has some pretty hairy decisions to make.",
          "popularity": 0.4280898232057,
          "poster_path": "/3TKJbKNpHvRP8YVnwbgfok41AAC.jpg",
          "production_companies": [
           {
            "id": 3975,
            "name": "Wolfkill"
           }
          ],
          "production_countries": [
           {
            "iso_3166_1": "US",
            "name": "United States of America"
           }
          ],
          "release_date": "1985-08-23",
          "revenue": 0,
          "runtime": 91,
          "spoken_languages": [
           {
            "iso_639_1": "en",
            "name": "English"
           }
          ],
          "status": "Released",
          "tagline": "He always wanted to be special... but he never expected this!",
          "title": "Teen Wolf",
          "video": false,
          "vote_average": 6.7,
          "vote_count": 54
         }
        },
        {
         "_id": "17654",
         "_index": "tmdb",
         "_score": 6.5275307,
         "_source": {
          "adult": false,
          "backdrop_path": "/nPBDOLBPdBapuhcv4xXopHX9BAE.jpg",
          "belongs_to_collection": null,
          "budget": 30000000,
          "cast": [
           {
            "cast_id": 3,
            "character": "Wikus van der Merwe",
            "credit_id": "52fe473b9251416c75092361",
            "id": 82191,
            "name": "Sharlto Copley",
            "order": 0,
            "profile_path": "/3ket3t8OFC3o1EYcpypMgJ41Q27.jpg"
           },
           {
            "cast_id": 4,
            "character": "Grey Bradnam",
            "credit_id": "52fe473c9251416c75092365",
            "id": 82193,
            "name": "Jason Cope",
            "order": 1,
            "profile_path": "/scn3r86ekzN1RQpsLc6Rhb7D76x.jpg"
           },
           {
            "cast_id": 15,
            "character": "Sarah Livingstone - Sociologist",
            "credit_id": "52fe473c9251416c750923a1",
            "id": 97599,
            "name": "Nathalie Boltt",
            "order": 2,
            "profile_path": "/5bpt1IKXPqsgDxOJ2BdGKoQCAV3.jpg"
           },
           {
            "cast_id": 16,
            "character": "Dr Katrina McKenzie",
            "credit_id": "52fe473c9251416c750923a5",
            "id": 230818,
            "name": "Sylvaine Strike",
            "order": 3,
            "profile_path": "/toznlVPsbkFnYs8JvZvGBMzz6D5.jpg"
           },
           {
            "cast_id": 17,
            "character": "Interviewee",
            "credit_id": "52fe473c9251416c750923a9",
            "id": 1086505,
            "name": "Elizabeth Mkandawie",
            "order": 4,
            "profile_path": null
           },
           {
            "cast_id": 18,
            "character": "Les Feldman - MIL Engineer",
            "credit_id": "52fe473c9251416c750923ad",
            "id": 3495,
            "name": "John Sumner",
            "order": 5,
            "profile_path": "/9b3RL7HRtPeqUrnCkO12bevK85a.jpg"
           },
           {
            "cast_id": 1,
            "character": "Dirk Michaels",
            "credit_id": "52fe473b9251416c75092359",
            "id": 53087,
            "name": "William Allen Young",
            "order": 6,
            "profile_path": "/pH8tVh3hnpIUscfT920WLBiHeOU.jpg"
           },
           {
            "cast_id": 20,
            "character": "Francois Moraneu - CIV Engineer Team",
            "credit_id": "52fe473c9251416c750923b5",
            "id": 240024,
            "name": "Nick Blake",
            "order": 7,
            "profile_path": "/7rtqlDb4WnqvL069OA5yZx5yOS8.jpg"
           },
           {
            "cast_id": 19,
            "character": "Interviewer",
            "credit_id": "52fe473c9251416c750923b1",
            "id": 1029046,
            "name": "Greg Melvill-Smith",
            "order": 8,
            "profile_path": "/z4nhS09mhZsQ3NZ6NQCiQsIwnfZ.jpg"
           },
           {
            "cast_id": 2,
            "character": "Ross Pienaar",
            "credit_id": "52fe473b9251416c7509235d",
            "id": 82190,
            "name": "Robert Hobbs",
            "order": 9,
            "profile_path": "/yN6gVehZi1Y5P5kDazI8FmB8Bb0.jpg"
           },
           {
            "cast_id": 13,
            "character": "Tania Van De Merwe",
            "credit_id": "52fe473c9251416c75092399",
            "id": 82192,
            "name": "Vanessa Haywood",
            "order": 10,
            "profile_path": "/iXiTyyrfdlxZ8wdffciAj21Z6Ly.jpg"
           },
           {
            "cast_id": 14,
            "character": "Thomas",
            "credit_id": "52fe473c9251416c7509239d",
            "id": 13094,
            "name": "Kenneth Nkosi",
            "order": 11,
            "profile_path": "/1SLAxQJUYRFWSj7shaSvt4AImJM.jpg"
           },
           {
            "cast_id": 21,
            "character": "Interviewee",
            "credit_id": "52fe473c9251416c750923b9",
            "id": 1086506,
            "name": "Morena Busa Sesatsa",
            "order": 12,
            "profile_path": null
           },
           {
            "cast_id": 22,
            "character": "Interviewee",
            "credit_id": "52fe473c9251416c750923bd",
            "id": 1086507,
            "name": "Themba Nkosi",
            "order": 13,
            "profile_path": null
           },
           {
            "cast_id": 23,
            "character": "Interviewee",
            "credit_id": "52fe473c9251416c750923c1",
            "id": 1086508,
            "name": "Mzwandile Nqoba",
            "order": 14,
            "profile_path": null
           },
           {
            "cast_id": 24,
            "character": "Interviewee",
            "credit_id": "52fe473c9251416c750923c5",
            "id": 1086509,
            "name": "Barry Strydom",
            "order": 15,
            "profile_path": null
           },
           {
            "cast_id": 25,
            "character": "James Hope - Police Officer",
            "credit_id": "52fe473c9251416c750923c9",
            "id": 173451,
            "name": "Jed Brophy",
            "order": 16,
            "profile_path": "/xfEiaREY2RJQosyGnGuGDcWONsX.jpg"
           },
           {
            "cast_id": 26,
            "character": "Piet Smit",
            "credit_id": "52fe473c9251416c750923cd",
            "id": 967456,
            "name": "Louis Minnaar",
            "order": 17,
            "profile_path": "/r8JxisQiVUW3TqiSfHd9d63yHry.jpg"
           },
           {
            "cast_id": 27,
            "character": "Sandra Van De Merwe",
            "credit_id": "52fe473c9251416c750923d1",
            "id": 967457,
            "name": "Marian Hooman",
            "order": 18,
            "profile_path": null
           },
           {
            "cast_id": 28,
            "character": "Michael Bloemstein - MNU Alien Civil Affairs",
            "credit_id": "52fe473c9251416c750923d5",
            "id": 967458,
            "name": "Vittorio Leonardi",
            "order": 19,
            "profile_path": null
           },
           {
            "cast_id": 40,
            "character": "MNU Doctor",
            "credit_id": "5464d2020e0a262942001f5f",
            "id": 1073473,
            "name": "David Clatworthy",
            "order": 20,
            "profile_path": "/sYy5IKaWGDlsEm8uiABzIxRlnAr.jpg"
           }
          ],
          "directors": [
           {
            "credit_id": "52fe473c9251416c7509236b",
            "department": "Directing",
            "id": 82194,
            "job": "Director",
            "name": "Neill Blomkamp",
            "profile_path": "/wM1ACz7B2km2KGkxA1sg3QyHrtL.jpg"
           }
          ],
          "genres": [
           {
            "id": 28,
            "name": "Action"
           },
           {
            "id": 878,
            "name": "Science Fiction"
           },
           {
            "id": 53,
            "name": "Thriller"
           }
          ],
          "homepage": "http://www.d-9.com/",
          "id": 17654,
          "imdb_id": "tt1136608",
          "original_language": "en",
          "original_title": "District 9",
          "overview": "Aliens land in South Africa and have no way home. Years later after living in a slum and wearing out their welcome the \"Non-Humans\" are being moved to a new tent city overseen by Multi-National United (MNU). The movie follows an MNU employee tasked with leading the relocation and his relationship with one of the alien leaders.",
          "popularity": 1.31922489525978,
          "poster_path": "/axFmCRNQsW6Bto8XuJKo08MPPV5.jpg",
          "production_companies": [
           {
            "id": 559,
            "name": "TriStar Pictures"
           },
           {
            "id": 8504,
            "name": "Block / Hanson"
           },
           {
            "id": 11,
            "name": "WingNut Films"
           },
           {
            "id": 8582,
            "name": "Canadian Film or Video Production Tax Credit (CPTC)"
           },
           {
            "id": 20667,
            "name": "District 9"
           },
           {
            "id": 2300,
            "name": "Key Creatives"
           },
           {
            "id": 20668,
            "name": "New Zealand Post Digital and Visual Effects Grant"
           },
           {
            "id": 12200,
            "name": "Province of British Columbia Production Services Tax Credit"
           },
           {
            "id": 11029,
            "name": "QED International"
           },
           {
            "id": 10884,
            "name": "The Department of Trade and Industry of South Africa"
           }
          ],
          "production_countries": [
           {
            "iso_3166_1": "CA",
            "name": "Canada"
           },
           {
            "iso_3166_1": "NZ",
            "name": "New Zealand"
           },
           {
            "iso_3166_1": "US",
            "name": "United States of America"
           },
           {
            "iso_3166_1": "ZA",
            "name": "South Africa"
           }
          ],
          "release_date": "2009-10-15",
          "revenue": 210819611,
          "runtime": 112,
          "spoken_languages": [
           {
            "iso_639_1": "af",
            "name": "Afrikaans"
           },
           {
            "iso_639_1": "ny",
            "name": ""
           },
           {
            "iso_639_1": "st",
            "name": ""
           },
           {
            "iso_639_1": "xh",
            "name": ""
           },
           {
            "iso_639_1": "zu",
            "name": "isiZulu"
           },
           {
            "iso_639_1": "en",
            "name": "English"
           }
          ],
          "status": "Released",
          "tagline": "You are not welcome here.",
          "title": "District 9",
          "video": false,
          "vote_average": 6.9,
          "vote_count": 1091
         }
        },
        {
         "_id": "1636",
         "_index": "tmdb",
         "_score": 6.4917965,
         "_source": {
          "adult": false,
          "backdrop_path": "/wWXpqD4DpYu8YYJXbdhc1xGvkN0.jpg",
          "belongs_to_collection": null,
          "budget": 48000000,
          "cast": [
           {
            "cast_id": 5,
            "character": "The Devil",
            "credit_id": "52fe4306c3a36847f8034ea3",
            "id": 13918,
            "name": "Elizabeth Hurley",
            "order": 0,
            "profile_path": "/lV6kPZyQtLPuegir5kVG9w6z1UQ.jpg"
           },
           {
            "cast_id": 6,
            "character": "Elliot",
            "credit_id": "52fe4306c3a36847f8034ea7",
            "id": 18269,
            "name": "Brendan Fraser",
            "order": 1,
            "profile_path": "/uNUsbLspmJxSKbix7ot2mBNFP6K.jpg"
           },
           {
            "cast_id": 7,
            "character": "Alison",
            "credit_id": "52fe4306c3a36847f8034eab",
            "id": 1518,
            "name": "Frances O'Connor",
            "order": 2,
            "profile_path": "/xLUO4E1lwkwOJ4uWmHuothCHah.jpg"
           },
           {
            "cast_id": 8,
            "character": "Daniel/Dan/Danny, Esteban, Beach Jock, Lamar Garrett, Dr. Ngegitigegitibaba",
            "credit_id": "52fe4306c3a36847f8034eaf",
            "id": 18270,
            "name": "Orlando Jones",
            "order": 3,
            "profile_path": "/7QOW3bgYjPxnjwrZDclmnJenhPH.jpg"
           },
           {
            "cast_id": 9,
            "character": "Bob/Roberto/Beach Jock",
            "credit_id": "52fe4306c3a36847f8034eb3",
            "id": 17342,
            "name": "Paul Adelstein",
            "order": 4,
            "profile_path": "/69N2a7DCYh15PHgsjPqLqB4Efm7.jpg"
           },
           {
            "cast_id": 10,
            "character": "Jerry/Alejandro/Beach Jock/Jerry Turner",
            "credit_id": "52fe4306c3a36847f8034eb7",
            "id": 18271,
            "name": "Toby Huss",
            "order": 5,
            "profile_path": "/g2DTpEl1DfsrN5oTcJuK5JtLmhX.jpg"
           },
           {
            "cast_id": 11,
            "character": "Angel",
            "credit_id": "52fe4306c3a36847f8034ebb",
            "id": 18272,
            "name": "Gabriel Casseus",
            "order": 6,
            "profile_path": "/pAp9Rhl0X3kpNlk0ms0lDpQrPDF.jpg"
           },
           {
            "cast_id": 12,
            "character": "Carol/Penthouse Hostess",
            "credit_id": "52fe4307c3a36847f8034ebf",
            "id": 18273,
            "name": "Miriam Shor",
            "order": 7,
            "profile_path": "/4UG6dUvA9QVigbrqQxRIP3veLGy.jpg"
           },
           {
            "cast_id": 27,
            "character": "Priest",
            "credit_id": "52fe4307c3a36847f8034f17",
            "id": 1535,
            "name": "Brian Doyle-Murray",
            "order": 8,
            "profile_path": "/fRLFXdb8UQvJs4euZ2sE6CpjbXn.jpg"
           },
           {
            "cast_id": 28,
            "character": "Desk Sergeant",
            "credit_id": "52fe4307c3a36847f8034f1b",
            "id": 35367,
            "name": "Jeff Doucette",
            "order": 9,
            "profile_path": "/eqeJstBl5iRibx7KxT4SMsmA2QK.jpg"
           },
           {
            "cast_id": 29,
            "character": "Synedyne Supervisor",
            "credit_id": "52fe4307c3a36847f8034f1f",
            "id": 140237,
            "name": "Aaron Lustig",
            "order": 10,
            "profile_path": "/3Ay4BadhJtyTWxhOwxvryHkE3dj.jpg"
           }
          ],
          "directors": [
           {
            "credit_id": "52fe4306c3a36847f8034e8d",
            "department": "Directing",
            "id": 1524,
            "job": "Director",
            "name": "Harold Ramis",
            "profile_path": "/zLzR2UwzyrR9A6RMarZJV833X9K.jpg"
           }
          ],
          "genres": [
           {
            "id": 35,
            "name": "Comedy"
           },
           {
            "id": 14,
            "name": "Fantasy"
           },
           {
            "id": 10749,
            "name": "Romance"
           }
          ],
          "homepage": "",
          "id": 1636,
          "imdb_id": "tt0230030",
          "original_language": "en",
          "original_title": "Bedazzled",
          "overview": "Elliot Richardson, suicidal techno geek, is given seven wishes to turn his life around when he meets up with a very seductive Satan. The catch: his soul. Some of his wishes include a 7 foot basketball star, a rock star, and a hamburger. But, as could be expected, the Devil must put her own little twist on each his fantasies.",
          "popularity": 1.46736857021151,
          "poster_path": "/wNCPhozZKIFXf9gjdckDHFAADbS.jpg",
          "production_companies": [
           {
            "id": 25,
            "name": "20th Century Fox"
           },
           {
            "id": 508,
            "name": "Regency Enterprises"
           }
          ],
          "production_countries": [
           {
            "iso_3166_1": "US",
            "name": "United States of America"
           }
          ],
          "release_date": "2000-10-19",
          "revenue": 90383208,
          "runtime": 93,
          "spoken_languages": [
           {
            "iso_639_1": "en",
            "name": "English"
           },
           {
            "iso_639_1": "ru",
            "name": "Pусский"
           },
           {
            "iso_639_1": "es",
            "name": "Español"
           }
          ],
          "status": "Released",
          "tagline": "Meet the Devil. She's giving Elliott seven wishes. But not a chance in Hell.",
          "title": "Bedazzled",
          "video": false,
          "vote_average": 5.4,
          "vote_count": 139
         }
        },
        {
         "_id": "80035",
         "_index": "tmdb",
         "_score": 6.458376,
         "_source": {
          "adult": false,
          "backdrop_path": "/2AqqmCXBzYh0Pyf6L6t8cHtsrGX.jpg",
          "belongs_to_collection": null,
          "budget": 68000000,
          "cast": [
           {
            "cast_id": 5,
            "character": "Franklin",
            "credit_id": "52fe479e9251416c91070355",
            "id": 21007,
            "name": "Jonah Hill",
            "order": 0,
            "profile_path": "/paKfXGK2gnYHWkqe1NiQR1pGac7.jpg"
           },
           {
            "cast_id": 6,
            "character": "Evan",
            "credit_id": "52fe479e9251416c91070359",
            "id": 7399,
            "name": "Ben Stiller",
            "order": 1,
            "profile_path": "/umikKeCX3vEZoUcx2klxPG8571s.jpg"
           },
           {
            "cast_id": 7,
            "character": "Bob",
            "credit_id": "52fe479e9251416c9107035d",
            "id": 4937,
            "name": "Vince Vaughn",
            "order": 2,
            "profile_path": "/1Ta0BKSJ1wku88M8qCfmlTQLzAf.jpg"
           },
           {
            "cast_id": 9,
            "character": "Jamarcus",
            "credit_id": "52fe479e9251416c91070361",
            "id": 98103,
            "name": "Richard Ayoade",
            "order": 3,
            "profile_path": "/70IJ3elpuc87HGeKfqIZeKrHO51.jpg"
           },
           {
            "cast_id": 10,
            "character": "Evan's wife",
            "credit_id": "52fe479e9251416c91070365",
            "id": 14892,
            "name": "Rosemarie DeWitt",
            "order": 4,
            "profile_path": "/uVbDEpLjOidwm92b23l0aMrJ9CG.jpg"
           },
           {
            "cast_id": 11,
            "character": "Manfred",
            "credit_id": "52fe479e9251416c91070369",
            "id": 8655,
            "name": "R. Lee Ermey",
            "order": 5,
            "profile_path": "/aRuHY9ct7LA4fEv1bdzOlPK1ClW.jpg"
           },
           {
            "cast_id": 12,
            "character": "Hero Alien",
            "credit_id": "52fe479e9251416c9107036d",
            "id": 17005,
            "name": "Doug Jones",
            "order": 6,
            "profile_path": "/4vTqBn4pQxb4Unou10ONZvgzf3Z.jpg"
           },
           {
            "cast_id": 13,
            "character": "Sergeant Bressman",
            "credit_id": "52fe479e9251416c91070371",
            "id": 62831,
            "name": "Will Forte",
            "order": 7,
            "profile_path": "/7f1mhkjuV18FABD3pYKwQA45nUg.jpg"
           },
           {
            "cast_id": 14,
            "character": "Jason",
            "credit_id": "52fe479e9251416c91070375",
            "id": 85139,
            "name": "Nicholas Braun",
            "order": 8,
            "profile_path": "/l8abR6GX9US4AvvVOuEeotvR3kZ.jpg"
           },
           {
            "cast_id": 15,
            "character": "Punk Kid",
            "credit_id": "52fe479e9251416c91070379",
            "id": 1060081,
            "name": "Johnny Pemberton",
            "order": 9,
            "profile_path": "/lV9UognW1VG8P8nESSrArveBRou.jpg"
           },
           {
            "cast_id": 16,
            "character": "Casual Wanker #2",
            "credit_id": "52fe479e9251416c9107037d",
            "id": 62863,
            "name": "Jorma Taccone",
            "order": 10,
            "profile_path": "/8NqZvjdsMIT3HgfdltoMBqxsEcB.jpg"
           },
           {
            "cast_id": 17,
            "character": "Kyle",
            "credit_id": "52fe479e9251416c91070381",
            "id": 1046354,
            "name": "Justin Wheelon",
            "order": 11,
            "profile_path": null
           },
           {
            "cast_id": 18,
            "character": "Olivia",
            "credit_id": "52fe479e9251416c91070385",
            "id": 170432,
            "name": "Willam Belli",
            "order": 12,
            "profile_path": "/yJxx10mp93U5jpG3bb3Id2pYVm3.jpg"
           },
           {
            "cast_id": 19,
            "character": "Mandy",
            "credit_id": "52fe479e9251416c91070389",
            "id": 450951,
            "name": "Carissa Capobianco",
            "order": 13,
            "profile_path": "/hXCzjFx0GwG4ipxi2ZhWanSEFRe.jpg"
           },
           {
            "cast_id": 27,
            "character": "Neighbor",
            "credit_id": "52fe479e9251416c910703ab",
            "id": 8289,
            "name": "Billy Crudup",
            "order": 14,
            "profile_path": "/kUcnYaHOjYS2nYz8Zs68KXPXYIx.jpg"
           },
           {
            "cast_id": 33,
            "character": "Chelsea",
            "credit_id": "52fe479e9251416c910703cd",
            "id": 990393,
            "name": "Erin Moriarty",
            "order": 15,
            "profile_path": "/v0jDVSB0HugI3mRjkirOgLBawM7.jpg"
           }
          ],
          "directors": [
           {
            "credit_id": "52fe479e9251416c91070345",
            "department": "Directing",
            "id": 62854,
            "job": "Director",
            "name": "Akiva Schaffer",
            "profile_path": "/AndF7ndhBbCgHTicoHjCKDxmoi5.jpg"
           }
          ],
          "genres": [
           {
            "id": 35,
            "name": "Comedy"
           },
           {
            "id": 878,
            "name": "Science Fiction"
           }
          ],
          "homepage": "",
          "id": 80035,
          "imdb_id": "tt1298649",
          "original_language": "en",
          "original_title": "The Watch",
          "overview": "Four everyday suburban guys come together as an excuse to escape their humdrum lives one night a week. But when they accidentally discover that their town has become overrun with aliens posing as ordinary suburbanites, they have no choice but to save their neighborhood - and the world - from total extermination.",
          "popularity": 1.2749157731002,
          "poster_path": "/llVq0170tBmPCcqVuFnV7CilrLj.jpg",
          "production_companies": [
           {
            "id": 7392,
            "name": "Twentieth Century Fox"
           },
           {
            "id": 2575,
            "name": "21 Laps Entertainment"
           }
          ],
          "production_countries": [
           {
            "iso_3166_1": "US",
            "name": "United States of America"
           }
          ],
          "release_date": "2012-07-27",
          "revenue": 34350553,
          "runtime": 98,
          "spoken_languages": [
           {
            "iso_639_1": "en",
            "name": "English"
           }
          ],
          "status": "Released",
          "tagline": "Got Protection?",
          "title": "The Watch",
          "video": false,
          "vote_average": 5.3,
          "vote_count": 345
         }
        },
        {
         "_id": "926",
         "_index": "tmdb",
         "_score": 6.1556296,
         "_source": {
          "adult": false,
          "backdrop_path": "/1sAm8L4yOquzak9bstajTIoCEmy.jpg",
          "belongs_to_collection": null,
          "budget": 45000000,
          "cast": [
           {
            "cast_id": 40,
            "character": "Jason Nesmith",
            "credit_id": "52fe428ec3a36847f8027ef3",
            "id": 12898,
            "name": "Tim Allen",
            "order": 0,
            "profile_path": "/uX2xVf6pMmPepxnvFWyBtjexzgY.jpg"
           },
           {
            "cast_id": 39,
            "character": "Gwen DeMarco",
            "credit_id": "52fe428ec3a36847f8027eef",
            "id": 10205,
            "name": "Sigourney Weaver",
            "order": 1,
            "profile_path": "/pYtEkU8VOP0pS2gC1iD2Vuesgyj.jpg"
           },
           {
            "cast_id": 26,
            "character": "Alexander Dane",
            "credit_id": "52fe428ec3a36847f8027ebb",
            "id": 4566,
            "name": "Alan Rickman",
            "order": 2,
            "profile_path": "/q7cZwS6CrGKegJltNwaBY5ZaWCK.jpg"
           },
           {
            "cast_id": 27,
            "character": "Fred Kwan",
            "credit_id": "52fe428ec3a36847f8027ebf",
            "id": 4252,
            "name": "Tony Shalhoub",
            "order": 3,
            "profile_path": "/jXzlVxS8u64XEZUoNPiuhGcQXDW.jpg"
           },
           {
            "cast_id": 28,
            "character": "Guy Fleegman",
            "credit_id": "52fe428ec3a36847f8027ec3",
            "id": 6807,
            "name": "Sam Rockwell",
            "order": 4,
            "profile_path": "/sKmpynD57Nwd62hrkjlXFK9hzGg.jpg"
           },
           {
            "cast_id": 29,
            "character": "Tommy Webber",
            "credit_id": "52fe428ec3a36847f8027ec7",
            "id": 15028,
            "name": "Daryl Mitchell",
            "order": 5,
            "profile_path": "/mSrPd1XH1akZtDXsBXN8m0wvluG.jpg"
           },
           {
            "cast_id": 30,
            "character": "Mathesar",
            "credit_id": "52fe428ec3a36847f8027ecb",
            "id": 15029,
            "name": "Enrico Colantoni",
            "order": 6,
            "profile_path": "/2MiGbHuTdUxMJOo4udBQ8x0XGHd.jpg"
           },
           {
            "cast_id": 31,
            "character": "Sarris",
            "credit_id": "52fe428ec3a36847f8027ecf",
            "id": 15030,
            "name": "Robin Sachs",
            "order": 7,
            "profile_path": "/rSMeopDC1loyjUVhxK0XjFfSlAC.jpg"
           },
           {
            "cast_id": 32,
            "character": "Quellek",
            "credit_id": "52fe428ec3a36847f8027ed3",
            "id": 15031,
            "name": "Patrick Breen",
            "order": 8,
            "profile_path": "/jMChbEq3GODrIoz1Jl4rlPGonY6.jpg"
           },
           {
            "cast_id": 33,
            "character": "Laliari",
            "credit_id": "52fe428ec3a36847f8027ed7",
            "id": 1294,
            "name": "Missi Pyle",
            "order": 9,
            "profile_path": "/rRVORUpcHPO9MqgK26H1JWwMZLn.jpg"
           },
           {
            "cast_id": 34,
            "character": "Teb",
            "credit_id": "52fe428ec3a36847f8027edb",
            "id": 15032,
            "name": "Jed Rees",
            "order": 10,
            "profile_path": "/u2zPeu9RguGzPagDjSPPxXFHxax.jpg"
           },
           {
            "cast_id": 35,
            "character": "Brandon",
            "credit_id": "52fe428ec3a36847f8027edf",
            "id": 15033,
            "name": "Justin Long",
            "order": 11,
            "profile_path": "/4mG8e1MAtkHAFewm2yJI3M1f59s.jpg"
           },
           {
            "cast_id": 36,
            "character": "Kyle",
            "credit_id": "52fe428ec3a36847f8027ee3",
            "id": 15034,
            "name": "Jeremy Howard",
            "order": 12,
            "profile_path": "/4GyPGjrvqs3zes8I1SWrQWukrA9.jpg"
           },
           {
            "cast_id": 37,
            "character": "Katelyn",
            "credit_id": "52fe428ec3a36847f8027ee7",
            "id": 15035,
            "name": "Kaitlin Cullum",
            "order": 13,
            "profile_path": "/dJxQ8Hqd1aKVQwlCw4bFP2SEL07.jpg"
           },
           {
            "cast_id": 38,
            "character": "Hollister",
            "credit_id": "52fe428ec3a36847f8027eeb",
            "id": 15036,
            "name": "Jonathan Feyer",
            "order": 14,
            "profile_path": null
           },
           {
            "cast_id": 45,
            "character": "Neru (as Samuel Lloyd)",
            "credit_id": "54e300af9251411953008ed5",
            "id": 46920,
            "name": "Sam Lloyd",
            "order": 15,
            "profile_path": "/xLSxSkq41HNGmK5cCeXqnki8CIz.jpg"
           },
           {
            "cast_id": 44,
            "character": "Lahnk",
            "credit_id": "54e300549251411099003520",
            "id": 11678,
            "name": "Rainn Wilson",
            "order": 16,
            "profile_path": "/Adq8cYhhzmSYRwMWDTc7O53L7FR.jpg"
           },
           {
            "cast_id": 43,
            "character": "Announcer (as Kevin Hamilton McDonald)",
            "credit_id": "54e2fff29251411956009563",
            "id": 58955,
            "name": "Kevin McDonald",
            "order": 17,
            "profile_path": "/cue14nfA1aAWmK0PUy9pHViJKMi.jpg"
           }
          ],
          "directors": [
           {
            "credit_id": "52fe428ec3a36847f8027e33",
            "department": "Directing",
            "id": 15002,
            "job": "Director",
            "name": "Dean Parisot",
            "profile_path": "/3h20QFQ6duhpJ1FMSeJiFju0WGp.jpg"
           }
          ],
          "genres": [
           {
            "id": 35,
            "name": "Comedy"
           },
           {
            "id": 878,
            "name": "Science Fiction"
           },
           {
            "id": 10751,
            "name": "Family"
           }
          ],
          "homepage": "",
          "id": 926,
          "imdb_id": "tt0177789",
          "original_language": "en",
          "original_title": "Galaxy Quest",
          "overview": "Decades after the success of the sci-fi series \"Galaxy Quest,\" the show's washed-up stars -- Jason Nesmith, Gwen DeMarco and Alexander Dane -- are unwittingly recruited by actual aliens to pull off an intergalactic rescue mission.",
          "popularity": 0.871338029381202,
          "poster_path": "/9yaxerm28NP4LIAsAS7zGAAbSSa.jpg",
          "production_companies": [
           {
            "id": 27,
            "name": "DreamWorks SKG"
           }
          ],
          "production_countries": [
           {
            "iso_3166_1": "US",
            "name": "United States of America"
           }
          ],
          "release_date": "1999-12-23",
          "revenue": 90683916,
          "runtime": 102,
          "spoken_languages": [
           {
            "iso_639_1": "en",
            "name": "English"
           }
          ],
          "status": "Released",
          "tagline": "A comedy of Galactic Proportions",
          "title": "Galaxy Quest",
          "video": false,
          "vote_average": 6.7,
          "vote_count": 228
         }
        },
        {
         "_id": "11548",
         "_index": "tmdb",
         "_score": 5.746967,
         "_source": {
          "adult": false,
          "backdrop_path": "/dg6euHvooHXQqgefeycmZoXGhWl.jpg",
          "belongs_to_collection": null,
          "budget": 0,
          "cast": [
           {
            "cast_id": 11,
            "character": "Frank Riley",
            "credit_id": "52fe44579251416c7503152d",
            "id": 7668,
            "name": "Hume Cronyn",
            "order": 0,
            "profile_path": "/28X1o4MxUHq4pgyv5VrsdpNSdB4.jpg"
           },
           {
            "cast_id": 14,
            "character": "Faye Riley",
            "credit_id": "52fe44579251416c75031539",
            "id": 5698,
            "name": "Jessica Tandy",
            "order": 1,
            "profile_path": "/9eaHz5lei5nAyiuH7fszw5zweSl.jpg"
           },
           {
            "cast_id": 12,
            "character": "Harry Noble",
            "credit_id": "52fe44579251416c75031531",
            "id": 1735,
            "name": "Frank McRae",
            "order": 2,
            "profile_path": "/xIjG8ef8Y2JU1KiDjcB5vJExXk.jpg"
           },
           {
            "cast_id": 13,
            "character": "Marisa Esteval",
            "credit_id": "52fe44579251416c75031535",
            "id": 7430,
            "name": "Elizabeth Peña",
            "order": 3,
            "profile_path": "/ePeN3h3UDH9S4THwxwWjQQyK3cH.jpg"
           },
           {
            "cast_id": 15,
            "character": "Mason Baylor",
            "credit_id": "52fe44579251416c7503153d",
            "id": 118937,
            "name": "Dennis Boutsikaris",
            "order": 4,
            "profile_path": "/uq1dmNevTzOw62hbLhE6JMu7p1H.jpg"
           },
           {
            "cast_id": 16,
            "character": "Sid Hogenson",
            "credit_id": "52fe44579251416c75031541",
            "id": 49835,
            "name": "Tom Aldredge",
            "order": 5,
            "profile_path": "/2unZxDykZPj823gr9aDvbSrYyDW.jpg"
           },
           {
            "cast_id": 17,
            "character": "Muriel Hogenson",
            "credit_id": "52fe44579251416c75031545",
            "id": 118940,
            "name": "Jane Hoffman",
            "order": 6,
            "profile_path": null
           },
           {
            "cast_id": 18,
            "character": "Gus",
            "credit_id": "52fe44579251416c75031549",
            "id": 113922,
            "name": "John DiSanti",
            "order": 7,
            "profile_path": null
           },
           {
            "cast_id": 19,
            "character": "Kovacs",
            "credit_id": "52fe44579251416c7503154d",
            "id": 59872,
            "name": "John Pankow",
            "order": 8,
            "profile_path": "/ur2Lfv0X2I5URYc1SZyWYcngbd2.jpg"
           },
           {
            "cast_id": 20,
            "character": "DeWitt",
            "credit_id": "52fe44579251416c75031551",
            "id": 81557,
            "name": "MacIntyre Dixon",
            "order": 9,
            "profile_path": null
           },
           {
            "cast_id": 21,
            "character": "Lacey, Real Estate Developer",
            "credit_id": "52fe44579251416c75031555",
            "id": 29368,
            "name": "Michael Greene",
            "order": 10,
            "profile_path": null
           },
           {
            "cast_id": 22,
            "character": "Mrs. Thompson",
            "credit_id": "52fe44579251416c75031559",
            "id": 24293,
            "name": "Doris Belack",
            "order": 11,
            "profile_path": "/zMnTARo4GTVRLlSj6161fIXwLEU.jpg"
           },
           {
            "cast_id": 23,
            "character": "Pamela",
            "credit_id": "52fe44579251416c7503155d",
            "id": 37600,
            "name": "Wendy Schaal",
            "order": 12,
            "profile_path": "/dcbLX1pB6MKGGD1waXkZs0co1fj.jpg"
           },
           {
            "cast_id": 32,
            "character": "Carlos",
            "credit_id": "545ff6f7c3a3685358009820",
            "id": 96442,
            "name": "Michael Carmine",
            "order": 13,
            "profile_path": "/kgDQUklJdbkuUZD3xeD1Kxayau9.jpg"
           }
          ],
          "directors": [
           {
            "credit_id": "52fe44579251416c750314f9",
            "department": "Directing",
            "id": 12677,
            "job": "Director",
            "name": "Matthew Robbins",
            "profile_path": "/oK61i61u3G5zZO5EtXmepY9IxGy.jpg"
           }
          ],
          "genres": [
           {
            "id": 35,
            "name": "Comedy"
           },
           {
            "id": 18,
            "name": "Drama"
           },
           {
            "id": 14,
            "name": "Fantasy"
           },
           {
            "id": 878,
            "name": "Science Fiction"
           },
           {
            "id": 10751,
            "name": "Family"
           }
          ],
          "homepage": "",
          "id": 11548,
          "imdb_id": "tt0092494",
          "original_language": "en",
          "original_title": "Batteries Not Included",
          "overview": "In a soon to be demolished block of apartments, the residents resist the criminal methods used to force them to leave so a greedy tycoon can build his new skyscraper. When tiny mechanical aliens land for a recharge, they decide to stay and help out.",
          "popularity": 0.552629555667242,
          "poster_path": "/6N2HGV0KgCWVg41zAgAuBbwcE3e.jpg",
          "production_companies": [
           {
            "id": 56,
            "name": "Amblin Entertainment"
           },
           {
            "id": 33,
            "name": "Universal Pictures"
           }
          ],
          "production_countries": [
           {
            "iso_3166_1": "US",
            "name": "United States of America"
           }
          ],
          "release_date": "1987-12-17",
          "revenue": 32945979,
          "runtime": 106,
          "spoken_languages": [
           {
            "iso_639_1": "en",
            "name": "English"
           }
          ],
          "status": "Released",
          "tagline": "Five ordinary people needed a miracle. Then one night, Faye Riley left the window open.",
          "title": "Batteries Not Included",
          "video": false,
          "vote_average": 6.3,
          "vote_count": 56
         }
        },
        {
         "_id": "8337",
         "_index": "tmdb",
         "_score": 5.5015993,
         "_source": {
          "adult": false,
          "backdrop_path": "/yJVp1C2evg53kOyndpmHM5aRhua.jpg",
          "belongs_to_collection": null,
          "budget": 4000000,
          "cast": [
           {
            "cast_id": 2,
            "character": "Nada",
            "credit_id": "52fe44a0c3a36847f80a0ca5",
            "id": 44240,
            "name": "Roddy Piper",
            "order": 0,
            "profile_path": "/quqBuo4vO6kRJ2BxwSZlts43nYc.jpg"
           },
           {
            "cast_id": 3,
            "character": "Holly",
            "credit_id": "52fe44a0c3a36847f80a0ca9",
            "id": 41229,
            "name": "Meg Foster",
            "order": 1,
            "profile_path": "/j4byQmH2KqFUhFDYKOQCsLnOA9P.jpg"
           },
           {
            "cast_id": 4,
            "character": "Frank",
            "credit_id": "52fe44a0c3a36847f80a0cad",
            "id": 65827,
            "name": "Keith David",
            "order": 2,
            "profile_path": "/nwAC9TgwRkj0Ritq93O8GeublyL.jpg"
           },
           {
            "cast_id": 5,
            "character": "Drifter",
            "credit_id": "52fe44a0c3a36847f80a0cb1",
            "id": 54564,
            "name": "George Buck Flower",
            "order": 3,
            "profile_path": "/xHzW4GszCLTZLNxvTcKL9ICuLIc.jpg"
           },
           {
            "cast_id": 6,
            "character": "Street Preacher",
            "credit_id": "52fe44a0c3a36847f80a0cb5",
            "id": 54565,
            "name": "Raymond St. Jacques",
            "order": 4,
            "profile_path": null
           },
           {
            "cast_id": 7,
            "character": "Gilbert",
            "credit_id": "52fe44a0c3a36847f80a0cb9",
            "id": 6916,
            "name": "Peter Jason",
            "order": 5,
            "profile_path": "/aiitfS96xAaJsjLVyliKX2LWtup.jpg"
           }
          ],
          "directors": [
           {
            "credit_id": "52fe44a0c3a36847f80a0ca1",
            "department": "Directing",
            "id": 11770,
            "job": "Director",
            "name": "John Carpenter",
            "profile_path": "/5Xv3IyZaXJ2qw4ZgRmuIcdtU8xU.jpg"
           }
          ],
          "genres": [
           {
            "id": 28,
            "name": "Action"
           },
           {
            "id": 27,
            "name": "Horror"
           },
           {
            "id": 878,
            "name": "Science Fiction"
           },
           {
            "id": 53,
            "name": "Thriller"
           }
          ],
          "homepage": "",
          "id": 8337,
          "imdb_id": "tt0096256",
          "original_language": "en",
          "original_title": "They Live",
          "overview": "Nada, a down-on-his-luck construction worker, discovers a pair of special sunglasses. Wearing them, he is able to see the world as it really is: people being bombarded by media and government with messages like \"Stay Asleep\", \"No Imagination\", \"Submit to Authority\". Even scarier is that he is able to see that some usually normal-looking people are in fact ugly aliens in charge of the massive campaign to keep humans subdued.",
          "popularity": 0.689238478352181,
          "poster_path": "/8N8BnBGwgsxXXwZ2q9eVFFIKFL1.jpg",
          "production_companies": [
           {
            "id": 33,
            "name": "Universal Pictures"
           },
           {
            "id": 17823,
            "name": "Alive Films"
           },
           {
            "id": 17824,
            "name": "Larry Franco Productions"
           }
          ],
          "production_countries": [
           {
            "iso_3166_1": "US",
            "name": "United States of America"
           }
          ],
          "release_date": "1988-11-23",
          "revenue": 0,
          "runtime": 93,
          "spoken_languages": [
           {
            "iso_639_1": "en",
            "name": "English"
           }
          ],
          "status": "Released",
          "tagline": "Who are they? And what do they want?",
          "title": "They Live",
          "video": false,
          "vote_average": 6.9,
          "vote_count": 89
         }
        },
        {
         "_id": "2787",
         "_index": "tmdb",
         "_score": 5.3065963,
         "_source": {
          "adult": false,
          "backdrop_path": "/yc0cEEZ9OO6ydyYmCEfY90Q9jII.jpg",
          "belongs_to_collection": {
           "backdrop_path": "/xb5zyHecWA7UACdiNPXDA3m5HSY.jpg",
           "id": 2794,
           "name": "The Chronicles of Riddick Collection",
           "poster_path": "/4R2zrqk9KzgxU9UDH3yUUsENXR.jpg"
          },
          "budget": 23000000,
          "cast": [
           {
            "cast_id": 1,
            "character": "Richard B. Riddick",
            "credit_id": "52fe436dc3a36847f80535fd",
            "id": 12835,
            "name": "Vin Diesel",
            "order": 0,
            "profile_path": "/qwyfzMKIhxJ7ols66FgEf7eGdcI.jpg"
           },
           {
            "cast_id": 2,
            "character": "Carolyn Fry",
            "credit_id": "52fe436dc3a36847f8053601",
            "id": 8329,
            "name": "Radha Mitchell",
            "order": 1,
            "profile_path": "/kKbnljNC07nqiucGeouxhKESXUC.jpg"
           },
           {
            "cast_id": 3,
            "character": "William J. Johns",
            "credit_id": "52fe436dc3a36847f8053605",
            "id": 6614,
            "name": "Cole Hauser",
            "order": 2,
            "profile_path": "/2izzcOrZpt22ObHjSNq3qRhrGHu.jpg"
           },
           {
            "cast_id": 4,
            "character": "Jack / Jackie",
            "credit_id": "52fe436dc3a36847f8053609",
            "id": 28098,
            "name": "Rhiana Griffith",
            "order": 3,
            "profile_path": "/2aHeZDmtcqdN2cfAZDlhnEW7rQ3.jpg"
           },
           {
            "cast_id": 5,
            "character": "Paris P. Ogilvie",
            "credit_id": "52fe436dc3a36847f805360d",
            "id": 28099,
            "name": "Lewis Fitz-Gerald",
            "order": 4,
            "profile_path": "/o0XcTwIcOVY1HHiKouvpx363PXu.jpg"
           },
           {
            "cast_id": 6,
            "character": "Shazza",
            "credit_id": "52fe436dc3a36847f8053611",
            "id": 26054,
            "name": "Claudia Black",
            "order": 5,
            "profile_path": "/A3qGrF1si2rGwiUTFjBw9mOv9Z7.jpg"
           },
           {
            "cast_id": 7,
            "character": "Greg Owens",
            "credit_id": "52fe436dc3a36847f8053615",
            "id": 28100,
            "name": "Simon Burke",
            "order": 6,
            "profile_path": "/f0NpWdQevKUbndxBNngFnMHwcMY.jpg"
           },
           {
            "cast_id": 8,
            "character": "Abu \"Imam\" al-Walid",
            "credit_id": "52fe436dc3a36847f8053619",
            "id": 65827,
            "name": "Keith David",
            "order": 7,
            "profile_path": "/nwAC9TgwRkj0Ritq93O8GeublyL.jpg"
           },
           {
            "cast_id": 21,
            "character": "John 'Zeke' Ezekiel",
            "credit_id": "53fc98000e0a267a7800a81f",
            "id": 12028,
            "name": "John Moore",
            "order": 8,
            "profile_path": "/qr12pX27OhWqlW1K75W8RaIg3Kf.jpg"
           },
           {
            "cast_id": 23,
            "character": "Suleiman",
            "credit_id": "53fc98200e0a267a6c00acc0",
            "id": 230602,
            "name": "Les Chantery",
            "order": 10,
            "profile_path": null
           },
           {
            "cast_id": 24,
            "character": "Hassan",
            "credit_id": "53fc98390e0a267a6600aabc",
            "id": 1357177,
            "name": "Sam Sari",
            "order": 11,
            "profile_path": null
           },
           {
            "cast_id": 25,
            "character": "Ali",
            "credit_id": "53fc98490e0a267a6f00ac8e",
            "id": 56450,
            "name": "Firass Dirani",
            "order": 12,
            "profile_path": "/dqIE2ckazhjMc5ETNCPgn8B4Mr9.jpg"
           },
           {
            "cast_id": 26,
            "character": "Total Stranger",
            "credit_id": "53fc98670e0a267a7200aca5",
            "id": 1357178,
            "name": "Ric Anderson",
            "order": 13,
            "profile_path": null
           },
           {
            "cast_id": 27,
            "character": "Captain Tom Mitchell",
            "credit_id": "53fc98770e0a267a6900acd2",
            "id": 1357179,
            "name": "Vic Wilson",
            "order": 14,
            "profile_path": null
           },
           {
            "cast_id": 28,
            "character": "Dead Crew Member",
            "credit_id": "53fc98840e0a267a7200acaa",
            "id": 1357180,
            "name": "Angela Moore",
            "order": 15,
            "profile_path": null
           }
          ],
          "directors": [
           {
            "credit_id": "52fe436dc3a36847f805361f",
            "department": "Directing",
            "id": 28239,
            "job": "Director",
            "name": "David Twohy",
            "profile_path": "/7hJbNy5XKO5je9FsSGvl4QbGyMM.jpg"
           },
           {
            "credit_id": "52fe436dc3a36847f8053637",
            "department": "Directing",
            "id": 3506,
            "job": "Director",
            "name": "Carolynne Cunningham",
            "profile_path": null
           }
          ],
          "genres": [
           {
            "id": 28,
            "name": "Action"
           },
           {
            "id": 878,
            "name": "Science Fiction"
           },
           {
            "id": 53,
            "name": "Thriller"
           }
          ],
          "homepage": "http://www.pitchblack.com/",
          "id": 2787,
          "imdb_id": "tt0134847",
          "original_language": "en",
          "original_title": "Pitch Black",
          "overview": "After crash-landing on a seemingly lifeless planet, pilot Carolyn Fry and the remaining passengers -- including murderer Riddick and policeman William J. Johns -- encounter an army of creatures whose only weakness is light. As night approaches and the aliens emerge, the passengers must rely on Riddick's powerful night vision to lead them through the darkness.",
          "popularity": 0.905551213010835,
          "poster_path": "/u6oDHb3z0uZNQHNdJwHJAW1jD4q.jpg",
          "production_companies": [
           {
            "id": 10201,
            "name": "Interscope Communications"
           }
          ],
          "production_countries": [
           {
            "iso_3166_1": "US",
            "name": "United States of America"
           }
          ],
          "release_date": "2000-02-18",
          "revenue": 53187659,
          "runtime": 109,
          "spoken_languages": [
           {
            "iso_639_1": "en",
            "name": "English"
           }
          ],
          "status": "Released",
          "tagline": "Don't be afraid of the dark. Be afraid of what's in the dark",
          "title": "Pitch Black",
          "video": false,
          "vote_average": 6.6,
          "vote_count": 810
         }
        },
        {
         "_id": "10947",
         "_index": "tmdb",
         "_score": 5.129005,
         "_source": {
          "adult": false,
          "backdrop_path": "/fY4SLH4MLU8D2XPqV4jjTBW6dmV.jpg",
          "belongs_to_collection": {
           "backdrop_path": "/t1mwGPJi3NkwMeyeUHr9zlQhlTo.jpg",
           "id": 87253,
           "name": "High School Musical Collection",
           "poster_path": "/dXIgM9sEWIkUfRH8GZUKHv1t5n.jpg"
          },
          "budget": 4200000,
          "cast": [
           {
            "cast_id": 1,
            "character": "Troy Bolton",
            "credit_id": "52fe43d79251416c75020297",
            "id": 29222,
            "name": "Zac Efron",
            "order": 0,
            "profile_path": "/l0nzNkwTTT4a7QDC3HzYQSYsyXY.jpg"
           },
           {
            "cast_id": 2,
            "character": "Gabriella Montez",
            "credit_id": "52fe43d79251416c7502029b",
            "id": 67599,
            "name": "Vanessa Hudgens",
            "order": 1,
            "profile_path": "/4TSmDk5NpIi2pIG6J1gJaxvmx5I.jpg"
           },
           {
            "cast_id": 3,
            "character": "Sharpay Evans",
            "credit_id": "52fe43d79251416c7502029f",
            "id": 67600,
            "name": "Ashley Tisdale",
            "order": 2,
            "profile_path": "/bRB3bV2yPDnFtsMBl3NMFAxJBO9.jpg"
           },
           {
            "cast_id": 4,
            "character": "Ryan Evans",
            "credit_id": "52fe43d79251416c750202a3",
            "id": 67601,
            "name": "Lucas Grabeel",
            "order": 3,
            "profile_path": "/heSgRPG1Mlyta4FzuPXqXxKhysq.jpg"
           },
           {
            "cast_id": 5,
            "character": "Chad",
            "credit_id": "52fe43d79251416c750202a7",
            "id": 67602,
            "name": "Corbin Bleu",
            "order": 4,
            "profile_path": "/1fTGgTuAa2EdvVJEj8Vu5PGifAn.jpg"
           },
           {
            "cast_id": 14,
            "character": "Taylor McKessie",
            "credit_id": "5449940ac3a3680fb4002680",
            "id": 180279,
            "name": "Monique Coleman",
            "order": 5,
            "profile_path": "/phGefy73dHXXisjZi0Egb0zUS3h.jpg"
           }
          ],
          "directors": [
           {
            "credit_id": "52fe43d79251416c750202ad",
            "department": "Directing",
            "id": 65310,
            "job": "Director",
            "name": "Kenny Ortega",
            "profile_path": "/rumgPYE4NRoV6eHL1gwzD1KPN8B.jpg"
           }
          ],
          "genres": [
           {
            "id": 35,
            "name": "Comedy"
           },
           {
            "id": 18,
            "name": "Drama"
           },
           {
            "id": 10402,
            "name": "Music"
           },
           {
            "id": 10751,
            "name": "Family"
           }
          ],
          "homepage": "http://tv.disney.go.com/disneychannel/originalmovies/highschoolmusical/index.html",
          "id": 10947,
          "imdb_id": "tt0475293",
          "original_language": "en",
          "original_title": "High School Musical",
          "overview": "Troy (Zac Efron), the popular captain of the basketball team, and Gabriella (Vanessa Anne Hudgens), the brainy and beautiful member of the academic club, break all the rules of East High society when they secretly audition for the leads in the school's musical. As they reach for the stars and follow their dreams, everyone learns about acceptance, teamwork, and being yourself. And it's all set to fun tunes and very cool dance moves!",
          "popularity": 0.920504216581989,
          "poster_path": "/nJPhjD6HCE6vPokWKuJtc9yX196.jpg",
          "production_companies": [
           {
            "id": 3213,
            "name": "Disney Channel"
           }
          ],
          "production_countries": [
           {
            "iso_3166_1": "US",
            "name": "United States of America"
           }
          ],
          "release_date": "2006-01-20",
          "revenue": 0,
          "runtime": 98,
          "spoken_languages": [
           {
            "iso_639_1": "en",
            "name": "English"
           }
          ],
          "status": "Released",
          "tagline": "",
          "title": "High School Musical",
          "video": false,
          "vote_average": 5.6,
          "vote_count": 168
         }
        },
        {
         "_id": "395",
         "_index": "tmdb",
         "_score": 5.0733447,
         "_source": {
          "adult": false,
          "backdrop_path": "/1vRCFWKPydH82T1wsPMYkRjcZXY.jpg",
          "belongs_to_collection": {
           "backdrop_path": "/c5ccDw4lcTUnYGdCxc2yEl8PjTk.jpg",
           "id": 115762,
           "name": "AVP Collection",
           "poster_path": "/zrApSsUX9i0qVntcCD0Pp55TdCy.jpg"
          },
          "budget": 70000000,
          "cast": [
           {
            "cast_id": 7,
            "character": "Alexa Woods",
            "credit_id": "52fe423ec3a36847f800f085",
            "id": 5411,
            "name": "Sanaa Lathan",
            "order": 0,
            "profile_path": "/hNGPCe0q8prMkBebLzpi2vBwEWr.jpg"
           },
           {
            "cast_id": 8,
            "character": "Sebastian de Rosa",
            "credit_id": "52fe423ec3a36847f800f089",
            "id": 5412,
            "name": "Raoul Bova",
            "order": 1,
            "profile_path": "/t3EgxATMC90KozckK3QXWS5Yn7a.jpg"
           },
           {
            "cast_id": 9,
            "character": "Graeme Miller",
            "credit_id": "52fe423ec3a36847f800f08d",
            "id": 1125,
            "name": "Ewen Bremner",
            "order": 2,
            "profile_path": "/7CQBnBHSNDcbY2LucqWqEpKWsCH.jpg"
           },
           {
            "cast_id": 10,
            "character": "Maxwell Stafford",
            "credit_id": "52fe423ec3a36847f800f091",
            "id": 5414,
            "name": "Colin Salmon",
            "order": 3,
            "profile_path": "/65NLTMVHkjLIMjxasspMjwa6dLu.jpg"
           },
           {
            "cast_id": 11,
            "character": "Mark Verheiden",
            "credit_id": "52fe423ec3a36847f800f095",
            "id": 2478,
            "name": "Tommy Flanagan",
            "order": 4,
            "profile_path": "/eVHvVN05wJSINFlkjxjwOwe6C3L.jpg"
           },
           {
            "cast_id": 12,
            "character": "Joe Connors",
            "credit_id": "52fe423ec3a36847f800f099",
            "id": 5415,
            "name": "Joseph Rye",
            "order": 5,
            "profile_path": "/oPqpgbXaAKQkbVqh3eBlJ6Mu8QJ.jpg"
           },
           {
            "cast_id": 13,
            "character": "Adele Rousseau",
            "credit_id": "52fe423ec3a36847f800f09d",
            "id": 5416,
            "name": "Agathe de La Boulaye",
            "order": 6,
            "profile_path": "/qM8M1ZFp1kmn1IFTwPghxH2spYB.jpg"
           },
           {
            "cast_id": 14,
            "character": "Rusten Quinn",
            "credit_id": "52fe423ec3a36847f800f0a1",
            "id": 5417,
            "name": "Carsten Norgaard",
            "order": 7,
            "profile_path": "/aAbBoUqBS5d8vngGj6KsVzW0p64.jpg"
           },
           {
            "cast_id": 15,
            "character": "Thomas Parks",
            "credit_id": "52fe423ec3a36847f800f0a5",
            "id": 5421,
            "name": "Sam Troughton",
            "order": 8,
            "profile_path": "/yGSOUqTaeRwZ8A2Kh5Xy79NdXkM.jpg"
           },
           {
            "cast_id": 25,
            "character": "Charles Bishop Weyland",
            "credit_id": "52fe423ec3a36847f800f0df",
            "id": 2714,
            "name": "Lance Henriksen",
            "order": 9,
            "profile_path": "/wf4Pr9RxsHGd0O9fLPiB3Al8IVC.jpg"
           },
           {
            "cast_id": 72,
            "character": "Klaus",
            "credit_id": "548d7109c3a36820be003577",
            "id": 176199,
            "name": "Kieran Bew",
            "order": 10,
            "profile_path": "/7M8zEhrRMEKwOij0rrUDV9t70FT.jpg"
           },
           {
            "cast_id": 73,
            "character": "Sven",
            "credit_id": "548d712b92514122fc003a82",
            "id": 101923,
            "name": "Adrian Bouchet",
            "order": 11,
            "profile_path": "/ad4W4W5bmKM6ablaCbXxSYilehd.jpg"
           },
           {
            "cast_id": 74,
            "character": "Supervisor",
            "credit_id": "548d714dc3a36820b8004285",
            "id": 68224,
            "name": "Liz May Brice",
            "order": 12,
            "profile_path": "/5cAhs4oR33lHJcjEIfDCnnOynX7.jpg"
           },
           {
            "cast_id": 75,
            "character": "Grid",
            "credit_id": "548d716dc3a368153b0018f8",
            "id": 109870,
            "name": "Tom Woodruff Jr.",
            "order": 13,
            "profile_path": null
           },
           {
            "cast_id": 76,
            "character": "Scar",
            "credit_id": "548d7184c3a3684ea10038f1",
            "id": 946696,
            "name": "Ian Whyte",
            "order": 14,
            "profile_path": "/6mRY7hTtHfDTGuTLmZmODOu9buF.jpg"
           }
          ],
          "directors": [
           {
            "credit_id": "52fe423ec3a36847f800f063",
            "department": "Directing",
            "id": 4014,
            "job": "Director",
            "name": "Paul W.S. Anderson",
            "profile_path": "/s0JuUAQtfBha5gqGWto2JcGBtbG.jpg"
           }
          ],
          "genres": [
           {
            "id": 28,
            "name": "Action"
           },
           {
            "id": 12,
            "name": "Adventure"
           },
           {
            "id": 878,
            "name": "Science Fiction"
           }
          ],
          "homepage": "http://www.avp-movie.com/",
          "id": 395,
          "imdb_id": "tt0370263",
          "original_language": "en",
          "original_title": "AVP: Alien vs. Predator",
          "overview": "When scientists discover something in the Arctic that appears to be a buried Pyramid, they send a research team out to investigate. Little do they know that they are about to step into a hunting ground where Aliens are grown as sport for the Predator race. The films sees two of the largest comic and movie franchises collide in an all out war.",
          "popularity": 1.50759960204486,
          "poster_path": "/9xzRKUBIqLwhhOYtcE7P1BbWXP9.jpg",
          "production_companies": [
           {
            "id": 306,
            "name": "Twentieth Century Fox Film Corporation"
           },
           {
            "id": 1302,
            "name": "Davis Entertainment"
           },
           {
            "id": 11345,
            "name": "Stillking Films"
           },
           {
            "id": 19747,
            "name": "Brandywine Productions"
           },
           {
            "id": 19828,
            "name": "Lonlink Productions"
           },
           {
            "id": 19829,
            "name": "Kut Productions"
           },
           {
            "id": 19830,
            "name": "Zweite Babelsberg Film GmbH"
           },
           {
            "id": 19834,
            "name": "Inside Track Films"
           },
           {
            "id": 19835,
            "name": "Charenton Productions Limited"
           }
          ],
          "production_countries": [
           {
            "iso_3166_1": "CA",
            "name": "Canada"
           },
           {
            "iso_3166_1": "CZ",
            "name": "Czech Republic"
           },
           {
            "iso_3166_1": "DE",
            "name": "Germany"
           },
           {
            "iso_3166_1": "GB",
            "name": "United Kingdom"
           },
           {
            "iso_3166_1": "US",
            "name": "United States of America"
           }
          ],
          "release_date": "2004-08-13",
          "revenue": 171183863,
          "runtime": 101,
          "spoken_languages": [
           {
            "iso_639_1": "it",
            "name": "Italiano"
           },
           {
            "iso_639_1": "en",
            "name": "English"
           }
          ],
          "status": "Released",
          "tagline": "Whoever wins... We lose",
          "title": "AVP: Alien vs. Predator",
          "video": false,
          "vote_average": 5.5,
          "vote_count": 394
         }
        },
        {
         "_id": "8859",
         "_index": "tmdb",
         "_score": 4.9289107,
         "_source": {
          "adult": false,
          "backdrop_path": "/i27vFixWQzSGfMcUjXYziyxWLI5.jpg",
          "belongs_to_collection": null,
          "budget": 13000000,
          "cast": [
           {
            "cast_id": 1,
            "character": "Jesse",
            "credit_id": "52fe44c1c3a36847f80a831b",
            "id": 18976,
            "name": "Ashton Kutcher",
            "order": 0,
            "profile_path": "/g9FF8F6zoYlRJGU0KQGSklqsbOd.jpg"
           },
           {
            "cast_id": 4,
            "character": "Chester",
            "credit_id": "52fe44c1c3a36847f80a8327",
            "id": 57599,
            "name": "Seann William Scott",
            "order": 1,
            "profile_path": "/c7iqFLkgNiTMAS9xGw0GlfJcm4H.jpg"
           },
           {
            "cast_id": 2,
            "character": "Christie Boner",
            "credit_id": "52fe44c1c3a36847f80a831f",
            "id": 56128,
            "name": "Kristy Swanson",
            "order": 2,
            "profile_path": "/pzguOB8oUos8YJqTSKPf3z4KOv9.jpg"
           },
           {
            "cast_id": 3,
            "character": "Wanda",
            "credit_id": "52fe44c1c3a36847f80a8323",
            "id": 9278,
            "name": "Jennifer Garner",
            "order": 3,
            "profile_path": "/tQLAbyf218NlZ9eTy5OBcgUOvDi.jpg"
           },
           {
            "cast_id": 11,
            "character": "Wilma",
            "credit_id": "52fe44c1c3a36847f80a834f",
            "id": 80109,
            "name": "Marla Sokoloff",
            "order": 4,
            "profile_path": "/t1AqyY4woqhVdixPj2bcfrUd7s5.jpg"
           }
          ],
          "directors": [
           {
            "credit_id": "52fe44c1c3a36847f80a832d",
            "department": "Directing",
            "id": 56591,
            "job": "Director",
            "name": "Danny Leiner",
            "profile_path": "/baaonHW8JdQXyuQJODB0UvQfTAi.jpg"
           }
          ],
          "genres": [
           {
            "id": 35,
            "name": "Comedy"
           }
          ],
          "homepage": "",
          "id": 8859,
          "imdb_id": "tt0242423",
          "original_language": "en",
          "original_title": "Dude, Where’s My Car?",
          "overview": "Jesse and Chester, two bumbling stoners, wake up one morning from a night of partying and cannot remember where they parked their car. They encounter a variety of people while looking for it, including their angry girlfriends, an angry street gang, a transexual stripper, a cult of alien seeking fanatics, and aliens in human form looking for a mystical device that could save or destroy the world.",
          "popularity": 1.14376759608434,
          "poster_path": "/3KoZiWlgvmeDYiLk9oOMpEvZThb.jpg",
          "production_companies": [
           {
            "id": 25,
            "name": "20th Century Fox"
           },
           {
            "id": 1088,
            "name": "Alcon Entertainment"
           }
          ],
          "production_countries": [
           {
            "iso_3166_1": "US",
            "name": "United States of America"
           }
          ],
          "release_date": "2000-12-15",
          "revenue": 73180723,
          "runtime": 83,
          "spoken_languages": [
           {
            "iso_639_1": "en",
            "name": "English"
           }
          ],
          "status": "Released",
          "tagline": "After a night they can't remember, comes a day they'll never forget.",
          "title": "Dude, Where’s My Car?",
          "video": false,
          "vote_average": 5.4,
          "vote_count": 112
         }
        },
        {
         "_id": "41154",
         "_index": "tmdb",
         "_score": 4.87677,
         "_source": {
          "adult": false,
          "backdrop_path": "/7u3UyejCbhM3jXcZ86xzA9JJxge.jpg",
          "belongs_to_collection": {
           "backdrop_path": "/iGEoxfkFZXQcqAkDUDpnjqGCN6R.jpg",
           "id": 86055,
           "name": "Men In Black Collection",
           "poster_path": "/rWcgZaoJ0nxTFRn0H6w9bdtoDUI.jpg"
          },
          "budget": 225000000,
          "cast": [
           {
            "cast_id": 4,
            "character": "Agent J",
            "credit_id": "52fe45b7c3a36847f80d6875",
            "id": 2888,
            "name": "Will Smith",
            "order": 0,
            "profile_path": "/2iYXDlCvLyVO49louRyDDXagZ0G.jpg"
           },
           {
            "cast_id": 5,
            "character": "Agent K",
            "credit_id": "52fe45b7c3a36847f80d6879",
            "id": 2176,
            "name": "Tommy Lee Jones",
            "order": 1,
            "profile_path": "/gRXugLFvr1oHZ6alLUxmYDq8cgW.jpg"
           },
           {
            "cast_id": 6,
            "character": "Young Agent K",
            "credit_id": "52fe45b7c3a36847f80d687d",
            "id": 16851,
            "name": "Josh Brolin",
            "order": 2,
            "profile_path": "/x8KKnvHyPvH16M6waAnY1OeCtA8.jpg"
           },
           {
            "cast_id": 15,
            "character": "Griffin",
            "credit_id": "52fe45b7c3a36847f80d68a9",
            "id": 72873,
            "name": "Michael Stuhlbarg",
            "order": 3,
            "profile_path": "/i2AFa0liDriyN93myRSZHTUtoTN.jpg"
           },
           {
            "cast_id": 10,
            "character": "Agent O",
            "credit_id": "52fe45b7c3a36847f80d6893",
            "id": 7056,
            "name": "Emma Thompson",
            "order": 4,
            "profile_path": "/cWTBHN8kLf6yapxiaQD9C6N1uMw.jpg"
           },
           {
            "cast_id": 31,
            "character": "Boris The Animal",
            "credit_id": "52fe45b7c3a36847f80d6901",
            "id": 55936,
            "name": "Jemaine Clement",
            "order": 5,
            "profile_path": "/crxCXudFMxuPqrYqYiTYKbhImhv.jpg"
           },
           {
            "cast_id": 11,
            "character": "Boris's Girlfriend",
            "credit_id": "52fe45b7c3a36847f80d6897",
            "id": 151246,
            "name": "Nicole Scherzinger",
            "order": 6,
            "profile_path": "/vJksimGKKHXx6NlvqVIBfmo1XQA.jpg"
           },
           {
            "cast_id": 13,
            "character": "Young Agent O",
            "credit_id": "52fe45b7c3a36847f80d68a1",
            "id": 59860,
            "name": "Alice Eve",
            "order": 7,
            "profile_path": "/G3YOQbFMnPGBO5LrN3WJTs2kJf.jpg"
           },
           {
            "cast_id": 14,
            "character": "Andy Warhol",
            "credit_id": "52fe45b7c3a36847f80d68a5",
            "id": 19278,
            "name": "Bill Hader",
            "order": 8,
            "profile_path": "/3Z5JsyLw7YTLZgpA3FAlLmFSN9F.jpg"
           },
           {
            "cast_id": 33,
            "character": "Jeffrey Price",
            "credit_id": "52fe45b7c3a36847f80d6905",
            "id": 87070,
            "name": "Michael Chernus",
            "order": 9,
            "profile_path": "/z3H7if45AI2bpT98m5geAXdlrSV.jpg"
           },
           {
            "cast_id": 34,
            "character": "Agent X",
            "credit_id": "52fe45b7c3a36847f80d6909",
            "id": 33533,
            "name": "David Rasche",
            "order": 10,
            "profile_path": "/i4q2WtUwedoHvzODnY0A2KeGqsN.jpg"
           },
           {
            "cast_id": 35,
            "character": "Mr. Wu",
            "credit_id": "52fe45b7c3a36847f80d690d",
            "id": 91387,
            "name": "Keone Young",
            "order": 11,
            "profile_path": "/bzJWn4q0Vt6l5zZ33Q0dtB77g4S.jpg"
           },
           {
            "cast_id": 36,
            "character": "Colonel's Son",
            "credit_id": "52fe45b7c3a36847f80d6911",
            "id": 1068400,
            "name": "Cayen Martin",
            "order": 12,
            "profile_path": "/unS8e1UmhF3EMS3p79M5xgPHwfn.jpg"
           },
           {
            "cast_id": 37,
            "character": "Colonel",
            "credit_id": "52fe45b7c3a36847f80d6915",
            "id": 450,
            "name": "Mike Colter",
            "order": 13,
            "profile_path": "/eP0RelLOZrlMH2W3qFVx87VG9ij.jpg"
           },
           {
            "cast_id": 38,
            "character": "MIB Tech #1 (uncredited)",
            "credit_id": "54c4157f92514124ed0064ab",
            "id": 1152008,
            "name": "Dan Bittner",
            "order": 14,
            "profile_path": null
           }
          ],
          "directors": [
           {
            "credit_id": "52fe45b7c3a36847f80d6883",
            "department": "Directing",
            "id": 5174,
            "job": "Director",
            "name": "Barry Sonnenfeld",
            "profile_path": "/21AEXVpaJt5V6xxn8IxA175F8Q3.jpg"
           }
          ],
          "genres": [
           {
            "id": 28,
            "name": "Action"
           },
           {
            "id": 35,
            "name": "Comedy"
           },
           {
            "id": 878,
            "name": "Science Fiction"
           }
          ],
          "homepage": "http://www.sonypictures.ca/english/movies/meninblack3/",
          "id": 41154,
          "imdb_id": "tt1409024",
          "original_language": "en",
          "original_title": "Men in Black 3",
          "overview": "Agents J (Will Smith) and K (Tommy Lee Jones) are back...in time. J has seen some inexplicable things in his 15 years with the Men in Black, but nothing, not even aliens, perplexes him as much as his wry, reticent partner. But when K's life and the fate of the planet are put at stake, Agent J will have to travel back in time to put things right. J discovers that there are secrets to the universe that K never told him - secrets that will reveal themselves as he teams up with the young Agent K (Josh Brolin) to save his partner, the agency, and the future of humankind.",
          "popularity": 1.7883520936843,
          "poster_path": "/sIuneIyme2O3qYxEZTVNyJ0F0LC.jpg",
          "production_companies": [
           {
            "id": 56,
            "name": "Amblin Entertainment"
           },
           {
            "id": 9169,
            "name": "Hemisphere Media Capital"
           },
           {
            "id": 6736,
            "name": "Imagenation Abu Dhabi FZ"
           },
           {
            "id": 5627,
            "name": "Media Magik Entertainment"
           },
           {
            "id": 11084,
            "name": "Parkes/MacDonald Productions"
           }
          ],
          "production_countries": [
           {
            "iso_3166_1": "US",
            "name": "United States of America"
           }
          ],
          "release_date": "2012-05-25",
          "revenue": 624026776,
          "runtime": 106,
          "spoken_languages": [
           {
            "iso_639_1": "en",
            "name": "English"
           }
          ],
          "status": "Released",
          "tagline": "They are back... in time.",
          "title": "Men in Black 3",
          "video": false,
          "vote_average": 6.1,
          "vote_count": 2153
         }
        },
        {
         "_id": "5491",
         "_index": "tmdb",
         "_score": 4.792473,
         "_source": {
          "adult": false,
          "backdrop_path": "/vaLKZRGpTjzDFJuByJ6MCQe5e8T.jpg",
          "belongs_to_collection": null,
          "budget": 44000000,
          "cast": [
           {
            "cast_id": 11,
            "character": "Terl",
            "credit_id": "52fe4409c3a36847f807e75d",
            "id": 8891,
            "name": "John Travolta",
            "order": 0,
            "profile_path": "/ns8uZHEHzV18ifqA9secv8c2Ard.jpg"
           },
           {
            "cast_id": 12,
            "character": "Jonnie Goodboy Tyler",
            "credit_id": "52fe4409c3a36847f807e761",
            "id": 12834,
            "name": "Barry Pepper",
            "order": 1,
            "profile_path": "/xLVueyLs2MERkS9RxERa3VCn95s.jpg"
           },
           {
            "cast_id": 13,
            "character": "Ker",
            "credit_id": "52fe4409c3a36847f807e765",
            "id": 2178,
            "name": "Forest Whitaker",
            "order": 2,
            "profile_path": "/4pMQkelS5lK661m9Kz3oIxLYiyS.jpg"
           },
           {
            "cast_id": 14,
            "character": "Carlo",
            "credit_id": "52fe4409c3a36847f807e769",
            "id": 8335,
            "name": "Kim Coates",
            "order": 3,
            "profile_path": "/xGoPaGsqRWCsDDDmY1gNR8eoxTA.jpg"
           },
           {
            "cast_id": 15,
            "character": "Chrissy",
            "credit_id": "52fe4409c3a36847f807e76d",
            "id": 43611,
            "name": "Sabine Karsenti",
            "order": 4,
            "profile_path": null
           },
           {
            "cast_id": 16,
            "character": "Mickey",
            "credit_id": "52fe4409c3a36847f807e771",
            "id": 43612,
            "name": "Christian Tessier",
            "order": 5,
            "profile_path": null
           },
           {
            "cast_id": 17,
            "character": "Sammy",
            "credit_id": "52fe4409c3a36847f807e775",
            "id": 43613,
            "name": "Sylvain Landry",
            "order": 6,
            "profile_path": null
           },
           {
            "cast_id": 18,
            "character": "Parson Staffer",
            "credit_id": "52fe4409c3a36847f807e779",
            "id": 742,
            "name": "Michael Byrne",
            "order": 7,
            "profile_path": "/rmgL88xFEk0iBOcCr7d9V6WfaOi.jpg"
           },
           {
            "cast_id": 19,
            "character": "Robert the Fox",
            "credit_id": "52fe4409c3a36847f807e77d",
            "id": 14700,
            "name": "Richard Tyson",
            "order": 8,
            "profile_path": "/pwgw79SpPJmn3406s72supF0EdS.jpg"
           },
           {
            "cast_id": 20,
            "character": "Processing Clerk",
            "credit_id": "52fe4409c3a36847f807e781",
            "id": 1288583,
            "name": "Christopher Freeman",
            "order": 9,
            "profile_path": null
           },
           {
            "cast_id": 21,
            "character": "Planetship",
            "credit_id": "52fe4409c3a36847f807e785",
            "id": 181010,
            "name": "Shaun Austin-Olsen",
            "order": 10,
            "profile_path": "/aunxQUbkpZjiEmSAncNtvInID33.jpg"
           },
           {
            "cast_id": 22,
            "character": "Assistant Planetship / Psychlo Guard",
            "credit_id": "52fe4409c3a36847f807e789",
            "id": 7009,
            "name": "Tim Post",
            "order": 11,
            "profile_path": null
           },
           {
            "cast_id": 23,
            "character": "Bartender",
            "credit_id": "52fe4409c3a36847f807e78d",
            "id": 26093,
            "name": "Earl Pastko",
            "order": 12,
            "profile_path": null
           },
           {
            "cast_id": 24,
            "character": "Rock",
            "credit_id": "52fe4409c3a36847f807e791",
            "id": 7014,
            "name": "Michel Perron",
            "order": 13,
            "profile_path": "/qHx0U6EattCgT6m46f9RXwRlTya.jpg"
           }
          ],
          "directors": [
           {
            "credit_id": "52fe4409c3a36847f807e723",
            "department": "Directing",
            "id": 5058,
            "job": "Director",
            "name": "Roger Christian",
            "profile_path": null
           }
          ],
          "genres": [
           {
            "id": 878,
            "name": "Science Fiction"
           },
           {
            "id": 10752,
            "name": "War"
           }
          ],
          "homepage": "",
          "id": 5491,
          "imdb_id": "tt0185183",
          "original_language": "en",
          "original_title": "Battlefield Earth",
          "overview": "In the year 3000, man is no match for the Psychlo's, a greedy, manipulative race of aliens on a quest for ultimate profit. Led by the powerful Terl, the Psychlo's are stripping Earth clean of its natural resources, using the broken remnants of humanity as slaves. What is left of the human race has descended into a near primitive state. After being captured, it is up to Tyler to save mankind.",
          "popularity": 0.493964585440995,
          "poster_path": "/iKXAoormYwNDdnKUJpxHTBdvw05.jpg",
          "production_companies": [
           {
            "id": 6194,
            "name": "Warner Bros."
           },
           {
            "id": 10210,
            "name": "Morgan Creek Productions"
           },
           {
            "id": 1403,
            "name": "Franchise Pictures"
           },
           {
            "id": 7406,
            "name": "JTP Films"
           },
           {
            "id": 19718,
            "name": "Battlefield Productions"
           }
          ],
          "production_countries": [
           {
            "iso_3166_1": "US",
            "name": "United States of America"
           }
          ],
          "release_date": "2000-05-10",
          "revenue": 21400000,
          "runtime": 118,
          "spoken_languages": [
           {
            "iso_639_1": "en",
            "name": "English"
           }
          ],
          "status": "Released",
          "tagline": "Take Back The Planet",
          "title": "Battlefield Earth",
          "video": false,
          "vote_average": 3.1,
          "vote_count": 61
         }
        },
        {
         "_id": "10328",
         "_index": "tmdb",
         "_score": 4.792473,
         "_source": {
          "adult": false,
          "backdrop_path": "/k6UMKqeJ4v749zvQaz2UBDjTNv.jpg",
          "belongs_to_collection": {
           "backdrop_path": "/o32F4wuQJPBnP5FVkOGP9DxGYJI.jpg",
           "id": 86307,
           "name": "Cocoon Collection",
           "poster_path": "/gl5n88EJeVEMVv3rrGsDUUtibHf.jpg"
          },
          "budget": 0,
          "cast": [
           {
            "cast_id": 14,
            "character": "Jack Bonner",
            "credit_id": "52fe435a9251416c7500d163",
            "id": 26472,
            "name": "Steve Guttenberg",
            "order": 0,
            "profile_path": "/utLqKSEN9TX3EniBlX4BpytDunB.jpg"
           },
           {
            "cast_id": 18,
            "character": "Kitty",
            "credit_id": "52fe435a9251416c7500d173",
            "id": 194670,
            "name": "Tahnee Welch",
            "order": 1,
            "profile_path": "/2ukOU34TyotPuy8sYNMW4w1kOcX.jpg"
           },
           {
            "cast_id": 12,
            "character": "Walter",
            "credit_id": "52fe435a9251416c7500d159",
            "id": 6197,
            "name": "Brian Dennehy",
            "order": 2,
            "profile_path": "/5OgSljTrXQ3pZvy66WveAGpygnS.jpg"
           },
           {
            "cast_id": 9,
            "character": "Arthur Selwyn",
            "credit_id": "52fe435a9251416c7500d14d",
            "id": 18156,
            "name": "Don Ameche",
            "order": 3,
            "profile_path": "/nEALranFWJsZoAyNqgLX28kdM9n.jpg"
           },
           {
            "cast_id": 10,
            "character": "Benjamin Luckett",
            "credit_id": "52fe435a9251416c7500d151",
            "id": 11065,
            "name": "Wilford Brimley",
            "order": 4,
            "profile_path": "/t0TLF4qXgXiroirvjVWWP88B0GD.jpg"
           },
           {
            "cast_id": 11,
            "character": "Joseph Finley",
            "credit_id": "52fe435a9251416c7500d155",
            "id": 7668,
            "name": "Hume Cronyn",
            "order": 5,
            "profile_path": "/28X1o4MxUHq4pgyv5VrsdpNSdB4.jpg"
           },
           {
            "cast_id": 15,
            "character": "Mary Luckett",
            "credit_id": "52fe435a9251416c7500d167",
            "id": 21151,
            "name": "Maureen Stapleton",
            "order": 6,
            "profile_path": "/w0H1432eANSJBjk6SG6xOVWnfuW.jpg"
           },
           {
            "cast_id": 16,
            "character": "Bernie Lefkowitz",
            "credit_id": "52fe435a9251416c7500d16b",
            "id": 64929,
            "name": "Jack Gilford",
            "order": 7,
            "profile_path": "/fXrElDPanfn1Trb1kkyK0HEnw9q.jpg"
           },
           {
            "cast_id": 17,
            "character": "Alma Finley",
            "credit_id": "52fe435a9251416c7500d16f",
            "id": 5698,
            "name": "Jessica Tandy",
            "order": 8,
            "profile_path": "/9eaHz5lei5nAyiuH7fszw5zweSl.jpg"
           },
           {
            "cast_id": 19,
            "character": "John Dexter",
            "credit_id": "52fe435a9251416c7500d177",
            "id": 15661,
            "name": "Clint Howard",
            "order": 9,
            "profile_path": "/fIaMzJ5qbInzseGGjZi57Rx7Gv3.jpg"
           },
           {
            "cast_id": 20,
            "character": "Susan",
            "credit_id": "52fe435a9251416c7500d17b",
            "id": 13260,
            "name": "Linda Harrison",
            "order": 10,
            "profile_path": "/hT3pOpVkSoYV1RgxkOiu2CukKAv.jpg"
           },
           {
            "cast_id": 21,
            "character": "Bess McCarthy",
            "credit_id": "52fe435a9251416c7500d17f",
            "id": 54122,
            "name": "Gwen Verdon",
            "order": 11,
            "profile_path": "/wDs6NbixGiYxXsVZawrWKVGbPZV.jpg"
           },
           {
            "cast_id": 22,
            "character": "Rosie Lefkowitz",
            "credit_id": "52fe435a9251416c7500d183",
            "id": 136482,
            "name": "Herta Ware",
            "order": 12,
            "profile_path": null
           },
           {
            "cast_id": 23,
            "character": "David",
            "credit_id": "52fe435a9251416c7500d187",
            "id": 29508,
            "name": "Barret Oliver",
            "order": 13,
            "profile_path": "/tRcMJl1gNu4KRjnZ7wpENLaJ46Q.jpg"
           },
           {
            "cast_id": 24,
            "character": "Pillsbury",
            "credit_id": "52fe435a9251416c7500d18b",
            "id": 102392,
            "name": "Tyrone Power Jr.",
            "order": 14,
            "profile_path": null
           },
           {
            "cast_id": 25,
            "character": "John Dexter",
            "credit_id": "52fe435a9251416c7500d18f",
            "id": 15661,
            "name": "Clint Howard",
            "order": 15,
            "profile_path": "/fIaMzJ5qbInzseGGjZi57Rx7Gv3.jpg"
           },
           {
            "cast_id": 26,
            "character": "Pops",
            "credit_id": "52fe435a9251416c7500d193",
            "id": 140584,
            "name": "Charles Lampkin",
            "order": 16,
            "profile_path": null
           },
           {
            "cast_id": 27,
            "character": "Doc",
            "credit_id": "52fe435a9251416c7500d197",
            "id": 92821,
            "name": "Mike Nomad",
            "order": 17,
            "profile_path": null
           },
           {
            "cast_id": 28,
            "character": "Lou Pine",
            "credit_id": "52fe435a9251416c7500d19b",
            "id": 190194,
            "name": "Jorge Gil",
            "order": 18,
            "profile_path": null
           },
           {
            "cast_id": 29,
            "character": "DMV Clerk",
            "credit_id": "52fe435a9251416c7500d19f",
            "id": 129466,
            "name": "James Ritz",
            "order": 19,
            "profile_path": null
           },
           {
            "cast_id": 30,
            "character": "Smiley",
            "credit_id": "52fe435a9251416c7500d1a3",
            "id": 1205162,
            "name": "Charles Rainsbury",
            "order": 20,
            "profile_path": null
           },
           {
            "cast_id": 31,
            "character": "Alien",
            "credit_id": "52fe435a9251416c7500d1a7",
            "id": 1164530,
            "name": "Wendy J. Cooke",
            "order": 21,
            "profile_path": null
           },
           {
            "cast_id": 32,
            "character": "Alien",
            "credit_id": "52fe435a9251416c7500d1ab",
            "id": 1205163,
            "name": "Pamela Prescott",
            "order": 22,
            "profile_path": null
           },
           {
            "cast_id": 33,
            "character": "Alien",
            "credit_id": "52fe435a9251416c7500d1af",
            "id": 1205164,
            "name": "Dinah Sue Rowley",
            "order": 23,
            "profile_path": null
           },
           {
            "cast_id": 34,
            "character": "Alien",
            "credit_id": "52fe435a9251416c7500d1b3",
            "id": 1205165,
            "name": "Gabriella Sinclair",
            "order": 24,
            "profile_path": null
           },
           {
            "cast_id": 35,
            "character": "Bank Teller",
            "credit_id": "52fe435a9251416c7500d1b7",
            "id": 1205166,
            "name": "Cyndi Vicino",
            "order": 25,
            "profile_path": null
           },
           {
            "cast_id": 36,
            "character": "Doctor",
            "credit_id": "52fe435a9251416c7500d1bb",
            "id": 201224,
            "name": "Russ Wheeler",
            "order": 26,
            "profile_path": null
           },
           {
            "cast_id": 37,
            "character": "Reverend",
            "credit_id": "52fe435a9251416c7500d1bf",
            "id": 56039,
            "name": "Harold Bergman",
            "order": 27,
            "profile_path": null
           },
           {
            "cast_id": 38,
            "character": "Waitress",
            "credit_id": "52fe435a9251416c7500d1c3",
            "id": 39924,
            "name": "Ivy Thayer",
            "order": 28,
            "profile_path": null
           },
           {
            "cast_id": 39,
            "character": "Kirk",
            "credit_id": "52fe435a9251416c7500d1c7",
            "id": 1205167,
            "name": "Fred Broderson",
            "order": 29,
            "profile_path": null
           },
           {
            "cast_id": 40,
            "character": "Salvatore",
            "credit_id": "52fe435a9251416c7500d1cb",
            "id": 1205168,
            "name": "Mark Cheresnick",
            "order": 30,
            "profile_path": null
           },
           {
            "cast_id": 41,
            "character": "Realtor",
            "credit_id": "52fe435a9251416c7500d1cf",
            "id": 1205169,
            "name": "Bette Shoor",
            "order": 31,
            "profile_path": null
           },
           {
            "cast_id": 42,
            "character": "Coast Guard First Class BM",
            "credit_id": "52fe435a9251416c7500d1d3",
            "id": 972383,
            "name": "Mark Simpson",
            "order": 32,
            "profile_path": null
           },
           {
            "cast_id": 43,
            "character": "Coast Guard Second Class BM",
            "credit_id": "52fe435a9251416c7500d1d7",
            "id": 1205170,
            "name": "Robert Slacum Jr.",
            "order": 33,
            "profile_path": null
           },
           {
            "cast_id": 58,
            "character": "St. Petersburg Dectective",
            "credit_id": "53832ad0c3a368737d0038ef",
            "id": 22250,
            "name": "Rance Howard",
            "order": 34,
            "profile_path": "/i7tkpb7GLJXjwUNyrpOy63FiStt.jpg"
           },
           {
            "cast_id": 45,
            "character": "Woman",
            "credit_id": "52fe435a9251416c7500d1df",
            "id": 8188,
            "name": "Jean Speegle Howard",
            "order": 35,
            "profile_path": "/6GxAKydN0p77XI0ixTAJeWFPiRR.jpg"
           },
           {
            "cast_id": 46,
            "character": "Leader, New Yorkers Dance Band",
            "credit_id": "52fe435a9251416c7500d1e3",
            "id": 1205171,
            "name": "Charles Voelker",
            "order": 36,
            "profile_path": null
           },
           {
            "cast_id": 47,
            "character": "Jasper",
            "credit_id": "52fe435a9251416c7500d1e7",
            "id": 1205172,
            "name": "Irving Krone",
            "order": 37,
            "profile_path": null
           },
           {
            "cast_id": 48,
            "character": "Policeman",
            "credit_id": "52fe435a9251416c7500d1eb",
            "id": 942263,
            "name": "Clarence Thomas",
            "order": 38,
            "profile_path": null
           },
           {
            "cast_id": 49,
            "character": "Policeman",
            "credit_id": "52fe435a9251416c7500d1ef",
            "id": 1205173,
            "name": "Ted Science",
            "order": 39,
            "profile_path": null
           },
           {
            "cast_id": 51,
            "character": "Dock Worker (uncredited)",
            "credit_id": "52fe435a9251416c7500d1f3",
            "id": 1205174,
            "name": "Jim Fitzpatrick",
            "order": 40,
            "profile_path": null
           },
           {
            "cast_id": 57,
            "character": "Bar Patron (uncredited)",
            "credit_id": "52fe435a9251416c7500d1f7",
            "id": 93695,
            "name": "Tracy Roberts",
            "order": 41,
            "profile_path": null
           }
          ],
          "directors": [
           {
            "credit_id": "52fe435a9251416c7500d15f",
            "department": "Directing",
            "id": 6159,
            "job": "Director",
            "name": "Ron Howard",
            "profile_path": "/67WIgpOGIeb4NSN9yIxsOITbnns.jpg"
           }
          ],
          "genres": [
           {
            "id": 35,
            "name": "Comedy"
           },
           {
            "id": 18,
            "name": "Drama"
           },
           {
            "id": 878,
            "name": "Science Fiction"
           }
          ],
          "homepage": "",
          "id": 10328,
          "imdb_id": "tt0088933",
          "original_language": "en",
          "original_title": "Cocoon",
          "overview": "A group of aliens return to earth to take back some cocoons of their people they left behind from an earlier trip. They kept the recovered cocoons in the swimming pool of a house they rented in a small Florida town. Their mission is hampered by a number of old people from an elderly home nearby, who have been secretly using the pool and discovering the unusual power of these cocoons.",
          "popularity": 0.564425457668256,
          "poster_path": "/foIhEPQoqDctfwsHmmYwbNz5A2g.jpg",
          "production_companies": [
           {
            "id": 306,
            "name": "Twentieth Century Fox Film Corporation"
           }
          ],
          "production_countries": [
           {
            "iso_3166_1": "US",
            "name": "United States of America"
           }
          ],
          "release_date": "1985-06-21",
          "revenue": 85313124,
          "runtime": 117,
          "spoken_languages": [
           {
            "iso_639_1": "en",
            "name": "English"
           }
          ],
          "status": "Released",
          "tagline": "Beyond the innocence of youth, and the wisdom of age, lies the wonder of... Cocoon",
          "title": "Cocoon",
          "video": false,
          "vote_average": 6.5,
          "vote_count": 51
         }
        },
        {
         "_id": "2666",
         "_index": "tmdb",
         "_score": 1.6364226,
         "_source": {
          "adult": false,
          "backdrop_path": "/rIWui0S2ugwTWlhna6CTS3RYW9q.jpg",
          "belongs_to_collection": null,
          "budget": 27000000,
          "cast": [
           {
            "cast_id": 12,
            "character": "John Murdoch",
            "credit_id": "52fe4363c3a36847f8050b6d",
            "id": 17328,
            "name": "Rufus Sewell",
            "order": 0,
            "profile_path": "/f2PNMnztHluTOw8YfCJUZ2pKfbe.jpg"
           },
           {
            "cast_id": 13,
            "character": "Inspector Frank Bumstead",
            "credit_id": "52fe4363c3a36847f8050b71",
            "id": 227,
            "name": "William Hurt",
            "order": 1,
            "profile_path": "/mf5GiYZjURQ72CPtY1kBva7mqIK.jpg"
           },
           {
            "cast_id": 14,
            "character": "Dr. Daniel P. Schreber",
            "credit_id": "52fe4363c3a36847f8050b75",
            "id": 2628,
            "name": "Kiefer Sutherland",
            "order": 2,
            "profile_path": "/4YvDfOfD4TgyzDkLGoq76g5BZNe.jpg"
           },
           {
            "cast_id": 15,
            "character": "Emma Murdoch",
            "credit_id": "52fe4363c3a36847f8050b79",
            "id": 6161,
            "name": "Jennifer Connelly",
            "order": 3,
            "profile_path": "/jjsSmMATyYbM6cKauHOAcfKEk4F.jpg"
           },
           {
            "cast_id": 16,
            "character": "Mr. Hand",
            "credit_id": "52fe4363c3a36847f8050b7d",
            "id": 13474,
            "name": "Richard O'Brien",
            "order": 4,
            "profile_path": "/pCxCt82DQQLTgOryp6FPczmN3L9.jpg"
           },
           {
            "cast_id": 17,
            "character": "Mr. Book",
            "credit_id": "52fe4363c3a36847f8050b81",
            "id": 385,
            "name": "Ian Richardson",
            "order": 5,
            "profile_path": "/pQYgIwPfdJAJViPJcc80n9BKSP4.jpg"
           },
           {
            "cast_id": 18,
            "character": "Mr. Wall",
            "credit_id": "52fe4363c3a36847f8050b85",
            "id": 27752,
            "name": "Bruce Spence",
            "order": 6,
            "profile_path": "/pwJJBmO9MG3OxVX9efGrB6BTFyw.jpg"
           },
           {
            "cast_id": 19,
            "character": "Det. Eddie Walenski",
            "credit_id": "52fe4363c3a36847f8050b89",
            "id": 27753,
            "name": "Colin Friels",
            "order": 7,
            "profile_path": "/tXKCpTwCs4TZYdQ6p5Kch7sRkkS.jpg"
           },
           {
            "cast_id": 20,
            "character": "Officer Husselbeck",
            "credit_id": "52fe4363c3a36847f8050b8d",
            "id": 27754,
            "name": "Mitchell Butel",
            "order": 8,
            "profile_path": null
           },
           {
            "cast_id": 21,
            "character": "May",
            "credit_id": "52fe4363c3a36847f8050b91",
            "id": 27755,
            "name": "Melissa George",
            "order": 9,
            "profile_path": "/6FwOUF7oxvMA7AEZ8uVQwAhQIpH.jpg"
           },
           {
            "cast_id": 27,
            "character": "Chief Inspector Stromboli",
            "credit_id": "52fe4363c3a36847f8050bb3",
            "id": 40046,
            "name": "Frank Gallacher",
            "order": 10,
            "profile_path": null
           },
           {
            "cast_id": 28,
            "character": "Hotel Manager / Vendor",
            "credit_id": "52fe4363c3a36847f8050bb7",
            "id": 1040112,
            "name": "Ritchie Singer",
            "order": 11,
            "profile_path": "/vLlS5rNEiEPOSuZaxAIex8Y53K6.jpg"
           },
           {
            "cast_id": 29,
            "character": "Taxi Driver",
            "credit_id": "52fe4363c3a36847f8050bbb",
            "id": 152463,
            "name": "Justin Monjo",
            "order": 12,
            "profile_path": null
           },
           {
            "cast_id": 30,
            "character": "Mr. Rain",
            "credit_id": "52fe4363c3a36847f8050bbf",
            "id": 15340,
            "name": "Nicholas Bell",
            "order": 13,
            "profile_path": "/jtwLg2u2Zjoi0DFkmadvFIcfhdp.jpg"
           },
           {
            "cast_id": 31,
            "character": "Mr. Sleep",
            "credit_id": "52fe4363c3a36847f8050bc3",
            "id": 1121516,
            "name": "Satya Gumbert",
            "order": 14,
            "profile_path": null
           }
          ],
          "directors": [
           {
            "credit_id": "52fe4363c3a36847f8050b2d",
            "department": "Directing",
            "id": 21085,
            "job": "Director",
            "name": "Alex Proyas",
            "profile_path": "/yRSdtJ9WAK7UL8z7XI3LYQUBPpG.jpg"
           }
          ],
          "genres": [
           {
            "id": 9648,
            "name": "Mystery"
           },
           {
            "id": 878,
            "name": "Science Fiction"
           }
          ],
          "homepage": "",
          "id": 2666,
          "imdb_id": "tt0118929",
          "original_language": "en",
          "original_title": "Dark City",
          "overview": "A man struggles with memories of his past, including a wife he cannot remember, in a nightmarish world with no sun and run by beings with telekinetic powers who seek the souls of humans.",
          "popularity": 1.14962628019977,
          "poster_path": "/yR7rapBFxBoBT0vkZQIXhLBr726.jpg",
          "production_companies": [
           {
            "id": 12,
            "name": "New Line Cinema"
           },
           {
            "id": 908,
            "name": "Mystery Clock Cinema"
           }
          ],
          "production_countries": [
           {
            "iso_3166_1": "AU",
            "name": "Australia"
           },
           {
            "iso_3166_1": "US",
            "name": "United States of America"
           }
          ],
          "release_date": "1998-02-27",
          "revenue": 14435076,
          "runtime": 100,
          "spoken_languages": [
           {
            "iso_639_1": "en",
            "name": "English"
           }
          ],
          "status": "Released",
          "tagline": "A world where the night never ends.",
          "title": "Dark City",
          "video": false,
          "vote_average": 7.1,
          "vote_count": 197
         }
        },
        {
         "_id": "13523",
         "_index": "tmdb",
         "_score": 1.6025233,
         "_source": {
          "adult": false,
          "backdrop_path": "/1RaVsWb6gz6L5ZzQfviFAjWmLBP.jpg",
          "belongs_to_collection": null,
          "budget": 19000000,
          "cast": [
           {
            "cast_id": 1,
            "character": "Ian",
            "credit_id": "52fe45769251416c750574c5",
            "id": 62816,
            "name": "Josh Zuckerman",
            "order": 0,
            "profile_path": "/rasXHgYeUA2X72sF8VuPUcB7c6G.jpg"
           },
           {
            "cast_id": 2,
            "character": "Felicia",
            "credit_id": "52fe45769251416c750574c9",
            "id": 58370,
            "name": "Amanda Crew",
            "order": 1,
            "profile_path": "/agkUNwyootzekZzeEJ4oV68oRJx.jpg"
           },
           {
            "cast_id": 3,
            "character": "Lance",
            "credit_id": "52fe45769251416c750574cd",
            "id": 54729,
            "name": "Clark Duke",
            "order": 2,
            "profile_path": "/hvzUtE31lUqZaRqxBtBp044kRAT.jpg"
           },
           {
            "cast_id": 4,
            "character": "Rex",
            "credit_id": "52fe45769251416c750574d1",
            "id": 11006,
            "name": "James Marsden",
            "order": 3,
            "profile_path": "/htBil0Vayd09haeUVoKEPxuantT.jpg"
           },
           {
            "cast_id": 5,
            "character": "Ezekiel",
            "credit_id": "52fe45769251416c750574d5",
            "id": 13922,
            "name": "Seth Green",
            "order": 4,
            "profile_path": "/7ksgEtZZIhSkJmt7zMyVDOQfdxu.jpg"
           },
           {
            "cast_id": 6,
            "character": "Mary",
            "credit_id": "52fe45769251416c750574d9",
            "id": 52050,
            "name": "Alice Greczyn",
            "order": 5,
            "profile_path": "/nO3ZLjJ6ZUOgOTX2eB1UOa4tket.jpg"
           },
           {
            "cast_id": 7,
            "character": "Ms. Tasty",
            "credit_id": "52fe45769251416c750574dd",
            "id": 74618,
            "name": "Katrina Bowden",
            "order": 6,
            "profile_path": "/6p01U3WklVJAoU9pvDcuD8wM8bg.jpg"
           },
           {
            "cast_id": 11,
            "character": "Randy",
            "credit_id": "52fe45769251416c750574ed",
            "id": 81197,
            "name": "Mark L. Young",
            "order": 7,
            "profile_path": "/9CkVCWt1xTVPTJesAdeZygYaBpZ.jpg"
           },
           {
            "cast_id": 12,
            "character": "Andy",
            "credit_id": "52fe45769251416c750574f1",
            "id": 64135,
            "name": "Charlie McDermott",
            "order": 8,
            "profile_path": "/r2v4vggSfSQOyUZujyacGI0Kwk0.jpg"
           }
          ],
          "directors": [
           {
            "credit_id": "52fe45769251416c750574e3",
            "department": "Directing",
            "id": 74619,
            "job": "Director",
            "name": "Sean Anders",
            "profile_path": "/9PsLZSfLinkQJMFzxLp0pKMWkt5.jpg"
           }
          ],
          "genres": [
           {
            "id": 12,
            "name": "Adventure"
           },
           {
            "id": 35,
            "name": "Comedy"
           },
           {
            "id": 10749,
            "name": "Romance"
           }
          ],
          "homepage": "http://www.sexdrivethemovie.com/",
          "id": 13523,
          "imdb_id": "tt1135985",
          "original_language": "en",
          "original_title": "Sex Drive",
          "overview": "A high school senior drives cross-country with his best friends to hook up with a babe he met online.",
          "popularity": 0.868314604073587,
          "poster_path": "/bwXrZy2xqsyDnno4z8AENEgVfsO.jpg",
          "production_companies": [
           {
            "id": 3250,
            "name": "Summit Entertainment, LLC"
           },
           {
            "id": 10067,
            "name": "Alloy Entertainment"
           },
           {
            "id": 11843,
            "name": "Goldcrest Pictures"
           }
          ],
          "production_countries": [
           {
            "iso_3166_1": "US",
            "name": "United States of America"
           }
          ],
          "release_date": "2008-10-17",
          "revenue": 18755936,
          "runtime": 109,
          "spoken_languages": [
           {
            "iso_639_1": "en",
            "name": "English"
           }
          ],
          "status": "Released",
          "tagline": "He's leaving virgin territory",
          "title": "Sex Drive",
          "video": false,
          "vote_average": 6.2,
          "vote_count": 71
         }
        },
        {
         "_id": "41210",
         "_index": "tmdb",
         "_score": 1.5944989,
         "_source": {
          "adult": false,
          "backdrop_path": "/4UnmIN6aJhUiCIw8JlQuxUJ9vzR.jpg",
          "belongs_to_collection": null,
          "budget": 19000000,
          "cast": [
           {
            "cast_id": 1,
            "character": "Wally Mars",
            "credit_id": "52fe45bcc3a36847f80d7815",
            "id": 23532,
            "name": "Jason Bateman",
            "order": 0,
            "profile_path": "/ttzLpjvcLkvXyyTBpjmZw11tjlr.jpg"
           },
           {
            "cast_id": 2,
            "character": "Kassie Larson",
            "credit_id": "52fe45bcc3a36847f80d7819",
            "id": 4491,
            "name": "Jennifer Aniston",
            "order": 1,
            "profile_path": "/4d4wvNyDuvN86DoneawbLOpr8gH.jpg"
           },
           {
            "cast_id": 3,
            "character": "Leonard",
            "credit_id": "52fe45bcc3a36847f80d781d",
            "id": 4785,
            "name": "Jeff Goldblum",
            "order": 2,
            "profile_path": "/iDW7y4R8cx4SZzWd8nN2gvL7My1.jpg"
           },
           {
            "cast_id": 4,
            "character": "Debbie",
            "credit_id": "52fe45bcc3a36847f80d7821",
            "id": 3196,
            "name": "Juliette Lewis",
            "order": 3,
            "profile_path": "/eeEx3v5ElBHvlrJjULlj5I3EpPF.jpg"
           },
           {
            "cast_id": 6,
            "character": "Artie",
            "credit_id": "52fe45bcc3a36847f80d7825",
            "id": 3230,
            "name": "Todd Louiso",
            "order": 4,
            "profile_path": "/e4PTxmKUB0qGBusuNjqMvhjGELK.jpg"
           },
           {
            "cast_id": 11,
            "character": "Climbing Wall Guide",
            "credit_id": "530023cec3a368400f1b1253",
            "id": 185805,
            "name": "Jason Jones",
            "order": 5,
            "profile_path": "/zpJy5iTu6f7MktAEUjySGNZUHEu.jpg"
           },
           {
            "cast_id": 12,
            "character": "Declan",
            "credit_id": "530023e1c3a3683ff21a0b79",
            "id": 108532,
            "name": "Scott Elrod",
            "order": 6,
            "profile_path": "/b7nV383fAzIcygOAsuvcDukJlK1.jpg"
           },
           {
            "cast_id": 13,
            "character": "Roland",
            "credit_id": "530023eac3a3683fe21b55d3",
            "id": 17178,
            "name": "Patrick Wilson",
            "order": 7,
            "profile_path": "/djhTpbOvrfdDsWZFFintj2Uv47a.jpg"
           },
           {
            "cast_id": 14,
            "character": "Jessica",
            "credit_id": "530023f7c3a3683ffe1bfaf1",
            "id": 968851,
            "name": "Kelli Barrett",
            "order": 8,
            "profile_path": "/hAzAP92FgiGXJgvrl8lWuqN23lT.jpg"
           },
           {
            "cast_id": 15,
            "character": "Sebastian",
            "credit_id": "53002406c3a3683fcf1cc2a3",
            "id": 965224,
            "name": "Thomas Robinson",
            "order": 9,
            "profile_path": "/duhdLnjGG7s05T4xjXDu7ISYKeN.jpg"
           },
           {
            "cast_id": 16,
            "character": "Knit Hat Guy",
            "credit_id": "5335534bc3a3682ab50046ba",
            "id": 59280,
            "name": "Victor Pagan",
            "order": 10,
            "profile_path": "/5HEuGK2u5cA3DK30sySmxwJHCDo.jpg"
           },
           {
            "cast_id": 17,
            "character": "Party Guest #2",
            "credit_id": "53355376c3a3682ab50046c0",
            "id": 1305257,
            "name": "Jeremy J. Mohler",
            "order": 11,
            "profile_path": null
           },
           {
            "cast_id": 18,
            "character": "Actor on Stage",
            "credit_id": "5335538ac3a3680a1e00411a",
            "id": 1022885,
            "name": "Will Swenson",
            "order": 12,
            "profile_path": "/tDjLvhLQilz2lqlYR3qQC8uT80g.jpg"
           },
           {
            "cast_id": 19,
            "character": "Man in Theater",
            "credit_id": "5335539ec3a3682a870048fc",
            "id": 91453,
            "name": "Edward James Hyland",
            "order": 13,
            "profile_path": null
           },
           {
            "cast_id": 20,
            "character": "Pauline",
            "credit_id": "533553abc3a3682aac00464f",
            "id": 31383,
            "name": "Caroline Dhavernas",
            "order": 14,
            "profile_path": "/nLj1IbeBb3aYPcfJKMuE0JHzhcy.jpg"
           },
           {
            "cast_id": 22,
            "character": "Waiter",
            "credit_id": "533553c2c3a3682a9c0045a0",
            "id": 1305264,
            "name": "Brian Podnos",
            "order": 16,
            "profile_path": null
           }
          ],
          "directors": [
           {
            "credit_id": "52fe45bcc3a36847f80d782b",
            "department": "Directing",
            "id": 60922,
            "job": "Director",
            "name": "Josh Gordon",
            "profile_path": "/g316UVVZWfD4cXQpxYirnhgop7U.jpg"
           },
           {
            "credit_id": "52fe45bcc3a36847f80d7831",
            "department": "Directing",
            "id": 60923,
            "job": "Director",
            "name": "Will Speck",
            "profile_path": "/mrTboVxXv4LnVuPoBdQvU1cMD4l.jpg"
           }
          ],
          "genres": [
           {
            "id": 35,
            "name": "Comedy"
           },
           {
            "id": 18,
            "name": "Drama"
           },
           {
            "id": 10749,
            "name": "Romance"
           }
          ],
          "homepage": "http://theswitch-movie.com/",
          "id": 41210,
          "imdb_id": "tt0889573",
          "original_language": "en",
          "original_title": "The Switch",
          "overview": "An unmarried 40-year-old woman turns to a turkey baster in order to become pregnant. Seven years later, she reunites with her best friend, who has been living with a secret: he replaced her preferred sperm sample with his own.",
          "popularity": 1.11761579727789,
          "poster_path": "/cikOGh4sUstWitAS3BTEpXsJ1vr.jpg",
          "production_companies": [
           {
            "id": 771,
            "name": "Mandate Pictures"
           },
           {
            "id": 2570,
            "name": "Bona Fide Productions"
           },
           {
            "id": 7382,
            "name": "Echo Films"
           }
          ],
          "production_countries": [
           {
            "iso_3166_1": "US",
            "name": "United States of America"
           }
          ],
          "release_date": "2010-05-11",
          "revenue": 49830607,
          "runtime": 101,
          "spoken_languages": [
           {
            "iso_639_1": "en",
            "name": "English"
           }
          ],
          "status": "Released",
          "tagline": "The most unexpected comedy ever conceived.",
          "title": "The Switch",
          "video": false,
          "vote_average": 5.8,
          "vote_count": 179
         }
        },
        {
         "_id": "7340",
         "_index": "tmdb",
         "_score": 1.5944989,
         "_source": {
          "adult": false,
          "backdrop_path": "/4eGiNZtn6hMJvXfXuhoGmlJnk6e.jpg",
          "belongs_to_collection": {
           "backdrop_path": "/zlMsVqzvjVEioMLA7YNFOSV0OTj.jpg",
           "id": 257053,
           "name": "Carrie Collection",
           "poster_path": "/5atZnoMxfDtEJbc1XpdYJLRLsRT.jpg"
          },
          "budget": 1800000,
          "cast": [
           {
            "cast_id": 1,
            "character": "Carrie White",
            "credit_id": "52fe447ac3a36847f80985bd",
            "id": 5606,
            "name": "Sissy Spacek",
            "order": 0,
            "profile_path": "/ieHG97Qp3Lcf01EbQGV6UhHz4Sj.jpg"
           },
           {
            "cast_id": 2,
            "character": "Margaret White",
            "credit_id": "52fe447ac3a36847f80985c1",
            "id": 6721,
            "name": "Piper Laurie",
            "order": 1,
            "profile_path": "/eKjVK5MQ5RK9XuVLaCC2oYACmbK.jpg"
           },
           {
            "cast_id": 3,
            "character": "Sue Snell",
            "credit_id": "52fe447ac3a36847f80985c5",
            "id": 27563,
            "name": "Amy Irving",
            "order": 2,
            "profile_path": "/7bKYl70P5UmpaoNnlvZD82FLdR.jpg"
           },
           {
            "cast_id": 4,
            "character": "Tommy Ross",
            "credit_id": "52fe447ac3a36847f80985c9",
            "id": 45415,
            "name": "William Katt",
            "order": 3,
            "profile_path": "/8zgHplikymFmzQhOuwYhin6WJv6.jpg"
           },
           {
            "cast_id": 5,
            "character": "Miss Collins",
            "credit_id": "52fe447ac3a36847f80985cd",
            "id": 52462,
            "name": "Betty Buckley",
            "order": 4,
            "profile_path": "/5lt3xmuJOBpAiOyboKJaAurmlCb.jpg"
           },
           {
            "cast_id": 6,
            "character": "Christine Hargenson",
            "credit_id": "52fe447ac3a36847f80985d1",
            "id": 44038,
            "name": "Nancy Allen",
            "order": 5,
            "profile_path": "/qVtateMn0D1t5T6QIbmuSwo8wUu.jpg"
           },
           {
            "cast_id": 7,
            "character": "Billy Nolan",
            "credit_id": "52fe447ac3a36847f80985d5",
            "id": 8891,
            "name": "John Travolta",
            "order": 6,
            "profile_path": "/ns8uZHEHzV18ifqA9secv8c2Ard.jpg"
           },
           {
            "cast_id": 8,
            "character": "Norma Watson",
            "credit_id": "52fe447ac3a36847f80985d9",
            "id": 15500,
            "name": "P.J. Soles",
            "order": 7,
            "profile_path": "/rzPjxFxrTJYtarrBPCw4E21BHBq.jpg"
           },
           {
            "cast_id": 9,
            "character": "Mrs. Eleanor Snell",
            "credit_id": "52fe447ac3a36847f80985dd",
            "id": 11793,
            "name": "Priscilla Pointer",
            "order": 8,
            "profile_path": "/rmT7Qje6YBG180d1hlY6zQpZmfv.jpg"
           },
           {
            "cast_id": 10,
            "character": "Mr. Fromm",
            "credit_id": "52fe447ac3a36847f80985e1",
            "id": 7085,
            "name": "Sydney Lassick",
            "order": 9,
            "profile_path": null
           },
           {
            "cast_id": 11,
            "character": "Mr. Henry Morton",
            "credit_id": "52fe447ac3a36847f80985e5",
            "id": 52463,
            "name": "Stefan Gierasch",
            "order": 10,
            "profile_path": "/y4w2yNJYdAcaKddQyCYm4qtmLqO.jpg"
           },
           {
            "cast_id": 12,
            "character": "Freddy DeLois",
            "credit_id": "52fe447ac3a36847f80985e9",
            "id": 16557,
            "name": "Michael Talbott",
            "order": 11,
            "profile_path": "/yOlbGF2VDQHZeESRo0gQq0BfU1B.jpg"
           },
           {
            "cast_id": 13,
            "character": "The Beak",
            "credit_id": "52fe447ac3a36847f80985ed",
            "id": 52464,
            "name": "Doug Cox",
            "order": 12,
            "profile_path": null
           },
           {
            "cast_id": 14,
            "character": "George Dawson",
            "credit_id": "52fe447ac3a36847f80985f1",
            "id": 52465,
            "name": "Harry Gold",
            "order": 13,
            "profile_path": null
           },
           {
            "cast_id": 15,
            "character": "Frieda Jason",
            "credit_id": "52fe447ac3a36847f80985f5",
            "id": 52466,
            "name": "Nichelle North",
            "order": 14,
            "profile_path": null
           },
           {
            "cast_id": 16,
            "character": "Cora Wilson",
            "credit_id": "52fe447ac3a36847f80985f9",
            "id": 52467,
            "name": "Cindy Daly",
            "order": 15,
            "profile_path": "/guuo8IvbWBrdGMCWr959tlDE8EL.jpg"
           },
           {
            "cast_id": 17,
            "character": "Rhonda Wilson",
            "credit_id": "52fe447ac3a36847f80985fd",
            "id": 52468,
            "name": "Deirdre Berthrong",
            "order": 16,
            "profile_path": null
           },
           {
            "cast_id": 18,
            "character": "Ernest Peterson",
            "credit_id": "52fe447ac3a36847f8098601",
            "id": 52469,
            "name": "Anson Downes",
            "order": 17,
            "profile_path": null
           },
           {
            "cast_id": 19,
            "character": "Kenny",
            "credit_id": "52fe447ac3a36847f8098605",
            "id": 52470,
            "name": "Rory Stevens",
            "order": 18,
            "profile_path": null
           },
           {
            "cast_id": 20,
            "character": "Helen Shyres",
            "credit_id": "52fe447ac3a36847f8098609",
            "id": 3202,
            "name": "Edie McClurg",
            "order": 19,
            "profile_path": "/l8iHE1qnlCUlOs1Oq0LzGWO8T1D.jpg"
           },
           {
            "cast_id": 21,
            "character": "Bobby Erbeter, the Boy on the Bike",
            "credit_id": "52fe447ac3a36847f809860d",
            "id": 52471,
            "name": "Cameron De Palma",
            "order": 20,
            "profile_path": null
           },
           {
            "cast_id": 22,
            "character": "Vance or Towers",
            "credit_id": "52fe447ac3a36847f8098611",
            "id": 52472,
            "name": "Mike Towers",
            "order": 21,
            "profile_path": null
           },
           {
            "cast_id": 23,
            "character": "Vance or Towers",
            "credit_id": "52fe447ac3a36847f8098615",
            "id": 52473,
            "name": "Glen Vance",
            "order": 22,
            "profile_path": null
           }
          ],
          "directors": [
           {
            "credit_id": "52fe447ac3a36847f809861b",
            "department": "Directing",
            "id": 1150,
            "job": "Director",
            "name": "Brian De Palma",
            "profile_path": "/c61HFkgbl61KzvwAvuuROgn7nqv.jpg"
           }
          ],
          "genres": [
           {
            "id": 27,
            "name": "Horror"
           },
           {
            "id": 53,
            "name": "Thriller"
           }
          ],
          "homepage": "",
          "id": 7340,
          "imdb_id": "tt0074285",
          "original_language": "en",
          "original_title": "Carrie",
          "overview": "Carrie may be ostracized, but the shy teen has the ability to move objects with her mind. So when the high school \"in crowd\" torments her with a sick joke at the prom, she lashes out with devastating -- and deadly -- power.",
          "popularity": 0.973046531768639,
          "poster_path": "/A5qwZ3IGWglRZtiLOOwwLWYqVWk.jpg",
          "production_companies": [
           {
            "id": 60,
            "name": "United Artists"
           }
          ],
          "production_countries": [
           {
            "iso_3166_1": "US",
            "name": "United States of America"
           }
          ],
          "release_date": "1976-11-03",
          "revenue": 33800000,
          "runtime": 98,
          "spoken_languages": [
           {
            "iso_639_1": "en",
            "name": "English"
           }
          ],
          "status": "Released",
          "tagline": "If you’ve got a taste for terror, take Carrie to the prom.",
          "title": "Carrie",
          "video": false,
          "vote_average": 6.8,
          "vote_count": 174
         }
        },
        {
         "_id": "10488",
         "_index": "tmdb",
         "_score": 1.5821548,
         "_source": {
          "adult": false,
          "backdrop_path": "/hVzII4DQU9X9TVhXwQoLgeweZV9.jpg",
          "belongs_to_collection": {
           "backdrop_path": "/iRh0E4dR2m7ZiJQ9u58r8jPV0WU.jpg",
           "id": 232844,
           "name": "Nim's Island Collection",
           "poster_path": "/rRPq295zZflnjp9Y8uhJppJBayQ.jpg"
          },
          "budget": 37000000,
          "cast": [
           {
            "cast_id": 1,
            "character": "Nim Rusoe",
            "credit_id": "52fe43799251416c75011cad",
            "id": 17140,
            "name": "Abigail Breslin",
            "order": 0,
            "profile_path": "/y3L3fx9J4EpYpsMboJk5UeW4VhE.jpg"
           },
           {
            "cast_id": 2,
            "character": "Alexandra Rover",
            "credit_id": "52fe43799251416c75011cb1",
            "id": 1038,
            "name": "Jodie Foster",
            "order": 1,
            "profile_path": "/eAIE6bnOQ8rm0f933gyeAQdIwrP.jpg"
           },
           {
            "cast_id": 3,
            "character": "Jack Rusoe / Alex Rover",
            "credit_id": "52fe43799251416c75011cb5",
            "id": 17276,
            "name": "Gerard Butler",
            "order": 2,
            "profile_path": "/wRKkVe5uugkx4KnmphBSjJUWPTo.jpg"
           },
           {
            "cast_id": 8,
            "character": "Captain",
            "credit_id": "52fe43799251416c75011cd1",
            "id": 68321,
            "name": "Michael Carman",
            "order": 3,
            "profile_path": null
           },
           {
            "cast_id": 14,
            "character": "Purser",
            "credit_id": "52fe43799251416c75011ced",
            "id": 985532,
            "name": "Mark Brady",
            "order": 4,
            "profile_path": null
           },
           {
            "cast_id": 15,
            "character": "First Mate",
            "credit_id": "52fe43799251416c75011cf1",
            "id": 26056,
            "name": "Anthony Simcoe",
            "order": 5,
            "profile_path": "/cD188ImayMqPNYqj960fjPF8D4J.jpg"
           },
           {
            "cast_id": 16,
            "character": "Ensign",
            "credit_id": "52fe43799251416c75011cf5",
            "id": 59118,
            "name": "Christopher James Baker",
            "order": 6,
            "profile_path": "/m5MnqQQtgDPUmoPX9Zi0AC7hwzz.jpg"
           },
           {
            "cast_id": 17,
            "character": "Edmund",
            "credit_id": "52fe43799251416c75011cf9",
            "id": 1077896,
            "name": "Maddison Joyce",
            "order": 7,
            "profile_path": null
           },
           {
            "cast_id": 18,
            "character": "Edmund's Father",
            "credit_id": "52fe43799251416c75011cfd",
            "id": 78567,
            "name": "Peter Callan",
            "order": 8,
            "profile_path": null
           },
           {
            "cast_id": 19,
            "character": "Edmund's Mother",
            "credit_id": "52fe43799251416c75011d01",
            "id": 207938,
            "name": "Rhonda Doyle",
            "order": 9,
            "profile_path": null
           },
           {
            "cast_id": 20,
            "character": "Old Fisherman",
            "credit_id": "52fe43799251416c75011d05",
            "id": 1077897,
            "name": "Russell Butler",
            "order": 10,
            "profile_path": null
           },
           {
            "cast_id": 21,
            "character": "Cruise Director",
            "credit_id": "52fe43799251416c75011d09",
            "id": 939990,
            "name": "Colin Gibson",
            "order": 11,
            "profile_path": null
           },
           {
            "cast_id": 22,
            "character": "Australian Tourist #1",
            "credit_id": "52fe43799251416c75011d0d",
            "id": 1014587,
            "name": "Bryan Probets",
            "order": 12,
            "profile_path": "/wp0o01OuR5YF3DWjBBUYAWUbzHA.jpg"
           },
           {
            "cast_id": 23,
            "character": "Australian Tourist #2",
            "credit_id": "52fe43799251416c75011d11",
            "id": 1077898,
            "name": "Andrew Nason",
            "order": 13,
            "profile_path": null
           },
           {
            "cast_id": 24,
            "character": "Blue-Haired Woman",
            "credit_id": "52fe43799251416c75011d15",
            "id": 1077899,
            "name": "Dorothy Thorsen",
            "order": 14,
            "profile_path": null
           },
           {
            "cast_id": 25,
            "character": "Older Woman Tourist",
            "credit_id": "52fe43799251416c75011d19",
            "id": 1077900,
            "name": "Penny Everingham",
            "order": 15,
            "profile_path": null
           },
           {
            "cast_id": 26,
            "character": "Older Man Tourist",
            "credit_id": "52fe43799251416c75011d1d",
            "id": 109545,
            "name": "Tony Bellette",
            "order": 16,
            "profile_path": null
           },
           {
            "cast_id": 27,
            "character": "Taxi Driver",
            "credit_id": "52fe43799251416c75011d21",
            "id": 1077901,
            "name": "Jeff Dornan",
            "order": 17,
            "profile_path": null
           },
           {
            "cast_id": 28,
            "character": "Helicopter Pilot",
            "credit_id": "52fe43799251416c75011d25",
            "id": 33182,
            "name": "Jay Laga'aia",
            "order": 18,
            "profile_path": "/7Q9iN9tmJveiUnJZZataTWNfL7i.jpg"
           }
          ],
          "directors": [
           {
            "credit_id": "52fe43799251416c75011cbb",
            "department": "Directing",
            "id": 66218,
            "job": "Director",
            "name": "Jennifer Flackett",
            "profile_path": null
           },
           {
            "credit_id": "52fe43799251416c75011cc1",
            "department": "Directing",
            "id": 66219,
            "job": "Director",
            "name": "Mark Levin",
            "profile_path": null
           }
          ],
          "genres": [
           {
            "id": 12,
            "name": "Adventure"
           },
           {
            "id": 35,
            "name": "Comedy"
           },
           {
            "id": 14,
            "name": "Fantasy"
           },
           {
            "id": 10751,
            "name": "Family"
           }
          ],
          "homepage": "",
          "id": 10488,
          "imdb_id": "tt0410377",
          "original_language": "en",
          "original_title": "Nim's Island",
          "overview": "A young girl inhabits an isolated island with her scientist father and communicates with a reclusive author of the novel she's reading.",
          "popularity": 0.918762240081398,
          "poster_path": "/aK9pn7ivx4P72E5yYZ69A4sChVc.jpg",
          "production_companies": [
           {
            "id": 10221,
            "name": "Walden Media"
           }
          ],
          "production_countries": [
           {
            "iso_3166_1": "US",
            "name": "United States of America"
           }
          ],
          "release_date": "2008-04-03",
          "revenue": 100074624,
          "runtime": 96,
          "spoken_languages": [
           {
            "iso_639_1": "en",
            "name": "English"
           }
          ],
          "status": "Released",
          "tagline": "Your adventure starts here.",
          "title": "Nim's Island",
          "video": false,
          "vote_average": 5.5,
          "vote_count": 72
         }
        },
        {
         "_id": "11932",
         "_index": "tmdb",
         "_score": 1.5821548,
         "_source": {
          "adult": false,
          "backdrop_path": "/lLzrg3yP43T63CaNkDm2VqZUAFU.jpg",
          "belongs_to_collection": {
           "backdrop_path": "/AAhYXBVIEl6WgQnzfBsauTIC25.jpg",
           "id": 10455,
           "name": "Child's Play Collection",
           "poster_path": "/50aqbDvbOtdlZrje6Qk4ZvKM7dM.jpg"
          },
          "budget": 25000000,
          "cast": [
           {
            "cast_id": 15,
            "character": "Chucky",
            "credit_id": "52fe44a39251416c7503bd2d",
            "id": 1471,
            "name": "Ed Gale",
            "order": 0,
            "profile_path": "/fdL01OqLC9CSrnR9UpQ8bEyS99C.jpg"
           },
           {
            "cast_id": 11,
            "character": "Tiffany",
            "credit_id": "52fe44a39251416c7503bd1d",
            "id": 7906,
            "name": "Jennifer Tilly",
            "order": 1,
            "profile_path": "/bNB0BTnPAdAAHuCQSprMk4smBMD.jpg"
           },
           {
            "cast_id": 12,
            "character": "Chucky (voice)",
            "credit_id": "52fe44a39251416c7503bd21",
            "id": 1370,
            "name": "Brad Dourif",
            "order": 2,
            "profile_path": "/6pqeGxtWEdDjYsnQfUkmzXLlDvs.jpg"
           },
           {
            "cast_id": 13,
            "character": "Jade",
            "credit_id": "52fe44a39251416c7503bd25",
            "id": 25541,
            "name": "Katherine Heigl",
            "order": 3,
            "profile_path": "/dsMdrdIOD4xl1shUv1zl6RvXiUb.jpg"
           },
           {
            "cast_id": 14,
            "character": "Jesse",
            "credit_id": "52fe44a39251416c7503bd29",
            "id": 70958,
            "name": "Nick Stabile",
            "order": 4,
            "profile_path": "/g21UbSHQAmjkoC6Ls3ybSwNisQI.jpg"
           },
           {
            "cast_id": 17,
            "character": "Chief Warren Kincaid",
            "credit_id": "52fe44a39251416c7503bd37",
            "id": 27772,
            "name": "John Ritter",
            "order": 5,
            "profile_path": "/oM4iv6O97gK7JFiNkdjEBeuN5Q4.jpg"
           },
           {
            "cast_id": 18,
            "character": "Damien",
            "credit_id": "52fe44a39251416c7503bd3b",
            "id": 19578,
            "name": "Alexis Arquette",
            "order": 6,
            "profile_path": "/s2QLmMUQ54TLbNtScWdp29IqHmS.jpg"
           }
          ],
          "directors": [
           {
            "credit_id": "52fe44a39251416c7503bce9",
            "department": "Directing",
            "id": 17268,
            "job": "Director",
            "name": "Ronny Yu",
            "profile_path": "/ttF6ZrZFNznZr79wPSZWYKz2g3m.jpg"
           }
          ],
          "genres": [
           {
            "id": 35,
            "name": "Comedy"
           },
           {
            "id": 27,
            "name": "Horror"
           }
          ],
          "homepage": "",
          "id": 11932,
          "imdb_id": "tt0144120",
          "original_language": "en",
          "original_title": "Bride of Chucky",
          "overview": "Chucky hooks up with another murderous doll, the bridal gown-clad Tiffany, for a Route 66 murder spree with their unwitting hosts.",
          "popularity": 1.20484120088368,
          "poster_path": "/u5Lc1Li0Hpc452o57E2KaToezZX.jpg",
          "production_companies": [
           {
            "id": 5550,
            "name": "Midwinter Productions Inc."
           }
          ],
          "production_countries": [
           {
            "iso_3166_1": "US",
            "name": "United States of America"
           }
          ],
          "release_date": "1998-10-16",
          "revenue": 50671850,
          "runtime": 89,
          "spoken_languages": [
           {
            "iso_639_1": "en",
            "name": "English"
           }
          ],
          "status": "Released",
          "tagline": "Chucky Gets Lucky.",
          "title": "Bride of Chucky",
          "video": false,
          "vote_average": 5.6,
          "vote_count": 65
         }
        },
        {
         "_id": "57157",
         "_index": "tmdb",
         "_score": 1.5821548,
         "_source": {
          "adult": false,
          "backdrop_path": "/exAFMvwgze8wYSDcLJsyQLbvZ7y.jpg",
          "belongs_to_collection": null,
          "budget": 0,
          "cast": [
           {
            "cast_id": 2,
            "character": "Mavis Gary",
            "credit_id": "52fe4926c3a36847f818b6d5",
            "id": 6885,
            "name": "Charlize Theron",
            "order": 0,
            "profile_path": "/fG0mtmBm3OsvKFucvoQyqBnVwya.jpg"
           },
           {
            "cast_id": 18,
            "character": "Matt Freehauf",
            "credit_id": "52fe4926c3a36847f818b709",
            "id": 10872,
            "name": "Patton Oswalt",
            "order": 1,
            "profile_path": "/dq3uNmTB7r8XTtadV3OD3N7LqV6.jpg"
           },
           {
            "cast_id": 5,
            "character": "Buddy Slade",
            "credit_id": "52fe4926c3a36847f818b6d9",
            "id": 17178,
            "name": "Patrick Wilson",
            "order": 2,
            "profile_path": "/djhTpbOvrfdDsWZFFintj2Uv47a.jpg"
           },
           {
            "cast_id": 6,
            "character": "Beth Slade",
            "credit_id": "52fe4926c3a36847f818b6dd",
            "id": 53755,
            "name": "Elizabeth Reaser",
            "order": 3,
            "profile_path": "/xwMhNtsH7ebNVcNS5aaXCt9riP.jpg"
           },
           {
            "cast_id": 7,
            "character": "Sandra Freehauf",
            "credit_id": "52fe4926c3a36847f818b6e1",
            "id": 86624,
            "name": "Collette Wolfe",
            "order": 4,
            "profile_path": "/aSD4h5379b2eEw3bLou9ByLimmq.jpg"
           },
           {
            "cast_id": 8,
            "character": "Hedda Gary",
            "credit_id": "52fe4926c3a36847f818b6e5",
            "id": 44712,
            "name": "Jill Eikenberry",
            "order": 5,
            "profile_path": "/l5rLlXkcK0G2VTp3V3mPRiQV6IC.jpg"
           },
           {
            "cast_id": 9,
            "character": "David Gary",
            "credit_id": "52fe4926c3a36847f818b6e9",
            "id": 59691,
            "name": "Richard Bekins",
            "order": 6,
            "profile_path": "/zNn7lSWpuiWIUriG48GfO6OzSLS.jpg"
           },
           {
            "cast_id": 16,
            "character": "Book Associate",
            "credit_id": "52fe4926c3a36847f818b705",
            "id": 132310,
            "name": "Brian McElhaney",
            "order": 7,
            "profile_path": null
           },
           {
            "cast_id": 10,
            "character": "Jan",
            "credit_id": "52fe4926c3a36847f818b6ed",
            "id": 54782,
            "name": "Mary Beth Hurt",
            "order": 8,
            "profile_path": "/A1Whvk91g7uMZHjRX5rdxJsofeY.jpg"
           },
           {
            "cast_id": 11,
            "character": "Mary Ellen Trantowski",
            "credit_id": "52fe4926c3a36847f818b6f1",
            "id": 206479,
            "name": "Kate Nowlin",
            "order": 9,
            "profile_path": "/emNIOj1pLShjugG3qooRrSpGBpe.jpg"
           },
           {
            "cast_id": 12,
            "character": "Nipple Confusion Bassist",
            "credit_id": "52fe4926c3a36847f818b6f5",
            "id": 116568,
            "name": "Jenny Dare Paulin",
            "order": 10,
            "profile_path": null
           },
           {
            "cast_id": 13,
            "character": "Nipple Confusion Guitarist",
            "credit_id": "52fe4926c3a36847f818b6f9",
            "id": 999654,
            "name": "Rebecca Hart",
            "order": 11,
            "profile_path": null
           },
           {
            "cast_id": 14,
            "character": "Front Desk Girl",
            "credit_id": "52fe4926c3a36847f818b6fd",
            "id": 131871,
            "name": "Louisa Krause",
            "order": 12,
            "profile_path": "/nae3zfkGZvr56xaP8k2QBfQArxm.jpg"
           },
           {
            "cast_id": 15,
            "character": "Sales Lady",
            "credit_id": "52fe4926c3a36847f818b701",
            "id": 999655,
            "name": "Elizabeth Ward Land",
            "order": 13,
            "profile_path": "/nFyHymjwsgHC73hBUOo0UnKA0oF.jpg"
           },
           {
            "cast_id": 20,
            "character": "Vicki",
            "credit_id": "52fe4926c3a36847f818b713",
            "id": 1218184,
            "name": "Hettienne Park",
            "order": 14,
            "profile_path": "/iQJMXqr5GeZogy1Ku6kPRtNl1mJ.jpg"
           }
          ],
          "directors": [
           {
            "credit_id": "52fe4926c3a36847f818b6d1",
            "department": "Directing",
            "id": 52443,
            "job": "Director",
            "name": "Jason Reitman",
            "profile_path": "/bW44MnIOve5kqqtcmmbzBre0N7D.jpg"
           }
          ],
          "genres": [
           {
            "id": 35,
            "name": "Comedy"
           },
           {
            "id": 18,
            "name": "Drama"
           },
           {
            "id": 10749,
            "name": "Romance"
           }
          ],
          "homepage": "http://www.youngadultmovie.com/",
          "id": 57157,
          "imdb_id": "tt1625346",
          "original_language": "en",
          "original_title": "Young Adult",
          "overview": "A divorced writer from the Midwest returns to her hometown to reconnect with an old flame, who's now married with a family.",
          "popularity": 0.620741247527898,
          "poster_path": "/h6oOvsNVNO0hwHKzws3YKcxUJ9m.jpg",
          "production_companies": [],
          "production_countries": [
           {
            "iso_3166_1": "US",
            "name": "United States of America"
           }
          ],
          "release_date": "2011-12-09",
          "revenue": 0,
          "runtime": 94,
          "spoken_languages": [
           {
            "iso_639_1": "en",
            "name": "English"
           }
          ],
          "status": "Released",
          "tagline": "Everyone gets old. Not everyone grows up.",
          "title": "Young Adult",
          "video": false,
          "vote_average": 5.3,
          "vote_count": 103
         }
        },
        {
         "_id": "11804",
         "_index": "tmdb",
         "_score": 1.5721633,
         "_source": {
          "adult": false,
          "backdrop_path": "/4CRg1Pw8CNNPSKK8SK5QJvcNyf3.jpg",
          "belongs_to_collection": {
           "backdrop_path": "/gvg1pvlr2A7cX4CzvVwar01qWVB.jpg",
           "id": 102777,
           "name": "White Noise Collection",
           "poster_path": "/vvQYwRvYQ4Q5MIwr6OSReFC5RvI.jpg"
          },
          "budget": 10000000,
          "cast": [
           {
            "cast_id": 8,
            "character": "Jonathan Rivers",
            "credit_id": "52fe44889251416c750382e3",
            "id": 2232,
            "name": "Michael Keaton",
            "order": 0,
            "profile_path": "/niT4arrUKdtaxacmxL4IcUWYE6u.jpg"
           },
           {
            "cast_id": 9,
            "character": "Anna Rivers",
            "credit_id": "52fe44889251416c750382e7",
            "id": 54634,
            "name": "Chandra West",
            "order": 1,
            "profile_path": "/a7C4SveYi0E9yxQR10StOaPJTbS.jpg"
           },
           {
            "cast_id": 10,
            "character": "Sarah Tate",
            "credit_id": "52fe44889251416c750382eb",
            "id": 13549,
            "name": "Deborah Kara Unger",
            "order": 2,
            "profile_path": "/AshML8NumG0rxi4dhMoiqn9XF4f.jpg"
           },
           {
            "cast_id": 11,
            "character": "Raymond Price",
            "credit_id": "52fe44889251416c750382ef",
            "id": 3547,
            "name": "Ian McNeice",
            "order": 3,
            "profile_path": "/v217qBNPrwNBvcu9F3BVBPE0AwM.jpg"
           },
           {
            "cast_id": 12,
            "character": "Mirabelle Keegan",
            "credit_id": "52fe44889251416c750382f3",
            "id": 42710,
            "name": "Keegan Connor Tracy",
            "order": 4,
            "profile_path": "/LSq3wiNbQunsvUmGBeRPu0AoOM.jpg"
           },
           {
            "cast_id": 19,
            "character": "Jane",
            "credit_id": "5456799cc3a368607500088e",
            "id": 83023,
            "name": "Sarah Strange",
            "order": 5,
            "profile_path": "/hUoOu3LSStULUTDe8B0OFrFz6EY.jpg"
           },
           {
            "cast_id": 20,
            "character": "Mike Rivers",
            "credit_id": "54567a310e0a2648d2007cf6",
            "id": 65202,
            "name": "Nicholas Elia",
            "order": 6,
            "profile_path": "/rA8FxBDAN9w1aeHdf88LATCtTK1.jpg"
           },
           {
            "cast_id": 21,
            "character": "Detective Smits",
            "credit_id": "54567a590e0a2648d60077f4",
            "id": 64674,
            "name": "Mike Dopud",
            "order": 7,
            "profile_path": "/2AWev6Jib3VJ3p2FPTxm7Erx81o.jpg"
           },
           {
            "cast_id": 22,
            "character": "Police Woman",
            "credit_id": "54567a7e0e0a2648d60077f7",
            "id": 168455,
            "name": "Marsha Regis",
            "order": 8,
            "profile_path": null
           }
          ],
          "directors": [
           {
            "credit_id": "52fe44889251416c750382bb",
            "department": "Directing",
            "id": 61357,
            "job": "Director",
            "name": "Geoffrey Sax",
            "profile_path": "/jGOfYpxhMotpDiWfFDox02MH7hc.jpg"
           }
          ],
          "genres": [
           {
            "id": 18,
            "name": "Drama"
           },
           {
            "id": 27,
            "name": "Horror"
           },
           {
            "id": 53,
            "name": "Thriller"
           }
          ],
          "homepage": "",
          "id": 11804,
          "imdb_id": "tt0375210",
          "original_language": "en",
          "original_title": "White Noise",
          "overview": "An architect's desire to speak with his wife from beyond the grave using EVP (Electronic Voice Phenomenon), becomes an obsession with supernatural repercussions.",
          "popularity": 0.550967231347547,
          "poster_path": "/jilH5XTvUdF8vCo4aCWscctGG7V.jpg",
          "production_companies": [
           {
            "id": 33,
            "name": "Universal Pictures"
           },
           {
            "id": 12026,
            "name": "Gold Circle Films"
           },
           {
            "id": 1063,
            "name": "Brightlight Pictures"
           },
           {
            "id": 1205,
            "name": "Endgame Entertainment"
           },
           {
            "id": 11573,
            "name": "Corus"
           },
           {
            "id": 3388,
            "name": "The Movie Network (TMN)"
           },
           {
            "id": 11567,
            "name": "Province of British Columbia Film Incentive BC"
           },
           {
            "id": 8582,
            "name": "Canadian Film or Video Production Tax Credit (CPTC)"
           }
          ],
          "production_countries": [
           {
            "iso_3166_1": "CA",
            "name": "Canada"
           },
           {
            "iso_3166_1": "GB",
            "name": "United Kingdom"
           },
           {
            "iso_3166_1": "US",
            "name": "United States of America"
           }
          ],
          "release_date": "2005-01-07",
          "revenue": 56094360,
          "runtime": 101,
          "spoken_languages": [
           {
            "iso_639_1": "en",
            "name": "English"
           }
          ],
          "status": "Released",
          "tagline": "The line separating the living from the dead has been crossed.",
          "title": "White Noise",
          "video": false,
          "vote_average": 6.1,
          "vote_count": 50
         }
        },
        {
         "_id": "67913",
         "_index": "tmdb",
         "_score": 1.5721633,
         "_source": {
          "adult": false,
          "backdrop_path": "/uvmk0VM74sfJ6dgmEviqaxtZZ7n.jpg",
          "belongs_to_collection": null,
          "budget": 6000000,
          "cast": [
           {
            "cast_id": 17,
            "character": "Sergeant Gerry Boyle",
            "credit_id": "52fe477dc3a368484e0c9ceb",
            "id": 2039,
            "name": "Brendan Gleeson",
            "order": 0,
            "profile_path": "/pUTBk2sqFgg4aFBXHckD0qKLUYP.jpg"
           },
           {
            "cast_id": 18,
            "character": "FBI agent Wendell Everett",
            "credit_id": "52fe477dc3a368484e0c9cef",
            "id": 1896,
            "name": "Don Cheadle",
            "order": 1,
            "profile_path": "/4PvWfLvABO5n1ZfzK76vol9Bqae.jpg"
           },
           {
            "cast_id": 19,
            "character": "Francis Sheehy",
            "credit_id": "52fe477dc3a368484e0c9cf3",
            "id": 15498,
            "name": "Liam Cunningham",
            "order": 2,
            "profile_path": "/8RMX0M8AEaldVAC6WUJIViUdDkm.jpg"
           },
           {
            "cast_id": 20,
            "character": "Clive Cornell",
            "credit_id": "52fe477dc3a368484e0c9cf7",
            "id": 2983,
            "name": "Mark Strong",
            "order": 3,
            "profile_path": "/vC1a35KBxx8f2rkMKyaik7bTOud.jpg"
           },
           {
            "cast_id": 21,
            "character": "Gabriela McBride",
            "credit_id": "52fe477dc3a368484e0c9cfb",
            "id": 549981,
            "name": "Katarina Cas",
            "order": 4,
            "profile_path": "/bgbjA8ZkmN3CGXo24Lgd5TInHDP.jpg"
           },
           {
            "cast_id": 22,
            "character": "Liam O'Leary",
            "credit_id": "52fe477dc3a368484e0c9cff",
            "id": 73287,
            "name": "David Wilmot",
            "order": 5,
            "profile_path": "/qo5xQnnzKm9DiRccTz87SWULRca.jpg"
           },
           {
            "cast_id": 23,
            "character": "Garda Aidan McBride",
            "credit_id": "52fe477dc3a368484e0c9d03",
            "id": 1041731,
            "name": "Rory Keenan",
            "order": 6,
            "profile_path": "/lWvTE3d8JQVQbPyIVadoy6OYbEk.jpg"
           },
           {
            "cast_id": 24,
            "character": "Photographer",
            "credit_id": "52fe477dc3a368484e0c9d07",
            "id": 17019,
            "name": "Laurence Kinlan",
            "order": 7,
            "profile_path": null
           },
           {
            "cast_id": 25,
            "character": "Aoife O'Carroll",
            "credit_id": "52fe477dc3a368484e0c9d0b",
            "id": 115146,
            "name": "Dominique McElligott",
            "order": 8,
            "profile_path": "/v7c8fYjnBOVRnE2X9FnRQBtvK3x.jpg"
           },
           {
            "cast_id": 26,
            "character": "Sinead Mulligan",
            "credit_id": "52fe477dc3a368484e0c9d0f",
            "id": 1048644,
            "name": "Sarah Greene",
            "order": 9,
            "profile_path": "/8kzqNhc8kOUHZ61RJu0nIy7K4EZ.jpg"
           },
           {
            "cast_id": 27,
            "character": "Eileen Boyle",
            "credit_id": "52fe477dc3a368484e0c9d13",
            "id": 58068,
            "name": "Fionnula Flanagan",
            "order": 10,
            "profile_path": "/bQPNTSyBXdfwOXcwjCdzFXDSDVO.jpg"
           },
           {
            "cast_id": 28,
            "character": "Garda Inspector Gerry Stanton",
            "credit_id": "52fe477dc3a368484e0c9d17",
            "id": 93209,
            "name": "Gary Lydon",
            "order": 11,
            "profile_path": "/azTMUVMcNbJG3wdmBUIlzCHHEJw.jpg"
           }
          ],
          "directors": [
           {
            "credit_id": "52fe477dc3a368484e0c9cdb",
            "department": "Directing",
            "id": 65594,
            "job": "Director",
            "name": "John Michael McDonagh",
            "profile_path": "/kYGIKwsaKLkXfWDJIm2ClHuvzby.jpg"
           }
          ],
          "genres": [
           {
            "id": 28,
            "name": "Action"
           },
           {
            "id": 35,
            "name": "Comedy"
           },
           {
            "id": 80,
            "name": "Crime"
           },
           {
            "id": 53,
            "name": "Thriller"
           }
          ],
          "homepage": "http://www.sonyclassics.com/theguard",
          "id": 67913,
          "imdb_id": "tt1540133",
          "original_language": "en",
          "original_title": "The Guard",
          "overview": "An unorthodox Irish policeman with a confrontational personality is teamed up with an uptight FBI agent to investigate an international drug-smuggling ring.",
          "popularity": 0.463695361212681,
          "poster_path": "/iUHePguAaumQGvf3rlXHHAkAMoh.jpg",
          "production_companies": [
           {
            "id": 2452,
            "name": "UK Film Council"
           },
           {
            "id": 7308,
            "name": "Reprisal Films"
           },
           {
            "id": 7309,
            "name": "Aegis Film Fund"
           },
           {
            "id": 7310,
            "name": "Bord Scannan na hEireann / Irish Film Board"
           }
          ],
          "production_countries": [
           {
            "iso_3166_1": "IE",
            "name": "Ireland"
           }
          ],
          "release_date": "2011-07-07",
          "revenue": 5358148,
          "runtime": 96,
          "spoken_languages": [
           {
            "iso_639_1": "ga",
            "name": "Gaeilge"
           },
           {
            "iso_639_1": "en",
            "name": "English"
           }
          ],
          "status": "Released",
          "tagline": "The FBI are about to discover that things work a little differently around here.",
          "title": "The Guard",
          "video": false,
          "vote_average": 6.7,
          "vote_count": 87
         }
        },
        {
         "_id": "179826",
         "_index": "tmdb",
         "_score": 1.5721633,
         "_source": {
          "adult": false,
          "backdrop_path": "/bEu0Fe8nlc7japuTMp0n5A5QC4Y.jpg",
          "belongs_to_collection": null,
          "budget": 27000000,
          "cast": [
           {
            "cast_id": 4,
            "character": "Odd Thomas",
            "credit_id": "52fe4dacc3a36847f826dfef",
            "id": 21028,
            "name": "Anton Yelchin",
            "order": 0,
            "profile_path": "/cUlF4fJMOYclUHA3bTFwlgFKNaH.jpg"
           },
           {
            "cast_id": 5,
            "character": "Wyatt Porter",
            "credit_id": "52fe4dacc3a36847f826dff3",
            "id": 5293,
            "name": "Willem Dafoe",
            "order": 1,
            "profile_path": "/A1uyY0KbYSR8fk7Wkdbs2VfsBw1.jpg"
           },
           {
            "cast_id": 6,
            "character": "Simon Varner",
            "credit_id": "52fe4dacc3a36847f826dff7",
            "id": 127128,
            "name": "Nico Tortorella",
            "order": 2,
            "profile_path": "/A6H0K8h39LcpQpjjjBCoWekDiAf.jpg"
           },
           {
            "cast_id": 7,
            "character": "Stormy Llewellyn",
            "credit_id": "52fe4dacc3a36847f826dffb",
            "id": 56542,
            "name": "Addison Timlin",
            "order": 3,
            "profile_path": "/oelV5322pg9o5uTuB6K1V3M8cWi.jpg"
           },
           {
            "cast_id": 8,
            "character": "Lysette",
            "credit_id": "52fe4dacc3a36847f826dfff",
            "id": 114602,
            "name": "Melissa Ordway",
            "order": 4,
            "profile_path": "/qqjCuGKTZaEmEaoKYAzAsVfhDOv.jpg"
           },
           {
            "cast_id": 9,
            "character": "Ozzie P. Boone",
            "credit_id": "52fe4dacc3a36847f826e003",
            "id": 10872,
            "name": "Patton Oswalt",
            "order": 5,
            "profile_path": "/dq3uNmTB7r8XTtadV3OD3N7LqV6.jpg"
           },
           {
            "cast_id": 10,
            "character": "Odd's mother",
            "credit_id": "52fe4dacc3a36847f826e007",
            "id": 10839,
            "name": "Leonor Varela",
            "order": 6,
            "profile_path": "/rXn3ruoRRSplCyeNXs7z9BMxHAb.jpg"
           },
           {
            "cast_id": 12,
            "character": "Bowling Alley Patron",
            "credit_id": "52fe4dacc3a36847f826e00b",
            "id": 1155332,
            "name": "Bryan Head",
            "order": 7,
            "profile_path": null
           },
           {
            "cast_id": 13,
            "character": "Viola",
            "credit_id": "52fe4dacc3a36847f826e00f",
            "id": 1216606,
            "name": "Gugu Mbatha-Raw",
            "order": 8,
            "profile_path": "/pHzRhB8HnrlXLpvSF4MlBHyfotF.jpg"
           },
           {
            "cast_id": 14,
            "character": "Officer Bern Eckles",
            "credit_id": "52fe4dacc3a36847f826e013",
            "id": 1291691,
            "name": "Kyle McKeever",
            "order": 9,
            "profile_path": "/m9HI4V1QKgTkUX6Q1BJNiQPG1mq.jpg"
           },
           {
            "cast_id": 15,
            "character": "Nicolina",
            "credit_id": "52fe4dacc3a36847f826e017",
            "id": 1291692,
            "name": "Maisha Diatta",
            "order": 10,
            "profile_path": null
           },
           {
            "cast_id": 16,
            "character": "Young Odd",
            "credit_id": "52fe4dacc3a36847f826e01b",
            "id": 1291693,
            "name": "Jack Justice",
            "order": 11,
            "profile_path": "/8xMAWjEpg9REb5cNwO6XIqqcLbe.jpg"
           },
           {
            "cast_id": 25,
            "character": "Penny Kalisto",
            "credit_id": "549e567b9251414d27002d21",
            "id": 1404645,
            "name": "Ashley Sommers",
            "order": 12,
            "profile_path": null
           },
           {
            "cast_id": 26,
            "character": "Harlo Landerson",
            "credit_id": "549e5af39251414e28002e94",
            "id": 1094319,
            "name": "Matthew Page",
            "order": 13,
            "profile_path": "/nTAAP1s4Y0e6bW1Vyq9MqzCG95y.jpg"
           },
           {
            "cast_id": 27,
            "character": "Pool Mom",
            "credit_id": "549e5bf9c3a3682f23007a9f",
            "id": 1404646,
            "name": "Casey Messer",
            "order": 14,
            "profile_path": "/mwADMVHBbhs1daCUTZxP6rPAVPd.jpg"
           },
           {
            "cast_id": 28,
            "character": "Stevie",
            "credit_id": "549e5d789251413132007681",
            "id": 1404647,
            "name": "Barney Lanning",
            "order": 15,
            "profile_path": null
           },
           {
            "cast_id": 29,
            "character": "Levanna",
            "credit_id": "549e5f7cc3a3682f210077e1",
            "id": 1404648,
            "name": "Carmen Corley",
            "order": 16,
            "profile_path": null
           },
           {
            "cast_id": 30,
            "character": "Young Stormy",
            "credit_id": "549e63d5c3a3680b2700673a",
            "id": 1404650,
            "name": "Robin Lanning",
            "order": 17,
            "profile_path": null
           },
           {
            "cast_id": 31,
            "character": "Mexican Teenager",
            "credit_id": "549e6553c3a3682f21007889",
            "id": 204196,
            "name": "Jesus Mayorga",
            "order": 18,
            "profile_path": "/dYAnZvjvmpy93jHYDR2aAQdWNnD.jpg"
           },
           {
            "cast_id": 32,
            "character": "Fungus Bob Robertson",
            "credit_id": "549e665dc3a3682f23007be8",
            "id": 96892,
            "name": "Shuler Hensley",
            "order": 19,
            "profile_path": "/xAeK7my9ZFHcHGCrgDeUUDFTty1.jpg"
           },
           {
            "cast_id": 33,
            "character": "Tom Jedd",
            "credit_id": "549e66f0925141312f0081a1",
            "id": 16743,
            "name": "Arnold Vosloo",
            "order": 20,
            "profile_path": "/lyaslPa1B8jPid3Y7mXJcn8urkD.jpg"
           },
           {
            "cast_id": 34,
            "character": "Ice Cream Girl",
            "credit_id": "549e6788c3a3682f16007866",
            "id": 1404651,
            "name": "Talia Lanning",
            "order": 21,
            "profile_path": "/1W7HhNO9Nvt51cVb2B1svZwlWAo.jpg"
           },
           {
            "cast_id": 35,
            "character": "Kevin Goss",
            "credit_id": "549e68f6c3a3682f23007c3e",
            "id": 223395,
            "name": "Morse Bicknell",
            "order": 22,
            "profile_path": "/viBm5279hwLvjZ9rTHutq721aUb.jpg"
           },
           {
            "cast_id": 36,
            "character": "Karla Porter",
            "credit_id": "549e6990c3a368764f0039ae",
            "id": 1404652,
            "name": "Laurel Harris",
            "order": 23,
            "profile_path": "/z4MoI0GRGW4MGWKF0TYhOWQWshi.jpg"
           },
           {
            "cast_id": 37,
            "character": "Shamus Cocobolo",
            "credit_id": "549e80f49251413132007a75",
            "id": 1404689,
            "name": "Rob Lawrence Brown",
            "order": 24,
            "profile_path": null
           },
           {
            "cast_id": 38,
            "character": "Police Captain",
            "credit_id": "549e823cc3a3680b27006a7f",
            "id": 1367502,
            "name": "Andy Ryan",
            "order": 25,
            "profile_path": null
           },
           {
            "cast_id": 39,
            "character": "Lyle",
            "credit_id": "549e83b3c3a3682f21007c0d",
            "id": 1391874,
            "name": "Kyle T. Cowan",
            "order": 26,
            "profile_path": "/9wL14PFDT0ODsqsGkRJBiSYPOSV.jpg"
           },
           {
            "cast_id": 40,
            "character": "Nell",
            "credit_id": "549e841b9251414bb2006168",
            "id": 1404693,
            "name": "Nell Murphy",
            "order": 27,
            "profile_path": null
           },
           {
            "cast_id": 41,
            "character": "Foreman",
            "credit_id": "549e84dac3a3682f1b007b91",
            "id": 1240490,
            "name": "Kevin Wiggins",
            "order": 28,
            "profile_path": null
           },
           {
            "cast_id": 42,
            "character": "Nurse",
            "credit_id": "549e856c9251413132007af9",
            "id": 1404696,
            "name": "Kellie Matteson",
            "order": 29,
            "profile_path": "/cz0GnGpFAey5pSGrr1DzcMbSpXG.jpg"
           },
           {
            "cast_id": 43,
            "character": "Head Bowling Alley Employee",
            "credit_id": "549e86b0c3a3682f21007c4d",
            "id": 210700,
            "name": "Jermaine Washington",
            "order": 30,
            "profile_path": "/euCpGATxR0ncFXsuuW5tAyKB8U0.jpg"
           },
           {
            "cast_id": 44,
            "character": "Bowling Alley Employee #2",
            "credit_id": "549e876bc3a3682f23007f7c",
            "id": 1404697,
            "name": "Jimmy Romano",
            "order": 31,
            "profile_path": null
           },
           {
            "cast_id": 45,
            "character": "Bowling Alley Employee #3",
            "credit_id": "549e880c9251413123007bd0",
            "id": 1404698,
            "name": "Saleem Watley",
            "order": 32,
            "profile_path": null
           }
          ],
          "directors": [
           {
            "credit_id": "52fe4dacc3a36847f826dfdf",
            "department": "Directing",
            "id": 7775,
            "job": "Director",
            "name": "Stephen Sommers",
            "profile_path": "/7EIjF5ssHi3PVUaceuNaCNW1fm7.jpg"
           }
          ],
          "genres": [
           {
            "id": 9648,
            "name": "Mystery"
           },
           {
            "id": 53,
            "name": "Thriller"
           }
          ],
          "homepage": "",
          "id": 179826,
          "imdb_id": "tt1767354",
          "original_language": "en",
          "original_title": "Odd Thomas",
          "overview": "In a California desert town, a short-order cook with clairvoyant abilities encounters a mysterious man with a link to dark, threatening forces.",
          "popularity": 0.607015273236379,
          "poster_path": "/mcgYHOqJpS8q02pbZXoECRlIthc.jpg",
          "production_companies": [
           {
            "id": 10843,
            "name": "Future Films"
           },
           {
            "id": 16278,
            "name": "Fusion Films"
           },
           {
            "id": 19643,
            "name": "Sommers Company, The"
           }
          ],
          "production_countries": [
           {
            "iso_3166_1": "US",
            "name": "United States of America"
           }
          ],
          "release_date": "2013-04-16",
          "revenue": 0,
          "runtime": 100,
          "spoken_languages": [
           {
            "iso_639_1": "en",
            "name": "English"
           }
          ],
          "status": "Released",
          "tagline": "I might see dead people... But then, by God, I do something about it.",
          "title": "Odd Thomas",
          "video": false,
          "vote_average": 6.7,
          "vote_count": 85
         }
        },
        {
         "_id": "1360",
         "_index": "tmdb",
         "_score": 1.5704502,
         "_source": {
          "adult": false,
          "backdrop_path": "/iLpWNh7ur2sEJIX7NgbiJgdmdjJ.jpg",
          "belongs_to_collection": null,
          "budget": 12000000,
          "cast": [
           {
            "cast_id": 21,
            "character": "Frida Kahlo",
            "credit_id": "52fe42eec3a36847f802dc39",
            "id": 3136,
            "name": "Salma Hayek",
            "order": 0,
            "profile_path": "/zMmEPWSqpACzsP5TnLdETV8j7eW.jpg"
           },
           {
            "cast_id": 22,
            "character": "Diego Rivera",
            "credit_id": "52fe42eec3a36847f802dc3d",
            "id": 658,
            "name": "Alfred Molina",
            "order": 1,
            "profile_path": "/uJQVkqEVJGLMaJbwI2tTDlJ9Oo0.jpg"
           },
           {
            "cast_id": 23,
            "character": "Cristina Kahlo",
            "credit_id": "52fe42eec3a36847f802dc41",
            "id": 6859,
            "name": "Mía Maestro",
            "order": 2,
            "profile_path": "/UIf7kAHqAGRwJ9TZSkZ91A1scr.jpg"
           },
           {
            "cast_id": 24,
            "character": "Matilde Kahlo",
            "credit_id": "52fe42eec3a36847f802dc45",
            "id": 16406,
            "name": "Patricia Reyes Spíndola",
            "order": 3,
            "profile_path": "/vznHPfrlnY8wHjsLj78C5KWWTjS.jpg"
           },
           {
            "cast_id": 25,
            "character": "Alejandro",
            "credit_id": "52fe42eec3a36847f802dc49",
            "id": 8688,
            "name": "Diego Luna",
            "order": 4,
            "profile_path": "/9f1y0pLqohP8U3eEVCa4di1tESb.jpg"
           },
           {
            "cast_id": 26,
            "character": "Guillermo Kahlo",
            "credit_id": "52fe42eec3a36847f802dc4d",
            "id": 16407,
            "name": "Roger Rees",
            "order": 5,
            "profile_path": "/gOUeYKeHwYeFULO5SXFN8BSUjaW.jpg"
           },
           {
            "cast_id": 27,
            "character": "Tina Modotti",
            "credit_id": "52fe42eec3a36847f802dc51",
            "id": 15852,
            "name": "Ashley Judd",
            "order": 6,
            "profile_path": "/jtucIayPiRtuqM4ybMUIatHuJzk.jpg"
           },
           {
            "cast_id": 28,
            "character": "David Alfaro Siqueiros",
            "credit_id": "52fe42eec3a36847f802dc55",
            "id": 3131,
            "name": "Antonio Banderas",
            "order": 7,
            "profile_path": "/85197jARsr06xQ84NhP9YoBL3sR.jpg"
           },
           {
            "cast_id": 29,
            "character": "Nelson Rockefeller",
            "credit_id": "52fe42eec3a36847f802dc59",
            "id": 819,
            "name": "Edward Norton",
            "order": 8,
            "profile_path": "/iUiePUAQKN4GY6jorH9m23cbVli.jpg"
           },
           {
            "cast_id": 30,
            "character": "Gracie",
            "credit_id": "52fe42eec3a36847f802dc5d",
            "id": 9825,
            "name": "Saffron Burrows",
            "order": 9,
            "profile_path": "/9avh3TGQ2dgrwMBk38YLdmLXGr3.jpg"
           },
           {
            "cast_id": 31,
            "character": "Leon Trotsky",
            "credit_id": "52fe42eec3a36847f802dc61",
            "id": 118,
            "name": "Geoffrey Rush",
            "order": 10,
            "profile_path": "/c0jbNjWb9DHm5xfBIeEtHZdZJmI.jpg"
           },
           {
            "cast_id": 32,
            "character": "Natalia Trotsky",
            "credit_id": "52fe42eec3a36847f802dc65",
            "id": 16408,
            "name": "Margarita Sanz",
            "order": 11,
            "profile_path": null
           },
           {
            "cast_id": 33,
            "character": "André Breton",
            "credit_id": "52fe42eec3a36847f802dc69",
            "id": 16409,
            "name": "Omar Rodríguez",
            "order": 12,
            "profile_path": null
           },
           {
            "cast_id": 34,
            "character": "Tango Singer",
            "credit_id": "532e5bbec3a3685fbb0031e7",
            "id": 991946,
            "name": "Lila Downs",
            "order": 13,
            "profile_path": null
           }
          ],
          "directors": [
           {
            "credit_id": "52fe42eec3a36847f802dbc3",
            "department": "Directing",
            "id": 16391,
            "job": "Director",
            "name": "Julie Taymor",
            "profile_path": "/6PHmqn1Y4Y0jzSCCIVO0oYaR71Q.jpg"
           }
          ],
          "genres": [
           {
            "id": 18,
            "name": "Drama"
           },
           {
            "id": 10749,
            "name": "Romance"
           }
          ],
          "homepage": "",
          "id": 1360,
          "imdb_id": "tt0120679",
          "original_language": "en",
          "original_title": "Frida",
          "overview": "\"Frida\" chronicles the life Frida Kahlo shared unflinchingly and openly with Diego Rivera, as the young couple took the art world by storm. From her complex and enduring relationship with her mentor and husband to her illicit and controversial affair with Leon Trotsky, to her provocative and romantic entanglements with women, Frida Kahlo lived a bold and uncompromising life as a political, artistic, and sexual revolutionary",
          "popularity": 0.457155755930494,
          "poster_path": "/1vT449vIaBG3nt1fe8RalNOSP7u.jpg",
          "production_companies": [
           {
            "id": 14,
            "name": "Miramax Films"
           },
           {
            "id": 35,
            "name": "Lions Gate Films"
           },
           {
            "id": 689,
            "name": "Ventanarosa Productions"
           },
           {
            "id": 690,
            "name": "Handprint Entertainment"
           }
          ],
          "production_countries": [
           {
            "iso_3166_1": "CA",
            "name": "Canada"
           },
           {
            "iso_3166_1": "MX",
            "name": "Mexico"
           },
           {
            "iso_3166_1": "US",
            "name": "United States of America"
           }
          ],
          "release_date": "2002-08-29",
          "revenue": 56298474,
          "runtime": 123,
          "spoken_languages": [
           {
            "iso_639_1": "fr",
            "name": "Français"
           },
           {
            "iso_639_1": "ru",
            "name": "Pусский"
           },
           {
            "iso_639_1": "en",
            "name": "English"
           }
          ],
          "status": "Released",
          "tagline": "Prepare to be seduced",
          "title": "Frida",
          "video": false,
          "vote_average": 7.1,
          "vote_count": 57
         }
        },
        {
         "_id": "11638",
         "_index": "tmdb",
         "_score": 1.5546696,
         "_source": {
          "adult": false,
          "backdrop_path": "/78ccwmm9r0PhiPY50GQGzHUY4jW.jpg",
          "belongs_to_collection": null,
          "budget": 35000000,
          "cast": [
           {
            "cast_id": 1,
            "character": "Percy Jones",
            "credit_id": "52fe446e9251416c7503471b",
            "id": 1897,
            "name": "Bernie Mac",
            "order": 0,
            "profile_path": "/3qIk1hVV82kcZSEffbuUHpMQBCq.jpg"
           },
           {
            "cast_id": 2,
            "character": "Simon Green",
            "credit_id": "52fe446e9251416c7503471f",
            "id": 18976,
            "name": "Ashton Kutcher",
            "order": 1,
            "profile_path": "/g9FF8F6zoYlRJGU0KQGSklqsbOd.jpg"
           },
           {
            "cast_id": 3,
            "character": "Theresa Jones",
            "credit_id": "52fe446e9251416c75034723",
            "id": 8691,
            "name": "Zoe Saldana",
            "order": 2,
            "profile_path": "/ofNrWiA2KDdqiNxFTLp51HcXUlp.jpg"
           },
           {
            "cast_id": 4,
            "character": "Marilyn Jones",
            "credit_id": "52fe446e9251416c75034727",
            "id": 44185,
            "name": "Judith Scott",
            "order": 3,
            "profile_path": "/8PXHC5SMNyUuNNXgDc6m9yJuQcp.jpg"
           },
           {
            "cast_id": 5,
            "character": "Howard Jones",
            "credit_id": "52fe446e9251416c7503472b",
            "id": 70775,
            "name": "Hal Williams",
            "order": 4,
            "profile_path": "/9mDTiY6FMFkoS2YmW66mjyCZe63.jpg"
           },
           {
            "cast_id": 6,
            "character": "Keisha Jones",
            "credit_id": "52fe446e9251416c7503472f",
            "id": 70776,
            "name": "Kellee Stewart",
            "order": 5,
            "profile_path": "/fJuiPcBefXeIYxYf363JBLdJryH.jpg"
           }
          ],
          "directors": [
           {
            "credit_id": "52fe446e9251416c75034735",
            "department": "Directing",
            "id": 70777,
            "job": "Director",
            "name": "Kevin Rodney Sullivan",
            "profile_path": "/hRlaIKMsnAqQ0tAppg8fszF1TMg.jpg"
           }
          ],
          "genres": [
           {
            "id": 35,
            "name": "Comedy"
           },
           {
            "id": 10749,
            "name": "Romance"
           }
          ],
          "homepage": "",
          "id": 11638,
          "imdb_id": "tt0372237",
          "original_language": "en",
          "original_title": "Guess Who",
          "overview": "The fiancé of an African-American woman who's met with skepticism and suspicion from her father. Tension flares -- along with comedy -- when she takes him home for the all-important introduction, and as the wedding approaches, Dad must come to terms with his future son-in-law.",
          "popularity": 0.465920839507328,
          "poster_path": "/edxlUrSaeVYkG1VfQlceXcWeRdR.jpg",
          "production_companies": [
           {
            "id": 5,
            "name": "Columbia Pictures"
           },
           {
            "id": 508,
            "name": "Regency Enterprises"
           },
           {
            "id": 787,
            "name": "3 Arts Entertainment"
           },
           {
            "id": 10239,
            "name": "Tall Trees Productions"
           }
          ],
          "production_countries": [
           {
            "iso_3166_1": "US",
            "name": "United States of America"
           }
          ],
          "release_date": "2005-03-25",
          "revenue": 68915888,
          "runtime": 105,
          "spoken_languages": [
           {
            "iso_639_1": "pl",
            "name": "Polski"
           },
           {
            "iso_639_1": "en",
            "name": "English"
           }
          ],
          "status": "Released",
          "tagline": "His house. His rules. Some in-laws were made to be broken.",
          "title": "Guess Who",
          "video": false,
          "vote_average": 5.5,
          "vote_count": 55
         }
        },
        {
         "_id": "82693",
         "_index": "tmdb",
         "_score": 1.5525544,
         "_source": {
          "adult": false,
          "backdrop_path": "/6YEWKSFIWFTLnInzXYiSaS7pVOP.jpg",
          "belongs_to_collection": null,
          "budget": 21000000,
          "cast": [
           {
            "cast_id": 31,
            "character": "Pat",
            "credit_id": "52fe486b9251416c9108be65",
            "id": 51329,
            "name": "Bradley Cooper",
            "order": 0,
            "profile_path": "/ifjdzZtkR5S5ifSSNQZsVarqFxD.jpg"
           },
           {
            "cast_id": 4,
            "character": "Tiffany",
            "credit_id": "52fe486b9251416c9108bde3",
            "id": 72129,
            "name": "Jennifer Lawrence",
            "order": 1,
            "profile_path": "/yz0s4kVEC7Wc4iqi2zK7Gmfx9h9.jpg"
           },
           {
            "cast_id": 5,
            "character": "Pat Sr.",
            "credit_id": "52fe486b9251416c9108bde7",
            "id": 380,
            "name": "Robert De Niro",
            "order": 2,
            "profile_path": "/8Bgdfv1oN9Mw0YuMHP6fw8KzDkc.jpg"
           },
           {
            "cast_id": 14,
            "character": "Dolores",
            "credit_id": "52fe486b9251416c9108be03",
            "id": 67837,
            "name": "Jacki Weaver",
            "order": 3,
            "profile_path": "/8VCKF5s8BFeVhEUjv5qZaZ3B8O9.jpg"
           },
           {
            "cast_id": 9,
            "character": "Danny",
            "credit_id": "52fe486b9251416c9108bdef",
            "id": 66,
            "name": "Chris Tucker",
            "order": 4,
            "profile_path": "/1ePd2AOg8YYlvVT7HxXkqFFEk83.jpg"
           },
           {
            "cast_id": 13,
            "character": "Dr. Cliff Patel",
            "credit_id": "52fe486b9251416c9108bdff",
            "id": 6217,
            "name": "Anupam Kher",
            "order": 5,
            "profile_path": "/a58ePX45hBpzDANzdki86Ny9VFu.jpg"
           },
           {
            "cast_id": 12,
            "character": "Ronnie",
            "credit_id": "52fe486b9251416c9108bdfb",
            "id": 40543,
            "name": "John Ortiz",
            "order": 6,
            "profile_path": "/eLAPF96eGKcnpV837CciBiFsI7C.jpg"
           },
           {
            "cast_id": 10,
            "character": "Jake",
            "credit_id": "52fe486b9251416c9108bdf3",
            "id": 74242,
            "name": "Shea Whigham",
            "order": 7,
            "profile_path": "/xlLI0hrutcyKOIHs4b47iSh65NU.jpg"
           },
           {
            "cast_id": 7,
            "character": "Veronica",
            "credit_id": "52fe486b9251416c9108bdeb",
            "id": 12041,
            "name": "Julia Stiles",
            "order": 8,
            "profile_path": "/wqFYU1IS1xhn4yBjlkXt9LwFYr0.jpg"
           },
           {
            "cast_id": 11,
            "character": "Officer Keogh",
            "credit_id": "52fe486b9251416c9108bdf7",
            "id": 6066,
            "name": "Dash Mihok",
            "order": 9,
            "profile_path": "/jvjJXMo1GxhbyPaCgP1yLp4wr3u.jpg"
           },
           {
            "cast_id": 15,
            "character": "Ricky D'Angelo's Mother",
            "credit_id": "52fe486b9251416c9108be07",
            "id": 87287,
            "name": "Bonnie Aarons",
            "order": 10,
            "profile_path": "/9EbAXaOHxyOsIbW5JpP9ezO9t4i.jpg"
           },
           {
            "cast_id": 32,
            "character": "Nikki",
            "credit_id": "52fe486b9251416c9108be69",
            "id": 108920,
            "name": "Brea Bee",
            "order": 11,
            "profile_path": "/w3gmOKyXvT9Frg8PuLP5ZU0T9Uf.jpg"
           },
           {
            "cast_id": 33,
            "character": "Randy",
            "credit_id": "52fe486b9251416c9108be6d",
            "id": 58535,
            "name": "Paul Herman",
            "order": 12,
            "profile_path": "/vaK8wxkMeKJdZEdGUufyV0Ma24M.jpg"
           },
           {
            "cast_id": 34,
            "character": "Ricky D'Angelo",
            "credit_id": "52fe486b9251416c9108be71",
            "id": 239111,
            "name": "Matthew Russell",
            "order": 13,
            "profile_path": null
           },
           {
            "cast_id": 35,
            "character": "Tiffany's Mother",
            "credit_id": "52fe486b9251416c9108be75",
            "id": 1271780,
            "name": "Cheryl Williams",
            "order": 14,
            "profile_path": null
           },
           {
            "cast_id": 36,
            "character": "Tiffany's Father",
            "credit_id": "52fe486b9251416c9108be79",
            "id": 1128450,
            "name": "Patrick McDade",
            "order": 15,
            "profile_path": null
           },
           {
            "cast_id": 37,
            "character": "Jordie",
            "credit_id": "52fe486b9251416c9108be7d",
            "id": 1271781,
            "name": "Phillip Chorba",
            "order": 16,
            "profile_path": null
           },
           {
            "cast_id": 38,
            "character": "Regina",
            "credit_id": "52fe486b9251416c9108be81",
            "id": 1271782,
            "name": "Mary Regency Boies",
            "order": 17,
            "profile_path": null
           },
           {
            "cast_id": 39,
            "character": "Dr.Timbers",
            "credit_id": "52fe486b9251416c9108be85",
            "id": 1271783,
            "name": "Anthony Lawton",
            "order": 18,
            "profile_path": null
           },
           {
            "cast_id": 40,
            "character": "Nancy",
            "credit_id": "52fe486b9251416c9108be89",
            "id": 1271784,
            "name": "Patsy Meck",
            "order": 19,
            "profile_path": null
           },
           {
            "cast_id": 41,
            "character": "Jeffrey",
            "credit_id": "52fe486b9251416c9108be8d",
            "id": 1271785,
            "name": "Jeff Reim",
            "order": 20,
            "profile_path": null
           }
          ],
          "directors": [
           {
            "credit_id": "52fe486b9251416c9108bdd3",
            "department": "Directing",
            "id": 17883,
            "job": "Director",
            "name": "David O. Russell",
            "profile_path": "/s2ZYJ96e0qMUngghXLB9SsO70R4.jpg"
           }
          ],
          "genres": [
           {
            "id": 35,
            "name": "Comedy"
           },
           {
            "id": 18,
            "name": "Drama"
           },
           {
            "id": 10749,
            "name": "Romance"
           }
          ],
          "homepage": "http://silverliningsplaybookmovie.com/",
          "id": 82693,
          "imdb_id": "tt1045658",
          "original_language": "en",
          "original_title": "Silver Linings Playbook",
          "overview": "After spending eight months in a mental institution, a former teacher moves back in with his parents and tries to reconcile with his ex-wife.",
          "popularity": 1.67013851619464,
          "poster_path": "/ilrZAV2klTB0FLxLb01bOp5pzD9.jpg",
          "production_companies": [
           {
            "id": 308,
            "name": "The Weinstein Company"
           }
          ],
          "production_countries": [
           {
            "iso_3166_1": "US",
            "name": "United States of America"
           }
          ],
          "release_date": "2012-12-25",
          "revenue": 205738714,
          "runtime": 122,
          "spoken_languages": [
           {
            "iso_639_1": "en",
            "name": "English"
           }
          ],
          "status": "Released",
          "tagline": "Watch For The Signs",
          "title": "Silver Linings Playbook",
          "video": false,
          "vote_average": 6.8,
          "vote_count": 2051
         }
        },
        {
         "_id": "11216",
         "_index": "tmdb",
         "_score": 1.5429322,
         "_source": {
          "adult": false,
          "backdrop_path": "/tVi83ttAeyMJinYpy6xfgJSpzvP.jpg",
          "belongs_to_collection": null,
          "budget": 0,
          "cast": [
           {
            "cast_id": 8,
            "character": "Alfredo",
            "credit_id": "52fe44129251416c75027f25",
            "id": 24366,
            "name": "Philippe Noiret",
            "order": 0,
            "profile_path": "/cxqfBaHzXOOMVcxHYfAewhG2Cjc.jpg"
           },
           {
            "cast_id": 9,
            "character": "Salvatore 'Toto' Di Vita - Adult",
            "credit_id": "52fe44129251416c75027f29",
            "id": 20030,
            "name": "Jacques Perrin",
            "order": 1,
            "profile_path": "/dC3hgCkcTvsrw6fKxxTegJDQRzp.jpg"
           },
           {
            "cast_id": 10,
            "character": "Salvatore 'Toto' Di Vita - Teenager",
            "credit_id": "52fe44129251416c75027f2d",
            "id": 27643,
            "name": "Marco Leonardi",
            "order": 2,
            "profile_path": "/vyBWitXBSfFJpJRff14GrIZimta.jpg"
           },
           {
            "cast_id": 11,
            "character": "Salvatore 'Toto' Di Vita - Child",
            "credit_id": "52fe44129251416c75027f31",
            "id": 68635,
            "name": "Salvatore Cascio",
            "order": 3,
            "profile_path": "/zZ6vZ8gTp1GjCKzxZTSwP55acHL.jpg"
           },
           {
            "cast_id": 12,
            "character": "Elena Mendola",
            "credit_id": "52fe44129251416c75027f35",
            "id": 120152,
            "name": "Agnese Nano",
            "order": 4,
            "profile_path": "/AoBa7v5dZeNduRyBfVoU5umyB1L.jpg"
           },
           {
            "cast_id": 13,
            "character": "Maria Di Vita - Younger",
            "credit_id": "52fe44129251416c75027f39",
            "id": 70083,
            "name": "Antonella Attili",
            "order": 5,
            "profile_path": "/cbnn6Nai1kVPQ1jamIp3BQByHxt.jpg"
           },
           {
            "cast_id": 14,
            "character": "Spaccafico",
            "credit_id": "52fe44129251416c75027f3d",
            "id": 52657,
            "name": "Enzo Cannavale",
            "order": 6,
            "profile_path": "/hkJ732FpjvADraxMI2UaHO5x8qe.jpg"
           },
           {
            "cast_id": 15,
            "character": "Anna",
            "credit_id": "52fe44129251416c75027f41",
            "id": 1014911,
            "name": "Isa Danieli",
            "order": 7,
            "profile_path": "/yM3HYSBkR1jUumd8v3TRlnAAJBP.jpg"
           },
           {
            "cast_id": 16,
            "character": "Usher",
            "credit_id": "52fe44129251416c75027f45",
            "id": 119992,
            "name": "Leo Gullotta",
            "order": 8,
            "profile_path": "/etsfULUJFtVXCRc8eSuO8BRKHLw.jpg"
           },
           {
            "cast_id": 17,
            "character": "Maria Di Vita - Older",
            "credit_id": "52fe44129251416c75027f49",
            "id": 25780,
            "name": "Pupella Maggio",
            "order": 9,
            "profile_path": "/PGM231rayPxOcQyg7g2NQtGlZd.jpg"
           },
           {
            "cast_id": 18,
            "character": "Father Adelfio",
            "credit_id": "52fe44129251416c75027f4d",
            "id": 14151,
            "name": "Leopoldo Trieste",
            "order": 10,
            "profile_path": "/yPdmZwmCW4cvmENFKMBj63NCFCq.jpg"
           },
           {
            "cast_id": 19,
            "character": "Blacksmith",
            "credit_id": "52fe44129251416c75027f51",
            "id": 103627,
            "name": "Tano Cimarosa",
            "order": 11,
            "profile_path": "/x4A4eKik5JxvHWjj9828MgpkzGM.jpg"
           },
           {
            "cast_id": 20,
            "character": "Village Idiot",
            "credit_id": "52fe44129251416c75027f55",
            "id": 39618,
            "name": "Nicola Di Pinto",
            "order": 12,
            "profile_path": "/fqix0TJ4Fd8Ab2O8ziqr0UuNAkY.jpg"
           },
           {
            "cast_id": 21,
            "character": "Lia",
            "credit_id": "52fe44129251416c75027f59",
            "id": 1077256,
            "name": "Roberta Lena",
            "order": 13,
            "profile_path": "/mc5BfH64zSJo5fgXp2s2oTVQRtL.jpg"
           },
           {
            "cast_id": 22,
            "character": "Peppino's Father",
            "credit_id": "52fe44129251416c75027f5d",
            "id": 134215,
            "name": "Nino Terzo",
            "order": 14,
            "profile_path": "/vDu5NDG0q4EIcgEAh4umXf8EEBT.jpg"
           },
           {
            "cast_id": 23,
            "character": "Elena Mendola - Adult",
            "credit_id": "52fe44139251416c75027f61",
            "id": 1959,
            "name": "Brigitte Fossey",
            "order": 15,
            "profile_path": "/i711oGYxYv82yV3sOSbhitS4MPP.jpg"
           }
          ],
          "directors": [
           {
            "credit_id": "52fe44129251416c75027efd",
            "department": "Directing",
            "id": 65314,
            "job": "Director",
            "name": "Giuseppe Tornatore",
            "profile_path": "/jAQnThw8ouqJtuy8XaKgDuDKbn2.jpg"
           }
          ],
          "genres": [
           {
            "id": 18,
            "name": "Drama"
           },
           {
            "id": 10749,
            "name": "Romance"
           }
          ],
          "homepage": "",
          "id": 11216,
          "imdb_id": "tt0095765",
          "original_language": "en",
          "original_title": "Nuovo cinema Paradiso",
          "overview": "A filmmaker recalls his childhood, when he fell in love with the movies at his village's theater and formed a deep friendship with the theater's projectionist.",
          "popularity": 0.697602967109972,
          "poster_path": "/hYzCLju3W74nLhhRXfPkwDi1Tun.jpg",
          "production_companies": [
           {
            "id": 48,
            "name": "Cristaldifilm S.r.l."
           },
           {
            "id": 7110,
            "name": "Les Films Ariane"
           },
           {
            "id": 10209,
            "name": "Rai Tre Radiotelevisione Italiana"
           }
          ],
          "production_countries": [
           {
            "iso_3166_1": "FR",
            "name": "France"
           },
           {
            "iso_3166_1": "IT",
            "name": "Italy"
           }
          ],
          "release_date": "1988-11-17",
          "revenue": 11990401,
          "runtime": 124,
          "spoken_languages": [
           {
            "iso_639_1": "it",
            "name": "Italiano"
           },
           {
            "iso_639_1": "pt",
            "name": "Português"
           },
           {
            "iso_639_1": "en",
            "name": "English"
           }
          ],
          "status": "Released",
          "tagline": "A celebration of youth, friendship, and the everlasting magic of the movies.",
          "title": "Cinema Paradiso",
          "video": false,
          "vote_average": 7.6,
          "vote_count": 237
         }
        },
        {
         "_id": "9313",
         "_index": "tmdb",
         "_score": 1.5292041,
         "_source": {
          "adult": false,
          "backdrop_path": "/reKm0xvh7FkuCfNL4eDRmTCn7q0.jpg",
          "belongs_to_collection": null,
          "budget": 0,
          "cast": [
           {
            "cast_id": 1,
            "character": "King Louis XIV / Philippe",
            "credit_id": "52fe44e6c3a36847f80b0935",
            "id": 6193,
            "name": "Leonardo DiCaprio",
            "order": 0,
            "profile_path": "/jToSMocaCaS5YnuOJVqQ7S7pr4Q.jpg"
           },
           {
            "cast_id": 2,
            "character": "Aramis",
            "credit_id": "52fe44e6c3a36847f80b0939",
            "id": 16940,
            "name": "Jeremy Irons",
            "order": 1,
            "profile_path": "/9AWphjIgGX7JjTrwrx3tsTZlUgv.jpg"
           },
           {
            "cast_id": 4,
            "character": "Porthos",
            "credit_id": "52fe44e6c3a36847f80b093d",
            "id": 16927,
            "name": "Gérard Depardieu",
            "order": 2,
            "profile_path": "/kWGuy8UI8y3uqqCVoFvBVBe8w0J.jpg"
           },
           {
            "cast_id": 5,
            "character": "D'Artagnan",
            "credit_id": "52fe44e6c3a36847f80b0941",
            "id": 5168,
            "name": "Gabriel Byrne",
            "order": 3,
            "profile_path": "/yQR6Exu12940oRXoCWmwULyWLP8.jpg"
           },
           {
            "cast_id": 18,
            "character": "Athos",
            "credit_id": "52fe44e6c3a36847f80b0987",
            "id": 6949,
            "name": "John Malkovich",
            "order": 4,
            "profile_path": "/nqiVrEVW3DAHS9K5L3JWO4sYngC.jpg"
           },
           {
            "cast_id": 19,
            "character": "Queen Mother Anne",
            "credit_id": "52fe44e6c3a36847f80b098b",
            "id": 57298,
            "name": "Anne Parillaud",
            "order": 5,
            "profile_path": "/vk3C8it70D5xESQz47821xhWkAU.jpg"
           },
           {
            "cast_id": 20,
            "character": "Christine",
            "credit_id": "52fe44e6c3a36847f80b098f",
            "id": 73937,
            "name": "Judith Godrèche",
            "order": 6,
            "profile_path": "/mbIrbBymdMVZIaNv0bDGUXKV7p7.jpg"
           },
           {
            "cast_id": 21,
            "character": "Lt. Andre",
            "credit_id": "52fe44e6c3a36847f80b0993",
            "id": 38331,
            "name": "Edward Atterton",
            "order": 7,
            "profile_path": "/z8hU2rgSYrhVuLdhQArlKPfrzCy.jpg"
           },
           {
            "cast_id": 22,
            "character": "Raoul",
            "credit_id": "52fe44e6c3a36847f80b0997",
            "id": 133,
            "name": "Peter Sarsgaard",
            "order": 8,
            "profile_path": "/dGoUlDEJumPY0CFlT7eM6KVdLUu.jpg"
           },
           {
            "cast_id": 23,
            "character": "King's Advisor",
            "credit_id": "52fe44e6c3a36847f80b099b",
            "id": 41419,
            "name": "Hugh Laurie",
            "order": 9,
            "profile_path": "/3qCmEHtq5fBW8dbzsYDSy16Zqb0.jpg"
           },
           {
            "cast_id": 24,
            "character": "King's Advisor",
            "credit_id": "52fe44e6c3a36847f80b099f",
            "id": 180906,
            "name": "David Lowe",
            "order": 10,
            "profile_path": "/ljFTdKSae3dhdnijz1lyOitdNpz.jpg"
           },
           {
            "cast_id": 25,
            "character": "Madame Rotund",
            "credit_id": "52fe44e6c3a36847f80b09a3",
            "id": 553208,
            "name": "Brigitte Boucher",
            "order": 11,
            "profile_path": null
           },
           {
            "cast_id": 26,
            "character": "Assassin",
            "credit_id": "52fe44e6c3a36847f80b09a7",
            "id": 553209,
            "name": "Matthew Jocelyn",
            "order": 12,
            "profile_path": null
           },
           {
            "cast_id": 27,
            "character": "Wench",
            "credit_id": "52fe44e6c3a36847f80b09ab",
            "id": 146490,
            "name": "Karine Belly",
            "order": 13,
            "profile_path": null
           },
           {
            "cast_id": 28,
            "character": "King's Friend",
            "credit_id": "52fe44e6c3a36847f80b09af",
            "id": 553210,
            "name": "Emmanuel Guttierez",
            "order": 14,
            "profile_path": null
           },
           {
            "cast_id": 29,
            "character": "Ballroom Guard",
            "credit_id": "52fe44e6c3a36847f80b09b3",
            "id": 45849,
            "name": "Christian Erickson",
            "order": 15,
            "profile_path": "/luB2dgwmDa3fbntapB5Ps1qs7en.jpg"
           },
           {
            "cast_id": 30,
            "character": "Blond Musketeer",
            "credit_id": "52fe44e6c3a36847f80b09b7",
            "id": 105355,
            "name": "François Montagut",
            "order": 16,
            "profile_path": null
           },
           {
            "cast_id": 31,
            "character": "Peasant Boy",
            "credit_id": "52fe44e6c3a36847f80b09bb",
            "id": 553211,
            "name": "Andrew Wallace",
            "order": 17,
            "profile_path": null
           },
           {
            "cast_id": 32,
            "character": "Serving Woman",
            "credit_id": "52fe44e6c3a36847f80b09bf",
            "id": 553212,
            "name": "Cécile Auclert",
            "order": 18,
            "profile_path": null
           },
           {
            "cast_id": 33,
            "character": "Serving Woman",
            "credit_id": "52fe44e6c3a36847f80b09c3",
            "id": 553213,
            "name": "Sonia Backers",
            "order": 19,
            "profile_path": null
           },
           {
            "cast_id": 34,
            "character": "Customer",
            "credit_id": "52fe44e6c3a36847f80b09c7",
            "id": 230078,
            "name": "Vincent Nemeth",
            "order": 20,
            "profile_path": "/e2uRhuzOopokatHFYFHap0r72af.jpg"
           },
           {
            "cast_id": 35,
            "character": "Fortress Keeper",
            "credit_id": "52fe44e6c3a36847f80b09cb",
            "id": 12983,
            "name": "Joe Sheridan",
            "order": 21,
            "profile_path": null
           },
           {
            "cast_id": 36,
            "character": "Fortress Head Guard",
            "credit_id": "52fe44e6c3a36847f80b09cf",
            "id": 133735,
            "name": "Olivier Hémon",
            "order": 22,
            "profile_path": null
           },
           {
            "cast_id": 37,
            "character": "Bastille Gate Guard",
            "credit_id": "52fe44e6c3a36847f80b09d3",
            "id": 212390,
            "name": "Michael Morris",
            "order": 23,
            "profile_path": null
           },
           {
            "cast_id": 38,
            "character": "Fortress Guard",
            "credit_id": "52fe44e6c3a36847f80b09d7",
            "id": 553214,
            "name": "Emmanuel Patron",
            "order": 24,
            "profile_path": "/k9qQ7h8YGRHUZf2XRG45SafdQMS.jpg"
           },
           {
            "cast_id": 39,
            "character": "Ballroom Beauty",
            "credit_id": "52fe44e6c3a36847f80b09db",
            "id": 10839,
            "name": "Leonor Varela",
            "order": 25,
            "profile_path": "/rXn3ruoRRSplCyeNXs7z9BMxHAb.jpg"
           },
           {
            "cast_id": 40,
            "character": "Ruffian",
            "credit_id": "52fe44e6c3a36847f80b09df",
            "id": 180969,
            "name": "Michael Hofland",
            "order": 26,
            "profile_path": null
           },
           {
            "cast_id": 41,
            "character": "Bedroom Beauty",
            "credit_id": "52fe44e6c3a36847f80b09e3",
            "id": 42279,
            "name": "Laura Fraser",
            "order": 27,
            "profile_path": "/umgqZQNAqE78jFfg1H1nPtaO41Y.jpg"
           },
           {
            "cast_id": 42,
            "character": "Queen Mother's Attendant",
            "credit_id": "52fe44e6c3a36847f80b09e7",
            "id": 5183,
            "name": "Brigitte Auber",
            "order": 28,
            "profile_path": "/yopJUGz9G5bbJKMRQnC6R27SXtc.jpg"
           },
           {
            "cast_id": 43,
            "character": "Monk",
            "credit_id": "52fe44e6c3a36847f80b09eb",
            "id": 553215,
            "name": "Jean-Pol Brissart",
            "order": 29,
            "profile_path": null
           },
           {
            "cast_id": 44,
            "character": "Ponceau (uncredited)",
            "credit_id": "52fe44e6c3a36847f80b09ef",
            "id": 19375,
            "name": "François Guillaume",
            "order": 30,
            "profile_path": null
           }
          ],
          "directors": [
           {
            "credit_id": "52fe44e6c3a36847f80b0947",
            "department": "Directing",
            "id": 2460,
            "job": "Director",
            "name": "Randall Wallace",
            "profile_path": "/sHaZ1TAca9o8f4m8obTOt4p7tlg.jpg"
           }
          ],
          "genres": [
           {
            "id": 28,
            "name": "Action"
           },
           {
            "id": 12,
            "name": "Adventure"
           },
           {
            "id": 18,
            "name": "Drama"
           }
          ],
          "homepage": "",
          "id": 9313,
          "imdb_id": "tt0120744",
          "original_language": "en",
          "original_title": "The Man in the Iron Mask",
          "overview": "Years have passed since the Three Musketeers, Aramis, Athos and Porthos, have fought together with their friend, D'Artagnan. But with the tyrannical King Louis using his power to wreak havoc in the kingdom while his twin brother, Philippe, remains imprisoned, the Musketeers reunite to abduct Louis and replace him with Philippe.",
          "popularity": 0.583966456573637,
          "poster_path": "/mNbLk9qdBMnzBFWBrjy3Nuw9Ovi.jpg",
          "production_companies": [
           {
            "id": 8213,
            "name": "United Artists Corporation"
           }
          ],
          "production_countries": [
           {
            "iso_3166_1": "GB",
            "name": "United Kingdom"
           },
           {
            "iso_3166_1": "US",
            "name": "United States of America"
           }
          ],
          "release_date": "1998-03-12",
          "revenue": 0,
          "runtime": 132,
          "spoken_languages": [
           {
            "iso_639_1": "en",
            "name": "English"
           }
          ],
          "status": "Released",
          "tagline": "For the honor of a king. And the destiny of a country. All for one.",
          "title": "The Man in the Iron Mask",
          "video": false,
          "vote_average": 6,
          "vote_count": 221
         }
        },
        {
         "_id": "845",
         "_index": "tmdb",
         "_score": 1.5240412,
         "_source": {
          "adult": false,
          "backdrop_path": "/3DL6BmslkyGHm70HXFNUwoYYIjb.jpg",
          "belongs_to_collection": null,
          "budget": 1200000,
          "cast": [
           {
            "cast_id": 16,
            "character": "Guy Haines",
            "credit_id": "52fe4281c3a36847f80240a9",
            "id": 12497,
            "name": "Farley Granger",
            "order": 0,
            "profile_path": "/uMawvHjbqcg2s1UnedJwD9Njzy5.jpg"
           },
           {
            "cast_id": 17,
            "character": "Anne Morton",
            "credit_id": "52fe4281c3a36847f80240ad",
            "id": 12498,
            "name": "Ruth Roman",
            "order": 1,
            "profile_path": "/fBphiIhNwlseidUeUQ6s0Cg7wCJ.jpg"
           },
           {
            "cast_id": 18,
            "character": "Bruno Anthony",
            "credit_id": "52fe4281c3a36847f80240b1",
            "id": 12499,
            "name": "Robert Walker",
            "order": 2,
            "profile_path": "/q2qZUq1wRa28FFsgp9bGx8soaEX.jpg"
           },
           {
            "cast_id": 19,
            "character": "Sen. Morton",
            "credit_id": "52fe4281c3a36847f80240b5",
            "id": 2642,
            "name": "Leo G. Carroll",
            "order": 3,
            "profile_path": "/xTxzUMrwj00ZXa3iWOqP5w1xgO5.jpg"
           },
           {
            "cast_id": 20,
            "character": "Barbara Morton",
            "credit_id": "52fe4281c3a36847f80240b9",
            "id": 12500,
            "name": "Patricia Hitchcock",
            "order": 4,
            "profile_path": "/aB59dttMS0KHSv2frlqcx43HCeC.jpg"
           },
           {
            "cast_id": 21,
            "character": "Mrs. Cunningham",
            "credit_id": "52fe4281c3a36847f80240bd",
            "id": 10926,
            "name": "Norma Varden",
            "order": 5,
            "profile_path": "/2Ypt67es6XciWAyihkcG2MSjUzT.jpg"
           },
           {
            "cast_id": 22,
            "character": "Mrs. Anthony",
            "credit_id": "52fe4281c3a36847f80240c1",
            "id": 12501,
            "name": "Marion Lorne",
            "order": 6,
            "profile_path": "/iBRYqd8geHrBx8SB2hSKmLpZx5W.jpg"
           },
           {
            "cast_id": 23,
            "character": "Mr. Anthony",
            "credit_id": "52fe4281c3a36847f80240c5",
            "id": 12502,
            "name": "Jonathan Hale",
            "order": 7,
            "profile_path": "/ajOXZDy3XsZkZ3OqsMBejg8BFXG.jpg"
           },
           {
            "cast_id": 24,
            "character": "Police Capt. Turley",
            "credit_id": "52fe4281c3a36847f80240c9",
            "id": 5792,
            "name": "Howard St. John",
            "order": 8,
            "profile_path": "/1MmHUGc6btitSBRTu5vmYeGuHII.jpg"
           },
           {
            "cast_id": 25,
            "character": "Prof. Collins",
            "credit_id": "52fe4281c3a36847f80240cd",
            "id": 12503,
            "name": "John Brown",
            "order": 9,
            "profile_path": null
           },
           {
            "cast_id": 26,
            "character": "Leslie Hennessy",
            "credit_id": "52fe4281c3a36847f80240d1",
            "id": 12504,
            "name": "Robert Gist",
            "order": 10,
            "profile_path": null
           },
           {
            "cast_id": 27,
            "character": "Miriam Joyce Haines",
            "credit_id": "52fe4281c3a36847f80240d5",
            "id": 12505,
            "name": "Kasey Rogers",
            "order": 11,
            "profile_path": "/btowNltXZULTnTpco2uOBNWfvMO.jpg"
           },
           {
            "cast_id": 29,
            "character": "Elderly man crawling under carousel",
            "credit_id": "52fe4281c3a36847f80240df",
            "id": 348497,
            "name": "Harry Hines",
            "order": 12,
            "profile_path": null
           },
           {
            "cast_id": 30,
            "character": "Hammond",
            "credit_id": "52fe4281c3a36847f80240e3",
            "id": 34130,
            "name": "John Doucette",
            "order": 13,
            "profile_path": "/2J6UfUe9nNkd6wjtIF5Yp3ilnZ8.jpg"
           }
          ],
          "directors": [
           {
            "credit_id": "52fe4281c3a36847f8024057",
            "department": "Directing",
            "id": 2636,
            "job": "Director",
            "name": "Alfred Hitchcock",
            "profile_path": "/nA6zRjaVk1JjYvRpuihXJ2pirWk.jpg"
           }
          ],
          "genres": [
           {
            "id": 80,
            "name": "Crime"
           },
           {
            "id": 53,
            "name": "Thriller"
           }
          ],
          "homepage": "",
          "id": 845,
          "imdb_id": "tt0044079",
          "original_language": "en",
          "original_title": "Strangers on a Train",
          "overview": "A psychotic socialite confronts a pro tennis star with a theory on how two complete strangers can get away with murder...a theory that he plans to implement.",
          "popularity": 0.791567879936288,
          "poster_path": "/y0Lec3HBZbzkB3b1ACSC4tVnj9n.jpg",
          "production_companies": [
           {
            "id": 174,
            "name": "Warner Bros. Pictures"
           }
          ],
          "production_countries": [
           {
            "iso_3166_1": "US",
            "name": "United States of America"
           }
          ],
          "release_date": "1951-06-30",
          "revenue": 0,
          "runtime": 101,
          "spoken_languages": [
           {
            "iso_639_1": "fr",
            "name": "Français"
           },
           {
            "iso_639_1": "en",
            "name": "English"
           }
          ],
          "status": "Released",
          "tagline": "It starts with a shriek of a train whistle...and ends with shrieking excitement.",
          "title": "Strangers on a Train",
          "video": false,
          "vote_average": 7.2,
          "vote_count": 53
         }
        },
        {
         "_id": "10664",
         "_index": "tmdb",
         "_score": 1.5240412,
         "_source": {
          "adult": false,
          "backdrop_path": "/hBfzloLznfN0FWLfheSEObyicqs.jpg",
          "belongs_to_collection": {
           "backdrop_path": "/rDzuccVBZSyNVQ26hTRT0DvneVA.jpg",
           "id": 74508,
           "name": "[REC] Collection",
           "poster_path": "/jTA37dMZVUFej20EoM5SomKtnYi.jpg"
          },
          "budget": 5600000,
          "cast": [
           {
            "cast_id": 3,
            "character": "Ángela Vidal",
            "credit_id": "52fe439e9251416c7501780f",
            "id": 34793,
            "name": "Manuela Velasco",
            "order": 0,
            "profile_path": "/kQQrHFhTCazfWScBwTaSTtRFWUU.jpg"
           },
           {
            "cast_id": 7,
            "character": "Manu",
            "credit_id": "52fe439e9251416c75017813",
            "id": 54532,
            "name": "Ferran Terraza",
            "order": 1,
            "profile_path": "/7lvI2rC9emIAkEZeW5zYGr3RKnw.jpg"
           },
           {
            "cast_id": 10,
            "character": "Jennifer",
            "credit_id": "52fe439e9251416c7501781f",
            "id": 111091,
            "name": "Claudia Silva",
            "order": 2,
            "profile_path": "/jqFSfItsXSiXrqD3cI2Bt7WoRdH.jpg"
           },
           {
            "cast_id": 9,
            "character": "Niña Medeiros",
            "credit_id": "52fe439e9251416c7501781b",
            "id": 111090,
            "name": "Javier Botet",
            "order": 3,
            "profile_path": "/4u8ZkMMt5ipQgfpb81YudFW5rQG.jpg"
           },
           {
            "cast_id": 8,
            "character": "Rosso",
            "credit_id": "52fe439e9251416c75017817",
            "id": 54520,
            "name": "Pablo Rosso",
            "order": 4,
            "profile_path": null
           },
           {
            "cast_id": 11,
            "character": "Sra. Izquierdo",
            "credit_id": "52fe439e9251416c75017823",
            "id": 54523,
            "name": "Martha Carbonell",
            "order": 5,
            "profile_path": "/vdNJsDSvNggyFRYFAJer6ZTzyph.jpg"
           },
           {
            "cast_id": 12,
            "character": "Mire",
            "credit_id": "52fe439e9251416c75017827",
            "id": 19824,
            "name": "Andrea Ros",
            "order": 6,
            "profile_path": "/lWjsKT28IbyKBHAaRYk3SwdRvqi.jpg"
           },
           {
            "cast_id": 13,
            "character": "Martos",
            "credit_id": "52fe439e9251416c7501782b",
            "id": 111092,
            "name": "Alejandro Casaseca",
            "order": 7,
            "profile_path": "/snilCy8gQmmJ9S8fUTOLcB2YU0c.jpg"
           }
          ],
          "directors": [
           {
            "credit_id": "52fe439e9251416c75017805",
            "department": "Directing",
            "id": 54525,
            "job": "Director",
            "name": "Jaume Balagueró",
            "profile_path": "/zH7TzIJgzrYKbUecPLoTEPP7qxX.jpg"
           },
           {
            "credit_id": "52fe439e9251416c7501780b",
            "department": "Directing",
            "id": 54526,
            "job": "Director",
            "name": "Paco Plaza",
            "profile_path": "/kj5tBKhLcC8PcZHwGerEMZakXi5.jpg"
           }
          ],
          "genres": [
           {
            "id": 27,
            "name": "Horror"
           },
           {
            "id": 53,
            "name": "Thriller"
           }
          ],
          "homepage": "http://www.rec2themovie.com/",
          "id": 10664,
          "imdb_id": "tt1245112",
          "original_language": "es",
          "original_title": "[REC]²",
          "overview": "The action continues from [REC], with the medical officer and a SWAT team outfitted with video cameras are sent into the sealed off apartment to control the situation.",
          "popularity": 0.65103268615372,
          "poster_path": "/g2Dk8ud1KpXt2RWzvcgsuuPkPuJ.jpg",
          "production_companies": [
           {
            "id": 3631,
            "name": "Filmax"
           }
          ],
          "production_countries": [
           {
            "iso_3166_1": "ES",
            "name": "Spain"
           }
          ],
          "release_date": "2009-09-15",
          "revenue": 18469680,
          "runtime": 85,
          "spoken_languages": [
           {
            "iso_639_1": "es",
            "name": "Español"
           }
          ],
          "status": "Released",
          "tagline": "Fear Revisited",
          "title": "[REC]²",
          "video": false,
          "vote_average": 6.3,
          "vote_count": 112
         }
        },
        {
         "_id": "265208",
         "_index": "tmdb",
         "_score": 1.5240412,
         "_source": {
          "adult": false,
          "backdrop_path": "/tm5DQMU1jCSHCAjSyC6MzGGbWw7.jpg",
          "belongs_to_collection": null,
          "budget": 30000000,
          "cast": [
           {
            "cast_id": 0,
            "character": "Nick Wild",
            "credit_id": "534febb30e0a267eaf00109a",
            "id": 976,
            "name": "Jason Statham",
            "order": 0,
            "profile_path": "/PhWiWgasncGWD9LdbsGcmxkV4r.jpg"
           },
           {
            "cast_id": 10,
            "character": "Cyrus Kinnick",
            "credit_id": "5396113d0e0a266dce00755c",
            "id": 11665,
            "name": "Michael Angarano",
            "order": 1,
            "profile_path": "/zNoj0cJHoD8RPUDOgTpVgJ0KcXM.jpg"
           },
           {
            "cast_id": 14,
            "character": "Holly",
            "credit_id": "54cdd813c3a3681c9c001d80",
            "id": 58635,
            "name": "Dominik García-Lorido",
            "order": 2,
            "profile_path": "/zQJDrk8GTVZFYMFlwQuE9Dmnvb8.jpg"
           },
           {
            "cast_id": 15,
            "character": "Cassandra",
            "credit_id": "54cdd844925141475b004487",
            "id": 15250,
            "name": "Hope Davis",
            "order": 3,
            "profile_path": "/m1RBUwfxms0o4PAOaHYaGT0DpAj.jpg"
           },
           {
            "cast_id": 8,
            "character": "Danny DeMarco",
            "credit_id": "539611160e0a266dc2007413",
            "id": 16501,
            "name": "Milo Ventimiglia",
            "order": 4,
            "profile_path": "/maJeS6bA6ku21rSRceISQtwHL2h.jpg"
           },
           {
            "cast_id": 13,
            "character": "Osgood",
            "credit_id": "539611830e0a266dca0074f9",
            "id": 7133,
            "name": "Max Casella",
            "order": 5,
            "profile_path": "/eYdODjmmMJm1PVCV5MaNp1JTYZI.jpg"
           },
           {
            "cast_id": 7,
            "character": "Baby",
            "credit_id": "539610fe0e0a266db4007604",
            "id": 2283,
            "name": "Stanley Tucci",
            "order": 6,
            "profile_path": "/omGlTJF2IW5r3L3c5y0qkCt3hFr.jpg"
           },
           {
            "cast_id": 12,
            "character": "Pinky",
            "credit_id": "5396116e0e0a266dbf00762a",
            "id": 1206,
            "name": "Jason Alexander",
            "order": 7,
            "profile_path": "/ernpSXp2RnkzeV14OEEKXRq1yND.jpg"
           },
           {
            "cast_id": 5,
            "character": "D.D.",
            "credit_id": "539610d80e0a266dbb0076c4",
            "id": 63522,
            "name": "Sofía Vergara",
            "order": 8,
            "profile_path": "/8B2KF6BkkZZ3xswUzq4Gs9KIkWQ.jpg"
           },
           {
            "cast_id": 9,
            "character": "Roxy",
            "credit_id": "539611280e0a266dc500732b",
            "id": 8256,
            "name": "Anne Heche",
            "order": 9,
            "profile_path": "/aXMySUgcAJ09dq0oD0qY1mcsr1c.jpg"
           },
           {
            "cast_id": 16,
            "character": "Benny",
            "credit_id": "55318293925141529b0009e9",
            "id": 225479,
            "name": "François Vincentelli",
            "order": 10,
            "profile_path": "/a5E9Afd5hhBEJTwmrslihKcyWU0.jpg"
           },
           {
            "cast_id": 17,
            "character": "Tiel",
            "credit_id": "553182fcc3a3682219000a37",
            "id": 76543,
            "name": "Chris Browning",
            "order": 11,
            "profile_path": "/coja80Y3B1XJeCJpW6l1ReCH7Zh.jpg"
           },
           {
            "cast_id": 11,
            "character": "Kinlaw",
            "credit_id": "5396115a0e0a266dbf007627",
            "id": 92617,
            "name": "Matthew Willig",
            "order": 12,
            "profile_path": "/5ZW9nqkmFnWTIkr4ALNCiHdPt9S.jpg"
           },
           {
            "cast_id": 18,
            "character": "Millicent",
            "credit_id": "553183569251415289000955",
            "id": 75620,
            "name": "Davenia McFadden",
            "order": 13,
            "profile_path": "/uX5egRwfOly93uuJeSahVIxfLFV.jpg"
           },
           {
            "cast_id": 19,
            "character": "Pit Boss",
            "credit_id": "5531837d925141528f0009d2",
            "id": 20582,
            "name": "Michael Papajohn",
            "order": 14,
            "profile_path": "/t4LF4IJkF5juv9C7DDZQqsMfpLc.jpg"
           },
           {
            "cast_id": 20,
            "character": "Julian Reeves",
            "credit_id": "553183c6c3a3682219000a57",
            "id": 52904,
            "name": "Jean Claude Leuyer",
            "order": 15,
            "profile_path": "/qwWruzfs5vC4V5FCyNIEGJvupKm.jpg"
           },
           {
            "cast_id": 21,
            "character": "Cocktail Waitress",
            "credit_id": "553183edc3a3682226000ad2",
            "id": 1450383,
            "name": "Greice Santo",
            "order": 16,
            "profile_path": "/x7SIECWrGFPVzqRPjsNJpNjZkWd.jpg"
           },
           {
            "cast_id": 22,
            "character": "Frank",
            "credit_id": "55318500925141528f0009f7",
            "id": 1386325,
            "name": "Freddie Poole",
            "order": 17,
            "profile_path": "/ynLllVrf9oS61EYEycYR489s3Fu.jpg"
           },
           {
            "cast_id": 23,
            "character": "Tony",
            "credit_id": "553185c8925141529e000a36",
            "id": 1455749,
            "name": "Nick Epper",
            "order": 18,
            "profile_path": "/16cVCwAYJMM7k4LTu64vJDTELEk.jpg"
           },
           {
            "cast_id": 24,
            "character": "First Doctor",
            "credit_id": "55318709c3a3682223000d0f",
            "id": 94428,
            "name": "Lara Grice",
            "order": 19,
            "profile_path": "/5bVR1UvnPyLgCcJqGHCnRCeLKPI.jpg"
           },
           {
            "cast_id": 25,
            "character": "HotShot Dealer",
            "credit_id": "553187b8c3a3682219000ad1",
            "id": 570706,
            "name": "D'Arcy Allen",
            "order": 20,
            "profile_path": "/sYUlDdzLJflvSJ2WAVmTpRz79dO.jpg"
           },
           {
            "cast_id": 26,
            "character": "Marie",
            "credit_id": "55318806c3a3682223000d2d",
            "id": 120251,
            "name": "Shanna Forrestall",
            "order": 21,
            "profile_path": "/3obLXjztke735vaes6XAdP0o1P8.jpg"
           },
           {
            "cast_id": 27,
            "character": "Mean Dealer",
            "credit_id": "5531882a925141528c000a44",
            "id": 98175,
            "name": "Lee Perkins",
            "order": 22,
            "profile_path": "/6Zy5TrYeol8di9HUJVneFc1mHwt.jpg"
           },
           {
            "cast_id": 6,
            "character": "Sexy Santa Annie",
            "credit_id": "539610ef0e0a266dbf00761c",
            "id": 1285499,
            "name": "Angela Kerecz",
            "order": 23,
            "profile_path": "/pTsh8auk8614t2rghDD4waA6l7A.jpg"
           }
          ],
          "directors": [
           {
            "credit_id": "534febd40e0a267eab000f92",
            "department": "Directing",
            "id": 12786,
            "job": "Director",
            "name": "Simon West",
            "profile_path": "/acrTt2BcGfLeQRpRcKj5pAqn21U.jpg"
           }
          ],
          "genres": [
           {
            "id": 80,
            "name": "Crime"
           },
           {
            "id": 18,
            "name": "Drama"
           },
           {
            "id": 53,
            "name": "Thriller"
           }
          ],
          "homepage": "",
          "id": 265208,
          "imdb_id": "tt2231253",
          "original_language": "en",
          "original_title": "Wild Card",
          "overview": "When a Las Vegas bodyguard with lethal skills and a gambling problem gets in trouble with the mob, he has one last play… and it's all or nothing.",
          "popularity": 6.15744914092498,
          "poster_path": "/cZMjg5fWkhJ1D7MouzZuiB16Hdk.jpg",
          "production_companies": [
           {
            "id": 24049,
            "name": "Sierra / Affinity"
           },
           {
            "id": 1632,
            "name": "Lionsgate"
           },
           {
            "id": 45980,
            "name": "SJ Heat Productions"
           }
          ],
          "production_countries": [
           {
            "iso_3166_1": "US",
            "name": "United States of America"
           }
          ],
          "release_date": "2015-01-30",
          "revenue": 0,
          "runtime": 92,
          "spoken_languages": [
           {
            "iso_639_1": "en",
            "name": "English"
           }
          ],
          "status": "Released",
          "tagline": "It's a card… and it's wild. Now watch the movie.",
          "title": "Wild Card",
          "video": false,
          "vote_average": 5.2,
          "vote_count": 140
         }
        },
        {
         "_id": "112949",
         "_index": "tmdb",
         "_score": 1.5240412,
         "_source": {
          "adult": false,
          "backdrop_path": "/rxWM3Jnb4sCmmyALeSwK6RlyooP.jpg",
          "belongs_to_collection": null,
          "budget": 28000000,
          "cast": [
           {
            "cast_id": 9,
            "character": "Katie Feldman",
            "credit_id": "52fe4b24c3a36847f81f4be3",
            "id": 143240,
            "name": "Julianne Hough",
            "order": 0,
            "profile_path": "/4x1xQbvsMZvlOLK36WV3nKSpUbv.jpg"
           },
           {
            "cast_id": 10,
            "character": "Alex Wheatley",
            "credit_id": "52fe4b24c3a36847f81f4be7",
            "id": 19536,
            "name": "Josh Duhamel",
            "order": 1,
            "profile_path": "/hi5OzlZAwf22xRRPLFbKnXNoZ9L.jpg"
           },
           {
            "cast_id": 11,
            "character": "Jo",
            "credit_id": "52fe4b24c3a36847f81f4beb",
            "id": 71189,
            "name": "Cobie Smulders",
            "order": 2,
            "profile_path": "/wAoJa7CGo1NXGnDzDRZNiiLIHLo.jpg"
           },
           {
            "cast_id": 12,
            "character": "Kevin Tierney",
            "credit_id": "52fe4b24c3a36847f81f4bef",
            "id": 76941,
            "name": "David Lyons",
            "order": 3,
            "profile_path": "/swz5FmdV35UpzwYJUbkUkJ2bvWM.jpg"
           },
           {
            "cast_id": 13,
            "character": "Lieutenant Robinson",
            "credit_id": "52fe4b24c3a36847f81f4bf3",
            "id": 65423,
            "name": "Mike Pniewski",
            "order": 4,
            "profile_path": "/6oJOSX84GXwuR9HA9RXTOeTeiKC.jpg"
           }
          ],
          "directors": [
           {
            "credit_id": "52fe4b24c3a36847f81f4bb5",
            "department": "Directing",
            "id": 5306,
            "job": "Director",
            "name": "Lasse Hallström",
            "profile_path": "/xbJQiZNaWbx7PKGpH2sIHHVMYta.jpg"
           }
          ],
          "genres": [
           {
            "id": 10749,
            "name": "Romance"
           }
          ],
          "homepage": "",
          "id": 112949,
          "imdb_id": "tt1702439",
          "original_language": "en",
          "original_title": "Safe Haven",
          "overview": "A young woman with a mysterious past lands in Southport, North Carolina where her bond with a widower forces her to confront the dark secret that haunts her.",
          "popularity": 1.16265633234089,
          "poster_path": "/q5u3anNtsMoCFi1uwK2UfWHkOFt.jpg",
          "production_companies": [
           {
            "id": 7295,
            "name": "Relativity Media"
           },
           {
            "id": 722,
            "name": "Temple Hill Productions"
           }
          ],
          "production_countries": [
           {
            "iso_3166_1": "US",
            "name": "United States of America"
           }
          ],
          "release_date": "2013-02-14",
          "revenue": 97594140,
          "runtime": 115,
          "spoken_languages": [
           {
            "iso_639_1": "en",
            "name": "English"
           },
           {
            "iso_639_1": "pt",
            "name": "Português"
           }
          ],
          "status": "Released",
          "tagline": "You know it when you find it",
          "title": "Safe Haven",
          "video": false,
          "vote_average": 6.5,
          "vote_count": 295
         }
        },
        {
         "_id": "85446",
         "_index": "tmdb",
         "_score": 1.5056071,
         "_source": {
          "adult": false,
          "backdrop_path": "/697HWfGtDmK5Yi5QTEL19Q8dzPL.jpg",
          "belongs_to_collection": {
           "backdrop_path": "/3jr0rQcsWyfqBlmzE0h0igjJohS.jpg",
           "id": 86092,
           "name": "Step Up Collection",
           "poster_path": "/vGZB6adfSbTElRcPRzfD40xGsYt.jpg"
          },
          "budget": 0,
          "cast": [
           {
            "cast_id": 1010,
            "character": "Emily",
            "credit_id": "52fe49419251416c910a76ed",
            "id": 479656,
            "name": "Kathryn McCormick",
            "order": 0,
            "profile_path": "/l15qbyuoee9RdjjCdCHPgsVCtbq.jpg"
           },
           {
            "cast_id": 1011,
            "character": "Sean",
            "credit_id": "52fe49419251416c910a76f1",
            "id": 932091,
            "name": "Ryan Guzman",
            "order": 1,
            "profile_path": "/yJR4t5PlBdsiPAP9JdGjqomkVv7.jpg"
           },
           {
            "cast_id": 1012,
            "character": "Jason",
            "credit_id": "52fe49419251416c910a76f5",
            "id": 110743,
            "name": "Stephen Boss",
            "order": 2,
            "profile_path": "/5mGP9IXwtmCFAK8dSiOVaFxjSRM.jpg"
           },
           {
            "cast_id": 1021,
            "character": "Claire",
            "credit_id": "52fe49419251416c910a7713",
            "id": 222141,
            "name": "Megan Boone",
            "order": 3,
            "profile_path": "/fqCZZb33w8RhWl2GVGdWOqXBQNO.jpg"
           },
           {
            "cast_id": 1015,
            "character": "Dancer",
            "credit_id": "52fe49419251416c910a76f9",
            "id": 932093,
            "name": "Jessica Guadix",
            "order": 4,
            "profile_path": "/fvlbaTELvx4F4UB3TzCXYxM60y0.jpg"
           },
           {
            "cast_id": 1016,
            "character": "Penelope",
            "credit_id": "52fe49419251416c910a76fd",
            "id": 217055,
            "name": "Cleopatra Coleman",
            "order": 5,
            "profile_path": "/qZEDMdL6OaYaNKKyH40G0KIpevP.jpg"
           },
           {
            "cast_id": 1017,
            "character": "Dancer",
            "credit_id": "52fe49419251416c910a7701",
            "id": 932095,
            "name": "Zoe Aggeliki",
            "order": 6,
            "profile_path": "/wCyrznRHDFSG2A1CHirXVAmWuRl.jpg"
           },
           {
            "cast_id": 1018,
            "character": "Tripp",
            "credit_id": "52fe49419251416c910a7705",
            "id": 180789,
            "name": "Tommy Dewey",
            "order": 7,
            "profile_path": "/ql0gosYNMJmGHd9UdINNliEIbdz.jpg"
           },
           {
            "cast_id": 1019,
            "character": "Mob Dancer",
            "credit_id": "52fe49419251416c910a7709",
            "id": 932097,
            "name": "Celestina",
            "order": 8,
            "profile_path": "/cC4ogX4QInjkCSSkTilh2HceXRH.jpg"
           },
           {
            "cast_id": 1023,
            "character": "Moose",
            "credit_id": "53f439b30e0a267f83001389",
            "id": 54503,
            "name": "Adam G. Sevani",
            "order": 9,
            "profile_path": "/xrDL7kg9CDBGsfczWX4HZ8s1xcN.jpg"
           },
           {
            "cast_id": 1024,
            "character": "Mr Anderson",
            "credit_id": "5463eef30e0a26294a000184",
            "id": 8212,
            "name": "Peter Gallagher",
            "order": 10,
            "profile_path": "/6bFDP5nBVx6RymoqPeSPwIvBCEL.jpg"
           },
           {
            "cast_id": 1025,
            "character": "Mob Dancer",
            "credit_id": "54f490f5925141799f00214b",
            "id": 1430895,
            "name": "Angeline Appel",
            "order": 11,
            "profile_path": "/gZkJTbrqf2zITLZBQzFBOiCGxDI.jpg"
           }
          ],
          "directors": [
           {
            "credit_id": "52fe49419251416c910a76bf",
            "department": "Directing",
            "id": 932088,
            "job": "Director",
            "name": "Scott Speer",
            "profile_path": "/z6etjYvpvfKIi9NuWh2Hyv3qs0Y.jpg"
           }
          ],
          "genres": [
           {
            "id": 18,
            "name": "Drama"
           },
           {
            "id": 10402,
            "name": "Music"
           },
           {
            "id": 10749,
            "name": "Romance"
           }
          ],
          "homepage": "",
          "id": 85446,
          "imdb_id": "tt1800741",
          "original_language": "en",
          "original_title": "Step Up Revolution",
          "overview": "Emily arrives in Miami with aspirations to become a professional dancer. She sparks with Sean, the leader of a dance crew whose neighborhood is threatened by Emily's father's development plans.",
          "popularity": 1.46456814377037,
          "poster_path": "/bduyqAyMtPDs4m16F7SuLQtbcud.jpg",
          "production_companies": [
           {
            "id": 491,
            "name": "Summit Entertainment"
           }
          ],
          "production_countries": [
           {
            "iso_3166_1": "US",
            "name": "United States of America"
           }
          ],
          "release_date": "2012-07-26",
          "revenue": 0,
          "runtime": 99,
          "spoken_languages": [
           {
            "iso_639_1": "en",
            "name": "English"
           }
          ],
          "status": "Released",
          "tagline": "One Step Can Change Your World",
          "title": "Step Up Revolution",
          "video": false,
          "vote_average": 6.4,
          "vote_count": 222
         }
        },
        {
         "_id": "12556",
         "_index": "tmdb",
         "_score": 1.5045594,
         "_source": {
          "adult": false,
          "backdrop_path": "/A5uNeuVAIxJZ7AiHuqSKctTrfFC.jpg",
          "belongs_to_collection": null,
          "budget": 0,
          "cast": [
           {
            "cast_id": 4,
            "character": "Connor Mead",
            "credit_id": "52fe44fa9251416c750478b1",
            "id": 10297,
            "name": "Matthew McConaughey",
            "order": 0,
            "profile_path": "/hHiLJl7yvDwbtbgdvTQKa7HuQCx.jpg"
           },
           {
            "cast_id": 5,
            "character": "Jenny Perotti",
            "credit_id": "52fe44fa9251416c750478b5",
            "id": 9278,
            "name": "Jennifer Garner",
            "order": 1,
            "profile_path": "/tQLAbyf218NlZ9eTy5OBcgUOvDi.jpg"
           },
           {
            "cast_id": 6,
            "character": "Uncle Wayne",
            "credit_id": "52fe44fa9251416c750478b9",
            "id": 3392,
            "name": "Michael Douglas",
            "order": 2,
            "profile_path": "/nmlitv4g2jXO3sJrnA9g980j2uc.jpg"
           },
           {
            "cast_id": 7,
            "character": "Allison Vandermeersh",
            "credit_id": "52fe44fa9251416c750478bd",
            "id": 54693,
            "name": "Emma Stone",
            "order": 3,
            "profile_path": "/lPyR5mKhdqFmgxaCMJK6w3g1OAT.jpg"
           },
           {
            "cast_id": 8,
            "character": "Paul",
            "credit_id": "52fe44fa9251416c750478c1",
            "id": 33654,
            "name": "Breckin Meyer",
            "order": 4,
            "profile_path": "/reEueVJJwaDgJUyubFL7Ud87bpB.jpg"
           },
           {
            "cast_id": 9,
            "character": "Sandra",
            "credit_id": "52fe44fa9251416c750478c5",
            "id": 22082,
            "name": "Lacey Chabert",
            "order": 5,
            "profile_path": "/fCSUC713QF3nslnap2C4j6TAaTd.jpg"
           },
           {
            "cast_id": 10,
            "character": "Sergeant Volkom",
            "credit_id": "52fe44fb9251416c750478c9",
            "id": 5694,
            "name": "Robert Forster",
            "order": 6,
            "profile_path": "/82v4FngEiGvtTHQm399t6eaLfXw.jpg"
           },
           {
            "cast_id": 11,
            "character": "Vonda Volkom",
            "credit_id": "52fe44fb9251416c750478cd",
            "id": 10427,
            "name": "Anne Archer",
            "order": 7,
            "profile_path": "/zemspOk1FECjvjRWrH6modUgHiL.jpg"
           },
           {
            "cast_id": 12,
            "character": "Brad",
            "credit_id": "52fe44fb9251416c750478d1",
            "id": 10582,
            "name": "Daniel Sunjata",
            "order": 8,
            "profile_path": "/k96VSR1Q3p6sWHuY2z7Rd5pA8Hg.jpg"
           },
           {
            "cast_id": 13,
            "character": "Melanie",
            "credit_id": "52fe44fb9251416c750478d5",
            "id": 66524,
            "name": "Noureen DeWulf",
            "order": 9,
            "profile_path": "/kamvMaDxCe2qdQvX5IWcyYp9np6.jpg"
           },
           {
            "cast_id": 14,
            "character": "Deena the Bridesmaid",
            "credit_id": "552525e6c3a3687dfe0015cd",
            "id": 96624,
            "name": "Rachel Boston",
            "order": 10,
            "profile_path": "/gX5GGFYPELzfDwSsy6W7QpKDj87.jpg"
           },
           {
            "cast_id": 15,
            "character": "Donna the Bridesmaid",
            "credit_id": "552525f3c3a3687e03001381",
            "id": 81106,
            "name": "Camille Guaty",
            "order": 11,
            "profile_path": "/clscQjYVHl6JmXa4sqZFFeixrIy.jpg"
           },
           {
            "cast_id": 16,
            "character": "Denice the Bridesmaid",
            "credit_id": "5525260292514166c1005022",
            "id": 76416,
            "name": "Amanda Walsh",
            "order": 12,
            "profile_path": "/agVCKioWuYDNVoZakLyxVt0VZZX.jpg"
           },
           {
            "cast_id": 17,
            "character": "Nadja",
            "credit_id": "55252614c3a3687dfe0015d0",
            "id": 209200,
            "name": "Emily Baldoni",
            "order": 13,
            "profile_path": "/qayfOsHfyE1RGW3zcEIniLwocl4.jpg"
           },
           {
            "cast_id": 18,
            "character": "Charlece",
            "credit_id": "55252621c3a3687e08001433",
            "id": 1339929,
            "name": "Catherine Haena Kim",
            "order": 14,
            "profile_path": null
           }
          ],
          "directors": [
           {
            "credit_id": "52fe44fa9251416c750478a1",
            "department": "Directing",
            "id": 54050,
            "job": "Director",
            "name": "Mark Waters",
            "profile_path": "/ktII2pERp8swsnULZhDPzyfVlf6.jpg"
           }
          ],
          "genres": [
           {
            "id": 35,
            "name": "Comedy"
           },
           {
            "id": 14,
            "name": "Fantasy"
           },
           {
            "id": 10749,
            "name": "Romance"
           }
          ],
          "homepage": "http://www.ghostsofgirlfriendspastmovie.com/",
          "id": 12556,
          "imdb_id": "tt0821640",
          "original_language": "en",
          "original_title": "Ghosts of Girlfriends Past",
          "overview": "When notorious womanizer Connor Mead attends his brother Paul's wedding, he is forced to re-evaluate his behavior as he comes face-to-face with the ghosts of girlfriends past, present, and future, along with his deceased uncle. The experience changes his attitude and allows him to reconnect with his first and only love, Jenny.",
          "popularity": 1.35931550683557,
          "poster_path": "/ojAN7GKwxCl2e2vSdmee43jZ6aw.jpg",
          "production_companies": [
           {
            "id": 50824,
            "name": "Panther"
           },
           {
            "id": 10991,
            "name": "Jon Shestack Productions"
           },
           {
            "id": 12,
            "name": "New Line Cinema"
           }
          ],
          "production_countries": [
           {
            "iso_3166_1": "US",
            "name": "United States of America"
           }
          ],
          "release_date": "2009-05-01",
          "revenue": 102223269,
          "runtime": 100,
          "spoken_languages": [
           {
            "iso_639_1": "en",
            "name": "English"
           }
          ],
          "status": "Released",
          "tagline": "You can't always run from your past.",
          "title": "Ghosts of Girlfriends Past",
          "video": false,
          "vote_average": 5.5,
          "vote_count": 187
         }
        },
        {
         "_id": "8346",
         "_index": "tmdb",
         "_score": 1.4965564,
         "_source": {
          "adult": false,
          "backdrop_path": "/idxWoU1eYssOmaRx9W8pkHgKXyc.jpg",
          "belongs_to_collection": null,
          "budget": 5000000,
          "cast": [
           {
            "cast_id": 3,
            "character": "Toula",
            "credit_id": "52fe44a1c3a36847f80a1037",
            "id": 54645,
            "name": "Nia Vardalos",
            "order": 0,
            "profile_path": "/5gFPZcVc00uXhzslKOZ2DmWoTSH.jpg"
           },
           {
            "cast_id": 5,
            "character": "Ian Miller",
            "credit_id": "52fe44a1c3a36847f80a103f",
            "id": 38405,
            "name": "John Corbett",
            "order": 1,
            "profile_path": "/rysozQX6fbbd0PXhkH5tVWa3Wt3.jpg"
           },
           {
            "cast_id": 7,
            "character": "Maria Portokalos",
            "credit_id": "52fe44a1c3a36847f80a1047",
            "id": 53647,
            "name": "Lainie Kazan",
            "order": 2,
            "profile_path": "/qI20obSkCyWbo13xh20rWeUuMXp.jpg"
           },
           {
            "cast_id": 4,
            "character": "Gus Portokalos",
            "credit_id": "52fe44a1c3a36847f80a103b",
            "id": 14884,
            "name": "Michael Constantine",
            "order": 3,
            "profile_path": "/fZXfSyDEeIWzGudVhgwG3f9HTl0.jpg"
           },
           {
            "cast_id": 10,
            "character": "Aunt Voula",
            "credit_id": "52fe44a1c3a36847f80a1053",
            "id": 8263,
            "name": "Andrea Martin",
            "order": 4,
            "profile_path": "/vt4yKdu8dYOpDNCAZEVX634iBK9.jpg"
           },
           {
            "cast_id": 14,
            "character": "Angelo",
            "credit_id": "52fe44a1c3a36847f80a1063",
            "id": 54651,
            "name": "Joey Fatone",
            "order": 5,
            "profile_path": "/iTd8c8goQhPKeOimyeNIQOydwKt.jpg"
           },
           {
            "cast_id": 11,
            "character": "Nick Portokalos",
            "credit_id": "52fe44a1c3a36847f80a1057",
            "id": 54649,
            "name": "Louis Mandylor",
            "order": 6,
            "profile_path": "/7RBLuDriYPoewbr4B0T5dof4oeF.jpg"
           },
           {
            "cast_id": 13,
            "character": "Cousin Nikki",
            "credit_id": "52fe44a1c3a36847f80a105f",
            "id": 14226,
            "name": "Gia Carides",
            "order": 7,
            "profile_path": "/hd4wkz74R00PDkMhCMuH2qqH2Yt.jpg"
           },
           {
            "cast_id": 6,
            "character": "Toula as child",
            "credit_id": "52fe44a1c3a36847f80a1043",
            "id": 54646,
            "name": "Christina Eleusiniotis",
            "order": 8,
            "profile_path": null
           },
           {
            "cast_id": 8,
            "character": "Toula Teenager",
            "credit_id": "52fe44a1c3a36847f80a104b",
            "id": 54647,
            "name": "Marita Zouravlioff",
            "order": 9,
            "profile_path": null
           },
           {
            "cast_id": 12,
            "character": "Uncle Taki",
            "credit_id": "52fe44a1c3a36847f80a105b",
            "id": 54650,
            "name": "Gerry Mendicino",
            "order": 10,
            "profile_path": null
           },
           {
            "cast_id": 9,
            "character": "Yiayia",
            "credit_id": "52fe44a1c3a36847f80a104f",
            "id": 54648,
            "name": "Bess Meisler",
            "order": 11,
            "profile_path": null
           },
           {
            "cast_id": 15,
            "character": "Mrs. White",
            "credit_id": "52fe44a1c3a36847f80a1067",
            "id": 4568,
            "name": "Jayne Eastwood",
            "order": 12,
            "profile_path": "/fUYBG960fMkGDiNzcz7ERjB6BHe.jpg"
           },
           {
            "cast_id": 16,
            "character": "Harriet Miller",
            "credit_id": "52fe44a1c3a36847f80a106b",
            "id": 54652,
            "name": "Fiona Reid",
            "order": 13,
            "profile_path": null
           },
           {
            "cast_id": 17,
            "character": "Rodney Miller",
            "credit_id": "52fe44a1c3a36847f80a106f",
            "id": 5945,
            "name": "Bruce Gray",
            "order": 14,
            "profile_path": "/z0uEl3in5hsCD4TYTBqCtmqCdwo.jpg"
           },
           {
            "cast_id": 25,
            "character": "Suitor",
            "credit_id": "52fe44a1c3a36847f80a109d",
            "id": 1202716,
            "name": "Frank Falcone",
            "order": 15,
            "profile_path": "/xR1bKrgkj1oGmKbceuVXgHjpDMp.jpg"
           }
          ],
          "directors": [
           {
            "credit_id": "52fe44a1c3a36847f80a102d",
            "department": "Directing",
            "id": 54644,
            "job": "Director",
            "name": "Joel Zwick",
            "profile_path": "/vP5MtUckpCluHWmGzyzDlUdTAvk.jpg"
           }
          ],
          "genres": [
           {
            "id": 35,
            "name": "Comedy"
           },
           {
            "id": 18,
            "name": "Drama"
           },
           {
            "id": 10749,
            "name": "Romance"
           }
          ],
          "homepage": "",
          "id": 8346,
          "imdb_id": "tt0259446",
          "original_language": "en",
          "original_title": "My Big Fat Greek Wedding",
          "overview": "A young Greek woman falls in love with a non-Greek and struggles to get her family to accept him while she comes to terms with her heritage and cultural identity.",
          "popularity": 0.857801600771349,
          "poster_path": "/vqGs8K6MdMHVPMTgMhzKHBVgu0t.jpg",
          "production_companies": [
           {
            "id": 2388,
            "name": "MPH Entertainment"
           },
           {
            "id": 12026,
            "name": "Gold Circle Films"
           },
           {
            "id": 4170,
            "name": "Playtone Productions"
           }
          ],
          "production_countries": [
           {
            "iso_3166_1": "CA",
            "name": "Canada"
           },
           {
            "iso_3166_1": "US",
            "name": "United States of America"
           }
          ],
          "release_date": "2002-02-22",
          "revenue": 368744044,
          "runtime": 95,
          "spoken_languages": [
           {
            "iso_639_1": "el",
            "name": "ελληνικά"
           },
           {
            "iso_639_1": "en",
            "name": "English"
           }
          ],
          "status": "Released",
          "tagline": "Love is here to stay... so is her family.",
          "title": "My Big Fat Greek Wedding",
          "video": false,
          "vote_average": 5.9,
          "vote_count": 153
         }
        },
        {
         "_id": "6557",
         "_index": "tmdb",
         "_score": 1.4965564,
         "_source": {
          "adult": false,
          "backdrop_path": "/jwV0wmhEqHGxM5nrOPO0ifQug56.jpg",
          "belongs_to_collection": null,
          "budget": 30000000,
          "cast": [
           {
            "cast_id": 14,
            "character": "Jane",
            "credit_id": "52fe445bc3a36847f8091235",
            "id": 25541,
            "name": "Katherine Heigl",
            "order": 0,
            "profile_path": "/dsMdrdIOD4xl1shUv1zl6RvXiUb.jpg"
           },
           {
            "cast_id": 15,
            "character": "Kevin",
            "credit_id": "52fe445bc3a36847f8091239",
            "id": 11006,
            "name": "James Marsden",
            "order": 1,
            "profile_path": "/htBil0Vayd09haeUVoKEPxuantT.jpg"
           },
           {
            "cast_id": 16,
            "character": "Tess",
            "credit_id": "52fe445bc3a36847f809123d",
            "id": 50463,
            "name": "Malin Akerman",
            "order": 2,
            "profile_path": "/QBCe0Nu7WQ7Xqp2JPdq1y0iSYt.jpg"
           },
           {
            "cast_id": 17,
            "character": "Casey",
            "credit_id": "52fe445bc3a36847f8091241",
            "id": 20750,
            "name": "Judy Greer",
            "order": 3,
            "profile_path": "/qVVXXojIwHSsBhos9rF7v59tDJf.jpg"
           },
           {
            "cast_id": 18,
            "character": "George",
            "credit_id": "52fe445bc3a36847f8091245",
            "id": 12833,
            "name": "Edward Burns",
            "order": 4,
            "profile_path": "/jR0Z5bkcYxQ1V603v2RuWJZ4Uew.jpg"
           },
           {
            "cast_id": 19,
            "character": "Hal",
            "credit_id": "52fe445bc3a36847f8091249",
            "id": 50464,
            "name": "Brian Kerwin",
            "order": 5,
            "profile_path": "/cC69Vc7F59RKBZUldffhWJWx57A.jpg"
           },
           {
            "cast_id": 20,
            "character": "Taxi Fahrer Khaleel",
            "credit_id": "52fe445bc3a36847f809124d",
            "id": 50465,
            "name": "Michael Ziegfeld",
            "order": 6,
            "profile_path": "/z9chWF86RtEEfEJyY0GvxzxYEM6.jpg"
           },
           {
            "cast_id": 21,
            "character": "Maureen",
            "credit_id": "52fe445bc3a36847f8091251",
            "id": 404,
            "name": "Melora Hardin",
            "order": 7,
            "profile_path": "/uecs9JKOqgYj3PrSGECaFzc3E2r.jpg"
           },
           {
            "cast_id": 22,
            "character": "Pedro",
            "credit_id": "52fe445bc3a36847f8091255",
            "id": 50466,
            "name": "David Castro",
            "order": 8,
            "profile_path": "/9qcalPZ5g1A7zid5VueB77Yq6kq.jpg"
           },
           {
            "cast_id": 32,
            "character": "Young Jane",
            "credit_id": "52fe445bc3a36847f8091277",
            "id": 1254435,
            "name": "Peyton List",
            "order": 9,
            "profile_path": "/sZmv5yEKyguVLPgs3EwD8YoxHRB.jpg"
           },
           {
            "cast_id": 25,
            "character": "Bridal Salesgirl",
            "credit_id": "52fe445bc3a36847f809125f",
            "id": 1154564,
            "name": "Jennifer Lim",
            "order": 10,
            "profile_path": "/2sxWwQIbR9dyYzYlI95gaZFT0jK.jpg"
           },
           {
            "cast_id": 26,
            "character": "Bride Suzanne",
            "credit_id": "52fe445bc3a36847f8091263",
            "id": 209730,
            "name": "Danielle Skraastad",
            "order": 11,
            "profile_path": "/rsG8yVlPQbR0jAh6SJU8uL8sbgr.jpg"
           },
           {
            "cast_id": 27,
            "character": "Hip Bridesmaid",
            "credit_id": "52fe445bc3a36847f8091267",
            "id": 203430,
            "name": "Yetta Gottesman",
            "order": 12,
            "profile_path": "/k9Ocag8HH6osMpoqRceskNvEk8f.jpg"
           },
           {
            "cast_id": 28,
            "character": "Shari Rabinowitz",
            "credit_id": "52fe445bc3a36847f809126b",
            "id": 993689,
            "name": "Erin Fogel",
            "order": 13,
            "profile_path": "/lE4sLFKOYjJWeVh0U3q1LQVCC3H.jpg"
           },
           {
            "cast_id": 29,
            "character": "Rabbi",
            "credit_id": "52fe445bc3a36847f809126f",
            "id": 550851,
            "name": "Bern Cohen",
            "order": 14,
            "profile_path": "/oj0Gz4UnFr3K3EHX0jIx9fM1Ofc.jpg"
           },
           {
            "cast_id": 33,
            "character": "Trent",
            "credit_id": "52fe445bc3a36847f809127b",
            "id": 1214403,
            "name": "Maulik Pancholy",
            "order": 15,
            "profile_path": "/z0MJgOgDyViARuDT9u3Wo9VyY5W.jpg"
           },
           {
            "cast_id": 31,
            "character": "Gina the Goth",
            "credit_id": "52fe445bc3a36847f8091273",
            "id": 78080,
            "name": "Krysten Ritter",
            "order": 16,
            "profile_path": "/e1RzQfMHsWVB3IIjAbsc07nMA4c.jpg"
           }
          ],
          "directors": [
           {
            "credit_id": "52fe445ac3a36847f80911ef",
            "department": "Directing",
            "id": 29214,
            "job": "Director",
            "name": "Anne Fletcher",
            "profile_path": "/piR4AwJX9lqJt454iVsI7sQf6Y0.jpg"
           }
          ],
          "genres": [
           {
            "id": 35,
            "name": "Comedy"
           },
           {
            "id": 10749,
            "name": "Romance"
           }
          ],
          "homepage": "http://www.27dressesthemovie.com/",
          "id": 6557,
          "imdb_id": "tt0988595",
          "original_language": "en",
          "original_title": "27 Dresses",
          "overview": "After serving as a bridesmaid 27 times, a young woman wrestles with the idea of standing by her sister's side as her sibling marries the man she's secretly in love with.",
          "popularity": 0.651281485998258,
          "poster_path": "/ausIGc4Mm7eHCRaqI197EmWWv7Q.jpg",
          "production_companies": [
           {
            "id": 711,
            "name": "Fox 2000 Pictures"
           },
           {
            "id": 158,
            "name": "Spyglass Entertainment"
           },
           {
            "id": 6332,
            "name": "Dune Entertainment III"
           }
          ],
          "production_countries": [
           {
            "iso_3166_1": "US",
            "name": "United States of America"
           }
          ],
          "release_date": "2008-01-10",
          "revenue": 160300000,
          "runtime": 111,
          "spoken_languages": [
           {
            "iso_639_1": "en",
            "name": "English"
           }
          ],
          "status": "Released",
          "tagline": "She's about to find the perfect fit.",
          "title": "27 Dresses",
          "video": false,
          "vote_average": 5.9,
          "vote_count": 254
         }
        },
        {
         "_id": "941",
         "_index": "tmdb",
         "_score": 1.4925325,
         "_source": {
          "adult": false,
          "backdrop_path": "/wi2stpCDJam3dBYdsRTnKmBysXF.jpg",
          "belongs_to_collection": {
           "backdrop_path": "/7PH31kIhz6BnzoP9cxG7JbkB6fT.jpg",
           "id": 945,
           "name": "Lethal Weapon Collection",
           "poster_path": "/xiK7NX0eWmFLb3OZrIS9IDS9p9N.jpg"
          },
          "budget": 15000000,
          "cast": [
           {
            "cast_id": 13,
            "character": "Sergeant Martin Riggs",
            "credit_id": "52fe4291c3a36847f8028b27",
            "id": 2461,
            "name": "Mel Gibson",
            "order": 0,
            "profile_path": "/6VGgL0bBvPIJ9vDOyyGf5nK2zL4.jpg"
           },
           {
            "cast_id": 14,
            "character": "Sergeant Roger Murtaugh",
            "credit_id": "52fe4291c3a36847f8028b2b",
            "id": 2047,
            "name": "Danny Glover",
            "order": 1,
            "profile_path": "/jSNTEnm0Sxm8FRtoBfJmhmQyozH.jpg"
           },
           {
            "cast_id": 15,
            "character": "Mr. Joshua",
            "credit_id": "52fe4291c3a36847f8028b2f",
            "id": 2048,
            "name": "Gary Busey",
            "order": 2,
            "profile_path": "/n66ycv61ZoqusHthcQde1g3JY6T.jpg"
           },
           {
            "cast_id": 16,
            "character": "General Peter McAllister",
            "credit_id": "52fe4291c3a36847f8028b33",
            "id": 14312,
            "name": "Mitchell Ryan",
            "order": 3,
            "profile_path": "/8GV2XiQCXOQ69it7OHGCjWGUkqO.jpg"
           },
           {
            "cast_id": 17,
            "character": "Michael Hunsaker",
            "credit_id": "52fe4291c3a36847f8028b37",
            "id": 11784,
            "name": "Tom Atkins",
            "order": 4,
            "profile_path": "/gZZx9ByxKyt2idABNwr2XTN9jzU.jpg"
           },
           {
            "cast_id": 18,
            "character": "Trish Murtaugh",
            "credit_id": "52fe4291c3a36847f8028b3b",
            "id": 14313,
            "name": "Darlene Love",
            "order": 5,
            "profile_path": "/bVfVgYhCi9P9QiL67T0eYb4tRAc.jpg"
           },
           {
            "cast_id": 19,
            "character": "Rianne Murtaugh",
            "credit_id": "52fe4291c3a36847f8028b3f",
            "id": 14314,
            "name": "Traci Wolfe",
            "order": 6,
            "profile_path": "/eJWPtc7wxWU0wxzfRi8ybZahsky.jpg"
           },
           {
            "cast_id": 20,
            "character": "Amanda Hunsaker",
            "credit_id": "52fe4291c3a36847f8028b43",
            "id": 14315,
            "name": "Jackie Swanson",
            "order": 7,
            "profile_path": "/vfMg8UD4u3EhzIoclnLgpihaFHO.jpg"
           },
           {
            "cast_id": 21,
            "character": "Nick Murtaugh",
            "credit_id": "52fe4291c3a36847f8028b47",
            "id": 14316,
            "name": "Damon Hines",
            "order": 8,
            "profile_path": "/xFpDZ8OkrzJQQVOTrl2WZ3s7K0t.jpg"
           },
           {
            "cast_id": 22,
            "character": "Carrie Murtaugh",
            "credit_id": "52fe4291c3a36847f8028b4b",
            "id": 14317,
            "name": "Ebonie Smith",
            "order": 9,
            "profile_path": "/1CwobVWob2BCso6Lj3epBvLd1J6.jpg"
           },
           {
            "cast_id": 23,
            "character": "Mercenary",
            "credit_id": "52fe4291c3a36847f8028b4f",
            "id": 14318,
            "name": "Gilles Kohler",
            "order": 10,
            "profile_path": null
           },
           {
            "cast_id": 24,
            "character": "Dixie",
            "credit_id": "52fe4291c3a36847f8028b53",
            "id": 14319,
            "name": "Lycia Naff",
            "order": 11,
            "profile_path": "/ggGDSZGOON60nEo47oeqDiZwTvr.jpg"
           },
           {
            "cast_id": 25,
            "character": "Sergeant McCaskey",
            "credit_id": "52fe4291c3a36847f8028b57",
            "id": 14320,
            "name": "Jack Thibeau",
            "order": 12,
            "profile_path": "/ugO5Vb7ZXUz5VMpM9dZghJSt6ui.jpg"
           },
           {
            "cast_id": 26,
            "character": "Mendez",
            "credit_id": "52fe4291c3a36847f8028b5b",
            "id": 8658,
            "name": "Ed O'Ross",
            "order": 13,
            "profile_path": "/jEMZrrxJ0DBQwyFF5tVl3WN4c8A.jpg"
           },
           {
            "cast_id": 28,
            "character": "Cop #2",
            "credit_id": "52fe4291c3a36847f8028b65",
            "id": 14062,
            "name": "Don Gordon",
            "order": 14,
            "profile_path": "/oSX1fJ1PY7RzOelwratXJX7kVTQ.jpg"
           },
           {
            "cast_id": 29,
            "character": "Cop #1",
            "credit_id": "52fe4291c3a36847f8028b69",
            "id": 194553,
            "name": "Patrick Cameron",
            "order": 15,
            "profile_path": null
           },
           {
            "cast_id": 30,
            "character": "Psychologist",
            "credit_id": "52fe4291c3a36847f8028b6d",
            "id": 23967,
            "name": "Mary Ellen Trainor",
            "order": 16,
            "profile_path": "/w5QWW4oyQWNX51hMcnaCUTPToYX.jpg"
           }
          ],
          "directors": [
           {
            "credit_id": "52fe4291c3a36847f8028ae1",
            "department": "Directing",
            "id": 7187,
            "job": "Director",
            "name": "Richard Donner",
            "profile_path": "/hsOQU2mFuAfGrvBMDLPgrWemO5T.jpg"
           }
          ],
          "genres": [
           {
            "id": 28,
            "name": "Action"
           },
           {
            "id": 12,
            "name": "Adventure"
           },
           {
            "id": 35,
            "name": "Comedy"
           },
           {
            "id": 80,
            "name": "Crime"
           },
           {
            "id": 53,
            "name": "Thriller"
           }
          ],
          "homepage": "",
          "id": 941,
          "imdb_id": "tt0093409",
          "original_language": "en",
          "original_title": "Lethal Weapon",
          "overview": "Veteran buttoned-down LAPD detective Roger Murtaugh is partnered with unhinged cop Martin Riggs, who -- distraught after his wife's death -- has a death wish and takes unnecessary risks with criminals at every turn. The odd couple embark on their first homicide investigation as partners, involving a young woman known to Murtaugh with ties to a drug and prostitution ring.",
          "popularity": 1.44402163601487,
          "poster_path": "/mRXZcSFrf4A4HmGmFBQY8N4oxSC.jpg",
          "production_companies": [
           {
            "id": 174,
            "name": "Warner Bros. Pictures"
           },
           {
            "id": 1885,
            "name": "Silver Pictures"
           }
          ],
          "production_countries": [
           {
            "iso_3166_1": "US",
            "name": "United States of America"
           }
          ],
          "release_date": "1987-03-05",
          "revenue": 120207127,
          "runtime": 110,
          "spoken_languages": [
           {
            "iso_639_1": "en",
            "name": "English"
           }
          ],
          "status": "Released",
          "tagline": "If these two can learn to stand each other... the bad guys don't stand a chance.",
          "title": "Lethal Weapon",
          "video": false,
          "vote_average": 6.5,
          "vote_count": 500
         }
        },
        {
         "_id": "4597",
         "_index": "tmdb",
         "_score": 1.4925325,
         "_source": {
          "adult": false,
          "backdrop_path": "/a4cvwQ73OtAUWYsIMSQ0iUHDGED.jpg",
          "belongs_to_collection": null,
          "budget": 20000000,
          "cast": [
           {
            "cast_id": 2,
            "character": "Ty Hackett",
            "credit_id": "52fe43cec3a36847f807138d",
            "id": 31132,
            "name": "Columbus Short",
            "order": 0,
            "profile_path": "/9RaKHG9aODBaTOxdytmWEM8LEHa.jpg"
           },
           {
            "cast_id": 4,
            "character": "Baines",
            "credit_id": "52fe43cec3a36847f8071391",
            "id": 2975,
            "name": "Laurence Fishburne",
            "order": 1,
            "profile_path": "/mh0lZ1XsT84FayMNiT6Erh91mVu.jpg"
           },
           {
            "cast_id": 5,
            "character": "Dobbs",
            "credit_id": "52fe43cec3a36847f8071395",
            "id": 22108,
            "name": "Skeet Ulrich",
            "order": 2,
            "profile_path": "/nGdQCrLrSubxd3kV70NgcRADEi7.jpg"
           },
           {
            "cast_id": 6,
            "character": "Palmer",
            "credit_id": "52fe43cec3a36847f8071399",
            "id": 17341,
            "name": "Amaury Nolasco",
            "order": 3,
            "profile_path": "/tFH2iQmCIARuPJwjqcw7STwLeEr.jpg"
           },
           {
            "cast_id": 7,
            "character": "Mike Cochrane",
            "credit_id": "52fe43cec3a36847f807139d",
            "id": 2876,
            "name": "Matt Dillon",
            "order": 4,
            "profile_path": "/sqHNX9iyxdxZffl6wYWSoc7QoVG.jpg"
           },
           {
            "cast_id": 8,
            "character": "Quinn",
            "credit_id": "52fe43cec3a36847f80713a1",
            "id": 1003,
            "name": "Jean Reno",
            "order": 5,
            "profile_path": "/cdsN5efCYGQWlPrj7vFlZRBTR16.jpg"
           },
           {
            "cast_id": 9,
            "character": "Duncan Ashcroft",
            "credit_id": "52fe43cec3a36847f80713a5",
            "id": 10430,
            "name": "Fred Ward",
            "order": 6,
            "profile_path": "/ybRDXraWsQ6zyqPUIAWITwuOWug.jpg"
           },
           {
            "cast_id": 21,
            "character": "Eckehart",
            "credit_id": "52fe43cfc3a36847f80713eb",
            "id": 16501,
            "name": "Milo Ventimiglia",
            "order": 7,
            "profile_path": "/maJeS6bA6ku21rSRceISQtwHL2h.jpg"
           },
           {
            "cast_id": 22,
            "character": "Jimmy Hackett",
            "credit_id": "52fe43cfc3a36847f80713ef",
            "id": 1115002,
            "name": "Andre Kinney",
            "order": 8,
            "profile_path": null
           },
           {
            "cast_id": 23,
            "character": "Dispatcher #1",
            "credit_id": "52fe43cfc3a36847f80713f3",
            "id": 65699,
            "name": "Andrew Fiscella",
            "order": 9,
            "profile_path": "/1N7GzORPgFgHLeHHK09NJNkTAL4.jpg"
           },
           {
            "cast_id": 24,
            "character": "Homeless Man",
            "credit_id": "52fe43cfc3a36847f80713f7",
            "id": 39214,
            "name": "Nick Jameson",
            "order": 10,
            "profile_path": "/5qj2PTuViab3fc5Yauq91VIt8Ex.jpg"
           },
           {
            "cast_id": 25,
            "character": "Joe the Cook",
            "credit_id": "52fe43cfc3a36847f80713fb",
            "id": 18305,
            "name": "Glenn Taranto",
            "order": 11,
            "profile_path": "/kZfmHgAOYHprU9Iq30W7oTx9M7Y.jpg"
           },
           {
            "cast_id": 26,
            "character": "Child Welfare Agent",
            "credit_id": "52fe43cfc3a36847f80713ff",
            "id": 95696,
            "name": "Lorna Raver",
            "order": 12,
            "profile_path": "/iXlz30cBxvyn66fPTFOgbrrlsqT.jpg"
           },
           {
            "cast_id": 27,
            "character": "Federal Guard",
            "credit_id": "52fe43cfc3a36847f8071403",
            "id": 167708,
            "name": "Garry Guerrier",
            "order": 13,
            "profile_path": null
           },
           {
            "cast_id": 28,
            "character": "Bank Guard",
            "credit_id": "52fe43cfc3a36847f8071407",
            "id": 62100,
            "name": "Robert Harvey",
            "order": 14,
            "profile_path": null
           },
           {
            "cast_id": 29,
            "character": "Federal Guard #2",
            "credit_id": "52fe43cfc3a36847f807140b",
            "id": 1002203,
            "name": "Shawn Devorse",
            "order": 15,
            "profile_path": null
           }
          ],
          "directors": [
           {
            "credit_id": "52fe43cec3a36847f8071389",
            "department": "Directing",
            "id": 41671,
            "job": "Director",
            "name": "Nimród Antal",
            "profile_path": "/rI5DZmGXhZcNYaREK9vy2khqm1o.jpg"
           }
          ],
          "genres": [
           {
            "id": 28,
            "name": "Action"
           },
           {
            "id": 80,
            "name": "Crime"
           },
           {
            "id": 18,
            "name": "Drama"
           },
           {
            "id": 53,
            "name": "Thriller"
           }
          ],
          "homepage": "",
          "id": 4597,
          "imdb_id": "tt0913354",
          "original_language": "en",
          "original_title": "Armored",
          "overview": "A crew of officers at an armored transport security firm risk their lives when they embark on the ultimate heist against their own company. Armed with a seemingly fool-proof plan, the men plan on making off with a fortune with harm to none. But when an unexpected witness interferes, the plan quickly unravels and all bets are off.",
          "popularity": 0.618974126474381,
          "poster_path": "/zdj2p7apgVCqWoaIldzYsdLHZ1J.jpg",
          "production_companies": [
           {
            "id": 3287,
            "name": "Screen Gems"
           },
           {
            "id": 8931,
            "name": "Stars Road Entertainment"
           },
           {
            "id": 11249,
            "name": "Farah Films & Management"
           },
           {
            "id": 11250,
            "name": "Buckaroo Entertainment"
           }
          ],
          "production_countries": [
           {
            "iso_3166_1": "US",
            "name": "United States of America"
           }
          ],
          "release_date": "2009-12-04",
          "revenue": 22942221,
          "runtime": 88,
          "spoken_languages": [
           {
            "iso_639_1": "en",
            "name": "English"
           }
          ],
          "status": "Released",
          "tagline": "Who will be the last man standing?",
          "title": "Armored",
          "video": false,
          "vote_average": 5.8,
          "vote_count": 69
         }
        },
        {
         "_id": "5038",
         "_index": "tmdb",
         "_score": 1.4787775,
         "_source": {
          "adult": false,
          "backdrop_path": "/4bReUokUn1E4mwbKykr1tc18OrT.jpg",
          "belongs_to_collection": null,
          "budget": 15000000,
          "cast": [
           {
            "cast_id": 3,
            "character": "Cristina",
            "credit_id": "52fe43eec3a36847f8079279",
            "id": 1245,
            "name": "Scarlett Johansson",
            "order": 0,
            "profile_path": "/yDYpYy09nfyXIWHC6mbsaRdLiDV.jpg"
           },
           {
            "cast_id": 5,
            "character": "Vicky",
            "credit_id": "52fe43eec3a36847f8079281",
            "id": 15556,
            "name": "Rebecca Hall",
            "order": 1,
            "profile_path": "/pDY00JdSgDxXxMsBOJcShJjDVxl.jpg"
           },
           {
            "cast_id": 7,
            "character": "Juan Antonio Gonzalo",
            "credit_id": "52fe43eec3a36847f8079289",
            "id": 3810,
            "name": "Javier Bardem",
            "order": 2,
            "profile_path": "/lLaEcs1N5zuq597M4L7Fec9QnBf.jpg"
           },
           {
            "cast_id": 4,
            "character": "María Elena",
            "credit_id": "52fe43eec3a36847f807927d",
            "id": 955,
            "name": "Penélope Cruz",
            "order": 3,
            "profile_path": "/dcPSUfxMa791NZvrFiBc3ReDdpU.jpg"
           },
           {
            "cast_id": 10,
            "character": "Narrator (voice)",
            "credit_id": "52fe43eec3a36847f8079295",
            "id": 60021,
            "name": "Christopher Evan Welch",
            "order": 4,
            "profile_path": "/motP6X0ROpykbFuXe5QH43mHvHz.jpg"
           },
           {
            "cast_id": 8,
            "character": "Doug",
            "credit_id": "52fe43eec3a36847f807928d",
            "id": 61659,
            "name": "Chris Messina",
            "order": 5,
            "profile_path": "/9G8FHatnQP2SyjlEiuDlzFgbVGC.jpg"
           },
           {
            "cast_id": 6,
            "character": "Judy Nash",
            "credit_id": "52fe43eec3a36847f8079285",
            "id": 1276,
            "name": "Patricia Clarkson",
            "order": 6,
            "profile_path": "/10ZSyaUqzUlKTd60HmeiGhlytZG.jpg"
           },
           {
            "cast_id": 9,
            "character": "Mark Nash",
            "credit_id": "52fe43eec3a36847f8079291",
            "id": 14721,
            "name": "Kevin Dunn",
            "order": 7,
            "profile_path": "/85thH2pUn2tPP97QhnYQI7MBiCW.jpg"
           },
           {
            "cast_id": 19,
            "character": "Charles",
            "credit_id": "5310d9ec9251411042001392",
            "id": 588323,
            "name": "Julio Perillán",
            "order": 8,
            "profile_path": "/cBBhI6tk9crvuGfaIysVXRyXo6G.jpg"
           },
           {
            "cast_id": 20,
            "character": "Guitarist in Barcelona",
            "credit_id": "532e64aac3a3685fe2003461",
            "id": 1303725,
            "name": "Juan Queseda",
            "order": 9,
            "profile_path": null
           },
           {
            "cast_id": 23,
            "character": "Art Gallery Guest",
            "credit_id": "532e65699251413a6f002a07",
            "id": 1303727,
            "name": "Ricard Salom",
            "order": 10,
            "profile_path": null
           },
           {
            "cast_id": 22,
            "character": "Art Gallery Guest",
            "credit_id": "532e65129251413a7e0027b1",
            "id": 28005,
            "name": "Maurice Sonnenberg",
            "order": 11,
            "profile_path": "/vEoIXwvbHghKymwtaDQtuNQg4mk.jpg"
           },
           {
            "cast_id": 24,
            "character": "Doctor",
            "credit_id": "532e65aec3a3685fdb003411",
            "id": 1062005,
            "name": "Manel Barceló",
            "order": 12,
            "profile_path": null
           },
           {
            "cast_id": 25,
            "character": "Julio",
            "credit_id": "532e65d7c3a3685fcb0033a3",
            "id": 108908,
            "name": "Josep Maria Domènech",
            "order": 13,
            "profile_path": null
           },
           {
            "cast_id": 26,
            "character": "Guitarist in Asturias",
            "credit_id": "532e65fdc3a3685fdb00341c",
            "id": 1303728,
            "name": "Emilio de Benito",
            "order": 14,
            "profile_path": null
           },
           {
            "cast_id": 27,
            "character": "Juan Antonio's Friend",
            "credit_id": "532e6612c3a3685fc3003442",
            "id": 986521,
            "name": "Jaume Montané",
            "order": 15,
            "profile_path": null
           },
           {
            "cast_id": 28,
            "character": "Juan Antonio's Friend",
            "credit_id": "532e6622c3a3685fc3003448",
            "id": 1061977,
            "name": "Lloll Bertran",
            "order": 16,
            "profile_path": null
           },
           {
            "cast_id": 29,
            "character": "Juan Antonio's Friend",
            "credit_id": "532e662fc3a3685fac0032b2",
            "id": 19826,
            "name": "Joel Joan",
            "order": 17,
            "profile_path": "/eZaiTHwNnTDYTXuZ6Zh2kBptilB.jpg"
           },
           {
            "cast_id": 30,
            "character": "Juan Antonio's Friend",
            "credit_id": "532e6655c3a3685fbb00337a",
            "id": 1303729,
            "name": "Silvia Sabaté",
            "order": 18,
            "profile_path": null
           },
           {
            "cast_id": 31,
            "character": "Ben",
            "credit_id": "532e66f3c3a3685fbb003388",
            "id": 59254,
            "name": "Pablo Schreiber",
            "order": 19,
            "profile_path": "/uNNgZmEVvhV0WUf11oGMpYb6oWE.jpg"
           },
           {
            "cast_id": 33,
            "character": "Sally",
            "credit_id": "532e6724c3a3685fac0032d0",
            "id": 7465,
            "name": "Carrie Preston",
            "order": 20,
            "profile_path": "/dyGxZwqL6N95BhuiJQf0PXTxrsS.jpg"
           },
           {
            "cast_id": 34,
            "character": "Adam",
            "credit_id": "532e6742c3a3685fd3003492",
            "id": 6212,
            "name": "Zak Orth",
            "order": 21,
            "profile_path": "/rKupoahQ3pgeVVXS8EWd1WSnKEO.jpg"
           },
           {
            "cast_id": 35,
            "character": "Jay",
            "credit_id": "532e678ac3a3685fac0032e1",
            "id": 133525,
            "name": "Abel Folk",
            "order": 22,
            "profile_path": null
           }
          ],
          "directors": [
           {
            "credit_id": "52fe43eec3a36847f807926f",
            "department": "Directing",
            "id": 1243,
            "job": "Director",
            "name": "Woody Allen",
            "profile_path": "/wpcOUlaszvJoVRf1yLbDtu7u4FI.jpg"
           }
          ],
          "genres": [
           {
            "id": 18,
            "name": "Drama"
           },
           {
            "id": 10749,
            "name": "Romance"
           }
          ],
          "homepage": "",
          "id": 5038,
          "imdb_id": "tt0497465",
          "original_language": "en",
          "original_title": "Vicky Cristina Barcelona",
          "overview": "Two girlfriends on a summer holiday in Spain become enamored with the same painter, unaware that his ex-wife, with whom he has a tempestuous relationship, is about to re-enter the picture.",
          "popularity": 0.386592816840463,
          "poster_path": "/z1EVwBwK3iZrq3HjGoCZ6oJFq8q.jpg",
          "production_companies": [
           {
            "id": 308,
            "name": "The Weinstein Company"
           },
           {
            "id": 1824,
            "name": "Gravier Productions"
           }
          ],
          "production_countries": [
           {
            "iso_3166_1": "ES",
            "name": "Spain"
           },
           {
            "iso_3166_1": "US",
            "name": "United States of America"
           }
          ],
          "release_date": "2008-08-15",
          "revenue": 96408652,
          "runtime": 96,
          "spoken_languages": [
           {
            "iso_639_1": "es",
            "name": "Español"
           },
           {
            "iso_639_1": "en",
            "name": "English"
           }
          ],
          "status": "Released",
          "tagline": "Life is the ultimate work of art",
          "title": "Vicky Cristina Barcelona",
          "video": false,
          "vote_average": 6.7,
          "vote_count": 221
         }
        },
        {
         "_id": "401",
         "_index": "tmdb",
         "_score": 1.4690466,
         "_source": {
          "adult": false,
          "backdrop_path": "/hi7OYwXv4uCeCKZB0pJirszTxI9.jpg",
          "belongs_to_collection": null,
          "budget": 2500000,
          "cast": [
           {
            "cast_id": 1,
            "character": "Andrew Largeman",
            "credit_id": "52fe423ec3a36847f800f3c5",
            "id": 5367,
            "name": "Zach Braff",
            "order": 0,
            "profile_path": "/92orTaDC4b6siqCgfR8068uVNCp.jpg"
           },
           {
            "cast_id": 6,
            "character": "Sam",
            "credit_id": "52fe423ec3a36847f800f3d9",
            "id": 524,
            "name": "Natalie Portman",
            "order": 1,
            "profile_path": "/s4pcj0A9PIOFiNyaB8NreTJbPsX.jpg"
           },
           {
            "cast_id": 18,
            "character": "Gideon Largeman",
            "credit_id": "52fe423ec3a36847f800f40f",
            "id": 65,
            "name": "Ian Holm",
            "order": 2,
            "profile_path": "/uq6Wx7PaLgaw969avH7tLHnSb0Q.jpg"
           },
           {
            "cast_id": 19,
            "character": "Mark",
            "credit_id": "52fe423ec3a36847f800f413",
            "id": 133,
            "name": "Peter Sarsgaard",
            "order": 3,
            "profile_path": "/dGoUlDEJumPY0CFlT7eM6KVdLUu.jpg"
           },
           {
            "cast_id": 2,
            "character": "Busboy",
            "credit_id": "52fe423ec3a36847f800f3c9",
            "id": 5368,
            "name": "Kenneth Graymez",
            "order": 4,
            "profile_path": null
           },
           {
            "cast_id": 11,
            "character": "Carol",
            "credit_id": "52fe423ec3a36847f800f3ed",
            "id": 5376,
            "name": "Jean Smart",
            "order": 5,
            "profile_path": "/jkCvCeviX1zFSBpvoAT6LRi6kTF.jpg"
           },
           {
            "cast_id": 40,
            "character": "Jesse",
            "credit_id": "53c02e56c3a3684cdf005330",
            "id": 19497,
            "name": "Armando Riesco",
            "order": 6,
            "profile_path": "/zjcmycjVPTHIGX8Mr1uAvCYpeC8.jpg"
           },
           {
            "cast_id": 17,
            "character": "Aunt Sylvia Largeman",
            "credit_id": "52fe423ec3a36847f800f40b",
            "id": 5385,
            "name": "Jackie Hoffman",
            "order": 7,
            "profile_path": "/2lqw56we9TqWxQ3ewiWjWsREfLO.jpg"
           },
           {
            "cast_id": 16,
            "character": "Diego",
            "credit_id": "52fe423ec3a36847f800f407",
            "id": 5384,
            "name": "Method Man",
            "order": 8,
            "profile_path": "/qzZv7AWVVKex2IOe65a1WaQuW0g.jpg"
           },
           {
            "cast_id": 37,
            "character": "Dave",
            "credit_id": "52fe423fc3a36847f800f47d",
            "id": 5395,
            "name": "Alex Burns",
            "order": 9,
            "profile_path": null
           },
           {
            "cast_id": 7,
            "character": "Dr. Cohen",
            "credit_id": "52fe423ec3a36847f800f3dd",
            "id": 5372,
            "name": "Ron Leibman",
            "order": 10,
            "profile_path": "/z50U8MiKua6Vk4xK0FhWPDWnMgR.jpg"
           },
           {
            "cast_id": 9,
            "character": "Tim",
            "credit_id": "52fe423ec3a36847f800f3e5",
            "id": 5374,
            "name": "Jim Parsons",
            "order": 11,
            "profile_path": "/1te3kk227XLl5HjBc1WaRuoi0xs.jpg"
           },
           {
            "cast_id": 39,
            "character": "Kenny",
            "credit_id": "53c02e12c3a3687e59004f77",
            "id": 51381,
            "name": "Michael Weston",
            "order": 12,
            "profile_path": "/1bZX1MS5NZxiqFmhmZhnhAJI2hB.jpg"
           },
           {
            "cast_id": 41,
            "character": "Olivia",
            "credit_id": "53c02f390e0a2615790070f7",
            "id": 43366,
            "name": "Ann Dowd",
            "order": 13,
            "profile_path": "/jOQzwDvGuFuPnzsVOKNBIF4Un5g.jpg"
           },
           {
            "cast_id": 12,
            "character": "Titembay",
            "credit_id": "52fe423ec3a36847f800f3f1",
            "id": 5377,
            "name": "Ato Essandoh",
            "order": 14,
            "profile_path": "/boyZ5MkcayaIYoC8s8zh1KEArz7.jpg"
           },
           {
            "cast_id": 38,
            "character": "Albert",
            "credit_id": "52fe423fc3a36847f800f481",
            "id": 81681,
            "name": "Denis O'Hare",
            "order": 15,
            "profile_path": "/rGHuNlTz5qQUTc0xzNic8aFgyGG.jpg"
           },
           {
            "cast_id": 8,
            "character": "Kelly",
            "credit_id": "52fe423ec3a36847f800f3e1",
            "id": 5373,
            "name": "Trisha LaFache",
            "order": 16,
            "profile_path": null
           },
           {
            "cast_id": 10,
            "character": "Karl Benson",
            "credit_id": "52fe423ec3a36847f800f3e9",
            "id": 5375,
            "name": "Geoffrey Arend",
            "order": 17,
            "profile_path": "/srwmNiqd8cYa2bjbzSEq6Ic0ilm.jpg"
           },
           {
            "cast_id": 3,
            "character": "Restaurant Manager",
            "credit_id": "52fe423ec3a36847f800f3cd",
            "id": 5369,
            "name": "George C. Wolfe",
            "order": 18,
            "profile_path": "/izFpDiWihiqonmSiyFCeHgu6T3J.jpg"
           },
           {
            "cast_id": 4,
            "character": "Waiter",
            "credit_id": "52fe423ec3a36847f800f3d1",
            "id": 5370,
            "name": "Austin Lysy",
            "order": 19,
            "profile_path": "/7MAYRiYplZmGlGEMBsIiHGoitX5.jpg"
           },
           {
            "cast_id": 5,
            "character": "Young Hollywood Guy",
            "credit_id": "52fe423ec3a36847f800f3d5",
            "id": 5371,
            "name": "Gary Gilbert",
            "order": 20,
            "profile_path": null
           }
          ],
          "directors": [
           {
            "credit_id": "52fe423fc3a36847f800f479",
            "department": "Directing",
            "id": 5367,
            "job": "Director",
            "name": "Zach Braff",
            "profile_path": "/92orTaDC4b6siqCgfR8068uVNCp.jpg"
           }
          ],
          "genres": [
           {
            "id": 35,
            "name": "Comedy"
           },
           {
            "id": 18,
            "name": "Drama"
           },
           {
            "id": 10749,
            "name": "Romance"
           }
          ],
          "homepage": "http://www2.foxsearchlight.com/gardenstate/",
          "id": 401,
          "imdb_id": "tt0333766",
          "original_language": "en",
          "original_title": "Garden State",
          "overview": "Andrew returns to his hometown for the funeral of his mother, a journey that reconnects him with past friends. The trip coincides with his decision to stop taking his powerful antidepressants. A chance meeting with Sam - a girl also suffering from various maladies - opens up the possibility of rekindling emotional attachments, confronting his psychologist father, and perhaps beginning a new life.",
          "popularity": 0.954166853588294,
          "poster_path": "/jqfhv16LODEhj04E4EZ1swFRZWX.jpg",
          "production_companies": [
           {
            "id": 43,
            "name": "Fox Searchlight Pictures"
           },
           {
            "id": 215,
            "name": "Double Feature Films"
           },
           {
            "id": 216,
            "name": "Jersey Films"
           },
           {
            "id": 11728,
            "name": "Camelot Pictures"
           },
           {
            "id": 11729,
            "name": "Large's Ark Productions"
           }
          ],
          "production_countries": [
           {
            "iso_3166_1": "US",
            "name": "United States of America"
           }
          ],
          "release_date": "2004-01-16",
          "revenue": 26781723,
          "runtime": 102,
          "spoken_languages": [
           {
            "iso_639_1": "en",
            "name": "English"
           }
          ],
          "status": "Released",
          "tagline": "",
          "title": "Garden State",
          "video": false,
          "vote_average": 7,
          "vote_count": 165
         }
        },
        {
         "_id": "433",
         "_index": "tmdb",
         "_score": 1.4690466,
         "_source": {
          "adult": false,
          "backdrop_path": "/7DbgR36Sct5gcyEAzoM8bqiTYUV.jpg",
          "belongs_to_collection": null,
          "budget": 6000000,
          "cast": [
           {
            "cast_id": 1,
            "character": "Mary Poppins",
            "credit_id": "52fe4243c3a36847f801080f",
            "id": 5823,
            "name": "Julie Andrews",
            "order": 0,
            "profile_path": "/aSJYNCyNmM1v6NPBfLcJ3noxkCE.jpg"
           },
           {
            "cast_id": 2,
            "character": "Bert/Mr. Dawes, Sr.",
            "credit_id": "52fe4243c3a36847f8010813",
            "id": 61303,
            "name": "Dick Van Dyke",
            "order": 1,
            "profile_path": "/2yacO5K2VG82B0356XVB1ManB6R.jpg"
           },
           {
            "cast_id": 3,
            "character": "Mr. George W. Banks",
            "credit_id": "52fe4243c3a36847f8010817",
            "id": 5825,
            "name": "David Tomlinson",
            "order": 2,
            "profile_path": "/1QJLJtcJ4x8DQFflrbd2144ZzLg.jpg"
           },
           {
            "cast_id": 4,
            "character": "Mrs. Winifred Banks",
            "credit_id": "52fe4243c3a36847f801081b",
            "id": 5826,
            "name": "Glynis Johns",
            "order": 3,
            "profile_path": "/36ysTAkDW1234XmgWVPYB15XhIl.jpg"
           },
           {
            "cast_id": 5,
            "character": "Ellen",
            "credit_id": "52fe4243c3a36847f801081f",
            "id": 5827,
            "name": "Hermione Baddeley",
            "order": 4,
            "profile_path": "/8SRb4fkFn9Wqx8mCb81KGEK4OcV.jpg"
           },
           {
            "cast_id": 6,
            "character": "Mrs. Brill",
            "credit_id": "52fe4243c3a36847f8010823",
            "id": 5828,
            "name": "Reta Shaw",
            "order": 5,
            "profile_path": "/x3uJBwLLOBj24O1YWAO7dUAbQ4b.jpg"
           },
           {
            "cast_id": 7,
            "character": "Jane Banks",
            "credit_id": "52fe4243c3a36847f8010827",
            "id": 5829,
            "name": "Karen Dotrice",
            "order": 6,
            "profile_path": "/wzpDcUOqfMTDAfYebSB4fjkKgSx.jpg"
           },
           {
            "cast_id": 8,
            "character": "Michael Banks",
            "credit_id": "52fe4243c3a36847f801082b",
            "id": 5830,
            "name": "Matthew Garber",
            "order": 7,
            "profile_path": "/l2dN6XkreEn3HDBnevlpayg5Ydp.jpg"
           },
           {
            "cast_id": 9,
            "character": "Katie Nanna",
            "credit_id": "52fe4243c3a36847f801082f",
            "id": 2926,
            "name": "Elsa Lanchester",
            "order": 8,
            "profile_path": "/2iuHeYDsEEzDScdvYOrIY673Q5N.jpg"
           },
           {
            "cast_id": 10,
            "character": "Constable Jones",
            "credit_id": "52fe4243c3a36847f8010833",
            "id": 5831,
            "name": "Arthur Treacher",
            "order": 9,
            "profile_path": "/6aqt3bPCFzpalaRqfMl4GhMYNhD.jpg"
           },
           {
            "cast_id": 11,
            "character": "Admiral Boom",
            "credit_id": "52fe4243c3a36847f8010837",
            "id": 5832,
            "name": "Reginald Owen",
            "order": 10,
            "profile_path": "/bgtpAl7ICrDyJQzjglLiVY6tlMw.jpg"
           },
           {
            "cast_id": 12,
            "character": "Uncle Albert",
            "credit_id": "52fe4243c3a36847f801083b",
            "id": 5833,
            "name": "Ed Wynn",
            "order": 11,
            "profile_path": "/zjH7qZlelUfL57SGXijeZAnA1bS.jpg"
           },
           {
            "cast_id": 25,
            "character": "The Bird Woman",
            "credit_id": "52fe4243c3a36847f8010887",
            "id": 8515,
            "name": "Jane Darwell",
            "order": 12,
            "profile_path": "/geGrMcqxcFtMKKJO36OFpVwZFFW.jpg"
           },
           {
            "cast_id": 26,
            "character": "Mr. Dawes Junior",
            "credit_id": "52fe4243c3a36847f801088b",
            "id": 13392,
            "name": "Arthur Malet",
            "order": 13,
            "profile_path": "/6YEWBozoD2s33M1QHxcPVN69Jvu.jpg"
           },
           {
            "cast_id": 27,
            "character": "Bank Doorman",
            "credit_id": "52fe4243c3a36847f801088f",
            "id": 161976,
            "name": "James Logan",
            "order": 14,
            "profile_path": null
           },
           {
            "cast_id": 28,
            "character": "Mr. Binnacle - Admiral's Servant",
            "credit_id": "52fe4243c3a36847f8010893",
            "id": 30144,
            "name": "Don Barclay",
            "order": 15,
            "profile_path": "/eg54HOmaOCtvERwSHPpQWqR8uJZ.jpg"
           },
           {
            "cast_id": 29,
            "character": "Mrs. Corry - Old Woman in Park",
            "credit_id": "52fe4243c3a36847f8010897",
            "id": 403760,
            "name": "Alma Lawton",
            "order": 16,
            "profile_path": null
           },
           {
            "cast_id": 30,
            "character": "Miss Persimmon - Old Woman in Park",
            "credit_id": "52fe4243c3a36847f801089b",
            "id": 117714,
            "name": "Marjorie Eaton",
            "order": 17,
            "profile_path": "/mwJVP4W18Rpbi8qn0a2nVyE7fdO.jpg"
           },
           {
            "cast_id": 31,
            "character": "Miss Lark - Old Woman in Park",
            "credit_id": "52fe4243c3a36847f801089f",
            "id": 97257,
            "name": "Marjorie Bennett",
            "order": 18,
            "profile_path": "/cyY0ltPueaqENXEBnd0KWE5VHRd.jpg"
           }
          ],
          "directors": [
           {
            "credit_id": "52fe4243c3a36847f8010841",
            "department": "Directing",
            "id": 5834,
            "job": "Director",
            "name": "Robert Stevenson",
            "profile_path": "/86MMwlxQ7AhJMn1JnDg8hjZbnSy.jpg"
           }
          ],
          "genres": [
           {
            "id": 35,
            "name": "Comedy"
           },
           {
            "id": 14,
            "name": "Fantasy"
           },
           {
            "id": 10402,
            "name": "Music"
           },
           {
            "id": 10751,
            "name": "Family"
           }
          ],
          "homepage": "",
          "id": 433,
          "imdb_id": "tt0058331",
          "original_language": "en",
          "original_title": "Mary Poppins",
          "overview": "The movie combines a diverting story, songs, color and sequences of live action blended with the movements of animated figures. Mary Poppins is a kind of Super-nanny who flies in with her umbrella in response to the request of the Banks children and proceeds to put things right with the aid of her rather extraordinary magical powers before flying off again.",
          "popularity": 1.63545734696016,
          "poster_path": "/A8LtO46RpTpn6K54SugowckB7Uw.jpg",
          "production_companies": [
           {
            "id": 3166,
            "name": "Walt Disney Productions"
           }
          ],
          "production_countries": [
           {
            "iso_3166_1": "US",
            "name": "United States of America"
           }
          ],
          "release_date": "1964-08-27",
          "revenue": 102272727,
          "runtime": 139,
          "spoken_languages": [
           {
            "iso_639_1": "en",
            "name": "English"
           }
          ],
          "status": "Released",
          "tagline": "It's supercalifragilisticexpialidocious!",
          "title": "Mary Poppins",
          "video": false,
          "vote_average": 6.8,
          "vote_count": 254
         }
        },
        {
         "_id": "9906",
         "_index": "tmdb",
         "_score": 1.4690466,
         "_source": {
          "adult": false,
          "backdrop_path": "/eWjDANwpb6XkAWUxhga9yPc9r5B.jpg",
          "belongs_to_collection": null,
          "budget": 50000000,
          "cast": [
           {
            "cast_id": 21,
            "character": "Hova",
            "credit_id": "52fe4545c3a36847f80c4c49",
            "id": 1204,
            "name": "Julia Roberts",
            "order": 0,
            "profile_path": "/yzaIyUEKHSnEYDwltXs8gpF4SVC.jpg"
           },
           {
            "cast_id": 22,
            "character": "Queen",
            "credit_id": "52fe4545c3a36847f80c4c4d",
            "id": 5064,
            "name": "Meryl Streep",
            "order": 1,
            "profile_path": "/oTJj6bLpbmseLww03MOn0eDqYuh.jpg"
           },
           {
            "cast_id": 23,
            "character": "Zoc",
            "credit_id": "52fe4545c3a36847f80c4c51",
            "id": 2963,
            "name": "Nicolas Cage",
            "order": 2,
            "profile_path": "/2ZummZh2lVSIqRjlbQmpbKrDkWP.jpg"
           },
           {
            "cast_id": 24,
            "character": "Stan Beals",
            "credit_id": "52fe4545c3a36847f80c4c55",
            "id": 13242,
            "name": "Paul Giamatti",
            "order": 3,
            "profile_path": "/rX4LRmkYshMRfQ6lVbeZVAfqVKI.jpg"
           },
           {
            "cast_id": 25,
            "character": "Fugax",
            "credit_id": "52fe4545c3a36847f80c4c59",
            "id": 11357,
            "name": "Bruce Campbell",
            "order": 4,
            "profile_path": "/ox3Mf0pXGEiWfRO2TYcua0EHUQN.jpg"
           },
           {
            "cast_id": 26,
            "character": "Kreela",
            "credit_id": "52fe4545c3a36847f80c4c5d",
            "id": 9788,
            "name": "Regina King",
            "order": 5,
            "profile_path": "/iykUtoT739peV0Q15YQRjp8rrXG.jpg"
           },
           {
            "cast_id": 27,
            "character": "Mommo",
            "credit_id": "52fe4545c3a36847f80c4c61",
            "id": 10437,
            "name": "Lily Tomlin",
            "order": 6,
            "profile_path": "/csePQdmmnWhDqyQ5PCWlEleMeyp.jpg"
           },
           {
            "cast_id": 28,
            "character": "Fred Nickle",
            "credit_id": "52fe4545c3a36847f80c4c65",
            "id": 1211,
            "name": "Larry Miller",
            "order": 7,
            "profile_path": "/34dS3zf1VKMFvgQY6K6ZHaXYFFN.jpg"
           },
           {
            "cast_id": 29,
            "character": "Doreen Nickle",
            "credit_id": "52fe4545c3a36847f80c4c69",
            "id": 60252,
            "name": "Cheri Oteri",
            "order": 8,
            "profile_path": "/1j7zUQberFkZ6YVMzG3b7nkajaQ.jpg"
           },
           {
            "cast_id": 30,
            "character": "Lucas Nickle",
            "credit_id": "52fe4545c3a36847f80c4c6d",
            "id": 60251,
            "name": "Zach Tyler Eisen",
            "order": 9,
            "profile_path": null
           },
           {
            "cast_id": 31,
            "character": "Head of Council",
            "credit_id": "52fe4545c3a36847f80c4c71",
            "id": 1793,
            "name": "Ricardo Montalban",
            "order": 10,
            "profile_path": "/cjVYY35mjqZsno1qECjTr4lzqbS.jpg"
           },
           {
            "cast_id": 32,
            "character": "Steve",
            "credit_id": "52fe4545c3a36847f80c4c75",
            "id": 11157,
            "name": "Myles Jeffrey",
            "order": 11,
            "profile_path": "/snKwcKNBaIWKNv0dHzlB8h9q935.jpg"
           },
           {
            "cast_id": 33,
            "character": "Mullet Boy",
            "credit_id": "52fe4545c3a36847f80c4c79",
            "id": 60254,
            "name": "Creagen Dow",
            "order": 12,
            "profile_path": "/lG7rCnwpZhnsNfnnBn1LwQgJfMY.jpg"
           },
           {
            "cast_id": 34,
            "character": "Spindle / Frog / Caterpillar",
            "credit_id": "52fe4545c3a36847f80c4c7d",
            "id": 15831,
            "name": "Frank Welker",
            "order": 13,
            "profile_path": "/a3QPvpgqKMGViS2M9mGcRy7xDZ.jpg"
           },
           {
            "cast_id": 36,
            "character": "Fly",
            "credit_id": "52fe4545c3a36847f80c4c81",
            "id": 60258,
            "name": "Mark DeCarlo",
            "order": 15,
            "profile_path": "/sKAUAv74kVLM4KMJ9H7PbSqRs29.jpg"
           },
           {
            "cast_id": 37,
            "character": "Nicky",
            "credit_id": "52fe4545c3a36847f80c4c85",
            "id": 60255,
            "name": "Jake T. Austin",
            "order": 16,
            "profile_path": "/bxcgwmrxGOibH2uIhmXlq3cu7NH.jpg"
           },
           {
            "cast_id": 38,
            "character": "Tiffany Nickle",
            "credit_id": "52fe4545c3a36847f80c4c89",
            "id": 60253,
            "name": "Allison Mack",
            "order": 17,
            "profile_path": "/w2Qul66aJbF9Upe3Hpk5uUufbC.jpg"
           },
           {
            "cast_id": 39,
            "character": "Glow Worm / Wasp Survivor",
            "credit_id": "52fe4545c3a36847f80c4c8d",
            "id": 60257,
            "name": "S. Scott Bullock",
            "order": 18,
            "profile_path": null
           },
           {
            "cast_id": 40,
            "character": "Sleeping Ant #1 / Head Lice #1 / Head Lice #2 / Head Lice #3 / Head Lice #4 / Brett",
            "credit_id": "52fe4545c3a36847f80c4c91",
            "id": 60259,
            "name": "Paul Greenberg",
            "order": 19,
            "profile_path": null
           },
           {
            "cast_id": 43,
            "character": "Beetle",
            "credit_id": "52fe4545c3a36847f80c4ca1",
            "id": 43125,
            "name": "Rob Paulsen",
            "order": 20,
            "profile_path": "/bl3b5f5dAWbYkqTN83I1TMHn8WM.jpg"
           }
          ],
          "directors": [
           {
            "credit_id": "52fe4545c3a36847f80c4bdf",
            "department": "Directing",
            "id": 60237,
            "job": "Director",
            "name": "John A. Davis",
            "profile_path": null
           }
          ],
          "genres": [
           {
            "id": 12,
            "name": "Adventure"
           },
           {
            "id": 16,
            "name": "Animation"
           },
           {
            "id": 35,
            "name": "Comedy"
           },
           {
            "id": 14,
            "name": "Fantasy"
           },
           {
            "id": 10751,
            "name": "Family"
           }
          ],
          "homepage": "http://www.theantbully.com",
          "id": 9906,
          "imdb_id": "tt0429589",
          "original_language": "en",
          "original_title": "The Ant Bully",
          "overview": "Fed up with being targeted by the neighborhood bully, 10-year-old Lucas Nickle vents his frustrations on the anthill in his front yard ... until the insects shrink him to the size of a bug with a magic elixir. Convicted of \"crimes against the colony,\" Lucas can only regain his freedom by living with the ants and learning their ways.",
          "popularity": 0.795158628699864,
          "poster_path": "/tBUlwDCdvYC5aP7DzgcmDgrbfec.jpg",
          "production_companies": [
           {
            "id": 174,
            "name": "Warner Bros. Pictures"
           },
           {
            "id": 284,
            "name": "DNA Films"
           },
           {
            "id": 923,
            "name": "Legendary Pictures"
           },
           {
            "id": 2031,
            "name": "Playtone Production"
           }
          ],
          "production_countries": [
           {
            "iso_3166_1": "US",
            "name": "United States of America"
           }
          ],
          "release_date": "2006-07-27",
          "revenue": 55181129,
          "runtime": 88,
          "spoken_languages": [
           {
            "iso_639_1": "en",
            "name": "English"
           }
          ],
          "status": "Released",
          "tagline": "The battle for the lawn is on.",
          "title": "The Ant Bully",
          "video": false,
          "vote_average": 5.6,
          "vote_count": 108
         }
        },
        {
         "_id": "2119",
         "_index": "tmdb",
         "_score": 1.4690466,
         "_source": {
          "adult": false,
          "backdrop_path": "/bE2MZM5QAKbcwSzcmlxvRzHJ4tj.jpg",
          "belongs_to_collection": null,
          "budget": 60000000,
          "cast": [
           {
            "cast_id": 19,
            "character": "Cole Trickle",
            "credit_id": "52fe4338c3a36847f8043555",
            "id": 500,
            "name": "Tom Cruise",
            "order": 0,
            "profile_path": "/3oWEuo0e8Nx8JvkqYCDec2iMY6K.jpg"
           },
           {
            "cast_id": 20,
            "character": "Harry Hogge",
            "credit_id": "52fe4338c3a36847f8043559",
            "id": 3087,
            "name": "Robert Duvall",
            "order": 1,
            "profile_path": "/1aBC7NxPy10ofng6HsJBecJ1vMZ.jpg"
           },
           {
            "cast_id": 21,
            "character": "Dr. Claire Lewicki",
            "credit_id": "52fe4338c3a36847f804355d",
            "id": 2227,
            "name": "Nicole Kidman",
            "order": 2,
            "profile_path": "/hnX12EBKXIK7XwBhLCGGcEnFdpf.jpg"
           },
           {
            "cast_id": 22,
            "character": "Tim Dalander",
            "credit_id": "52fe4338c3a36847f8043561",
            "id": 1811,
            "name": "Randy Quaid",
            "order": 3,
            "profile_path": "/7rywy6gbSTG60xQWepRktD0feek.jpg"
           },
           {
            "cast_id": 23,
            "character": "Russ Weehler",
            "credit_id": "52fe4338c3a36847f8043565",
            "id": 2130,
            "name": "Cary Elwes",
            "order": 4,
            "profile_path": "/wmvYoJHStQeQzrpqOM9tkvf1wwF.jpg"
           },
           {
            "cast_id": 25,
            "character": "Big John",
            "credit_id": "52fe4338c3a36847f8043569",
            "id": 17874,
            "name": "Fred Thompson",
            "order": 6,
            "profile_path": "/wk6ihO1JvxBwfvPGkYLKMHpQcGb.jpg"
           },
           {
            "cast_id": 26,
            "character": "Buck Bretherton",
            "credit_id": "52fe4338c3a36847f804356d",
            "id": 4764,
            "name": "John C. Reilly",
            "order": 7,
            "profile_path": "/kUo2TPQp4kOWWvijvkjLl0v9PQB.jpg"
           },
           {
            "cast_id": 27,
            "character": "Waddle",
            "credit_id": "52fe4338c3a36847f8043571",
            "id": 21757,
            "name": "J.C. Quinn",
            "order": 8,
            "profile_path": "/wNvCFv3EfT2og032UGcfWQ8hatV.jpg"
           },
           {
            "cast_id": 28,
            "character": "Aldo Bennedetti",
            "credit_id": "52fe4338c3a36847f8043575",
            "id": 771,
            "name": "Don Simpson",
            "order": 9,
            "profile_path": "/vYpPZLSh4ylzgP5KsEUnjt1UDRh.jpg"
           },
           {
            "cast_id": 29,
            "character": "Rowdy Burns",
            "credit_id": "52fe4338c3a36847f8043579",
            "id": 12132,
            "name": "Michael Rooker",
            "order": 10,
            "profile_path": "/bvmf7TIjCyRPrBNrmZ5qyePTL5y.jpg"
           },
           {
            "cast_id": 30,
            "character": "Jennie Burns",
            "credit_id": "52fe4338c3a36847f804357d",
            "id": 86923,
            "name": "Caroline Williams",
            "order": 11,
            "profile_path": "/iOwBSdPQ1adtucfm3eyLjmlCVbt.jpg"
           },
           {
            "cast_id": 31,
            "character": "Racetrack timer",
            "credit_id": "52fe4338c3a36847f8043581",
            "id": 452,
            "name": "Margo Martindale",
            "order": 12,
            "profile_path": "/cpY603oKxm3euQyXWhXhEh7FkCO.jpg"
           }
          ],
          "directors": [
           {
            "credit_id": "52fe4337c3a36847f80434eb",
            "department": "Directing",
            "id": 893,
            "job": "Director",
            "name": "Tony Scott",
            "profile_path": "/15pOBMK5i72aLVv6M199xW6p3yr.jpg"
           }
          ],
          "genres": [
           {
            "id": 12,
            "name": "Adventure"
           }
          ],
          "homepage": "",
          "id": 2119,
          "imdb_id": "tt0099371",
          "original_language": "en",
          "original_title": "Days of Thunder",
          "overview": "Talented but unproven stock car driver Cole Trickle gets a break and with the guidance of veteran Harry Hogge turns heads on the track. The young hotshot develops a rivalry with a fellow racer that threatens his career when the two smash their cars. But with the help of his doctor, Cole just might overcome his injuries-- and his fear.",
          "popularity": 0.517922052781305,
          "poster_path": "/75Yg43XRrjflm3xIeCxQompV9Qi.jpg",
          "production_companies": [
           {
            "id": 4,
            "name": "Paramount Pictures"
           },
           {
            "id": 10288,
            "name": "Don Simpson/Jerry Bruckheimer Films"
           }
          ],
          "production_countries": [
           {
            "iso_3166_1": "US",
            "name": "United States of America"
           }
          ],
          "release_date": "1990-06-27",
          "revenue": 157920733,
          "runtime": 107,
          "spoken_languages": [
           {
            "iso_639_1": "en",
            "name": "English"
           }
          ],
          "status": "Released",
          "tagline": "You can't stop the thunder.",
          "title": "Days of Thunder",
          "video": false,
          "vote_average": 5.8,
          "vote_count": 77
         }
        },
        {
         "_id": "5174",
         "_index": "tmdb",
         "_score": 1.4690466,
         "_source": {
          "adult": false,
          "backdrop_path": "/n4wRGNrMblEywTZXnt88W54tYkU.jpg",
          "belongs_to_collection": {
           "backdrop_path": "/rUwky6VBdRb2R5yQme5hPtCdf1P.jpg",
           "id": 90863,
           "name": "Rush Hour Collection",
           "poster_path": "/mPBCN49MF2SSR27EU3Al5ebMQM4.jpg"
          },
          "budget": 140000000,
          "cast": [
           {
            "cast_id": 2,
            "character": "Det. James Carter",
            "credit_id": "52fe43fac3a36847f807b565",
            "id": 66,
            "name": "Chris Tucker",
            "order": 0,
            "profile_path": "/1ePd2AOg8YYlvVT7HxXkqFFEk83.jpg"
           },
           {
            "cast_id": 3,
            "character": "Chief Insp. Lee",
            "credit_id": "52fe43fac3a36847f807b569",
            "id": 18897,
            "name": "Jackie Chan",
            "order": 1,
            "profile_path": "/pmKJ4sGvPQ3imzXaFnjW4Vk5Gyc.jpg"
           },
           {
            "cast_id": 4,
            "character": "Kenji",
            "credit_id": "52fe43fac3a36847f807b56d",
            "id": 9195,
            "name": "Hiroyuki Sanada",
            "order": 2,
            "profile_path": "/fljn2lkeej3gAwSOvXXMVVQlA2K.jpg"
           },
           {
            "cast_id": 5,
            "character": "Varden Reynard",
            "credit_id": "52fe43fac3a36847f807b571",
            "id": 2201,
            "name": "Max von Sydow",
            "order": 3,
            "profile_path": "/kCdNYfUlswqjDYhnE54kMoDHWTp.jpg"
           },
           {
            "cast_id": 6,
            "character": "George",
            "credit_id": "52fe43fac3a36847f807b575",
            "id": 2245,
            "name": "Yvan Attal",
            "order": 4,
            "profile_path": "/kSP1gv3n06amj8zoajm8Gam5Mzl.jpg"
           },
           {
            "cast_id": 7,
            "character": "Det. Revi",
            "credit_id": "52fe43fac3a36847f807b579",
            "id": 3556,
            "name": "Roman Polanski",
            "order": 5,
            "profile_path": "/qI12N0XzSQanAUv6sTucTLWi3az.jpg"
           },
           {
            "cast_id": 8,
            "character": "Soo Yung",
            "credit_id": "52fe43fac3a36847f807b57d",
            "id": 41894,
            "name": "Zhang Jingchu",
            "order": 6,
            "profile_path": "/x30X7MB0P5wvKwOjX83DSzZtYMB.jpg"
           },
           {
            "cast_id": 9,
            "character": "Capt. William Diel",
            "credit_id": "52fe43fac3a36847f807b581",
            "id": 4492,
            "name": "Philip Baker Hall",
            "order": 7,
            "profile_path": "/eH7GrivSuLEvhJL85qPkhNvg3E7.jpg"
           },
           {
            "cast_id": 26,
            "character": "Genevieve",
            "credit_id": "52fe43fac3a36847f807b5e5",
            "id": 145633,
            "name": "Noémie Lenoir",
            "order": 8,
            "profile_path": "/xxksvdnhYW7M65ScvrDZsunEdFK.jpg"
           },
           {
            "cast_id": 27,
            "character": "Zoe (uncredited)",
            "credit_id": "52fe43fac3a36847f807b5e9",
            "id": 164945,
            "name": "Sarah Shahi",
            "order": 9,
            "profile_path": "/hTV326FBAlLmHOdPPiXVItCoivR.jpg"
           },
           {
            "cast_id": 28,
            "character": "Dragon Lady",
            "credit_id": "52fe43fac3a36847f807b5ed",
            "id": 16145,
            "name": "Youki Kudoh",
            "order": 10,
            "profile_path": "/4QtenZ3cLevnIDY831Y0YRQDJax.jpg"
           },
           {
            "cast_id": 29,
            "character": "Ambassador Han",
            "credit_id": "52fe43fac3a36847f807b5f1",
            "id": 21629,
            "name": "Tzi Ma",
            "order": 11,
            "profile_path": "/qhE0WSceO8bwZcZ7Ssi8qhQb7xD.jpg"
           },
           {
            "cast_id": 30,
            "character": "Sister Agnes",
            "credit_id": "52fe43fac3a36847f807b5f5",
            "id": 13314,
            "name": "Dana Ivey",
            "order": 12,
            "profile_path": "/ewYWFkaZ1oon5BMMlx54OWl9MEo.jpg"
           },
           {
            "cast_id": 31,
            "character": "Master Yu",
            "credit_id": "52fe43fac3a36847f807b5f9",
            "id": 39829,
            "name": "Henry O",
            "order": 13,
            "profile_path": "/cJ7rk3cmGOc0m1T90oPgZylntcs.jpg"
           },
           {
            "cast_id": 32,
            "character": "Marsha",
            "credit_id": "52fe43fac3a36847f807b5fd",
            "id": 215130,
            "name": "Mia Tyler",
            "order": 14,
            "profile_path": null
           },
           {
            "cast_id": 33,
            "character": "Chinese Foreign Minister",
            "credit_id": "52fe43fac3a36847f807b601",
            "id": 21631,
            "name": "Michael Chow",
            "order": 15,
            "profile_path": "/284hrxXjhtI9k4vv57pciQqMS8N.jpg"
           },
           {
            "cast_id": 34,
            "character": "French Assassin",
            "credit_id": "52fe43fac3a36847f807b605",
            "id": 554599,
            "name": "Kentaro",
            "order": 16,
            "profile_path": "/5GBHIczhjdmNe4jX0xKyiRNeAfN.jpg"
           }
          ],
          "directors": [
           {
            "credit_id": "52fe43fac3a36847f807b561",
            "department": "Directing",
            "id": 11091,
            "job": "Director",
            "name": "Brett Ratner",
            "profile_path": "/957qMp4h7kLlWehsDhznI39G7zr.jpg"
           }
          ],
          "genres": [
           {
            "id": 28,
            "name": "Action"
           },
           {
            "id": 35,
            "name": "Comedy"
           },
           {
            "id": 80,
            "name": "Crime"
           },
           {
            "id": 53,
            "name": "Thriller"
           }
          ],
          "homepage": "",
          "id": 5174,
          "imdb_id": "tt0293564",
          "original_language": "en",
          "original_title": "Rush Hour 3",
          "overview": "After an attempted assassination on Ambassador Han, Inspector Lee and Detective Carter are back in action as they head to Paris to protect a French woman with knowledge of the Triads' secret leaders. Lee also holds secret meetings with a United Nations authority, but his personal struggles with a Chinese criminal mastermind named Kenji, which reveals that it's Lee's long-lost...brother.",
          "popularity": 0.99763205559928,
          "poster_path": "/qgaDWYLrnEPJpc5Lp35WbgX7GfS.jpg",
          "production_companies": [
           {
            "id": 12,
            "name": "New Line Cinema"
           }
          ],
          "production_countries": [
           {
            "iso_3166_1": "US",
            "name": "United States of America"
           }
          ],
          "release_date": "2007-08-10",
          "revenue": 258022233,
          "runtime": 91,
          "spoken_languages": [
           {
            "iso_639_1": "la",
            "name": "Latin"
           },
           {
            "iso_639_1": "en",
            "name": "English"
           },
           {
            "iso_639_1": "fr",
            "name": "Français"
           },
           {
            "iso_639_1": "ja",
            "name": "日本語"
           },
           {
            "iso_639_1": "zh",
            "name": "中国"
           }
          ],
          "status": "Released",
          "tagline": "The Rush Is On!",
          "title": "Rush Hour 3",
          "video": false,
          "vote_average": 6.2,
          "vote_count": 226
         }
        },
        {
         "_id": "422",
         "_index": "tmdb",
         "_score": 1.461416,
         "_source": {
          "adult": false,
          "backdrop_path": "/4v3TyHFbKY42g9bFiEZXUIQHpAR.jpg",
          "belongs_to_collection": null,
          "budget": 0,
          "cast": [
           {
            "cast_id": 1,
            "character": "Guido Anselmi",
            "credit_id": "52fe4241c3a36847f80100f7",
            "id": 5676,
            "name": "Marcello Mastroianni",
            "order": 0,
            "profile_path": "/lxlTGslplgT3ao3J2whahc7fDZJ.jpg"
           },
           {
            "cast_id": 2,
            "character": "Claudia",
            "credit_id": "52fe4241c3a36847f80100fb",
            "id": 4959,
            "name": "Claudia Cardinale",
            "order": 1,
            "profile_path": "/tV3oboOm0Iix0AEtQKGPnPE2hbF.jpg"
           },
           {
            "cast_id": 13,
            "character": "Luisa Anselmi",
            "credit_id": "52fe4241c3a36847f801013b",
            "id": 5682,
            "name": "Anouk Aimée",
            "order": 2,
            "profile_path": "/vLGlUZvzffKEJ2zB943Qx0PWgPD.jpg"
           },
           {
            "cast_id": 14,
            "character": "Carla",
            "credit_id": "52fe4241c3a36847f801013f",
            "id": 5683,
            "name": "Sandra Milo",
            "order": 3,
            "profile_path": "/xMsgxhrNX27Hot5FJ5aaqvGYTKU.jpg"
           },
           {
            "cast_id": 15,
            "character": "Rossella",
            "credit_id": "52fe4241c3a36847f8010143",
            "id": 5684,
            "name": "Rossella Falk",
            "order": 4,
            "profile_path": "/acyIHzPCYELbC9coAXYzgsoNRYN.jpg"
           },
           {
            "cast_id": 16,
            "character": "Gloria Morin",
            "credit_id": "52fe4241c3a36847f8010147",
            "id": 5685,
            "name": "Barbara Steele",
            "order": 5,
            "profile_path": "/jrxCN9GxreD5W3Xv0OGofkidNm3.jpg"
           },
           {
            "cast_id": 17,
            "character": "Madeleine, l'attrice francese",
            "credit_id": "52fe4241c3a36847f801014b",
            "id": 4116,
            "name": "Madeleine Lebeau",
            "order": 6,
            "profile_path": "/tYUnGiQEBJLG1OfeqHvdcANgm2I.jpg"
           },
           {
            "cast_id": 18,
            "character": "La signora misteriosa",
            "credit_id": "52fe4241c3a36847f801014f",
            "id": 5686,
            "name": "Caterina Boratto",
            "order": 7,
            "profile_path": "/1Wh2iwtM4cnZcvWx1WERc5plA8M.jpg"
           },
           {
            "cast_id": 19,
            "character": "La Saraghina",
            "credit_id": "52fe4241c3a36847f8010153",
            "id": 5687,
            "name": "Eddra Gale",
            "order": 8,
            "profile_path": null
           },
           {
            "cast_id": 20,
            "character": "Pace, il produttore",
            "credit_id": "52fe4241c3a36847f8010157",
            "id": 5688,
            "name": "Guido Alberti",
            "order": 9,
            "profile_path": "/nJ1noc5YGOMdrfSaSha5NnvCMbF.jpg"
           }
          ],
          "directors": [
           {
            "credit_id": "52fe4241c3a36847f8010101",
            "department": "Directing",
            "id": 4415,
            "job": "Director",
            "name": "Federico Fellini",
            "profile_path": "/7t3sWBVdenUbZnoFAPRpBAGngQ7.jpg"
           }
          ],
          "genres": [
           {
            "id": 18,
            "name": "Drama"
           },
           {
            "id": 14,
            "name": "Fantasy"
           }
          ],
          "homepage": "",
          "id": 422,
          "imdb_id": "tt0056801",
          "original_language": "it",
          "original_title": "8½",
          "overview": "With 8 ½ Frederico Fellini leaves a self-portrait where dreams and reality are a mix. With help from a most excellent cast and unique scenery this self reflecting film is one of his master works.",
          "popularity": 0.796498709677972,
          "poster_path": "/5pQlc8dp5dXzWg1yM70DZrsDpOl.jpg",
          "production_companies": [
           {
            "id": 9387,
            "name": "Cineriz"
           },
           {
            "id": 10882,
            "name": "Francinex"
           }
          ],
          "production_countries": [
           {
            "iso_3166_1": "FR",
            "name": "France"
           },
           {
            "iso_3166_1": "IT",
            "name": "Italy"
           }
          ],
          "release_date": "1963-02-15",
          "revenue": 0,
          "runtime": 138,
          "spoken_languages": [
           {
            "iso_639_1": "de",
            "name": "Deutsch"
           },
           {
            "iso_639_1": "en",
            "name": "English"
           },
           {
            "iso_639_1": "fr",
            "name": "Français"
           },
           {
            "iso_639_1": "it",
            "name": "Italiano"
           }
          ],
          "status": "Released",
          "tagline": "A picture that goes beyond what men think about - because no man ever thought about it in quite this way!",
          "title": "8½",
          "video": false,
          "vote_average": 8.1,
          "vote_count": 76
         }
        },
        {
         "_id": "10315",
         "_index": "tmdb",
         "_score": 1.461416,
         "_source": {
          "adult": false,
          "backdrop_path": "/uxQ1n8yLqRZgnrimiBXJ5rsaa.jpg",
          "belongs_to_collection": null,
          "budget": 0,
          "cast": [
           {
            "cast_id": 4,
            "character": "Mr. Fox (voice)",
            "credit_id": "52fe43589251416c7500cb83",
            "id": 1461,
            "name": "George Clooney",
            "order": 0,
            "profile_path": "/z4SBfpKDThuQY0FsvDbajcooBdA.jpg"
           },
           {
            "cast_id": 5,
            "character": "Mrs. Fox (voice)",
            "credit_id": "52fe43589251416c7500cb87",
            "id": 5064,
            "name": "Meryl Streep",
            "order": 1,
            "profile_path": "/oTJj6bLpbmseLww03MOn0eDqYuh.jpg"
           },
           {
            "cast_id": 6,
            "character": "Ash (voice)",
            "credit_id": "52fe43589251416c7500cb8b",
            "id": 17881,
            "name": "Jason Schwartzman",
            "order": 2,
            "profile_path": "/lWwNtkL8aQtmj7ttCyEbhgqF0oD.jpg"
           },
           {
            "cast_id": 7,
            "character": "Badger (voice)",
            "credit_id": "52fe43589251416c7500cb8f",
            "id": 1532,
            "name": "Bill Murray",
            "order": 3,
            "profile_path": "/eb58HuFIrxS0zUmbmW4d8YXTbje.jpg"
           },
           {
            "cast_id": 8,
            "character": "Kylie (voice) (as Wally Wolodarsky)",
            "credit_id": "52fe43589251416c7500cb93",
            "id": 486,
            "name": "Wallace Wolodarsky",
            "order": 4,
            "profile_path": "/dvmEq92L4UwL20uO2BOQ8vnpPBP.jpg"
           },
           {
            "cast_id": 20,
            "character": "Kristofferson (voice) (as Eric Anderson)",
            "credit_id": "53a4cd6a0e0a261449000426",
            "id": 1332415,
            "name": "Eric Chase Anderson",
            "order": 5,
            "profile_path": null
           },
           {
            "cast_id": 9,
            "character": "Franklin Bean (voice)",
            "credit_id": "52fe43589251416c7500cb97",
            "id": 5658,
            "name": "Michael Gambon",
            "order": 6,
            "profile_path": "/k6VxRs7xcG6DLEVM1izjb3UWSyC.jpg"
           },
           {
            "cast_id": 10,
            "character": "Rat (voice)",
            "credit_id": "52fe43589251416c7500cb9b",
            "id": 5293,
            "name": "Willem Dafoe",
            "order": 7,
            "profile_path": "/A1uyY0KbYSR8fk7Wkdbs2VfsBw1.jpg"
           },
           {
            "cast_id": 11,
            "character": "Coach Skip (voice)",
            "credit_id": "52fe43589251416c7500cb9f",
            "id": 887,
            "name": "Owen Wilson",
            "order": 8,
            "profile_path": "/j7oYgvfDiO34VcFdSB7GhM2CSle.jpg"
           },
           {
            "cast_id": 12,
            "character": "Petey (voice)",
            "credit_id": "52fe43589251416c7500cba3",
            "id": 107170,
            "name": "Jarvis Cocker",
            "order": 9,
            "profile_path": "/smJVxtorc3yZHcKo2OQHXG3caQt.jpg"
           },
           {
            "cast_id": 13,
            "character": "Weasel (voice)",
            "credit_id": "52fe43589251416c7500cba7",
            "id": 5655,
            "name": "Wes Anderson",
            "order": 10,
            "profile_path": "/r6mr3gvbuocMznHXSlXVKDj7mEI.jpg"
           },
           {
            "cast_id": 14,
            "character": "Linda Otter (voice)",
            "credit_id": "52fe43589251416c7500cbab",
            "id": 76131,
            "name": "Karen Duffy",
            "order": 11,
            "profile_path": "/c3G9gFCbBf6zHRQTqUZjXYgZUh4.jpg"
           },
           {
            "cast_id": 21,
            "character": "Walter Boggis (voice)",
            "credit_id": "53a4ce64c3a3687a43000477",
            "id": 1332416,
            "name": "Robin Hurlstone",
            "order": 12,
            "profile_path": null
           },
           {
            "cast_id": 22,
            "character": "Nathan Bunce (voice)",
            "credit_id": "53a4cede0e0a26143c0004f0",
            "id": 992097,
            "name": "Hugo Guinness",
            "order": 13,
            "profile_path": null
           },
           {
            "cast_id": 15,
            "character": "Mrs. Bean (voice)",
            "credit_id": "52fe43589251416c7500cbaf",
            "id": 15737,
            "name": "Helen McCrory",
            "order": 14,
            "profile_path": "/yuC7SZvd89sSntzTKClTgBuEDvh.jpg"
           },
           {
            "cast_id": 16,
            "character": "Squirrel Contractor (voice)",
            "credit_id": "52fe43589251416c7500cbb3",
            "id": 38803,
            "name": "Roman Coppola",
            "order": 15,
            "profile_path": "/enVWg7QHchGcWmWYRu0iohM6SFg.jpg"
           },
           {
            "cast_id": 23,
            "character": "Agnes (voice)",
            "credit_id": "53a4cf3b0e0a261436000470",
            "id": 1332418,
            "name": "Juman Malouf",
            "order": 16,
            "profile_path": null
           },
           {
            "cast_id": 24,
            "character": "Beaver's Son (voice)",
            "credit_id": "53a4cf7e0e0a2614450004ab",
            "id": 1004835,
            "name": "Jeremy Dawson",
            "order": 17,
            "profile_path": null
           },
           {
            "cast_id": 17,
            "character": "Bean's Son (voice)",
            "credit_id": "52fe43589251416c7500cbb7",
            "id": 52842,
            "name": "Garth Jennings",
            "order": 18,
            "profile_path": "/ahQh5uW5CXLe1LotxN4Y20aj5Gx.jpg"
           },
           {
            "cast_id": 18,
            "character": "Action 12 Reporter (voice)",
            "credit_id": "52fe43589251416c7500cbbb",
            "id": 1248,
            "name": "Brian Cox",
            "order": 19,
            "profile_path": "/m15C58NWii5WCIg57Llr7hejnfy.jpg"
           },
           {
            "cast_id": 25,
            "character": "Explosives Man (voice)",
            "credit_id": "53a4d031c3a3687a3a0003e4",
            "id": 53331,
            "name": "Tristan Oliver",
            "order": 20,
            "profile_path": null
           },
           {
            "cast_id": 26,
            "character": "Mole (voice)",
            "credit_id": "53a4d061c3a3687a310004e3",
            "id": 1332423,
            "name": "James Hamilton",
            "order": 21,
            "profile_path": null
           },
           {
            "cast_id": 27,
            "character": "Beaver (voice) (as Steven Rales)",
            "credit_id": "53a4d0c2c3a3687a310004f4",
            "id": 1004836,
            "name": "Steven M. Rales",
            "order": 22,
            "profile_path": null
           },
           {
            "cast_id": 28,
            "character": "Pilot (voice)",
            "credit_id": "53a4d0d5c3a3687a370004a0",
            "id": 1332426,
            "name": "Rob Hersov",
            "order": 23,
            "profile_path": null
           },
           {
            "cast_id": 29,
            "character": "Dr. Badger (voice)",
            "credit_id": "53a4d10ac3a3687a2e0004ae",
            "id": 1332428,
            "name": "Jennifer Furches",
            "order": 24,
            "profile_path": null
           },
           {
            "cast_id": 34,
            "character": "Rabbit's Ex-Girlfriend (voice)",
            "credit_id": "5488de23c3a3686f5500032a",
            "id": 34894,
            "name": "Allison Abbate",
            "order": 25,
            "profile_path": null
           },
           {
            "cast_id": 31,
            "character": "Rabbit Girl (voice)",
            "credit_id": "53a4d160c3a3687a2b000506",
            "id": 1332433,
            "name": "Molly Cooper",
            "order": 26,
            "profile_path": null
           },
           {
            "cast_id": 19,
            "character": "Field Mouse (voice)",
            "credit_id": "52fe43589251416c7500cbbf",
            "id": 3490,
            "name": "Adrien Brody",
            "order": 27,
            "profile_path": "/zvMslH1C8xmEBpGgDsdzL797Rv.jpg"
           },
           {
            "cast_id": 32,
            "character": "Rabbit (voice)",
            "credit_id": "53a4d191c3a3687a370004b8",
            "id": 146747,
            "name": "Mario Batali",
            "order": 28,
            "profile_path": "/ryTLhqtjQkT3LfZ4UYRoGqBpxpg.jpg"
           },
           {
            "cast_id": 33,
            "character": "Fire Chief (voice)",
            "credit_id": "53a4d1a0c3a3687a4000046a",
            "id": 1332434,
            "name": "Martin Ballard",
            "order": 29,
            "profile_path": null
           }
          ],
          "directors": [
           {
            "credit_id": "52fe43579251416c7500cb73",
            "department": "Directing",
            "id": 5655,
            "job": "Director",
            "name": "Wes Anderson",
            "profile_path": "/r6mr3gvbuocMznHXSlXVKDj7mEI.jpg"
           }
          ],
          "genres": [
           {
            "id": 12,
            "name": "Adventure"
           },
           {
            "id": 16,
            "name": "Animation"
           },
           {
            "id": 35,
            "name": "Comedy"
           },
           {
            "id": 10751,
            "name": "Family"
           }
          ],
          "homepage": "",
          "id": 10315,
          "imdb_id": "tt0432283",
          "original_language": "en",
          "original_title": "Fantastic Mr. Fox",
          "overview": "The Fantastic Mr. Fox bored with his current life, plans a heist against the three local farmers. The farmers, tired of sharing their chickens with the sly fox, seek revenge against him and his family.",
          "popularity": 1.11050572485591,
          "poster_path": "/3lVrR9K9vd68vYy8tZum2fVn5BP.jpg",
          "production_companies": [
           {
            "id": 25,
            "name": "20th Century Fox"
           }
          ],
          "production_countries": [
           {
            "iso_3166_1": "US",
            "name": "United States of America"
           }
          ],
          "release_date": "2009-11-13",
          "revenue": 0,
          "runtime": 87,
          "spoken_languages": [
           {
            "iso_639_1": "en",
            "name": "English"
           }
          ],
          "status": "Released",
          "tagline": "Dig the life fantastic!",
          "title": "Fantastic Mr. Fox",
          "video": false,
          "vote_average": 7.3,
          "vote_count": 335
         }
        },
        {
         "_id": "8204",
         "_index": "tmdb",
         "_score": 1.461416,
         "_source": {
          "adult": false,
          "backdrop_path": "/2Uwv3eUDRJ9UcjN8AlSg4GDm6TN.jpg",
          "belongs_to_collection": null,
          "budget": 90000000,
          "cast": [
           {
            "cast_id": 9,
            "character": "Simon",
            "credit_id": "52fe4495c3a36847f809e799",
            "id": 1281,
            "name": "Freddie Highmore",
            "order": 0,
            "profile_path": "/5wou22G4dMRcnpMrRyPfLclZ2lD.jpg"
           },
           {
            "cast_id": 10,
            "character": "Mallory",
            "credit_id": "52fe4495c3a36847f809e79d",
            "id": 33397,
            "name": "Sarah Bolger",
            "order": 1,
            "profile_path": "/qDpy6RQYxk42R4ZrIFK3eq13bC2.jpg"
           },
           {
            "cast_id": 12,
            "character": "Mulgarath",
            "credit_id": "52fe4495c3a36847f809e7a7",
            "id": 1733,
            "name": "Nick Nolte",
            "order": 2,
            "profile_path": "/mecF0UBz1RSnf1ggd0ltYoCwqd2.jpg"
           },
           {
            "cast_id": 13,
            "character": "Helen Grace",
            "credit_id": "52fe4495c3a36847f809e7ab",
            "id": 18248,
            "name": "Mary-Louise Parker",
            "order": 3,
            "profile_path": "/3e72qs1QuqMlpieIm2JZtX1WNg2.jpg"
           },
           {
            "cast_id": 14,
            "character": "Arthur Spiderwick",
            "credit_id": "52fe4495c3a36847f809e7af",
            "id": 11064,
            "name": "David Strathairn",
            "order": 4,
            "profile_path": "/5P9hWKVBXVD6bNdDO3O7upa1A6S.jpg"
           },
           {
            "cast_id": 15,
            "character": "Thimbletack (voice)",
            "credit_id": "52fe4495c3a36847f809e7b3",
            "id": 519,
            "name": "Martin Short",
            "order": 5,
            "profile_path": "/oZQorXBjTxrdkTJFpoDwOcQ91ji.jpg"
           },
           {
            "cast_id": 16,
            "character": "Richard Grace",
            "credit_id": "52fe4495c3a36847f809e7b7",
            "id": 37041,
            "name": "Andrew McCarthy",
            "order": 6,
            "profile_path": "/5ChWnInkq2BDpIT1Yoa9guqLiQS.jpg"
           },
           {
            "cast_id": 18,
            "character": "Aunt Lucinda Spiderwick",
            "credit_id": "52fe4495c3a36847f809e7bb",
            "id": 23709,
            "name": "Joan Plowright",
            "order": 7,
            "profile_path": "/dGtQVBpLVqb0w53m15A7nVVt30A.jpg"
           },
           {
            "cast_id": 19,
            "character": "Young Lucinda",
            "credit_id": "52fe4495c3a36847f809e7bf",
            "id": 8712,
            "name": "Jordy Benattar",
            "order": 8,
            "profile_path": null
           },
           {
            "cast_id": 20,
            "character": "Helen's Co-Worker",
            "credit_id": "52fe4495c3a36847f809e7c3",
            "id": 8321,
            "name": "Tod Fennell",
            "order": 9,
            "profile_path": null
           }
          ],
          "directors": [
           {
            "credit_id": "52fe4495c3a36847f809e771",
            "department": "Directing",
            "id": 54050,
            "job": "Director",
            "name": "Mark Waters",
            "profile_path": "/ktII2pERp8swsnULZhDPzyfVlf6.jpg"
           }
          ],
          "genres": [
           {
            "id": 14,
            "name": "Fantasy"
           }
          ],
          "homepage": "",
          "id": 8204,
          "imdb_id": "tt0416236",
          "original_language": "en",
          "original_title": "The Spiderwick Chronicles",
          "overview": "Upon moving into the run-down Spiderwick Estate with their mother, twin brothers Jared and Simon Grace, along with their sister Mallory, find themselves pulled into an alternate world full of faeries and other creatures.",
          "popularity": 0.391512781716737,
          "poster_path": "/nSLjsBDzwsIpQL534CNfAKidyAm.jpg",
          "production_companies": [
           {
            "id": 4,
            "name": "Paramount Pictures"
           },
           {
            "id": 2348,
            "name": "Nickelodeon Movies"
           },
           {
            "id": 7383,
            "name": "Kennedy/Marshall Company, The"
           },
           {
            "id": 2995,
            "name": "Atmosphere Entertainment MM"
           },
           {
            "id": 3672,
            "name": "Gotham Group"
           },
           {
            "id": 20342,
            "name": "Spiderwick Productions"
           }
          ],
          "production_countries": [
           {
            "iso_3166_1": "US",
            "name": "United States of America"
           }
          ],
          "release_date": "2008-02-14",
          "revenue": 162839667,
          "runtime": 96,
          "spoken_languages": [
           {
            "iso_639_1": "en",
            "name": "English"
           }
          ],
          "status": "Released",
          "tagline": "Their World Is Closer Than You Think.",
          "title": "The Spiderwick Chronicles",
          "video": false,
          "vote_average": 5.9,
          "vote_count": 101
         }
        },
        {
         "_id": "297556",
         "_index": "tmdb",
         "_score": 1.4599357,
         "_source": {
          "adult": false,
          "backdrop_path": "/yIAxebMW8bvGJhZO8Q3TSi4zMDQ.jpg",
          "belongs_to_collection": {
           "backdrop_path": "/v4ijBegXGXDltrqRbhlEQqfoDl2.jpg",
           "id": 256287,
           "name": "Justice League (Animated) Collection",
           "poster_path": "/d8zXAlvUFwaNiQLdBqYUdaR62iL.jpg"
          },
          "budget": 3500000,
          "cast": [
           {
            "cast_id": 4,
            "character": "Shazam",
            "credit_id": "543e4d800e0a266f8e001e48",
            "id": 1328,
            "name": "Sean Astin",
            "order": 1,
            "profile_path": "/ezv9hRbgrR6Uuz4xWqX22cpiRXJ.jpg"
           },
           {
            "cast_id": 5,
            "character": "Computer",
            "credit_id": "543e4d8dc3a3682500001fd3",
            "id": 81379,
            "name": "Steve Blum",
            "order": 2,
            "profile_path": "/asCL6bWSZ7Xl2kSoRqrPB0CUUUU.jpg"
           },
           {
            "cast_id": 6,
            "character": "Wonder Woman",
            "credit_id": "543e4d9cc3a368250d001cdd",
            "id": 5916,
            "name": "Rosario Dawson",
            "order": 3,
            "profile_path": "/x4aOj4DYdxtIDpGrxyBD7gljEcf.jpg"
           },
           {
            "cast_id": 7,
            "character": "Green Lantern",
            "credit_id": "543e4dabc3a3682517001e3a",
            "id": 51797,
            "name": "Nathan Fillion",
            "order": 4,
            "profile_path": "/B7VTVtnKyFk0AtYjEbqzBQlPec.jpg"
           },
           {
            "cast_id": 8,
            "character": "The Flash",
            "credit_id": "543e4dbb0e0a266f8e001e58",
            "id": 53761,
            "name": "Christopher Gorham",
            "order": 5,
            "profile_path": "/1fAcWAtGeTluNjbGVGxaShQD090.jpg"
           },
           {
            "cast_id": 9,
            "character": "Queen Atlanna",
            "credit_id": "543e4dcf0e0a266f84001f20",
            "id": 48163,
            "name": "Sirena Irwin",
            "order": 6,
            "profile_path": null
           },
           {
            "cast_id": 10,
            "character": "Aquaman / Arthur Curry",
            "credit_id": "543e4de5c3a368250a001ea0",
            "id": 34202,
            "name": "Matt Lanter",
            "order": 7,
            "profile_path": "/jqRYoV3YrPXdCPr4p77dDg72X1X.jpg"
           },
           {
            "cast_id": 11,
            "character": "Mera",
            "credit_id": "543e4df0c3a3682513001e16",
            "id": 66655,
            "name": "Sumalee Montano",
            "order": 8,
            "profile_path": "/c3eoetU8QCfdc6F0N0QjJtGYjqs.jpg"
           },
           {
            "cast_id": 12,
            "character": "Superman",
            "credit_id": "543e4dffc3a368250a001ea8",
            "id": 3035,
            "name": "Jerry O'Connell",
            "order": 9,
            "profile_path": "/hkEBKk79L0ptmxGTng0v6X7Lzws.jpg"
           },
           {
            "cast_id": 13,
            "character": "Batman",
            "credit_id": "543e4e0b0e0a266f81001e64",
            "id": 183812,
            "name": "Jason O'Mara",
            "order": 10,
            "profile_path": "/wVzetn8ZGsTp09NAtFGLUAPt2I1.jpg"
           }
          ],
          "directors": [
           {
            "credit_id": "543e4d3b0e0a266f8b001df9",
            "department": "Directing",
            "id": 105643,
            "job": "Director",
            "name": "Jay Oliva",
            "profile_path": null
           },
           {
            "credit_id": "543e4d520e0a266f7a001f5f",
            "department": "Directing",
            "id": 529806,
            "job": "Director",
            "name": "Ethan Spaulding",
            "profile_path": null
           }
          ],
          "genres": [
           {
            "id": 28,
            "name": "Action"
           },
           {
            "id": 12,
            "name": "Adventure"
           },
           {
            "id": 16,
            "name": "Animation"
           },
           {
            "id": 878,
            "name": "Science Fiction"
           }
          ],
          "homepage": "",
          "id": 297556,
          "imdb_id": "tt3878542",
          "original_language": "en",
          "original_title": "Justice League: Throne of Atlantis",
          "overview": "After the events of Justice League: War, Ocean Master and Black Manta have declared a war against the surface in retaliation of the aftermath of Apokoliptian-tyrant Darkseid's planetary invasion. Queen Atlanna seeks out her other son, Ocean Master’s half-brother Arthur Curry, a half-human with aquatic powers with no knowledge of his Atlantean heritage, to restore balance.  Living with powers he doesn’t understand and seeing the danger around him, Curry takes steps to embrace his destiny, joining the Justice League, and with his new teammates he battles to save Earth from total destruction.",
          "popularity": 1.74678299013691,
          "poster_path": "/3n0zmm2dPF0TQt2ikJ2tUjKr2FT.jpg",
          "production_companies": [
           {
            "id": 429,
            "name": "DC Comics"
           },
           {
            "id": 20734,
            "name": "Warner Bros. Feature Animation"
           }
          ],
          "production_countries": [
           {
            "iso_3166_1": "US",
            "name": "United States of America"
           }
          ],
          "release_date": "2015-01-27",
          "revenue": 0,
          "runtime": 72,
          "spoken_languages": [
           {
            "iso_639_1": "en",
            "name": "English"
           }
          ],
          "status": "Released",
          "tagline": "",
          "title": "Justice League: Throne of Atlantis",
          "video": false,
          "vote_average": 6.5,
          "vote_count": 50
         }
        },
        {
         "_id": "10033",
         "_index": "tmdb",
         "_score": 1.4528873,
         "_source": {
          "adult": false,
          "backdrop_path": "/d9Qqu2gOnCyf5J6p2ybUyICNGXX.jpg",
          "belongs_to_collection": null,
          "budget": 0,
          "cast": [
           {
            "cast_id": 21,
            "character": "Chris Brander",
            "credit_id": "52fe430e9251416c75001bed",
            "id": 10859,
            "name": "Ryan Reynolds",
            "order": 0,
            "profile_path": "/mNcVv9FG76lD67Hw4sEmL84PBZG.jpg"
           },
           {
            "cast_id": 23,
            "character": "Jamie Palamino",
            "credit_id": "52fe430e9251416c75001bf7",
            "id": 20189,
            "name": "Amy Smart",
            "order": 1,
            "profile_path": "/gDIto4RCKHOSKfC0rSn8nxmThpN.jpg"
           },
           {
            "cast_id": 25,
            "character": "Samantha James",
            "credit_id": "52fe430e9251416c75001c01",
            "id": 1772,
            "name": "Anna Faris",
            "order": 2,
            "profile_path": "/57MOp6rD37RJNzbhTVMLpbsqwZd.jpg"
           },
           {
            "cast_id": 26,
            "character": "Dusty Dinkleman",
            "credit_id": "52fe430e9251416c75001c05",
            "id": 21594,
            "name": "Chris Klein",
            "order": 3,
            "profile_path": "/foKh17RAUIhmfNgZ3TIvHJrNkDR.jpg"
           },
           {
            "cast_id": 27,
            "character": "Mike Brander",
            "credit_id": "52fe430e9251416c75001c09",
            "id": 59238,
            "name": "Chris Marquette",
            "order": 4,
            "profile_path": "/kKunkk6VksTnXGj0iK5MNqbYhBt.jpg"
           },
           {
            "cast_id": 29,
            "character": "Carol Brander",
            "credit_id": "52fe430e9251416c75001c13",
            "id": 14415,
            "name": "Julie Hagerty",
            "order": 5,
            "profile_path": "/dsRYh88HyksklEgUlnOmx9Ys8hn.jpg"
           },
           {
            "cast_id": 30,
            "character": "Young Mike Brander",
            "credit_id": "52fe430e9251416c75001c17",
            "id": 62244,
            "name": "Giacomo Beltrami",
            "order": 6,
            "profile_path": null
           },
           {
            "cast_id": 31,
            "character": "Darla",
            "credit_id": "52fe430e9251416c75001c1b",
            "id": 62246,
            "name": "Amy Matysio",
            "order": 7,
            "profile_path": "/au9d1bdeFkpjs9OEVl2vKrCmf6z.jpg"
           },
           {
            "cast_id": 33,
            "character": "Clark",
            "credit_id": "52fe430e9251416c75001c25",
            "id": 62245,
            "name": "Fred Ewanuick",
            "order": 8,
            "profile_path": "/gwKOB2XIRzWy6e1ClWSg1OBiuOA.jpg"
           },
           {
            "cast_id": 34,
            "character": "Mrs. Palamino",
            "credit_id": "52fe430e9251416c75001c29",
            "id": 62247,
            "name": "Wendy Anderson",
            "order": 9,
            "profile_path": null
           },
           {
            "cast_id": 35,
            "character": "Mr. Palamino",
            "credit_id": "52fe430e9251416c75001c2d",
            "id": 43429,
            "name": "Barry Flatman",
            "order": 10,
            "profile_path": "/bRFwheAG7219yIbmVfrdqAMVhcI.jpg"
           },
           {
            "cast_id": 36,
            "character": "Tim",
            "credit_id": "52fe430e9251416c75001c31",
            "id": 42711,
            "name": "Ty Olsson",
            "order": 11,
            "profile_path": "/rd1M0tIIPKkoc1lX8yktMndHUjU.jpg"
           },
           {
            "cast_id": 37,
            "character": "Brett",
            "credit_id": "52fe430e9251416c75001c35",
            "id": 62248,
            "name": "Devyn Burant",
            "order": 12,
            "profile_path": null
           },
           {
            "cast_id": 38,
            "character": "Hockey Dad",
            "credit_id": "52fe430e9251416c75001c39",
            "id": 62250,
            "name": "Mike O'Brien",
            "order": 13,
            "profile_path": "/p5eI0r5oSwumWjBTZRkyZvoqQs9.jpg"
           },
           {
            "cast_id": 39,
            "character": "Joey",
            "credit_id": "52fe430e9251416c75001c3d",
            "id": 62249,
            "name": "Jaden Ryan",
            "order": 14,
            "profile_path": null
           },
           {
            "cast_id": 40,
            "character": "Kyle",
            "credit_id": "52fe430e9251416c75001c41",
            "id": 62252,
            "name": "Todd Lewis",
            "order": 15,
            "profile_path": null
           },
           {
            "cast_id": 41,
            "character": "Sarah",
            "credit_id": "52fe430e9251416c75001c45",
            "id": 62251,
            "name": "Annie Brebner",
            "order": 16,
            "profile_path": null
           },
           {
            "cast_id": 42,
            "character": "Jock #1",
            "credit_id": "52fe430e9251416c75001c49",
            "id": 62253,
            "name": "Justin Kirby",
            "order": 17,
            "profile_path": null
           },
           {
            "cast_id": 43,
            "character": "Jock #2",
            "credit_id": "52fe430e9251416c75001c4d",
            "id": 62254,
            "name": "Jackie Mitchell",
            "order": 18,
            "profile_path": null
           },
           {
            "cast_id": 44,
            "character": "KC",
            "credit_id": "52fe430e9251416c75001c51",
            "id": 17401,
            "name": "Stephen Root",
            "order": 19,
            "profile_path": "/sceCvLiv8xe2jQzrVn39wvosVHG.jpg"
           }
          ],
          "directors": [
           {
            "credit_id": "52fe430e9251416c75001bfd",
            "department": "Directing",
            "id": 11873,
            "job": "Director",
            "name": "Roger Kumble",
            "profile_path": "/uGKg8pacbWifsUK5IBvmPziHDKK.jpg"
           }
          ],
          "genres": [
           {
            "id": 35,
            "name": "Comedy"
           },
           {
            "id": 10749,
            "name": "Romance"
           }
          ],
          "homepage": "",
          "id": 10033,
          "imdb_id": "tt0433400",
          "original_language": "en",
          "original_title": "Just Friends",
          "overview": "While visiting his hometown during Christmas, a man comes face-to-face with his old high school crush whom he was best friends with -- a woman whose rejection of him turned him into a ferocious womanizer.",
          "popularity": 0.901795324606383,
          "poster_path": "/cyih5NtdEXF0uSGWJFWgiIEQknb.jpg",
          "production_companies": [
           {
            "id": 5496,
            "name": "Cinezeta"
           },
           {
            "id": 12,
            "name": "New Line Cinema"
           }
          ],
          "production_countries": [
           {
            "iso_3166_1": "DE",
            "name": "Germany"
           },
           {
            "iso_3166_1": "US",
            "name": "United States of America"
           }
          ],
          "release_date": "2005-11-23",
          "revenue": 50817508,
          "runtime": 96,
          "spoken_languages": [
           {
            "iso_639_1": "en",
            "name": "English"
           }
          ],
          "status": "Released",
          "tagline": "He loves her. She loves him not.",
          "title": "Just Friends",
          "video": false,
          "vote_average": 5.9,
          "vote_count": 105
         }
        },
        {
         "_id": "10137",
         "_index": "tmdb",
         "_score": 1.4528873,
         "_source": {
          "adult": false,
          "backdrop_path": "/bfiybUiH5TEiuk1Znn2cYG4w0YD.jpg",
          "belongs_to_collection": {
           "backdrop_path": "/r74LzQMN1EdvdCvbIqHA95TvEKt.jpg",
           "id": 99727,
           "name": "Stuart Little Collection",
           "poster_path": "/tBWjHQBmEa91Pa3R96zGdosULom.jpg"
          },
          "budget": 133000000,
          "cast": [
           {
            "cast_id": 10,
            "character": "Stuart Little (voice)",
            "credit_id": "52fe43329251416c75007181",
            "id": 521,
            "name": "Michael J. Fox",
            "order": 0,
            "profile_path": "/7yFPB60SpKQJA5wC1smdWjkDUED.jpg"
           },
           {
            "cast_id": 12,
            "character": "Eleanor Little",
            "credit_id": "52fe43329251416c75007185",
            "id": 16935,
            "name": "Geena Davis",
            "order": 1,
            "profile_path": "/gQYLCNk9ezjuElM98KqMrjDPUhx.jpg"
           },
           {
            "cast_id": 13,
            "character": "Mr. Fredrick Little",
            "credit_id": "52fe43329251416c75007189",
            "id": 41419,
            "name": "Hugh Laurie",
            "order": 2,
            "profile_path": "/3qCmEHtq5fBW8dbzsYDSy16Zqb0.jpg"
           },
           {
            "cast_id": 14,
            "character": "George Little",
            "credit_id": "54559bc40e0a2648cb005fe5",
            "id": 67778,
            "name": "Jonathan Lipnicki",
            "order": 3,
            "profile_path": "/mHyAL6ByNXxMLzfykgLTmd4tvMr.jpg"
           },
           {
            "cast_id": 15,
            "character": "Snowbell (voice)",
            "credit_id": "54559bd2c3a3682be900363d",
            "id": 78729,
            "name": "Nathan Lane",
            "order": 4,
            "profile_path": "/fKxRV7wAZTUeAp76YGwzMOzuVSv.jpg"
           },
           {
            "cast_id": 16,
            "character": "Crenshaw Little",
            "credit_id": "54559c0c0e0a2648c200605a",
            "id": 4004,
            "name": "Jeffrey Jones",
            "order": 5,
            "profile_path": "/tstfddskUkJvtWcRBLZ6dsvffhM.jpg"
           },
           {
            "cast_id": 17,
            "character": "Tina Little",
            "credit_id": "54559c19c3a3681473005ccc",
            "id": 35517,
            "name": "Connie Ray",
            "order": 6,
            "profile_path": "/yJriGT19J24uceLCxVLbE70pd9p.jpg"
           },
           {
            "cast_id": 18,
            "character": "Beatrice Little",
            "credit_id": "54559c29c3a3683ea0000bb2",
            "id": 94008,
            "name": "Allyce Beasley",
            "order": 7,
            "profile_path": "/xXweplMpNuijsILm35IC9h6pUFy.jpg"
           },
           {
            "cast_id": 19,
            "character": "Edgar Little",
            "credit_id": "54559c34c3a3682be9003650",
            "id": 1535,
            "name": "Brian Doyle-Murray",
            "order": 8,
            "profile_path": "/fRLFXdb8UQvJs4euZ2sE6CpjbXn.jpg"
           },
           {
            "cast_id": 20,
            "character": "Estelle Little",
            "credit_id": "54559c500e0a2648cf006143",
            "id": 59956,
            "name": "Estelle Getty",
            "order": 9,
            "profile_path": "/3dfiQNyCietGhFRcghO5owq9YRM.jpg"
           },
           {
            "cast_id": 21,
            "character": "Spencer Little",
            "credit_id": "54559c5d0e0a2648cb005ffe",
            "id": 14833,
            "name": "Harold Gould",
            "order": 10,
            "profile_path": "/7AjlsZM9hxKahC9r29x93Cos74V.jpg"
           },
           {
            "cast_id": 22,
            "character": "Smokey (voice)",
            "credit_id": "54559c6e0e0a2648d2006248",
            "id": 9046,
            "name": "Chazz Palminteri",
            "order": 11,
            "profile_path": "/d9VkmkEO50zP0kww6aLLFpu5Ovh.jpg"
           },
           {
            "cast_id": 23,
            "character": "Monty (voice)",
            "credit_id": "54559c7a0e0a2648cb006003",
            "id": 18324,
            "name": "Steve Zahn",
            "order": 12,
            "profile_path": "/tcRHqtdi4wM8hlZ3MjPDWgePp7L.jpg"
           },
           {
            "cast_id": 24,
            "character": "Reginald Stout (voice)",
            "credit_id": "54559c89c3a3682be9003663",
            "id": 9257,
            "name": "Bruno Kirby",
            "order": 13,
            "profile_path": "/vWKYTMoasP2kVqvG0hoNe4q73Nx.jpg"
           },
           {
            "cast_id": 25,
            "character": "Camille Stout (voice)",
            "credit_id": "54559c970e0a2648cf006151",
            "id": 7906,
            "name": "Jennifer Tilly",
            "order": 14,
            "profile_path": "/bNB0BTnPAdAAHuCQSprMk4smBMD.jpg"
           },
           {
            "cast_id": 26,
            "character": "Red (voice)",
            "credit_id": "54559cb00e0a2648c2006080",
            "id": 58563,
            "name": "David Alan Grier",
            "order": 15,
            "profile_path": "/fV6DNjreY63QKRQpHtFOq36SVLY.jpg"
           },
           {
            "cast_id": 27,
            "character": "Det. Phil Allen / Lucky (voice)",
            "credit_id": "54559cca0e0a2648d200625f",
            "id": 1219157,
            "name": "Jim Doughan",
            "order": 16,
            "profile_path": null
           },
           {
            "cast_id": 28,
            "character": "Mrs. Keeper",
            "credit_id": "54559cd50e0a2648cf00615e",
            "id": 11806,
            "name": "Julia Sweeney",
            "order": 17,
            "profile_path": "/hy7ZoNmr0h3AcrBkbnTLOXZnwRd.jpg"
           }
          ],
          "directors": [
           {
            "credit_id": "52fe43319251416c7500714d",
            "department": "Directing",
            "id": 18898,
            "job": "Director",
            "name": "Rob Minkoff",
            "profile_path": "/xB2zqJU0mQkU1dEk93SVyiEgwVj.jpg"
           }
          ],
          "genres": [
           {
            "id": 12,
            "name": "Adventure"
           },
           {
            "id": 16,
            "name": "Animation"
           },
           {
            "id": 35,
            "name": "Comedy"
           },
           {
            "id": 14,
            "name": "Fantasy"
           },
           {
            "id": 878,
            "name": "Science Fiction"
           },
           {
            "id": 10751,
            "name": "Family"
           }
          ],
          "homepage": "",
          "id": 10137,
          "imdb_id": "tt0164912",
          "original_language": "en",
          "original_title": "Stuart Little",
          "overview": "The adventures of a heroic and debonair stalwart mouse named Stuart Little with human qualities, who faces some comic misadventures while searching for his lost bird friend and living with a human family as their child.",
          "popularity": 1.21580025589026,
          "poster_path": "/539JU71suy9q4Wd5vvkKQLl5fTC.jpg",
          "production_companies": [
           {
            "id": 5,
            "name": "Columbia Pictures"
           },
           {
            "id": 5554,
            "name": "Franklin%2FWaterman Productions"
           },
           {
            "id": 5555,
            "name": "Global Medien KG"
           }
          ],
          "production_countries": [
           {
            "iso_3166_1": "DE",
            "name": "Germany"
           },
           {
            "iso_3166_1": "US",
            "name": "United States of America"
           }
          ],
          "release_date": "1999-12-17",
          "revenue": 300135367,
          "runtime": 84,
          "spoken_languages": [
           {
            "iso_639_1": "nl",
            "name": "Nederlands"
           },
           {
            "iso_639_1": "en",
            "name": "English"
           }
          ],
          "status": "Released",
          "tagline": "The Little Family Just Got Bigger",
          "title": "Stuart Little",
          "video": false,
          "vote_average": 5.6,
          "vote_count": 236
         }
        },
        {
         "_id": "9541",
         "_index": "tmdb",
         "_score": 1.4462883,
         "_source": {
          "adult": false,
          "backdrop_path": "/iYNKzyuABzBtO1ZEujNB37d7dED.jpg",
          "belongs_to_collection": null,
          "budget": 35000000,
          "cast": [
           {
            "cast_id": 1,
            "character": "Ollie Trinke",
            "credit_id": "52fe4506c3a36847f80b7fb3",
            "id": 880,
            "name": "Ben Affleck",
            "order": 0,
            "profile_path": "/yXtyygmSGtrwTfEmr6g2WgHFJIZ.jpg"
           },
           {
            "cast_id": 2,
            "character": "Gertie Trinke",
            "credit_id": "52fe4506c3a36847f80b7fb7",
            "id": 57893,
            "name": "Raquel Castro",
            "order": 1,
            "profile_path": "/m7ZEOdJhZAkJkd0GzJ7HpUiMCUl.jpg"
           },
           {
            "cast_id": 3,
            "character": "Maya",
            "credit_id": "52fe4507c3a36847f80b7fbb",
            "id": 882,
            "name": "Liv Tyler",
            "order": 2,
            "profile_path": "/lD2YnrKdnRUvFDMSiK2pw13ZMIB.jpg"
           },
           {
            "cast_id": 4,
            "character": "Gertrude Steiney",
            "credit_id": "52fe4507c3a36847f80b7fbf",
            "id": 16866,
            "name": "Jennifer Lopez",
            "order": 3,
            "profile_path": "/hNgmDBICnD8La2QN1Pkflh5NJqJ.jpg"
           },
           {
            "cast_id": 5,
            "character": "Bart Trinke",
            "credit_id": "52fe4507c3a36847f80b7fc3",
            "id": 15903,
            "name": "George Carlin",
            "order": 4,
            "profile_path": "/xmSn6p5QVn66UK2ueEJisrUR5Bg.jpg"
           },
           {
            "cast_id": 6,
            "character": "Susan",
            "credit_id": "52fe4507c3a36847f80b7fc7",
            "id": 23658,
            "name": "Jennifer Schwalbach Smith",
            "order": 5,
            "profile_path": "/Acb5bHoFWoeZdNYjofp89E0BFyA.jpg"
           },
           {
            "cast_id": 20,
            "character": "Himself",
            "credit_id": "52fe4507c3a36847f80b8013",
            "id": 2888,
            "name": "Will Smith",
            "order": 6,
            "profile_path": "/2iYXDlCvLyVO49louRyDDXagZ0G.jpg"
           },
           {
            "cast_id": 21,
            "character": "Greenie",
            "credit_id": "52fe4507c3a36847f80b8017",
            "id": 17401,
            "name": "Stephen Root",
            "order": 7,
            "profile_path": "/sceCvLiv8xe2jQzrVn39wvosVHG.jpg"
           },
           {
            "cast_id": 22,
            "character": "Block",
            "credit_id": "52fe4507c3a36847f80b801b",
            "id": 5170,
            "name": "Mike Starr",
            "order": 8,
            "profile_path": "/qzoXxFJlhcos4kAPJmqMpdw0Tin.jpg"
           },
           {
            "cast_id": 23,
            "character": "Arthur Brickman",
            "credit_id": "52fe4507c3a36847f80b801f",
            "id": 21593,
            "name": "Jason Biggs",
            "order": 9,
            "profile_path": "/cjuZBrqyVjtcBX6fOOnKnhI7ndw.jpg"
           }
          ],
          "directors": [
           {
            "credit_id": "52fe4507c3a36847f80b7fcd",
            "department": "Directing",
            "id": 19303,
            "job": "Director",
            "name": "Kevin Smith",
            "profile_path": "/3XXThSMqHQgQFjM4bMJ25U1EJTj.jpg"
           }
          ],
          "genres": [
           {
            "id": 35,
            "name": "Comedy"
           },
           {
            "id": 10749,
            "name": "Romance"
           }
          ],
          "homepage": "",
          "id": 9541,
          "imdb_id": "tt0300051",
          "original_language": "en",
          "original_title": "Jersey Girl",
          "overview": "Ollie Trinke is a young, suave music publicist who seems to have it all, with a new wife and a baby on the way. But life deals him a bum hand when he's suddenly faced with single fatherhood, a defunct career and having to move in with his father. To bounce back, it takes a new love and the courage instilled in him by his daughter.",
          "popularity": 0.709922275501342,
          "poster_path": "/d8Qf8wVQV3K4Nl3KBuVNHMBCxgw.jpg",
          "production_companies": [
           {
            "id": 23022,
            "name": "Close Call Films"
           },
           {
            "id": 14,
            "name": "Miramax Films"
           },
           {
            "id": 16934,
            "name": "View Askew Productions"
           },
           {
            "id": 267,
            "name": "Beverly Detroit"
           }
          ],
          "production_countries": [
           {
            "iso_3166_1": "US",
            "name": "United States of America"
           }
          ],
          "release_date": "2004-03-25",
          "revenue": 36098382,
          "runtime": 102,
          "spoken_languages": [
           {
            "iso_639_1": "en",
            "name": "English"
           }
          ],
          "status": "Released",
          "tagline": "He wanted it all...but he got more than he bargained for.",
          "title": "Jersey Girl",
          "video": false,
          "vote_average": 5.7,
          "vote_count": 80
         }
        },
        {
         "_id": "10830",
         "_index": "tmdb",
         "_score": 1.4462883,
         "_source": {
          "adult": false,
          "backdrop_path": "/r8nIuvtJBmFvvW07KmOGKKm6NQF.jpg",
          "belongs_to_collection": null,
          "budget": 36000000,
          "cast": [
           {
            "cast_id": 1,
            "character": "Matilda Wormwood",
            "credit_id": "52fe43be9251416c7501c641",
            "id": 11717,
            "name": "Mara Wilson",
            "order": 0,
            "profile_path": "/lVfLBgPMUFcRd0eSF09dDW34nKH.jpg"
           },
           {
            "cast_id": 2,
            "character": "Harry Wormwood",
            "credit_id": "52fe43be9251416c7501c645",
            "id": 518,
            "name": "Danny DeVito",
            "order": 1,
            "profile_path": "/zKuyzmKzPLG7RJo7lbbHjx6CCZc.jpg"
           },
           {
            "cast_id": 4,
            "character": "Miss Jennifer \"Jenny\" Honey",
            "credit_id": "52fe43be9251416c7501c64d",
            "id": 6368,
            "name": "Embeth Davidtz",
            "order": 2,
            "profile_path": "/gmc4nZtGc6bge9DnriR57VYq0dA.jpg"
           },
           {
            "cast_id": 3,
            "character": "Zinnia Wormwood",
            "credit_id": "52fe43be9251416c7501c649",
            "id": 24203,
            "name": "Rhea Perlman",
            "order": 3,
            "profile_path": "/cq7Cf4z3BHD9o58ki7MgCioty8q.jpg"
           },
           {
            "cast_id": 14,
            "character": "Agatha Trunchbull",
            "credit_id": "52fe43be9251416c7501c687",
            "id": 11213,
            "name": "Pam Ferris",
            "order": 4,
            "profile_path": "/i9ou0K069ce8rL1OeWEZRukCBCk.jpg"
           },
           {
            "cast_id": 15,
            "character": "FBI Agent Bob",
            "credit_id": "52fe43be9251416c7501c68b",
            "id": 5129,
            "name": "Paul Reubens",
            "order": 5,
            "profile_path": "/3g77Qz12qjCpVGfBP2kOPx4rRai.jpg"
           },
           {
            "cast_id": 16,
            "character": "FBI Agent Bill",
            "credit_id": "52fe43be9251416c7501c68f",
            "id": 3801,
            "name": "Tracey Walter",
            "order": 6,
            "profile_path": "/kRFzCvB08MVF9T8pLT0V1GiXzXF.jpg"
           },
           {
            "cast_id": 17,
            "character": "Michael 'Mikey' Wormwood",
            "credit_id": "52fe43be9251416c7501c693",
            "id": 109693,
            "name": "Brian Levinson",
            "order": 7,
            "profile_path": null
           },
           {
            "cast_id": 18,
            "character": "Lavender",
            "credit_id": "52fe43be9251416c7501c697",
            "id": 109694,
            "name": "Kiami Davael",
            "order": 8,
            "profile_path": null
           }
          ],
          "directors": [
           {
            "credit_id": "52fe43be9251416c7501c653",
            "department": "Directing",
            "id": 518,
            "job": "Director",
            "name": "Danny DeVito",
            "profile_path": "/zKuyzmKzPLG7RJo7lbbHjx6CCZc.jpg"
           }
          ],
          "genres": [
           {
            "id": 12,
            "name": "Adventure"
           },
           {
            "id": 35,
            "name": "Comedy"
           },
           {
            "id": 14,
            "name": "Fantasy"
           },
           {
            "id": 10751,
            "name": "Family"
           }
          ],
          "homepage": "",
          "id": 10830,
          "imdb_id": "tt0117008",
          "original_language": "en",
          "original_title": "Matilda",
          "overview": "See the world from a kid's-eye view with Matilda, a modern fairytale that mixes hilarious humour with the magical message of love. Matilda is a super-smart little girl who's woefully misunderstood by her parents, her brother, and an evil school principal. But with the help of a brave best friend and a wonderful teacher, Matilda discovers she doesn't have to get mad to get even.",
          "popularity": 0.843524389321088,
          "poster_path": "/vddUwPL3L8MBH4FrEDCAZM9T6sj.jpg",
          "production_companies": [
           {
            "id": 216,
            "name": "Jersey Films"
           },
           {
            "id": 559,
            "name": "TriStar Pictures"
           }
          ],
          "production_countries": [
           {
            "iso_3166_1": "US",
            "name": "United States of America"
           }
          ],
          "release_date": "1996-07-28",
          "revenue": 33459416,
          "runtime": 98,
          "spoken_languages": [
           {
            "iso_639_1": "en",
            "name": "English"
           }
          ],
          "status": "Released",
          "tagline": "A little magic goes a long way.",
          "title": "Matilda",
          "video": false,
          "vote_average": 6.6,
          "vote_count": 167
         }
        },
        {
         "_id": "49020",
         "_index": "tmdb",
         "_score": 1.4444575,
         "_source": {
          "adult": false,
          "backdrop_path": "/jRHZDSOv7WUKaY3NfrwYSXH3uRC.jpg",
          "belongs_to_collection": null,
          "budget": 0,
          "cast": [
           {
            "cast_id": 6,
            "character": "Oliver Tate",
            "credit_id": "52fe4780c3a36847f81395dd",
            "id": 104561,
            "name": "Craig Roberts",
            "order": 0,
            "profile_path": "/lFLBmmAz0AnMNqKlH65ixCjhJfH.jpg"
           },
           {
            "cast_id": 2,
            "character": "Jill Tate",
            "credit_id": "52fe4780c3a36847f81395cd",
            "id": 39658,
            "name": "Sally Hawkins",
            "order": 1,
            "profile_path": "/bPFRrqTDZKB2mlKV07M9P2FZKnP.jpg"
           },
           {
            "cast_id": 3,
            "character": "Graham Purvis",
            "credit_id": "52fe4780c3a36847f81395d1",
            "id": 14887,
            "name": "Paddy Considine",
            "order": 2,
            "profile_path": "/nmtQR949ev9SnaFMVYtB5N51D31.jpg"
           },
           {
            "cast_id": 4,
            "character": "Lloyd Tate",
            "credit_id": "52fe4780c3a36847f81395d5",
            "id": 1284,
            "name": "Noah Taylor",
            "order": 3,
            "profile_path": "/dSlH0WA09dVqQhgB7LB5xn8WzD.jpg"
           },
           {
            "cast_id": 5,
            "character": "Kim-Lin",
            "credit_id": "52fe4780c3a36847f81395d9",
            "id": 97576,
            "name": "Gemma Chan",
            "order": 4,
            "profile_path": "/aEp5HW7AahsJMlxhoQkbtM26qtk.jpg"
           },
           {
            "cast_id": 31,
            "character": "Jordana Bevan",
            "credit_id": "52fe4781c3a36847f813966b",
            "id": 81571,
            "name": "Yasmin Paige",
            "order": 5,
            "profile_path": "/t18rPozXhXpUDzKX6gWF0YBMrca.jpg"
           },
           {
            "cast_id": 32,
            "character": "Chips",
            "credit_id": "52fe4781c3a36847f813966f",
            "id": 32266,
            "name": "Darren Evans",
            "order": 6,
            "profile_path": null
           },
           {
            "cast_id": 33,
            "character": "Mark Pritchard",
            "credit_id": "52fe4781c3a36847f8139673",
            "id": 1127671,
            "name": "Osian Cai Dulais",
            "order": 7,
            "profile_path": null
           },
           {
            "cast_id": 34,
            "character": "Zoe Preece",
            "credit_id": "52fe4781c3a36847f8139677",
            "id": 1127672,
            "name": "Lily McCann",
            "order": 8,
            "profile_path": null
           },
           {
            "cast_id": 35,
            "character": "Keiron",
            "credit_id": "52fe4781c3a36847f813967b",
            "id": 1127673,
            "name": "Otis Lloyd",
            "order": 9,
            "profile_path": null
           },
           {
            "cast_id": 36,
            "character": "Abby Smuts",
            "credit_id": "52fe4781c3a36847f813967f",
            "id": 972115,
            "name": "Elinor Crawley",
            "order": 10,
            "profile_path": null
           },
           {
            "cast_id": 37,
            "character": "Mr. Davey",
            "credit_id": "52fe4781c3a36847f8139683",
            "id": 143892,
            "name": "Steffan Rhodri",
            "order": 11,
            "profile_path": "/4bptQdwRKCMveddkpZdCvDwcsHQ.jpg"
           },
           {
            "cast_id": 38,
            "character": "Jude Bevan",
            "credit_id": "52fe4781c3a36847f8139687",
            "id": 220587,
            "name": "Melanie Walters",
            "order": 12,
            "profile_path": "/293QtM0BJBkb5sd5PPb8fk3vOxT.jpg"
           },
           {
            "cast_id": 39,
            "character": "Brynn Bevan",
            "credit_id": "52fe4781c3a36847f813968b",
            "id": 189433,
            "name": "Sion Tudor Owen",
            "order": 13,
            "profile_path": null
           },
           {
            "cast_id": 40,
            "character": "Miss Dutton",
            "credit_id": "52fe4781c3a36847f813968f",
            "id": 208526,
            "name": "Lydia Fox",
            "order": 14,
            "profile_path": null
           },
           {
            "cast_id": 41,
            "character": "Soap Opera Star",
            "credit_id": "52fe4781c3a36847f8139693",
            "id": 7399,
            "name": "Ben Stiller",
            "order": 15,
            "profile_path": "/umikKeCX3vEZoUcx2klxPG8571s.jpg"
           }
          ],
          "directors": [
           {
            "credit_id": "52fe4780c3a36847f81395c9",
            "department": "Directing",
            "id": 98103,
            "job": "Director",
            "name": "Richard Ayoade",
            "profile_path": "/70IJ3elpuc87HGeKfqIZeKrHO51.jpg"
           }
          ],
          "genres": [
           {
            "id": 35,
            "name": "Comedy"
           },
           {
            "id": 18,
            "name": "Drama"
           },
           {
            "id": 10749,
            "name": "Romance"
           }
          ],
          "homepage": "http://warp.net/films/submarine",
          "id": 49020,
          "imdb_id": "tt1440292",
          "original_language": "en",
          "original_title": "Submarine",
          "overview": "15-year-old deep-thinker Oliver Tate struggles to initiate and maintain a relationship with Jordana, his devilish, dark-haired classmate.  As his parents' marriage begins to fall apart, similar problems arise in his relationship with Jordana.",
          "popularity": 0.710800292440563,
          "poster_path": "/ibYScMoDmBktoIZzUDFrhPpTPlH.jpg",
          "production_companies": [
           {
            "id": 9349,
            "name": "Film4"
           },
           {
            "id": 12177,
            "name": "Film Agency for Wales"
           },
           {
            "id": 12178,
            "name": "Red Hour Films"
           },
           {
            "id": 12179,
            "name": "Warp (Submarine)"
           },
           {
            "id": 12180,
            "name": "Warp Films"
           }
          ],
          "production_countries": [
           {
            "iso_3166_1": "GB",
            "name": "United Kingdom"
           },
           {
            "iso_3166_1": "US",
            "name": "United States of America"
           }
          ],
          "release_date": "2010-09-12",
          "revenue": 864659,
          "runtime": 97,
          "spoken_languages": [
           {
            "iso_639_1": "en",
            "name": "English"
           }
          ],
          "status": "Released",
          "tagline": "A comedy that doesn't let principles stand in the way of progress.",
          "title": "Submarine",
          "video": false,
          "vote_average": 7.6,
          "vote_count": 89
         }
        },
        {
         "_id": "10529",
         "_index": "tmdb",
         "_score": 1.4361249,
         "_source": {
          "adult": false,
          "backdrop_path": "/rOmTlcLUmNbjpSM03MqPmVe35aC.jpg",
          "belongs_to_collection": null,
          "budget": 50000000,
          "cast": [
           {
            "cast_id": 1,
            "character": "Kainan",
            "credit_id": "52fe43819251416c75012ff1",
            "id": 8767,
            "name": "Jim Caviezel",
            "order": 0,
            "profile_path": "/koyFOeFdQyyFs26DNyDHWluBibB.jpg"
           },
           {
            "cast_id": 3,
            "character": "Freya",
            "credit_id": "52fe43819251416c75012ffb",
            "id": 3971,
            "name": "Sophia Myles",
            "order": 1,
            "profile_path": "/eUZW5X1FJ5utHKSw0ZqmOPhuUI.jpg"
           },
           {
            "cast_id": 4,
            "character": "Wulfric",
            "credit_id": "52fe43819251416c75012fff",
            "id": 54738,
            "name": "Jack Huston",
            "order": 2,
            "profile_path": "/fy9PKaLfxVMJ4Ycz8C7xdWrYvFi.jpg"
           },
           {
            "cast_id": 5,
            "character": "Gunnar",
            "credit_id": "52fe43819251416c75013003",
            "id": 2372,
            "name": "Ron Perlman",
            "order": 3,
            "profile_path": "/xZyrXT2iEmSOokQRc1hedmxrbTi.jpg"
           },
           {
            "cast_id": 6,
            "character": "Rothgar",
            "credit_id": "52fe43819251416c75013007",
            "id": 5049,
            "name": "John Hurt",
            "order": 4,
            "profile_path": "/rpuH2YRLpxJjMxHq4T1QdOSVtlN.jpg"
           },
           {
            "cast_id": 9,
            "character": "Boromir",
            "credit_id": "52fe43819251416c75013017",
            "id": 17638,
            "name": "Cliff Saunders",
            "order": 5,
            "profile_path": "/3c72UmrKyk05bXP07cY26j6R7Rr.jpg"
           },
           {
            "cast_id": 10,
            "character": "Unferth",
            "credit_id": "52fe43819251416c7501301b",
            "id": 175203,
            "name": "Patrick Stevenson",
            "order": 6,
            "profile_path": null
           },
           {
            "cast_id": 11,
            "character": "Einar",
            "credit_id": "52fe43819251416c7501301f",
            "id": 237,
            "name": "Aidan Devine",
            "order": 7,
            "profile_path": "/8RyUP2FYu4xuEkpJZFFlf2204Si.jpg"
           },
           {
            "cast_id": 12,
            "character": "Erick",
            "credit_id": "52fe43819251416c75013023",
            "id": 1059892,
            "name": "Bailey Maughan",
            "order": 8,
            "profile_path": null
           },
           {
            "cast_id": 13,
            "character": "Donal",
            "credit_id": "5314f2c09251410ffc0079c7",
            "id": 123307,
            "name": "John Nelles",
            "order": 9,
            "profile_path": null
           },
           {
            "cast_id": 14,
            "character": "Bjorn",
            "credit_id": "5314f2d79251411013007913",
            "id": 1084758,
            "name": "James Preston Rogers",
            "order": 10,
            "profile_path": null
           },
           {
            "cast_id": 15,
            "character": "Aethril",
            "credit_id": "5314f2f69251411042007ced",
            "id": 944870,
            "name": "Scott Owen",
            "order": 11,
            "profile_path": null
           },
           {
            "cast_id": 16,
            "character": "Mara",
            "credit_id": "5314f30d925141102a007b52",
            "id": 1298377,
            "name": "Petra Prazak",
            "order": 12,
            "profile_path": null
           },
           {
            "cast_id": 17,
            "character": "Galen, son of Kainen",
            "credit_id": "5314f327925141104d007cee",
            "id": 1032340,
            "name": "Owen Pattison",
            "order": 13,
            "profile_path": null
           },
           {
            "cast_id": 18,
            "character": "Captain",
            "credit_id": "5314f342925141104d007cf1",
            "id": 44237,
            "name": "Matt Cooke",
            "order": 14,
            "profile_path": null
           }
          ],
          "directors": [
           {
            "credit_id": "52fe43819251416c75012ff7",
            "department": "Directing",
            "id": 65525,
            "job": "Director",
            "name": "Howard McCain",
            "profile_path": "/wd6Z0ACz1KuM1LC1JaxAU9qheNI.jpg"
           }
          ],
          "genres": [
           {
            "id": 28,
            "name": "Action"
           },
           {
            "id": 14,
            "name": "Fantasy"
           },
           {
            "id": 878,
            "name": "Science Fiction"
           }
          ],
          "homepage": "",
          "id": 10529,
          "imdb_id": "tt0462465",
          "original_language": "en",
          "original_title": "Outlander",
          "overview": "During the reign of the Vikings, a man from another world crash-lands on Earth, bringing with him an alien predator. The man must fuse his advanced technology with the weaponry of the vikings to fight the monster.",
          "popularity": 0.808212990394027,
          "poster_path": "/fjRXOzuBEg0VGDM701ftBaVqWTr.jpg",
          "production_companies": [
           {
            "id": 1204,
            "name": "Ascendant Pictures"
           },
           {
            "id": 1208,
            "name": "Rising Star"
           },
           {
            "id": 2116,
            "name": "VIP Medienfonds 4"
           },
           {
            "id": 2366,
            "name": "Virtual Films"
           },
           {
            "id": 20571,
            "name": "Outlander Productions"
           }
          ],
          "production_countries": [
           {
            "iso_3166_1": "DE",
            "name": "Germany"
           },
           {
            "iso_3166_1": "US",
            "name": "United States of America"
           }
          ],
          "release_date": "2008-04-24",
          "revenue": 7033683,
          "runtime": 115,
          "spoken_languages": [
           {
            "iso_639_1": "en",
            "name": "English"
           }
          ],
          "status": "Released",
          "tagline": "It destroyed his world. He won't let it destroy ours.",
          "title": "Outlander",
          "video": false,
          "vote_average": 6.5,
          "vote_count": 79
         }
        },
        {
         "_id": "86825",
         "_index": "tmdb",
         "_score": 1.4361249,
         "_source": {
          "adult": false,
          "backdrop_path": "/beq4jThOwhV7Y4mu67ubx3kOvaS.jpg",
          "belongs_to_collection": null,
          "budget": 12000000,
          "cast": [
           {
            "cast_id": 4,
            "character": "India Stoker",
            "credit_id": "52fe49a39251416c910b3a9b",
            "id": 76070,
            "name": "Mia Wasikowska",
            "order": 0,
            "profile_path": "/nKAEc6rTdd2HoVgUyJr0F8gqqLm.jpg"
           },
           {
            "cast_id": 3,
            "character": "Evelyn 'Evie' Stoker",
            "credit_id": "52fe49a29251416c910b3a97",
            "id": 2227,
            "name": "Nicole Kidman",
            "order": 1,
            "profile_path": "/hnX12EBKXIK7XwBhLCGGcEnFdpf.jpg"
           },
           {
            "cast_id": 2,
            "character": "Richard Stoker",
            "credit_id": "52fe49a29251416c910b3a93",
            "id": 20212,
            "name": "Dermot Mulroney",
            "order": 2,
            "profile_path": "/4ZqA0SJ8KKZ1HvVdZZJlrqjxlq1.jpg"
           },
           {
            "cast_id": 5,
            "character": "Uncle Charlie Stoker",
            "credit_id": "52fe49a39251416c910b3a9f",
            "id": 1247,
            "name": "Matthew Goode",
            "order": 3,
            "profile_path": "/bSGvvLVbgpIFGLKj2CGeojsqOaH.jpg"
           },
           {
            "cast_id": 6,
            "character": "Chris Pitts",
            "credit_id": "52fe49a39251416c910b3aa3",
            "id": 429,
            "name": "Lucas Till",
            "order": 4,
            "profile_path": "/tzRh4clufpcLp7fQSP1nFFMwQi.jpg"
           },
           {
            "cast_id": 9,
            "character": "Aunt Gwendolyn 'Gin' Stoker",
            "credit_id": "52fe49a39251416c910b3aad",
            "id": 67837,
            "name": "Jacki Weaver",
            "order": 5,
            "profile_path": "/8VCKF5s8BFeVhEUjv5qZaZ3B8O9.jpg"
           },
           {
            "cast_id": 10,
            "character": "Sheriff Howard",
            "credit_id": "52fe49a39251416c910b3ab1",
            "id": 53916,
            "name": "Ralph Brown",
            "order": 6,
            "profile_path": "/ksIVhmaAB5oRiOkm9mDKALVkaJk.jpg"
           },
           {
            "cast_id": 11,
            "character": "Whip Taylor",
            "credit_id": "52fe49a39251416c910b3ab5",
            "id": 71375,
            "name": "Alden Ehrenreich",
            "order": 7,
            "profile_path": "/zJr5mpATjAxiJ1BRucMABJdys82.jpg"
           },
           {
            "cast_id": 23,
            "character": "Mrs. McGarrick",
            "credit_id": "52fe49a39251416c910b3afb",
            "id": 17184,
            "name": "Phyllis Somerville",
            "order": 8,
            "profile_path": "/urk7FglqBEQVHQibXOAbBgBIMZv.jpg"
           },
           {
            "cast_id": 24,
            "character": "Reverend",
            "credit_id": "52fe49a39251416c910b3aff",
            "id": 944159,
            "name": "David Alford",
            "order": 9,
            "profile_path": null
           },
           {
            "cast_id": 25,
            "character": "Housekeeper",
            "credit_id": "52fe49a39251416c910b3b03",
            "id": 128211,
            "name": "Peg Allen",
            "order": 10,
            "profile_path": null
           },
           {
            "cast_id": 26,
            "character": "Housekeeper",
            "credit_id": "52fe49a39251416c910b3b07",
            "id": 149569,
            "name": "Lauren E. Roman",
            "order": 11,
            "profile_path": null
           },
           {
            "cast_id": 27,
            "character": "Young Richard Stoker",
            "credit_id": "52fe49a39251416c910b3b0b",
            "id": 1271786,
            "name": "Tyler von Tagen",
            "order": 12,
            "profile_path": null
           },
           {
            "cast_id": 28,
            "character": "Young Charles Stoker",
            "credit_id": "52fe49a39251416c910b3b0f",
            "id": 1271787,
            "name": "Thomas A. Covert",
            "order": 13,
            "profile_path": null
           },
           {
            "cast_id": 29,
            "character": "Jonathan SToker",
            "credit_id": "52fe49a39251416c910b3b13",
            "id": 1271788,
            "name": "Jaxon Johnson",
            "order": 14,
            "profile_path": null
           },
           {
            "cast_id": 30,
            "character": "Jonathan Stoker",
            "credit_id": "52fe49a39251416c910b3b17",
            "id": 1271789,
            "name": "Paxton Johnson",
            "order": 15,
            "profile_path": null
           },
           {
            "cast_id": 31,
            "character": "Doctor Jacquin",
            "credit_id": "52fe49a39251416c910b3b1b",
            "id": 73937,
            "name": "Judith Godrèche",
            "order": 16,
            "profile_path": "/mbIrbBymdMVZIaNv0bDGUXKV7p7.jpg"
           }
          ],
          "directors": [
           {
            "credit_id": "52fe49a29251416c910b3a8f",
            "department": "Directing",
            "id": 10099,
            "job": "Director",
            "name": "Park Chan-wook",
            "profile_path": "/eFRXaT3RMoPemwDLNvfiFP0h8RX.jpg"
           }
          ],
          "genres": [
           {
            "id": 18,
            "name": "Drama"
           },
           {
            "id": 27,
            "name": "Horror"
           },
           {
            "id": 53,
            "name": "Thriller"
           }
          ],
          "homepage": "http://www.foxsearchlight.com/stoker/",
          "id": 86825,
          "imdb_id": "tt1682180",
          "original_language": "en",
          "original_title": "Stoker",
          "overview": "After India's father dies, her Uncle Charlie, who she never knew existed, comes to live with her and her unstable mother. She comes to suspect this mysterious, charming man has ulterior motives and becomes increasingly infatuated with him.",
          "popularity": 1.58980200186411,
          "poster_path": "/vq4Medvdxd2G6WJXhN5vWHnWEhK.jpg",
          "production_companies": [
           {
            "id": 43,
            "name": "Fox Searchlight Pictures"
           },
           {
            "id": 9350,
            "name": "Indian Paintbrush"
           },
           {
            "id": 1645,
            "name": "Scott Free Productions"
           }
          ],
          "production_countries": [
           {
            "iso_3166_1": "US",
            "name": "United States of America"
           }
          ],
          "release_date": "2013-03-01",
          "revenue": 12077441,
          "runtime": 98,
          "spoken_languages": [
           {
            "iso_639_1": "en",
            "name": "English"
           }
          ],
          "status": "Released",
          "tagline": "Innocence Ends.",
          "title": "Stoker",
          "video": false,
          "vote_average": 6.1,
          "vote_count": 342
         }
        },
        {
         "_id": "13635",
         "_index": "tmdb",
         "_score": 1.4361249,
         "_source": {
          "adult": false,
          "backdrop_path": "/fmRdkt5PCvGYY9swmLky8xfdoKv.jpg",
          "belongs_to_collection": {
           "backdrop_path": "/3SirYFnkQwYhAec3ugZS8BKpMbk.jpg",
           "id": 85945,
           "name": "The Mesrine Collection",
           "poster_path": "/kFUC6s54Q8jn1eNBqs6xOGa2jeL.jpg"
          },
          "budget": 0,
          "cast": [
           {
            "cast_id": 2,
            "character": "Jacques Mesrine",
            "credit_id": "52fe45859251416c75059647",
            "id": 1925,
            "name": "Vincent Cassel",
            "order": 0,
            "profile_path": "/yTTyX7xziiMibm0nzcH5z6xxLLv.jpg"
           },
           {
            "cast_id": 3,
            "character": "Jeanne Schneider",
            "credit_id": "52fe45859251416c7505964b",
            "id": 17522,
            "name": "Cécile De France",
            "order": 1,
            "profile_path": "/uT7XqtuF0XzLXsrjO4qvepOJnXA.jpg"
           },
           {
            "cast_id": 4,
            "character": "Guido",
            "credit_id": "52fe45859251416c7505964f",
            "id": 16927,
            "name": "Gérard Depardieu",
            "order": 2,
            "profile_path": "/kWGuy8UI8y3uqqCVoFvBVBe8w0J.jpg"
           },
           {
            "cast_id": 5,
            "character": "Paul",
            "credit_id": "52fe45859251416c75059653",
            "id": 54291,
            "name": "Gilles Lellouche",
            "order": 3,
            "profile_path": "/A4bSPMA9aSVumMtz7WRQCvKyYMp.jpg"
           },
           {
            "cast_id": 16,
            "character": "Jean-Paul Mercier",
            "credit_id": "52fe45859251416c75059693",
            "id": 56977,
            "name": "Roy Dupuis",
            "order": 4,
            "profile_path": "/nciXJYsOO0UvIZL1HnKlBVmeyWT.jpg"
           },
           {
            "cast_id": 17,
            "character": "Sofia",
            "credit_id": "52fe45859251416c75059697",
            "id": 3623,
            "name": "Elena Anaya",
            "order": 5,
            "profile_path": "/5qq1tPZQ8XLn4oa6YwCuj1gqTQI.jpg"
           },
           {
            "cast_id": 18,
            "character": "Sarah",
            "credit_id": "52fe45859251416c7505969b",
            "id": 66838,
            "name": "Florence Thomassin",
            "order": 6,
            "profile_path": "/dTl02iZ9mgxbXOLElidgqr79ZDX.jpg"
           },
           {
            "cast_id": 19,
            "character": "Pierre André Mesrine",
            "credit_id": "52fe45859251416c7505969f",
            "id": 19062,
            "name": "Michel Duchaussoy",
            "order": 7,
            "profile_path": "/AeLrVLGaXr96zCZQCo4JWiMiOZq.jpg"
           },
           {
            "cast_id": 20,
            "character": "Ahmed",
            "credit_id": "52fe45859251416c750596a3",
            "id": 67145,
            "name": "Abdelhafid Metalsi",
            "order": 8,
            "profile_path": null
           },
           {
            "cast_id": 21,
            "character": "Roger André",
            "credit_id": "52fe45859251416c750596a7",
            "id": 548035,
            "name": "Deano Clavet",
            "order": 9,
            "profile_path": "/fGFF153oy3GLRdCOp4r6ewlnp41.jpg"
           },
           {
            "cast_id": 22,
            "character": "Sylvie Jeanjacquot",
            "credit_id": "52fe45859251416c750596ab",
            "id": 4390,
            "name": "Ludivine Sagnier",
            "order": 10,
            "profile_path": "/sc0yD6DWgYsMKBpKrYqaZDYz8SX.jpg"
           }
          ],
          "directors": [
           {
            "credit_id": "52fe45859251416c75059659",
            "department": "Directing",
            "id": 58324,
            "job": "Director",
            "name": "Jean-François Richet",
            "profile_path": null
           }
          ],
          "genres": [
           {
            "id": 28,
            "name": "Action"
           },
           {
            "id": 80,
            "name": "Crime"
           },
           {
            "id": 18,
            "name": "Drama"
           },
           {
            "id": 53,
            "name": "Thriller"
           }
          ],
          "homepage": "http://www.mesrine-lefilm.com/",
          "id": 13635,
          "imdb_id": "tt1259014",
          "original_language": "en",
          "original_title": "L'Instinct de mort",
          "overview": "The early career (1959-’70) of outlaw Jacques Mesrine (Cassel), covering his military service in Algeria, apprenticeship with a Paris gang-lord (Depardieu), crime-spree partnership with soulmate Jeanne (De France) and escape from a tough Canadian prison.",
          "popularity": 0.473035768753766,
          "poster_path": "/kX572fQIR1nVfONRlp3j6htYq3.jpg",
          "production_companies": [
           {
            "id": 1992,
            "name": "La Petite Reine"
           },
           {
            "id": 4298,
            "name": "Remstar Productions"
           },
           {
            "id": 1996,
            "name": "Novo RPI"
           }
          ],
          "production_countries": [
           {
            "iso_3166_1": "CA",
            "name": "Canada"
           },
           {
            "iso_3166_1": "FR",
            "name": "France"
           },
           {
            "iso_3166_1": "IT",
            "name": "Italy"
           }
          ],
          "release_date": "2008-10-22",
          "revenue": 31055440,
          "runtime": 113,
          "spoken_languages": [
           {
            "iso_639_1": "fr",
            "name": "Français"
           },
           {
            "iso_639_1": "es",
            "name": "Español"
           },
           {
            "iso_639_1": "ar",
            "name": "العربية"
           },
           {
            "iso_639_1": "en",
            "name": "English"
           }
          ],
          "status": "Released",
          "tagline": "",
          "title": "Mesrine: Killer Instinct",
          "video": false,
          "vote_average": 7.5,
          "vote_count": 60
         }
        }
       ],
       "max_score": 85.56929,
       "total": {
        "relation": "eq",
        "value": 1197
       }
      },
      "text/plain": [
       "<IPython.core.display.JSON object>"
      ]
     },
     "execution_count": 35,
     "metadata": {
      "application/json": {
       "expanded": false,
       "root": "root"
      }
     },
     "output_type": "execute_result"
    }
   ],
   "source": [
    "usersSearch = 'basketball with cartoon aliens'\n",
    "query = {\n",
    "    'query': {\n",
    "        'multi_match': { \n",
    "            'query': usersSearch, #A\n",
    "            'fields': ['title^10', 'overview'], #B\n",
    "        },\n",
    "    },\n",
    "    'size': '100'\n",
    "}\n",
    "JSON(search(client, query))\n"
   ]
  },
  {
   "cell_type": "code",
   "execution_count": null,
   "id": "3197622c",
   "metadata": {},
   "outputs": [],
   "source": [
    "# 2.4.1\tDecomposing Relevance Score With Lucene’s Explain"
   ]
  },
  {
   "cell_type": "code",
   "execution_count": 53,
   "id": "a38fa2f1",
   "metadata": {},
   "outputs": [
    {
     "name": "stdout",
     "output_type": "stream",
     "text": [
      "Explain for Meet Dave\n",
      "9.305035, max of:\n",
      "  9.305035, sum of:\n",
      "    1.1264597, weight(overview:with in 799) [PerFieldSimilarity], result of:\n",
      "      1.1264597, score(freq=1.0), computed as boost * idf * tf from:\n",
      "        2.2, boost\n",
      "        0.9614616, idf, computed as log(1 + (N - n + 0.5) / (n + 0.5)) from:\n",
      "          1166, n, number of documents containing term\n",
      "          3050, N, total number of documents with field\n",
      "        0.5325508, tf, computed as freq / (freq + k1 * (1 - b + b * dl / avgdl)) from:\n",
      "          1.0, freq, occurrences of term within document\n",
      "          1.2, k1, term saturation parameter\n",
      "          0.75, b, length normalization parameter\n",
      "          34.0, dl, length of field\n",
      "          52.963608, avgdl, average length of field\n",
      "    8.178575, weight(overview:aliens in 799) [PerFieldSimilarity], result of:\n",
      "      8.178575, score(freq=2.0), computed as boost * idf * tf from:\n",
      "        2.2, boost\n",
      "        5.3490763, idf, computed as log(1 + (N - n + 0.5) / (n + 0.5)) from:\n",
      "          14, n, number of documents containing term\n",
      "          3050, N, total number of documents with field\n",
      "        0.69498616, tf, computed as freq / (freq + k1 * (1 - b + b * dl / avgdl)) from:\n",
      "          2.0, freq, occurrences of term within document\n",
      "          1.2, k1, term saturation parameter\n",
      "          0.75, b, length normalization parameter\n",
      "          34.0, dl, length of field\n",
      "          52.963608, avgdl, average length of field\n",
      "\n",
      "Explain for Speed Racer\n",
      "8.257416, max of:\n",
      "  8.257416, sum of:\n",
      "    0.9839859, weight(overview:with in 73) [PerFieldSimilarity], result of:\n",
      "      0.9839859, score(freq=1.0), computed as boost * idf * tf from:\n",
      "        2.2, boost\n",
      "        0.9614616, idf, computed as log(1 + (N - n + 0.5) / (n + 0.5)) from:\n",
      "          1166, n, number of documents containing term\n",
      "          3050, N, total number of documents with field\n",
      "        0.46519417, tf, computed as freq / (freq + k1 * (1 - b + b * dl / avgdl)) from:\n",
      "          1.0, freq, occurrences of term within document\n",
      "          1.2, k1, term saturation parameter\n",
      "          0.75, b, length normalization parameter\n",
      "          50.0, dl, length of field (approximate)\n",
      "          52.963608, avgdl, average length of field\n",
      "    7.27343, weight(overview:cartoon in 73) [PerFieldSimilarity], result of:\n",
      "      7.27343, score(freq=1.0), computed as boost * idf * tf from:\n",
      "        2.2, boost\n",
      "        7.106934, idf, computed as log(1 + (N - n + 0.5) / (n + 0.5)) from:\n",
      "          2, n, number of documents containing term\n",
      "          3050, N, total number of documents with field\n",
      "        0.46519417, tf, computed as freq / (freq + k1 * (1 - b + b * dl / avgdl)) from:\n",
      "          1.0, freq, occurrences of term within document\n",
      "          1.2, k1, term saturation parameter\n",
      "          0.75, b, length normalization parameter\n",
      "          50.0, dl, length of field (approximate)\n",
      "          52.963608, avgdl, average length of field\n",
      "\n",
      "Explain for Aliens in the Attic\n",
      "8.007193, max of:\n",
      "  8.007193, sum of:\n",
      "    1.0401204, weight(overview:with in 1272) [PerFieldSimilarity], result of:\n",
      "      1.0401204, score(freq=2.0), computed as boost * idf * tf from:\n",
      "        2.2, boost\n",
      "        0.9614616, idf, computed as log(1 + (N - n + 0.5) / (n + 0.5)) from:\n",
      "          1166, n, number of documents containing term\n",
      "          3050, N, total number of documents with field\n",
      "        0.4917326, tf, computed as freq / (freq + k1 * (1 - b + b * dl / avgdl)) from:\n",
      "          2.0, freq, occurrences of term within document\n",
      "          1.2, k1, term saturation parameter\n",
      "          0.75, b, length normalization parameter\n",
      "          104.0, dl, length of field (approximate)\n",
      "          52.963608, avgdl, average length of field\n",
      "    6.967072, weight(overview:aliens in 1272) [PerFieldSimilarity], result of:\n",
      "      6.967072, score(freq=3.0), computed as boost * idf * tf from:\n",
      "        2.2, boost\n",
      "        5.3490763, idf, computed as log(1 + (N - n + 0.5) / (n + 0.5)) from:\n",
      "          14, n, number of documents containing term\n",
      "          3050, N, total number of documents with field\n",
      "        0.59203696, tf, computed as freq / (freq + k1 * (1 - b + b * dl / avgdl)) from:\n",
      "          3.0, freq, occurrences of term within document\n",
      "          1.2, k1, term saturation parameter\n",
      "          0.75, b, length normalization parameter\n",
      "          104.0, dl, length of field (approximate)\n",
      "          52.963608, avgdl, average length of field\n",
      "  0.5350183, sum of:\n",
      "    0.5350183, weight(title:aliens in 1272) [PerFieldSimilarity], result of:\n",
      "      0.5350183, score(freq=1.0), computed as boost * idf * tf from:\n",
      "        0.22000001, boost\n",
      "        6.3188043, idf, computed as log(1 + (N - n + 0.5) / (n + 0.5)) from:\n",
      "          5, n, number of documents containing term\n",
      "          3051, N, total number of documents with field\n",
      "        0.3848673, tf, computed as freq / (freq + k1 * (1 - b + b * dl / avgdl)) from:\n",
      "          1.0, freq, occurrences of term within document\n",
      "          1.2, k1, term saturation parameter\n",
      "          0.75, b, length normalization parameter\n",
      "          4.0, dl, length of field\n",
      "          2.7728612, avgdl, average length of field\n",
      "\n",
      "Explain for Space Jam\n",
      "7.975379, max of:\n",
      "  7.975379, sum of:\n",
      "    7.975379, weight(overview:basketball in 499) [PerFieldSimilarity], result of:\n",
      "      7.975379, score(freq=1.0), computed as boost * idf * tf from:\n",
      "        2.2, boost\n",
      "        5.8831587, idf, computed as log(1 + (N - n + 0.5) / (n + 0.5)) from:\n",
      "          8, n, number of documents containing term\n",
      "          3050, N, total number of documents with field\n",
      "        0.6161949, tf, computed as freq / (freq + k1 * (1 - b + b * dl / avgdl)) from:\n",
      "          1.0, freq, occurrences of term within document\n",
      "          1.2, k1, term saturation parameter\n",
      "          0.75, b, length normalization parameter\n",
      "          19.0, dl, length of field\n",
      "          52.963608, avgdl, average length of field\n",
      "\n",
      "Explain for Alien: Resurrection\n",
      "6.6692567, max of:\n",
      "  6.6692567, sum of:\n",
      "    1.0161153, weight(overview:with in 199) [PerFieldSimilarity], result of:\n",
      "      1.0161153, score(freq=1.0), computed as boost * idf * tf from:\n",
      "        2.2, boost\n",
      "        0.9614616, idf, computed as log(1 + (N - n + 0.5) / (n + 0.5)) from:\n",
      "          1166, n, number of documents containing term\n",
      "          3050, N, total number of documents with field\n",
      "        0.4803838, tf, computed as freq / (freq + k1 * (1 - b + b * dl / avgdl)) from:\n",
      "          1.0, freq, occurrences of term within document\n",
      "          1.2, k1, term saturation parameter\n",
      "          0.75, b, length normalization parameter\n",
      "          46.0, dl, length of field (approximate)\n",
      "          52.963608, avgdl, average length of field\n",
      "    5.6531415, weight(overview:aliens in 199) [PerFieldSimilarity], result of:\n",
      "      5.6531415, score(freq=1.0), computed as boost * idf * tf from:\n",
      "        2.2, boost\n",
      "        5.3490763, idf, computed as log(1 + (N - n + 0.5) / (n + 0.5)) from:\n",
      "          14, n, number of documents containing term\n",
      "          3050, N, total number of documents with field\n",
      "        0.4803838, tf, computed as freq / (freq + k1 * (1 - b + b * dl / avgdl)) from:\n",
      "          1.0, freq, occurrences of term within document\n",
      "          1.2, k1, term saturation parameter\n",
      "          0.75, b, length normalization parameter\n",
      "          46.0, dl, length of field (approximate)\n",
      "          52.963608, avgdl, average length of field\n",
      "\n"
     ]
    }
   ],
   "source": [
    "query['explain'] = True\n",
    "httpResp = requests.get('http://localhost:9200/tmdb/_search', \n",
    "                        data=json.dumps(query), auth=basic,\n",
    "                        headers={'content-type': 'application/json'})\n",
    "jsonResp = json.loads(httpResp.text)\n",
    "#print(json.dumps(jsonResp['hits']['hits'][0]['_explanation'], indent=True))\n",
    "print(\"Explain for %s\" % jsonResp['hits']['hits'][0]['_source']['title'])\n",
    "print(simplerExplain(jsonResp['hits']['hits'][0]['_explanation']))\n",
    "print(\"Explain for %s\" % jsonResp['hits']['hits'][1]['_source']['title'])\n",
    "print(simplerExplain(jsonResp['hits']['hits'][1]['_explanation']))\n",
    "print(\"Explain for %s\" % jsonResp['hits']['hits'][2]['_source']['title'])\n",
    "print(simplerExplain(jsonResp['hits']['hits'][2]['_explanation']))\n",
    "print(\"Explain for %s\" % jsonResp['hits']['hits'][3]['_source']['title'])\n",
    "print(simplerExplain(jsonResp['hits']['hits'][3]['_explanation']))\n",
    "print(\"Explain for %s\" % jsonResp['hits']['hits'][9]['_source']['title'])\n",
    "print(simplerExplain(jsonResp['hits']['hits'][9]['_explanation']))\n",
    "\n"
   ]
  },
  {
   "cell_type": "markdown",
   "id": "d978c35f-6b2f-406a-b507-30e6a21eca41",
   "metadata": {},
   "source": [
    "# 3.4.4\tFixing Space Jam vs Alien Ranking"
   ]
  },
  {
   "cell_type": "code",
   "execution_count": 55,
   "id": "5c7ecef4",
   "metadata": {},
   "outputs": [
    {
     "data": {
      "application/json": {
       "hits": [
        {
         "_id": "11260",
         "_index": "tmdb",
         "_score": 9.305035,
         "_source": {
          "adult": false,
          "backdrop_path": "/dvzGZAJOYDVqSjTJTst6x6Wu7Fi.jpg",
          "belongs_to_collection": null,
          "budget": 60,
          "cast": [
           {
            "cast_id": 14,
            "character": "Dave Ming Chang / Kapitän",
            "credit_id": "52fe441c9251416c75029229",
            "id": 776,
            "name": "Eddie Murphy",
            "order": 0,
            "profile_path": "/WlmlpM6YeQwgEmOX0n4bVZ08dc.jpg"
           },
           {
            "cast_id": 15,
            "character": "Gina Morrison",
            "credit_id": "52fe441c9251416c7502922d",
            "id": 9281,
            "name": "Elizabeth Banks",
            "order": 1,
            "profile_path": "/w2RrVNLQa4ApXhpIgWTkpNVS2kd.jpg"
           },
           {
            "cast_id": 16,
            "character": "Nr.3- Kulturoffizierin",
            "credit_id": "52fe441c9251416c75029231",
            "id": 17773,
            "name": "Gabrielle Union",
            "order": 2,
            "profile_path": "/1UeaAGWmzmTPCZ9mYQVA27yTMPJ.jpg"
           },
           {
            "cast_id": 17,
            "character": "Dooley",
            "credit_id": "52fe441c9251416c75029235",
            "id": 1894,
            "name": "Scott Caan",
            "order": 3,
            "profile_path": "/kvUKf9HCaqUtgj7XuKZOvN66MOT.jpg"
           },
           {
            "cast_id": 18,
            "character": "Nr.2- Stellvertreter des Kapitäns",
            "credit_id": "52fe441c9251416c75029239",
            "id": 27105,
            "name": "Ed Helms",
            "order": 4,
            "profile_path": "/cxE76QqiI6LQh3kRAAEDtH39DQd.jpg"
           },
           {
            "cast_id": 19,
            "character": "Nr. 17",
            "credit_id": "52fe441c9251416c7502923d",
            "id": 55638,
            "name": "Kevin Hart",
            "order": 5,
            "profile_path": "/nTYKqSQzJ9VlYKgqoES7WIDHywi.jpg"
           },
           {
            "cast_id": 21,
            "character": "Nr.4- Sicherheitsoffizier",
            "credit_id": "52fe441c9251416c75029241",
            "id": 68836,
            "name": "Pat Kilbane",
            "order": 6,
            "profile_path": "/4GUyFuVlpedrN2iucZmfEXuoGu9.jpg"
           },
           {
            "cast_id": 22,
            "character": "Ingenieur",
            "credit_id": "52fe441c9251416c75029245",
            "id": 52860,
            "name": "Judah Friedlander",
            "order": 7,
            "profile_path": "/bsnVSqqK7DNWZNv6RRp2BPuKqxJ.jpg"
           },
           {
            "cast_id": 23,
            "character": "Mark",
            "credit_id": "52fe441c9251416c75029249",
            "id": 46772,
            "name": "Marc Blucas",
            "order": 8,
            "profile_path": "/5OdBu0DFKca1mxjeqNruz00DSRF.jpg"
           },
           {
            "cast_id": 24,
            "character": "Doktor",
            "credit_id": "52fe441c9251416c7502924d",
            "id": 58768,
            "name": "Jim Turner",
            "order": 9,
            "profile_path": "/mujwEKBe86I89VblEvK3zQbE81j.jpg"
           },
           {
            "cast_id": 25,
            "character": "Josh Morrison",
            "credit_id": "52fe441c9251416c75029251",
            "id": 68837,
            "name": "Austyn Myers",
            "order": 10,
            "profile_path": null
           },
           {
            "cast_id": 26,
            "character": "Old Navy Customer",
            "credit_id": "52fe441c9251416c75029255",
            "id": 91274,
            "name": "Mario Loya",
            "order": 11,
            "profile_path": null
           },
           {
            "cast_id": 27,
            "character": "Knox",
            "credit_id": "52fe441c9251416c75029259",
            "id": 87192,
            "name": "Mike O'Malley",
            "order": 12,
            "profile_path": "/9VwiKnQySJN7buvCg53v4NB5Tj7.jpg"
           },
           {
            "cast_id": 29,
            "character": "Nerdy Girl",
            "credit_id": "52fe441c9251416c75029263",
            "id": 154997,
            "name": "Allisyn Ashley Arm",
            "order": 13,
            "profile_path": "/rotyaTzDwEooYsy0HnP7wI6XMpF.jpg"
           }
          ],
          "directors": [
           {
            "credit_id": "52fe441c9251416c750291e3",
            "department": "Directing",
            "id": 53177,
            "job": "Director",
            "name": "Brian Robbins",
            "profile_path": "/l7UfY9nBeus8bHHXvf3mUmtagQJ.jpg"
           }
          ],
          "genres": [
           {
            "id": 12,
            "name": "Adventure"
           },
           {
            "id": 35,
            "name": "Comedy"
           },
           {
            "id": 878,
            "name": "Science Fiction"
           },
           {
            "id": 10749,
            "name": "Romance"
           },
           {
            "id": 10751,
            "name": "Family"
           }
          ],
          "homepage": "http://www.meetdavemovie.com/",
          "id": 11260,
          "imdb_id": "tt0765476",
          "original_language": "en",
          "original_title": "Meet Dave",
          "overview": "A crew of miniature aliens operate a spaceship that has a human form. While trying to save their planet, the aliens encounter a new problem, as their ship becomes smitten with an Earth woman.",
          "popularity": 0.452781858174432,
          "poster_path": "/qOnhIXHq12airS0iLMFpYoo9CZa.jpg",
          "production_companies": [
           {
            "id": 25,
            "name": "20th Century Fox"
           },
           {
            "id": 2645,
            "name": "Guy Walks into a Bar Productions"
           },
           {
            "id": 2646,
            "name": "Deep River Productions"
           }
          ],
          "production_countries": [
           {
            "iso_3166_1": "US",
            "name": "United States of America"
           }
          ],
          "release_date": "2008-07-08",
          "revenue": 11,
          "runtime": 90,
          "spoken_languages": [
           {
            "iso_639_1": "en",
            "name": "English"
           }
          ],
          "status": "Released",
          "tagline": "There's a Whole Other World Going on Inside of Him.",
          "title": "Meet Dave",
          "video": false,
          "vote_average": 5.3,
          "vote_count": 73
         }
        },
        {
         "_id": "7459",
         "_index": "tmdb",
         "_score": 8.257416,
         "_source": {
          "adult": false,
          "backdrop_path": "/5tbEFOVutwr0HdihrGj27eGIsxC.jpg",
          "belongs_to_collection": null,
          "budget": 120000000,
          "cast": [
           {
            "cast_id": 1,
            "character": "Speed Racer",
            "credit_id": "52fe447ec3a36847f8099887",
            "id": 46593,
            "name": "Emile Hirsch",
            "order": 0,
            "profile_path": "/qSiUKKhJLD7LCZdfz7rQOhNpxO1.jpg"
           },
           {
            "cast_id": 2,
            "character": "Trixie",
            "credit_id": "52fe447ec3a36847f809988b",
            "id": 6886,
            "name": "Christina Ricci",
            "order": 1,
            "profile_path": "/xe7SJRFdvqPHNoWxhbIFAz5Xx8x.jpg"
           },
           {
            "cast_id": 3,
            "character": "Racer X",
            "credit_id": "52fe447ec3a36847f809988f",
            "id": 28657,
            "name": "Matthew Fox",
            "order": 2,
            "profile_path": "/o8hMOleGaZ4BbZQFJXrU0xtMsSI.jpg"
           },
           {
            "cast_id": 4,
            "character": "Mom Racer",
            "credit_id": "52fe447ec3a36847f8099893",
            "id": 4038,
            "name": "Susan Sarandon",
            "order": 3,
            "profile_path": "/rjK7SERcPfwnRtPtOwH6EcvdWX4.jpg"
           },
           {
            "cast_id": 5,
            "character": "Rex Racer",
            "credit_id": "52fe447ec3a36847f8099897",
            "id": 53368,
            "name": "Scott Porter",
            "order": 4,
            "profile_path": "/1R6q8umfHD4Fka1Qc5em1wWR2mi.jpg"
           },
           {
            "cast_id": 6,
            "character": "Pops Racer",
            "credit_id": "52fe447ec3a36847f809989b",
            "id": 1230,
            "name": "John Goodman",
            "order": 5,
            "profile_path": "/mLJC7sRO3JnGkySJlwCJblvhBHm.jpg"
           },
           {
            "cast_id": 7,
            "character": "Mr. Musha",
            "credit_id": "52fe447ec3a36847f809989f",
            "id": 9195,
            "name": "Hiroyuki Sanada",
            "order": 6,
            "profile_path": "/fljn2lkeej3gAwSOvXXMVVQlA2K.jpg"
           },
           {
            "cast_id": 13,
            "character": "Fuji Announcer",
            "credit_id": "52fe447fc3a36847f80998bb",
            "id": 44792,
            "name": "Art LaFleur",
            "order": 7,
            "profile_path": "/4rEvPSEtiOeYfqNzwZ6PnCCAP9F.jpg"
           },
           {
            "cast_id": 14,
            "character": "Ben Burns",
            "credit_id": "52fe447fc3a36847f80998bf",
            "id": 6487,
            "name": "Richard Roundtree",
            "order": 8,
            "profile_path": "/3OyAx3Vrv1mQLOvl7YHaIaFwDuW.jpg"
           },
           {
            "cast_id": 15,
            "character": "Mr. Togokahn",
            "credit_id": "52fe447fc3a36847f80998c3",
            "id": 9192,
            "name": "Togo Igawa",
            "order": 9,
            "profile_path": "/b67aPXMDFfDPKum0hyqAAO7KfSK.jpg"
           },
           {
            "cast_id": 16,
            "character": "Horuko Togokahn",
            "credit_id": "52fe447fc3a36847f80998c7",
            "id": 27084,
            "name": "Nan Yu",
            "order": 10,
            "profile_path": "/xKWnjXyp5wb6HVbj5CbY7gywLTL.jpg"
           },
           {
            "cast_id": 17,
            "character": "Gennie",
            "credit_id": "52fe447fc3a36847f80998cb",
            "id": 16718,
            "name": "Cosma Shiva Hagen",
            "order": 11,
            "profile_path": "/qEx7ERu90J6iHp2gjmTiehJpnZu.jpg"
           },
           {
            "cast_id": 18,
            "character": "Royalton",
            "credit_id": "52fe447fc3a36847f80998cf",
            "id": 11279,
            "name": "Roger Allam",
            "order": 12,
            "profile_path": "/gr59GfVZz9QV6jZyHKOsKCBxXPr.jpg"
           },
           {
            "cast_id": 19,
            "character": "Minx",
            "credit_id": "52fe447fc3a36847f80998d3",
            "id": 1050936,
            "name": "Nayo Wallace",
            "order": 13,
            "profile_path": null
           },
           {
            "cast_id": 20,
            "character": "Taejo Togokahn",
            "credit_id": "52fe447fc3a36847f80998d7",
            "id": 112013,
            "name": "Rain",
            "order": 14,
            "profile_path": "/7oLrI71PNp9iGwJkgr2Bq34t2Yt.jpg"
           },
           {
            "cast_id": 41,
            "character": "Grey Ghost",
            "credit_id": "5364e89f0e0a2647db001302",
            "id": 677,
            "name": "Moritz Bleibtreu",
            "order": 15,
            "profile_path": "/1b6TCGecTnKDw3HW5bQzHSeIsW1.jpg"
           },
           {
            "cast_id": 42,
            "character": "Inspektor Detektor",
            "credit_id": "5364e8ae0e0a2647d10012ed",
            "id": 11953,
            "name": "Benno Fürmann",
            "order": 16,
            "profile_path": "/oaOk5Sm3yTxO1QAnYiQVVDfHGMg.jpg"
           },
           {
            "cast_id": 43,
            "character": "Cannonball Taylor",
            "credit_id": "5364e8bf0e0a2647d80013a7",
            "id": 1856,
            "name": "Ralph Herforth",
            "order": 17,
            "profile_path": "/3soxWivaOiRS05nP5KfbCTg9nPs.jpg"
           }
          ],
          "directors": [
           {
            "credit_id": "52fe447ec3a36847f80998a5",
            "department": "Directing",
            "id": 9340,
            "job": "Director",
            "name": "Lana Wachowski",
            "profile_path": "/8mbcXfOpmOiDLk6ZWfMsBGHEnet.jpg"
           },
           {
            "credit_id": "52fe447fc3a36847f80998b7",
            "department": "Directing",
            "id": 9339,
            "job": "Director",
            "name": "Andy Wachowski",
            "profile_path": "/nh5SBuv9cm1FByTc7dlV0zyO3GO.jpg"
           }
          ],
          "genres": [
           {
            "id": 28,
            "name": "Action"
           },
           {
            "id": 53,
            "name": "Thriller"
           },
           {
            "id": 10751,
            "name": "Family"
           }
          ],
          "homepage": "http://www.speedracerthemovie.warnerbros.com/",
          "id": 7459,
          "imdb_id": "tt0811080",
          "original_language": "en",
          "original_title": "Speed Racer",
          "overview": "Speed racer is the tale of a young and brilliant racing driver. When corruption in the racing leagues costs his brother his life, he must team up with the police and the mysterious Racer X to bring and end to the corruption and criminal activities. Inspired by the cartoon series.",
          "popularity": 0.479403301198401,
          "poster_path": "/zTplGrRuGcjzB9F9t7MC7DMiM43.jpg",
          "production_companies": [
           {
            "id": 79,
            "name": "Village Roadshow Pictures"
           },
           {
            "id": 174,
            "name": "Warner Bros. Pictures"
           },
           {
            "id": 1885,
            "name": "Silver Pictures"
           },
           {
            "id": 450,
            "name": "Anarchos Productions"
           },
           {
            "id": 12170,
            "name": "Velocity Productions"
           },
           {
            "id": 12171,
            "name": "Sechste Babelsberg Film"
           }
          ],
          "production_countries": [
           {
            "iso_3166_1": "AU",
            "name": "Australia"
           },
           {
            "iso_3166_1": "DE",
            "name": "Germany"
           },
           {
            "iso_3166_1": "US",
            "name": "United States of America"
           }
          ],
          "release_date": "2008-05-09",
          "revenue": 93945766,
          "runtime": 135,
          "spoken_languages": [
           {
            "iso_639_1": "en",
            "name": "English"
           }
          ],
          "status": "Released",
          "tagline": "Go!",
          "title": "Speed Racer",
          "video": false,
          "vote_average": 5.6,
          "vote_count": 94
         }
        },
        {
         "_id": "20856",
         "_index": "tmdb",
         "_score": 8.007193,
         "_source": {
          "adult": false,
          "backdrop_path": "/y66K59c1uxhnM45ZtG5xyOVC8yx.jpg",
          "belongs_to_collection": null,
          "budget": 0,
          "cast": [
           {
            "cast_id": 4,
            "character": "Tom Pearson",
            "credit_id": "52fe43fdc3a368484e0097b5",
            "id": 86653,
            "name": "Carter Jenkins",
            "order": 0,
            "profile_path": "/6Sph044iNZRupQecuuReiaQT52.jpg"
           },
           {
            "cast_id": 5,
            "character": "Jake Pearson",
            "credit_id": "52fe43fdc3a368484e0097b9",
            "id": 86654,
            "name": "Austin Butler",
            "order": 1,
            "profile_path": "/3TIOELfWkg8rkk0AJVRMlSQFLVJ.jpg"
           },
           {
            "cast_id": 6,
            "character": "Stuart Pearson",
            "credit_id": "52fe43fdc3a368484e0097bd",
            "id": 58478,
            "name": "Kevin Nealon",
            "order": 2,
            "profile_path": "/aVp6F3hliJp7dOZsIdwTRIaRx71.jpg"
           },
           {
            "cast_id": 7,
            "character": "Ricky Dillman",
            "credit_id": "52fe43fdc3a368484e0097c1",
            "id": 58368,
            "name": "Robert Hoffman",
            "order": 3,
            "profile_path": "/gNSHIaTf5pea05qolpKpufYqT3f.jpg"
           },
           {
            "cast_id": 8,
            "character": "Rose Pearson",
            "credit_id": "52fe43fdc3a368484e0097c5",
            "id": 45863,
            "name": "Doris Roberts",
            "order": 4,
            "profile_path": "/4J9jniy4ZEd6NRTfkzq9prKoEIt.jpg"
           },
           {
            "cast_id": 9,
            "character": "Sheriff Doug Armstrong",
            "credit_id": "52fe43fdc3a368484e0097c9",
            "id": 51857,
            "name": "Tim Meadows",
            "order": 5,
            "profile_path": "/4V8Jde8DuFBnXOFPGjTVxs7lqlt.jpg"
           },
           {
            "cast_id": 10,
            "character": "Hannah Pearson",
            "credit_id": "52fe43fdc3a368484e0097cd",
            "id": 86655,
            "name": "Ashley Boettcher",
            "order": 6,
            "profile_path": "/37FCvTRjK2XgknzppoKJd7jm6RM.jpg"
           },
           {
            "cast_id": 11,
            "character": "Art Pearson",
            "credit_id": "52fe43fdc3a368484e0097d1",
            "id": 86656,
            "name": "Henri Young",
            "order": 7,
            "profile_path": null
           },
           {
            "cast_id": 12,
            "character": "Lee Pearson",
            "credit_id": "52fe43fdc3a368484e0097d5",
            "id": 86657,
            "name": "Regan Young",
            "order": 8,
            "profile_path": null
           },
           {
            "cast_id": 13,
            "character": "Bethany Pearson",
            "credit_id": "52fe43fdc3a368484e0097d9",
            "id": 67600,
            "name": "Ashley Tisdale",
            "order": 9,
            "profile_path": "/bRB3bV2yPDnFtsMBl3NMFAxJBO9.jpg"
           },
           {
            "cast_id": 14,
            "character": "Julie",
            "credit_id": "52fe43fdc3a368484e0097dd",
            "id": 118544,
            "name": "Malese Jow",
            "order": 10,
            "profile_path": "/cT29b1741g4WCHDnJ21akeq0sWO.jpg"
           }
          ],
          "directors": [
           {
            "credit_id": "52fe43fdc3a368484e0097a5",
            "department": "Directing",
            "id": 79656,
            "job": "Director",
            "name": "John Schultz",
            "profile_path": "/ePis8HPrAlCrkry1VMaHxsdrq4u.jpg"
           }
          ],
          "genres": [
           {
            "id": 12,
            "name": "Adventure"
           },
           {
            "id": 35,
            "name": "Comedy"
           },
           {
            "id": 14,
            "name": "Fantasy"
           },
           {
            "id": 878,
            "name": "Science Fiction"
           },
           {
            "id": 10751,
            "name": "Family"
           }
          ],
          "homepage": "http://www.aliensintheatticmovie.com/",
          "id": 20856,
          "imdb_id": "tt0775552",
          "original_language": "en",
          "original_title": "Aliens in the Attic",
          "overview": "It's summer vacation, but the Pearson family kids are stuck at a boring lake house with their nerdy parents. That is until feisty, little, green aliens crash-land on the roof, with plans to conquer the house AND Earth! Using only their wits, courage and video game-playing skills, the youngsters must band together to defeat the aliens and save the world - but the toughest part might be keeping the whole thing a secret from their parents! Featuring an all-star cast including Ashley Tisdale, Andy Richter, Kevin Nealon, Tim Meadows and Doris Roberts, Aliens In The Attic is the most fun you can have on this planet!",
          "popularity": 0.421026047211314,
          "poster_path": "/oxds3BQ99FdOxiR24Z5I7N5ELwv.jpg",
          "production_companies": [
           {
            "id": 306,
            "name": "Twentieth Century Fox Film Corporation"
           },
           {
            "id": 508,
            "name": "Regency Enterprises"
           },
           {
            "id": 1894,
            "name": "Josephson Entertainment"
           },
           {
            "id": 3855,
            "name": "New Upstairs Productions"
           },
           {
            "id": 3856,
            "name": "Upstairs Canada Productions"
           }
          ],
          "production_countries": [
           {
            "iso_3166_1": "CA",
            "name": "Canada"
           },
           {
            "iso_3166_1": "US",
            "name": "United States of America"
           }
          ],
          "release_date": "2009-07-31",
          "revenue": 0,
          "runtime": 86,
          "spoken_languages": [
           {
            "iso_639_1": "en",
            "name": "English"
           }
          ],
          "status": "Released",
          "tagline": "The aliens vs. the Pearsons",
          "title": "Aliens in the Attic",
          "video": false,
          "vote_average": 5.4,
          "vote_count": 63
         }
        },
        {
         "_id": "2300",
         "_index": "tmdb",
         "_score": 7.975379,
         "_source": {
          "adult": false,
          "backdrop_path": "/kBTdPNTAzagAY6UiwY957KCDGuu.jpg",
          "belongs_to_collection": null,
          "budget": 80000000,
          "cast": [
           {
            "cast_id": 2,
            "character": "Himself",
            "credit_id": "52fe434bc3a36847f80496c9",
            "id": 23678,
            "name": "Michael Jordan",
            "order": 0,
            "profile_path": "/7y16frD57Ztzk2mY4JeI2pQQhan.jpg"
           },
           {
            "cast_id": 3,
            "character": "Stan Podolak",
            "credit_id": "52fe434bc3a36847f80496cd",
            "id": 4201,
            "name": "Wayne Knight",
            "order": 1,
            "profile_path": "/oW9aeZwkz1S1IMjQGtd9mnvlEax.jpg"
           },
           {
            "cast_id": 4,
            "character": "Bugs Bunny/Elmer Fudd (voice)",
            "credit_id": "52fe434bc3a36847f80496d1",
            "id": 23679,
            "name": "Billy West",
            "order": 2,
            "profile_path": "/9V9fsfmWjHEDbS8tB5EOdHkyMFg.jpg"
           },
           {
            "cast_id": 5,
            "character": "Daffy Duck/Tazmanian Devil/Bull (voice)",
            "credit_id": "52fe434bc3a36847f80496d5",
            "id": 23680,
            "name": "Dee Bradley Baker",
            "order": 3,
            "profile_path": "/zFXwtsdvUCeNkzCzYpYZdAmTkJY.jpg"
           },
           {
            "cast_id": 6,
            "character": "Juanita Jordan",
            "credit_id": "52fe434bc3a36847f80496d9",
            "id": 4604,
            "name": "Theresa Randle",
            "order": 4,
            "profile_path": "/18LVR034VKDGOFqDw1EA1VZQVoe.jpg"
           },
           {
            "cast_id": 7,
            "character": "Mr. Swackhammer (voice)",
            "credit_id": "52fe434bc3a36847f80496dd",
            "id": 518,
            "name": "Danny DeVito",
            "order": 5,
            "profile_path": "/zKuyzmKzPLG7RJo7lbbHjx6CCZc.jpg"
           },
           {
            "cast_id": 8,
            "character": "Michael Jordan (at 10)",
            "credit_id": "52fe434bc3a36847f80496e1",
            "id": 23681,
            "name": "Brandon Hammond",
            "order": 6,
            "profile_path": "/ooljlVi5IYf2w4Px3jqc8OQdjjS.jpg"
           },
           {
            "cast_id": 9,
            "character": "Himself",
            "credit_id": "52fe434bc3a36847f80496e5",
            "id": 23682,
            "name": "Larry Bird",
            "order": 7,
            "profile_path": "/1KRnQVsXS8mz4tHHWD1yPAQBXq2.jpg"
           },
           {
            "cast_id": 12,
            "character": "Himself",
            "credit_id": "52fe434bc3a36847f80496e9",
            "id": 1532,
            "name": "Bill Murray",
            "order": 8,
            "profile_path": "/eb58HuFIrxS0zUmbmW4d8YXTbje.jpg"
           },
           {
            "cast_id": 37,
            "character": "Himself",
            "credit_id": "5361746b0e0a2649bf0004e6",
            "id": 1211812,
            "name": "Charles Barkley",
            "order": 9,
            "profile_path": "/mqHWhTtrja9vI8kfI6z7tCq5gB1.jpg"
           },
           {
            "cast_id": 19,
            "character": "Himself",
            "credit_id": "53614c6cc3a368397e0001d2",
            "id": 1231141,
            "name": "Patrick Ewing",
            "order": 11,
            "profile_path": "/aaXM8PuixEHNTLmvBQJLH8vV1SV.jpg"
           },
           {
            "cast_id": 20,
            "character": "Himself",
            "credit_id": "53614e44c3a36839650001b4",
            "id": 1232432,
            "name": "Tyrone Bogues",
            "order": 12,
            "profile_path": null
           },
           {
            "cast_id": 21,
            "character": "Himself",
            "credit_id": "53614eb1c3a36839650001bc",
            "id": 1225517,
            "name": "Larry Johnson",
            "order": 13,
            "profile_path": "/gbfwZWitnSrcQwkAughr5Ji4iT5.jpg"
           },
           {
            "cast_id": 22,
            "character": "Himself",
            "credit_id": "5361565a0e0a2649b800027a",
            "id": 1234833,
            "name": "Shawn Bradley",
            "order": 14,
            "profile_path": null
           },
           {
            "cast_id": 23,
            "character": "Himself",
            "credit_id": "5361566c0e0a2649a6000277",
            "id": 1197748,
            "name": "Ahmad Rashad",
            "order": 15,
            "profile_path": null
           },
           {
            "cast_id": 24,
            "character": "Himself",
            "credit_id": "536156930e0a2649b800027f",
            "id": 1251369,
            "name": "Del Harris",
            "order": 16,
            "profile_path": null
           },
           {
            "cast_id": 25,
            "character": "Himself",
            "credit_id": "536156a50e0a2649a90002a3",
            "id": 193304,
            "name": "Vlade Divac",
            "order": 17,
            "profile_path": "/ivflYHUbWXKyDe5B9su5HSidMA9.jpg"
           },
           {
            "cast_id": 26,
            "character": "Himself",
            "credit_id": "536156d20e0a2649b8000282",
            "id": 1230823,
            "name": "Cedric Ceballos",
            "order": 18,
            "profile_path": null
           },
           {
            "cast_id": 27,
            "character": "Himself",
            "credit_id": "536156e10e0a2649ad000272",
            "id": 1215304,
            "name": "Jim Rome",
            "order": 19,
            "profile_path": null
           },
           {
            "cast_id": 28,
            "character": "Himself",
            "credit_id": "536156ee0e0a2649b8000285",
            "id": 1315402,
            "name": "Paul Westphal",
            "order": 20,
            "profile_path": null
           },
           {
            "cast_id": 29,
            "character": "Himself",
            "credit_id": "536156fe0e0a2649ad000275",
            "id": 1315446,
            "name": "Danny Ainge",
            "order": 21,
            "profile_path": null
           },
           {
            "cast_id": 30,
            "character": "Himself",
            "credit_id": "5361571f0e0a2649b8000287",
            "id": 180625,
            "name": "Alonzo Mourning",
            "order": 22,
            "profile_path": "/ukR2lS5Z8avrJnN3Kua1ks3Habf.jpg"
           },
           {
            "cast_id": 31,
            "character": "Himself",
            "credit_id": "5361572a0e0a2649bf000295",
            "id": 1315447,
            "name": "A.C. Green",
            "order": 23,
            "profile_path": null
           },
           {
            "cast_id": 32,
            "character": "Himself",
            "credit_id": "536157540e0a2649bf00029b",
            "id": 1315403,
            "name": "Charles Oakley",
            "order": 24,
            "profile_path": "/l35FQsV529lOhDFvMGk8aJ82AV9.jpg"
           },
           {
            "cast_id": 33,
            "character": "Himself",
            "credit_id": "536157680e0a2649a90002b5",
            "id": 1315448,
            "name": "Derek Harper",
            "order": 25,
            "profile_path": null
           },
           {
            "cast_id": 34,
            "character": "Himself",
            "credit_id": "536157780e0a2649a6000287",
            "id": 1315449,
            "name": "Jeff Malone",
            "order": 26,
            "profile_path": null
           },
           {
            "cast_id": 35,
            "character": "Himself",
            "credit_id": "536157ba0e0a2649bb0002d3",
            "id": 1315450,
            "name": "Anthony Miller",
            "order": 27,
            "profile_path": null
           },
           {
            "cast_id": 36,
            "character": "Himself",
            "credit_id": "536157cb0e0a2649bf0002a7",
            "id": 1315451,
            "name": "Sharone Wright",
            "order": 28,
            "profile_path": null
           }
          ],
          "directors": [
           {
            "credit_id": "52fe434bc3a36847f80496c5",
            "department": "Directing",
            "id": 23677,
            "job": "Director",
            "name": "Joe Pytka",
            "profile_path": "/c46Ah1KxlfC4W8mHVrGDsJ7dMPJ.jpg"
           }
          ],
          "genres": [
           {
            "id": 16,
            "name": "Animation"
           },
           {
            "id": 35,
            "name": "Comedy"
           },
           {
            "id": 18,
            "name": "Drama"
           },
           {
            "id": 14,
            "name": "Fantasy"
           },
           {
            "id": 10751,
            "name": "Family"
           }
          ],
          "homepage": "",
          "id": 2300,
          "imdb_id": "tt0117705",
          "original_language": "en",
          "original_title": "Space Jam",
          "overview": "Michael Jordan agrees to help the Looney Tunes play a basketball game against alien slavers to determine their freedom.",
          "popularity": 0.778260445788321,
          "poster_path": "/9T9ucCk6wO0crRBUIkBJMRAVcKp.jpg",
          "production_companies": [
           {
            "id": 2785,
            "name": "Warner Bros. Animation"
           },
           {
            "id": 17,
            "name": "Warner Bros. Entertainment"
           }
          ],
          "production_countries": [
           {
            "iso_3166_1": "US",
            "name": "United States of America"
           }
          ],
          "release_date": "1996-11-15",
          "revenue": 230000000,
          "runtime": 88,
          "spoken_languages": [
           {
            "iso_639_1": "cs",
            "name": "Český"
           },
           {
            "iso_639_1": "fr",
            "name": "Français"
           },
           {
            "iso_639_1": "pl",
            "name": "Polski"
           },
           {
            "iso_639_1": "en",
            "name": "English"
           }
          ],
          "status": "Released",
          "tagline": "Get ready to jam.",
          "title": "Space Jam",
          "video": false,
          "vote_average": 6.3,
          "vote_count": 275
         }
        },
        {
         "_id": "38365",
         "_index": "tmdb",
         "_score": 7.7324815,
         "_source": {
          "adult": false,
          "backdrop_path": "/q4s8RTQFyLrEn2S8akWGMmc8mYX.jpg",
          "belongs_to_collection": {
           "backdrop_path": "/ahlmYgIHI6oye76bgoUtC01mcrC.jpg",
           "id": 180546,
           "name": "Grown Ups Collection",
           "poster_path": "/8m9PIgdP6Nj18P3thsyI70qs76s.jpg"
          },
          "budget": 80000000,
          "cast": [
           {
            "cast_id": 4,
            "character": "Lenny Feder",
            "credit_id": "52fe46b29251416c9105c999",
            "id": 19292,
            "name": "Adam Sandler",
            "order": 0,
            "profile_path": "/tv9V6QsuZ3bcp4ciUJjwjcc4qAg.jpg"
           },
           {
            "cast_id": 5,
            "character": "Roxanne Chase-Feder",
            "credit_id": "52fe46b29251416c9105c99d",
            "id": 3136,
            "name": "Salma Hayek",
            "order": 1,
            "profile_path": "/zMmEPWSqpACzsP5TnLdETV8j7eW.jpg"
           },
           {
            "cast_id": 7,
            "character": "Sally Lamonsoff",
            "credit_id": "52fe46b29251416c9105c9a5",
            "id": 49,
            "name": "Maria Bello",
            "order": 2,
            "profile_path": "/wU5I528qHPG9pAGNnghYVEW69gr.jpg"
           },
           {
            "cast_id": 6,
            "character": "Wiley",
            "credit_id": "52fe46b29251416c9105c9a1",
            "id": 884,
            "name": "Steve Buscemi",
            "order": 3,
            "profile_path": "/7sDzFRScCv85usSwPG01BTac7UY.jpg"
           },
           {
            "cast_id": 9,
            "character": "Deanne McKenzie",
            "credit_id": "52fe46b29251416c9105c9ad",
            "id": 52792,
            "name": "Maya Rudolph",
            "order": 4,
            "profile_path": "/qLDuXku39c4uwVf3h2GjFqwZqik.jpg"
           },
           {
            "cast_id": 8,
            "character": "Eric Lamonsoff",
            "credit_id": "52fe46b29251416c9105c9a9",
            "id": 32895,
            "name": "Kevin James",
            "order": 5,
            "profile_path": "/aLkMKiCdolQPJNb1KGQ4Me4M9Ju.jpg"
           },
           {
            "cast_id": 10,
            "character": "Rob Hilliard",
            "credit_id": "52fe46b29251416c9105c9b1",
            "id": 60949,
            "name": "Rob Schneider",
            "order": 6,
            "profile_path": "/vDbjHkAc4OMKObi9W5xW9OuDhDI.jpg"
           },
           {
            "cast_id": 11,
            "character": "Kurt McKenzie",
            "credit_id": "52fe46b29251416c9105c9b5",
            "id": 2632,
            "name": "Chris Rock",
            "order": 7,
            "profile_path": "/5JCYKerIL0SdiqygtLUpG9Sw37P.jpg"
           },
           {
            "cast_id": 12,
            "character": "Amber Hilliard",
            "credit_id": "52fe46b29251416c9105c9b9",
            "id": 78324,
            "name": "Jamie Chung",
            "order": 8,
            "profile_path": "/99vO72TfiweEMShZUL9lE7oOhYw.jpg"
           },
           {
            "cast_id": 14,
            "character": "Marcus Higgins",
            "credit_id": "52fe46b29251416c9105c9bd",
            "id": 60950,
            "name": "David Spade",
            "order": 9,
            "profile_path": "/tamKFAKdB1Q2mllHYHXxqg3YUXr.jpg"
           },
           {
            "cast_id": 15,
            "character": "Mama Ronzoni",
            "credit_id": "52fe46b29251416c9105c9c1",
            "id": 142377,
            "name": "Ebony Jo-Ann",
            "order": 10,
            "profile_path": "/Ra17Zik0PfabOcHTayW4k8CwB9.jpg"
           },
           {
            "cast_id": 16,
            "character": "Rita",
            "credit_id": "52fe46b29251416c9105c9c5",
            "id": 53281,
            "name": "Di Quon",
            "order": 11,
            "profile_path": "/9WAHACcLROdTOePDHi0hOUd6of0.jpg"
           },
           {
            "cast_id": 22,
            "character": "Dickie Bailey",
            "credit_id": "52fe46b29251416c9105c9d5",
            "id": 1219901,
            "name": "Colin Quinn",
            "order": 12,
            "profile_path": "/qKP3sURBluc5NG2g5LrKoVnY5iG.jpg"
           },
           {
            "cast_id": 19,
            "character": "Malcolm",
            "credit_id": "52fe46b29251416c9105c9c9",
            "id": 51857,
            "name": "Tim Meadows",
            "order": 13,
            "profile_path": "/4V8Jde8DuFBnXOFPGjTVxs7lqlt.jpg"
           },
           {
            "cast_id": 20,
            "character": "Jasmine Hilliard",
            "credit_id": "52fe46b29251416c9105c9cd",
            "id": 101565,
            "name": "Madison Riley",
            "order": 14,
            "profile_path": "/4TKPa7fkHSWB8V2KLamLyF3PlwD.jpg"
           },
           {
            "cast_id": 21,
            "character": "Norby The Ride Guy",
            "credit_id": "52fe46b29251416c9105c9d1",
            "id": 166029,
            "name": "Dan Patrick",
            "order": 15,
            "profile_path": "/9tgxUP2r24g3NoXXMJoQEb8HAVM.jpg"
           }
          ],
          "directors": [
           {
            "credit_id": "52fe46b29251416c9105c989",
            "department": "Directing",
            "id": 17494,
            "job": "Director",
            "name": "Dennis Dugan",
            "profile_path": "/jyi8S58fqNkOiZzkeMc0Lza1osC.jpg"
           }
          ],
          "genres": [
           {
            "id": 35,
            "name": "Comedy"
           }
          ],
          "homepage": "http://www.grownups-movie.com/",
          "id": 38365,
          "imdb_id": "tt1375670",
          "original_language": "en",
          "original_title": "Grown Ups",
          "overview": "After their high school basketball coach passes away, five good friends and former teammates reunite for a Fourth of July holiday weekend.",
          "popularity": 1.01594501423804,
          "poster_path": "/rKPU178ngGRXPYnuO3cpCnZP6wJ.jpg",
          "production_companies": [
           {
            "id": 5,
            "name": "Columbia Pictures"
           },
           {
            "id": 7295,
            "name": "Relativity Media"
           },
           {
            "id": 2608,
            "name": "Happy Madison Productions"
           }
          ],
          "production_countries": [
           {
            "iso_3166_1": "US",
            "name": "United States of America"
           }
          ],
          "release_date": "2010-06-24",
          "revenue": 267420265,
          "runtime": 102,
          "spoken_languages": [
           {
            "iso_639_1": "en",
            "name": "English"
           }
          ],
          "status": "Released",
          "tagline": "Boys will be boys. . . some longer than others.",
          "title": "Grown Ups",
          "video": false,
          "vote_average": 6.1,
          "vote_count": 686
         }
        },
        {
         "_id": "13260",
         "_index": "tmdb",
         "_score": 7.505871,
         "_source": {
          "adult": false,
          "backdrop_path": "/bfrQP3UFMunyXHlTkwe5nYTMgxp.jpg",
          "belongs_to_collection": null,
          "budget": 0,
          "cast": [
           {
            "cast_id": 2,
            "character": "Jackie Moon",
            "credit_id": "52fe45549251416c75052c67",
            "id": 23659,
            "name": "Will Ferrell",
            "order": 0,
            "profile_path": "/dGxt3uGPlUJKIfHYiLasnEgR90e.jpg"
           },
           {
            "cast_id": 3,
            "character": "Lynn",
            "credit_id": "52fe45549251416c75052c6b",
            "id": 16307,
            "name": "Maura Tierney",
            "order": 1,
            "profile_path": "/sG8ZxJtdMoNlBOOkMZVABxSH5F0.jpg"
           },
           {
            "cast_id": 4,
            "character": "Monix",
            "credit_id": "52fe45549251416c75052c6f",
            "id": 57755,
            "name": "Woody Harrelson",
            "order": 2,
            "profile_path": "/ivfalpnvELPaSILqP6K6rabXfsU.jpg"
           },
           {
            "cast_id": 5,
            "character": "Commissioner",
            "credit_id": "52fe45549251416c75052c73",
            "id": 28638,
            "name": "David Koechner",
            "order": 3,
            "profile_path": "/inMOKno44cGQjUYkuoHNJbEgihi.jpg"
           },
           {
            "cast_id": 6,
            "character": "Lou Redwood",
            "credit_id": "52fe45549251416c75052c77",
            "id": 21200,
            "name": "Will Arnett",
            "order": 4,
            "profile_path": "/vHCqn3SHfSV6GOWrxzEtoDaSMoU.jpg"
           },
           {
            "cast_id": 7,
            "character": "Clarence",
            "credit_id": "52fe45549251416c75052c7b",
            "id": 37934,
            "name": "André Benjamin",
            "order": 5,
            "profile_path": "/s8oSgAIzuzsDhp0JhKhozJyCNme.jpg"
           },
           {
            "cast_id": 8,
            "character": "Bobby Dee",
            "credit_id": "52fe45549251416c75052c7f",
            "id": 28637,
            "name": "Andy Richter",
            "order": 6,
            "profile_path": "/8K63ilOwTUO1yh32oLl2zfwjbKs.jpg"
           },
           {
            "cast_id": 9,
            "character": "Kyle",
            "credit_id": "52fe45549251416c75052c83",
            "id": 52997,
            "name": "Rob Corddry",
            "order": 7,
            "profile_path": "/k2zJL0V1nEZuFT08xUdOd3ucfXz.jpg"
           },
           {
            "cast_id": 10,
            "character": "Cornelius",
            "credit_id": "52fe45549251416c75052c87",
            "id": 51857,
            "name": "Tim Meadows",
            "order": 8,
            "profile_path": "/4V8Jde8DuFBnXOFPGjTVxs7lqlt.jpg"
           },
           {
            "cast_id": 11,
            "character": "Dukes",
            "credit_id": "52fe45549251416c75052c8b",
            "id": 17183,
            "name": "Jackie Earle Haley",
            "order": 9,
            "profile_path": "/9WWADGZW0n2kDINY8JiIXKOc2FW.jpg"
           },
           {
            "cast_id": 12,
            "character": "Father Pat",
            "credit_id": "52fe45549251416c75052c8f",
            "id": 59841,
            "name": "Matt Walsh",
            "order": 10,
            "profile_path": "/jJ7FIH1rjOUr2L7jO41Tzt757O.jpg"
           },
           {
            "cast_id": 13,
            "character": "",
            "credit_id": "52fe45549251416c75052c93",
            "id": 41091,
            "name": "Kristen Wiig",
            "order": 11,
            "profile_path": "/x5avlvpHlBGGLhzbzuSfmOsMGlw.jpg"
           },
           {
            "cast_id": 14,
            "character": "Dick Pepperfield",
            "credit_id": "52fe45549251416c75052c97",
            "id": 95875,
            "name": "Andrew Daly",
            "order": 12,
            "profile_path": "/1jUiCZOJOGE1LKBCaeMkrNceSj0.jpg"
           },
           {
            "cast_id": 15,
            "character": "Bee Bee Ellis",
            "credit_id": "52fe45549251416c75052c9b",
            "id": 11827,
            "name": "DeRay Davis",
            "order": 13,
            "profile_path": "/n8alI78oMlcJ3gEhF2Ws4MOUCtc.jpg"
           }
          ],
          "directors": [
           {
            "credit_id": "52fe45549251416c75052c63",
            "department": "Directing",
            "id": 65702,
            "job": "Director",
            "name": "Kent Alterman",
            "profile_path": "/wA2LUif3K2ApfzBNwQfu0HoZqcp.jpg"
           }
          ],
          "genres": [
           {
            "id": 35,
            "name": "Comedy"
           }
          ],
          "homepage": "http://newline.com/properties/semipro.html",
          "id": 13260,
          "imdb_id": "tt0839980",
          "original_language": "en",
          "original_title": "Semi-Pro",
          "overview": "Jackie Moon is the owner, promoter, coach, and star player of the Flint Michigan Tropics of the American Basketball Association (ABA). In 1976 before the ABA collapses, the National Basketball Association (NBA) plans to merge with the best teams of the ABA at the end of the season. Only the top four teams will make the move and the worst teams will fold. The Tropics are the worst team in the league and if they want to make it to the NBA, Jackie Moon must rally his team and start winning. The only problem is the fact that Jackie Moon is not really the coach and star basketball player he thinks he is. To keep his team from oblivion and leave his mark in the city, Jackie Moon must inspire his team to win fourth place in the playoffs.",
          "popularity": 0.322245215639978,
          "poster_path": "/rb4QrpOCwWOm0Iw2E4GAkVoqnWi.jpg",
          "production_companies": [
           {
            "id": 12,
            "name": "New Line Cinema"
           },
           {
            "id": 748,
            "name": "Mosaic Media Group"
           },
           {
            "id": 431,
            "name": "Donners' Company"
           },
           {
            "id": 2648,
            "name": "Road Rebel"
           }
          ],
          "production_countries": [
           {
            "iso_3166_1": "US",
            "name": "United States of America"
           }
          ],
          "release_date": "2008-02-28",
          "revenue": 33472850,
          "runtime": 91,
          "spoken_languages": [
           {
            "iso_639_1": "en",
            "name": "English"
           }
          ],
          "status": "Released",
          "tagline": "Putting the funk into the dunk.",
          "title": "Semi-Pro",
          "video": false,
          "vote_average": 5.2,
          "vote_count": 57
         }
        },
        {
         "_id": "888",
         "_index": "tmdb",
         "_score": 7.3902683,
         "_source": {
          "adult": false,
          "backdrop_path": "/vbWvWqZJiEiffj8xag0owDExRVg.jpg",
          "belongs_to_collection": null,
          "budget": 46000000,
          "cast": [
           {
            "cast_id": 16,
            "character": "Fred Flintstone",
            "credit_id": "52fe4287c3a36847f80262af",
            "id": 1230,
            "name": "John Goodman",
            "order": 0,
            "profile_path": "/mLJC7sRO3JnGkySJlwCJblvhBHm.jpg"
           },
           {
            "cast_id": 17,
            "character": "Wilma Flintstone",
            "credit_id": "52fe4287c3a36847f80262b3",
            "id": 20,
            "name": "Elizabeth Perkins",
            "order": 1,
            "profile_path": "/nVI0CWJoVtB0ycDCF6YtYmEbtZq.jpg"
           },
           {
            "cast_id": 18,
            "character": "Barney Rubble",
            "credit_id": "52fe4287c3a36847f80262b7",
            "id": 8872,
            "name": "Rick Moranis",
            "order": 2,
            "profile_path": "/27dRb7OyRGzQP8D4tzyY6dEdmQY.jpg"
           },
           {
            "cast_id": 19,
            "character": "Betty Rubble",
            "credit_id": "52fe4287c3a36847f80262bb",
            "id": 12929,
            "name": "Rosie O'Donnell",
            "order": 3,
            "profile_path": "/76ZWoNK1Fr6gmJUH1zhEBMsT9DT.jpg"
           },
           {
            "cast_id": 20,
            "character": "Cliff Vandercave",
            "credit_id": "52fe4287c3a36847f80262bf",
            "id": 6677,
            "name": "Kyle MacLachlan",
            "order": 4,
            "profile_path": "/ykDb80YOPY2HLuRClLDpSYxUCPX.jpg"
           },
           {
            "cast_id": 21,
            "character": "Rosetta Stone",
            "credit_id": "52fe4287c3a36847f80262c3",
            "id": 4587,
            "name": "Halle Berry",
            "order": 5,
            "profile_path": "/AmCXHowNbUXpNf41dNrxNB0naM2.jpg"
           },
           {
            "cast_id": 22,
            "character": "Pearl Slaghoople",
            "credit_id": "52fe4287c3a36847f80262c7",
            "id": 3635,
            "name": "Elizabeth Taylor",
            "order": 6,
            "profile_path": "/rPbfZlBX18OIj7H1Bahq7YcJL0v.jpg"
           },
           {
            "cast_id": 23,
            "character": "Mr. Slate",
            "credit_id": "52fe4287c3a36847f80262cb",
            "id": 9175,
            "name": "Dann Florek",
            "order": 7,
            "profile_path": "/aWRFqpmLdFAoH9BiUE7RyxUKUsX.jpg"
           },
           {
            "cast_id": 24,
            "character": "Hoagie",
            "credit_id": "52fe4287c3a36847f80262cf",
            "id": 13591,
            "name": "Richard Moll",
            "order": 8,
            "profile_path": "/c1VbqIWN29mOoFfxvHMQxuAzTn5.jpg"
           },
           {
            "cast_id": 25,
            "character": "Joe Rockhead",
            "credit_id": "52fe4287c3a36847f80262d3",
            "id": 13592,
            "name": "Irwin Keyes",
            "order": 9,
            "profile_path": "/8c1MbJjXM6dE0WqEGFTBl48UowN.jpg"
           },
           {
            "cast_id": 26,
            "character": "Gobo The Grizzled Man",
            "credit_id": "52fe4287c3a36847f80262d7",
            "id": 13593,
            "name": "Jonathan Winters",
            "order": 10,
            "profile_path": "/j63YOBYEXhbDWbXUnqD3gb5KJ5k.jpg"
           },
           {
            "cast_id": 35,
            "character": "Ali / Dicabird / Blossom's Adopted Doll Son Ali",
            "credit_id": "52fe4287c3a36847f8026305",
            "id": 13640,
            "name": "Harvey Korman",
            "order": 11,
            "profile_path": "/zXLYvJP3ReKPI6lJr2VuDGupL1j.jpg"
           },
           {
            "cast_id": 37,
            "character": "Triple X / Green Goose",
            "credit_id": "52fe4287c3a36847f802630d",
            "id": 35219,
            "name": "Corey Burton",
            "order": 13,
            "profile_path": "/2YzqhrgSpWqm8lxZoyIR4F0nusM.jpg"
           },
           {
            "cast_id": 38,
            "character": "Bobo",
            "credit_id": "52fe4287c3a36847f8026311",
            "id": 51957,
            "name": "Roger L. Jackson",
            "order": 14,
            "profile_path": "/lI4N9GJ0QuC1YFYSwauNssGwe11.jpg"
           },
           {
            "cast_id": 52,
            "character": "Tanya Slag",
            "credit_id": "52fe4287c3a36847f8026351",
            "id": 145257,
            "name": "Jean Vander Pyl",
            "order": 15,
            "profile_path": "/54hip6U1OiuIBxTqqWtS8KOGrXz.jpg"
           }
          ],
          "directors": [
           {
            "credit_id": "537b55a40e0a267fea001658",
            "department": "Directing",
            "id": 13620,
            "job": "Director",
            "name": "William Hanna",
            "profile_path": "/3rCaagU4QRi0JJhcdbUGKoqEWtG.jpg"
           },
           {
            "credit_id": "537b55e00e0a267ff7001790",
            "department": "Directing",
            "id": 13594,
            "job": "Director",
            "name": "Joseph Barbera",
            "profile_path": "/A8Lorvx5HirKefQWmhftWGO5VI4.jpg"
           },
           {
            "credit_id": "52fe4287c3a36847f8026357",
            "department": "Directing",
            "id": 13581,
            "job": "Director",
            "name": "Brian Levant",
            "profile_path": "/6fM0CJSEqwC50wivfx8Z7sPcikb.jpg"
           }
          ],
          "genres": [
           {
            "id": 35,
            "name": "Comedy"
           },
           {
            "id": 14,
            "name": "Fantasy"
           },
           {
            "id": 10751,
            "name": "Family"
           }
          ],
          "homepage": "",
          "id": 888,
          "imdb_id": "tt0109813",
          "original_language": "en",
          "original_title": "The Flintstones",
          "overview": "Modern Stone Age family the Flintstones hit the big screen in this live-action version of the classic cartoon. Fred helps Barney adopt a child. Barney sees an opportunity to repay him when Slate Mining tests its employees to find a new executive. But no good deed goes unpunished.",
          "popularity": 0.751052982106051,
          "poster_path": "/kCJofdPv2HqiKeUJ0743Ae4UlFr.jpg",
          "production_companies": [
           {
            "id": 1353,
            "name": "Hanna-Barbera Productions"
           },
           {
            "id": 33,
            "name": "Universal Pictures"
           },
           {
            "id": 56,
            "name": "Amblin Entertainment"
           }
          ],
          "production_countries": [
           {
            "iso_3166_1": "US",
            "name": "United States of America"
           }
          ],
          "release_date": "1994-05-26",
          "revenue": 341631208,
          "runtime": 91,
          "spoken_languages": [
           {
            "iso_639_1": "en",
            "name": "English"
           }
          ],
          "status": "Released",
          "tagline": "Yabba-Dabba-Doo!",
          "title": "The Flintstones",
          "video": false,
          "vote_average": 5.2,
          "vote_count": 99
         }
        },
        {
         "_id": "7214",
         "_index": "tmdb",
         "_score": 7.219441,
         "_source": {
          "adult": false,
          "backdrop_path": "/qgmcpz4ZyDxtAOTvqN6oIpBez7d.jpg",
          "belongs_to_collection": null,
          "budget": 30000000,
          "cast": [
           {
            "cast_id": 1,
            "character": "Ken Carter",
            "credit_id": "52fe4473c3a36847f8096c81",
            "id": 2231,
            "name": "Samuel L. Jackson",
            "order": 0,
            "profile_path": "/dlW6prW9HwYDsIRXNoFYtyHpSny.jpg"
           },
           {
            "cast_id": 2,
            "character": "Kenyon Stone",
            "credit_id": "52fe4473c3a36847f8096c85",
            "id": 10689,
            "name": "Rob Brown",
            "order": 1,
            "profile_path": "/m8VAOhTpIQYWDYg2MOc9lOFLahF.jpg"
           },
           {
            "cast_id": 3,
            "character": "Damien Carter",
            "credit_id": "52fe4473c3a36847f8096c89",
            "id": 52037,
            "name": "Robert Ri'chard",
            "order": 2,
            "profile_path": "/rB75BONTtezBafFI4TzYzYYO8T3.jpg"
           },
           {
            "cast_id": 21,
            "character": "Timo Cruz",
            "credit_id": "52fe4473c3a36847f8096cf3",
            "id": 53184,
            "name": "Rick Gonzalez",
            "order": 3,
            "profile_path": "/goh90mno2bYXjOIncrJWoNYbhXy.jpg"
           },
           {
            "cast_id": 22,
            "character": "Jason Lyle",
            "credit_id": "52fe4473c3a36847f8096cf7",
            "id": 38673,
            "name": "Channing Tatum",
            "order": 4,
            "profile_path": "/5L7BSYbzM8iizvIrS8EaaZoDrI3.jpg"
           },
           {
            "cast_id": 23,
            "character": "Maddux",
            "credit_id": "52fe4473c3a36847f8096cfb",
            "id": 53185,
            "name": "Texas Battle",
            "order": 5,
            "profile_path": "/x61WA9qDHEkh5i7G9lOfakbmWNc.jpg"
           },
           {
            "cast_id": 24,
            "character": "Susan",
            "credit_id": "52fe4473c3a36847f8096cff",
            "id": 168897,
            "name": "Lacey Beeman",
            "order": 6,
            "profile_path": "/h8coFumNNoCK6wJ0XYXSeO6Q6C7.jpg"
           },
           {
            "cast_id": 25,
            "character": "Mrs. Battle",
            "credit_id": "52fe4473c3a36847f8096d03",
            "id": 6944,
            "name": "Octavia Spencer",
            "order": 7,
            "profile_path": "/4FEVru6fBFyJECqwqjHwlZdsL4c.jpg"
           }
          ],
          "directors": [
           {
            "credit_id": "52fe4473c3a36847f8096c8f",
            "department": "Directing",
            "id": 52038,
            "job": "Director",
            "name": "Thomas Carter",
            "profile_path": "/j51pRbB8nCYrziSnjmB2PS9SIVh.jpg"
           }
          ],
          "genres": [
           {
            "id": 18,
            "name": "Drama"
           }
          ],
          "homepage": "",
          "id": 7214,
          "imdb_id": "tt0393162",
          "original_language": "en",
          "original_title": "Coach Carter",
          "overview": "Based on a true story, in which Richmond High School head basketball coach Ken Carter made headlines in 1999 for benching his undefeated team due to poor academic results.",
          "popularity": 0.732920917500169,
          "poster_path": "/8c6BeOIrDStz2aiPceYdI5sd9pL.jpg",
          "production_companies": [
           {
            "id": 4,
            "name": "Paramount Pictures"
           },
           {
            "id": 746,
            "name": "MTV Films"
           },
           {
            "id": 2184,
            "name": "Tollin/Robbins Productions"
           }
          ],
          "production_countries": [
           {
            "iso_3166_1": "DE",
            "name": "Germany"
           },
           {
            "iso_3166_1": "US",
            "name": "United States of America"
           }
          ],
          "release_date": "2005-01-14",
          "revenue": 76669806,
          "runtime": 136,
          "spoken_languages": [
           {
            "iso_639_1": "en",
            "name": "English"
           }
          ],
          "status": "Released",
          "tagline": "It begins on the street. It ends here.",
          "title": "Coach Carter",
          "video": false,
          "vote_average": 7,
          "vote_count": 93
         }
        },
        {
         "_id": "10158",
         "_index": "tmdb",
         "_score": 6.7105947,
         "_source": {
          "adult": false,
          "backdrop_path": "/etXWMus7PsHLsXxYY3tdK8XDJp4.jpg",
          "belongs_to_collection": null,
          "budget": 0,
          "cast": [
           {
            "cast_id": 8,
            "character": "Sidney Deane",
            "credit_id": "52fe43389251416c7500801f",
            "id": 10814,
            "name": "Wesley Snipes",
            "order": 0,
            "profile_path": "/hQ6EBa6vgu7HoZpzms8Y10VL5Iw.jpg"
           },
           {
            "cast_id": 9,
            "character": "Billy Hoyle",
            "credit_id": "52fe43389251416c75008023",
            "id": 57755,
            "name": "Woody Harrelson",
            "order": 1,
            "profile_path": "/ivfalpnvELPaSILqP6K6rabXfsU.jpg"
           },
           {
            "cast_id": 10,
            "character": "Gloria Clement",
            "credit_id": "52fe43389251416c75008027",
            "id": 4810,
            "name": "Rosie Perez",
            "order": 2,
            "profile_path": "/zz7D8Wnxw91bddp481fYxYKMeuO.jpg"
           },
           {
            "cast_id": 11,
            "character": "Rhonda Deane",
            "credit_id": "52fe43389251416c7500802b",
            "id": 9782,
            "name": "Tyra Ferrell",
            "order": 3,
            "profile_path": "/ehrlTSktNfShujcY3SaZyJYg2On.jpg"
           }
          ],
          "directors": [
           {
            "credit_id": "52fe43389251416c75007ff7",
            "department": "Directing",
            "id": 4037,
            "job": "Director",
            "name": "Ron Shelton",
            "profile_path": null
           }
          ],
          "genres": [
           {
            "id": 35,
            "name": "Comedy"
           },
           {
            "id": 18,
            "name": "Drama"
           }
          ],
          "homepage": "",
          "id": 10158,
          "imdb_id": "tt0105812",
          "original_language": "en",
          "original_title": "White Men Can't Jump",
          "overview": "Billy Hoyle (Woody Harrelson) and Sidney Deane (Wesley Snipes) are an unlikely pair of basketball hustlers. They team up to con their way across the courts of Los Angeles, playing a game that's fast dangerous - and funny.",
          "popularity": 0.972659881599964,
          "poster_path": "/s3ShPeMAN3kn3xBZ0DJABIqtPH1.jpg",
          "production_companies": [
           {
            "id": 25,
            "name": "20th Century Fox"
           }
          ],
          "production_countries": [
           {
            "iso_3166_1": "US",
            "name": "United States of America"
           }
          ],
          "release_date": "1992-03-26",
          "revenue": 90753806,
          "runtime": 115,
          "spoken_languages": [
           {
            "iso_639_1": "en",
            "name": "English"
           }
          ],
          "status": "Released",
          "tagline": "It ain't easy being this good.",
          "title": "White Men Can't Jump",
          "video": false,
          "vote_average": 6.3,
          "vote_count": 63
         }
        },
        {
         "_id": "8078",
         "_index": "tmdb",
         "_score": 6.6692567,
         "_source": {
          "adult": false,
          "backdrop_path": "/kFslzsvxOQgjbuDfta3kzbOWQY5.jpg",
          "belongs_to_collection": {
           "backdrop_path": "/52Lhwd7srnktMFDYkfhtMoZdabT.jpg",
           "id": 8091,
           "name": "Alien Collection",
           "poster_path": "/iVzIeC3PbG9BtDAudpwSNdKAgh6.jpg"
          },
          "budget": 70000000,
          "cast": [
           {
            "cast_id": 1,
            "character": "Ripley",
            "credit_id": "52fe4492c3a36847f809d98b",
            "id": 10205,
            "name": "Sigourney Weaver",
            "order": 0,
            "profile_path": "/pYtEkU8VOP0pS2gC1iD2Vuesgyj.jpg"
           },
           {
            "cast_id": 5,
            "character": "Annalee Call",
            "credit_id": "52fe4492c3a36847f809d9a1",
            "id": 1920,
            "name": "Winona Ryder",
            "order": 1,
            "profile_path": "/3Y2e5A0ic6fvHS9YNghfMbOaKaM.jpg"
           },
           {
            "cast_id": 6,
            "character": "Vriess",
            "credit_id": "52fe4492c3a36847f809d9a5",
            "id": 2413,
            "name": "Dominique Pinon",
            "order": 2,
            "profile_path": "/uXS9jinsWVT1ZWAz8rj9ifCy9qS.jpg"
           },
           {
            "cast_id": 7,
            "character": "Johner",
            "credit_id": "52fe4492c3a36847f809d9a9",
            "id": 2372,
            "name": "Ron Perlman",
            "order": 3,
            "profile_path": "/xZyrXT2iEmSOokQRc1hedmxrbTi.jpg"
           },
           {
            "cast_id": 8,
            "character": "Frank Elgyn",
            "credit_id": "52fe4492c3a36847f809d9ad",
            "id": 7486,
            "name": "Michael Wincott",
            "order": 4,
            "profile_path": "/pvKUzexxZT4sRTT1BczzrwX8ghz.jpg"
           },
           {
            "cast_id": 9,
            "character": "Dr. Jonathan Gediman",
            "credit_id": "52fe4492c3a36847f809d9b1",
            "id": 1370,
            "name": "Brad Dourif",
            "order": 5,
            "profile_path": "/6pqeGxtWEdDjYsnQfUkmzXLlDvs.jpg"
           },
           {
            "cast_id": 10,
            "character": "Christie",
            "credit_id": "52fe4492c3a36847f809d9b5",
            "id": 40276,
            "name": "Gary Dourdan",
            "order": 6,
            "profile_path": "/yGNXneJeb4Ug1iJ08lspzJocpN0.jpg"
           },
           {
            "cast_id": 11,
            "character": "General Martin Perez",
            "credit_id": "52fe4492c3a36847f809d9b9",
            "id": 6486,
            "name": "Dan Hedaya",
            "order": 7,
            "profile_path": "/5E4SUVfLMUKNCiP0dMhyOv3XHVZ.jpg"
           },
           {
            "cast_id": 12,
            "character": "Larry Purvis",
            "credit_id": "52fe4492c3a36847f809d9bd",
            "id": 2221,
            "name": "Leland Orser",
            "order": 8,
            "profile_path": "/2XnpH5LOE7Ln0JMhFTT73QscLQh.jpg"
           },
           {
            "cast_id": 13,
            "character": "Vincent Distephano",
            "credit_id": "52fe4492c3a36847f809d9c1",
            "id": 58650,
            "name": "Raymond Cruz",
            "order": 9,
            "profile_path": "/4k0r3xJjgTac5GiJoHDDBVAFYcj.jpg"
           },
           {
            "cast_id": 19,
            "character": "Dr. Mason Wren",
            "credit_id": "52fe4492c3a36847f809d9e3",
            "id": 5169,
            "name": "J.E. Freeman",
            "order": 10,
            "profile_path": "/lGqZh89pfgSNhIItjvn34jPO6HM.jpg"
           },
           {
            "cast_id": 74,
            "character": "Surgeon",
            "credit_id": "548d7d8692514122fc003bd3",
            "id": 1598,
            "name": "David St. James",
            "order": 11,
            "profile_path": "/cOJhnH9pJph2snOgpTMgWcWY5kz.jpg"
           },
           {
            "cast_id": 75,
            "character": "Scientist",
            "credit_id": "548d7da9925141031b000382",
            "id": 1398983,
            "name": "Marlene Bush",
            "order": 12,
            "profile_path": null
           }
          ],
          "directors": [
           {
            "credit_id": "52fe4492c3a36847f809d991",
            "department": "Directing",
            "id": 2419,
            "job": "Director",
            "name": "Jean-Pierre Jeunet",
            "profile_path": "/504QzXvAttagp7SvTyzuFXmzt1v.jpg"
           }
          ],
          "genres": [
           {
            "id": 28,
            "name": "Action"
           },
           {
            "id": 27,
            "name": "Horror"
           },
           {
            "id": 878,
            "name": "Science Fiction"
           }
          ],
          "homepage": "",
          "id": 8078,
          "imdb_id": "tt0118583",
          "original_language": "en",
          "original_title": "Alien: Resurrection",
          "overview": "Two hundred years after Lt. Ripley died, a group of scientists clone her, hoping to breed the ultimate weapon. But the new Ripley is full of surprises … as are the new aliens. Ripley must team with a band of smugglers to keep the creatures from reaching Earth.",
          "popularity": 1.31532467553944,
          "poster_path": "/ve2P64a9kzd7M78kfeaEzBEIEOR.jpg",
          "production_companies": [
           {
            "id": 19747,
            "name": "Brandywine Productions"
           },
           {
            "id": 306,
            "name": "Twentieth Century Fox Film Corporation"
           }
          ],
          "production_countries": [
           {
            "iso_3166_1": "US",
            "name": "United States of America"
           }
          ],
          "release_date": "1997-11-26",
          "revenue": 162000000,
          "runtime": 109,
          "spoken_languages": [
           {
            "iso_639_1": "en",
            "name": "English"
           }
          ],
          "status": "Released",
          "tagline": "It's already too late.",
          "title": "Alien: Resurrection",
          "video": false,
          "vote_average": 6,
          "vote_count": 393
         }
        }
       ],
       "max_score": 9.305035,
       "total": {
        "relation": "eq",
        "value": 1197
       }
      },
      "text/plain": [
       "<IPython.core.display.JSON object>"
      ]
     },
     "execution_count": 55,
     "metadata": {
      "application/json": {
       "expanded": false,
       "root": "root"
      }
     },
     "output_type": "execute_result"
    }
   ],
   "source": [
    "query = {\n",
    "    'query': {\n",
    "        'multi_match': { \n",
    "            'query': usersSearch,  #User's query\n",
    "            'fields': ['title^0.1', 'overview'],\n",
    "        }\n",
    "    },\n",
    "    'explain': True\n",
    "}\n",
    "JSON(search(client, query))\n"
   ]
  }
 ],
 "metadata": {
  "kernelspec": {
   "display_name": "Python 3 (ipykernel)",
   "language": "python",
   "name": "python3"
  },
  "language_info": {
   "codemirror_mode": {
    "name": "ipython",
    "version": 3
   },
   "file_extension": ".py",
   "mimetype": "text/x-python",
   "name": "python",
   "nbconvert_exporter": "python",
   "pygments_lexer": "ipython3",
   "version": "3.10.5"
  }
 },
 "nbformat": 4,
 "nbformat_minor": 5
}
