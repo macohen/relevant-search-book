{
 "cells": [
  {
   "cell_type": "code",
   "execution_count": 36,
   "id": "7cfc3c21",
   "metadata": {},
   "outputs": [],
   "source": [
    "from opensearchpy import OpenSearch\n",
    "from IPython.display import JSON\n",
    "import json\n",
    "\n",
    "\n",
    "\n",
    "# Optional, enable client-side caching for TMDB\n",
    "# Requires: https://httpcache.readthedocs.org/en/latest/\n",
    "#from httpcache import CachingHTTPAdapter\n",
    "#tmdb_api.mount('https://', CachingHTTPAdapter())\n",
    "#tmdb_api.mount('http://', CachingHTTPAdapter())\n",
    "\n",
    "# Some utilities for flattening the explain into something a bit more\n",
    "# readable. Pass Explain JSON, get something readable (ironically this is what Solr's default output is :-p)\n",
    "def flatten(l):\n",
    "    [item for sublist in l for item in sublist]\n",
    "\n",
    "def simplerExplain(explainJson, depth=0):\n",
    "    result = \" \" * (depth * 2) + \"%s, %s\\n\" % (explainJson['value'], explainJson['description'])\n",
    "    #print json.dumps(explainJson, indent=True)\n",
    "    if 'details' in explainJson:\n",
    "        for detail in explainJson['details']:\n",
    "            result += simplerExplain(detail, depth=depth+1)\n",
    "    return result"
   ]
  },
  {
   "cell_type": "code",
   "execution_count": 5,
   "id": "1ac5105b",
   "metadata": {},
   "outputs": [
    {
     "name": "stdout",
     "output_type": "stream",
     "text": [
      "Requirement already satisfied: opensearch-dsl in /Library/Frameworks/Python.framework/Versions/3.10/lib/python3.10/site-packages (2.0.1)\n",
      "Requirement already satisfied: python-dateutil in /Library/Frameworks/Python.framework/Versions/3.10/lib/python3.10/site-packages (from opensearch-dsl) (2.8.2)\n",
      "Requirement already satisfied: six in /Library/Frameworks/Python.framework/Versions/3.10/lib/python3.10/site-packages (from opensearch-dsl) (1.16.0)\n",
      "Requirement already satisfied: opensearch-py>=2.0.0 in /Library/Frameworks/Python.framework/Versions/3.10/lib/python3.10/site-packages (from opensearch-dsl) (2.0.0)\n",
      "Requirement already satisfied: urllib3<2,>=1.21.1 in /Library/Frameworks/Python.framework/Versions/3.10/lib/python3.10/site-packages (from opensearch-py>=2.0.0->opensearch-dsl) (1.26.9)\n",
      "Requirement already satisfied: requests<3.0.0,>=2.4.0 in /Library/Frameworks/Python.framework/Versions/3.10/lib/python3.10/site-packages (from opensearch-py>=2.0.0->opensearch-dsl) (2.28.0)\n",
      "Requirement already satisfied: certifi in /Library/Frameworks/Python.framework/Versions/3.10/lib/python3.10/site-packages (from opensearch-py>=2.0.0->opensearch-dsl) (2022.6.15)\n",
      "Requirement already satisfied: charset-normalizer~=2.0.0 in /Library/Frameworks/Python.framework/Versions/3.10/lib/python3.10/site-packages (from requests<3.0.0,>=2.4.0->opensearch-py>=2.0.0->opensearch-dsl) (2.0.12)\n",
      "Requirement already satisfied: idna<4,>=2.5 in /Library/Frameworks/Python.framework/Versions/3.10/lib/python3.10/site-packages (from requests<3.0.0,>=2.4.0->opensearch-py>=2.0.0->opensearch-dsl) (3.3)\n"
     ]
    }
   ],
   "source": [
    "import sys\n",
    "!{sys.executable} -m pip install opensearch-dsl"
   ]
  },
  {
   "cell_type": "code",
   "execution_count": 6,
   "id": "4b6c017e",
   "metadata": {},
   "outputs": [],
   "source": [
    "from opensearchpy import OpenSearch\n",
    "from opensearch_dsl import Search\n",
    "import json"
   ]
  },
  {
   "cell_type": "code",
   "execution_count": 7,
   "id": "80ec8e83",
   "metadata": {},
   "outputs": [],
   "source": [
    "def extract():\n",
    "    f = open('tmdb.json')\n",
    "    if f:\n",
    "         return json.loads(f.read());        \n",
    "    return {}"
   ]
  },
  {
   "cell_type": "code",
   "execution_count": 8,
   "id": "963119d1",
   "metadata": {},
   "outputs": [],
   "source": [
    "client = OpenSearch(\n",
    "    hosts = [{'host': 'localhost', 'port': 9200}],\n",
    "    http_compress = True,\n",
    "    http_auth = ('admin','admin'),\n",
    "    use_ssl = False\n",
    ")"
   ]
  },
  {
   "cell_type": "markdown",
   "id": "3f1efe15-63b6-4ecc-9f00-33cc15f75b10",
   "metadata": {},
   "source": [
    "## 3.3 Indexing with OpenSearch Bulk API"
   ]
  },
  {
   "cell_type": "code",
   "execution_count": 9,
   "id": "9191d87c",
   "metadata": {},
   "outputs": [],
   "source": [
    "def reindex(client: OpenSearch, analysisSettings={}, mappingSettings={}, movieDict={}):\n",
    "    settings = { #A\n",
    "        \"settings\": {\n",
    "            \"number_of_shards\": 1, #B\n",
    "            \"number_of_replicas\": 1\n",
    "        }}\n",
    "\n",
    "    if mappingSettings:\n",
    "        settings['mappings'] = mappingSettings #C\n",
    "    \n",
    "    index_exists = client.indices.exists(\"tmdb\")\n",
    "    print(index_exists)\n",
    "    if index_exists:\n",
    "        resp = client.indices.delete(\"tmdb\")\n",
    "        print(f\"deleted tmdb: {resp}\")\n",
    "        resp = client.indices.create(\"tmdb\") \n",
    "    else:\n",
    "        resp = client.indices.create(\"tmdb\") \n",
    "\n",
    "    bulkMovies = \"\"\n",
    "    print(\"building...\")\n",
    "    for id, movie in movieDict.items(): \n",
    "        addCmd = {\"index\": {\"_index\": \"tmdb\", #E\n",
    "                            \"_id\": movie[\"id\"]}}\n",
    "        bulkMovies += json.dumps(addCmd) + \"\\n\" + json.dumps(movie) + \"\\n\"\n",
    "\n",
    "    print(\"indexing...\")\n",
    "    resp = client.bulk(index='tmdb', body=bulkMovies)\n"
   ]
  },
  {
   "cell_type": "code",
   "execution_count": 10,
   "id": "2008161c",
   "metadata": {},
   "outputs": [],
   "source": [
    "movieDict = extract()\n",
    "#movieDict"
   ]
  },
  {
   "cell_type": "code",
   "execution_count": 11,
   "id": "019430b0",
   "metadata": {},
   "outputs": [
    {
     "name": "stdout",
     "output_type": "stream",
     "text": [
      "True\n",
      "deleted tmdb: {'acknowledged': True}\n",
      "building...\n",
      "indexing...\n"
     ]
    }
   ],
   "source": [
    "reindex(client, movieDict=movieDict)"
   ]
  },
  {
   "cell_type": "markdown",
   "id": "4cfffe16",
   "metadata": {},
   "source": [
    "# 3.6 Basic Searching"
   ]
  },
  {
   "cell_type": "code",
   "execution_count": 13,
   "id": "a42efaa6-6cf3-43c0-8ef5-5c5210d0fef7",
   "metadata": {
    "tags": []
   },
   "outputs": [],
   "source": [
    "def print_results_table(searchHits):\n",
    "    print(\"Num\\tRelevance Score\\t\\tMovie Title\\tOverview\") #B\n",
    "    idx = 0 \n",
    "    for hit in searchHits['hits']: \n",
    "        idx = idx + 1\n",
    "        score = hit['_score']\n",
    "        print(f\"{idx}\\t{score}\\t{hit['_source']['title']}\\t\") #{hit['_source']['overview']}\")"
   ]
  },
  {
   "cell_type": "code",
   "execution_count": 22,
   "id": "498cccd1",
   "metadata": {},
   "outputs": [],
   "source": [
    "def search(client: OpenSearch, query, explain=False, from_=0, size=10):\n",
    "    resp = client.search(body=query,\n",
    "                        index = 'tmdb',\n",
    "                        explain=explain,\n",
    "                        from_=from_,\n",
    "                        size=size)\n",
    "    \n",
    "    searchHits = resp['hits']\n",
    "    return searchHits\n",
    "\n",
    "\n",
    "\n"
   ]
  },
  {
   "cell_type": "code",
   "execution_count": 23,
   "id": "882c15cc",
   "metadata": {},
   "outputs": [
    {
     "name": "stdout",
     "output_type": "stream",
     "text": [
      "Num\tRelevance Score\t\tMovie Title\tOverview\n",
      "1\t85.56929\tAliens\t\n",
      "2\t73.71077\tThe Basketball Diaries\t\n",
      "3\t71.3202\tCowboys & Aliens\t\n",
      "4\t61.13922\tMonsters vs Aliens\t\n",
      "5\t53.501823\tAliens vs Predator: Requiem\t\n",
      "6\t53.501823\tAliens in the Attic\t\n",
      "7\t45.221096\tDances with Wolves\t\n",
      "8\t45.221096\tFriends with Benefits\t\n",
      "9\t45.221096\tFire with Fire\t\n",
      "10\t45.221096\tFriends with Kids\t\n",
      "11\t39.572163\tInterview with the Vampire\t\n",
      "12\t39.572163\tFrom Russia With Love\t\n",
      "13\t39.572163\tGone with the Wind\t\n",
      "14\t39.572163\tJust Go With It\t\n",
      "15\t39.572163\tMy Week with Marilyn\t\n",
      "16\t39.572163\tFrom Paris with Love\t\n",
      "17\t39.572163\tTrouble with the Curve\t\n",
      "18\t39.572163\tSleeping with the Enemy\t\n",
      "19\t39.572163\tHobo with a Shotgun\t\n",
      "20\t39.572163\tTo Rome with Love\t\n",
      "21\t35.17782\tDie Hard: With a Vengeance\t\n",
      "22\t35.17782\tGirl with a Pearl Earring\t\n",
      "23\t35.17782\tFun with Dick and Jane\t\n",
      "24\t31.661873\tThe Girl with the Dragon Tattoo\t\n",
      "25\t31.661873\tThe Life Aquatic With Steve Zissou\t\n",
      "26\t31.661873\tTwin Peaks: Fire Walk with Me\t\n",
      "27\t31.661873\tYou Don't Mess With the Zohan\t\n",
      "28\t31.661873\tThe Man with the Golden Gun\t\n",
      "29\t31.661873\tCloudy with a Chance of Meatballs\t\n",
      "30\t31.661873\tThe Girl with the Dragon Tattoo\t\n",
      "31\t31.661873\tThe Man with the Iron Fists\t\n",
      "32\t31.661873\tThe Girl Who Played with Fire\t\n",
      "33\t28.784897\tCloudy with a Chance of Meatballs 2\t\n",
      "34\t28.784897\tThe Pirates! In an Adventure with Scientists!\t\n",
      "35\t9.305035\tMeet Dave\t\n",
      "36\t8.257416\tSpeed Racer\t\n",
      "37\t7.975379\tSpace Jam\t\n",
      "38\t7.7324815\tGrown Ups\t\n",
      "39\t7.505871\tSemi-Pro\t\n",
      "40\t7.3902683\tThe Flintstones\t\n",
      "41\t7.219441\tCoach Carter\t\n",
      "42\t6.7105947\tWhite Men Can't Jump\t\n",
      "43\t6.6692567\tAlien: Resurrection\t\n",
      "44\t6.531829\tTeen Wolf\t\n",
      "45\t6.5275307\tDistrict 9\t\n",
      "46\t6.4917965\tBedazzled\t\n",
      "47\t6.458376\tThe Watch\t\n",
      "48\t6.1556296\tGalaxy Quest\t\n",
      "49\t5.746967\tBatteries Not Included\t\n",
      "50\t5.5015993\tThey Live\t\n"
     ]
    }
   ],
   "source": [
    "\n",
    "usersSearch = 'basketball with cartoon aliens'\n",
    "query = {\n",
    "   \"query\" : {\n",
    "      \"multi_match\" : {\n",
    "         \"query\": usersSearch,\n",
    "         \"fields\": [\"title^10\",\"overview\"]\n",
    "      }\n",
    "   },\n",
    "}\n",
    "\n",
    "    \n",
    "print_results_table(search(client, query, size=50))\n",
    "\n"
   ]
  },
  {
   "cell_type": "markdown",
   "id": "9a068d8a",
   "metadata": {},
   "source": [
    "### Listing 3.7. Explaining the behavior of your query"
   ]
  },
  {
   "cell_type": "code",
   "execution_count": 13,
   "id": "7f29cece",
   "metadata": {
    "scrolled": true
   },
   "outputs": [
    {
     "data": {
      "application/json": {
       "hits": [
        {
         "_explanation": {
          "description": "max of:",
          "details": [
           {
            "description": "sum of:",
            "details": [
             {
              "description": "weight(title:aliens in 454) [PerFieldSimilarity], result of:",
              "details": [
               {
                "description": "score(freq=1.0), computed as boost * idf * tf from:",
                "details": [
                 {
                  "description": "boost",
                  "details": [],
                  "value": 22
                 },
                 {
                  "description": "idf, computed as log(1 + (N - n + 0.5) / (n + 0.5)) from:",
                  "details": [
                   {
                    "description": "n, number of documents containing term",
                    "details": [],
                    "value": 5
                   },
                   {
                    "description": "N, total number of documents with field",
                    "details": [],
                    "value": 3051
                   }
                  ],
                  "value": 6.3188043
                 },
                 {
                  "description": "tf, computed as freq / (freq + k1 * (1 - b + b * dl / avgdl)) from:",
                  "details": [
                   {
                    "description": "freq, occurrences of term within document",
                    "details": [],
                    "value": 1
                   },
                   {
                    "description": "k1, term saturation parameter",
                    "details": [],
                    "value": 1.2
                   },
                   {
                    "description": "b, length normalization parameter",
                    "details": [],
                    "value": 0.75
                   },
                   {
                    "description": "dl, length of field",
                    "details": [],
                    "value": 1
                   },
                   {
                    "description": "avgdl, average length of field",
                    "details": [],
                    "value": 2.7728612
                   }
                  ],
                  "value": 0.61554575
                 }
                ],
                "value": 85.56929
               }
              ],
              "value": 85.56929
             }
            ],
            "value": 85.56929
           },
           {
            "description": "sum of:",
            "details": [
             {
              "description": "weight(overview:with in 454) [PerFieldSimilarity], result of:",
              "details": [
               {
                "description": "score(freq=1.0), computed as boost * idf * tf from:",
                "details": [
                 {
                  "description": "boost",
                  "details": [],
                  "value": 2.2
                 },
                 {
                  "description": "idf, computed as log(1 + (N - n + 0.5) / (n + 0.5)) from:",
                  "details": [
                   {
                    "description": "n, number of documents containing term",
                    "details": [],
                    "value": 1166
                   },
                   {
                    "description": "N, total number of documents with field",
                    "details": [],
                    "value": 3050
                   }
                  ],
                  "value": 0.9614616
                 },
                 {
                  "description": "tf, computed as freq / (freq + k1 * (1 - b + b * dl / avgdl)) from:",
                  "details": [
                   {
                    "description": "freq, occurrences of term within document",
                    "details": [],
                    "value": 1
                   },
                   {
                    "description": "k1, term saturation parameter",
                    "details": [],
                    "value": 1.2
                   },
                   {
                    "description": "b, length normalization parameter",
                    "details": [],
                    "value": 0.75
                   },
                   {
                    "description": "dl, length of field (approximate)",
                    "details": [],
                    "value": 60
                   },
                   {
                    "description": "avgdl, average length of field",
                    "details": [],
                    "value": 52.963608
                   }
                  ],
                  "value": 0.43111473
                 }
                ],
                "value": 0.91190064
               }
              ],
              "value": 0.91190064
             }
            ],
            "value": 0.91190064
           }
          ],
          "value": 85.56929
         },
         "_id": "679",
         "_index": "tmdb",
         "_node": "BLtKDzRQQQC1jz5bUghiYQ",
         "_score": 85.56929,
         "_shard": "[tmdb][0]",
         "_source": {
          "adult": false,
          "backdrop_path": "/tgXaHtpmxj4SkMxBTi1Desl6Mc6.jpg",
          "belongs_to_collection": {
           "backdrop_path": "/52Lhwd7srnktMFDYkfhtMoZdabT.jpg",
           "id": 8091,
           "name": "Alien Collection",
           "poster_path": "/iVzIeC3PbG9BtDAudpwSNdKAgh6.jpg"
          },
          "budget": 18500000,
          "cast": [
           {
            "cast_id": 21,
            "character": "Lieutenant Ellen Ripley",
            "credit_id": "52fe4269c3a36847f801c9bf",
            "id": 10205,
            "name": "Sigourney Weaver",
            "order": 0,
            "profile_path": "/pYtEkU8VOP0pS2gC1iD2Vuesgyj.jpg"
           },
           {
            "cast_id": 22,
            "character": "Rebecca \"Newt\" Jorden",
            "credit_id": "52fe4269c3a36847f801c9c3",
            "id": 10206,
            "name": "Carrie Henn",
            "order": 1,
            "profile_path": "/6MrxgxZoiUDA8k0GUwLuBcXN03B.jpg"
           },
           {
            "cast_id": 23,
            "character": "Corporal Dwayne Hicks",
            "credit_id": "52fe4269c3a36847f801c9c7",
            "id": 2712,
            "name": "Michael Biehn",
            "order": 2,
            "profile_path": "/uZvJIfVirbv32OK4nba5bMZ6t9G.jpg"
           },
           {
            "cast_id": 24,
            "character": "L. Bishop",
            "credit_id": "52fe4269c3a36847f801c9cb",
            "id": 2714,
            "name": "Lance Henriksen",
            "order": 3,
            "profile_path": "/wf4Pr9RxsHGd0O9fLPiB3Al8IVC.jpg"
           },
           {
            "cast_id": 25,
            "character": "Carter J. Burke",
            "credit_id": "52fe4269c3a36847f801c9cf",
            "id": 781,
            "name": "Paul Reiser",
            "order": 4,
            "profile_path": "/fr53dQQrDGfETgbliCktwKqteRU.jpg"
           },
           {
            "cast_id": 26,
            "character": "Private W. Hudson",
            "credit_id": "52fe4269c3a36847f801c9d3",
            "id": 2053,
            "name": "Bill Paxton",
            "order": 5,
            "profile_path": "/53Ln1wTC0OCLzBF4HNlwhMXYgOU.jpg"
           },
           {
            "cast_id": 27,
            "character": "Lieutenant S. Gorman",
            "credit_id": "52fe4269c3a36847f801c9d7",
            "id": 10207,
            "name": "William Hope",
            "order": 6,
            "profile_path": "/46N4dSYShHnRTcbqD7Fzfjnmvvq.jpg"
           },
           {
            "cast_id": 28,
            "character": "Private J. Vasquez",
            "credit_id": "52fe4269c3a36847f801c9db",
            "id": 3981,
            "name": "Jenette Goldstein",
            "order": 7,
            "profile_path": "/wCcO7cqHJVtnfRlvAJvo7jKd6Bq.jpg"
           },
           {
            "cast_id": 29,
            "character": "Sergeant A. Apone",
            "credit_id": "52fe4269c3a36847f801c9df",
            "id": 10208,
            "name": "Al Matthews",
            "order": 8,
            "profile_path": null
           },
           {
            "cast_id": 30,
            "character": "Private M. Drake",
            "credit_id": "52fe4269c3a36847f801c9e3",
            "id": 6576,
            "name": "Mark Rolston",
            "order": 9,
            "profile_path": "/bsh3cqDNwVvux4NdaY1Bj4S7mNS.jpg"
           },
           {
            "cast_id": 31,
            "character": "Corporal C. Ferro",
            "credit_id": "52fe4269c3a36847f801c9e7",
            "id": 10209,
            "name": "Colette Hiller",
            "order": 10,
            "profile_path": null
           },
           {
            "cast_id": 32,
            "character": "Private D. Spunkmeyer",
            "credit_id": "52fe4269c3a36847f801c9eb",
            "id": 10210,
            "name": "Daniel Kash",
            "order": 11,
            "profile_path": "/b6lvtpkTRHHcv4YMW3FnGRtyXJ4.jpg"
           },
           {
            "cast_id": 33,
            "character": "Corporal C. Dietrich",
            "credit_id": "52fe4269c3a36847f801c9ef",
            "id": 10211,
            "name": "Cynthia Dale Scott",
            "order": 12,
            "profile_path": "/cBrZS9bmSrRclBVHG6QeSuUj1Q9.jpg"
           },
           {
            "cast_id": 34,
            "character": "Private R. Frost",
            "credit_id": "52fe4269c3a36847f801c9f3",
            "id": 10212,
            "name": "Ricco Ross",
            "order": 13,
            "profile_path": "/ep1gfuShCdZghxBGBtNWhWTxWpp.jpg"
           },
           {
            "cast_id": 35,
            "character": "Private T. Crowe",
            "credit_id": "52fe4269c3a36847f801c9f7",
            "id": 10213,
            "name": "Tip Tipping",
            "order": 14,
            "profile_path": null
           }
          ],
          "directors": [
           {
            "credit_id": "52fe4269c3a36847f801c94f",
            "department": "Directing",
            "id": 2710,
            "job": "Director",
            "name": "James Cameron",
            "profile_path": "/6Zk8h1XsPGKUM8M8cKUHAnmnc8O.jpg"
           }
          ],
          "genres": [
           {
            "id": 28,
            "name": "Action"
           },
           {
            "id": 27,
            "name": "Horror"
           },
           {
            "id": 878,
            "name": "Science Fiction"
           },
           {
            "id": 53,
            "name": "Thriller"
           }
          ],
          "homepage": "",
          "id": 679,
          "imdb_id": "tt0090605",
          "original_language": "en",
          "original_title": "Aliens",
          "overview": "When Ripley's lifepod is found by a salvage crew over 50 years later, she finds that terra-formers are on the very planet they found the alien species. When the company sends a family of colonists out to investigate her story... all contact is lost with the planet and colonists. They enlist Ripley and the colonial marines to return and search for answers.",
          "popularity": 1.89115344020609,
          "poster_path": "/nORMXEkYEbzkU5WkMWMgRDJwjSZ.jpg",
          "production_companies": [
           {
            "id": 306,
            "name": "Twentieth Century Fox Film Corporation"
           },
           {
            "id": 19747,
            "name": "Brandywine Productions"
           },
           {
            "id": 396,
            "name": "SLM Production Group"
           }
          ],
          "production_countries": [
           {
            "iso_3166_1": "GB",
            "name": "United Kingdom"
           },
           {
            "iso_3166_1": "US",
            "name": "United States of America"
           }
          ],
          "release_date": "1986-07-18",
          "revenue": 131060248,
          "runtime": 137,
          "spoken_languages": [
           {
            "iso_639_1": "en",
            "name": "English"
           }
          ],
          "status": "Released",
          "tagline": "This Time It's War",
          "title": "Aliens",
          "video": false,
          "vote_average": 7.4,
          "vote_count": 1175
         }
        },
        {
         "_explanation": {
          "description": "max of:",
          "details": [
           {
            "description": "sum of:",
            "details": [
             {
              "description": "weight(title:basketball in 536) [PerFieldSimilarity], result of:",
              "details": [
               {
                "description": "score(freq=1.0), computed as boost * idf * tf from:",
                "details": [
                 {
                  "description": "boost",
                  "details": [],
                  "value": 22
                 },
                 {
                  "description": "idf, computed as log(1 + (N - n + 0.5) / (n + 0.5)) from:",
                  "details": [
                   {
                    "description": "n, number of documents containing term",
                    "details": [],
                    "value": 1
                   },
                   {
                    "description": "N, total number of documents with field",
                    "details": [],
                    "value": 3051
                   }
                  ],
                  "value": 7.6180873
                 },
                 {
                  "description": "tf, computed as freq / (freq + k1 * (1 - b + b * dl / avgdl)) from:",
                  "details": [
                   {
                    "description": "freq, occurrences of term within document",
                    "details": [],
                    "value": 1
                   },
                   {
                    "description": "k1, term saturation parameter",
                    "details": [],
                    "value": 1.2
                   },
                   {
                    "description": "b, length normalization parameter",
                    "details": [],
                    "value": 0.75
                   },
                   {
                    "description": "dl, length of field",
                    "details": [],
                    "value": 3
                   },
                   {
                    "description": "avgdl, average length of field",
                    "details": [],
                    "value": 2.7728612
                   }
                  ],
                  "value": 0.43980724
                 }
                ],
                "value": 73.71077
               }
              ],
              "value": 73.71077
             }
            ],
            "value": 73.71077
           }
          ],
          "value": 73.71077
         },
         "_id": "10474",
         "_index": "tmdb",
         "_node": "BLtKDzRQQQC1jz5bUghiYQ",
         "_score": 73.71077,
         "_shard": "[tmdb][0]",
         "_source": {
          "adult": false,
          "backdrop_path": "/6rGA5l7Ykdge27x3wysSdOouVPk.jpg",
          "belongs_to_collection": null,
          "budget": 0,
          "cast": [
           {
            "cast_id": 9,
            "character": "Jim Carroll",
            "credit_id": "52fe43779251416c750116ab",
            "id": 6193,
            "name": "Leonardo DiCaprio",
            "order": 0,
            "profile_path": "/jToSMocaCaS5YnuOJVqQ7S7pr4Q.jpg"
           },
           {
            "cast_id": 10,
            "character": "Jim's Mother",
            "credit_id": "52fe43779251416c750116af",
            "id": 11478,
            "name": "Lorraine Bracco",
            "order": 1,
            "profile_path": "/1neO0scj7QyrrWDp1JZRrN0tA8Y.jpg"
           },
           {
            "cast_id": 11,
            "character": "Pedro",
            "credit_id": "52fe43779251416c750116b3",
            "id": 65395,
            "name": "James Madio",
            "order": 2,
            "profile_path": "/3s32FSsr95w6nGtoH5f9sPk1mPw.jpg"
           },
           {
            "cast_id": 12,
            "character": "Mickey",
            "credit_id": "52fe43779251416c750116b7",
            "id": 13240,
            "name": "Mark Wahlberg",
            "order": 3,
            "profile_path": "/tdPF78kdzxPcCwxKjPykq6u3y5Z.jpg"
           },
           {
            "cast_id": 21,
            "character": "Swifty",
            "credit_id": "52fe43779251416c750116d7",
            "id": 9257,
            "name": "Bruno Kirby",
            "order": 4,
            "profile_path": "/vWKYTMoasP2kVqvG0hoNe4q73Nx.jpg"
           },
           {
            "cast_id": 14,
            "character": "Neutron",
            "credit_id": "52fe43779251416c750116bb",
            "id": 186526,
            "name": "Patrick McGaw",
            "order": 5,
            "profile_path": null
           },
           {
            "cast_id": 15,
            "character": "Diane Moody",
            "credit_id": "52fe43779251416c750116bf",
            "id": 3196,
            "name": "Juliette Lewis",
            "order": 6,
            "profile_path": "/eeEx3v5ElBHvlrJjULlj5I3EpPF.jpg"
           },
           {
            "cast_id": 16,
            "character": "Bobby",
            "credit_id": "52fe43779251416c750116c3",
            "id": 11486,
            "name": "Michael Imperioli",
            "order": 7,
            "profile_path": "/7zfMAQoliPWMEbL9e0cPnpnLMzf.jpg"
           },
           {
            "cast_id": 17,
            "character": "Reggie",
            "credit_id": "52fe43779251416c750116c7",
            "id": 8874,
            "name": "Ernie Hudson",
            "order": 8,
            "profile_path": "/wrMGBA4eNTUj2ympGsxaqcRpHBS.jpg"
           },
           {
            "cast_id": 18,
            "character": "Manny",
            "credit_id": "52fe43779251416c750116cb",
            "id": 163985,
            "name": "Manny Alfaro",
            "order": 9,
            "profile_path": null
           },
           {
            "cast_id": 19,
            "character": "Winkie",
            "credit_id": "52fe43779251416c750116cf",
            "id": 185889,
            "name": "Cynthia Daniel",
            "order": 10,
            "profile_path": null
           },
           {
            "cast_id": 20,
            "character": "Blinkie",
            "credit_id": "52fe43779251416c750116d3",
            "id": 35476,
            "name": "Brittany Daniel",
            "order": 11,
            "profile_path": "/3c7mCIY8wiUBANoxzl3oz1UOpgp.jpg"
           }
          ],
          "directors": [
           {
            "credit_id": "52fe43779251416c7501167d",
            "department": "Directing",
            "id": 65390,
            "job": "Director",
            "name": "Scott Kalvert",
            "profile_path": null
           }
          ],
          "genres": [
           {
            "id": 80,
            "name": "Crime"
           },
           {
            "id": 18,
            "name": "Drama"
           }
          ],
          "homepage": "",
          "id": 10474,
          "imdb_id": "tt0112461",
          "original_language": "en",
          "original_title": "The Basketball Diaries",
          "overview": "Film adaptation of street tough Jim Carroll's epistle about his kaleidoscopic free fall into the harrowing world of drug addiction.",
          "popularity": 1.06484313746498,
          "poster_path": "/8BkedYL5LdpkyHc7JtuohMr8a9N.jpg",
          "production_companies": [
           {
            "id": 12,
            "name": "New Line Cinema"
           },
           {
            "id": 3492,
            "name": "Island Pictures"
           }
          ],
          "production_countries": [
           {
            "iso_3166_1": "US",
            "name": "United States of America"
           }
          ],
          "release_date": "1995-04-21",
          "revenue": 0,
          "runtime": 102,
          "spoken_languages": [
           {
            "iso_639_1": "en",
            "name": "English"
           }
          ],
          "status": "Released",
          "tagline": "The true story of the death of innocence and the birth of an artist.",
          "title": "The Basketball Diaries",
          "video": false,
          "vote_average": 6.9,
          "vote_count": 73
         }
        },
        {
         "_explanation": {
          "description": "max of:",
          "details": [
           {
            "description": "sum of:",
            "details": [
             {
              "description": "weight(title:aliens in 465) [PerFieldSimilarity], result of:",
              "details": [
               {
                "description": "score(freq=1.0), computed as boost * idf * tf from:",
                "details": [
                 {
                  "description": "boost",
                  "details": [],
                  "value": 22
                 },
                 {
                  "description": "idf, computed as log(1 + (N - n + 0.5) / (n + 0.5)) from:",
                  "details": [
                   {
                    "description": "n, number of documents containing term",
                    "details": [],
                    "value": 5
                   },
                   {
                    "description": "N, total number of documents with field",
                    "details": [],
                    "value": 3051
                   }
                  ],
                  "value": 6.3188043
                 },
                 {
                  "description": "tf, computed as freq / (freq + k1 * (1 - b + b * dl / avgdl)) from:",
                  "details": [
                   {
                    "description": "freq, occurrences of term within document",
                    "details": [],
                    "value": 1
                   },
                   {
                    "description": "k1, term saturation parameter",
                    "details": [],
                    "value": 1.2
                   },
                   {
                    "description": "b, length normalization parameter",
                    "details": [],
                    "value": 0.75
                   },
                   {
                    "description": "dl, length of field",
                    "details": [],
                    "value": 2
                   },
                   {
                    "description": "avgdl, average length of field",
                    "details": [],
                    "value": 2.7728612
                   }
                  ],
                  "value": 0.5130445
                 }
                ],
                "value": 71.3202
               }
              ],
              "value": 71.3202
             }
            ],
            "value": 71.3202
           },
           {
            "description": "sum of:",
            "details": [
             {
              "description": "weight(overview:with in 465) [PerFieldSimilarity], result of:",
              "details": [
               {
                "description": "score(freq=2.0), computed as boost * idf * tf from:",
                "details": [
                 {
                  "description": "boost",
                  "details": [],
                  "value": 2.2
                 },
                 {
                  "description": "idf, computed as log(1 + (N - n + 0.5) / (n + 0.5)) from:",
                  "details": [
                   {
                    "description": "n, number of documents containing term",
                    "details": [],
                    "value": 1166
                   },
                   {
                    "description": "N, total number of documents with field",
                    "details": [],
                    "value": 3050
                   }
                  ],
                  "value": 0.9614616
                 },
                 {
                  "description": "tf, computed as freq / (freq + k1 * (1 - b + b * dl / avgdl)) from:",
                  "details": [
                   {
                    "description": "freq, occurrences of term within document",
                    "details": [],
                    "value": 2
                   },
                   {
                    "description": "k1, term saturation parameter",
                    "details": [],
                    "value": 1.2
                   },
                   {
                    "description": "b, length normalization parameter",
                    "details": [],
                    "value": 0.75
                   },
                   {
                    "description": "dl, length of field (approximate)",
                    "details": [],
                    "value": 60
                   },
                   {
                    "description": "avgdl, average length of field",
                    "details": [],
                    "value": 52.963608
                   }
                  ],
                  "value": 0.60248804
                 }
                ],
                "value": 1.274392
               }
              ],
              "value": 1.274392
             }
            ],
            "value": 1.274392
           }
          ],
          "value": 71.3202
         },
         "_id": "49849",
         "_index": "tmdb",
         "_node": "BLtKDzRQQQC1jz5bUghiYQ",
         "_score": 71.3202,
         "_shard": "[tmdb][0]",
         "_source": {
          "adult": false,
          "backdrop_path": "/gmapSsDGkPNPRxaQXLdotYkYKzM.jpg",
          "belongs_to_collection": null,
          "budget": 163000000,
          "cast": [
           {
            "cast_id": 6,
            "character": "Ella",
            "credit_id": "52fe47abc3a36847f8141e21",
            "id": 59315,
            "name": "Olivia Wilde",
            "order": 0,
            "profile_path": "/3d69fgT1QOTDJxqy7FpBBAQxoM0.jpg"
           },
           {
            "cast_id": 7,
            "character": "Col. Woodrow Dolarhyde",
            "credit_id": "52fe47abc3a36847f8141e25",
            "id": 3,
            "name": "Harrison Ford",
            "order": 1,
            "profile_path": "/7CcoVFTogQgex2kJkXKMe8qHZrC.jpg"
           },
           {
            "cast_id": 8,
            "character": "Jake Lonergan",
            "credit_id": "52fe47abc3a36847f8141e29",
            "id": 8784,
            "name": "Daniel Craig",
            "order": 2,
            "profile_path": "/h8pfDEYJEIFhIuhwiYZGmgtwc8s.jpg"
           },
           {
            "cast_id": 9,
            "character": "Doc",
            "credit_id": "52fe47abc3a36847f8141e2d",
            "id": 6807,
            "name": "Sam Rockwell",
            "order": 3,
            "profile_path": "/sKmpynD57Nwd62hrkjlXFK9hzGg.jpg"
           },
           {
            "cast_id": 10,
            "character": "Percy",
            "credit_id": "52fe47abc3a36847f8141e31",
            "id": 17142,
            "name": "Paul Dano",
            "order": 4,
            "profile_path": "/qBIvuBoJ1EuBiDQ8NfJp4ljGMvp.jpg"
           },
           {
            "cast_id": 11,
            "character": "Hunt",
            "credit_id": "52fe47abc3a36847f8141e35",
            "id": 27740,
            "name": "Walton Goggins",
            "order": 5,
            "profile_path": "/3ESBPeIUGxB4rptFoWvIcC9UskL.jpg"
           },
           {
            "cast_id": 12,
            "character": "Maria",
            "credit_id": "52fe47abc3a36847f8141e39",
            "id": 57409,
            "name": "Ana de la Reguera",
            "order": 6,
            "profile_path": "/lMFcS5MT1NNDo6gSE6h78nkeMmU.jpg"
           },
           {
            "cast_id": 13,
            "character": "Meacham",
            "credit_id": "52fe47abc3a36847f8141e3d",
            "id": 6574,
            "name": "Clancy Brown",
            "order": 7,
            "profile_path": "/pwiG1ljLoqfcmFH2zFp5NP2ML4B.jpg"
           },
           {
            "cast_id": 14,
            "character": "Sheriff Taggart",
            "credit_id": "52fe47abc3a36847f8141e41",
            "id": 30613,
            "name": "Keith Carradine",
            "order": 8,
            "profile_path": "/xAZfdJPrQX5OnHOF0OXMOo5sUlX.jpg"
           },
           {
            "cast_id": 15,
            "character": "Emmet",
            "credit_id": "52fe47abc3a36847f8141e45",
            "id": 88816,
            "name": "Noah Ringer",
            "order": 9,
            "profile_path": "/rViKaQd4q8qCFmFRbrZY849ykST.jpg"
           },
           {
            "cast_id": 16,
            "character": "Pat Dolan",
            "credit_id": "52fe47abc3a36847f8141e49",
            "id": 2482,
            "name": "David O'Hara",
            "order": 10,
            "profile_path": "/sJ35AHaSTzSrvd80xrlC1CD30iF.jpg"
           },
           {
            "cast_id": 17,
            "character": "Nat Colorado",
            "credit_id": "52fe47abc3a36847f8141e4d",
            "id": 33527,
            "name": "Adam Beach",
            "order": 11,
            "profile_path": "/jXb4UZtpJHyLWGbePDB2bJUJAxq.jpg"
           },
           {
            "cast_id": 18,
            "character": "Alice",
            "credit_id": "52fe47abc3a36847f8141e51",
            "id": 123725,
            "name": "Abigail Spencer",
            "order": 12,
            "profile_path": "/gvEszv5iY2gcQ6v7JoegCkY7YjL.jpg"
           },
           {
            "cast_id": 19,
            "character": "Roy Murphy",
            "credit_id": "52fe47abc3a36847f8141e55",
            "id": 18271,
            "name": "Toby Huss",
            "order": 13,
            "profile_path": "/g2DTpEl1DfsrN5oTcJuK5JtLmhX.jpg"
           },
           {
            "cast_id": 20,
            "character": "Black Knife",
            "credit_id": "52fe47abc3a36847f8141e59",
            "id": 17688,
            "name": "Raoul Trujillo",
            "order": 14,
            "profile_path": "/vkrPv04OJRV9G6u6yydjJz2WKE0.jpg"
           },
           {
            "cast_id": 23,
            "character": "Apache Warrior 1",
            "credit_id": "52fe47abc3a36847f8141e69",
            "id": 1039678,
            "name": "David Midthunder",
            "order": 15,
            "profile_path": "/f0piRndy8kXPUh4onNoNNoeIO9u.jpg"
           },
           {
            "cast_id": 25,
            "character": "Luke Claiborne",
            "credit_id": "52fe47abc3a36847f8141e73",
            "id": 591769,
            "name": "Matthew Taylor",
            "order": 16,
            "profile_path": "/aCWVlkHatBh7DenW757xZIbf32d.jpg"
           },
           {
            "cast_id": 26,
            "character": "Deputy",
            "credit_id": "52fe47abc3a36847f8141e77",
            "id": 949852,
            "name": "Brian Duffy",
            "order": 17,
            "profile_path": "/1XlYJr9FaTZG4582ziUIoHT8QSP.jpg"
           },
           {
            "cast_id": 27,
            "character": "Charlie Lyle",
            "credit_id": "52fe47abc3a36847f8141e7b",
            "id": 946854,
            "name": "Brendan Wayne",
            "order": 18,
            "profile_path": "/e2bhg69on55SXbQnsxDRROpNohP.jpg"
           },
           {
            "cast_id": 28,
            "character": "Ed",
            "credit_id": "52fe47abc3a36847f8141e7f",
            "id": 38572,
            "name": "Gavin Grazer",
            "order": 19,
            "profile_path": "/qe5J2NMzcN2NVgVS1D04tuDUyke.jpg"
           },
           {
            "cast_id": 29,
            "character": "Little Mickey",
            "credit_id": "52fe47abc3a36847f8141e83",
            "id": 986808,
            "name": "Wyatt Russell",
            "order": 20,
            "profile_path": "/q72sYL63Z7FH2OKa5W4pvdJSkQo.jpg"
           }
          ],
          "directors": [
           {
            "credit_id": "52fe47abc3a36847f8141e1d",
            "department": "Directing",
            "id": 15277,
            "job": "Director",
            "name": "Jon Favreau",
            "profile_path": "/xowOeQYyuInO2qKReau8n41U8j1.jpg"
           }
          ],
          "genres": [
           {
            "id": 28,
            "name": "Action"
           },
           {
            "id": 878,
            "name": "Science Fiction"
           },
           {
            "id": 53,
            "name": "Thriller"
           },
           {
            "id": 37,
            "name": "Western"
           }
          ],
          "homepage": "http://www.cowboysandaliensmovie.com/",
          "id": 49849,
          "imdb_id": "tt0409847",
          "original_language": "en",
          "original_title": "Cowboys & Aliens",
          "overview": "A stranger stumbles into the desert town of Absolution with no memory of his past and a futuristic shackle around his wrist. With the help of mysterious beauty Ella and the iron-fisted Colonel Dolarhyde, he finds himself leading an unlikely posse of cowboys, outlaws, and Apache warriors against a common enemy from beyond this world in an epic showdown for survival.",
          "popularity": 1.2534514039299,
          "poster_path": "/kcUXBEwWDzpRhKreh6C2NSStBiU.jpg",
          "production_companies": [
           {
            "id": 33,
            "name": "Universal Pictures"
           },
           {
            "id": 27,
            "name": "DreamWorks SKG"
           },
           {
            "id": 7294,
            "name": "Reliance Entertainment"
           },
           {
            "id": 7295,
            "name": "Relativity Media"
           },
           {
            "id": 23,
            "name": "Imagine Entertainment"
           },
           {
            "id": 7296,
            "name": "K/O Paper Products"
           },
           {
            "id": 7297,
            "name": "Fairview Entertainment"
           },
           {
            "id": 7218,
            "name": "platinum studios"
           },
           {
            "id": 23300,
            "name": "K/O Camera Toys"
           }
          ],
          "production_countries": [
           {
            "iso_3166_1": "US",
            "name": "United States of America"
           }
          ],
          "release_date": "2011-07-29",
          "revenue": 174822325,
          "runtime": 119,
          "spoken_languages": [
           {
            "iso_639_1": "en",
            "name": "English"
           }
          ],
          "status": "Released",
          "tagline": "First Contact. Last Stand.",
          "title": "Cowboys & Aliens",
          "video": false,
          "vote_average": 5.4,
          "vote_count": 745
         }
        },
        {
         "_explanation": {
          "description": "max of:",
          "details": [
           {
            "description": "sum of:",
            "details": [
             {
              "description": "weight(title:aliens in 285) [PerFieldSimilarity], result of:",
              "details": [
               {
                "description": "score(freq=1.0), computed as boost * idf * tf from:",
                "details": [
                 {
                  "description": "boost",
                  "details": [],
                  "value": 22
                 },
                 {
                  "description": "idf, computed as log(1 + (N - n + 0.5) / (n + 0.5)) from:",
                  "details": [
                   {
                    "description": "n, number of documents containing term",
                    "details": [],
                    "value": 5
                   },
                   {
                    "description": "N, total number of documents with field",
                    "details": [],
                    "value": 3051
                   }
                  ],
                  "value": 6.3188043
                 },
                 {
                  "description": "tf, computed as freq / (freq + k1 * (1 - b + b * dl / avgdl)) from:",
                  "details": [
                   {
                    "description": "freq, occurrences of term within document",
                    "details": [],
                    "value": 1
                   },
                   {
                    "description": "k1, term saturation parameter",
                    "details": [],
                    "value": 1.2
                   },
                   {
                    "description": "b, length normalization parameter",
                    "details": [],
                    "value": 0.75
                   },
                   {
                    "description": "dl, length of field",
                    "details": [],
                    "value": 3
                   },
                   {
                    "description": "avgdl, average length of field",
                    "details": [],
                    "value": 2.7728612
                   }
                  ],
                  "value": 0.43980724
                 }
                ],
                "value": 61.13922
               }
              ],
              "value": 61.13922
             }
            ],
            "value": 61.13922
           },
           {
            "description": "sum of:",
            "details": [
             {
              "description": "weight(overview:with in 285) [PerFieldSimilarity], result of:",
              "details": [
               {
                "description": "score(freq=1.0), computed as boost * idf * tf from:",
                "details": [
                 {
                  "description": "boost",
                  "details": [],
                  "value": 2.2
                 },
                 {
                  "description": "idf, computed as log(1 + (N - n + 0.5) / (n + 0.5)) from:",
                  "details": [
                   {
                    "description": "n, number of documents containing term",
                    "details": [],
                    "value": 1166
                   },
                   {
                    "description": "N, total number of documents with field",
                    "details": [],
                    "value": 3050
                   }
                  ],
                  "value": 0.9614616
                 },
                 {
                  "description": "tf, computed as freq / (freq + k1 * (1 - b + b * dl / avgdl)) from:",
                  "details": [
                   {
                    "description": "freq, occurrences of term within document",
                    "details": [],
                    "value": 1
                   },
                   {
                    "description": "k1, term saturation parameter",
                    "details": [],
                    "value": 1.2
                   },
                   {
                    "description": "b, length normalization parameter",
                    "details": [],
                    "value": 0.75
                   },
                   {
                    "description": "dl, length of field (approximate)",
                    "details": [],
                    "value": 56
                   },
                   {
                    "description": "avgdl, average length of field",
                    "details": [],
                    "value": 52.963608
                   }
                  ],
                  "value": 0.44412923
                 }
                ],
                "value": 0.93942904
               }
              ],
              "value": 0.93942904
             }
            ],
            "value": 0.93942904
           }
          ],
          "value": 61.13922
         },
         "_id": "15512",
         "_index": "tmdb",
         "_node": "BLtKDzRQQQC1jz5bUghiYQ",
         "_score": 61.13922,
         "_shard": "[tmdb][0]",
         "_source": {
          "adult": false,
          "backdrop_path": "/t03uCzKAcYwynMOG4iTcZ75Z23U.jpg",
          "belongs_to_collection": {
           "backdrop_path": "/uhZJNkODuAYTtsXzKLsao3LbW5H.jpg",
           "id": 316277,
           "name": "Monsters vs Aliens Collection",
           "poster_path": "/lDJmx7FeulDKV0d1TnvkJ9tdktp.jpg"
          },
          "budget": 175000000,
          "cast": [
           {
            "cast_id": 8,
            "character": "B.O.B. (voice)",
            "credit_id": "52fe46639251416c75076a61",
            "id": 19274,
            "name": "Seth Rogen",
            "order": 0,
            "profile_path": "/3U9s4dvXQuk1l3ZT3MqwqpmeRqI.jpg"
           },
           {
            "cast_id": 9,
            "character": "Susan Murphy / Ginormica (voice)",
            "credit_id": "52fe46639251416c75076a65",
            "id": 368,
            "name": "Reese Witherspoon",
            "order": 1,
            "profile_path": "/6OPIR8TFcdVhox2obxmIWmJ2Qel.jpg"
           },
           {
            "cast_id": 10,
            "character": "Dr. Cockroach Ph.D. (voice)",
            "credit_id": "52fe46639251416c75076a69",
            "id": 41419,
            "name": "Hugh Laurie",
            "order": 2,
            "profile_path": "/3qCmEHtq5fBW8dbzsYDSy16Zqb0.jpg"
           },
           {
            "cast_id": 11,
            "character": "Derek Dietl (voice)",
            "credit_id": "52fe46639251416c75076a6d",
            "id": 22226,
            "name": "Paul Rudd",
            "order": 3,
            "profile_path": "/oUJyLVn3kCmQuFeug4SBIo7Tc02.jpg"
           },
           {
            "cast_id": 12,
            "character": "General W.R. Monger (voice)",
            "credit_id": "52fe46639251416c75076a71",
            "id": 2628,
            "name": "Kiefer Sutherland",
            "order": 4,
            "profile_path": "/4YvDfOfD4TgyzDkLGoq76g5BZNe.jpg"
           },
           {
            "cast_id": 13,
            "character": "Gallaxhar (voice)",
            "credit_id": "52fe46639251416c75076a75",
            "id": 11678,
            "name": "Rainn Wilson",
            "order": 5,
            "profile_path": "/Adq8cYhhzmSYRwMWDTc7O53L7FR.jpg"
           },
           {
            "cast_id": 14,
            "character": "The Missing Link (voice)",
            "credit_id": "52fe46639251416c75076a79",
            "id": 21200,
            "name": "Will Arnett",
            "order": 6,
            "profile_path": "/vHCqn3SHfSV6GOWrxzEtoDaSMoU.jpg"
           },
           {
            "cast_id": 15,
            "character": "President Hathaway (voice)",
            "credit_id": "52fe46639251416c75076a7d",
            "id": 58769,
            "name": "Stephen Colbert",
            "order": 7,
            "profile_path": "/xVQMuzz4zNX92XFyCybA9JwMCYs.jpg"
           },
           {
            "cast_id": 16,
            "character": "Insectosaurus (voice)",
            "credit_id": "52fe46639251416c75076a81",
            "id": 78303,
            "name": "Jimmy Kimmel",
            "order": 8,
            "profile_path": "/aIGGgXIQcN2UlReL8I5QCJ3AxOn.jpg"
           },
           {
            "cast_id": 17,
            "character": "Wendy Murphy (voice)",
            "credit_id": "52fe46639251416c75076a85",
            "id": 24305,
            "name": "Julie White",
            "order": 9,
            "profile_path": "/iYTRxrNPGNLYmKfv5RI7pcLyV2i.jpg"
           },
           {
            "cast_id": 18,
            "character": "Carl Murphy (voice)",
            "credit_id": "52fe46639251416c75076a89",
            "id": 4175,
            "name": "Jeffrey Tambor",
            "order": 10,
            "profile_path": "/csB350am07xyRL5Ik1BWuSY12tH.jpg"
           },
           {
            "cast_id": 19,
            "character": "Computer (voice)",
            "credit_id": "52fe46639251416c75076a8d",
            "id": 56322,
            "name": "Amy Poehler",
            "order": 11,
            "profile_path": "/qvVYBwZncnWoiu48GklLXQKMngm.jpg"
           },
           {
            "cast_id": 20,
            "character": "News Reporter (voice)",
            "credit_id": "52fe46639251416c75076a91",
            "id": 27105,
            "name": "Ed Helms",
            "order": 12,
            "profile_path": "/cxE76QqiI6LQh3kRAAEDtH39DQd.jpg"
           },
           {
            "cast_id": 21,
            "character": "Katie (voice)",
            "credit_id": "52fe46639251416c75076a95",
            "id": 9137,
            "name": "Renée Zellweger",
            "order": 13,
            "profile_path": "/rAfHyC0IxqwRTKuwosU85ZwQicL.jpg"
           },
           {
            "cast_id": 23,
            "character": "Private Bullhorn / Helicopter Pilot / Advisor Ortega (voice)",
            "credit_id": "52fe46639251416c75076a99",
            "id": 64446,
            "name": "Sean Bishop",
            "order": 14,
            "profile_path": null
           },
           {
            "cast_id": 24,
            "character": "Commander / Advisor Smith (voice)",
            "credit_id": "52fe46639251416c75076a9d",
            "id": 936666,
            "name": "Rich Dietl",
            "order": 15,
            "profile_path": "/caMJRrUIYD4wHlbwu1NIqZZWGby.jpg"
           },
           {
            "cast_id": 25,
            "character": "Technician Bee (voice)",
            "credit_id": "52fe46639251416c75076aa1",
            "id": 212439,
            "name": "Stephen Kearin",
            "order": 16,
            "profile_path": null
           },
           {
            "cast_id": 26,
            "character": "Secret Service Man #1 / Lieutenant (voice)",
            "credit_id": "52fe46639251416c75076aa5",
            "id": 65630,
            "name": "Rob Letterman",
            "order": 17,
            "profile_path": "/v2GPTQ41ZqHtML8W1ft3UJej5xA.jpg"
           },
           {
            "cast_id": 27,
            "character": "Wilson (voice)",
            "credit_id": "52fe46639251416c75076aa9",
            "id": 18864,
            "name": "Tom McGrath",
            "order": 18,
            "profile_path": "/x522iaZSJUqbPlP3C1PvM5oa0rx.jpg"
           },
           {
            "cast_id": 28,
            "character": "Advisor Cole / Army Commander Jones (voice)",
            "credit_id": "52fe46639251416c75076aad",
            "id": 12098,
            "name": "Chris Miller",
            "order": 19,
            "profile_path": "/3nwwLDbRaTQHp26cuDNw1KRgCZd.jpg"
           },
           {
            "cast_id": 29,
            "character": "Advisor Wedgie (voice)",
            "credit_id": "52fe46639251416c75076ab1",
            "id": 64151,
            "name": "Mike Mitchell",
            "order": 20,
            "profile_path": "/thoCDW89KWWaSYrbvUX0adPcg8S.jpg"
           },
           {
            "cast_id": 30,
            "character": "Technician Jerry (voice)",
            "credit_id": "52fe46639251416c75076ab5",
            "id": 45416,
            "name": "Kent Osborne",
            "order": 21,
            "profile_path": "/iszbGHIPuEMa1YDIiJFST3pZfLy.jpg"
           },
           {
            "cast_id": 31,
            "character": "Advisor Ouaou / Mrs. Ronson / Female Advisor #2 / Panicked Guest (voice)",
            "credit_id": "52fe46639251416c75076ab9",
            "id": 936669,
            "name": "Latifa Ouaou",
            "order": 22,
            "profile_path": "/gJ0ntOXcs0RRdMAM9b5Avo5REga.jpg"
           },
           {
            "cast_id": 32,
            "character": "Soldier #4 / Pilot / Soldier #3 / News Technician (voice)",
            "credit_id": "52fe46639251416c75076abd",
            "id": 1077843,
            "name": "Geoffrey Pomeroy",
            "order": 23,
            "profile_path": null
           },
           {
            "cast_id": 33,
            "character": "Soldier #1 / Advisor Jackson (voice)",
            "credit_id": "52fe46639251416c75076ac1",
            "id": 1077844,
            "name": "David P. Smith",
            "order": 24,
            "profile_path": null
           },
           {
            "cast_id": 34,
            "character": "Bridesmaid Candy (voice)",
            "credit_id": "52fe46639251416c75076ac5",
            "id": 11652,
            "name": "Lisa Stewart",
            "order": 25,
            "profile_path": null
           },
           {
            "cast_id": 35,
            "character": "Advisor Hawk / Advisor Dither / Minister / Secret Service Man #2 / Mama Dietl (voice)",
            "credit_id": "52fe46639251416c75076ac9",
            "id": 12080,
            "name": "Conrad Vernon",
            "order": 26,
            "profile_path": "/kSyVrs8NtLoQhfBXFBhnTWzC7Vm.jpg"
           },
           {
            "cast_id": 36,
            "character": "Cuthbert (voice)",
            "credit_id": "52fe46639251416c75076acd",
            "id": 17697,
            "name": "John Krasinski",
            "order": 27,
            "profile_path": "/nOWwdZURikW22qo6OUSGFCTukgc.jpg"
           }
          ],
          "directors": [
           {
            "credit_id": "52fe46639251416c75076a39",
            "department": "Directing",
            "id": 65630,
            "job": "Director",
            "name": "Rob Letterman",
            "profile_path": "/v2GPTQ41ZqHtML8W1ft3UJej5xA.jpg"
           },
           {
            "credit_id": "52fe46639251416c75076a45",
            "department": "Directing",
            "id": 12080,
            "job": "Director",
            "name": "Conrad Vernon",
            "profile_path": "/kSyVrs8NtLoQhfBXFBhnTWzC7Vm.jpg"
           }
          ],
          "genres": [
           {
            "id": 12,
            "name": "Adventure"
           },
           {
            "id": 16,
            "name": "Animation"
           },
           {
            "id": 878,
            "name": "Science Fiction"
           },
           {
            "id": 10751,
            "name": "Family"
           }
          ],
          "homepage": "http://www.monstersvsaliens.com/",
          "id": 15512,
          "imdb_id": "tt0892782",
          "original_language": "en",
          "original_title": "Monsters vs Aliens",
          "overview": "When Susan Murphy is unwittingly clobbered by a meteor full of outer space gunk on her wedding day, she mysteriously grows to 49-feet-11-inches. The military jumps into action and captures Susan, secreting her away to a covert government compound. She is renamed Ginormica and placed in confinement with a ragtag group of Monsters...",
          "popularity": 1.36912486940738,
          "poster_path": "/8x0WrDcFQDC2eoXJe6iC34wXZE8.jpg",
          "production_companies": [
           {
            "id": 521,
            "name": "DreamWorks Animation"
           }
          ],
          "production_countries": [
           {
            "iso_3166_1": "US",
            "name": "United States of America"
           }
          ],
          "release_date": "2009-03-26",
          "revenue": 381509870,
          "runtime": 94,
          "spoken_languages": [
           {
            "iso_639_1": "en",
            "name": "English"
           }
          ],
          "status": "Released",
          "tagline": "When aliens attack, monsters fight back.",
          "title": "Monsters vs Aliens",
          "video": false,
          "vote_average": 5.8,
          "vote_count": 470
         }
        },
        {
         "_explanation": {
          "description": "max of:",
          "details": [
           {
            "description": "sum of:",
            "details": [
             {
              "description": "weight(title:aliens in 286) [PerFieldSimilarity], result of:",
              "details": [
               {
                "description": "score(freq=1.0), computed as boost * idf * tf from:",
                "details": [
                 {
                  "description": "boost",
                  "details": [],
                  "value": 22
                 },
                 {
                  "description": "idf, computed as log(1 + (N - n + 0.5) / (n + 0.5)) from:",
                  "details": [
                   {
                    "description": "n, number of documents containing term",
                    "details": [],
                    "value": 5
                   },
                   {
                    "description": "N, total number of documents with field",
                    "details": [],
                    "value": 3051
                   }
                  ],
                  "value": 6.3188043
                 },
                 {
                  "description": "tf, computed as freq / (freq + k1 * (1 - b + b * dl / avgdl)) from:",
                  "details": [
                   {
                    "description": "freq, occurrences of term within document",
                    "details": [],
                    "value": 1
                   },
                   {
                    "description": "k1, term saturation parameter",
                    "details": [],
                    "value": 1.2
                   },
                   {
                    "description": "b, length normalization parameter",
                    "details": [],
                    "value": 0.75
                   },
                   {
                    "description": "dl, length of field",
                    "details": [],
                    "value": 4
                   },
                   {
                    "description": "avgdl, average length of field",
                    "details": [],
                    "value": 2.7728612
                   }
                  ],
                  "value": 0.3848673
                 }
                ],
                "value": 53.501823
               }
              ],
              "value": 53.501823
             }
            ],
            "value": 53.501823
           }
          ],
          "value": 53.501823
         },
         "_id": "440",
         "_index": "tmdb",
         "_node": "BLtKDzRQQQC1jz5bUghiYQ",
         "_score": 53.501823,
         "_shard": "[tmdb][0]",
         "_source": {
          "adult": false,
          "backdrop_path": "/uypAmOWRpjnqIlg1BzXhGgP1uMM.jpg",
          "belongs_to_collection": {
           "backdrop_path": "/c5ccDw4lcTUnYGdCxc2yEl8PjTk.jpg",
           "id": 115762,
           "name": "AVP Collection",
           "poster_path": "/zrApSsUX9i0qVntcCD0Pp55TdCy.jpg"
          },
          "budget": 40000000,
          "cast": [
           {
            "cast_id": 17,
            "character": "Dallas Howard",
            "credit_id": "52fe4244c3a36847f8010dfb",
            "id": 56389,
            "name": "Steven Pasquale",
            "order": 0,
            "profile_path": "/6rm9ZpBrc3w7tRvAtyMTOltUUvb.jpg"
           },
           {
            "cast_id": 18,
            "character": "Kelly O'Brien",
            "credit_id": "52fe4244c3a36847f8010dff",
            "id": 25869,
            "name": "Reiko Aylesworth",
            "order": 1,
            "profile_path": "/59Gu57v2rOtvvBA06rSuYX2w5h2.jpg"
           },
           {
            "cast_id": 19,
            "character": "Sheriff Eddie Morales",
            "credit_id": "52fe4244c3a36847f8010e03",
            "id": 40543,
            "name": "John Ortiz",
            "order": 2,
            "profile_path": "/eLAPF96eGKcnpV837CciBiFsI7C.jpg"
           },
           {
            "cast_id": 20,
            "character": "Molly O'Brien",
            "credit_id": "52fe4244c3a36847f8010e07",
            "id": 76414,
            "name": "Ariel Gade",
            "order": 3,
            "profile_path": "/axreEq8FBbpww34aBzJo2xM5pkv.jpg"
           },
           {
            "cast_id": 21,
            "character": "Tim",
            "credit_id": "52fe4244c3a36847f8010e0b",
            "id": 131006,
            "name": "Sam Trammell",
            "order": 4,
            "profile_path": "/pvf0cmYdw3Fi2F5HjP2QHgxRKoC.jpg"
           },
           {
            "cast_id": 22,
            "character": "Jesse",
            "credit_id": "538dfcb6c3a3687146005413",
            "id": 73454,
            "name": "Kristen Hager",
            "order": 5,
            "profile_path": "/mofGrgUP2kXXD8cgkYnzfGb8EOL.jpg"
           },
           {
            "cast_id": 23,
            "character": "Col. Stevens",
            "credit_id": "538dfcc4c3a368714300501f",
            "id": 19976,
            "name": "Robert Joy",
            "order": 6,
            "profile_path": "/xh5eb9p379k9w3NOGRjEyAw2yrP.jpg"
           },
           {
            "cast_id": 24,
            "character": "Dale",
            "credit_id": "538dfcccc3a36871520051b4",
            "id": 33293,
            "name": "David Paetkau",
            "order": 7,
            "profile_path": "/xOAjc34j0fZlKSb6I3cpTwHStar.jpg"
           },
           {
            "cast_id": 25,
            "character": "Alien",
            "credit_id": "538dfcd4c3a36871550050d3",
            "id": 109870,
            "name": "Tom Woodruff Jr.",
            "order": 8,
            "profile_path": null
           },
           {
            "cast_id": 26,
            "character": "Predator",
            "credit_id": "538dfcdfc3a368713c00525a",
            "id": 946696,
            "name": "Ian Whyte",
            "order": 9,
            "profile_path": "/6mRY7hTtHfDTGuTLmZmODOu9buF.jpg"
           },
           {
            "cast_id": 27,
            "character": "Darcy",
            "credit_id": "538dfce8c3a368714b0052e9",
            "id": 70175,
            "name": "Chelah Horsdal",
            "order": 10,
            "profile_path": "/v6Av8yrD3C34ngdROP31rNr9vD3.jpg"
           },
           {
            "cast_id": 28,
            "character": "Curtis",
            "credit_id": "538dfcf1c3a36871520051b8",
            "id": 202065,
            "name": "Meshach Peters",
            "order": 11,
            "profile_path": "/2zqlQS2A0kVzoSabpSVi9Qsfrwf.jpg"
           },
           {
            "cast_id": 29,
            "character": "Mark",
            "credit_id": "538dfcf9c3a36871550050d6",
            "id": 210348,
            "name": "Matt Ward",
            "order": 12,
            "profile_path": "/fwGrvAJJi30gapwPIDTkk1BNYHf.jpg"
           },
           {
            "cast_id": 82,
            "character": "Carrie",
            "credit_id": "548d9d9ac3a36820be003a19",
            "id": 33336,
            "name": "Gina Holden",
            "order": 13,
            "profile_path": "/1yw48NuEtDQ6VC5TWAN86VJYMOX.jpg"
           },
           {
            "cast_id": 83,
            "character": "Buddy",
            "credit_id": "548d9db1c3a36820ba0040c1",
            "id": 60721,
            "name": "Kurt Max Runte",
            "order": 14,
            "profile_path": "/eDZnFqvorS8FTL2QVKEhYx9Vcib.jpg"
           },
           {
            "cast_id": 84,
            "character": "Sam",
            "credit_id": "548d9dcd92514122f2004111",
            "id": 83852,
            "name": "Liam James",
            "order": 15,
            "profile_path": "/heAbNsKPFDCFIrzy7zDeZm6w2xd.jpg"
           },
           {
            "cast_id": 85,
            "character": "Nathan",
            "credit_id": "548d9de8c3a3681d4b00215b",
            "id": 42711,
            "name": "Ty Olsson",
            "order": 16,
            "profile_path": "/rd1M0tIIPKkoc1lX8yktMndHUjU.jpg"
           },
           {
            "cast_id": 86,
            "character": "Deputy Ray",
            "credit_id": "548d9e15c3a368153b001ee7",
            "id": 152820,
            "name": "Chris William Martin",
            "order": 17,
            "profile_path": "/tNgMeVpoM4RhEvxjaYtaxLvi1YJ.jpg"
           },
           {
            "cast_id": 87,
            "character": "Nurse Helen",
            "credit_id": "548d9e3bc3a36820be003a27",
            "id": 62717,
            "name": "Rekha Sharma",
            "order": 18,
            "profile_path": "/cx3ubTduzbsfyxPPnS2HoEmZbFG.jpg"
           },
           {
            "cast_id": 88,
            "character": "Tina",
            "credit_id": "548d9e58c3a3681d4b002165",
            "id": 77622,
            "name": "Catherine Lough Haggquist",
            "order": 19,
            "profile_path": "/bXyoDG0aMwUtObFgLgBi7NkviDY.jpg"
           }
          ],
          "directors": [
           {
            "credit_id": "52fe4244c3a36847f8010d9d",
            "department": "Directing",
            "id": 6037,
            "job": "Director",
            "name": "Colin Strause",
            "profile_path": "/mM95v1bWGdz8Ira7K4drueKRT01.jpg"
           },
           {
            "credit_id": "52fe4244c3a36847f8010da3",
            "department": "Directing",
            "id": 6038,
            "job": "Director",
            "name": "Greg Strause",
            "profile_path": "/xcEcDFHoTkIuOkLeWRuX3ksJmy1.jpg"
           }
          ],
          "genres": [
           {
            "id": 28,
            "name": "Action"
           },
           {
            "id": 14,
            "name": "Fantasy"
           },
           {
            "id": 27,
            "name": "Horror"
           },
           {
            "id": 878,
            "name": "Science Fiction"
           },
           {
            "id": 53,
            "name": "Thriller"
           }
          ],
          "homepage": "http://www.avp-r.com/",
          "id": 440,
          "imdb_id": "tt0758730",
          "original_language": "en",
          "original_title": "Aliens vs Predator: Requiem",
          "overview": "A sequel to 2004's Alien vs. Predator, the iconic creatures from two of the scariest film franchises in movie history wage their most brutal battle ever - in our own backyard. The small town of Gunnison, Colorado becomes a war zone between two of the deadliest extra-terrestrial life forms - the Alien and the Predator. When a Predator scout ship crash-lands in the hills outside the town, Alien Facehuggers and a hybrid Alien/Predator are released and begin to terrorize the town.",
          "popularity": 1.68558871718858,
          "poster_path": "/xR4Mslyum7bjzAF1rlUX2HrlwhZ.jpg",
          "production_companies": [
           {
            "id": 444,
            "name": "Dune Entertainment"
           },
           {
            "id": 25,
            "name": "20th Century Fox"
           },
           {
            "id": 401,
            "name": "Brandywine Productions Ltd."
           },
           {
            "id": 1302,
            "name": "Davis Entertainment"
           }
          ],
          "production_countries": [
           {
            "iso_3166_1": "US",
            "name": "United States of America"
           }
          ],
          "release_date": "2007-12-25",
          "revenue": 41797066,
          "runtime": 94,
          "spoken_languages": [
           {
            "iso_639_1": "en",
            "name": "English"
           }
          ],
          "status": "Released",
          "tagline": "The Last Place On Earth We Want To Be Is In The Middle",
          "title": "Aliens vs Predator: Requiem",
          "video": false,
          "vote_average": 5,
          "vote_count": 207
         }
        },
        {
         "_explanation": {
          "description": "max of:",
          "details": [
           {
            "description": "sum of:",
            "details": [
             {
              "description": "weight(title:aliens in 1320) [PerFieldSimilarity], result of:",
              "details": [
               {
                "description": "score(freq=1.0), computed as boost * idf * tf from:",
                "details": [
                 {
                  "description": "boost",
                  "details": [],
                  "value": 22
                 },
                 {
                  "description": "idf, computed as log(1 + (N - n + 0.5) / (n + 0.5)) from:",
                  "details": [
                   {
                    "description": "n, number of documents containing term",
                    "details": [],
                    "value": 5
                   },
                   {
                    "description": "N, total number of documents with field",
                    "details": [],
                    "value": 3051
                   }
                  ],
                  "value": 6.3188043
                 },
                 {
                  "description": "tf, computed as freq / (freq + k1 * (1 - b + b * dl / avgdl)) from:",
                  "details": [
                   {
                    "description": "freq, occurrences of term within document",
                    "details": [],
                    "value": 1
                   },
                   {
                    "description": "k1, term saturation parameter",
                    "details": [],
                    "value": 1.2
                   },
                   {
                    "description": "b, length normalization parameter",
                    "details": [],
                    "value": 0.75
                   },
                   {
                    "description": "dl, length of field",
                    "details": [],
                    "value": 4
                   },
                   {
                    "description": "avgdl, average length of field",
                    "details": [],
                    "value": 2.7728612
                   }
                  ],
                  "value": 0.3848673
                 }
                ],
                "value": 53.501823
               }
              ],
              "value": 53.501823
             }
            ],
            "value": 53.501823
           },
           {
            "description": "sum of:",
            "details": [
             {
              "description": "weight(overview:with in 1320) [PerFieldSimilarity], result of:",
              "details": [
               {
                "description": "score(freq=2.0), computed as boost * idf * tf from:",
                "details": [
                 {
                  "description": "boost",
                  "details": [],
                  "value": 2.2
                 },
                 {
                  "description": "idf, computed as log(1 + (N - n + 0.5) / (n + 0.5)) from:",
                  "details": [
                   {
                    "description": "n, number of documents containing term",
                    "details": [],
                    "value": 1166
                   },
                   {
                    "description": "N, total number of documents with field",
                    "details": [],
                    "value": 3050
                   }
                  ],
                  "value": 0.9614616
                 },
                 {
                  "description": "tf, computed as freq / (freq + k1 * (1 - b + b * dl / avgdl)) from:",
                  "details": [
                   {
                    "description": "freq, occurrences of term within document",
                    "details": [],
                    "value": 2
                   },
                   {
                    "description": "k1, term saturation parameter",
                    "details": [],
                    "value": 1.2
                   },
                   {
                    "description": "b, length normalization parameter",
                    "details": [],
                    "value": 0.75
                   },
                   {
                    "description": "dl, length of field (approximate)",
                    "details": [],
                    "value": 104
                   },
                   {
                    "description": "avgdl, average length of field",
                    "details": [],
                    "value": 52.963608
                   }
                  ],
                  "value": 0.4917326
                 }
                ],
                "value": 1.0401204
               }
              ],
              "value": 1.0401204
             },
             {
              "description": "weight(overview:aliens in 1320) [PerFieldSimilarity], result of:",
              "details": [
               {
                "description": "score(freq=3.0), computed as boost * idf * tf from:",
                "details": [
                 {
                  "description": "boost",
                  "details": [],
                  "value": 2.2
                 },
                 {
                  "description": "idf, computed as log(1 + (N - n + 0.5) / (n + 0.5)) from:",
                  "details": [
                   {
                    "description": "n, number of documents containing term",
                    "details": [],
                    "value": 14
                   },
                   {
                    "description": "N, total number of documents with field",
                    "details": [],
                    "value": 3050
                   }
                  ],
                  "value": 5.3490763
                 },
                 {
                  "description": "tf, computed as freq / (freq + k1 * (1 - b + b * dl / avgdl)) from:",
                  "details": [
                   {
                    "description": "freq, occurrences of term within document",
                    "details": [],
                    "value": 3
                   },
                   {
                    "description": "k1, term saturation parameter",
                    "details": [],
                    "value": 1.2
                   },
                   {
                    "description": "b, length normalization parameter",
                    "details": [],
                    "value": 0.75
                   },
                   {
                    "description": "dl, length of field (approximate)",
                    "details": [],
                    "value": 104
                   },
                   {
                    "description": "avgdl, average length of field",
                    "details": [],
                    "value": 52.963608
                   }
                  ],
                  "value": 0.59203696
                 }
                ],
                "value": 6.967072
               }
              ],
              "value": 6.967072
             }
            ],
            "value": 8.007193
           }
          ],
          "value": 53.501823
         },
         "_id": "20856",
         "_index": "tmdb",
         "_node": "BLtKDzRQQQC1jz5bUghiYQ",
         "_score": 53.501823,
         "_shard": "[tmdb][0]",
         "_source": {
          "adult": false,
          "backdrop_path": "/y66K59c1uxhnM45ZtG5xyOVC8yx.jpg",
          "belongs_to_collection": null,
          "budget": 0,
          "cast": [
           {
            "cast_id": 4,
            "character": "Tom Pearson",
            "credit_id": "52fe43fdc3a368484e0097b5",
            "id": 86653,
            "name": "Carter Jenkins",
            "order": 0,
            "profile_path": "/6Sph044iNZRupQecuuReiaQT52.jpg"
           },
           {
            "cast_id": 5,
            "character": "Jake Pearson",
            "credit_id": "52fe43fdc3a368484e0097b9",
            "id": 86654,
            "name": "Austin Butler",
            "order": 1,
            "profile_path": "/3TIOELfWkg8rkk0AJVRMlSQFLVJ.jpg"
           },
           {
            "cast_id": 6,
            "character": "Stuart Pearson",
            "credit_id": "52fe43fdc3a368484e0097bd",
            "id": 58478,
            "name": "Kevin Nealon",
            "order": 2,
            "profile_path": "/aVp6F3hliJp7dOZsIdwTRIaRx71.jpg"
           },
           {
            "cast_id": 7,
            "character": "Ricky Dillman",
            "credit_id": "52fe43fdc3a368484e0097c1",
            "id": 58368,
            "name": "Robert Hoffman",
            "order": 3,
            "profile_path": "/gNSHIaTf5pea05qolpKpufYqT3f.jpg"
           },
           {
            "cast_id": 8,
            "character": "Rose Pearson",
            "credit_id": "52fe43fdc3a368484e0097c5",
            "id": 45863,
            "name": "Doris Roberts",
            "order": 4,
            "profile_path": "/4J9jniy4ZEd6NRTfkzq9prKoEIt.jpg"
           },
           {
            "cast_id": 9,
            "character": "Sheriff Doug Armstrong",
            "credit_id": "52fe43fdc3a368484e0097c9",
            "id": 51857,
            "name": "Tim Meadows",
            "order": 5,
            "profile_path": "/4V8Jde8DuFBnXOFPGjTVxs7lqlt.jpg"
           },
           {
            "cast_id": 10,
            "character": "Hannah Pearson",
            "credit_id": "52fe43fdc3a368484e0097cd",
            "id": 86655,
            "name": "Ashley Boettcher",
            "order": 6,
            "profile_path": "/37FCvTRjK2XgknzppoKJd7jm6RM.jpg"
           },
           {
            "cast_id": 11,
            "character": "Art Pearson",
            "credit_id": "52fe43fdc3a368484e0097d1",
            "id": 86656,
            "name": "Henri Young",
            "order": 7,
            "profile_path": null
           },
           {
            "cast_id": 12,
            "character": "Lee Pearson",
            "credit_id": "52fe43fdc3a368484e0097d5",
            "id": 86657,
            "name": "Regan Young",
            "order": 8,
            "profile_path": null
           },
           {
            "cast_id": 13,
            "character": "Bethany Pearson",
            "credit_id": "52fe43fdc3a368484e0097d9",
            "id": 67600,
            "name": "Ashley Tisdale",
            "order": 9,
            "profile_path": "/bRB3bV2yPDnFtsMBl3NMFAxJBO9.jpg"
           },
           {
            "cast_id": 14,
            "character": "Julie",
            "credit_id": "52fe43fdc3a368484e0097dd",
            "id": 118544,
            "name": "Malese Jow",
            "order": 10,
            "profile_path": "/cT29b1741g4WCHDnJ21akeq0sWO.jpg"
           }
          ],
          "directors": [
           {
            "credit_id": "52fe43fdc3a368484e0097a5",
            "department": "Directing",
            "id": 79656,
            "job": "Director",
            "name": "John Schultz",
            "profile_path": "/ePis8HPrAlCrkry1VMaHxsdrq4u.jpg"
           }
          ],
          "genres": [
           {
            "id": 12,
            "name": "Adventure"
           },
           {
            "id": 35,
            "name": "Comedy"
           },
           {
            "id": 14,
            "name": "Fantasy"
           },
           {
            "id": 878,
            "name": "Science Fiction"
           },
           {
            "id": 10751,
            "name": "Family"
           }
          ],
          "homepage": "http://www.aliensintheatticmovie.com/",
          "id": 20856,
          "imdb_id": "tt0775552",
          "original_language": "en",
          "original_title": "Aliens in the Attic",
          "overview": "It's summer vacation, but the Pearson family kids are stuck at a boring lake house with their nerdy parents. That is until feisty, little, green aliens crash-land on the roof, with plans to conquer the house AND Earth! Using only their wits, courage and video game-playing skills, the youngsters must band together to defeat the aliens and save the world - but the toughest part might be keeping the whole thing a secret from their parents! Featuring an all-star cast including Ashley Tisdale, Andy Richter, Kevin Nealon, Tim Meadows and Doris Roberts, Aliens In The Attic is the most fun you can have on this planet!",
          "popularity": 0.421026047211314,
          "poster_path": "/oxds3BQ99FdOxiR24Z5I7N5ELwv.jpg",
          "production_companies": [
           {
            "id": 306,
            "name": "Twentieth Century Fox Film Corporation"
           },
           {
            "id": 508,
            "name": "Regency Enterprises"
           },
           {
            "id": 1894,
            "name": "Josephson Entertainment"
           },
           {
            "id": 3855,
            "name": "New Upstairs Productions"
           },
           {
            "id": 3856,
            "name": "Upstairs Canada Productions"
           }
          ],
          "production_countries": [
           {
            "iso_3166_1": "CA",
            "name": "Canada"
           },
           {
            "iso_3166_1": "US",
            "name": "United States of America"
           }
          ],
          "release_date": "2009-07-31",
          "revenue": 0,
          "runtime": 86,
          "spoken_languages": [
           {
            "iso_639_1": "en",
            "name": "English"
           }
          ],
          "status": "Released",
          "tagline": "The aliens vs. the Pearsons",
          "title": "Aliens in the Attic",
          "video": false,
          "vote_average": 5.4,
          "vote_count": 63
         }
        },
        {
         "_explanation": {
          "description": "max of:",
          "details": [
           {
            "description": "sum of:",
            "details": [
             {
              "description": "weight(title:with in 371) [PerFieldSimilarity], result of:",
              "details": [
               {
                "description": "score(freq=1.0), computed as boost * idf * tf from:",
                "details": [
                 {
                  "description": "boost",
                  "details": [],
                  "value": 22
                 },
                 {
                  "description": "idf, computed as log(1 + (N - n + 0.5) / (n + 0.5)) from:",
                  "details": [
                   {
                    "description": "n, number of documents containing term",
                    "details": [],
                    "value": 28
                   },
                   {
                    "description": "N, total number of documents with field",
                    "details": [],
                    "value": 3051
                   }
                  ],
                  "value": 4.6736484
                 },
                 {
                  "description": "tf, computed as freq / (freq + k1 * (1 - b + b * dl / avgdl)) from:",
                  "details": [
                   {
                    "description": "freq, occurrences of term within document",
                    "details": [],
                    "value": 1
                   },
                   {
                    "description": "k1, term saturation parameter",
                    "details": [],
                    "value": 1.2
                   },
                   {
                    "description": "b, length normalization parameter",
                    "details": [],
                    "value": 0.75
                   },
                   {
                    "description": "dl, length of field",
                    "details": [],
                    "value": 3
                   },
                   {
                    "description": "avgdl, average length of field",
                    "details": [],
                    "value": 2.7728612
                   }
                  ],
                  "value": 0.43980724
                 }
                ],
                "value": 45.221096
               }
              ],
              "value": 45.221096
             }
            ],
            "value": 45.221096
           },
           {
            "description": "sum of:",
            "details": [
             {
              "description": "weight(overview:with in 371) [PerFieldSimilarity], result of:",
              "details": [
               {
                "description": "score(freq=1.0), computed as boost * idf * tf from:",
                "details": [
                 {
                  "description": "boost",
                  "details": [],
                  "value": 2.2
                 },
                 {
                  "description": "idf, computed as log(1 + (N - n + 0.5) / (n + 0.5)) from:",
                  "details": [
                   {
                    "description": "n, number of documents containing term",
                    "details": [],
                    "value": 1166
                   },
                   {
                    "description": "N, total number of documents with field",
                    "details": [],
                    "value": 3050
                   }
                  ],
                  "value": 0.9614616
                 },
                 {
                  "description": "tf, computed as freq / (freq + k1 * (1 - b + b * dl / avgdl)) from:",
                  "details": [
                   {
                    "description": "freq, occurrences of term within document",
                    "details": [],
                    "value": 1
                   },
                   {
                    "description": "k1, term saturation parameter",
                    "details": [],
                    "value": 1.2
                   },
                   {
                    "description": "b, length normalization parameter",
                    "details": [],
                    "value": 0.75
                   },
                   {
                    "description": "dl, length of field (approximate)",
                    "details": [],
                    "value": 40
                   },
                   {
                    "description": "avgdl, average length of field",
                    "details": [],
                    "value": 52.963608
                   }
                  ],
                  "value": 0.505124
                 }
                ],
                "value": 1.068446
               }
              ],
              "value": 1.068446
             }
            ],
            "value": 1.068446
           }
          ],
          "value": 45.221096
         },
         "_id": "581",
         "_index": "tmdb",
         "_node": "BLtKDzRQQQC1jz5bUghiYQ",
         "_score": 45.221096,
         "_shard": "[tmdb][0]",
         "_source": {
          "adult": false,
          "backdrop_path": "/gkW2RMlwl4kqaMIDjaAE73rAPpZ.jpg",
          "belongs_to_collection": null,
          "budget": 22000000,
          "cast": [
           {
            "cast_id": 12,
            "character": "Lieutenant Dunbar",
            "credit_id": "52fe4255c3a36847f8016347",
            "id": 1269,
            "name": "Kevin Costner",
            "order": 0,
            "profile_path": "/ybwfOhuuDPJ6NCcX7Y5XJxE6nMs.jpg"
           },
           {
            "cast_id": 13,
            "character": "Stands With A Fist",
            "credit_id": "52fe4255c3a36847f801634b",
            "id": 1581,
            "name": "Mary McDonnell",
            "order": 1,
            "profile_path": "/4NcE9BcnLB3oWns51r9peH8GhN8.jpg"
           },
           {
            "cast_id": 14,
            "character": "Kicking Bird",
            "credit_id": "52fe4255c3a36847f801634f",
            "id": 6804,
            "name": "Graham Greene",
            "order": 2,
            "profile_path": "/vG3j0Phs144Rz2dQnDAYpdhhflG.jpg"
           },
           {
            "cast_id": 15,
            "character": "Wind In His Hair",
            "credit_id": "52fe4255c3a36847f8016353",
            "id": 7853,
            "name": "Rodney A. Grant",
            "order": 3,
            "profile_path": "/zJI1ES5cvy7xtEvRnRURbgW03Bf.jpg"
           },
           {
            "cast_id": 16,
            "character": "Ten Bears",
            "credit_id": "52fe4255c3a36847f8016357",
            "id": 7862,
            "name": "Floyd Red Crow Westerman",
            "order": 4,
            "profile_path": "/rAwnURUoJrIUbQtoRAPbHaTyLcu.jpg"
           },
           {
            "cast_id": 17,
            "character": "Black Shawl",
            "credit_id": "52fe4255c3a36847f801635b",
            "id": 7863,
            "name": "Tantoo Cardinal",
            "order": 5,
            "profile_path": "/2FEYWnf9jbc5VY5fEFiX91vx80k.jpg"
           },
           {
            "cast_id": 18,
            "character": "Timmons",
            "credit_id": "52fe4255c3a36847f801635f",
            "id": 7866,
            "name": "Robert Pastorelli",
            "order": 6,
            "profile_path": "/bgoNfv93PaKf6Pg3mwyxJZN8CVp.jpg"
           },
           {
            "cast_id": 19,
            "character": "Lieutenant Elgin",
            "credit_id": "52fe4255c3a36847f8016363",
            "id": 7867,
            "name": "Charles Rocket",
            "order": 7,
            "profile_path": "/9UJTYqaPaYNPuVTjGd0Cr4XVNqe.jpg"
           },
           {
            "cast_id": 20,
            "character": "Major Fambrough",
            "credit_id": "52fe4255c3a36847f8016367",
            "id": 7868,
            "name": "Maury Chaykin",
            "order": 8,
            "profile_path": "/jhJgkb5P0oAW7QtULjqD2kaN0ez.jpg"
           },
           {
            "cast_id": 21,
            "character": "Stone Calf",
            "credit_id": "52fe4255c3a36847f801636b",
            "id": 7869,
            "name": "Jimmy Herman",
            "order": 9,
            "profile_path": "/edarXZk4BLKdRodLmfGeiZPcHNt.jpg"
           },
           {
            "cast_id": 23,
            "character": "Smiles A Lot",
            "credit_id": "52fe4255c3a36847f8016375",
            "id": 7871,
            "name": "Nathan Lee Chasing His Horse",
            "order": 10,
            "profile_path": "/hQ8i79bGsASGQ3GsOZGAY3PSYn2.jpg"
           },
           {
            "cast_id": 24,
            "character": "Otter",
            "credit_id": "52fe4255c3a36847f8016379",
            "id": 7872,
            "name": "Michael Spears",
            "order": 11,
            "profile_path": "/cAsaHMudiRa0RTooNJ7phkzYchF.jpg"
           },
           {
            "cast_id": 25,
            "character": "Worm",
            "credit_id": "52fe4255c3a36847f801637d",
            "id": 7873,
            "name": "Jason R. Lone Hill",
            "order": 12,
            "profile_path": null
           },
           {
            "cast_id": 26,
            "character": "Spivey",
            "credit_id": "52fe4255c3a36847f8016381",
            "id": 7874,
            "name": "Tony Pierce",
            "order": 13,
            "profile_path": "/nbMYwt5zndejomGFBGepBlhZQID.jpg"
           },
           {
            "cast_id": 27,
            "character": "Pretty Shield",
            "credit_id": "52fe4255c3a36847f8016385",
            "id": 7875,
            "name": "Doris Leader Charge",
            "order": 14,
            "profile_path": "/kxUgWAfdOtMbFH8mPKd7g2gIrOq.jpg"
           },
           {
            "cast_id": 30,
            "character": "Sergeant Pepper",
            "credit_id": "52fe4255c3a36847f8016395",
            "id": 140250,
            "name": "Tom Everett",
            "order": 15,
            "profile_path": "/nxrCAB3xL79EdWLwBUMwXj7FtI3.jpg"
           },
           {
            "cast_id": 31,
            "character": "Sergeant Bauer",
            "credit_id": "52fe4255c3a36847f8016399",
            "id": 21380,
            "name": "Larry Joshua",
            "order": 16,
            "profile_path": "/rWhP4v6mPwRGV4qCdJIC9oOqFn7.jpg"
           },
           {
            "cast_id": 32,
            "character": "Edwards",
            "credit_id": "52fe4255c3a36847f801639d",
            "id": 3206,
            "name": "Kirk Baltz",
            "order": 17,
            "profile_path": "/zCuugN0Lgsi5IKRq9OyYl3vh9pU.jpg"
           },
           {
            "cast_id": 33,
            "character": "Major",
            "credit_id": "52fe4256c3a36847f80163a1",
            "id": 52145,
            "name": "Wayne Grace",
            "order": 18,
            "profile_path": "/cLpzZ67EY36fChyzW83pjynoAfp.jpg"
           },
           {
            "cast_id": 34,
            "character": "General Tide",
            "credit_id": "52fe4256c3a36847f80163a5",
            "id": 14854,
            "name": "Donald Hotton",
            "order": 19,
            "profile_path": "/qCLOFZbktP5X0ChZDrHj5B0qsYN.jpg"
           },
           {
            "cast_id": 35,
            "character": "Christine",
            "credit_id": "52fe4256c3a36847f80163a9",
            "id": 1080276,
            "name": "Annie Costner",
            "order": 20,
            "profile_path": "/vBP2LHJTU48DGKJVOnM0O5DIRhy.jpg"
           },
           {
            "cast_id": 36,
            "character": "Christine's Mother",
            "credit_id": "52fe4256c3a36847f80163ad",
            "id": 1160349,
            "name": "Elisa Daniel",
            "order": 21,
            "profile_path": "/89kTBf4CXmeszbzu1zH0lo5Ryu9.jpg"
           },
           {
            "cast_id": 81,
            "character": "Big Warrior",
            "credit_id": "54be603ac3a3686c6b00f56d",
            "id": 1416085,
            "name": "Percy White Plume",
            "order": 22,
            "profile_path": null
           },
           {
            "cast_id": 82,
            "character": "Escort Warrior",
            "credit_id": "550f3087925141073d00351b",
            "id": 1444164,
            "name": "John Tail",
            "order": 23,
            "profile_path": null
           },
           {
            "cast_id": 83,
            "character": "Sioux #1 / Warrior #1",
            "credit_id": "550f30e7c3a3683eb800320b",
            "id": 4024,
            "name": "Steve Reevis",
            "order": 24,
            "profile_path": "/1jyaStTyO7omrKhRL3Hil3CWbks.jpg"
           },
           {
            "cast_id": 84,
            "character": "Sioux #2 / Warrior #2 (as Sheldon Wolfchild)",
            "credit_id": "550f3132c3a3683eb800320e",
            "id": 240609,
            "name": "Sheldon Peters Wolfchild",
            "order": 25,
            "profile_path": null
           },
           {
            "cast_id": 80,
            "character": "Toughest Pawnee",
            "credit_id": "54be5ff4c3a3684046008304",
            "id": 15853,
            "name": "Wes Studi",
            "order": 26,
            "profile_path": "/xwmhqIx6HU2dACyZ2BxGnCWJoXz.jpg"
           },
           {
            "cast_id": 85,
            "character": "Pawnee #1",
            "credit_id": "550f317792514146a000a903",
            "id": 162972,
            "name": "Buffalo Child",
            "order": 27,
            "profile_path": null
           },
           {
            "cast_id": 86,
            "character": "Pawnee #2",
            "credit_id": "550f3185c3a3681db2009fbf",
            "id": 1444165,
            "name": "Clayton Big Eagle",
            "order": 28,
            "profile_path": null
           },
           {
            "cast_id": 87,
            "character": "Pawnee #3",
            "credit_id": "550f31989251410701003567",
            "id": 1444166,
            "name": "Richard Leader Charge",
            "order": 29,
            "profile_path": null
           },
           {
            "cast_id": 88,
            "character": "Sioux Warrior",
            "credit_id": "550f31aec3a368488600ae3f",
            "id": 1444167,
            "name": "Redwing Ted Nez",
            "order": 30,
            "profile_path": null
           },
           {
            "cast_id": 89,
            "character": "Sioux Warrior",
            "credit_id": "550f31b992514164ac0011cf",
            "id": 1444168,
            "name": "Marvin Holy",
            "order": 31,
            "profile_path": null
           },
           {
            "cast_id": 90,
            "character": "Sioux Courier",
            "credit_id": "550f31c8c3a368488600ae47",
            "id": 1444169,
            "name": "Raymond Newholy",
            "order": 32,
            "profile_path": null
           },
           {
            "cast_id": 91,
            "character": "Kicking Bird's Son",
            "credit_id": "550f31da925141070100356f",
            "id": 1444170,
            "name": "David J. Fuller",
            "order": 33,
            "profile_path": null
           },
           {
            "cast_id": 92,
            "character": "Kicking Bird's Eldest Son",
            "credit_id": "550f31efc3a3683f39003438",
            "id": 1444171,
            "name": "Ryan White Bull",
            "order": 34,
            "profile_path": null
           },
           {
            "cast_id": 93,
            "character": "Kicking Bird's Daughter",
            "credit_id": "550f3206925141073d003544",
            "id": 1444172,
            "name": "Otakuye Conroy",
            "order": 35,
            "profile_path": null
           },
           {
            "cast_id": 94,
            "character": "Village Mother",
            "credit_id": "550f3212c3a3683eb8003217",
            "id": 1444173,
            "name": "Maretta Big Crow",
            "order": 36,
            "profile_path": null
           },
           {
            "cast_id": 95,
            "character": "Guard (as Steve Chambers)",
            "credit_id": "550f327592514166db00128e",
            "id": 139999,
            "name": "Steven Chambers",
            "order": 37,
            "profile_path": null
           },
           {
            "cast_id": 96,
            "character": "General's Aide (as William H. Burton)",
            "credit_id": "550f32ee9251416bd1001154",
            "id": 1412253,
            "name": "William H. Burton Jr.",
            "order": 38,
            "profile_path": null
           },
           {
            "cast_id": 97,
            "character": "Confederate Cavalryman",
            "credit_id": "550f331bc3a3681db2009ff1",
            "id": 1444174,
            "name": "Bill W. Curry",
            "order": 39,
            "profile_path": null
           },
           {
            "cast_id": 98,
            "character": "Confederate Soldier",
            "credit_id": "550f3351925141469900a82c",
            "id": 1444175,
            "name": "Nick Thompson",
            "order": 40,
            "profile_path": null
           },
           {
            "cast_id": 99,
            "character": "Confederate Soldier",
            "credit_id": "550f3363c3a3683eb8003233",
            "id": 1444176,
            "name": "Carter Hanner",
            "order": 41,
            "profile_path": null
           },
           {
            "cast_id": 100,
            "character": "Wagon Driver",
            "credit_id": "550f336f925141469900a833",
            "id": 1444177,
            "name": "Kent Hays",
            "order": 42,
            "profile_path": null
           },
           {
            "cast_id": 101,
            "character": "Union Soldier",
            "credit_id": "550f33b59251416bd1001163",
            "id": 1444178,
            "name": "Robert Goldman",
            "order": 43,
            "profile_path": null
           },
           {
            "cast_id": 102,
            "character": "Tucker",
            "credit_id": "550f33d4c3a3681db200a003",
            "id": 96636,
            "name": "Frank P. Costanza",
            "order": 44,
            "profile_path": null
           },
           {
            "cast_id": 103,
            "character": "Ray",
            "credit_id": "550f33e3c3a3683f39003468",
            "id": 1444179,
            "name": "James A. Mitchell",
            "order": 45,
            "profile_path": null
           },
           {
            "cast_id": 104,
            "character": "Ambush Wagon Driver",
            "credit_id": "550f33f79251416bd100116a",
            "id": 1444180,
            "name": "R. L. Curtin",
            "order": 46,
            "profile_path": null
           },
           {
            "cast_id": 105,
            "character": "Cisco (horse)",
            "credit_id": "550f3416c3a3683f0a00327b",
            "id": 1444181,
            "name": "Justin",
            "order": 47,
            "profile_path": null
           },
           {
            "cast_id": 106,
            "character": "Two Socks (wolf)",
            "credit_id": "550f3434c3a3683f0a003281",
            "id": 1444182,
            "name": "Teddy",
            "order": 48,
            "profile_path": null
           },
           {
            "cast_id": 107,
            "character": "Two Socks (wolf)",
            "credit_id": "550f3492925141065c00359a",
            "id": 1444183,
            "name": "Buck",
            "order": 49,
            "profile_path": null
           }
          ],
          "directors": [
           {
            "credit_id": "52fe4255c3a36847f801630d",
            "department": "Directing",
            "id": 1269,
            "job": "Director",
            "name": "Kevin Costner",
            "profile_path": "/ybwfOhuuDPJ6NCcX7Y5XJxE6nMs.jpg"
           }
          ],
          "genres": [
           {
            "id": 12,
            "name": "Adventure"
           },
           {
            "id": 18,
            "name": "Drama"
           },
           {
            "id": 37,
            "name": "Western"
           }
          ],
          "homepage": "",
          "id": 581,
          "imdb_id": "tt0099348",
          "original_language": "en",
          "original_title": "Dances with Wolves",
          "overview": "Wounded Civil War soldier John Dunbar tries to commit suicide -- and becomes a hero instead. As a reward, he's assigned to his dream post, a remote junction on the Western frontier, and soon makes unlikely friends with the local Sioux tribe.",
          "popularity": 1.53079702533824,
          "poster_path": "/hpmclspug1I8EwKSWhL7pWWltA.jpg",
          "production_companies": [
           {
            "id": 335,
            "name": "Tig Productions"
           },
           {
            "id": 2630,
            "name": "Majestic Films International"
           }
          ],
          "production_countries": [
           {
            "iso_3166_1": "GB",
            "name": "United Kingdom"
           },
           {
            "iso_3166_1": "US",
            "name": "United States of America"
           }
          ],
          "release_date": "1990-11-09",
          "revenue": 424208848,
          "runtime": 181,
          "spoken_languages": [
           {
            "iso_639_1": "en",
            "name": "English"
           }
          ],
          "status": "Released",
          "tagline": "Inside everyone is a frontier waiting to be discovered.",
          "title": "Dances with Wolves",
          "video": false,
          "vote_average": 7.1,
          "vote_count": 301
         }
        },
        {
         "_explanation": {
          "description": "max of:",
          "details": [
           {
            "description": "sum of:",
            "details": [
             {
              "description": "weight(title:with in 56) [PerFieldSimilarity], result of:",
              "details": [
               {
                "description": "score(freq=1.0), computed as boost * idf * tf from:",
                "details": [
                 {
                  "description": "boost",
                  "details": [],
                  "value": 22
                 },
                 {
                  "description": "idf, computed as log(1 + (N - n + 0.5) / (n + 0.5)) from:",
                  "details": [
                   {
                    "description": "n, number of documents containing term",
                    "details": [],
                    "value": 28
                   },
                   {
                    "description": "N, total number of documents with field",
                    "details": [],
                    "value": 3051
                   }
                  ],
                  "value": 4.6736484
                 },
                 {
                  "description": "tf, computed as freq / (freq + k1 * (1 - b + b * dl / avgdl)) from:",
                  "details": [
                   {
                    "description": "freq, occurrences of term within document",
                    "details": [],
                    "value": 1
                   },
                   {
                    "description": "k1, term saturation parameter",
                    "details": [],
                    "value": 1.2
                   },
                   {
                    "description": "b, length normalization parameter",
                    "details": [],
                    "value": 0.75
                   },
                   {
                    "description": "dl, length of field",
                    "details": [],
                    "value": 3
                   },
                   {
                    "description": "avgdl, average length of field",
                    "details": [],
                    "value": 2.7728612
                   }
                  ],
                  "value": 0.43980724
                 }
                ],
                "value": 45.221096
               }
              ],
              "value": 45.221096
             }
            ],
            "value": 45.221096
           }
          ],
          "value": 45.221096
         },
         "_id": "50544",
         "_index": "tmdb",
         "_node": "BLtKDzRQQQC1jz5bUghiYQ",
         "_score": 45.221096,
         "_shard": "[tmdb][0]",
         "_source": {
          "adult": false,
          "backdrop_path": "/liq5ljqURqLiBUgMkNiR388ZuSH.jpg",
          "belongs_to_collection": null,
          "budget": 35000000,
          "cast": [
           {
            "cast_id": 2,
            "character": "Dylan Harper",
            "credit_id": "52fe47cac3a36847f8148831",
            "id": 12111,
            "name": "Justin Timberlake",
            "order": 0,
            "profile_path": "/lB3pku743f3N82AVXz10fGGBAgL.jpg"
           },
           {
            "cast_id": 1,
            "character": "Jamie Rellis",
            "credit_id": "52fe47cac3a36847f814882d",
            "id": 18973,
            "name": "Mila Kunis",
            "order": 1,
            "profile_path": "/bnuXAsWKpQGqoB5SPQ8vuJLqVRV.jpg"
           },
           {
            "cast_id": 11,
            "character": "Lorna",
            "credit_id": "52fe47cbc3a36847f8148857",
            "id": 1276,
            "name": "Patricia Clarkson",
            "order": 2,
            "profile_path": "/10ZSyaUqzUlKTd60HmeiGhlytZG.jpg"
           },
           {
            "cast_id": 9,
            "character": "Tommy Bollinger",
            "credit_id": "52fe47cbc3a36847f814884f",
            "id": 57755,
            "name": "Woody Harrelson",
            "order": 3,
            "profile_path": "/ivfalpnvELPaSILqP6K6rabXfsU.jpg"
           },
           {
            "cast_id": 3,
            "character": "Sammy - Sam the Magnificent",
            "credit_id": "52fe47cac3a36847f8148835",
            "id": 147710,
            "name": "Nolan Gould",
            "order": 4,
            "profile_path": "/xyritJRCjFRZBBua866EanS80st.jpg"
           },
           {
            "cast_id": 8,
            "character": "Himself",
            "credit_id": "52fe47cbc3a36847f814884b",
            "id": 127963,
            "name": "Shaun White",
            "order": 5,
            "profile_path": "/7JqSN7O59LwxN0CIiq7dre6sUHd.jpg"
           },
           {
            "cast_id": 10,
            "character": "Annie Harper",
            "credit_id": "52fe47cbc3a36847f8148853",
            "id": 40279,
            "name": "Jenna Elfman",
            "order": 6,
            "profile_path": "/cTXzciaLL96Pa75HzEr1u1kbfeH.jpg"
           },
           {
            "cast_id": 12,
            "character": "Parker",
            "credit_id": "52fe47cbc3a36847f814885b",
            "id": 23821,
            "name": "Bryan Greenberg",
            "order": 7,
            "profile_path": "/4BtHlLIWrhQy7ISd4rEBDomduxd.jpg"
           },
           {
            "cast_id": 13,
            "character": "Mr. Harper",
            "credit_id": "52fe47cbc3a36847f814885f",
            "id": 28633,
            "name": "Richard Jenkins",
            "order": 8,
            "profile_path": "/iz61iPIgNUp0yk48bRNjEJ5GHO4.jpg"
           },
           {
            "cast_id": 16,
            "character": "Darin Arturo Morena",
            "credit_id": "52fe47cbc3a36847f814886f",
            "id": 17273,
            "name": "Masi Oka",
            "order": 9,
            "profile_path": "/ag0N7t4rr53jgqHwOmlhV3BF1WQ.jpg"
           },
           {
            "cast_id": 17,
            "character": "Quincy",
            "credit_id": "52fe47cbc3a36847f8148873",
            "id": 62861,
            "name": "Andy Samberg",
            "order": 10,
            "profile_path": "/gneiMN0OldoxNfmu6dkcBEy0u2k.jpg"
           },
           {
            "cast_id": 18,
            "character": "Kayla",
            "credit_id": "52fe47cbc3a36847f8148877",
            "id": 54693,
            "name": "Emma Stone",
            "order": 11,
            "profile_path": "/lPyR5mKhdqFmgxaCMJK6w3g1OAT.jpg"
           },
           {
            "cast_id": 19,
            "character": "Hostess",
            "credit_id": "52fe47cbc3a36847f814887b",
            "id": 109046,
            "name": "Tiya Sircar",
            "order": 12,
            "profile_path": "/uqAiFL1P344fWa4cqfQhKWNoUyO.jpg"
           },
           {
            "cast_id": 20,
            "character": "Female Co-Worker",
            "credit_id": "530375c6c3a3685ce732c9e1",
            "id": 154826,
            "name": "Catherine Reitman",
            "order": 13,
            "profile_path": "/g3vfawpUKC0wCPNANg9ib4ZmaZc.jpg"
           }
          ],
          "directors": [
           {
            "credit_id": "52fe47cbc3a36847f814886b",
            "department": "Directing",
            "id": 82511,
            "job": "Director",
            "name": "Will Gluck",
            "profile_path": "/67A9XvitqSXL4w6PftXkG15L0C.jpg"
           }
          ],
          "genres": [
           {
            "id": 35,
            "name": "Comedy"
           }
          ],
          "homepage": "http://www.fwb-movie.com/",
          "id": 50544,
          "imdb_id": "tt1632708",
          "original_language": "en",
          "original_title": "Friends with Benefits",
          "overview": "While trying to avoid the clichés of Hollywood romantic comedies, Dylan and Jamie soon discover however that adding the act of sex to their friendship does lead to complications.",
          "popularity": 0.973281632343643,
          "poster_path": "/tmVuyRSS9RYFs73YGbMnFous7DH.jpg",
          "production_companies": [
           {
            "id": 97,
            "name": "Castle Rock Entertainment"
           },
           {
            "id": 3287,
            "name": "Screen Gems"
           },
           {
            "id": 7291,
            "name": "Olive Bridge Entertainment"
           }
          ],
          "production_countries": [
           {
            "iso_3166_1": "US",
            "name": "United States of America"
           }
          ],
          "release_date": "2011-07-21",
          "revenue": 150483765,
          "runtime": 109,
          "spoken_languages": [
           {
            "iso_639_1": "en",
            "name": "English"
           }
          ],
          "status": "Released",
          "tagline": "Some friends come with a happy ending.",
          "title": "Friends with Benefits",
          "video": false,
          "vote_average": 6.2,
          "vote_count": 619
         }
        },
        {
         "_explanation": {
          "description": "max of:",
          "details": [
           {
            "description": "sum of:",
            "details": [
             {
              "description": "weight(title:with in 292) [PerFieldSimilarity], result of:",
              "details": [
               {
                "description": "score(freq=1.0), computed as boost * idf * tf from:",
                "details": [
                 {
                  "description": "boost",
                  "details": [],
                  "value": 22
                 },
                 {
                  "description": "idf, computed as log(1 + (N - n + 0.5) / (n + 0.5)) from:",
                  "details": [
                   {
                    "description": "n, number of documents containing term",
                    "details": [],
                    "value": 28
                   },
                   {
                    "description": "N, total number of documents with field",
                    "details": [],
                    "value": 3051
                   }
                  ],
                  "value": 4.6736484
                 },
                 {
                  "description": "tf, computed as freq / (freq + k1 * (1 - b + b * dl / avgdl)) from:",
                  "details": [
                   {
                    "description": "freq, occurrences of term within document",
                    "details": [],
                    "value": 1
                   },
                   {
                    "description": "k1, term saturation parameter",
                    "details": [],
                    "value": 1.2
                   },
                   {
                    "description": "b, length normalization parameter",
                    "details": [],
                    "value": 0.75
                   },
                   {
                    "description": "dl, length of field",
                    "details": [],
                    "value": 3
                   },
                   {
                    "description": "avgdl, average length of field",
                    "details": [],
                    "value": 2.7728612
                   }
                  ],
                  "value": 0.43980724
                 }
                ],
                "value": 45.221096
               }
              ],
              "value": 45.221096
             }
            ],
            "value": 45.221096
           }
          ],
          "value": 45.221096
         },
         "_id": "139567",
         "_index": "tmdb",
         "_node": "BLtKDzRQQQC1jz5bUghiYQ",
         "_score": 45.221096,
         "_shard": "[tmdb][0]",
         "_source": {
          "adult": false,
          "backdrop_path": "/cG9WcaappGSq8Yxd90rQ5Gwioyi.jpg",
          "belongs_to_collection": null,
          "budget": 20000000,
          "cast": [
           {
            "cast_id": 1,
            "character": "Mike Cella",
            "credit_id": "52fe4c67c3a368484e1b68f1",
            "id": 62,
            "name": "Bruce Willis",
            "order": 0,
            "profile_path": "/kI1OluWhLJk3pnR19VjOfABpnTY.jpg"
           },
           {
            "cast_id": 2,
            "character": "Jeremy Coleman",
            "credit_id": "52fe4c67c3a368484e1b68f5",
            "id": 19536,
            "name": "Josh Duhamel",
            "order": 1,
            "profile_path": "/hi5OzlZAwf22xRRPLFbKnXNoZ9L.jpg"
           },
           {
            "cast_id": 3,
            "character": "Talia Durham",
            "credit_id": "52fe4c67c3a368484e1b68f9",
            "id": 5916,
            "name": "Rosario Dawson",
            "order": 2,
            "profile_path": "/x4aOj4DYdxtIDpGrxyBD7gljEcf.jpg"
           },
           {
            "cast_id": 4,
            "character": "Neil Hagan",
            "credit_id": "52fe4c67c3a368484e1b68fd",
            "id": 7132,
            "name": "Vincent D'Onofrio",
            "order": 3,
            "profile_path": "/4pgzL6eP5Qdf2PhagqTNVEshv5e.jpg"
           },
           {
            "cast_id": 5,
            "character": "Emilio",
            "credit_id": "52fe4c67c3a368484e1b6901",
            "id": 62644,
            "name": "50 Cent",
            "order": 4,
            "profile_path": "/gsEwsWWtC5xwFCzL2CnPmc24uIO.jpg"
           },
           {
            "cast_id": 6,
            "character": "Harold Gethers",
            "credit_id": "52fe4c67c3a368484e1b6905",
            "id": 31028,
            "name": "Richard Schiff",
            "order": 5,
            "profile_path": "/gHFxL7MIGvmcbg5hhTNrbjIttQN.jpg"
           },
           {
            "cast_id": 7,
            "character": "Boyd",
            "credit_id": "52fe4c67c3a368484e1b6909",
            "id": 980,
            "name": "Vinnie Jones",
            "order": 6,
            "profile_path": "/1QQea9t0JkRVVVbgVtpGAQuf0x5.jpg"
           },
           {
            "cast_id": 8,
            "character": "Craig",
            "credit_id": "52fe4c67c3a368484e1b690d",
            "id": 155743,
            "name": "James Lesure",
            "order": 7,
            "profile_path": "/nDpg0Muebx45YUDM7ROywgVVxeZ.jpg"
           },
           {
            "cast_id": 9,
            "character": "Wallace",
            "credit_id": "52fe4c67c3a368484e1b6911",
            "id": 586935,
            "name": "Quinton Jackson",
            "order": 8,
            "profile_path": "/nhzVZm9QBWQ98HPiCV7PvrCoqFR.jpg"
           },
           {
            "cast_id": 10,
            "character": "Darren",
            "credit_id": "52fe4c67c3a368484e1b6915",
            "id": 91612,
            "name": "Arie Verveen",
            "order": 9,
            "profile_path": "/yh3mOsRXENzK3JJljFlSgX7p6QL.jpg"
           },
           {
            "cast_id": 11,
            "character": "Karen Westlake",
            "credit_id": "52fe4c67c3a368484e1b6919",
            "id": 66579,
            "name": "Bonnie Somerville",
            "order": 10,
            "profile_path": "/a1tjNEX8Tm5WupP9vEdRnpW2s45.jpg"
           },
           {
            "cast_id": 12,
            "character": "Sherrod",
            "credit_id": "52fe4c67c3a368484e1b691d",
            "id": 213058,
            "name": "Nnamdi Asomugha",
            "order": 11,
            "profile_path": null
           },
           {
            "cast_id": 13,
            "character": "Agent Mullens",
            "credit_id": "52fe4c67c3a368484e1b6921",
            "id": 14721,
            "name": "Kevin Dunn",
            "order": 12,
            "profile_path": "/85thH2pUn2tPP97QhnYQI7MBiCW.jpg"
           },
           {
            "cast_id": 14,
            "character": "Sean",
            "credit_id": "52fe4c67c3a368484e1b6925",
            "id": 574380,
            "name": "Danny Epper",
            "order": 13,
            "profile_path": "/51tZpRQ7ECagFytqbdrGMcAW7T.jpg"
           },
           {
            "cast_id": 71,
            "character": "Kane",
            "credit_id": "550bffd092514146a0003417",
            "id": 1055739,
            "name": "Scott A. Martin",
            "order": 14,
            "profile_path": "/5XoslX4ZEsiT8k8qvG5olx65r2W.jpg"
           }
          ],
          "directors": [
           {
            "credit_id": "52fe4c67c3a368484e1b6973",
            "department": "Directing",
            "id": 9556,
            "job": "Director",
            "name": "David Barrett",
            "profile_path": "/ghWOXqNnJIYKH1GDkym7YyUx882.jpg"
           }
          ],
          "genres": [
           {
            "id": 28,
            "name": "Action"
           },
           {
            "id": 80,
            "name": "Crime"
           },
           {
            "id": 18,
            "name": "Drama"
           },
           {
            "id": 53,
            "name": "Thriller"
           }
          ],
          "homepage": "",
          "id": 139567,
          "imdb_id": "tt1925431",
          "original_language": "en",
          "original_title": "Fire With Fire",
          "overview": "A fireman takes an unexpected course of action when a man whom he's been ordered to testify against, after being held up at a local convenience store, threatens him.",
          "popularity": 0.845092321207316,
          "poster_path": "/2F0Y4l7uXIGfDMtfuq2k6b2744w.jpg",
          "production_companies": [
           {
            "id": 46961,
            "name": "Knightsbridge Entertainment"
           },
           {
            "id": 376,
            "name": "Industry Entertainment"
           },
           {
            "id": 3604,
            "name": "Grindstone Entertainment Group"
           },
           {
            "id": 5830,
            "name": "Cheetah Vision"
           },
           {
            "id": 6667,
            "name": "Mandalay Vision"
           },
           {
            "id": 6819,
            "name": "Paradox Entertainment"
           },
           {
            "id": 10405,
            "name": "Emmett/Furla Films"
           },
           {
            "id": 31832,
            "name": "Envision Entertainment"
           }
          ],
          "production_countries": [
           {
            "iso_3166_1": "US",
            "name": "United States of America"
           }
          ],
          "release_date": "2012-08-31",
          "revenue": 0,
          "runtime": 97,
          "spoken_languages": [
           {
            "iso_639_1": "en",
            "name": "English"
           }
          ],
          "status": "Released",
          "tagline": "Revenge has its own set of rules.",
          "title": "Fire with Fire",
          "video": false,
          "vote_average": 5.9,
          "vote_count": 77
         }
        },
        {
         "_explanation": {
          "description": "max of:",
          "details": [
           {
            "description": "sum of:",
            "details": [
             {
              "description": "weight(title:with in 37) [PerFieldSimilarity], result of:",
              "details": [
               {
                "description": "score(freq=1.0), computed as boost * idf * tf from:",
                "details": [
                 {
                  "description": "boost",
                  "details": [],
                  "value": 22
                 },
                 {
                  "description": "idf, computed as log(1 + (N - n + 0.5) / (n + 0.5)) from:",
                  "details": [
                   {
                    "description": "n, number of documents containing term",
                    "details": [],
                    "value": 28
                   },
                   {
                    "description": "N, total number of documents with field",
                    "details": [],
                    "value": 3051
                   }
                  ],
                  "value": 4.6736484
                 },
                 {
                  "description": "tf, computed as freq / (freq + k1 * (1 - b + b * dl / avgdl)) from:",
                  "details": [
                   {
                    "description": "freq, occurrences of term within document",
                    "details": [],
                    "value": 1
                   },
                   {
                    "description": "k1, term saturation parameter",
                    "details": [],
                    "value": 1.2
                   },
                   {
                    "description": "b, length normalization parameter",
                    "details": [],
                    "value": 0.75
                   },
                   {
                    "description": "dl, length of field",
                    "details": [],
                    "value": 3
                   },
                   {
                    "description": "avgdl, average length of field",
                    "details": [],
                    "value": 2.7728612
                   }
                  ],
                  "value": 0.43980724
                 }
                ],
                "value": 45.221096
               }
              ],
              "value": 45.221096
             }
            ],
            "value": 45.221096
           }
          ],
          "value": 45.221096
         },
         "_id": "80038",
         "_index": "tmdb",
         "_node": "BLtKDzRQQQC1jz5bUghiYQ",
         "_score": 45.221096,
         "_shard": "[tmdb][0]",
         "_source": {
          "adult": false,
          "backdrop_path": "/uDT5U5VBn2TVjUQsoV9hxouHmtH.jpg",
          "belongs_to_collection": null,
          "budget": 7251073,
          "cast": [
           {
            "cast_id": 1,
            "character": "Missy",
            "credit_id": "52fe479e9251416c91070493",
            "id": 41091,
            "name": "Kristen Wiig",
            "order": 0,
            "profile_path": "/x5avlvpHlBGGLhzbzuSfmOsMGlw.jpg"
           },
           {
            "cast_id": 2,
            "character": "Ben",
            "credit_id": "52fe479e9251416c91070497",
            "id": 65717,
            "name": "Jon Hamm",
            "order": 1,
            "profile_path": "/7sjEnFaFNOzPeu5GhCeNJWhnOLt.jpg"
           },
           {
            "cast_id": 21,
            "character": "Julie Keller",
            "credit_id": "52fe479f9251416c910704f1",
            "id": 119368,
            "name": "Jennifer Westfeldt",
            "order": 2,
            "profile_path": "/ZCuD043X1SS5yIHXQcPJ8Tg9Vs.jpg"
           },
           {
            "cast_id": 3,
            "character": "Mary Jane",
            "credit_id": "52fe479e9251416c9107049b",
            "id": 19537,
            "name": "Megan Fox",
            "order": 3,
            "profile_path": "/7rq0erGOfRSQeBBqypUyxvMNYhT.jpg"
           },
           {
            "cast_id": 4,
            "character": "Alex",
            "credit_id": "52fe479e9251416c9107049f",
            "id": 40477,
            "name": "Chris O'Dowd",
            "order": 4,
            "profile_path": "/hmTLgS5aT1t1sdg1GfdXM9yYUPI.jpg"
           },
           {
            "cast_id": 5,
            "character": "Leslie",
            "credit_id": "52fe479e9251416c910704a3",
            "id": 52792,
            "name": "Maya Rudolph",
            "order": 5,
            "profile_path": "/qLDuXku39c4uwVf3h2GjFqwZqik.jpg"
           },
           {
            "cast_id": 6,
            "character": "Kurt",
            "credit_id": "52fe479e9251416c910704a7",
            "id": 12833,
            "name": "Edward Burns",
            "order": 6,
            "profile_path": "/jR0Z5bkcYxQ1V603v2RuWJZ4Uew.jpg"
           },
           {
            "cast_id": 7,
            "character": "Jason",
            "credit_id": "52fe479e9251416c910704ab",
            "id": 36801,
            "name": "Adam Scott",
            "order": 7,
            "profile_path": "/5x21CfDeZo2Fq1AOskE1o6vYzlZ.jpg"
           },
           {
            "cast_id": 10,
            "character": "Elaine Keller",
            "credit_id": "52fe479e9251416c910704bb",
            "id": 160328,
            "name": "Lee Bryant",
            "order": 8,
            "profile_path": "/riFEbXO78dRCTxzQ358AVr1m4uD.jpg"
           },
           {
            "cast_id": 11,
            "character": "Marcy Fryman",
            "credit_id": "52fe479e9251416c910704bf",
            "id": 728,
            "name": "Kelly Bishop",
            "order": 9,
            "profile_path": "/rXjKYHafK17IiqgjWvmZYdmpdo9.jpg"
           },
           {
            "cast_id": 12,
            "character": "Phil Fryman",
            "credit_id": "52fe479e9251416c910704c3",
            "id": 115858,
            "name": "Cotter Smith",
            "order": 10,
            "profile_path": "/4lMLsN7hLmtGPqOt626dnui64Cb.jpg"
           }
          ],
          "directors": [
           {
            "credit_id": "52fe479e9251416c910704b1",
            "department": "Directing",
            "id": 119368,
            "job": "Director",
            "name": "Jennifer Westfeldt",
            "profile_path": "/ZCuD043X1SS5yIHXQcPJ8Tg9Vs.jpg"
           }
          ],
          "genres": [
           {
            "id": 35,
            "name": "Comedy"
           },
           {
            "id": 18,
            "name": "Drama"
           },
           {
            "id": 10749,
            "name": "Romance"
           }
          ],
          "homepage": "http://www.friendswithkids.com/#",
          "id": 80038,
          "imdb_id": "tt1720616",
          "original_language": "en",
          "original_title": "Friends with Kids",
          "overview": "Revolves around a pair of best friends in their 30s who observe the effect of having kids has taken on the couples they know. To avoid that toll, the best friends resolve to have a child and then date other people.",
          "popularity": 0.781319300810492,
          "poster_path": "/8P1iId23hDMVQL00k2IbzW46qQG.jpg",
          "production_companies": [
           {
            "id": 6404,
            "name": "Locomotive"
           }
          ],
          "production_countries": [
           {
            "iso_3166_1": "US",
            "name": "United States of America"
           }
          ],
          "release_date": "2011-09-09",
          "revenue": 12186625,
          "runtime": 107,
          "spoken_languages": [
           {
            "iso_639_1": "fr",
            "name": "Français"
           },
           {
            "iso_639_1": "en",
            "name": "English"
           }
          ],
          "status": "Released",
          "tagline": "Family doesn't always go according to plan.",
          "title": "Friends with Kids",
          "video": false,
          "vote_average": 6.1,
          "vote_count": 64
         }
        }
       ],
       "max_score": 85.56929,
       "total": {
        "relation": "eq",
        "value": 1197
       }
      },
      "text/plain": [
       "<IPython.core.display.JSON object>"
      ]
     },
     "execution_count": 13,
     "metadata": {
      "application/json": {
       "expanded": false,
       "root": "root"
      }
     },
     "output_type": "execute_result"
    }
   ],
   "source": [
    "# does not return the Lucene query syntax\n",
    "JSON(search(client, query, explain=True))"
   ]
  },
  {
   "cell_type": "code",
   "execution_count": 38,
   "id": "6fc9593f-0382-46bb-95f7-1b48087cdad8",
   "metadata": {},
   "outputs": [],
   "source": [
    "# validate is not accessible via python module?\n",
    "def validate(query, explain=False, from_=0, size=10):\n",
    "    import requests\n",
    "    resp = requests.get(f\"http://localhost:9200/tmdb/_validate/query?explain\",\n",
    "                 data=json.dumps(query),\n",
    "                 headers={ 'content-type': 'application/json' })\n",
    "    return json.loads(resp.text)\n"
   ]
  },
  {
   "cell_type": "code",
   "execution_count": 39,
   "id": "11598315-87f0-4627-a81f-885298390dae",
   "metadata": {},
   "outputs": [
    {
     "data": {
      "application/json": {
       "_shards": {
        "failed": 0,
        "successful": 1,
        "total": 1
       },
       "explanations": [
        {
         "explanation": "((title:basketball title:with title:cartoon title:aliens)^10.0 | (overview:basketball overview:with overview:cartoon overview:aliens))",
         "index": "tmdb",
         "valid": true
        }
       ],
       "valid": true
      },
      "text/plain": [
       "<IPython.core.display.JSON object>"
      ]
     },
     "execution_count": 39,
     "metadata": {
      "application/json": {
       "expanded": false,
       "root": "root"
      }
     },
     "output_type": "execute_result"
    }
   ],
   "source": [
    "usersSearch = 'basketball with cartoon aliens'\n",
    "query = {\n",
    "   \"query\" : {\n",
    "      \"multi_match\" : {\n",
    "         \"query\": usersSearch,\n",
    "         \"fields\": [\"title^10\",\"overview\"]\n",
    "      }\n",
    "   }\n",
    "}\n",
    "\n",
    "JSON(validate(query))"
   ]
  },
  {
   "cell_type": "code",
   "execution_count": 91,
   "id": "ea82918f-884b-416f-88bc-4de4349493ab",
   "metadata": {},
   "outputs": [],
   "source": [
    "# validate is not accessible via python module?\n",
    "def analyze(query):\n",
    "    import requests\n",
    "    resp = requests.get(f\"http://localhost:9200/tmdb/_analyze\",\n",
    "                 data=json.dumps(query),\n",
    "                 headers = {'content-type': 'application/json' })\n",
    "                \n",
    "    return resp.text\n"
   ]
  },
  {
   "cell_type": "code",
   "execution_count": 97,
   "id": "91e7d7dd-9d96-46dd-bf09-58dac2057ed2",
   "metadata": {},
   "outputs": [
    {
     "name": "stdout",
     "output_type": "stream",
     "text": [
      "<Response [200]>\n"
     ]
    },
    {
     "data": {
      "application/json": {
       "tokens": [
        {
         "end_offset": 4,
         "position": 0,
         "start_offset": 0,
         "token": "fire",
         "type": "<ALPHANUM>"
        },
        {
         "end_offset": 9,
         "position": 1,
         "start_offset": 5,
         "token": "with",
         "type": "<ALPHANUM>"
        },
        {
         "end_offset": 14,
         "position": 2,
         "start_offset": 10,
         "token": "fire",
         "type": "<ALPHANUM>"
        }
       ]
      },
      "text/plain": [
       "<IPython.core.display.JSON object>"
      ]
     },
     "execution_count": 97,
     "metadata": {
      "application/json": {
       "expanded": false,
       "root": "root"
      }
     },
     "output_type": "execute_result"
    }
   ],
   "source": [
    "\n",
    "query = { \"text\": \"Fire with Fire\", \"analyzer\": \"standard\" }\n",
    "JSON(analyze(query))"
   ]
  },
  {
   "cell_type": "markdown",
   "id": "ffef310e-b6d4-4c15-aa06-d519ad19b97a",
   "metadata": {},
   "source": [
    "#### Rescoring"
   ]
  },
  {
   "cell_type": "code",
   "execution_count": 33,
   "id": "b4852a2a",
   "metadata": {},
   "outputs": [
    {
     "data": {
      "text/plain": [
       "'{\"valid\":false,\"error\":\"org.opensearch.common.ParsingException: request does not support [rescore]\"}'"
      ]
     },
     "execution_count": 33,
     "metadata": {},
     "output_type": "execute_result"
    }
   ],
   "source": [
    "\n",
    "usersSearch = 'basketball with cartoon aliens'\n",
    "query = {\n",
    "   \"query\" : {\n",
    "      \"multi_match\" : {\n",
    "         \"query\": usersSearch,\n",
    "         \"fields\": [\"title^10\",\"overview\"]\n",
    "      }\n",
    "   },\n",
    "   \"rescore\" : {\n",
    "      \"window_size\" : 50,\n",
    "      \"query\" : {\n",
    "         \"rescore_query\" : {\n",
    "            \"match_phrase\" : {\n",
    "               \"overview\" : {\n",
    "                  \"query\" : \"michael jordan\",\n",
    "                  \"slop\" : 2\n",
    "               }\n",
    "            }\n",
    "         },\n",
    "         \"query_weight\" : 0.7,\n",
    "         \"rescore_query_weight\" : 2.1\n",
    "      }\n",
    "   }\n",
    "}\n",
    "\n",
    "    \n",
    "validate(query)\n",
    "\n"
   ]
  },
  {
   "cell_type": "code",
   "execution_count": null,
   "id": "72902cef-fa10-4653-8c07-af4b78e5a39a",
   "metadata": {},
   "outputs": [],
   "source": [
    "usersSearch = 'basketball with cartoon aliens'\n",
    "query = {\n",
    "    'query': {\n",
    "        'multi_match': { \n",
    "            'query': usersSearch, #A\n",
    "            'fields': ['title^10', 'overview'], #B\n",
    "        },\n",
    "    },\n",
    "    'size': '10'\n",
    "}\n",
    "print_results_table(search(client, query))\n"
   ]
  },
  {
   "cell_type": "markdown",
   "id": "648225ef",
   "metadata": {},
   "source": [
    "# 2.3.1 Query Validation API"
   ]
  },
  {
   "cell_type": "code",
   "execution_count": null,
   "id": "1e2cfc82",
   "metadata": {},
   "outputs": [],
   "source": [
    "\n",
    "\n",
    "query = {\n",
    "   'query': {\n",
    "        'multi_match': { \n",
    "            'query': usersSearch,  #User's query\n",
    "            'fields': ['title^10', 'overview']\n",
    "        }\n",
    "    }\n",
    "}\n",
    "resp = search(client, query, explain=True)\n",
    "JSON(resp)\n"
   ]
  },
  {
   "cell_type": "markdown",
   "id": "b19249c2-f18c-4de2-8655-6617db57cfd1",
   "metadata": {},
   "source": [
    "# 2.3.3 Debugging Analysis"
   ]
  },
  {
   "cell_type": "code",
   "execution_count": null,
   "id": "2ca64bfa",
   "metadata": {},
   "outputs": [],
   "source": [
    "# Inner Layer of the Onion -- Why did the search engine consider these movies matches? Two sides to this\n",
    "# (1) What tokens are placed in the search engine?\n",
    "# (2) What did the search engine attempt to match exactly?\n",
    "\n",
    "import requests\n",
    "from requests.auth import HTTPBasicAuth\n",
    "basic = HTTPBasicAuth('admin', 'admin')\n",
    "\n",
    "def analyze(body, basic, analyzer=None):\n",
    "    body = { \n",
    "        \"text\": \"Fire with Fire\", \n",
    "        \"field\": \"title\",\n",
    "    }\n",
    "\n",
    "    query_string = \"format=yaml\"\n",
    "    if analyzer != None:\n",
    "        body[\"analyzer\"] = analyzer\n",
    "\n",
    "    resp = requests.post(f'http://localhost:9200/tmdb/_analyze?{query_string}', \n",
    "        data=json.dumps(body), auth=basic, headers={'content-type': 'application/json'})\n",
    "    return resp.text\n",
    "\n",
    "print(analyze(body, basic))"
   ]
  },
  {
   "cell_type": "markdown",
   "id": "42cbd5a8-20ca-4302-8259-428b286577d9",
   "metadata": {},
   "source": [
    "# 2.3.5 -- Solving The Matching Problem"
   ]
  },
  {
   "cell_type": "code",
   "execution_count": null,
   "id": "b643ed9c",
   "metadata": {},
   "outputs": [],
   "source": [
    "mappingSettings = {\n",
    "    'properties': {\n",
    "       'title': { #A\n",
    "           'type': 'string',\n",
    "           'analyzer': 'english'\n",
    "       },\n",
    "       'overview': {\n",
    "           'type': 'string',\n",
    "           'analyzer': 'english'\n",
    "        }\n",
    "    }\n",
    "}\n",
    "\n",
    "reindex(client, mappingSettings=mappingSettings, movieDict=movieDict) \n"
   ]
  },
  {
   "cell_type": "code",
   "execution_count": null,
   "id": "5de9a56a",
   "metadata": {},
   "outputs": [],
   "source": [
    "## Repeat the search"
   ]
  },
  {
   "cell_type": "code",
   "execution_count": null,
   "id": "9c52cc05",
   "metadata": {},
   "outputs": [],
   "source": [
    "usersSearch = 'basketball with cartoon aliens'\n",
    "query = {\n",
    "    'query': {\n",
    "        'multi_match': { \n",
    "            'query': usersSearch, #A\n",
    "            'fields': ['title^10', 'overview'], #B\n",
    "        },\n",
    "    },\n",
    "    'size': '10'\n",
    "}\n",
    "JSON(search(client, query))\n"
   ]
  },
  {
   "cell_type": "code",
   "execution_count": null,
   "id": "3197622c",
   "metadata": {},
   "outputs": [],
   "source": [
    "# 2.4.1\tDecomposing Relevance Score With Lucene’s Explain"
   ]
  },
  {
   "cell_type": "code",
   "execution_count": null,
   "id": "a38fa2f1",
   "metadata": {},
   "outputs": [],
   "source": [
    "query['explain'] = True\n",
    "httpResp = requests.get('http://localhost:9200/tmdb/_search', \n",
    "                        data=json.dumps(query), auth=basic,\n",
    "                        headers={'content-type': 'application/json'})\n",
    "jsonResp = json.loads(httpResp.text)\n",
    "#print(json.dumps(jsonResp['hits']['hits'][0]['_explanation'], indent=True))\n",
    "print(\"Explain for %s\" % jsonResp['hits']['hits'][0]['_source']['title'])\n",
    "print(simplerExplain(jsonResp['hits']['hits'][0]['_explanation']))\n",
    "print(\"Explain for %s\" % jsonResp['hits']['hits'][1]['_source']['title'])\n",
    "print(simplerExplain(jsonResp['hits']['hits'][1]['_explanation']))\n",
    "print(\"Explain for %s\" % jsonResp['hits']['hits'][2]['_source']['title'])\n",
    "print(simplerExplain(jsonResp['hits']['hits'][2]['_explanation']))\n",
    "print(\"Explain for %s\" % jsonResp['hits']['hits'][3]['_source']['title'])\n",
    "print(simplerExplain(jsonResp['hits']['hits'][3]['_explanation']))\n",
    "print(\"Explain for %s\" % jsonResp['hits']['hits'][9]['_source']['title'])\n",
    "print(simplerExplain(jsonResp['hits']['hits'][9]['_explanation']))\n",
    "\n"
   ]
  },
  {
   "cell_type": "markdown",
   "id": "d978c35f-6b2f-406a-b507-30e6a21eca41",
   "metadata": {},
   "source": [
    "# 3.4.4\tFixing Space Jam vs Alien Ranking"
   ]
  },
  {
   "cell_type": "code",
   "execution_count": null,
   "id": "5c7ecef4",
   "metadata": {},
   "outputs": [],
   "source": [
    "query = {\n",
    "    'query': {\n",
    "        'multi_match': { \n",
    "            'query': usersSearch,  #User's query\n",
    "            'fields': ['title^0.1', 'overview'],\n",
    "        }\n",
    "    },\n",
    "    'explain': True\n",
    "}\n",
    "JSON(search(client, query))\n"
   ]
  }
 ],
 "metadata": {
  "kernelspec": {
   "display_name": "Python 3 (ipykernel)",
   "language": "python",
   "name": "python3"
  },
  "language_info": {
   "codemirror_mode": {
    "name": "ipython",
    "version": 3
   },
   "file_extension": ".py",
   "mimetype": "text/x-python",
   "name": "python",
   "nbconvert_exporter": "python",
   "pygments_lexer": "ipython3",
   "version": "3.10.5"
  }
 },
 "nbformat": 4,
 "nbformat_minor": 5
}
